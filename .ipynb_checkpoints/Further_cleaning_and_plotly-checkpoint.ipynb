{
 "cells": [
  {
   "cell_type": "code",
   "execution_count": 1,
   "id": "e53509e0",
   "metadata": {},
   "outputs": [
    {
     "name": "stdout",
     "output_type": "stream",
     "text": [
      "     State  ANSI Affected by  Year state_code  Pct of Colonies Impacted\n",
      "0  Alabama     1     Disease  2015         AL                      0.05\n",
      "1  Alabama     1     Disease  2016         AL                      1.20\n",
      "2  Alabama     1     Disease  2017         AL                      2.25\n",
      "3  Alabama     1     Disease  2018         AL                      1.30\n",
      "4  Alabama     1     Disease  2019         AL                      1.80\n"
     ]
    }
   ],
   "source": [
    "import pandas as pd\n",
    "import plotly.express as px  # (version 4.7.0 or higher)\n",
    "import plotly.graph_objects as go\n",
    "from dash import Dash, dcc, html, Input, Output  # pip install dash (version 2.0.0 or higher)\n",
    "\n",
    "# -- Import and clean data (importing csv into pandas)\n",
    "# df = pd.read_csv(\"intro_bees.csv\")\n",
    "df = pd.read_csv(\"https://raw.githubusercontent.com/Coding-with-Adam/Dash-by-Plotly/master/Other/Dash_Introduction/intro_bees.csv\")\n",
    "\n",
    "df = df.groupby(['State', 'ANSI', 'Affected by', 'Year', 'state_code'])[['Pct of Colonies Impacted']].mean()\n",
    "df.reset_index(inplace=True)\n",
    "print(df[:5])\n",
    "\n"
   ]
  },
  {
   "cell_type": "code",
   "execution_count": 2,
   "id": "640fccdd",
   "metadata": {},
   "outputs": [
    {
     "data": {
      "text/html": [
       "<div>\n",
       "<style scoped>\n",
       "    .dataframe tbody tr th:only-of-type {\n",
       "        vertical-align: middle;\n",
       "    }\n",
       "\n",
       "    .dataframe tbody tr th {\n",
       "        vertical-align: top;\n",
       "    }\n",
       "\n",
       "    .dataframe thead th {\n",
       "        text-align: right;\n",
       "    }\n",
       "</style>\n",
       "<table border=\"1\" class=\"dataframe\">\n",
       "  <thead>\n",
       "    <tr style=\"text-align: right;\">\n",
       "      <th></th>\n",
       "      <th>country</th>\n",
       "      <th>year</th>\n",
       "      <th>no_schooling</th>\n",
       "      <th>total_primary</th>\n",
       "      <th>completed_primary</th>\n",
       "      <th>total_secondary</th>\n",
       "      <th>completed_secondary</th>\n",
       "      <th>total_tertiary</th>\n",
       "      <th>completed_tertiary</th>\n",
       "      <th>avg_years_total_schooling</th>\n",
       "      <th>avg_years_primary_schooling</th>\n",
       "      <th>avg_years_secondary_schooling</th>\n",
       "      <th>avg_years_tertiary_schooling</th>\n",
       "      <th>population_1000s</th>\n",
       "      <th>region</th>\n",
       "    </tr>\n",
       "  </thead>\n",
       "  <tbody>\n",
       "    <tr>\n",
       "      <th>0</th>\n",
       "      <td>Australia</td>\n",
       "      <td>1870</td>\n",
       "      <td>50.5</td>\n",
       "      <td>49.3</td>\n",
       "      <td>8.8</td>\n",
       "      <td>0.1</td>\n",
       "      <td>0.0</td>\n",
       "      <td>0.1</td>\n",
       "      <td>0.0</td>\n",
       "      <td>1.77</td>\n",
       "      <td>1.76</td>\n",
       "      <td>0.01</td>\n",
       "      <td>0.00</td>\n",
       "      <td>932.0</td>\n",
       "      <td>Advanced Economies</td>\n",
       "    </tr>\n",
       "    <tr>\n",
       "      <th>1</th>\n",
       "      <td>Australia</td>\n",
       "      <td>1875</td>\n",
       "      <td>46.0</td>\n",
       "      <td>53.8</td>\n",
       "      <td>9.6</td>\n",
       "      <td>0.1</td>\n",
       "      <td>0.0</td>\n",
       "      <td>0.1</td>\n",
       "      <td>0.0</td>\n",
       "      <td>1.93</td>\n",
       "      <td>1.92</td>\n",
       "      <td>0.01</td>\n",
       "      <td>0.00</td>\n",
       "      <td>1074.0</td>\n",
       "      <td>Advanced Economies</td>\n",
       "    </tr>\n",
       "    <tr>\n",
       "      <th>2</th>\n",
       "      <td>Australia</td>\n",
       "      <td>1880</td>\n",
       "      <td>41.5</td>\n",
       "      <td>58.0</td>\n",
       "      <td>9.7</td>\n",
       "      <td>0.3</td>\n",
       "      <td>0.1</td>\n",
       "      <td>0.2</td>\n",
       "      <td>0.1</td>\n",
       "      <td>2.08</td>\n",
       "      <td>2.06</td>\n",
       "      <td>0.02</td>\n",
       "      <td>0.00</td>\n",
       "      <td>1314.0</td>\n",
       "      <td>Advanced Economies</td>\n",
       "    </tr>\n",
       "    <tr>\n",
       "      <th>3</th>\n",
       "      <td>Australia</td>\n",
       "      <td>1885</td>\n",
       "      <td>36.1</td>\n",
       "      <td>61.7</td>\n",
       "      <td>11.3</td>\n",
       "      <td>2.0</td>\n",
       "      <td>0.4</td>\n",
       "      <td>0.2</td>\n",
       "      <td>0.1</td>\n",
       "      <td>2.41</td>\n",
       "      <td>2.32</td>\n",
       "      <td>0.08</td>\n",
       "      <td>0.01</td>\n",
       "      <td>1569.0</td>\n",
       "      <td>Advanced Economies</td>\n",
       "    </tr>\n",
       "    <tr>\n",
       "      <th>4</th>\n",
       "      <td>Australia</td>\n",
       "      <td>1890</td>\n",
       "      <td>29.7</td>\n",
       "      <td>66.6</td>\n",
       "      <td>13.3</td>\n",
       "      <td>3.5</td>\n",
       "      <td>0.7</td>\n",
       "      <td>0.3</td>\n",
       "      <td>0.1</td>\n",
       "      <td>2.76</td>\n",
       "      <td>2.62</td>\n",
       "      <td>0.13</td>\n",
       "      <td>0.01</td>\n",
       "      <td>1895.0</td>\n",
       "      <td>Advanced Economies</td>\n",
       "    </tr>\n",
       "    <tr>\n",
       "      <th>...</th>\n",
       "      <td>...</td>\n",
       "      <td>...</td>\n",
       "      <td>...</td>\n",
       "      <td>...</td>\n",
       "      <td>...</td>\n",
       "      <td>...</td>\n",
       "      <td>...</td>\n",
       "      <td>...</td>\n",
       "      <td>...</td>\n",
       "      <td>...</td>\n",
       "      <td>...</td>\n",
       "      <td>...</td>\n",
       "      <td>...</td>\n",
       "      <td>...</td>\n",
       "      <td>...</td>\n",
       "    </tr>\n",
       "    <tr>\n",
       "      <th>2928</th>\n",
       "      <td>Zimbabwe</td>\n",
       "      <td>1990</td>\n",
       "      <td>12.2</td>\n",
       "      <td>47.9</td>\n",
       "      <td>21.8</td>\n",
       "      <td>36.1</td>\n",
       "      <td>21.8</td>\n",
       "      <td>3.8</td>\n",
       "      <td>2.3</td>\n",
       "      <td>5.97</td>\n",
       "      <td>3.74</td>\n",
       "      <td>2.11</td>\n",
       "      <td>0.12</td>\n",
       "      <td>5399.0</td>\n",
       "      <td>Sub-Saharan Africa</td>\n",
       "    </tr>\n",
       "    <tr>\n",
       "      <th>2929</th>\n",
       "      <td>Zimbabwe</td>\n",
       "      <td>1995</td>\n",
       "      <td>8.8</td>\n",
       "      <td>41.8</td>\n",
       "      <td>21.5</td>\n",
       "      <td>46.8</td>\n",
       "      <td>18.9</td>\n",
       "      <td>2.6</td>\n",
       "      <td>1.5</td>\n",
       "      <td>6.85</td>\n",
       "      <td>4.46</td>\n",
       "      <td>2.31</td>\n",
       "      <td>0.08</td>\n",
       "      <td>6172.0</td>\n",
       "      <td>Sub-Saharan Africa</td>\n",
       "    </tr>\n",
       "    <tr>\n",
       "      <th>2930</th>\n",
       "      <td>Zimbabwe</td>\n",
       "      <td>2000</td>\n",
       "      <td>6.6</td>\n",
       "      <td>36.3</td>\n",
       "      <td>19.9</td>\n",
       "      <td>56.0</td>\n",
       "      <td>7.3</td>\n",
       "      <td>1.0</td>\n",
       "      <td>0.7</td>\n",
       "      <td>7.26</td>\n",
       "      <td>5.05</td>\n",
       "      <td>2.18</td>\n",
       "      <td>0.03</td>\n",
       "      <td>6813.0</td>\n",
       "      <td>Sub-Saharan Africa</td>\n",
       "    </tr>\n",
       "    <tr>\n",
       "      <th>2931</th>\n",
       "      <td>Zimbabwe</td>\n",
       "      <td>2005</td>\n",
       "      <td>5.4</td>\n",
       "      <td>36.3</td>\n",
       "      <td>22.3</td>\n",
       "      <td>57.4</td>\n",
       "      <td>6.7</td>\n",
       "      <td>0.9</td>\n",
       "      <td>0.6</td>\n",
       "      <td>7.65</td>\n",
       "      <td>5.50</td>\n",
       "      <td>2.13</td>\n",
       "      <td>0.03</td>\n",
       "      <td>7336.0</td>\n",
       "      <td>Sub-Saharan Africa</td>\n",
       "    </tr>\n",
       "    <tr>\n",
       "      <th>2932</th>\n",
       "      <td>Zimbabwe</td>\n",
       "      <td>2010</td>\n",
       "      <td>3.6</td>\n",
       "      <td>38.1</td>\n",
       "      <td>26.5</td>\n",
       "      <td>57.5</td>\n",
       "      <td>5.9</td>\n",
       "      <td>0.7</td>\n",
       "      <td>0.5</td>\n",
       "      <td>7.86</td>\n",
       "      <td>5.89</td>\n",
       "      <td>1.94</td>\n",
       "      <td>0.02</td>\n",
       "      <td>7814.0</td>\n",
       "      <td>Sub-Saharan Africa</td>\n",
       "    </tr>\n",
       "  </tbody>\n",
       "</table>\n",
       "<p>2581 rows × 15 columns</p>\n",
       "</div>"
      ],
      "text/plain": [
       "        country  year  no_schooling  total_primary  completed_primary  \\\n",
       "0     Australia  1870          50.5           49.3                8.8   \n",
       "1     Australia  1875          46.0           53.8                9.6   \n",
       "2     Australia  1880          41.5           58.0                9.7   \n",
       "3     Australia  1885          36.1           61.7               11.3   \n",
       "4     Australia  1890          29.7           66.6               13.3   \n",
       "...         ...   ...           ...            ...                ...   \n",
       "2928   Zimbabwe  1990          12.2           47.9               21.8   \n",
       "2929   Zimbabwe  1995           8.8           41.8               21.5   \n",
       "2930   Zimbabwe  2000           6.6           36.3               19.9   \n",
       "2931   Zimbabwe  2005           5.4           36.3               22.3   \n",
       "2932   Zimbabwe  2010           3.6           38.1               26.5   \n",
       "\n",
       "      total_secondary  completed_secondary  total_tertiary  \\\n",
       "0                 0.1                  0.0             0.1   \n",
       "1                 0.1                  0.0             0.1   \n",
       "2                 0.3                  0.1             0.2   \n",
       "3                 2.0                  0.4             0.2   \n",
       "4                 3.5                  0.7             0.3   \n",
       "...               ...                  ...             ...   \n",
       "2928             36.1                 21.8             3.8   \n",
       "2929             46.8                 18.9             2.6   \n",
       "2930             56.0                  7.3             1.0   \n",
       "2931             57.4                  6.7             0.9   \n",
       "2932             57.5                  5.9             0.7   \n",
       "\n",
       "      completed_tertiary  avg_years_total_schooling  \\\n",
       "0                    0.0                       1.77   \n",
       "1                    0.0                       1.93   \n",
       "2                    0.1                       2.08   \n",
       "3                    0.1                       2.41   \n",
       "4                    0.1                       2.76   \n",
       "...                  ...                        ...   \n",
       "2928                 2.3                       5.97   \n",
       "2929                 1.5                       6.85   \n",
       "2930                 0.7                       7.26   \n",
       "2931                 0.6                       7.65   \n",
       "2932                 0.5                       7.86   \n",
       "\n",
       "      avg_years_primary_schooling  avg_years_secondary_schooling  \\\n",
       "0                            1.76                           0.01   \n",
       "1                            1.92                           0.01   \n",
       "2                            2.06                           0.02   \n",
       "3                            2.32                           0.08   \n",
       "4                            2.62                           0.13   \n",
       "...                           ...                            ...   \n",
       "2928                         3.74                           2.11   \n",
       "2929                         4.46                           2.31   \n",
       "2930                         5.05                           2.18   \n",
       "2931                         5.50                           2.13   \n",
       "2932                         5.89                           1.94   \n",
       "\n",
       "      avg_years_tertiary_schooling  population_1000s              region  \n",
       "0                             0.00             932.0  Advanced Economies  \n",
       "1                             0.00            1074.0  Advanced Economies  \n",
       "2                             0.00            1314.0  Advanced Economies  \n",
       "3                             0.01            1569.0  Advanced Economies  \n",
       "4                             0.01            1895.0  Advanced Economies  \n",
       "...                            ...               ...                 ...  \n",
       "2928                          0.12            5399.0  Sub-Saharan Africa  \n",
       "2929                          0.08            6172.0  Sub-Saharan Africa  \n",
       "2930                          0.03            6813.0  Sub-Saharan Africa  \n",
       "2931                          0.03            7336.0  Sub-Saharan Africa  \n",
       "2932                          0.02            7814.0  Sub-Saharan Africa  \n",
       "\n",
       "[2581 rows x 15 columns]"
      ]
     },
     "execution_count": 2,
     "metadata": {},
     "output_type": "execute_result"
    }
   ],
   "source": [
    "df2 = pd.read_csv('global_education_cleaned.csv',  index_col=0)\n",
    "df2"
   ]
  },
  {
   "cell_type": "markdown",
   "id": "e89cd428",
   "metadata": {},
   "source": [
    "Need to change the group by based on the thing selected from the map."
   ]
  },
  {
   "cell_type": "code",
   "execution_count": 53,
   "id": "6ea0648c",
   "metadata": {},
   "outputs": [],
   "source": [
    "df2['country'].replace({'Turkey': 'Türkiye', 'United Kingdom': 'United Kingdom of Great Britain and Northern Ireland', 'Hong Kong, China': 'Hong Kong', 'Republic of Korea': 'Korea, Republic of', 'Bolivia':'Bolivia, Plurinational State of', 'Dominican Rep.': 'Dominican Republic', 'Venezuela': 'Venezuela, Bolivarian Republic of', 'Iran': 'Iran, Islamic Republic of', 'Syria': 'Syrian Arab Republic', 'Reunion': 'Réunion'}, inplace=True)"
   ]
  },
  {
   "cell_type": "code",
   "execution_count": 29,
   "id": "51f265b6",
   "metadata": {},
   "outputs": [
    {
     "name": "stdout",
     "output_type": "stream",
     "text": [
      "Country(name='Afghanistan', alpha2='AF', alpha3='AFG', numeric='004', apolitical_name='Afghanistan')\n",
      "Country(name='Åland Islands', alpha2='AX', alpha3='ALA', numeric='248', apolitical_name='Åland Islands')\n",
      "Country(name='Albania', alpha2='AL', alpha3='ALB', numeric='008', apolitical_name='Albania')\n",
      "Country(name='Algeria', alpha2='DZ', alpha3='DZA', numeric='012', apolitical_name='Algeria')\n",
      "Country(name='American Samoa', alpha2='AS', alpha3='ASM', numeric='016', apolitical_name='American Samoa')\n",
      "Country(name='Andorra', alpha2='AD', alpha3='AND', numeric='020', apolitical_name='Andorra')\n",
      "Country(name='Angola', alpha2='AO', alpha3='AGO', numeric='024', apolitical_name='Angola')\n",
      "Country(name='Anguilla', alpha2='AI', alpha3='AIA', numeric='660', apolitical_name='Anguilla')\n",
      "Country(name='Antarctica', alpha2='AQ', alpha3='ATA', numeric='010', apolitical_name='Antarctica')\n",
      "Country(name='Antigua and Barbuda', alpha2='AG', alpha3='ATG', numeric='028', apolitical_name='Antigua and Barbuda')\n",
      "Country(name='Argentina', alpha2='AR', alpha3='ARG', numeric='032', apolitical_name='Argentina')\n",
      "Country(name='Armenia', alpha2='AM', alpha3='ARM', numeric='051', apolitical_name='Armenia')\n",
      "Country(name='Aruba', alpha2='AW', alpha3='ABW', numeric='533', apolitical_name='Aruba')\n",
      "Country(name='Australia', alpha2='AU', alpha3='AUS', numeric='036', apolitical_name='Australia')\n",
      "Country(name='Austria', alpha2='AT', alpha3='AUT', numeric='040', apolitical_name='Austria')\n",
      "Country(name='Azerbaijan', alpha2='AZ', alpha3='AZE', numeric='031', apolitical_name='Azerbaijan')\n",
      "Country(name='Bahamas', alpha2='BS', alpha3='BHS', numeric='044', apolitical_name='Bahamas')\n",
      "Country(name='Bahrain', alpha2='BH', alpha3='BHR', numeric='048', apolitical_name='Bahrain')\n",
      "Country(name='Bangladesh', alpha2='BD', alpha3='BGD', numeric='050', apolitical_name='Bangladesh')\n",
      "Country(name='Barbados', alpha2='BB', alpha3='BRB', numeric='052', apolitical_name='Barbados')\n",
      "Country(name='Belarus', alpha2='BY', alpha3='BLR', numeric='112', apolitical_name='Belarus')\n",
      "Country(name='Belgium', alpha2='BE', alpha3='BEL', numeric='056', apolitical_name='Belgium')\n",
      "Country(name='Belize', alpha2='BZ', alpha3='BLZ', numeric='084', apolitical_name='Belize')\n",
      "Country(name='Benin', alpha2='BJ', alpha3='BEN', numeric='204', apolitical_name='Benin')\n",
      "Country(name='Bermuda', alpha2='BM', alpha3='BMU', numeric='060', apolitical_name='Bermuda')\n",
      "Country(name='Bhutan', alpha2='BT', alpha3='BTN', numeric='064', apolitical_name='Bhutan')\n",
      "Country(name='Bolivia, Plurinational State of', alpha2='BO', alpha3='BOL', numeric='068', apolitical_name='Bolivia, Plurinational State of')\n",
      "Country(name='Bonaire, Sint Eustatius and Saba', alpha2='BQ', alpha3='BES', numeric='535', apolitical_name='Bonaire, Sint Eustatius and Saba')\n",
      "Country(name='Bosnia and Herzegovina', alpha2='BA', alpha3='BIH', numeric='070', apolitical_name='Bosnia and Herzegovina')\n",
      "Country(name='Botswana', alpha2='BW', alpha3='BWA', numeric='072', apolitical_name='Botswana')\n",
      "Country(name='Bouvet Island', alpha2='BV', alpha3='BVT', numeric='074', apolitical_name='Bouvet Island')\n",
      "Country(name='Brazil', alpha2='BR', alpha3='BRA', numeric='076', apolitical_name='Brazil')\n",
      "Country(name='British Indian Ocean Territory', alpha2='IO', alpha3='IOT', numeric='086', apolitical_name='British Indian Ocean Territory')\n",
      "Country(name='Brunei Darussalam', alpha2='BN', alpha3='BRN', numeric='096', apolitical_name='Brunei Darussalam')\n",
      "Country(name='Bulgaria', alpha2='BG', alpha3='BGR', numeric='100', apolitical_name='Bulgaria')\n",
      "Country(name='Burkina Faso', alpha2='BF', alpha3='BFA', numeric='854', apolitical_name='Burkina Faso')\n",
      "Country(name='Burundi', alpha2='BI', alpha3='BDI', numeric='108', apolitical_name='Burundi')\n",
      "Country(name='Cambodia', alpha2='KH', alpha3='KHM', numeric='116', apolitical_name='Cambodia')\n",
      "Country(name='Cameroon', alpha2='CM', alpha3='CMR', numeric='120', apolitical_name='Cameroon')\n",
      "Country(name='Canada', alpha2='CA', alpha3='CAN', numeric='124', apolitical_name='Canada')\n",
      "Country(name='Cabo Verde', alpha2='CV', alpha3='CPV', numeric='132', apolitical_name='Cabo Verde')\n",
      "Country(name='Cayman Islands', alpha2='KY', alpha3='CYM', numeric='136', apolitical_name='Cayman Islands')\n",
      "Country(name='Central African Republic', alpha2='CF', alpha3='CAF', numeric='140', apolitical_name='Central African Republic')\n",
      "Country(name='Chad', alpha2='TD', alpha3='TCD', numeric='148', apolitical_name='Chad')\n",
      "Country(name='Chile', alpha2='CL', alpha3='CHL', numeric='152', apolitical_name='Chile')\n",
      "Country(name='China', alpha2='CN', alpha3='CHN', numeric='156', apolitical_name='China')\n",
      "Country(name='Christmas Island', alpha2='CX', alpha3='CXR', numeric='162', apolitical_name='Christmas Island')\n",
      "Country(name='Cocos (Keeling) Islands', alpha2='CC', alpha3='CCK', numeric='166', apolitical_name='Cocos (Keeling) Islands')\n",
      "Country(name='Colombia', alpha2='CO', alpha3='COL', numeric='170', apolitical_name='Colombia')\n",
      "Country(name='Comoros', alpha2='KM', alpha3='COM', numeric='174', apolitical_name='Comoros')\n",
      "Country(name='Congo', alpha2='CG', alpha3='COG', numeric='178', apolitical_name='Congo')\n",
      "Country(name='Congo, Democratic Republic of the', alpha2='CD', alpha3='COD', numeric='180', apolitical_name='Congo, Democratic Republic of the')\n",
      "Country(name='Cook Islands', alpha2='CK', alpha3='COK', numeric='184', apolitical_name='Cook Islands')\n",
      "Country(name='Costa Rica', alpha2='CR', alpha3='CRI', numeric='188', apolitical_name='Costa Rica')\n",
      "Country(name=\"Côte d'Ivoire\", alpha2='CI', alpha3='CIV', numeric='384', apolitical_name=\"Côte d'Ivoire\")\n",
      "Country(name='Croatia', alpha2='HR', alpha3='HRV', numeric='191', apolitical_name='Croatia')\n",
      "Country(name='Cuba', alpha2='CU', alpha3='CUB', numeric='192', apolitical_name='Cuba')\n",
      "Country(name='Curaçao', alpha2='CW', alpha3='CUW', numeric='531', apolitical_name='Curaçao')\n",
      "Country(name='Cyprus', alpha2='CY', alpha3='CYP', numeric='196', apolitical_name='Cyprus')\n",
      "Country(name='Czechia', alpha2='CZ', alpha3='CZE', numeric='203', apolitical_name='Czechia')\n",
      "Country(name='Denmark', alpha2='DK', alpha3='DNK', numeric='208', apolitical_name='Denmark')\n",
      "Country(name='Djibouti', alpha2='DJ', alpha3='DJI', numeric='262', apolitical_name='Djibouti')\n",
      "Country(name='Dominica', alpha2='DM', alpha3='DMA', numeric='212', apolitical_name='Dominica')\n",
      "Country(name='Dominican Republic', alpha2='DO', alpha3='DOM', numeric='214', apolitical_name='Dominican Republic')\n",
      "Country(name='Ecuador', alpha2='EC', alpha3='ECU', numeric='218', apolitical_name='Ecuador')\n",
      "Country(name='Egypt', alpha2='EG', alpha3='EGY', numeric='818', apolitical_name='Egypt')\n",
      "Country(name='El Salvador', alpha2='SV', alpha3='SLV', numeric='222', apolitical_name='El Salvador')\n",
      "Country(name='Equatorial Guinea', alpha2='GQ', alpha3='GNQ', numeric='226', apolitical_name='Equatorial Guinea')\n",
      "Country(name='Eritrea', alpha2='ER', alpha3='ERI', numeric='232', apolitical_name='Eritrea')\n",
      "Country(name='Estonia', alpha2='EE', alpha3='EST', numeric='233', apolitical_name='Estonia')\n",
      "Country(name='Ethiopia', alpha2='ET', alpha3='ETH', numeric='231', apolitical_name='Ethiopia')\n",
      "Country(name='Falkland Islands (Malvinas)', alpha2='FK', alpha3='FLK', numeric='238', apolitical_name='Falkland Islands (Malvinas)')\n",
      "Country(name='Faroe Islands', alpha2='FO', alpha3='FRO', numeric='234', apolitical_name='Faroe Islands')\n",
      "Country(name='Fiji', alpha2='FJ', alpha3='FJI', numeric='242', apolitical_name='Fiji')\n",
      "Country(name='Finland', alpha2='FI', alpha3='FIN', numeric='246', apolitical_name='Finland')\n",
      "Country(name='France', alpha2='FR', alpha3='FRA', numeric='250', apolitical_name='France')\n",
      "Country(name='French Guiana', alpha2='GF', alpha3='GUF', numeric='254', apolitical_name='French Guiana')\n",
      "Country(name='French Polynesia', alpha2='PF', alpha3='PYF', numeric='258', apolitical_name='French Polynesia')\n",
      "Country(name='French Southern Territories', alpha2='TF', alpha3='ATF', numeric='260', apolitical_name='French Southern Territories')\n",
      "Country(name='Gabon', alpha2='GA', alpha3='GAB', numeric='266', apolitical_name='Gabon')\n",
      "Country(name='Gambia', alpha2='GM', alpha3='GMB', numeric='270', apolitical_name='Gambia')\n",
      "Country(name='Georgia', alpha2='GE', alpha3='GEO', numeric='268', apolitical_name='Georgia')\n",
      "Country(name='Germany', alpha2='DE', alpha3='DEU', numeric='276', apolitical_name='Germany')\n",
      "Country(name='Ghana', alpha2='GH', alpha3='GHA', numeric='288', apolitical_name='Ghana')\n",
      "Country(name='Gibraltar', alpha2='GI', alpha3='GIB', numeric='292', apolitical_name='Gibraltar')\n",
      "Country(name='Greece', alpha2='GR', alpha3='GRC', numeric='300', apolitical_name='Greece')\n",
      "Country(name='Greenland', alpha2='GL', alpha3='GRL', numeric='304', apolitical_name='Greenland')\n",
      "Country(name='Grenada', alpha2='GD', alpha3='GRD', numeric='308', apolitical_name='Grenada')\n",
      "Country(name='Guadeloupe', alpha2='GP', alpha3='GLP', numeric='312', apolitical_name='Guadeloupe')\n",
      "Country(name='Guam', alpha2='GU', alpha3='GUM', numeric='316', apolitical_name='Guam')\n",
      "Country(name='Guatemala', alpha2='GT', alpha3='GTM', numeric='320', apolitical_name='Guatemala')\n",
      "Country(name='Guernsey', alpha2='GG', alpha3='GGY', numeric='831', apolitical_name='Guernsey')\n",
      "Country(name='Guinea', alpha2='GN', alpha3='GIN', numeric='324', apolitical_name='Guinea')\n",
      "Country(name='Guinea-Bissau', alpha2='GW', alpha3='GNB', numeric='624', apolitical_name='Guinea-Bissau')\n",
      "Country(name='Guyana', alpha2='GY', alpha3='GUY', numeric='328', apolitical_name='Guyana')\n",
      "Country(name='Haiti', alpha2='HT', alpha3='HTI', numeric='332', apolitical_name='Haiti')\n",
      "Country(name='Heard Island and McDonald Islands', alpha2='HM', alpha3='HMD', numeric='334', apolitical_name='Heard Island and McDonald Islands')\n",
      "Country(name='Holy See', alpha2='VA', alpha3='VAT', numeric='336', apolitical_name='Holy See')\n",
      "Country(name='Honduras', alpha2='HN', alpha3='HND', numeric='340', apolitical_name='Honduras')\n",
      "Country(name='Hong Kong', alpha2='HK', alpha3='HKG', numeric='344', apolitical_name='Hong Kong')\n",
      "Country(name='Hungary', alpha2='HU', alpha3='HUN', numeric='348', apolitical_name='Hungary')\n",
      "Country(name='Iceland', alpha2='IS', alpha3='ISL', numeric='352', apolitical_name='Iceland')\n",
      "Country(name='India', alpha2='IN', alpha3='IND', numeric='356', apolitical_name='India')\n",
      "Country(name='Indonesia', alpha2='ID', alpha3='IDN', numeric='360', apolitical_name='Indonesia')\n",
      "Country(name='Iran, Islamic Republic of', alpha2='IR', alpha3='IRN', numeric='364', apolitical_name='Iran, Islamic Republic of')\n",
      "Country(name='Iraq', alpha2='IQ', alpha3='IRQ', numeric='368', apolitical_name='Iraq')\n",
      "Country(name='Ireland', alpha2='IE', alpha3='IRL', numeric='372', apolitical_name='Ireland')\n",
      "Country(name='Isle of Man', alpha2='IM', alpha3='IMN', numeric='833', apolitical_name='Isle of Man')\n",
      "Country(name='Israel', alpha2='IL', alpha3='ISR', numeric='376', apolitical_name='Israel')\n",
      "Country(name='Italy', alpha2='IT', alpha3='ITA', numeric='380', apolitical_name='Italy')\n",
      "Country(name='Jamaica', alpha2='JM', alpha3='JAM', numeric='388', apolitical_name='Jamaica')\n",
      "Country(name='Japan', alpha2='JP', alpha3='JPN', numeric='392', apolitical_name='Japan')\n",
      "Country(name='Jersey', alpha2='JE', alpha3='JEY', numeric='832', apolitical_name='Jersey')\n",
      "Country(name='Jordan', alpha2='JO', alpha3='JOR', numeric='400', apolitical_name='Jordan')\n",
      "Country(name='Kazakhstan', alpha2='KZ', alpha3='KAZ', numeric='398', apolitical_name='Kazakhstan')\n",
      "Country(name='Kenya', alpha2='KE', alpha3='KEN', numeric='404', apolitical_name='Kenya')\n",
      "Country(name='Kiribati', alpha2='KI', alpha3='KIR', numeric='296', apolitical_name='Kiribati')\n",
      "Country(name=\"Korea, Democratic People's Republic of\", alpha2='KP', alpha3='PRK', numeric='408', apolitical_name=\"Korea, Democratic People's Republic of\")\n",
      "Country(name='Korea, Republic of', alpha2='KR', alpha3='KOR', numeric='410', apolitical_name='Korea, Republic of')\n",
      "Country(name='Kosovo', alpha2='XK', alpha3='XKX', numeric='983', apolitical_name='Kosovo')\n",
      "Country(name='Kuwait', alpha2='KW', alpha3='KWT', numeric='414', apolitical_name='Kuwait')\n",
      "Country(name='Kyrgyzstan', alpha2='KG', alpha3='KGZ', numeric='417', apolitical_name='Kyrgyzstan')\n",
      "Country(name=\"Lao People's Democratic Republic\", alpha2='LA', alpha3='LAO', numeric='418', apolitical_name=\"Lao People's Democratic Republic\")\n",
      "Country(name='Latvia', alpha2='LV', alpha3='LVA', numeric='428', apolitical_name='Latvia')\n",
      "Country(name='Lebanon', alpha2='LB', alpha3='LBN', numeric='422', apolitical_name='Lebanon')\n",
      "Country(name='Lesotho', alpha2='LS', alpha3='LSO', numeric='426', apolitical_name='Lesotho')\n",
      "Country(name='Liberia', alpha2='LR', alpha3='LBR', numeric='430', apolitical_name='Liberia')\n",
      "Country(name='Libya', alpha2='LY', alpha3='LBY', numeric='434', apolitical_name='Libya')\n",
      "Country(name='Liechtenstein', alpha2='LI', alpha3='LIE', numeric='438', apolitical_name='Liechtenstein')\n",
      "Country(name='Lithuania', alpha2='LT', alpha3='LTU', numeric='440', apolitical_name='Lithuania')\n",
      "Country(name='Luxembourg', alpha2='LU', alpha3='LUX', numeric='442', apolitical_name='Luxembourg')\n",
      "Country(name='Macao', alpha2='MO', alpha3='MAC', numeric='446', apolitical_name='Macao')\n",
      "Country(name='North Macedonia', alpha2='MK', alpha3='MKD', numeric='807', apolitical_name='North Macedonia')\n",
      "Country(name='Madagascar', alpha2='MG', alpha3='MDG', numeric='450', apolitical_name='Madagascar')\n",
      "Country(name='Malawi', alpha2='MW', alpha3='MWI', numeric='454', apolitical_name='Malawi')\n",
      "Country(name='Malaysia', alpha2='MY', alpha3='MYS', numeric='458', apolitical_name='Malaysia')\n",
      "Country(name='Maldives', alpha2='MV', alpha3='MDV', numeric='462', apolitical_name='Maldives')\n",
      "Country(name='Mali', alpha2='ML', alpha3='MLI', numeric='466', apolitical_name='Mali')\n",
      "Country(name='Malta', alpha2='MT', alpha3='MLT', numeric='470', apolitical_name='Malta')\n",
      "Country(name='Marshall Islands', alpha2='MH', alpha3='MHL', numeric='584', apolitical_name='Marshall Islands')\n",
      "Country(name='Martinique', alpha2='MQ', alpha3='MTQ', numeric='474', apolitical_name='Martinique')\n",
      "Country(name='Mauritania', alpha2='MR', alpha3='MRT', numeric='478', apolitical_name='Mauritania')\n",
      "Country(name='Mauritius', alpha2='MU', alpha3='MUS', numeric='480', apolitical_name='Mauritius')\n",
      "Country(name='Mayotte', alpha2='YT', alpha3='MYT', numeric='175', apolitical_name='Mayotte')\n",
      "Country(name='Mexico', alpha2='MX', alpha3='MEX', numeric='484', apolitical_name='Mexico')\n",
      "Country(name='Micronesia, Federated States of', alpha2='FM', alpha3='FSM', numeric='583', apolitical_name='Micronesia, Federated States of')\n",
      "Country(name='Moldova, Republic of', alpha2='MD', alpha3='MDA', numeric='498', apolitical_name='Moldova, Republic of')\n",
      "Country(name='Monaco', alpha2='MC', alpha3='MCO', numeric='492', apolitical_name='Monaco')\n",
      "Country(name='Mongolia', alpha2='MN', alpha3='MNG', numeric='496', apolitical_name='Mongolia')\n",
      "Country(name='Montenegro', alpha2='ME', alpha3='MNE', numeric='499', apolitical_name='Montenegro')\n",
      "Country(name='Montserrat', alpha2='MS', alpha3='MSR', numeric='500', apolitical_name='Montserrat')\n",
      "Country(name='Morocco', alpha2='MA', alpha3='MAR', numeric='504', apolitical_name='Morocco')\n",
      "Country(name='Mozambique', alpha2='MZ', alpha3='MOZ', numeric='508', apolitical_name='Mozambique')\n",
      "Country(name='Myanmar', alpha2='MM', alpha3='MMR', numeric='104', apolitical_name='Myanmar')\n",
      "Country(name='Namibia', alpha2='NA', alpha3='NAM', numeric='516', apolitical_name='Namibia')\n",
      "Country(name='Nauru', alpha2='NR', alpha3='NRU', numeric='520', apolitical_name='Nauru')\n",
      "Country(name='Nepal', alpha2='NP', alpha3='NPL', numeric='524', apolitical_name='Nepal')\n",
      "Country(name='Netherlands', alpha2='NL', alpha3='NLD', numeric='528', apolitical_name='Netherlands')\n",
      "Country(name='New Caledonia', alpha2='NC', alpha3='NCL', numeric='540', apolitical_name='New Caledonia')\n",
      "Country(name='New Zealand', alpha2='NZ', alpha3='NZL', numeric='554', apolitical_name='New Zealand')\n",
      "Country(name='Nicaragua', alpha2='NI', alpha3='NIC', numeric='558', apolitical_name='Nicaragua')\n",
      "Country(name='Niger', alpha2='NE', alpha3='NER', numeric='562', apolitical_name='Niger')\n",
      "Country(name='Nigeria', alpha2='NG', alpha3='NGA', numeric='566', apolitical_name='Nigeria')\n",
      "Country(name='Niue', alpha2='NU', alpha3='NIU', numeric='570', apolitical_name='Niue')\n",
      "Country(name='Norfolk Island', alpha2='NF', alpha3='NFK', numeric='574', apolitical_name='Norfolk Island')\n",
      "Country(name='Northern Mariana Islands', alpha2='MP', alpha3='MNP', numeric='580', apolitical_name='Northern Mariana Islands')\n",
      "Country(name='Norway', alpha2='NO', alpha3='NOR', numeric='578', apolitical_name='Norway')\n",
      "Country(name='Oman', alpha2='OM', alpha3='OMN', numeric='512', apolitical_name='Oman')\n",
      "Country(name='Pakistan', alpha2='PK', alpha3='PAK', numeric='586', apolitical_name='Pakistan')\n",
      "Country(name='Palau', alpha2='PW', alpha3='PLW', numeric='585', apolitical_name='Palau')\n",
      "Country(name='Palestine, State of', alpha2='PS', alpha3='PSE', numeric='275', apolitical_name='Palestine')\n",
      "Country(name='Panama', alpha2='PA', alpha3='PAN', numeric='591', apolitical_name='Panama')\n",
      "Country(name='Papua New Guinea', alpha2='PG', alpha3='PNG', numeric='598', apolitical_name='Papua New Guinea')\n",
      "Country(name='Paraguay', alpha2='PY', alpha3='PRY', numeric='600', apolitical_name='Paraguay')\n",
      "Country(name='Peru', alpha2='PE', alpha3='PER', numeric='604', apolitical_name='Peru')\n",
      "Country(name='Philippines', alpha2='PH', alpha3='PHL', numeric='608', apolitical_name='Philippines')\n",
      "Country(name='Pitcairn', alpha2='PN', alpha3='PCN', numeric='612', apolitical_name='Pitcairn')\n",
      "Country(name='Poland', alpha2='PL', alpha3='POL', numeric='616', apolitical_name='Poland')\n",
      "Country(name='Portugal', alpha2='PT', alpha3='PRT', numeric='620', apolitical_name='Portugal')\n",
      "Country(name='Puerto Rico', alpha2='PR', alpha3='PRI', numeric='630', apolitical_name='Puerto Rico')\n",
      "Country(name='Qatar', alpha2='QA', alpha3='QAT', numeric='634', apolitical_name='Qatar')\n",
      "Country(name='Réunion', alpha2='RE', alpha3='REU', numeric='638', apolitical_name='Réunion')\n",
      "Country(name='Romania', alpha2='RO', alpha3='ROU', numeric='642', apolitical_name='Romania')\n",
      "Country(name='Russian Federation', alpha2='RU', alpha3='RUS', numeric='643', apolitical_name='Russian Federation')\n",
      "Country(name='Rwanda', alpha2='RW', alpha3='RWA', numeric='646', apolitical_name='Rwanda')\n",
      "Country(name='Saint Barthélemy', alpha2='BL', alpha3='BLM', numeric='652', apolitical_name='Saint Barthélemy')\n",
      "Country(name='Saint Helena, Ascension and Tristan da Cunha', alpha2='SH', alpha3='SHN', numeric='654', apolitical_name='Saint Helena, Ascension and Tristan da Cunha')\n",
      "Country(name='Saint Kitts and Nevis', alpha2='KN', alpha3='KNA', numeric='659', apolitical_name='Saint Kitts and Nevis')\n",
      "Country(name='Saint Lucia', alpha2='LC', alpha3='LCA', numeric='662', apolitical_name='Saint Lucia')\n",
      "Country(name='Saint Martin (French part)', alpha2='MF', alpha3='MAF', numeric='663', apolitical_name='Saint Martin (French part)')\n",
      "Country(name='Saint Pierre and Miquelon', alpha2='PM', alpha3='SPM', numeric='666', apolitical_name='Saint Pierre and Miquelon')\n",
      "Country(name='Saint Vincent and the Grenadines', alpha2='VC', alpha3='VCT', numeric='670', apolitical_name='Saint Vincent and the Grenadines')\n",
      "Country(name='Samoa', alpha2='WS', alpha3='WSM', numeric='882', apolitical_name='Samoa')\n",
      "Country(name='San Marino', alpha2='SM', alpha3='SMR', numeric='674', apolitical_name='San Marino')\n",
      "Country(name='Sao Tome and Principe', alpha2='ST', alpha3='STP', numeric='678', apolitical_name='Sao Tome and Principe')\n",
      "Country(name='Saudi Arabia', alpha2='SA', alpha3='SAU', numeric='682', apolitical_name='Saudi Arabia')\n",
      "Country(name='Senegal', alpha2='SN', alpha3='SEN', numeric='686', apolitical_name='Senegal')\n",
      "Country(name='Serbia', alpha2='RS', alpha3='SRB', numeric='688', apolitical_name='Serbia')\n",
      "Country(name='Seychelles', alpha2='SC', alpha3='SYC', numeric='690', apolitical_name='Seychelles')\n",
      "Country(name='Sierra Leone', alpha2='SL', alpha3='SLE', numeric='694', apolitical_name='Sierra Leone')\n",
      "Country(name='Singapore', alpha2='SG', alpha3='SGP', numeric='702', apolitical_name='Singapore')\n",
      "Country(name='Sint Maarten (Dutch part)', alpha2='SX', alpha3='SXM', numeric='534', apolitical_name='Sint Maarten (Dutch part)')\n",
      "Country(name='Slovakia', alpha2='SK', alpha3='SVK', numeric='703', apolitical_name='Slovakia')\n",
      "Country(name='Slovenia', alpha2='SI', alpha3='SVN', numeric='705', apolitical_name='Slovenia')\n",
      "Country(name='Solomon Islands', alpha2='SB', alpha3='SLB', numeric='090', apolitical_name='Solomon Islands')\n",
      "Country(name='Somalia', alpha2='SO', alpha3='SOM', numeric='706', apolitical_name='Somalia')\n",
      "Country(name='South Africa', alpha2='ZA', alpha3='ZAF', numeric='710', apolitical_name='South Africa')\n",
      "Country(name='South Georgia and the South Sandwich Islands', alpha2='GS', alpha3='SGS', numeric='239', apolitical_name='South Georgia and the South Sandwich Islands')\n",
      "Country(name='South Sudan', alpha2='SS', alpha3='SSD', numeric='728', apolitical_name='South Sudan')\n",
      "Country(name='Spain', alpha2='ES', alpha3='ESP', numeric='724', apolitical_name='Spain')\n",
      "Country(name='Sri Lanka', alpha2='LK', alpha3='LKA', numeric='144', apolitical_name='Sri Lanka')\n",
      "Country(name='Sudan', alpha2='SD', alpha3='SDN', numeric='729', apolitical_name='Sudan')\n",
      "Country(name='Suriname', alpha2='SR', alpha3='SUR', numeric='740', apolitical_name='Suriname')\n",
      "Country(name='Svalbard and Jan Mayen', alpha2='SJ', alpha3='SJM', numeric='744', apolitical_name='Svalbard and Jan Mayen')\n",
      "Country(name='Eswatini', alpha2='SZ', alpha3='SWZ', numeric='748', apolitical_name='Eswatini')\n",
      "Country(name='Sweden', alpha2='SE', alpha3='SWE', numeric='752', apolitical_name='Sweden')\n",
      "Country(name='Switzerland', alpha2='CH', alpha3='CHE', numeric='756', apolitical_name='Switzerland')\n",
      "Country(name='Syrian Arab Republic', alpha2='SY', alpha3='SYR', numeric='760', apolitical_name='Syrian Arab Republic')\n",
      "Country(name='Taiwan, Province of China', alpha2='TW', alpha3='TWN', numeric='158', apolitical_name='Taiwan')\n",
      "Country(name='Tajikistan', alpha2='TJ', alpha3='TJK', numeric='762', apolitical_name='Tajikistan')\n",
      "Country(name='Tanzania, United Republic of', alpha2='TZ', alpha3='TZA', numeric='834', apolitical_name='Tanzania, United Republic of')\n",
      "Country(name='Thailand', alpha2='TH', alpha3='THA', numeric='764', apolitical_name='Thailand')\n",
      "Country(name='Timor-Leste', alpha2='TL', alpha3='TLS', numeric='626', apolitical_name='Timor-Leste')\n",
      "Country(name='Togo', alpha2='TG', alpha3='TGO', numeric='768', apolitical_name='Togo')\n",
      "Country(name='Tokelau', alpha2='TK', alpha3='TKL', numeric='772', apolitical_name='Tokelau')\n",
      "Country(name='Tonga', alpha2='TO', alpha3='TON', numeric='776', apolitical_name='Tonga')\n",
      "Country(name='Trinidad and Tobago', alpha2='TT', alpha3='TTO', numeric='780', apolitical_name='Trinidad and Tobago')\n",
      "Country(name='Tunisia', alpha2='TN', alpha3='TUN', numeric='788', apolitical_name='Tunisia')\n",
      "Country(name='Türkiye', alpha2='TR', alpha3='TUR', numeric='792', apolitical_name='Türkiye')\n",
      "Country(name='Turkmenistan', alpha2='TM', alpha3='TKM', numeric='795', apolitical_name='Turkmenistan')\n",
      "Country(name='Turks and Caicos Islands', alpha2='TC', alpha3='TCA', numeric='796', apolitical_name='Turks and Caicos Islands')\n",
      "Country(name='Tuvalu', alpha2='TV', alpha3='TUV', numeric='798', apolitical_name='Tuvalu')\n",
      "Country(name='Uganda', alpha2='UG', alpha3='UGA', numeric='800', apolitical_name='Uganda')\n",
      "Country(name='Ukraine', alpha2='UA', alpha3='UKR', numeric='804', apolitical_name='Ukraine')\n",
      "Country(name='United Arab Emirates', alpha2='AE', alpha3='ARE', numeric='784', apolitical_name='United Arab Emirates')\n",
      "Country(name='United Kingdom of Great Britain and Northern Ireland', alpha2='GB', alpha3='GBR', numeric='826', apolitical_name='United Kingdom of Great Britain and Northern Ireland')\n",
      "Country(name='United States of America', alpha2='US', alpha3='USA', numeric='840', apolitical_name='United States of America')\n",
      "Country(name='United States Minor Outlying Islands', alpha2='UM', alpha3='UMI', numeric='581', apolitical_name='United States Minor Outlying Islands')\n",
      "Country(name='Uruguay', alpha2='UY', alpha3='URY', numeric='858', apolitical_name='Uruguay')\n",
      "Country(name='Uzbekistan', alpha2='UZ', alpha3='UZB', numeric='860', apolitical_name='Uzbekistan')\n",
      "Country(name='Vanuatu', alpha2='VU', alpha3='VUT', numeric='548', apolitical_name='Vanuatu')\n",
      "Country(name='Venezuela, Bolivarian Republic of', alpha2='VE', alpha3='VEN', numeric='862', apolitical_name='Venezuela, Bolivarian Republic of')\n",
      "Country(name='Viet Nam', alpha2='VN', alpha3='VNM', numeric='704', apolitical_name='Viet Nam')\n",
      "Country(name='Virgin Islands, British', alpha2='VG', alpha3='VGB', numeric='092', apolitical_name='Virgin Islands, British')\n",
      "Country(name='Virgin Islands, U.S.', alpha2='VI', alpha3='VIR', numeric='850', apolitical_name='Virgin Islands, U.S.')\n",
      "Country(name='Wallis and Futuna', alpha2='WF', alpha3='WLF', numeric='876', apolitical_name='Wallis and Futuna')\n",
      "Country(name='Western Sahara', alpha2='EH', alpha3='ESH', numeric='732', apolitical_name='Western Sahara')\n",
      "Country(name='Yemen', alpha2='YE', alpha3='YEM', numeric='887', apolitical_name='Yemen')\n",
      "Country(name='Zambia', alpha2='ZM', alpha3='ZMB', numeric='894', apolitical_name='Zambia')\n",
      "Country(name='Zimbabwe', alpha2='ZW', alpha3='ZWE', numeric='716', apolitical_name='Zimbabwe')\n"
     ]
    }
   ],
   "source": [
    "from iso3166 import countries\n",
    "for c in countries:\n",
    "    print(c)"
   ]
  },
  {
   "cell_type": "code",
   "execution_count": 57,
   "id": "269bb416",
   "metadata": {},
   "outputs": [],
   "source": [
    "from iso3166 import countries\n",
    "from numpy import NaN\n",
    "\n",
    "country_names =[]\n",
    "for country_name in df2['country']:\n",
    "    try:\n",
    "        c_name = countries.get(country_name)\n",
    "        country_names.append(c_name[2])\n",
    "    except:\n",
    "        country_names.append(NaN)\n"
   ]
  },
  {
   "cell_type": "code",
   "execution_count": 58,
   "id": "4ec91d68",
   "metadata": {},
   "outputs": [
    {
     "data": {
      "text/plain": [
       "2581"
      ]
     },
     "execution_count": 58,
     "metadata": {},
     "output_type": "execute_result"
    }
   ],
   "source": [
    "len(country_names)"
   ]
  },
  {
   "cell_type": "code",
   "execution_count": 59,
   "id": "0bb24eff",
   "metadata": {},
   "outputs": [],
   "source": [
    "df2['iso_alpha'] = country_names"
   ]
  },
  {
   "cell_type": "code",
   "execution_count": 60,
   "id": "6fbadc53",
   "metadata": {},
   "outputs": [
    {
     "data": {
      "text/html": [
       "<div>\n",
       "<style scoped>\n",
       "    .dataframe tbody tr th:only-of-type {\n",
       "        vertical-align: middle;\n",
       "    }\n",
       "\n",
       "    .dataframe tbody tr th {\n",
       "        vertical-align: top;\n",
       "    }\n",
       "\n",
       "    .dataframe thead th {\n",
       "        text-align: right;\n",
       "    }\n",
       "</style>\n",
       "<table border=\"1\" class=\"dataframe\">\n",
       "  <thead>\n",
       "    <tr style=\"text-align: right;\">\n",
       "      <th></th>\n",
       "      <th>country</th>\n",
       "      <th>year</th>\n",
       "      <th>no_schooling</th>\n",
       "      <th>total_primary</th>\n",
       "      <th>completed_primary</th>\n",
       "      <th>total_secondary</th>\n",
       "      <th>completed_secondary</th>\n",
       "      <th>total_tertiary</th>\n",
       "      <th>completed_tertiary</th>\n",
       "      <th>avg_years_total_schooling</th>\n",
       "      <th>avg_years_primary_schooling</th>\n",
       "      <th>avg_years_secondary_schooling</th>\n",
       "      <th>avg_years_tertiary_schooling</th>\n",
       "      <th>population_1000s</th>\n",
       "      <th>region</th>\n",
       "      <th>iso_alpha</th>\n",
       "    </tr>\n",
       "  </thead>\n",
       "  <tbody>\n",
       "    <tr>\n",
       "      <th>2442</th>\n",
       "      <td>Cote dIvoire</td>\n",
       "      <td>1870</td>\n",
       "      <td>97.4</td>\n",
       "      <td>2.6</td>\n",
       "      <td>0.7</td>\n",
       "      <td>0.0</td>\n",
       "      <td>0.0</td>\n",
       "      <td>0.0</td>\n",
       "      <td>0.0</td>\n",
       "      <td>0.10</td>\n",
       "      <td>0.10</td>\n",
       "      <td>0.00</td>\n",
       "      <td>0.00</td>\n",
       "      <td>120.0</td>\n",
       "      <td>Sub-Saharan Africa</td>\n",
       "      <td>NaN</td>\n",
       "    </tr>\n",
       "    <tr>\n",
       "      <th>2443</th>\n",
       "      <td>Cote dIvoire</td>\n",
       "      <td>1875</td>\n",
       "      <td>97.1</td>\n",
       "      <td>2.9</td>\n",
       "      <td>0.8</td>\n",
       "      <td>0.0</td>\n",
       "      <td>0.0</td>\n",
       "      <td>0.0</td>\n",
       "      <td>0.0</td>\n",
       "      <td>0.12</td>\n",
       "      <td>0.11</td>\n",
       "      <td>0.00</td>\n",
       "      <td>0.00</td>\n",
       "      <td>143.0</td>\n",
       "      <td>Sub-Saharan Africa</td>\n",
       "      <td>NaN</td>\n",
       "    </tr>\n",
       "    <tr>\n",
       "      <th>2444</th>\n",
       "      <td>Cote dIvoire</td>\n",
       "      <td>1880</td>\n",
       "      <td>96.7</td>\n",
       "      <td>3.3</td>\n",
       "      <td>0.9</td>\n",
       "      <td>0.0</td>\n",
       "      <td>0.0</td>\n",
       "      <td>0.0</td>\n",
       "      <td>0.0</td>\n",
       "      <td>0.13</td>\n",
       "      <td>0.13</td>\n",
       "      <td>0.00</td>\n",
       "      <td>0.00</td>\n",
       "      <td>167.0</td>\n",
       "      <td>Sub-Saharan Africa</td>\n",
       "      <td>NaN</td>\n",
       "    </tr>\n",
       "    <tr>\n",
       "      <th>2445</th>\n",
       "      <td>Cote dIvoire</td>\n",
       "      <td>1885</td>\n",
       "      <td>96.3</td>\n",
       "      <td>3.7</td>\n",
       "      <td>1.0</td>\n",
       "      <td>0.0</td>\n",
       "      <td>0.0</td>\n",
       "      <td>0.0</td>\n",
       "      <td>0.0</td>\n",
       "      <td>0.15</td>\n",
       "      <td>0.15</td>\n",
       "      <td>0.00</td>\n",
       "      <td>0.00</td>\n",
       "      <td>199.0</td>\n",
       "      <td>Sub-Saharan Africa</td>\n",
       "      <td>NaN</td>\n",
       "    </tr>\n",
       "    <tr>\n",
       "      <th>2446</th>\n",
       "      <td>Cote dIvoire</td>\n",
       "      <td>1890</td>\n",
       "      <td>95.8</td>\n",
       "      <td>4.2</td>\n",
       "      <td>1.2</td>\n",
       "      <td>0.0</td>\n",
       "      <td>0.0</td>\n",
       "      <td>0.0</td>\n",
       "      <td>0.0</td>\n",
       "      <td>0.17</td>\n",
       "      <td>0.16</td>\n",
       "      <td>0.00</td>\n",
       "      <td>0.00</td>\n",
       "      <td>231.0</td>\n",
       "      <td>Sub-Saharan Africa</td>\n",
       "      <td>NaN</td>\n",
       "    </tr>\n",
       "    <tr>\n",
       "      <th>2447</th>\n",
       "      <td>Cote dIvoire</td>\n",
       "      <td>1895</td>\n",
       "      <td>95.3</td>\n",
       "      <td>4.7</td>\n",
       "      <td>1.4</td>\n",
       "      <td>0.0</td>\n",
       "      <td>0.0</td>\n",
       "      <td>0.0</td>\n",
       "      <td>0.0</td>\n",
       "      <td>0.19</td>\n",
       "      <td>0.19</td>\n",
       "      <td>0.00</td>\n",
       "      <td>0.00</td>\n",
       "      <td>275.0</td>\n",
       "      <td>Sub-Saharan Africa</td>\n",
       "      <td>NaN</td>\n",
       "    </tr>\n",
       "    <tr>\n",
       "      <th>2448</th>\n",
       "      <td>Cote dIvoire</td>\n",
       "      <td>1900</td>\n",
       "      <td>94.6</td>\n",
       "      <td>5.4</td>\n",
       "      <td>1.6</td>\n",
       "      <td>0.0</td>\n",
       "      <td>0.0</td>\n",
       "      <td>0.0</td>\n",
       "      <td>0.0</td>\n",
       "      <td>0.22</td>\n",
       "      <td>0.21</td>\n",
       "      <td>0.00</td>\n",
       "      <td>0.00</td>\n",
       "      <td>320.0</td>\n",
       "      <td>Sub-Saharan Africa</td>\n",
       "      <td>NaN</td>\n",
       "    </tr>\n",
       "    <tr>\n",
       "      <th>2449</th>\n",
       "      <td>Cote dIvoire</td>\n",
       "      <td>1905</td>\n",
       "      <td>94.0</td>\n",
       "      <td>6.0</td>\n",
       "      <td>1.8</td>\n",
       "      <td>0.0</td>\n",
       "      <td>0.0</td>\n",
       "      <td>0.0</td>\n",
       "      <td>0.0</td>\n",
       "      <td>0.24</td>\n",
       "      <td>0.24</td>\n",
       "      <td>0.00</td>\n",
       "      <td>0.00</td>\n",
       "      <td>382.0</td>\n",
       "      <td>Sub-Saharan Africa</td>\n",
       "      <td>NaN</td>\n",
       "    </tr>\n",
       "    <tr>\n",
       "      <th>2450</th>\n",
       "      <td>Cote dIvoire</td>\n",
       "      <td>1910</td>\n",
       "      <td>93.2</td>\n",
       "      <td>6.8</td>\n",
       "      <td>2.1</td>\n",
       "      <td>0.1</td>\n",
       "      <td>0.0</td>\n",
       "      <td>0.0</td>\n",
       "      <td>0.0</td>\n",
       "      <td>0.28</td>\n",
       "      <td>0.27</td>\n",
       "      <td>0.00</td>\n",
       "      <td>0.00</td>\n",
       "      <td>443.0</td>\n",
       "      <td>Sub-Saharan Africa</td>\n",
       "      <td>NaN</td>\n",
       "    </tr>\n",
       "    <tr>\n",
       "      <th>2451</th>\n",
       "      <td>Cote dIvoire</td>\n",
       "      <td>1915</td>\n",
       "      <td>92.4</td>\n",
       "      <td>7.6</td>\n",
       "      <td>2.4</td>\n",
       "      <td>0.1</td>\n",
       "      <td>0.0</td>\n",
       "      <td>0.0</td>\n",
       "      <td>0.0</td>\n",
       "      <td>0.31</td>\n",
       "      <td>0.31</td>\n",
       "      <td>0.01</td>\n",
       "      <td>0.00</td>\n",
       "      <td>516.0</td>\n",
       "      <td>Sub-Saharan Africa</td>\n",
       "      <td>NaN</td>\n",
       "    </tr>\n",
       "    <tr>\n",
       "      <th>2452</th>\n",
       "      <td>Cote dIvoire</td>\n",
       "      <td>1920</td>\n",
       "      <td>91.4</td>\n",
       "      <td>8.6</td>\n",
       "      <td>2.7</td>\n",
       "      <td>0.1</td>\n",
       "      <td>0.0</td>\n",
       "      <td>0.0</td>\n",
       "      <td>0.0</td>\n",
       "      <td>0.35</td>\n",
       "      <td>0.35</td>\n",
       "      <td>0.01</td>\n",
       "      <td>0.00</td>\n",
       "      <td>587.0</td>\n",
       "      <td>Sub-Saharan Africa</td>\n",
       "      <td>NaN</td>\n",
       "    </tr>\n",
       "    <tr>\n",
       "      <th>2453</th>\n",
       "      <td>Cote dIvoire</td>\n",
       "      <td>1925</td>\n",
       "      <td>90.4</td>\n",
       "      <td>9.6</td>\n",
       "      <td>3.1</td>\n",
       "      <td>0.1</td>\n",
       "      <td>0.0</td>\n",
       "      <td>0.0</td>\n",
       "      <td>0.0</td>\n",
       "      <td>0.40</td>\n",
       "      <td>0.39</td>\n",
       "      <td>0.01</td>\n",
       "      <td>0.00</td>\n",
       "      <td>683.0</td>\n",
       "      <td>Sub-Saharan Africa</td>\n",
       "      <td>NaN</td>\n",
       "    </tr>\n",
       "    <tr>\n",
       "      <th>2454</th>\n",
       "      <td>Cote dIvoire</td>\n",
       "      <td>1930</td>\n",
       "      <td>89.2</td>\n",
       "      <td>10.8</td>\n",
       "      <td>3.6</td>\n",
       "      <td>0.1</td>\n",
       "      <td>0.0</td>\n",
       "      <td>0.1</td>\n",
       "      <td>0.0</td>\n",
       "      <td>0.45</td>\n",
       "      <td>0.44</td>\n",
       "      <td>0.01</td>\n",
       "      <td>0.00</td>\n",
       "      <td>779.0</td>\n",
       "      <td>Sub-Saharan Africa</td>\n",
       "      <td>NaN</td>\n",
       "    </tr>\n",
       "    <tr>\n",
       "      <th>2455</th>\n",
       "      <td>Cote dIvoire</td>\n",
       "      <td>1935</td>\n",
       "      <td>89.6</td>\n",
       "      <td>10.1</td>\n",
       "      <td>3.4</td>\n",
       "      <td>0.3</td>\n",
       "      <td>0.1</td>\n",
       "      <td>0.1</td>\n",
       "      <td>0.1</td>\n",
       "      <td>0.46</td>\n",
       "      <td>0.43</td>\n",
       "      <td>0.02</td>\n",
       "      <td>0.00</td>\n",
       "      <td>906.0</td>\n",
       "      <td>Sub-Saharan Africa</td>\n",
       "      <td>NaN</td>\n",
       "    </tr>\n",
       "    <tr>\n",
       "      <th>2456</th>\n",
       "      <td>Cote dIvoire</td>\n",
       "      <td>1940</td>\n",
       "      <td>89.7</td>\n",
       "      <td>9.6</td>\n",
       "      <td>3.4</td>\n",
       "      <td>0.5</td>\n",
       "      <td>0.2</td>\n",
       "      <td>0.2</td>\n",
       "      <td>0.1</td>\n",
       "      <td>0.48</td>\n",
       "      <td>0.43</td>\n",
       "      <td>0.04</td>\n",
       "      <td>0.01</td>\n",
       "      <td>1032.0</td>\n",
       "      <td>Sub-Saharan Africa</td>\n",
       "      <td>NaN</td>\n",
       "    </tr>\n",
       "    <tr>\n",
       "      <th>2457</th>\n",
       "      <td>Cote dIvoire</td>\n",
       "      <td>1945</td>\n",
       "      <td>89.5</td>\n",
       "      <td>9.5</td>\n",
       "      <td>3.4</td>\n",
       "      <td>0.8</td>\n",
       "      <td>0.3</td>\n",
       "      <td>0.3</td>\n",
       "      <td>0.2</td>\n",
       "      <td>0.52</td>\n",
       "      <td>0.45</td>\n",
       "      <td>0.06</td>\n",
       "      <td>0.01</td>\n",
       "      <td>1201.0</td>\n",
       "      <td>Sub-Saharan Africa</td>\n",
       "      <td>NaN</td>\n",
       "    </tr>\n",
       "    <tr>\n",
       "      <th>2458</th>\n",
       "      <td>Cote dIvoire</td>\n",
       "      <td>1950</td>\n",
       "      <td>85.6</td>\n",
       "      <td>10.8</td>\n",
       "      <td>4.1</td>\n",
       "      <td>3.2</td>\n",
       "      <td>0.5</td>\n",
       "      <td>0.4</td>\n",
       "      <td>0.3</td>\n",
       "      <td>0.86</td>\n",
       "      <td>0.67</td>\n",
       "      <td>0.17</td>\n",
       "      <td>0.01</td>\n",
       "      <td>1367.0</td>\n",
       "      <td>Sub-Saharan Africa</td>\n",
       "      <td>NaN</td>\n",
       "    </tr>\n",
       "    <tr>\n",
       "      <th>2459</th>\n",
       "      <td>Cote dIvoire</td>\n",
       "      <td>1955</td>\n",
       "      <td>85.1</td>\n",
       "      <td>10.9</td>\n",
       "      <td>4.3</td>\n",
       "      <td>3.4</td>\n",
       "      <td>0.6</td>\n",
       "      <td>0.6</td>\n",
       "      <td>0.3</td>\n",
       "      <td>0.91</td>\n",
       "      <td>0.70</td>\n",
       "      <td>0.19</td>\n",
       "      <td>0.02</td>\n",
       "      <td>1618.0</td>\n",
       "      <td>Sub-Saharan Africa</td>\n",
       "      <td>NaN</td>\n",
       "    </tr>\n",
       "    <tr>\n",
       "      <th>2460</th>\n",
       "      <td>Cote dIvoire</td>\n",
       "      <td>1960</td>\n",
       "      <td>84.5</td>\n",
       "      <td>10.9</td>\n",
       "      <td>4.5</td>\n",
       "      <td>3.9</td>\n",
       "      <td>0.7</td>\n",
       "      <td>0.7</td>\n",
       "      <td>0.4</td>\n",
       "      <td>0.99</td>\n",
       "      <td>0.74</td>\n",
       "      <td>0.23</td>\n",
       "      <td>0.02</td>\n",
       "      <td>1914.0</td>\n",
       "      <td>Sub-Saharan Africa</td>\n",
       "      <td>NaN</td>\n",
       "    </tr>\n",
       "    <tr>\n",
       "      <th>2461</th>\n",
       "      <td>Cote dIvoire</td>\n",
       "      <td>1965</td>\n",
       "      <td>83.6</td>\n",
       "      <td>11.1</td>\n",
       "      <td>4.9</td>\n",
       "      <td>4.4</td>\n",
       "      <td>0.9</td>\n",
       "      <td>0.9</td>\n",
       "      <td>0.5</td>\n",
       "      <td>1.09</td>\n",
       "      <td>0.80</td>\n",
       "      <td>0.27</td>\n",
       "      <td>0.03</td>\n",
       "      <td>2256.0</td>\n",
       "      <td>Sub-Saharan Africa</td>\n",
       "      <td>NaN</td>\n",
       "    </tr>\n",
       "    <tr>\n",
       "      <th>2462</th>\n",
       "      <td>Cote dIvoire</td>\n",
       "      <td>1970</td>\n",
       "      <td>81.3</td>\n",
       "      <td>11.5</td>\n",
       "      <td>5.4</td>\n",
       "      <td>6.1</td>\n",
       "      <td>1.2</td>\n",
       "      <td>1.1</td>\n",
       "      <td>0.6</td>\n",
       "      <td>1.33</td>\n",
       "      <td>0.94</td>\n",
       "      <td>0.36</td>\n",
       "      <td>0.03</td>\n",
       "      <td>2809.0</td>\n",
       "      <td>Sub-Saharan Africa</td>\n",
       "      <td>NaN</td>\n",
       "    </tr>\n",
       "    <tr>\n",
       "      <th>2463</th>\n",
       "      <td>Cote dIvoire</td>\n",
       "      <td>1975</td>\n",
       "      <td>78.1</td>\n",
       "      <td>10.4</td>\n",
       "      <td>5.1</td>\n",
       "      <td>10.1</td>\n",
       "      <td>1.9</td>\n",
       "      <td>1.4</td>\n",
       "      <td>0.8</td>\n",
       "      <td>1.76</td>\n",
       "      <td>1.16</td>\n",
       "      <td>0.56</td>\n",
       "      <td>0.04</td>\n",
       "      <td>3464.0</td>\n",
       "      <td>Sub-Saharan Africa</td>\n",
       "      <td>NaN</td>\n",
       "    </tr>\n",
       "    <tr>\n",
       "      <th>2464</th>\n",
       "      <td>Cote dIvoire</td>\n",
       "      <td>1980</td>\n",
       "      <td>73.9</td>\n",
       "      <td>11.9</td>\n",
       "      <td>6.2</td>\n",
       "      <td>12.5</td>\n",
       "      <td>2.4</td>\n",
       "      <td>1.7</td>\n",
       "      <td>0.9</td>\n",
       "      <td>2.13</td>\n",
       "      <td>1.39</td>\n",
       "      <td>0.69</td>\n",
       "      <td>0.05</td>\n",
       "      <td>4360.0</td>\n",
       "      <td>Sub-Saharan Africa</td>\n",
       "      <td>NaN</td>\n",
       "    </tr>\n",
       "    <tr>\n",
       "      <th>2465</th>\n",
       "      <td>Cote dIvoire</td>\n",
       "      <td>1985</td>\n",
       "      <td>70.1</td>\n",
       "      <td>13.7</td>\n",
       "      <td>7.6</td>\n",
       "      <td>14.3</td>\n",
       "      <td>2.9</td>\n",
       "      <td>1.9</td>\n",
       "      <td>1.1</td>\n",
       "      <td>2.46</td>\n",
       "      <td>1.61</td>\n",
       "      <td>0.79</td>\n",
       "      <td>0.06</td>\n",
       "      <td>5402.0</td>\n",
       "      <td>Sub-Saharan Africa</td>\n",
       "      <td>NaN</td>\n",
       "    </tr>\n",
       "    <tr>\n",
       "      <th>2466</th>\n",
       "      <td>Cote dIvoire</td>\n",
       "      <td>1990</td>\n",
       "      <td>66.0</td>\n",
       "      <td>15.6</td>\n",
       "      <td>9.1</td>\n",
       "      <td>16.6</td>\n",
       "      <td>3.6</td>\n",
       "      <td>1.8</td>\n",
       "      <td>1.1</td>\n",
       "      <td>2.79</td>\n",
       "      <td>1.84</td>\n",
       "      <td>0.89</td>\n",
       "      <td>0.06</td>\n",
       "      <td>6461.0</td>\n",
       "      <td>Sub-Saharan Africa</td>\n",
       "      <td>NaN</td>\n",
       "    </tr>\n",
       "    <tr>\n",
       "      <th>2467</th>\n",
       "      <td>Cote dIvoire</td>\n",
       "      <td>1995</td>\n",
       "      <td>56.0</td>\n",
       "      <td>24.2</td>\n",
       "      <td>14.9</td>\n",
       "      <td>16.6</td>\n",
       "      <td>4.1</td>\n",
       "      <td>3.1</td>\n",
       "      <td>1.7</td>\n",
       "      <td>3.46</td>\n",
       "      <td>2.36</td>\n",
       "      <td>1.00</td>\n",
       "      <td>0.10</td>\n",
       "      <td>7626.0</td>\n",
       "      <td>Sub-Saharan Africa</td>\n",
       "      <td>NaN</td>\n",
       "    </tr>\n",
       "    <tr>\n",
       "      <th>2468</th>\n",
       "      <td>Cote dIvoire</td>\n",
       "      <td>2000</td>\n",
       "      <td>47.1</td>\n",
       "      <td>32.1</td>\n",
       "      <td>20.6</td>\n",
       "      <td>16.8</td>\n",
       "      <td>5.1</td>\n",
       "      <td>4.0</td>\n",
       "      <td>2.4</td>\n",
       "      <td>4.06</td>\n",
       "      <td>2.83</td>\n",
       "      <td>1.11</td>\n",
       "      <td>0.13</td>\n",
       "      <td>8990.0</td>\n",
       "      <td>Sub-Saharan Africa</td>\n",
       "      <td>NaN</td>\n",
       "    </tr>\n",
       "    <tr>\n",
       "      <th>2469</th>\n",
       "      <td>Cote dIvoire</td>\n",
       "      <td>2005</td>\n",
       "      <td>41.8</td>\n",
       "      <td>35.5</td>\n",
       "      <td>23.8</td>\n",
       "      <td>18.6</td>\n",
       "      <td>6.9</td>\n",
       "      <td>4.2</td>\n",
       "      <td>2.5</td>\n",
       "      <td>4.52</td>\n",
       "      <td>3.14</td>\n",
       "      <td>1.24</td>\n",
       "      <td>0.13</td>\n",
       "      <td>9962.0</td>\n",
       "      <td>Sub-Saharan Africa</td>\n",
       "      <td>NaN</td>\n",
       "    </tr>\n",
       "    <tr>\n",
       "      <th>2470</th>\n",
       "      <td>Cote dIvoire</td>\n",
       "      <td>2010</td>\n",
       "      <td>36.9</td>\n",
       "      <td>38.9</td>\n",
       "      <td>26.9</td>\n",
       "      <td>20.0</td>\n",
       "      <td>9.2</td>\n",
       "      <td>4.2</td>\n",
       "      <td>2.5</td>\n",
       "      <td>4.93</td>\n",
       "      <td>3.43</td>\n",
       "      <td>1.37</td>\n",
       "      <td>0.13</td>\n",
       "      <td>11164.0</td>\n",
       "      <td>Sub-Saharan Africa</td>\n",
       "      <td>NaN</td>\n",
       "    </tr>\n",
       "  </tbody>\n",
       "</table>\n",
       "</div>"
      ],
      "text/plain": [
       "           country  year  no_schooling  total_primary  completed_primary  \\\n",
       "2442  Cote dIvoire  1870          97.4            2.6                0.7   \n",
       "2443  Cote dIvoire  1875          97.1            2.9                0.8   \n",
       "2444  Cote dIvoire  1880          96.7            3.3                0.9   \n",
       "2445  Cote dIvoire  1885          96.3            3.7                1.0   \n",
       "2446  Cote dIvoire  1890          95.8            4.2                1.2   \n",
       "2447  Cote dIvoire  1895          95.3            4.7                1.4   \n",
       "2448  Cote dIvoire  1900          94.6            5.4                1.6   \n",
       "2449  Cote dIvoire  1905          94.0            6.0                1.8   \n",
       "2450  Cote dIvoire  1910          93.2            6.8                2.1   \n",
       "2451  Cote dIvoire  1915          92.4            7.6                2.4   \n",
       "2452  Cote dIvoire  1920          91.4            8.6                2.7   \n",
       "2453  Cote dIvoire  1925          90.4            9.6                3.1   \n",
       "2454  Cote dIvoire  1930          89.2           10.8                3.6   \n",
       "2455  Cote dIvoire  1935          89.6           10.1                3.4   \n",
       "2456  Cote dIvoire  1940          89.7            9.6                3.4   \n",
       "2457  Cote dIvoire  1945          89.5            9.5                3.4   \n",
       "2458  Cote dIvoire  1950          85.6           10.8                4.1   \n",
       "2459  Cote dIvoire  1955          85.1           10.9                4.3   \n",
       "2460  Cote dIvoire  1960          84.5           10.9                4.5   \n",
       "2461  Cote dIvoire  1965          83.6           11.1                4.9   \n",
       "2462  Cote dIvoire  1970          81.3           11.5                5.4   \n",
       "2463  Cote dIvoire  1975          78.1           10.4                5.1   \n",
       "2464  Cote dIvoire  1980          73.9           11.9                6.2   \n",
       "2465  Cote dIvoire  1985          70.1           13.7                7.6   \n",
       "2466  Cote dIvoire  1990          66.0           15.6                9.1   \n",
       "2467  Cote dIvoire  1995          56.0           24.2               14.9   \n",
       "2468  Cote dIvoire  2000          47.1           32.1               20.6   \n",
       "2469  Cote dIvoire  2005          41.8           35.5               23.8   \n",
       "2470  Cote dIvoire  2010          36.9           38.9               26.9   \n",
       "\n",
       "      total_secondary  completed_secondary  total_tertiary  \\\n",
       "2442              0.0                  0.0             0.0   \n",
       "2443              0.0                  0.0             0.0   \n",
       "2444              0.0                  0.0             0.0   \n",
       "2445              0.0                  0.0             0.0   \n",
       "2446              0.0                  0.0             0.0   \n",
       "2447              0.0                  0.0             0.0   \n",
       "2448              0.0                  0.0             0.0   \n",
       "2449              0.0                  0.0             0.0   \n",
       "2450              0.1                  0.0             0.0   \n",
       "2451              0.1                  0.0             0.0   \n",
       "2452              0.1                  0.0             0.0   \n",
       "2453              0.1                  0.0             0.0   \n",
       "2454              0.1                  0.0             0.1   \n",
       "2455              0.3                  0.1             0.1   \n",
       "2456              0.5                  0.2             0.2   \n",
       "2457              0.8                  0.3             0.3   \n",
       "2458              3.2                  0.5             0.4   \n",
       "2459              3.4                  0.6             0.6   \n",
       "2460              3.9                  0.7             0.7   \n",
       "2461              4.4                  0.9             0.9   \n",
       "2462              6.1                  1.2             1.1   \n",
       "2463             10.1                  1.9             1.4   \n",
       "2464             12.5                  2.4             1.7   \n",
       "2465             14.3                  2.9             1.9   \n",
       "2466             16.6                  3.6             1.8   \n",
       "2467             16.6                  4.1             3.1   \n",
       "2468             16.8                  5.1             4.0   \n",
       "2469             18.6                  6.9             4.2   \n",
       "2470             20.0                  9.2             4.2   \n",
       "\n",
       "      completed_tertiary  avg_years_total_schooling  \\\n",
       "2442                 0.0                       0.10   \n",
       "2443                 0.0                       0.12   \n",
       "2444                 0.0                       0.13   \n",
       "2445                 0.0                       0.15   \n",
       "2446                 0.0                       0.17   \n",
       "2447                 0.0                       0.19   \n",
       "2448                 0.0                       0.22   \n",
       "2449                 0.0                       0.24   \n",
       "2450                 0.0                       0.28   \n",
       "2451                 0.0                       0.31   \n",
       "2452                 0.0                       0.35   \n",
       "2453                 0.0                       0.40   \n",
       "2454                 0.0                       0.45   \n",
       "2455                 0.1                       0.46   \n",
       "2456                 0.1                       0.48   \n",
       "2457                 0.2                       0.52   \n",
       "2458                 0.3                       0.86   \n",
       "2459                 0.3                       0.91   \n",
       "2460                 0.4                       0.99   \n",
       "2461                 0.5                       1.09   \n",
       "2462                 0.6                       1.33   \n",
       "2463                 0.8                       1.76   \n",
       "2464                 0.9                       2.13   \n",
       "2465                 1.1                       2.46   \n",
       "2466                 1.1                       2.79   \n",
       "2467                 1.7                       3.46   \n",
       "2468                 2.4                       4.06   \n",
       "2469                 2.5                       4.52   \n",
       "2470                 2.5                       4.93   \n",
       "\n",
       "      avg_years_primary_schooling  avg_years_secondary_schooling  \\\n",
       "2442                         0.10                           0.00   \n",
       "2443                         0.11                           0.00   \n",
       "2444                         0.13                           0.00   \n",
       "2445                         0.15                           0.00   \n",
       "2446                         0.16                           0.00   \n",
       "2447                         0.19                           0.00   \n",
       "2448                         0.21                           0.00   \n",
       "2449                         0.24                           0.00   \n",
       "2450                         0.27                           0.00   \n",
       "2451                         0.31                           0.01   \n",
       "2452                         0.35                           0.01   \n",
       "2453                         0.39                           0.01   \n",
       "2454                         0.44                           0.01   \n",
       "2455                         0.43                           0.02   \n",
       "2456                         0.43                           0.04   \n",
       "2457                         0.45                           0.06   \n",
       "2458                         0.67                           0.17   \n",
       "2459                         0.70                           0.19   \n",
       "2460                         0.74                           0.23   \n",
       "2461                         0.80                           0.27   \n",
       "2462                         0.94                           0.36   \n",
       "2463                         1.16                           0.56   \n",
       "2464                         1.39                           0.69   \n",
       "2465                         1.61                           0.79   \n",
       "2466                         1.84                           0.89   \n",
       "2467                         2.36                           1.00   \n",
       "2468                         2.83                           1.11   \n",
       "2469                         3.14                           1.24   \n",
       "2470                         3.43                           1.37   \n",
       "\n",
       "      avg_years_tertiary_schooling  population_1000s              region  \\\n",
       "2442                          0.00             120.0  Sub-Saharan Africa   \n",
       "2443                          0.00             143.0  Sub-Saharan Africa   \n",
       "2444                          0.00             167.0  Sub-Saharan Africa   \n",
       "2445                          0.00             199.0  Sub-Saharan Africa   \n",
       "2446                          0.00             231.0  Sub-Saharan Africa   \n",
       "2447                          0.00             275.0  Sub-Saharan Africa   \n",
       "2448                          0.00             320.0  Sub-Saharan Africa   \n",
       "2449                          0.00             382.0  Sub-Saharan Africa   \n",
       "2450                          0.00             443.0  Sub-Saharan Africa   \n",
       "2451                          0.00             516.0  Sub-Saharan Africa   \n",
       "2452                          0.00             587.0  Sub-Saharan Africa   \n",
       "2453                          0.00             683.0  Sub-Saharan Africa   \n",
       "2454                          0.00             779.0  Sub-Saharan Africa   \n",
       "2455                          0.00             906.0  Sub-Saharan Africa   \n",
       "2456                          0.01            1032.0  Sub-Saharan Africa   \n",
       "2457                          0.01            1201.0  Sub-Saharan Africa   \n",
       "2458                          0.01            1367.0  Sub-Saharan Africa   \n",
       "2459                          0.02            1618.0  Sub-Saharan Africa   \n",
       "2460                          0.02            1914.0  Sub-Saharan Africa   \n",
       "2461                          0.03            2256.0  Sub-Saharan Africa   \n",
       "2462                          0.03            2809.0  Sub-Saharan Africa   \n",
       "2463                          0.04            3464.0  Sub-Saharan Africa   \n",
       "2464                          0.05            4360.0  Sub-Saharan Africa   \n",
       "2465                          0.06            5402.0  Sub-Saharan Africa   \n",
       "2466                          0.06            6461.0  Sub-Saharan Africa   \n",
       "2467                          0.10            7626.0  Sub-Saharan Africa   \n",
       "2468                          0.13            8990.0  Sub-Saharan Africa   \n",
       "2469                          0.13            9962.0  Sub-Saharan Africa   \n",
       "2470                          0.13           11164.0  Sub-Saharan Africa   \n",
       "\n",
       "     iso_alpha  \n",
       "2442       NaN  \n",
       "2443       NaN  \n",
       "2444       NaN  \n",
       "2445       NaN  \n",
       "2446       NaN  \n",
       "2447       NaN  \n",
       "2448       NaN  \n",
       "2449       NaN  \n",
       "2450       NaN  \n",
       "2451       NaN  \n",
       "2452       NaN  \n",
       "2453       NaN  \n",
       "2454       NaN  \n",
       "2455       NaN  \n",
       "2456       NaN  \n",
       "2457       NaN  \n",
       "2458       NaN  \n",
       "2459       NaN  \n",
       "2460       NaN  \n",
       "2461       NaN  \n",
       "2462       NaN  \n",
       "2463       NaN  \n",
       "2464       NaN  \n",
       "2465       NaN  \n",
       "2466       NaN  \n",
       "2467       NaN  \n",
       "2468       NaN  \n",
       "2469       NaN  \n",
       "2470       NaN  "
      ]
     },
     "execution_count": 60,
     "metadata": {},
     "output_type": "execute_result"
    }
   ],
   "source": [
    "df2[df2.isna().any(axis=1) == True]"
   ]
  },
  {
   "cell_type": "code",
   "execution_count": 65,
   "id": "68353f34",
   "metadata": {},
   "outputs": [
    {
     "data": {
      "text/html": [
       "<div>\n",
       "<style scoped>\n",
       "    .dataframe tbody tr th:only-of-type {\n",
       "        vertical-align: middle;\n",
       "    }\n",
       "\n",
       "    .dataframe tbody tr th {\n",
       "        vertical-align: top;\n",
       "    }\n",
       "\n",
       "    .dataframe thead th {\n",
       "        text-align: right;\n",
       "    }\n",
       "</style>\n",
       "<table border=\"1\" class=\"dataframe\">\n",
       "  <thead>\n",
       "    <tr style=\"text-align: right;\">\n",
       "      <th></th>\n",
       "      <th>country</th>\n",
       "      <th>year</th>\n",
       "      <th>no_schooling</th>\n",
       "      <th>total_primary</th>\n",
       "      <th>completed_primary</th>\n",
       "      <th>total_secondary</th>\n",
       "      <th>completed_secondary</th>\n",
       "      <th>total_tertiary</th>\n",
       "      <th>completed_tertiary</th>\n",
       "      <th>avg_years_total_schooling</th>\n",
       "      <th>avg_years_primary_schooling</th>\n",
       "      <th>avg_years_secondary_schooling</th>\n",
       "      <th>avg_years_tertiary_schooling</th>\n",
       "      <th>population_1000s</th>\n",
       "      <th>region</th>\n",
       "      <th>iso_alpha</th>\n",
       "    </tr>\n",
       "  </thead>\n",
       "  <tbody>\n",
       "    <tr>\n",
       "      <th>2</th>\n",
       "      <td>Australia</td>\n",
       "      <td>1880</td>\n",
       "      <td>41.5</td>\n",
       "      <td>58.0</td>\n",
       "      <td>9.7</td>\n",
       "      <td>0.3</td>\n",
       "      <td>0.1</td>\n",
       "      <td>0.2</td>\n",
       "      <td>0.1</td>\n",
       "      <td>2.08</td>\n",
       "      <td>2.06</td>\n",
       "      <td>0.02</td>\n",
       "      <td>0.00</td>\n",
       "      <td>1314.0</td>\n",
       "      <td>Advanced Economies</td>\n",
       "      <td>AUS</td>\n",
       "    </tr>\n",
       "    <tr>\n",
       "      <th>35</th>\n",
       "      <td>Austria</td>\n",
       "      <td>1880</td>\n",
       "      <td>58.4</td>\n",
       "      <td>40.6</td>\n",
       "      <td>14.8</td>\n",
       "      <td>0.6</td>\n",
       "      <td>0.1</td>\n",
       "      <td>0.4</td>\n",
       "      <td>0.1</td>\n",
       "      <td>2.37</td>\n",
       "      <td>2.30</td>\n",
       "      <td>0.06</td>\n",
       "      <td>0.01</td>\n",
       "      <td>13645.0</td>\n",
       "      <td>Advanced Economies</td>\n",
       "      <td>AUT</td>\n",
       "    </tr>\n",
       "    <tr>\n",
       "      <th>68</th>\n",
       "      <td>Belgium</td>\n",
       "      <td>1880</td>\n",
       "      <td>45.1</td>\n",
       "      <td>49.7</td>\n",
       "      <td>18.0</td>\n",
       "      <td>4.7</td>\n",
       "      <td>0.9</td>\n",
       "      <td>0.5</td>\n",
       "      <td>0.2</td>\n",
       "      <td>2.55</td>\n",
       "      <td>2.34</td>\n",
       "      <td>0.20</td>\n",
       "      <td>0.01</td>\n",
       "      <td>3316.0</td>\n",
       "      <td>Advanced Economies</td>\n",
       "      <td>BEL</td>\n",
       "    </tr>\n",
       "    <tr>\n",
       "      <th>101</th>\n",
       "      <td>Canada</td>\n",
       "      <td>1880</td>\n",
       "      <td>24.7</td>\n",
       "      <td>72.0</td>\n",
       "      <td>17.4</td>\n",
       "      <td>3.4</td>\n",
       "      <td>0.4</td>\n",
       "      <td>0.0</td>\n",
       "      <td>0.0</td>\n",
       "      <td>3.00</td>\n",
       "      <td>2.88</td>\n",
       "      <td>0.12</td>\n",
       "      <td>0.00</td>\n",
       "      <td>2471.0</td>\n",
       "      <td>Advanced Economies</td>\n",
       "      <td>CAN</td>\n",
       "    </tr>\n",
       "    <tr>\n",
       "      <th>134</th>\n",
       "      <td>Denmark</td>\n",
       "      <td>1880</td>\n",
       "      <td>11.9</td>\n",
       "      <td>85.4</td>\n",
       "      <td>30.9</td>\n",
       "      <td>2.6</td>\n",
       "      <td>0.5</td>\n",
       "      <td>0.0</td>\n",
       "      <td>0.0</td>\n",
       "      <td>2.56</td>\n",
       "      <td>2.44</td>\n",
       "      <td>0.13</td>\n",
       "      <td>0.00</td>\n",
       "      <td>1182.0</td>\n",
       "      <td>Advanced Economies</td>\n",
       "      <td>DNK</td>\n",
       "    </tr>\n",
       "    <tr>\n",
       "      <th>...</th>\n",
       "      <td>...</td>\n",
       "      <td>...</td>\n",
       "      <td>...</td>\n",
       "      <td>...</td>\n",
       "      <td>...</td>\n",
       "      <td>...</td>\n",
       "      <td>...</td>\n",
       "      <td>...</td>\n",
       "      <td>...</td>\n",
       "      <td>...</td>\n",
       "      <td>...</td>\n",
       "      <td>...</td>\n",
       "      <td>...</td>\n",
       "      <td>...</td>\n",
       "      <td>...</td>\n",
       "      <td>...</td>\n",
       "    </tr>\n",
       "    <tr>\n",
       "      <th>2774</th>\n",
       "      <td>Sierra Leone</td>\n",
       "      <td>1880</td>\n",
       "      <td>99.4</td>\n",
       "      <td>0.5</td>\n",
       "      <td>0.3</td>\n",
       "      <td>0.0</td>\n",
       "      <td>0.0</td>\n",
       "      <td>0.0</td>\n",
       "      <td>0.0</td>\n",
       "      <td>0.04</td>\n",
       "      <td>0.03</td>\n",
       "      <td>0.00</td>\n",
       "      <td>0.00</td>\n",
       "      <td>59.0</td>\n",
       "      <td>Sub-Saharan Africa</td>\n",
       "      <td>SLE</td>\n",
       "    </tr>\n",
       "    <tr>\n",
       "      <th>2807</th>\n",
       "      <td>South Africa</td>\n",
       "      <td>1880</td>\n",
       "      <td>81.5</td>\n",
       "      <td>18.5</td>\n",
       "      <td>10.3</td>\n",
       "      <td>0.0</td>\n",
       "      <td>0.0</td>\n",
       "      <td>0.0</td>\n",
       "      <td>0.0</td>\n",
       "      <td>1.01</td>\n",
       "      <td>1.01</td>\n",
       "      <td>0.00</td>\n",
       "      <td>0.00</td>\n",
       "      <td>1977.0</td>\n",
       "      <td>Sub-Saharan Africa</td>\n",
       "      <td>ZAF</td>\n",
       "    </tr>\n",
       "    <tr>\n",
       "      <th>2840</th>\n",
       "      <td>Sudan</td>\n",
       "      <td>1880</td>\n",
       "      <td>99.8</td>\n",
       "      <td>0.2</td>\n",
       "      <td>0.0</td>\n",
       "      <td>0.0</td>\n",
       "      <td>0.0</td>\n",
       "      <td>0.0</td>\n",
       "      <td>0.0</td>\n",
       "      <td>0.01</td>\n",
       "      <td>0.01</td>\n",
       "      <td>0.00</td>\n",
       "      <td>0.00</td>\n",
       "      <td>3602.0</td>\n",
       "      <td>Sub-Saharan Africa</td>\n",
       "      <td>SDN</td>\n",
       "    </tr>\n",
       "    <tr>\n",
       "      <th>2873</th>\n",
       "      <td>Uganda</td>\n",
       "      <td>1880</td>\n",
       "      <td>100.0</td>\n",
       "      <td>0.0</td>\n",
       "      <td>0.0</td>\n",
       "      <td>0.0</td>\n",
       "      <td>0.0</td>\n",
       "      <td>0.0</td>\n",
       "      <td>0.0</td>\n",
       "      <td>0.01</td>\n",
       "      <td>0.00</td>\n",
       "      <td>0.00</td>\n",
       "      <td>0.00</td>\n",
       "      <td>1325.0</td>\n",
       "      <td>Sub-Saharan Africa</td>\n",
       "      <td>UGA</td>\n",
       "    </tr>\n",
       "    <tr>\n",
       "      <th>2906</th>\n",
       "      <td>Zimbabwe</td>\n",
       "      <td>1880</td>\n",
       "      <td>98.9</td>\n",
       "      <td>1.1</td>\n",
       "      <td>0.3</td>\n",
       "      <td>0.0</td>\n",
       "      <td>0.0</td>\n",
       "      <td>0.0</td>\n",
       "      <td>0.0</td>\n",
       "      <td>0.04</td>\n",
       "      <td>0.04</td>\n",
       "      <td>0.00</td>\n",
       "      <td>0.00</td>\n",
       "      <td>739.0</td>\n",
       "      <td>Sub-Saharan Africa</td>\n",
       "      <td>ZWE</td>\n",
       "    </tr>\n",
       "  </tbody>\n",
       "</table>\n",
       "<p>89 rows × 16 columns</p>\n",
       "</div>"
      ],
      "text/plain": [
       "           country  year  no_schooling  total_primary  completed_primary  \\\n",
       "2        Australia  1880          41.5           58.0                9.7   \n",
       "35         Austria  1880          58.4           40.6               14.8   \n",
       "68         Belgium  1880          45.1           49.7               18.0   \n",
       "101         Canada  1880          24.7           72.0               17.4   \n",
       "134        Denmark  1880          11.9           85.4               30.9   \n",
       "...            ...   ...           ...            ...                ...   \n",
       "2774  Sierra Leone  1880          99.4            0.5                0.3   \n",
       "2807  South Africa  1880          81.5           18.5               10.3   \n",
       "2840         Sudan  1880          99.8            0.2                0.0   \n",
       "2873        Uganda  1880         100.0            0.0                0.0   \n",
       "2906      Zimbabwe  1880          98.9            1.1                0.3   \n",
       "\n",
       "      total_secondary  completed_secondary  total_tertiary  \\\n",
       "2                 0.3                  0.1             0.2   \n",
       "35                0.6                  0.1             0.4   \n",
       "68                4.7                  0.9             0.5   \n",
       "101               3.4                  0.4             0.0   \n",
       "134               2.6                  0.5             0.0   \n",
       "...               ...                  ...             ...   \n",
       "2774              0.0                  0.0             0.0   \n",
       "2807              0.0                  0.0             0.0   \n",
       "2840              0.0                  0.0             0.0   \n",
       "2873              0.0                  0.0             0.0   \n",
       "2906              0.0                  0.0             0.0   \n",
       "\n",
       "      completed_tertiary  avg_years_total_schooling  \\\n",
       "2                    0.1                       2.08   \n",
       "35                   0.1                       2.37   \n",
       "68                   0.2                       2.55   \n",
       "101                  0.0                       3.00   \n",
       "134                  0.0                       2.56   \n",
       "...                  ...                        ...   \n",
       "2774                 0.0                       0.04   \n",
       "2807                 0.0                       1.01   \n",
       "2840                 0.0                       0.01   \n",
       "2873                 0.0                       0.01   \n",
       "2906                 0.0                       0.04   \n",
       "\n",
       "      avg_years_primary_schooling  avg_years_secondary_schooling  \\\n",
       "2                            2.06                           0.02   \n",
       "35                           2.30                           0.06   \n",
       "68                           2.34                           0.20   \n",
       "101                          2.88                           0.12   \n",
       "134                          2.44                           0.13   \n",
       "...                           ...                            ...   \n",
       "2774                         0.03                           0.00   \n",
       "2807                         1.01                           0.00   \n",
       "2840                         0.01                           0.00   \n",
       "2873                         0.00                           0.00   \n",
       "2906                         0.04                           0.00   \n",
       "\n",
       "      avg_years_tertiary_schooling  population_1000s              region  \\\n",
       "2                             0.00            1314.0  Advanced Economies   \n",
       "35                            0.01           13645.0  Advanced Economies   \n",
       "68                            0.01            3316.0  Advanced Economies   \n",
       "101                           0.00            2471.0  Advanced Economies   \n",
       "134                           0.00            1182.0  Advanced Economies   \n",
       "...                            ...               ...                 ...   \n",
       "2774                          0.00              59.0  Sub-Saharan Africa   \n",
       "2807                          0.00            1977.0  Sub-Saharan Africa   \n",
       "2840                          0.00            3602.0  Sub-Saharan Africa   \n",
       "2873                          0.00            1325.0  Sub-Saharan Africa   \n",
       "2906                          0.00             739.0  Sub-Saharan Africa   \n",
       "\n",
       "     iso_alpha  \n",
       "2          AUS  \n",
       "35         AUT  \n",
       "68         BEL  \n",
       "101        CAN  \n",
       "134        DNK  \n",
       "...        ...  \n",
       "2774       SLE  \n",
       "2807       ZAF  \n",
       "2840       SDN  \n",
       "2873       UGA  \n",
       "2906       ZWE  \n",
       "\n",
       "[89 rows x 16 columns]"
      ]
     },
     "execution_count": 65,
     "metadata": {},
     "output_type": "execute_result"
    }
   ],
   "source": [
    "df1880 = df2[df2['year'] == 1880]\n",
    "df1880"
   ]
  },
  {
   "cell_type": "code",
   "execution_count": 66,
   "id": "31bfdca1",
   "metadata": {},
   "outputs": [
    {
     "data": {
      "application/vnd.plotly.v1+json": {
       "config": {
        "plotlyServerURL": "https://plot.ly"
       },
       "data": [
        {
         "coloraxis": "coloraxis",
         "customdata": [
          [
           "Australia",
           2.08
          ],
          [
           "Austria",
           2.37
          ],
          [
           "Belgium",
           2.55
          ],
          [
           "Canada",
           3
          ],
          [
           "Denmark",
           2.56
          ],
          [
           "Finland",
           0.17
          ],
          [
           "France",
           1.2
          ],
          [
           "Germany",
           2.67
          ],
          [
           "Greece",
           1.04
          ],
          [
           "Ireland",
           0.97
          ],
          [
           "Italy",
           1.08
          ],
          [
           "Japan",
           0.89
          ],
          [
           "Luxembourg",
           0.06
          ],
          [
           "Netherlands",
           3.11
          ],
          [
           "New Zealand",
           3.67
          ],
          [
           "Norway",
           4.74
          ],
          [
           "Portugal",
           0.42
          ],
          [
           "Spain",
           2.19
          ],
          [
           "Sweden",
           3.86
          ],
          [
           "Switzerland",
           4.48
          ],
          [
           "Türkiye",
           0.02
          ],
          [
           "USA",
           4.79
          ],
          [
           "United Kingdom of Great Britain and Northern Ireland",
           1.14
          ],
          [
           "Cambodia",
           0.01
          ],
          [
           "China",
           0.01
          ],
          [
           "Fiji",
           0.07
          ],
          [
           "Hong Kong",
           0.23
          ],
          [
           "India",
           0.05
          ],
          [
           "Indonesia",
           0.01
          ],
          [
           "Malaysia",
           0.09
          ],
          [
           "Myanmar",
           0.19
          ],
          [
           "Philippines",
           0.09
          ],
          [
           "Korea, Republic of",
           0.01
          ],
          [
           "Sri Lanka",
           0.21
          ],
          [
           "Taiwan",
           0.03
          ],
          [
           "Thailand",
           0.14
          ],
          [
           "Albania",
           0.03
          ],
          [
           "Bulgaria",
           1.09
          ],
          [
           "Hungary",
           2.27
          ],
          [
           "Poland",
           1.59
          ],
          [
           "Russian Federation",
           0.21
          ],
          [
           "Argentina",
           0.62
          ],
          [
           "Barbados",
           1.29
          ],
          [
           "Bolivia, Plurinational State of",
           0.11
          ],
          [
           "Brazil",
           0.23
          ],
          [
           "Chile",
           0.59
          ],
          [
           "Colombia",
           0.43
          ],
          [
           "Costa Rica",
           0.65
          ],
          [
           "Cuba",
           0.22
          ],
          [
           "Dominican Republic",
           0.14
          ],
          [
           "Ecuador",
           0.36
          ],
          [
           "El Salvador",
           0.41
          ],
          [
           "Guatemala",
           0.4
          ],
          [
           "Guyana",
           0.65
          ],
          [
           "Honduras",
           0.43
          ],
          [
           "Jamaica",
           1.02
          ],
          [
           "Mexico",
           0.58
          ],
          [
           "Nicaragua",
           0.29
          ],
          [
           "Panama",
           0.19
          ],
          [
           "Paraguay",
           0.13
          ],
          [
           "Peru",
           0.1
          ],
          [
           "Trinidad and Tobago",
           0.7
          ],
          [
           "Uruguay",
           0.56
          ],
          [
           "Venezuela, Bolivarian Republic of",
           0.02
          ],
          [
           "Algeria",
           0.17
          ],
          [
           "Egypt",
           0.04
          ],
          [
           "Iran, Islamic Republic of",
           0.01
          ],
          [
           "Iraq",
           0.01
          ],
          [
           "Malta",
           0.77
          ],
          [
           "Morocco",
           0.01
          ],
          [
           "Syrian Arab Republic",
           0.04
          ],
          [
           "Tunisia",
           0.01
          ],
          [
           "Benin",
           0.01
          ],
          [
           "Cameroon",
           0.02
          ],
          [
           "Cote dIvoire",
           0.13
          ],
          [
           "Ghana",
           0.03
          ],
          [
           "Kenya",
           0.01
          ],
          [
           "Malawi",
           0.01
          ],
          [
           "Mali",
           0.01
          ],
          [
           "Mauritius",
           0.32
          ],
          [
           "Mozambique",
           0.01
          ],
          [
           "Niger",
           0.01
          ],
          [
           "Réunion",
           0.84
          ],
          [
           "Senegal",
           0.01
          ],
          [
           "Sierra Leone",
           0.04
          ],
          [
           "South Africa",
           1.01
          ],
          [
           "Sudan",
           0.01
          ],
          [
           "Uganda",
           0.01
          ],
          [
           "Zimbabwe",
           0.04
          ]
         ],
         "geo": "geo",
         "hovertemplate": "iso_alpha=%{location}<br>country=%{customdata[0]}<br>avg_years_total_schooling=%{z}<extra></extra>",
         "locations": [
          "AUS",
          "AUT",
          "BEL",
          "CAN",
          "DNK",
          "FIN",
          "FRA",
          "DEU",
          "GRC",
          "IRL",
          "ITA",
          "JPN",
          "LUX",
          "NLD",
          "NZL",
          "NOR",
          "PRT",
          "ESP",
          "SWE",
          "CHE",
          "TUR",
          "USA",
          "GBR",
          "KHM",
          "CHN",
          "FJI",
          "HKG",
          "IND",
          "IDN",
          "MYS",
          "MMR",
          "PHL",
          "KOR",
          "LKA",
          "TWN",
          "THA",
          "ALB",
          "BGR",
          "HUN",
          "POL",
          "RUS",
          "ARG",
          "BRB",
          "BOL",
          "BRA",
          "CHL",
          "COL",
          "CRI",
          "CUB",
          "DOM",
          "ECU",
          "SLV",
          "GTM",
          "GUY",
          "HND",
          "JAM",
          "MEX",
          "NIC",
          "PAN",
          "PRY",
          "PER",
          "TTO",
          "URY",
          "VEN",
          "DZA",
          "EGY",
          "IRN",
          "IRQ",
          "MLT",
          "MAR",
          "SYR",
          "TUN",
          "BEN",
          "CMR",
          null,
          "GHA",
          "KEN",
          "MWI",
          "MLI",
          "MUS",
          "MOZ",
          "NER",
          "REU",
          "SEN",
          "SLE",
          "ZAF",
          "SDN",
          "UGA",
          "ZWE"
         ],
         "name": "",
         "type": "choropleth",
         "z": [
          2.08,
          2.37,
          2.55,
          3,
          2.56,
          0.17,
          1.2,
          2.67,
          1.04,
          0.97,
          1.08,
          0.89,
          0.06,
          3.11,
          3.67,
          4.74,
          0.42,
          2.19,
          3.86,
          4.48,
          0.02,
          4.79,
          1.14,
          0.01,
          0.01,
          0.07,
          0.23,
          0.05,
          0.01,
          0.09,
          0.19,
          0.09,
          0.01,
          0.21,
          0.03,
          0.14,
          0.03,
          1.09,
          2.27,
          1.59,
          0.21,
          0.62,
          1.29,
          0.11,
          0.23,
          0.59,
          0.43,
          0.65,
          0.22,
          0.14,
          0.36,
          0.41,
          0.4,
          0.65,
          0.43,
          1.02,
          0.58,
          0.29,
          0.19,
          0.13,
          0.1,
          0.7,
          0.56,
          0.02,
          0.17,
          0.04,
          0.01,
          0.01,
          0.77,
          0.01,
          0.04,
          0.01,
          0.01,
          0.02,
          0.13,
          0.03,
          0.01,
          0.01,
          0.01,
          0.32,
          0.01,
          0.01,
          0.84,
          0.01,
          0.04,
          1.01,
          0.01,
          0.01,
          0.04
         ]
        }
       ],
       "layout": {
        "coloraxis": {
         "colorbar": {
          "title": {
           "text": "avg_years_total_schooling"
          }
         },
         "colorscale": [
          [
           0,
           "rgb(202, 86, 44)"
          ],
          [
           0.16666666666666666,
           "rgb(222, 138, 90)"
          ],
          [
           0.3333333333333333,
           "rgb(237, 187, 138)"
          ],
          [
           0.5,
           "rgb(246, 237, 189)"
          ],
          [
           0.6666666666666666,
           "rgb(180, 200, 168)"
          ],
          [
           0.8333333333333334,
           "rgb(112, 164, 148)"
          ],
          [
           1,
           "rgb(0, 128, 128)"
          ]
         ]
        },
        "geo": {
         "center": {},
         "domain": {
          "x": [
           0,
           1
          ],
          "y": [
           0,
           1
          ]
         }
        },
        "legend": {
         "tracegroupgap": 0
        },
        "margin": {
         "t": 60
        },
        "template": {
         "data": {
          "bar": [
           {
            "error_x": {
             "color": "#2a3f5f"
            },
            "error_y": {
             "color": "#2a3f5f"
            },
            "marker": {
             "line": {
              "color": "#E5ECF6",
              "width": 0.5
             },
             "pattern": {
              "fillmode": "overlay",
              "size": 10,
              "solidity": 0.2
             }
            },
            "type": "bar"
           }
          ],
          "barpolar": [
           {
            "marker": {
             "line": {
              "color": "#E5ECF6",
              "width": 0.5
             },
             "pattern": {
              "fillmode": "overlay",
              "size": 10,
              "solidity": 0.2
             }
            },
            "type": "barpolar"
           }
          ],
          "carpet": [
           {
            "aaxis": {
             "endlinecolor": "#2a3f5f",
             "gridcolor": "white",
             "linecolor": "white",
             "minorgridcolor": "white",
             "startlinecolor": "#2a3f5f"
            },
            "baxis": {
             "endlinecolor": "#2a3f5f",
             "gridcolor": "white",
             "linecolor": "white",
             "minorgridcolor": "white",
             "startlinecolor": "#2a3f5f"
            },
            "type": "carpet"
           }
          ],
          "choropleth": [
           {
            "colorbar": {
             "outlinewidth": 0,
             "ticks": ""
            },
            "type": "choropleth"
           }
          ],
          "contour": [
           {
            "colorbar": {
             "outlinewidth": 0,
             "ticks": ""
            },
            "colorscale": [
             [
              0,
              "#0d0887"
             ],
             [
              0.1111111111111111,
              "#46039f"
             ],
             [
              0.2222222222222222,
              "#7201a8"
             ],
             [
              0.3333333333333333,
              "#9c179e"
             ],
             [
              0.4444444444444444,
              "#bd3786"
             ],
             [
              0.5555555555555556,
              "#d8576b"
             ],
             [
              0.6666666666666666,
              "#ed7953"
             ],
             [
              0.7777777777777778,
              "#fb9f3a"
             ],
             [
              0.8888888888888888,
              "#fdca26"
             ],
             [
              1,
              "#f0f921"
             ]
            ],
            "type": "contour"
           }
          ],
          "contourcarpet": [
           {
            "colorbar": {
             "outlinewidth": 0,
             "ticks": ""
            },
            "type": "contourcarpet"
           }
          ],
          "heatmap": [
           {
            "colorbar": {
             "outlinewidth": 0,
             "ticks": ""
            },
            "colorscale": [
             [
              0,
              "#0d0887"
             ],
             [
              0.1111111111111111,
              "#46039f"
             ],
             [
              0.2222222222222222,
              "#7201a8"
             ],
             [
              0.3333333333333333,
              "#9c179e"
             ],
             [
              0.4444444444444444,
              "#bd3786"
             ],
             [
              0.5555555555555556,
              "#d8576b"
             ],
             [
              0.6666666666666666,
              "#ed7953"
             ],
             [
              0.7777777777777778,
              "#fb9f3a"
             ],
             [
              0.8888888888888888,
              "#fdca26"
             ],
             [
              1,
              "#f0f921"
             ]
            ],
            "type": "heatmap"
           }
          ],
          "heatmapgl": [
           {
            "colorbar": {
             "outlinewidth": 0,
             "ticks": ""
            },
            "colorscale": [
             [
              0,
              "#0d0887"
             ],
             [
              0.1111111111111111,
              "#46039f"
             ],
             [
              0.2222222222222222,
              "#7201a8"
             ],
             [
              0.3333333333333333,
              "#9c179e"
             ],
             [
              0.4444444444444444,
              "#bd3786"
             ],
             [
              0.5555555555555556,
              "#d8576b"
             ],
             [
              0.6666666666666666,
              "#ed7953"
             ],
             [
              0.7777777777777778,
              "#fb9f3a"
             ],
             [
              0.8888888888888888,
              "#fdca26"
             ],
             [
              1,
              "#f0f921"
             ]
            ],
            "type": "heatmapgl"
           }
          ],
          "histogram": [
           {
            "marker": {
             "pattern": {
              "fillmode": "overlay",
              "size": 10,
              "solidity": 0.2
             }
            },
            "type": "histogram"
           }
          ],
          "histogram2d": [
           {
            "colorbar": {
             "outlinewidth": 0,
             "ticks": ""
            },
            "colorscale": [
             [
              0,
              "#0d0887"
             ],
             [
              0.1111111111111111,
              "#46039f"
             ],
             [
              0.2222222222222222,
              "#7201a8"
             ],
             [
              0.3333333333333333,
              "#9c179e"
             ],
             [
              0.4444444444444444,
              "#bd3786"
             ],
             [
              0.5555555555555556,
              "#d8576b"
             ],
             [
              0.6666666666666666,
              "#ed7953"
             ],
             [
              0.7777777777777778,
              "#fb9f3a"
             ],
             [
              0.8888888888888888,
              "#fdca26"
             ],
             [
              1,
              "#f0f921"
             ]
            ],
            "type": "histogram2d"
           }
          ],
          "histogram2dcontour": [
           {
            "colorbar": {
             "outlinewidth": 0,
             "ticks": ""
            },
            "colorscale": [
             [
              0,
              "#0d0887"
             ],
             [
              0.1111111111111111,
              "#46039f"
             ],
             [
              0.2222222222222222,
              "#7201a8"
             ],
             [
              0.3333333333333333,
              "#9c179e"
             ],
             [
              0.4444444444444444,
              "#bd3786"
             ],
             [
              0.5555555555555556,
              "#d8576b"
             ],
             [
              0.6666666666666666,
              "#ed7953"
             ],
             [
              0.7777777777777778,
              "#fb9f3a"
             ],
             [
              0.8888888888888888,
              "#fdca26"
             ],
             [
              1,
              "#f0f921"
             ]
            ],
            "type": "histogram2dcontour"
           }
          ],
          "mesh3d": [
           {
            "colorbar": {
             "outlinewidth": 0,
             "ticks": ""
            },
            "type": "mesh3d"
           }
          ],
          "parcoords": [
           {
            "line": {
             "colorbar": {
              "outlinewidth": 0,
              "ticks": ""
             }
            },
            "type": "parcoords"
           }
          ],
          "pie": [
           {
            "automargin": true,
            "type": "pie"
           }
          ],
          "scatter": [
           {
            "fillpattern": {
             "fillmode": "overlay",
             "size": 10,
             "solidity": 0.2
            },
            "type": "scatter"
           }
          ],
          "scatter3d": [
           {
            "line": {
             "colorbar": {
              "outlinewidth": 0,
              "ticks": ""
             }
            },
            "marker": {
             "colorbar": {
              "outlinewidth": 0,
              "ticks": ""
             }
            },
            "type": "scatter3d"
           }
          ],
          "scattercarpet": [
           {
            "marker": {
             "colorbar": {
              "outlinewidth": 0,
              "ticks": ""
             }
            },
            "type": "scattercarpet"
           }
          ],
          "scattergeo": [
           {
            "marker": {
             "colorbar": {
              "outlinewidth": 0,
              "ticks": ""
             }
            },
            "type": "scattergeo"
           }
          ],
          "scattergl": [
           {
            "marker": {
             "colorbar": {
              "outlinewidth": 0,
              "ticks": ""
             }
            },
            "type": "scattergl"
           }
          ],
          "scattermapbox": [
           {
            "marker": {
             "colorbar": {
              "outlinewidth": 0,
              "ticks": ""
             }
            },
            "type": "scattermapbox"
           }
          ],
          "scatterpolar": [
           {
            "marker": {
             "colorbar": {
              "outlinewidth": 0,
              "ticks": ""
             }
            },
            "type": "scatterpolar"
           }
          ],
          "scatterpolargl": [
           {
            "marker": {
             "colorbar": {
              "outlinewidth": 0,
              "ticks": ""
             }
            },
            "type": "scatterpolargl"
           }
          ],
          "scatterternary": [
           {
            "marker": {
             "colorbar": {
              "outlinewidth": 0,
              "ticks": ""
             }
            },
            "type": "scatterternary"
           }
          ],
          "surface": [
           {
            "colorbar": {
             "outlinewidth": 0,
             "ticks": ""
            },
            "colorscale": [
             [
              0,
              "#0d0887"
             ],
             [
              0.1111111111111111,
              "#46039f"
             ],
             [
              0.2222222222222222,
              "#7201a8"
             ],
             [
              0.3333333333333333,
              "#9c179e"
             ],
             [
              0.4444444444444444,
              "#bd3786"
             ],
             [
              0.5555555555555556,
              "#d8576b"
             ],
             [
              0.6666666666666666,
              "#ed7953"
             ],
             [
              0.7777777777777778,
              "#fb9f3a"
             ],
             [
              0.8888888888888888,
              "#fdca26"
             ],
             [
              1,
              "#f0f921"
             ]
            ],
            "type": "surface"
           }
          ],
          "table": [
           {
            "cells": {
             "fill": {
              "color": "#EBF0F8"
             },
             "line": {
              "color": "white"
             }
            },
            "header": {
             "fill": {
              "color": "#C8D4E3"
             },
             "line": {
              "color": "white"
             }
            },
            "type": "table"
           }
          ]
         },
         "layout": {
          "annotationdefaults": {
           "arrowcolor": "#2a3f5f",
           "arrowhead": 0,
           "arrowwidth": 1
          },
          "autotypenumbers": "strict",
          "coloraxis": {
           "colorbar": {
            "outlinewidth": 0,
            "ticks": ""
           }
          },
          "colorscale": {
           "diverging": [
            [
             0,
             "#8e0152"
            ],
            [
             0.1,
             "#c51b7d"
            ],
            [
             0.2,
             "#de77ae"
            ],
            [
             0.3,
             "#f1b6da"
            ],
            [
             0.4,
             "#fde0ef"
            ],
            [
             0.5,
             "#f7f7f7"
            ],
            [
             0.6,
             "#e6f5d0"
            ],
            [
             0.7,
             "#b8e186"
            ],
            [
             0.8,
             "#7fbc41"
            ],
            [
             0.9,
             "#4d9221"
            ],
            [
             1,
             "#276419"
            ]
           ],
           "sequential": [
            [
             0,
             "#0d0887"
            ],
            [
             0.1111111111111111,
             "#46039f"
            ],
            [
             0.2222222222222222,
             "#7201a8"
            ],
            [
             0.3333333333333333,
             "#9c179e"
            ],
            [
             0.4444444444444444,
             "#bd3786"
            ],
            [
             0.5555555555555556,
             "#d8576b"
            ],
            [
             0.6666666666666666,
             "#ed7953"
            ],
            [
             0.7777777777777778,
             "#fb9f3a"
            ],
            [
             0.8888888888888888,
             "#fdca26"
            ],
            [
             1,
             "#f0f921"
            ]
           ],
           "sequentialminus": [
            [
             0,
             "#0d0887"
            ],
            [
             0.1111111111111111,
             "#46039f"
            ],
            [
             0.2222222222222222,
             "#7201a8"
            ],
            [
             0.3333333333333333,
             "#9c179e"
            ],
            [
             0.4444444444444444,
             "#bd3786"
            ],
            [
             0.5555555555555556,
             "#d8576b"
            ],
            [
             0.6666666666666666,
             "#ed7953"
            ],
            [
             0.7777777777777778,
             "#fb9f3a"
            ],
            [
             0.8888888888888888,
             "#fdca26"
            ],
            [
             1,
             "#f0f921"
            ]
           ]
          },
          "colorway": [
           "#636efa",
           "#EF553B",
           "#00cc96",
           "#ab63fa",
           "#FFA15A",
           "#19d3f3",
           "#FF6692",
           "#B6E880",
           "#FF97FF",
           "#FECB52"
          ],
          "font": {
           "color": "#2a3f5f"
          },
          "geo": {
           "bgcolor": "white",
           "lakecolor": "white",
           "landcolor": "#E5ECF6",
           "showlakes": true,
           "showland": true,
           "subunitcolor": "white"
          },
          "hoverlabel": {
           "align": "left"
          },
          "hovermode": "closest",
          "mapbox": {
           "style": "light"
          },
          "paper_bgcolor": "white",
          "plot_bgcolor": "#E5ECF6",
          "polar": {
           "angularaxis": {
            "gridcolor": "white",
            "linecolor": "white",
            "ticks": ""
           },
           "bgcolor": "#E5ECF6",
           "radialaxis": {
            "gridcolor": "white",
            "linecolor": "white",
            "ticks": ""
           }
          },
          "scene": {
           "xaxis": {
            "backgroundcolor": "#E5ECF6",
            "gridcolor": "white",
            "gridwidth": 2,
            "linecolor": "white",
            "showbackground": true,
            "ticks": "",
            "zerolinecolor": "white"
           },
           "yaxis": {
            "backgroundcolor": "#E5ECF6",
            "gridcolor": "white",
            "gridwidth": 2,
            "linecolor": "white",
            "showbackground": true,
            "ticks": "",
            "zerolinecolor": "white"
           },
           "zaxis": {
            "backgroundcolor": "#E5ECF6",
            "gridcolor": "white",
            "gridwidth": 2,
            "linecolor": "white",
            "showbackground": true,
            "ticks": "",
            "zerolinecolor": "white"
           }
          },
          "shapedefaults": {
           "line": {
            "color": "#2a3f5f"
           }
          },
          "ternary": {
           "aaxis": {
            "gridcolor": "white",
            "linecolor": "white",
            "ticks": ""
           },
           "baxis": {
            "gridcolor": "white",
            "linecolor": "white",
            "ticks": ""
           },
           "bgcolor": "#E5ECF6",
           "caxis": {
            "gridcolor": "white",
            "linecolor": "white",
            "ticks": ""
           }
          },
          "title": {
           "x": 0.05
          },
          "xaxis": {
           "automargin": true,
           "gridcolor": "white",
           "linecolor": "white",
           "ticks": "",
           "title": {
            "standoff": 15
           },
           "zerolinecolor": "white",
           "zerolinewidth": 2
          },
          "yaxis": {
           "automargin": true,
           "gridcolor": "white",
           "linecolor": "white",
           "ticks": "",
           "title": {
            "standoff": 15
           },
           "zerolinecolor": "white",
           "zerolinewidth": 2
          }
         }
        }
       }
      },
      "text/html": [
       "<div>                            <div id=\"d44bbcf4-3f41-46f2-ab35-13f31fab2af3\" class=\"plotly-graph-div\" style=\"height:525px; width:100%;\"></div>            <script type=\"text/javascript\">                require([\"plotly\"], function(Plotly) {                    window.PLOTLYENV=window.PLOTLYENV || {};                                    if (document.getElementById(\"d44bbcf4-3f41-46f2-ab35-13f31fab2af3\")) {                    Plotly.newPlot(                        \"d44bbcf4-3f41-46f2-ab35-13f31fab2af3\",                        [{\"coloraxis\":\"coloraxis\",\"customdata\":[[\"Australia\",2.08],[\"Austria\",2.37],[\"Belgium\",2.55],[\"Canada\",3.0],[\"Denmark\",2.56],[\"Finland\",0.17],[\"France\",1.2],[\"Germany\",2.67],[\"Greece\",1.04],[\"Ireland\",0.97],[\"Italy\",1.08],[\"Japan\",0.89],[\"Luxembourg\",0.06],[\"Netherlands\",3.11],[\"New Zealand\",3.67],[\"Norway\",4.74],[\"Portugal\",0.42],[\"Spain\",2.19],[\"Sweden\",3.86],[\"Switzerland\",4.48],[\"T\\u00fcrkiye\",0.02],[\"USA\",4.79],[\"United Kingdom of Great Britain and Northern Ireland\",1.14],[\"Cambodia\",0.01],[\"China\",0.01],[\"Fiji\",0.07],[\"Hong Kong\",0.23],[\"India\",0.05],[\"Indonesia\",0.01],[\"Malaysia\",0.09],[\"Myanmar\",0.19],[\"Philippines\",0.09],[\"Korea, Republic of\",0.01],[\"Sri Lanka\",0.21],[\"Taiwan\",0.03],[\"Thailand\",0.14],[\"Albania\",0.03],[\"Bulgaria\",1.09],[\"Hungary\",2.27],[\"Poland\",1.59],[\"Russian Federation\",0.21],[\"Argentina\",0.62],[\"Barbados\",1.29],[\"Bolivia, Plurinational State of\",0.11],[\"Brazil\",0.23],[\"Chile\",0.59],[\"Colombia\",0.43],[\"Costa Rica\",0.65],[\"Cuba\",0.22],[\"Dominican Republic\",0.14],[\"Ecuador\",0.36],[\"El Salvador\",0.41],[\"Guatemala\",0.4],[\"Guyana\",0.65],[\"Honduras\",0.43],[\"Jamaica\",1.02],[\"Mexico\",0.58],[\"Nicaragua\",0.29],[\"Panama\",0.19],[\"Paraguay\",0.13],[\"Peru\",0.1],[\"Trinidad and Tobago\",0.7],[\"Uruguay\",0.56],[\"Venezuela, Bolivarian Republic of\",0.02],[\"Algeria\",0.17],[\"Egypt\",0.04],[\"Iran, Islamic Republic of\",0.01],[\"Iraq\",0.01],[\"Malta\",0.77],[\"Morocco\",0.01],[\"Syrian Arab Republic\",0.04],[\"Tunisia\",0.01],[\"Benin\",0.01],[\"Cameroon\",0.02],[\"Cote dIvoire\",0.13],[\"Ghana\",0.03],[\"Kenya\",0.01],[\"Malawi\",0.01],[\"Mali\",0.01],[\"Mauritius\",0.32],[\"Mozambique\",0.01],[\"Niger\",0.01],[\"R\\u00e9union\",0.84],[\"Senegal\",0.01],[\"Sierra Leone\",0.04],[\"South Africa\",1.01],[\"Sudan\",0.01],[\"Uganda\",0.01],[\"Zimbabwe\",0.04]],\"geo\":\"geo\",\"hovertemplate\":\"iso_alpha=%{location}<br>country=%{customdata[0]}<br>avg_years_total_schooling=%{z}<extra></extra>\",\"locations\":[\"AUS\",\"AUT\",\"BEL\",\"CAN\",\"DNK\",\"FIN\",\"FRA\",\"DEU\",\"GRC\",\"IRL\",\"ITA\",\"JPN\",\"LUX\",\"NLD\",\"NZL\",\"NOR\",\"PRT\",\"ESP\",\"SWE\",\"CHE\",\"TUR\",\"USA\",\"GBR\",\"KHM\",\"CHN\",\"FJI\",\"HKG\",\"IND\",\"IDN\",\"MYS\",\"MMR\",\"PHL\",\"KOR\",\"LKA\",\"TWN\",\"THA\",\"ALB\",\"BGR\",\"HUN\",\"POL\",\"RUS\",\"ARG\",\"BRB\",\"BOL\",\"BRA\",\"CHL\",\"COL\",\"CRI\",\"CUB\",\"DOM\",\"ECU\",\"SLV\",\"GTM\",\"GUY\",\"HND\",\"JAM\",\"MEX\",\"NIC\",\"PAN\",\"PRY\",\"PER\",\"TTO\",\"URY\",\"VEN\",\"DZA\",\"EGY\",\"IRN\",\"IRQ\",\"MLT\",\"MAR\",\"SYR\",\"TUN\",\"BEN\",\"CMR\",null,\"GHA\",\"KEN\",\"MWI\",\"MLI\",\"MUS\",\"MOZ\",\"NER\",\"REU\",\"SEN\",\"SLE\",\"ZAF\",\"SDN\",\"UGA\",\"ZWE\"],\"name\":\"\",\"z\":[2.08,2.37,2.55,3.0,2.56,0.17,1.2,2.67,1.04,0.97,1.08,0.89,0.06,3.11,3.67,4.74,0.42,2.19,3.86,4.48,0.02,4.79,1.14,0.01,0.01,0.07,0.23,0.05,0.01,0.09,0.19,0.09,0.01,0.21,0.03,0.14,0.03,1.09,2.27,1.59,0.21,0.62,1.29,0.11,0.23,0.59,0.43,0.65,0.22,0.14,0.36,0.41,0.4,0.65,0.43,1.02,0.58,0.29,0.19,0.13,0.1,0.7,0.56,0.02,0.17,0.04,0.01,0.01,0.77,0.01,0.04,0.01,0.01,0.02,0.13,0.03,0.01,0.01,0.01,0.32,0.01,0.01,0.84,0.01,0.04,1.01,0.01,0.01,0.04],\"type\":\"choropleth\"}],                        {\"template\":{\"data\":{\"histogram2dcontour\":[{\"type\":\"histogram2dcontour\",\"colorbar\":{\"outlinewidth\":0,\"ticks\":\"\"},\"colorscale\":[[0.0,\"#0d0887\"],[0.1111111111111111,\"#46039f\"],[0.2222222222222222,\"#7201a8\"],[0.3333333333333333,\"#9c179e\"],[0.4444444444444444,\"#bd3786\"],[0.5555555555555556,\"#d8576b\"],[0.6666666666666666,\"#ed7953\"],[0.7777777777777778,\"#fb9f3a\"],[0.8888888888888888,\"#fdca26\"],[1.0,\"#f0f921\"]]}],\"choropleth\":[{\"type\":\"choropleth\",\"colorbar\":{\"outlinewidth\":0,\"ticks\":\"\"}}],\"histogram2d\":[{\"type\":\"histogram2d\",\"colorbar\":{\"outlinewidth\":0,\"ticks\":\"\"},\"colorscale\":[[0.0,\"#0d0887\"],[0.1111111111111111,\"#46039f\"],[0.2222222222222222,\"#7201a8\"],[0.3333333333333333,\"#9c179e\"],[0.4444444444444444,\"#bd3786\"],[0.5555555555555556,\"#d8576b\"],[0.6666666666666666,\"#ed7953\"],[0.7777777777777778,\"#fb9f3a\"],[0.8888888888888888,\"#fdca26\"],[1.0,\"#f0f921\"]]}],\"heatmap\":[{\"type\":\"heatmap\",\"colorbar\":{\"outlinewidth\":0,\"ticks\":\"\"},\"colorscale\":[[0.0,\"#0d0887\"],[0.1111111111111111,\"#46039f\"],[0.2222222222222222,\"#7201a8\"],[0.3333333333333333,\"#9c179e\"],[0.4444444444444444,\"#bd3786\"],[0.5555555555555556,\"#d8576b\"],[0.6666666666666666,\"#ed7953\"],[0.7777777777777778,\"#fb9f3a\"],[0.8888888888888888,\"#fdca26\"],[1.0,\"#f0f921\"]]}],\"heatmapgl\":[{\"type\":\"heatmapgl\",\"colorbar\":{\"outlinewidth\":0,\"ticks\":\"\"},\"colorscale\":[[0.0,\"#0d0887\"],[0.1111111111111111,\"#46039f\"],[0.2222222222222222,\"#7201a8\"],[0.3333333333333333,\"#9c179e\"],[0.4444444444444444,\"#bd3786\"],[0.5555555555555556,\"#d8576b\"],[0.6666666666666666,\"#ed7953\"],[0.7777777777777778,\"#fb9f3a\"],[0.8888888888888888,\"#fdca26\"],[1.0,\"#f0f921\"]]}],\"contourcarpet\":[{\"type\":\"contourcarpet\",\"colorbar\":{\"outlinewidth\":0,\"ticks\":\"\"}}],\"contour\":[{\"type\":\"contour\",\"colorbar\":{\"outlinewidth\":0,\"ticks\":\"\"},\"colorscale\":[[0.0,\"#0d0887\"],[0.1111111111111111,\"#46039f\"],[0.2222222222222222,\"#7201a8\"],[0.3333333333333333,\"#9c179e\"],[0.4444444444444444,\"#bd3786\"],[0.5555555555555556,\"#d8576b\"],[0.6666666666666666,\"#ed7953\"],[0.7777777777777778,\"#fb9f3a\"],[0.8888888888888888,\"#fdca26\"],[1.0,\"#f0f921\"]]}],\"surface\":[{\"type\":\"surface\",\"colorbar\":{\"outlinewidth\":0,\"ticks\":\"\"},\"colorscale\":[[0.0,\"#0d0887\"],[0.1111111111111111,\"#46039f\"],[0.2222222222222222,\"#7201a8\"],[0.3333333333333333,\"#9c179e\"],[0.4444444444444444,\"#bd3786\"],[0.5555555555555556,\"#d8576b\"],[0.6666666666666666,\"#ed7953\"],[0.7777777777777778,\"#fb9f3a\"],[0.8888888888888888,\"#fdca26\"],[1.0,\"#f0f921\"]]}],\"mesh3d\":[{\"type\":\"mesh3d\",\"colorbar\":{\"outlinewidth\":0,\"ticks\":\"\"}}],\"scatter\":[{\"fillpattern\":{\"fillmode\":\"overlay\",\"size\":10,\"solidity\":0.2},\"type\":\"scatter\"}],\"parcoords\":[{\"type\":\"parcoords\",\"line\":{\"colorbar\":{\"outlinewidth\":0,\"ticks\":\"\"}}}],\"scatterpolargl\":[{\"type\":\"scatterpolargl\",\"marker\":{\"colorbar\":{\"outlinewidth\":0,\"ticks\":\"\"}}}],\"bar\":[{\"error_x\":{\"color\":\"#2a3f5f\"},\"error_y\":{\"color\":\"#2a3f5f\"},\"marker\":{\"line\":{\"color\":\"#E5ECF6\",\"width\":0.5},\"pattern\":{\"fillmode\":\"overlay\",\"size\":10,\"solidity\":0.2}},\"type\":\"bar\"}],\"scattergeo\":[{\"type\":\"scattergeo\",\"marker\":{\"colorbar\":{\"outlinewidth\":0,\"ticks\":\"\"}}}],\"scatterpolar\":[{\"type\":\"scatterpolar\",\"marker\":{\"colorbar\":{\"outlinewidth\":0,\"ticks\":\"\"}}}],\"histogram\":[{\"marker\":{\"pattern\":{\"fillmode\":\"overlay\",\"size\":10,\"solidity\":0.2}},\"type\":\"histogram\"}],\"scattergl\":[{\"type\":\"scattergl\",\"marker\":{\"colorbar\":{\"outlinewidth\":0,\"ticks\":\"\"}}}],\"scatter3d\":[{\"type\":\"scatter3d\",\"line\":{\"colorbar\":{\"outlinewidth\":0,\"ticks\":\"\"}},\"marker\":{\"colorbar\":{\"outlinewidth\":0,\"ticks\":\"\"}}}],\"scattermapbox\":[{\"type\":\"scattermapbox\",\"marker\":{\"colorbar\":{\"outlinewidth\":0,\"ticks\":\"\"}}}],\"scatterternary\":[{\"type\":\"scatterternary\",\"marker\":{\"colorbar\":{\"outlinewidth\":0,\"ticks\":\"\"}}}],\"scattercarpet\":[{\"type\":\"scattercarpet\",\"marker\":{\"colorbar\":{\"outlinewidth\":0,\"ticks\":\"\"}}}],\"carpet\":[{\"aaxis\":{\"endlinecolor\":\"#2a3f5f\",\"gridcolor\":\"white\",\"linecolor\":\"white\",\"minorgridcolor\":\"white\",\"startlinecolor\":\"#2a3f5f\"},\"baxis\":{\"endlinecolor\":\"#2a3f5f\",\"gridcolor\":\"white\",\"linecolor\":\"white\",\"minorgridcolor\":\"white\",\"startlinecolor\":\"#2a3f5f\"},\"type\":\"carpet\"}],\"table\":[{\"cells\":{\"fill\":{\"color\":\"#EBF0F8\"},\"line\":{\"color\":\"white\"}},\"header\":{\"fill\":{\"color\":\"#C8D4E3\"},\"line\":{\"color\":\"white\"}},\"type\":\"table\"}],\"barpolar\":[{\"marker\":{\"line\":{\"color\":\"#E5ECF6\",\"width\":0.5},\"pattern\":{\"fillmode\":\"overlay\",\"size\":10,\"solidity\":0.2}},\"type\":\"barpolar\"}],\"pie\":[{\"automargin\":true,\"type\":\"pie\"}]},\"layout\":{\"autotypenumbers\":\"strict\",\"colorway\":[\"#636efa\",\"#EF553B\",\"#00cc96\",\"#ab63fa\",\"#FFA15A\",\"#19d3f3\",\"#FF6692\",\"#B6E880\",\"#FF97FF\",\"#FECB52\"],\"font\":{\"color\":\"#2a3f5f\"},\"hovermode\":\"closest\",\"hoverlabel\":{\"align\":\"left\"},\"paper_bgcolor\":\"white\",\"plot_bgcolor\":\"#E5ECF6\",\"polar\":{\"bgcolor\":\"#E5ECF6\",\"angularaxis\":{\"gridcolor\":\"white\",\"linecolor\":\"white\",\"ticks\":\"\"},\"radialaxis\":{\"gridcolor\":\"white\",\"linecolor\":\"white\",\"ticks\":\"\"}},\"ternary\":{\"bgcolor\":\"#E5ECF6\",\"aaxis\":{\"gridcolor\":\"white\",\"linecolor\":\"white\",\"ticks\":\"\"},\"baxis\":{\"gridcolor\":\"white\",\"linecolor\":\"white\",\"ticks\":\"\"},\"caxis\":{\"gridcolor\":\"white\",\"linecolor\":\"white\",\"ticks\":\"\"}},\"coloraxis\":{\"colorbar\":{\"outlinewidth\":0,\"ticks\":\"\"}},\"colorscale\":{\"sequential\":[[0.0,\"#0d0887\"],[0.1111111111111111,\"#46039f\"],[0.2222222222222222,\"#7201a8\"],[0.3333333333333333,\"#9c179e\"],[0.4444444444444444,\"#bd3786\"],[0.5555555555555556,\"#d8576b\"],[0.6666666666666666,\"#ed7953\"],[0.7777777777777778,\"#fb9f3a\"],[0.8888888888888888,\"#fdca26\"],[1.0,\"#f0f921\"]],\"sequentialminus\":[[0.0,\"#0d0887\"],[0.1111111111111111,\"#46039f\"],[0.2222222222222222,\"#7201a8\"],[0.3333333333333333,\"#9c179e\"],[0.4444444444444444,\"#bd3786\"],[0.5555555555555556,\"#d8576b\"],[0.6666666666666666,\"#ed7953\"],[0.7777777777777778,\"#fb9f3a\"],[0.8888888888888888,\"#fdca26\"],[1.0,\"#f0f921\"]],\"diverging\":[[0,\"#8e0152\"],[0.1,\"#c51b7d\"],[0.2,\"#de77ae\"],[0.3,\"#f1b6da\"],[0.4,\"#fde0ef\"],[0.5,\"#f7f7f7\"],[0.6,\"#e6f5d0\"],[0.7,\"#b8e186\"],[0.8,\"#7fbc41\"],[0.9,\"#4d9221\"],[1,\"#276419\"]]},\"xaxis\":{\"gridcolor\":\"white\",\"linecolor\":\"white\",\"ticks\":\"\",\"title\":{\"standoff\":15},\"zerolinecolor\":\"white\",\"automargin\":true,\"zerolinewidth\":2},\"yaxis\":{\"gridcolor\":\"white\",\"linecolor\":\"white\",\"ticks\":\"\",\"title\":{\"standoff\":15},\"zerolinecolor\":\"white\",\"automargin\":true,\"zerolinewidth\":2},\"scene\":{\"xaxis\":{\"backgroundcolor\":\"#E5ECF6\",\"gridcolor\":\"white\",\"linecolor\":\"white\",\"showbackground\":true,\"ticks\":\"\",\"zerolinecolor\":\"white\",\"gridwidth\":2},\"yaxis\":{\"backgroundcolor\":\"#E5ECF6\",\"gridcolor\":\"white\",\"linecolor\":\"white\",\"showbackground\":true,\"ticks\":\"\",\"zerolinecolor\":\"white\",\"gridwidth\":2},\"zaxis\":{\"backgroundcolor\":\"#E5ECF6\",\"gridcolor\":\"white\",\"linecolor\":\"white\",\"showbackground\":true,\"ticks\":\"\",\"zerolinecolor\":\"white\",\"gridwidth\":2}},\"shapedefaults\":{\"line\":{\"color\":\"#2a3f5f\"}},\"annotationdefaults\":{\"arrowcolor\":\"#2a3f5f\",\"arrowhead\":0,\"arrowwidth\":1},\"geo\":{\"bgcolor\":\"white\",\"landcolor\":\"#E5ECF6\",\"subunitcolor\":\"white\",\"showland\":true,\"showlakes\":true,\"lakecolor\":\"white\"},\"title\":{\"x\":0.05},\"mapbox\":{\"style\":\"light\"}}},\"geo\":{\"domain\":{\"x\":[0.0,1.0],\"y\":[0.0,1.0]},\"center\":{}},\"coloraxis\":{\"colorbar\":{\"title\":{\"text\":\"avg_years_total_schooling\"}},\"colorscale\":[[0.0,\"rgb(202, 86, 44)\"],[0.16666666666666666,\"rgb(222, 138, 90)\"],[0.3333333333333333,\"rgb(237, 187, 138)\"],[0.5,\"rgb(246, 237, 189)\"],[0.6666666666666666,\"rgb(180, 200, 168)\"],[0.8333333333333334,\"rgb(112, 164, 148)\"],[1.0,\"rgb(0, 128, 128)\"]]},\"legend\":{\"tracegroupgap\":0},\"margin\":{\"t\":60}},                        {\"responsive\": true}                    ).then(function(){\n",
       "                            \n",
       "var gd = document.getElementById('d44bbcf4-3f41-46f2-ab35-13f31fab2af3');\n",
       "var x = new MutationObserver(function (mutations, observer) {{\n",
       "        var display = window.getComputedStyle(gd).display;\n",
       "        if (!display || display === 'none') {{\n",
       "            console.log([gd, 'removed!']);\n",
       "            Plotly.purge(gd);\n",
       "            observer.disconnect();\n",
       "        }}\n",
       "}});\n",
       "\n",
       "// Listen for the removal of the full notebook cells\n",
       "var notebookContainer = gd.closest('#notebook-container');\n",
       "if (notebookContainer) {{\n",
       "    x.observe(notebookContainer, {childList: true});\n",
       "}}\n",
       "\n",
       "// Listen for the clearing of the current output cell\n",
       "var outputEl = gd.closest('.output');\n",
       "if (outputEl) {{\n",
       "    x.observe(outputEl, {childList: true});\n",
       "}}\n",
       "\n",
       "                        })                };                });            </script>        </div>"
      ]
     },
     "metadata": {},
     "output_type": "display_data"
    }
   ],
   "source": [
    "px.choropleth(data_frame=df1880,\n",
    "             color='avg_years_total_schooling', \n",
    "              locations=\"iso_alpha\",\n",
    "            color_continuous_scale=px.colors.diverging.Geyser_r,\n",
    "             hover_data= ['country', 'avg_years_total_schooling'])"
   ]
  },
  {
   "cell_type": "code",
   "execution_count": 40,
   "id": "6f97901b",
   "metadata": {},
   "outputs": [
    {
     "data": {
      "application/vnd.plotly.v1+json": {
       "config": {
        "plotlyServerURL": "https://plot.ly"
       },
       "data": [
        {
         "coloraxis": "coloraxis",
         "customdata": [
          [
           "Alabama",
           0.05
          ],
          [
           "Alabama",
           1.2
          ],
          [
           "Alabama",
           2.25
          ],
          [
           "Alabama",
           1.3
          ],
          [
           "Alabama",
           1.8
          ],
          [
           "Alabama",
           4.325
          ],
          [
           "Alabama",
           4.275
          ],
          [
           "Alabama",
           6.325
          ],
          [
           "Alabama",
           7.3
          ],
          [
           "Alabama",
           3.1
          ],
          [
           "Alabama",
           1.825
          ],
          [
           "Alabama",
           4
          ],
          [
           "Alabama",
           13.075
          ],
          [
           "Alabama",
           11.35
          ],
          [
           "Alabama",
           0.3
          ],
          [
           "Alabama",
           31.225
          ],
          [
           "Alabama",
           20.525000000000002
          ],
          [
           "Alabama",
           13.9
          ],
          [
           "Alabama",
           36.85
          ],
          [
           "Alabama",
           22.7
          ],
          [
           "Alabama",
           8.275
          ],
          [
           "Alabama",
           8.450000000000001
          ],
          [
           "Alabama",
           5.925000000000001
          ],
          [
           "Alabama",
           5.225
          ],
          [
           "Alabama",
           9
          ],
          [
           "Alabama",
           23.225
          ],
          [
           "Alabama",
           14.45
          ],
          [
           "Alabama",
           32.4
          ],
          [
           "Alabama",
           38.125
          ],
          [
           "Alabama",
           27.2
          ],
          [
           "Arizona",
           1.775
          ],
          [
           "Arizona",
           5.1
          ],
          [
           "Arizona",
           6.575
          ],
          [
           "Arizona",
           11.25
          ],
          [
           "Arizona",
           6.5
          ],
          [
           "Arizona",
           9.525
          ],
          [
           "Arizona",
           10.4
          ],
          [
           "Arizona",
           10.85
          ],
          [
           "Arizona",
           11.075
          ],
          [
           "Arizona",
           8.4
          ],
          [
           "Arizona",
           10.225000000000001
          ],
          [
           "Arizona",
           9.925
          ],
          [
           "Arizona",
           4.2
          ],
          [
           "Arizona",
           4.975
          ],
          [
           "Arizona",
           16.2
          ],
          [
           "Arizona",
           19.775000000000002
          ],
          [
           "Arizona",
           16.7
          ],
          [
           "Arizona",
           5.625
          ],
          [
           "Arizona",
           5.525
          ],
          [
           "Arizona",
           7.9
          ],
          [
           "Arizona",
           6
          ],
          [
           "Arizona",
           5.7
          ],
          [
           "Arizona",
           2.3
          ],
          [
           "Arizona",
           9.725000000000001
          ],
          [
           "Arizona",
           0.2
          ],
          [
           "Arizona",
           34.725
          ],
          [
           "Arizona",
           50.275
          ],
          [
           "Arizona",
           43.85
          ],
          [
           "Arizona",
           45.8
          ],
          [
           "Arizona",
           25.8
          ],
          [
           "Arkansas",
           2.375
          ],
          [
           "Arkansas",
           1.475
          ],
          [
           "Arkansas",
           7.15
          ],
          [
           "Arkansas",
           0.45
          ],
          [
           "Arkansas",
           3.3
          ],
          [
           "Arkansas",
           9.675
          ],
          [
           "Arkansas",
           2.275
          ],
          [
           "Arkansas",
           9.775
          ],
          [
           "Arkansas",
           6.8500000000000005
          ],
          [
           "Arkansas",
           0.7
          ],
          [
           "Arkansas",
           9.8
          ],
          [
           "Arkansas",
           2.45
          ],
          [
           "Arkansas",
           13.1
          ],
          [
           "Arkansas",
           29.075
          ],
          [
           "Arkansas",
           55.3
          ],
          [
           "Arkansas",
           29.224999999999998
          ],
          [
           "Arkansas",
           7.3
          ],
          [
           "Arkansas",
           15.625
          ],
          [
           "Arkansas",
           9.325
          ],
          [
           "Arkansas",
           1.5
          ],
          [
           "Arkansas",
           3.075
          ],
          [
           "Arkansas",
           3.3249999999999997
          ],
          [
           "Arkansas",
           1.55
          ],
          [
           "Arkansas",
           7.475
          ],
          [
           "Arkansas",
           2.9
          ],
          [
           "Arkansas",
           47.7
          ],
          [
           "Arkansas",
           61.025000000000006
          ],
          [
           "Arkansas",
           37.45
          ],
          [
           "Arkansas",
           41.175
          ],
          [
           "Arkansas",
           19.5
          ],
          [
           "California",
           7.375
          ],
          [
           "California",
           9.175
          ],
          [
           "California",
           5.9
          ],
          [
           "California",
           7.550000000000001
          ],
          [
           "California",
           6.4
          ],
          [
           "California",
           11.55
          ],
          [
           "California",
           10.925
          ],
          [
           "California",
           9.65
          ],
          [
           "California",
           9.575
          ],
          [
           "California",
           8.7
          ],
          [
           "California",
           15.45
          ],
          [
           "California",
           13.9
          ],
          [
           "California",
           13.15
          ],
          [
           "California",
           13.65
          ],
          [
           "California",
           12.3
          ],
          [
           "California",
           15.45
          ],
          [
           "California",
           15.2
          ],
          [
           "California",
           12.55
          ],
          [
           "California",
           11.175
          ],
          [
           "California",
           13.4
          ],
          [
           "California",
           4.475
          ],
          [
           "California",
           4.35
          ],
          [
           "California",
           4.9
          ],
          [
           "California",
           5.15
          ],
          [
           "California",
           5.6
          ],
          [
           "California",
           38.2
          ],
          [
           "California",
           42.975
          ],
          [
           "California",
           41.475
          ],
          [
           "California",
           46.05
          ],
          [
           "California",
           43.5
          ],
          [
           "Colorado",
           7.574999999999999
          ],
          [
           "Colorado",
           5.175000000000001
          ],
          [
           "Colorado",
           2.025
          ],
          [
           "Colorado",
           5.775
          ],
          [
           "Colorado",
           0
          ],
          [
           "Colorado",
           4.525
          ],
          [
           "Colorado",
           7.225
          ],
          [
           "Colorado",
           7.625
          ],
          [
           "Colorado",
           8.125
          ],
          [
           "Colorado",
           2.5
          ],
          [
           "Colorado",
           9.899999999999999
          ],
          [
           "Colorado",
           7.325000000000001
          ],
          [
           "Colorado",
           8.3
          ],
          [
           "Colorado",
           1.75
          ],
          [
           "Colorado",
           0
          ],
          [
           "Colorado",
           7.1499999999999995
          ],
          [
           "Colorado",
           7.1499999999999995
          ],
          [
           "Colorado",
           0.725
          ],
          [
           "Colorado",
           5.825000000000001
          ],
          [
           "Colorado",
           0.3
          ],
          [
           "Colorado",
           4.25
          ],
          [
           "Colorado",
           0.175
          ],
          [
           "Colorado",
           1.7999999999999998
          ],
          [
           "Colorado",
           2.15
          ],
          [
           "Colorado",
           0.6
          ],
          [
           "Colorado",
           37.825
          ],
          [
           "Colorado",
           30.825
          ],
          [
           "Colorado",
           32.85
          ],
          [
           "Colorado",
           54.8
          ],
          [
           "Colorado",
           11.2
          ],
          [
           "Connecticut",
           0.7
          ],
          [
           "Connecticut",
           0.45
          ],
          [
           "Connecticut",
           0.025
          ],
          [
           "Connecticut",
           0.6749999999999999
          ],
          [
           "Connecticut",
           0
          ],
          [
           "Connecticut",
           8.35
          ],
          [
           "Connecticut",
           5.725
          ],
          [
           "Connecticut",
           5.65
          ],
          [
           "Connecticut",
           3.8
          ],
          [
           "Connecticut",
           3.6
          ],
          [
           "Connecticut",
           0.8500000000000001
          ],
          [
           "Connecticut",
           0.375
          ],
          [
           "Connecticut",
           0.275
          ],
          [
           "Connecticut",
           0.975
          ],
          [
           "Connecticut",
           0
          ],
          [
           "Connecticut",
           1.175
          ],
          [
           "Connecticut",
           2.4
          ],
          [
           "Connecticut",
           1.5
          ],
          [
           "Connecticut",
           1.3
          ],
          [
           "Connecticut",
           1.3
          ],
          [
           "Connecticut",
           1.275
          ],
          [
           "Connecticut",
           1.725
          ],
          [
           "Connecticut",
           1.9749999999999999
          ],
          [
           "Connecticut",
           1.85
          ],
          [
           "Connecticut",
           1.7
          ],
          [
           "Connecticut",
           15.625
          ],
          [
           "Connecticut",
           13.775
          ],
          [
           "Connecticut",
           30.525
          ],
          [
           "Connecticut",
           12.775
          ],
          [
           "Connecticut",
           10.1
          ],
          [
           "Florida",
           3.175
          ],
          [
           "Florida",
           5.2
          ],
          [
           "Florida",
           4.7
          ],
          [
           "Florida",
           6.825
          ],
          [
           "Florida",
           5.5
          ],
          [
           "Florida",
           10.899999999999999
          ],
          [
           "Florida",
           8.5
          ],
          [
           "Florida",
           7.925000000000001
          ],
          [
           "Florida",
           9.475
          ],
          [
           "Florida",
           7.4
          ],
          [
           "Florida",
           14.075
          ],
          [
           "Florida",
           10.85
          ],
          [
           "Florida",
           9.975
          ],
          [
           "Florida",
           11.6
          ],
          [
           "Florida",
           22.9
          ],
          [
           "Florida",
           20
          ],
          [
           "Florida",
           19.9
          ],
          [
           "Florida",
           14.8
          ],
          [
           "Florida",
           21.425
          ],
          [
           "Florida",
           24.8
          ],
          [
           "Florida",
           4.35
          ],
          [
           "Florida",
           2.925
          ],
          [
           "Florida",
           21.125
          ],
          [
           "Florida",
           13.4
          ],
          [
           "Florida",
           5.5
          ],
          [
           "Florida",
           33.325
          ],
          [
           "Florida",
           36.95
          ],
          [
           "Florida",
           39.6
          ],
          [
           "Florida",
           39.675
          ],
          [
           "Florida",
           46.9
          ],
          [
           "Georgia",
           3.775
          ],
          [
           "Georgia",
           2.55
          ],
          [
           "Georgia",
           3.95
          ],
          [
           "Georgia",
           6.575
          ],
          [
           "Georgia",
           7.4
          ],
          [
           "Georgia",
           7.2250000000000005
          ],
          [
           "Georgia",
           6.6499999999999995
          ],
          [
           "Georgia",
           7.4
          ],
          [
           "Georgia",
           17.525
          ],
          [
           "Georgia",
           10.6
          ],
          [
           "Georgia",
           14.25
          ],
          [
           "Georgia",
           17.375
          ],
          [
           "Georgia",
           9.65
          ],
          [
           "Georgia",
           16.05
          ],
          [
           "Georgia",
           9.6
          ],
          [
           "Georgia",
           13.125
          ],
          [
           "Georgia",
           15.299999999999999
          ],
          [
           "Georgia",
           11.475
          ],
          [
           "Georgia",
           20.599999999999998
          ],
          [
           "Georgia",
           17.8
          ],
          [
           "Georgia",
           4.875
          ],
          [
           "Georgia",
           3.4
          ],
          [
           "Georgia",
           4.025
          ],
          [
           "Georgia",
           6.8
          ],
          [
           "Georgia",
           4.9
          ],
          [
           "Georgia",
           37.525
          ],
          [
           "Georgia",
           41.474999999999994
          ],
          [
           "Georgia",
           43.45
          ],
          [
           "Georgia",
           45.95
          ],
          [
           "Georgia",
           69.6
          ],
          [
           "Hawaii",
           0.55
          ],
          [
           "Hawaii",
           0.025
          ],
          [
           "Hawaii",
           0.15
          ],
          [
           "Hawaii",
           0.15
          ],
          [
           "Hawaii",
           0.1
          ],
          [
           "Hawaii",
           1.925
          ],
          [
           "Hawaii",
           1.05
          ],
          [
           "Hawaii",
           0.65
          ],
          [
           "Hawaii",
           0.275
          ],
          [
           "Hawaii",
           2.9
          ],
          [
           "Hawaii",
           0.05
          ],
          [
           "Hawaii",
           0.4
          ],
          [
           "Hawaii",
           0
          ],
          [
           "Hawaii",
           0.025
          ],
          [
           "Hawaii",
           0.7
          ],
          [
           "Hawaii",
           53.275
          ],
          [
           "Hawaii",
           38.925
          ],
          [
           "Hawaii",
           19.049999999999997
          ],
          [
           "Hawaii",
           87.275
          ],
          [
           "Hawaii",
           64.9
          ],
          [
           "Hawaii",
           0.025
          ],
          [
           "Hawaii",
           0.025
          ],
          [
           "Hawaii",
           0.025
          ],
          [
           "Hawaii",
           0.05
          ],
          [
           "Hawaii",
           0
          ],
          [
           "Hawaii",
           52
          ],
          [
           "Hawaii",
           35.9
          ],
          [
           "Hawaii",
           37.525000000000006
          ],
          [
           "Hawaii",
           82.525
          ],
          [
           "Hawaii",
           72.1
          ],
          [
           "Idaho",
           6.25
          ],
          [
           "Idaho",
           3.5250000000000004
          ],
          [
           "Idaho",
           17.674999999999997
          ],
          [
           "Idaho",
           7
          ],
          [
           "Idaho",
           8
          ],
          [
           "Idaho",
           6.9
          ],
          [
           "Idaho",
           5.25
          ],
          [
           "Idaho",
           5.175
          ],
          [
           "Idaho",
           7.075
          ],
          [
           "Idaho",
           8.6
          ],
          [
           "Idaho",
           6.2
          ],
          [
           "Idaho",
           4.2
          ],
          [
           "Idaho",
           14.975
          ],
          [
           "Idaho",
           16.075
          ],
          [
           "Idaho",
           9.2
          ],
          [
           "Idaho",
           4.8
          ],
          [
           "Idaho",
           3.15
          ],
          [
           "Idaho",
           21.174999999999997
          ],
          [
           "Idaho",
           15.55
          ],
          [
           "Idaho",
           8
          ],
          [
           "Idaho",
           4.025
          ],
          [
           "Idaho",
           2.6
          ],
          [
           "Idaho",
           2.625
          ],
          [
           "Idaho",
           3.75
          ],
          [
           "Idaho",
           0
          ],
          [
           "Idaho",
           37.75
          ],
          [
           "Idaho",
           27.475
          ],
          [
           "Idaho",
           48.1
          ],
          [
           "Idaho",
           57.1
          ],
          [
           "Idaho",
           24.5
          ],
          [
           "Illinois",
           0.45
          ],
          [
           "Illinois",
           1.05
          ],
          [
           "Illinois",
           1.2
          ],
          [
           "Illinois",
           3.7
          ],
          [
           "Illinois",
           3.1
          ],
          [
           "Illinois",
           4.825
          ],
          [
           "Illinois",
           4.025
          ],
          [
           "Illinois",
           6.25
          ],
          [
           "Illinois",
           7.175000000000001
          ],
          [
           "Illinois",
           15.5
          ],
          [
           "Illinois",
           1.05
          ],
          [
           "Illinois",
           3.9
          ],
          [
           "Illinois",
           4.35
          ],
          [
           "Illinois",
           4.5
          ],
          [
           "Illinois",
           0.7
          ],
          [
           "Illinois",
           4.025
          ],
          [
           "Illinois",
           7.6
          ],
          [
           "Illinois",
           10.45
          ],
          [
           "Illinois",
           10.674999999999999
          ],
          [
           "Illinois",
           14.7
          ],
          [
           "Illinois",
           4.525
          ],
          [
           "Illinois",
           4.275
          ],
          [
           "Illinois",
           4.425
          ],
          [
           "Illinois",
           6.5
          ],
          [
           "Illinois",
           10.1
          ],
          [
           "Illinois",
           9.925
          ],
          [
           "Illinois",
           17.25
          ],
          [
           "Illinois",
           22.825
          ],
          [
           "Illinois",
           21.95
          ],
          [
           "Illinois",
           33.3
          ],
          [
           "Indiana",
           4.575
          ],
          [
           "Indiana",
           0.575
          ],
          [
           "Indiana",
           1.85
          ],
          [
           "Indiana",
           7.15
          ],
          [
           "Indiana",
           2.6
          ],
          [
           "Indiana",
           7.075
          ],
          [
           "Indiana",
           3.375
          ],
          [
           "Indiana",
           6.675
          ],
          [
           "Indiana",
           12.899999999999999
          ],
          [
           "Indiana",
           7.1
          ],
          [
           "Indiana",
           2.275
          ],
          [
           "Indiana",
           1.1
          ],
          [
           "Indiana",
           13
          ],
          [
           "Indiana",
           22.549999999999997
          ],
          [
           "Indiana",
           5.5
          ],
          [
           "Indiana",
           3.225
          ],
          [
           "Indiana",
           7.15
          ],
          [
           "Indiana",
           5.4
          ],
          [
           "Indiana",
           11.325
          ],
          [
           "Indiana",
           8.8
          ],
          [
           "Indiana",
           5.9
          ],
          [
           "Indiana",
           3.7
          ],
          [
           "Indiana",
           4.575
          ],
          [
           "Indiana",
           1.9
          ],
          [
           "Indiana",
           1.7
          ],
          [
           "Indiana",
           16.225
          ],
          [
           "Indiana",
           27.125
          ],
          [
           "Indiana",
           14.675
          ],
          [
           "Indiana",
           48.05
          ],
          [
           "Indiana",
           15.6
          ],
          [
           "Iowa",
           2.05
          ],
          [
           "Iowa",
           10.55
          ],
          [
           "Iowa",
           7.65
          ],
          [
           "Iowa",
           4.65
          ],
          [
           "Iowa",
           0.6
          ],
          [
           "Iowa",
           12.775
          ],
          [
           "Iowa",
           10.95
          ],
          [
           "Iowa",
           10.475
          ],
          [
           "Iowa",
           10.075
          ],
          [
           "Iowa",
           7.7
          ],
          [
           "Iowa",
           5.575
          ],
          [
           "Iowa",
           7.25
          ],
          [
           "Iowa",
           18.775
          ],
          [
           "Iowa",
           10.125
          ],
          [
           "Iowa",
           0.3
          ],
          [
           "Iowa",
           3.125
          ],
          [
           "Iowa",
           11.35
          ],
          [
           "Iowa",
           17.15
          ],
          [
           "Iowa",
           11.85
          ],
          [
           "Iowa",
           1.7
          ],
          [
           "Iowa",
           2.525
          ],
          [
           "Iowa",
           5.6
          ],
          [
           "Iowa",
           5.074999999999999
          ],
          [
           "Iowa",
           1.9249999999999998
          ],
          [
           "Iowa",
           3.5
          ],
          [
           "Iowa",
           29.575
          ],
          [
           "Iowa",
           31.9
          ],
          [
           "Iowa",
           37.775
          ],
          [
           "Iowa",
           25.75
          ],
          [
           "Iowa",
           34.8
          ],
          [
           "Kansas",
           0.6000000000000001
          ],
          [
           "Kansas",
           4.325
          ],
          [
           "Kansas",
           4.7
          ],
          [
           "Kansas",
           8.725
          ],
          [
           "Kansas",
           2.5
          ],
          [
           "Kansas",
           15.425
          ],
          [
           "Kansas",
           3.925
          ],
          [
           "Kansas",
           4.949999999999999
          ],
          [
           "Kansas",
           13.825
          ],
          [
           "Kansas",
           21.6
          ],
          [
           "Kansas",
           13.375
          ],
          [
           "Kansas",
           10.4
          ],
          [
           "Kansas",
           13.775
          ],
          [
           "Kansas",
           20.225
          ],
          [
           "Kansas",
           12.2
          ],
          [
           "Kansas",
           11.175
          ],
          [
           "Kansas",
           13.850000000000001
          ],
          [
           "Kansas",
           17.95
          ],
          [
           "Kansas",
           33.575
          ],
          [
           "Kansas",
           7.8
          ],
          [
           "Kansas",
           7.25
          ],
          [
           "Kansas",
           2.8000000000000003
          ],
          [
           "Kansas",
           9.575
          ],
          [
           "Kansas",
           11.25
          ],
          [
           "Kansas",
           4
          ],
          [
           "Kansas",
           28.525
          ],
          [
           "Kansas",
           37.4
          ],
          [
           "Kansas",
           36.95
          ],
          [
           "Kansas",
           61.15
          ],
          [
           "Kansas",
           92
          ],
          [
           "Kentucky",
           2.35
          ],
          [
           "Kentucky",
           1.65
          ],
          [
           "Kentucky",
           1.625
          ],
          [
           "Kentucky",
           1.075
          ],
          [
           "Kentucky",
           0.1
          ],
          [
           "Kentucky",
           12.1
          ],
          [
           "Kentucky",
           11.55
          ],
          [
           "Kentucky",
           9.05
          ],
          [
           "Kentucky",
           5.525
          ],
          [
           "Kentucky",
           10.7
          ],
          [
           "Kentucky",
           5.15
          ],
          [
           "Kentucky",
           12.3
          ],
          [
           "Kentucky",
           3.8499999999999996
          ],
          [
           "Kentucky",
           5.075
          ],
          [
           "Kentucky",
           5.3
          ],
          [
           "Kentucky",
           13.75
          ],
          [
           "Kentucky",
           23.275
          ],
          [
           "Kentucky",
           21.675
          ],
          [
           "Kentucky",
           29.55
          ],
          [
           "Kentucky",
           12.9
          ],
          [
           "Kentucky",
           4.875
          ],
          [
           "Kentucky",
           5.6
          ],
          [
           "Kentucky",
           9.425
          ],
          [
           "Kentucky",
           5.925
          ],
          [
           "Kentucky",
           4.6
          ],
          [
           "Kentucky",
           23.775
          ],
          [
           "Kentucky",
           38.25
          ],
          [
           "Kentucky",
           39.575
          ],
          [
           "Kentucky",
           47.025
          ],
          [
           "Kentucky",
           21.6
          ],
          [
           "Louisiana",
           1.125
          ],
          [
           "Louisiana",
           4.9
          ],
          [
           "Louisiana",
           0.175
          ],
          [
           "Louisiana",
           0.225
          ],
          [
           "Louisiana",
           0.1
          ],
          [
           "Louisiana",
           3.375
          ],
          [
           "Louisiana",
           5.975
          ],
          [
           "Louisiana",
           2.975
          ],
          [
           "Louisiana",
           1.925
          ],
          [
           "Louisiana",
           1
          ],
          [
           "Louisiana",
           1.25
          ],
          [
           "Louisiana",
           0.6
          ],
          [
           "Louisiana",
           1.4000000000000001
          ],
          [
           "Louisiana",
           2.2750000000000004
          ],
          [
           "Louisiana",
           0.3
          ],
          [
           "Louisiana",
           2.925
          ],
          [
           "Louisiana",
           10.6
          ],
          [
           "Louisiana",
           28.450000000000003
          ],
          [
           "Louisiana",
           10.8
          ],
          [
           "Louisiana",
           1.3
          ],
          [
           "Louisiana",
           0.75
          ],
          [
           "Louisiana",
           1.1
          ],
          [
           "Louisiana",
           6.95
          ],
          [
           "Louisiana",
           1.55
          ],
          [
           "Louisiana",
           0.7
          ],
          [
           "Louisiana",
           22.6
          ],
          [
           "Louisiana",
           21.475
          ],
          [
           "Louisiana",
           34.925
          ],
          [
           "Louisiana",
           15.225000000000001
          ],
          [
           "Louisiana",
           57.8
          ],
          [
           "Maine",
           3.3249999999999997
          ],
          [
           "Maine",
           1.2249999999999999
          ],
          [
           "Maine",
           8.975
          ],
          [
           "Maine",
           0.375
          ],
          [
           "Maine",
           0
          ],
          [
           "Maine",
           2.675
          ],
          [
           "Maine",
           2.4
          ],
          [
           "Maine",
           7.525
          ],
          [
           "Maine",
           2.6
          ],
          [
           "Maine",
           1.4
          ],
          [
           "Maine",
           8.625
          ],
          [
           "Maine",
           7.775
          ],
          [
           "Maine",
           4.075
          ],
          [
           "Maine",
           0.325
          ],
          [
           "Maine",
           0
          ],
          [
           "Maine",
           9.55
          ],
          [
           "Maine",
           0.325
          ],
          [
           "Maine",
           8.075
          ],
          [
           "Maine",
           1.875
          ],
          [
           "Maine",
           0.1
          ],
          [
           "Maine",
           2.55
          ],
          [
           "Maine",
           7.35
          ],
          [
           "Maine",
           3.725
          ],
          [
           "Maine",
           2
          ],
          [
           "Maine",
           0.8
          ],
          [
           "Maine",
           26.1
          ],
          [
           "Maine",
           26.5
          ],
          [
           "Maine",
           14.149999999999999
          ],
          [
           "Maine",
           17.825
          ],
          [
           "Maine",
           2.3
          ],
          [
           "Maryland",
           0.9
          ],
          [
           "Maryland",
           1.75
          ],
          [
           "Maryland",
           0.675
          ],
          [
           "Maryland",
           1.4500000000000002
          ],
          [
           "Maryland",
           0.2
          ],
          [
           "Maryland",
           8.275
          ],
          [
           "Maryland",
           4.1
          ],
          [
           "Maryland",
           5.225
          ],
          [
           "Maryland",
           6.175000000000001
          ],
          [
           "Maryland",
           10.1
          ],
          [
           "Maryland",
           6.325
          ],
          [
           "Maryland",
           4.425
          ],
          [
           "Maryland",
           1
          ],
          [
           "Maryland",
           0.8999999999999999
          ],
          [
           "Maryland",
           0
          ],
          [
           "Maryland",
           6.050000000000001
          ],
          [
           "Maryland",
           3.875
          ],
          [
           "Maryland",
           5.8500000000000005
          ],
          [
           "Maryland",
           5.075
          ],
          [
           "Maryland",
           5.1
          ],
          [
           "Maryland",
           5.05
          ],
          [
           "Maryland",
           0.875
          ],
          [
           "Maryland",
           5.575
          ],
          [
           "Maryland",
           2.25
          ],
          [
           "Maryland",
           2.4
          ],
          [
           "Maryland",
           11.875
          ],
          [
           "Maryland",
           16.25
          ],
          [
           "Maryland",
           7.825000000000001
          ],
          [
           "Maryland",
           14.575
          ],
          [
           "Maryland",
           12.6
          ],
          [
           "Massachusetts",
           2.225
          ],
          [
           "Massachusetts",
           2.05
          ],
          [
           "Massachusetts",
           5.825
          ],
          [
           "Massachusetts",
           5.15
          ],
          [
           "Massachusetts",
           0
          ],
          [
           "Massachusetts",
           4.275
          ],
          [
           "Massachusetts",
           2.375
          ],
          [
           "Massachusetts",
           3.3
          ],
          [
           "Massachusetts",
           4.025
          ],
          [
           "Massachusetts",
           6.3
          ],
          [
           "Massachusetts",
           17.15
          ],
          [
           "Massachusetts",
           2.775
          ],
          [
           "Massachusetts",
           5.125
          ],
          [
           "Massachusetts",
           5.425
          ],
          [
           "Massachusetts",
           4.3
          ],
          [
           "Massachusetts",
           17.425
          ],
          [
           "Massachusetts",
           6.7749999999999995
          ],
          [
           "Massachusetts",
           5.05
          ],
          [
           "Massachusetts",
           5.6499999999999995
          ],
          [
           "Massachusetts",
           0
          ],
          [
           "Massachusetts",
           2.3000000000000003
          ],
          [
           "Massachusetts",
           6.275
          ],
          [
           "Massachusetts",
           1.9
          ],
          [
           "Massachusetts",
           6.275
          ],
          [
           "Massachusetts",
           0.9
          ],
          [
           "Massachusetts",
           34.5
          ],
          [
           "Massachusetts",
           17.7
          ],
          [
           "Massachusetts",
           35.625
          ],
          [
           "Massachusetts",
           33.75
          ],
          [
           "Massachusetts",
           10.3
          ],
          [
           "Michigan",
           2.25
          ],
          [
           "Michigan",
           0.375
          ],
          [
           "Michigan",
           3.5249999999999995
          ],
          [
           "Michigan",
           7.05
          ],
          [
           "Michigan",
           1.5
          ],
          [
           "Michigan",
           7.425
          ],
          [
           "Michigan",
           5.9
          ],
          [
           "Michigan",
           4.625
          ],
          [
           "Michigan",
           11.65
          ],
          [
           "Michigan",
           12.2
          ],
          [
           "Michigan",
           7.125
          ],
          [
           "Michigan",
           7.2
          ],
          [
           "Michigan",
           10.325
          ],
          [
           "Michigan",
           14.5
          ],
          [
           "Michigan",
           0.2
          ],
          [
           "Michigan",
           9.125
          ],
          [
           "Michigan",
           9.025
          ],
          [
           "Michigan",
           8.25
          ],
          [
           "Michigan",
           16.775
          ],
          [
           "Michigan",
           5.8
          ],
          [
           "Michigan",
           5.05
          ],
          [
           "Michigan",
           3.9250000000000003
          ],
          [
           "Michigan",
           2.325
          ],
          [
           "Michigan",
           10.225000000000001
          ],
          [
           "Michigan",
           0.7
          ],
          [
           "Michigan",
           29
          ],
          [
           "Michigan",
           37
          ],
          [
           "Michigan",
           34.4
          ],
          [
           "Michigan",
           60.300000000000004
          ],
          [
           "Michigan",
           18.2
          ],
          [
           "Minnesota",
           4.300000000000001
          ],
          [
           "Minnesota",
           4
          ],
          [
           "Minnesota",
           2.1
          ],
          [
           "Minnesota",
           4.825
          ],
          [
           "Minnesota",
           1.9
          ],
          [
           "Minnesota",
           5.625
          ],
          [
           "Minnesota",
           9.85
          ],
          [
           "Minnesota",
           8.6
          ],
          [
           "Minnesota",
           5.55
          ],
          [
           "Minnesota",
           2
          ],
          [
           "Minnesota",
           17.25
          ],
          [
           "Minnesota",
           17.45
          ],
          [
           "Minnesota",
           15.725
          ],
          [
           "Minnesota",
           10.725
          ],
          [
           "Minnesota",
           0
          ],
          [
           "Minnesota",
           7.4
          ],
          [
           "Minnesota",
           8.825
          ],
          [
           "Minnesota",
           3.45
          ],
          [
           "Minnesota",
           6.9
          ],
          [
           "Minnesota",
           0.2
          ],
          [
           "Minnesota",
           6.875
          ],
          [
           "Minnesota",
           9.975
          ],
          [
           "Minnesota",
           3.35
          ],
          [
           "Minnesota",
           8.2
          ],
          [
           "Minnesota",
           0.8
          ],
          [
           "Minnesota",
           25.924999999999997
          ],
          [
           "Minnesota",
           26.9
          ],
          [
           "Minnesota",
           31.325
          ],
          [
           "Minnesota",
           21.95
          ],
          [
           "Minnesota",
           1.3
          ],
          [
           "Mississippi",
           0.175
          ],
          [
           "Mississippi",
           0.725
          ],
          [
           "Mississippi",
           0.5249999999999999
          ],
          [
           "Mississippi",
           0.05
          ],
          [
           "Mississippi",
           64.8
          ],
          [
           "Mississippi",
           2
          ],
          [
           "Mississippi",
           2.15
          ],
          [
           "Mississippi",
           5.95
          ],
          [
           "Mississippi",
           4.1
          ],
          [
           "Mississippi",
           1.9
          ],
          [
           "Mississippi",
           0.8250000000000001
          ],
          [
           "Mississippi",
           1.925
          ],
          [
           "Mississippi",
           0.875
          ],
          [
           "Mississippi",
           0.45
          ],
          [
           "Mississippi",
           48.4
          ],
          [
           "Mississippi",
           4.725
          ],
          [
           "Mississippi",
           3.35
          ],
          [
           "Mississippi",
           11.774999999999999
          ],
          [
           "Mississippi",
           11.575
          ],
          [
           "Mississippi",
           71
          ],
          [
           "Mississippi",
           1.375
          ],
          [
           "Mississippi",
           5.525
          ],
          [
           "Mississippi",
           1.75
          ],
          [
           "Mississippi",
           12.075
          ],
          [
           "Mississippi",
           5.5
          ],
          [
           "Mississippi",
           18.9
          ],
          [
           "Mississippi",
           18.875
          ],
          [
           "Mississippi",
           36.525
          ],
          [
           "Mississippi",
           25.825
          ],
          [
           "Mississippi",
           14.6
          ],
          [
           "Missouri",
           2.9
          ],
          [
           "Missouri",
           0.575
          ],
          [
           "Missouri",
           1.825
          ],
          [
           "Missouri",
           0.8500000000000001
          ],
          [
           "Missouri",
           1.9
          ],
          [
           "Missouri",
           3.9250000000000003
          ],
          [
           "Missouri",
           2.675
          ],
          [
           "Missouri",
           4.075
          ],
          [
           "Missouri",
           11.05
          ],
          [
           "Missouri",
           5.4
          ],
          [
           "Missouri",
           1.975
          ],
          [
           "Missouri",
           1.6
          ],
          [
           "Missouri",
           9.450000000000001
          ],
          [
           "Missouri",
           2.125
          ],
          [
           "Missouri",
           0.5
          ],
          [
           "Missouri",
           7.475
          ],
          [
           "Missouri",
           7.225
          ],
          [
           "Missouri",
           18.625
          ],
          [
           "Missouri",
           29.474999999999998
          ],
          [
           "Missouri",
           2.3
          ],
          [
           "Missouri",
           4.15
          ],
          [
           "Missouri",
           2.475
          ],
          [
           "Missouri",
           10.925
          ],
          [
           "Missouri",
           7.925
          ],
          [
           "Missouri",
           3.2
          ],
          [
           "Missouri",
           8.025
          ],
          [
           "Missouri",
           16.7
          ],
          [
           "Missouri",
           31.1
          ],
          [
           "Missouri",
           38.25
          ],
          [
           "Missouri",
           5.4
          ],
          [
           "Montana",
           6.625
          ],
          [
           "Montana",
           11.1
          ],
          [
           "Montana",
           3.5500000000000003
          ],
          [
           "Montana",
           6.725
          ],
          [
           "Montana",
           0
          ],
          [
           "Montana",
           3.375
          ],
          [
           "Montana",
           11.6
          ],
          [
           "Montana",
           8.7
          ],
          [
           "Montana",
           6.425
          ],
          [
           "Montana",
           0.8
          ],
          [
           "Montana",
           4.95
          ],
          [
           "Montana",
           6.25
          ],
          [
           "Montana",
           3.5250000000000004
          ],
          [
           "Montana",
           13.025
          ],
          [
           "Montana",
           0.8
          ],
          [
           "Montana",
           9.399999999999999
          ],
          [
           "Montana",
           13.825
          ],
          [
           "Montana",
           7.475
          ],
          [
           "Montana",
           9.05
          ],
          [
           "Montana",
           0
          ],
          [
           "Montana",
           6.775
          ],
          [
           "Montana",
           8.675
          ],
          [
           "Montana",
           1.7
          ],
          [
           "Montana",
           1
          ],
          [
           "Montana",
           1.1
          ],
          [
           "Montana",
           26.425
          ],
          [
           "Montana",
           32.975
          ],
          [
           "Montana",
           37.625
          ],
          [
           "Montana",
           39.075
          ],
          [
           "Montana",
           15.1
          ],
          [
           "Nebraska",
           2.8
          ],
          [
           "Nebraska",
           0.35000000000000003
          ],
          [
           "Nebraska",
           1.4749999999999999
          ],
          [
           "Nebraska",
           2
          ],
          [
           "Nebraska",
           32
          ],
          [
           "Nebraska",
           1.85
          ],
          [
           "Nebraska",
           0.9750000000000001
          ],
          [
           "Nebraska",
           7.9
          ],
          [
           "Nebraska",
           4.475
          ],
          [
           "Nebraska",
           2.2
          ],
          [
           "Nebraska",
           3.85
          ],
          [
           "Nebraska",
           3.8499999999999996
          ],
          [
           "Nebraska",
           11.700000000000001
          ],
          [
           "Nebraska",
           3.45
          ],
          [
           "Nebraska",
           0.8
          ],
          [
           "Nebraska",
           4.325
          ],
          [
           "Nebraska",
           0.875
          ],
          [
           "Nebraska",
           12.149999999999999
          ],
          [
           "Nebraska",
           1.725
          ],
          [
           "Nebraska",
           1.3
          ],
          [
           "Nebraska",
           2.625
          ],
          [
           "Nebraska",
           1.425
          ],
          [
           "Nebraska",
           3.425
          ],
          [
           "Nebraska",
           2.85
          ],
          [
           "Nebraska",
           0.1
          ],
          [
           "Nebraska",
           15.275
          ],
          [
           "Nebraska",
           9.7
          ],
          [
           "Nebraska",
           26.65
          ],
          [
           "Nebraska",
           9.15
          ],
          [
           "Nebraska",
           32.3
          ],
          [
           "New Jersey",
           7.699999999999999
          ],
          [
           "New Jersey",
           0.5
          ],
          [
           "New Jersey",
           1.75
          ],
          [
           "New Jersey",
           0.07500000000000001
          ],
          [
           "New Jersey",
           0
          ],
          [
           "New Jersey",
           5.5
          ],
          [
           "New Jersey",
           1.65
          ],
          [
           "New Jersey",
           1.2
          ],
          [
           "New Jersey",
           3.4
          ],
          [
           "New Jersey",
           3.5
          ],
          [
           "New Jersey",
           9.4
          ],
          [
           "New Jersey",
           2.75
          ],
          [
           "New Jersey",
           1.8
          ],
          [
           "New Jersey",
           0.15000000000000002
          ],
          [
           "New Jersey",
           0
          ],
          [
           "New Jersey",
           5
          ],
          [
           "New Jersey",
           5.1
          ],
          [
           "New Jersey",
           4
          ],
          [
           "New Jersey",
           3.375
          ],
          [
           "New Jersey",
           4.4
          ],
          [
           "New Jersey",
           5.25
          ],
          [
           "New Jersey",
           5.3
          ],
          [
           "New Jersey",
           0.825
          ],
          [
           "New Jersey",
           0.4
          ],
          [
           "New Jersey",
           0.6
          ],
          [
           "New Jersey",
           26.875
          ],
          [
           "New Jersey",
           17.175
          ],
          [
           "New Jersey",
           16.825
          ],
          [
           "New Jersey",
           14.425
          ],
          [
           "New Jersey",
           15.3
          ],
          [
           "New Mexico",
           17.675
          ],
          [
           "New Mexico",
           26.5
          ],
          [
           "New Mexico",
           44.525000000000006
          ],
          [
           "New Mexico",
           1
          ],
          [
           "New Mexico",
           0.6
          ],
          [
           "New Mexico",
           14.450000000000001
          ],
          [
           "New Mexico",
           3.05
          ],
          [
           "New Mexico",
           12.675
          ],
          [
           "New Mexico",
           4.5
          ],
          [
           "New Mexico",
           1.4
          ],
          [
           "New Mexico",
           18.125
          ],
          [
           "New Mexico",
           6.65
          ],
          [
           "New Mexico",
           5.975
          ],
          [
           "New Mexico",
           3.4250000000000003
          ],
          [
           "New Mexico",
           0
          ],
          [
           "New Mexico",
           13.85
          ],
          [
           "New Mexico",
           14.1
          ],
          [
           "New Mexico",
           1.05
          ],
          [
           "New Mexico",
           0.35
          ],
          [
           "New Mexico",
           1.1
          ],
          [
           "New Mexico",
           1.375
          ],
          [
           "New Mexico",
           0.325
          ],
          [
           "New Mexico",
           0.475
          ],
          [
           "New Mexico",
           0.725
          ],
          [
           "New Mexico",
           0.3
          ],
          [
           "New Mexico",
           37
          ],
          [
           "New Mexico",
           58.45
          ],
          [
           "New Mexico",
           85.675
          ],
          [
           "New Mexico",
           31.099999999999998
          ],
          [
           "New Mexico",
           3.5
          ],
          [
           "New York",
           2.875
          ],
          [
           "New York",
           2.875
          ],
          [
           "New York",
           6.525
          ],
          [
           "New York",
           10.7
          ],
          [
           "New York",
           1.7
          ],
          [
           "New York",
           6.225
          ],
          [
           "New York",
           10.125
          ],
          [
           "New York",
           9.025
          ],
          [
           "New York",
           13.85
          ],
          [
           "New York",
           7.7
          ],
          [
           "New York",
           6.7
          ],
          [
           "New York",
           9.25
          ],
          [
           "New York",
           5.300000000000001
          ],
          [
           "New York",
           8.825
          ],
          [
           "New York",
           1.7
          ],
          [
           "New York",
           7.9
          ],
          [
           "New York",
           5.05
          ],
          [
           "New York",
           11
          ],
          [
           "New York",
           14.25
          ],
          [
           "New York",
           2.5
          ],
          [
           "New York",
           4.275
          ],
          [
           "New York",
           2.775
          ],
          [
           "New York",
           3.825
          ],
          [
           "New York",
           5.1499999999999995
          ],
          [
           "New York",
           9
          ],
          [
           "New York",
           22.8
          ],
          [
           "New York",
           28.275
          ],
          [
           "New York",
           27.5
          ],
          [
           "New York",
           32.9
          ],
          [
           "New York",
           10.6
          ],
          [
           "North Carolina",
           0.4
          ],
          [
           "North Carolina",
           2.125
          ],
          [
           "North Carolina",
           2.425
          ],
          [
           "North Carolina",
           4
          ],
          [
           "North Carolina",
           0.2
          ],
          [
           "North Carolina",
           5.775
          ],
          [
           "North Carolina",
           9.55
          ],
          [
           "North Carolina",
           7.8999999999999995
          ],
          [
           "North Carolina",
           12.625
          ],
          [
           "North Carolina",
           2.2
          ],
          [
           "North Carolina",
           8.575
          ],
          [
           "North Carolina",
           9.85
          ],
          [
           "North Carolina",
           6.025
          ],
          [
           "North Carolina",
           3.275
          ],
          [
           "North Carolina",
           0.7
          ],
          [
           "North Carolina",
           11.975
          ],
          [
           "North Carolina",
           11.775
          ],
          [
           "North Carolina",
           18.825
          ],
          [
           "North Carolina",
           10.274999999999999
          ],
          [
           "North Carolina",
           2
          ],
          [
           "North Carolina",
           6.7749999999999995
          ],
          [
           "North Carolina",
           12.1
          ],
          [
           "North Carolina",
           3.475
          ],
          [
           "North Carolina",
           4.275
          ],
          [
           "North Carolina",
           3.4
          ],
          [
           "North Carolina",
           32.5
          ],
          [
           "North Carolina",
           28.275
          ],
          [
           "North Carolina",
           49.2
          ],
          [
           "North Carolina",
           39.6
          ],
          [
           "North Carolina",
           16.4
          ],
          [
           "North Dakota",
           2.5
          ],
          [
           "North Dakota",
           2.4749999999999996
          ],
          [
           "North Dakota",
           1.7
          ],
          [
           "North Dakota",
           5.925
          ],
          [
           "North Dakota",
           0
          ],
          [
           "North Dakota",
           3.7249999999999996
          ],
          [
           "North Dakota",
           4.05
          ],
          [
           "North Dakota",
           3.1
          ],
          [
           "North Dakota",
           5.225
          ],
          [
           "North Dakota",
           0.4
          ],
          [
           "North Dakota",
           4.525
          ],
          [
           "North Dakota",
           3.6
          ],
          [
           "North Dakota",
           3.475
          ],
          [
           "North Dakota",
           6.425
          ],
          [
           "North Dakota",
           6.5
          ],
          [
           "North Dakota",
           5.625
          ],
          [
           "North Dakota",
           5.85
          ],
          [
           "North Dakota",
           8.1
          ],
          [
           "North Dakota",
           7.225
          ],
          [
           "North Dakota",
           0
          ],
          [
           "North Dakota",
           1.55
          ],
          [
           "North Dakota",
           4.3
          ],
          [
           "North Dakota",
           0.85
          ],
          [
           "North Dakota",
           2.525
          ],
          [
           "North Dakota",
           1.3
          ],
          [
           "North Dakota",
           15.45
          ],
          [
           "North Dakota",
           20.1
          ],
          [
           "North Dakota",
           28.450000000000003
          ],
          [
           "North Dakota",
           29.575
          ],
          [
           "North Dakota",
           6.9
          ],
          [
           "Ohio",
           1.65
          ],
          [
           "Ohio",
           0.9749999999999999
          ],
          [
           "Ohio",
           4.65
          ],
          [
           "Ohio",
           2.725
          ],
          [
           "Ohio",
           11.1
          ],
          [
           "Ohio",
           11.275
          ],
          [
           "Ohio",
           6.975
          ],
          [
           "Ohio",
           10.475
          ],
          [
           "Ohio",
           12.925
          ],
          [
           "Ohio",
           6.7
          ],
          [
           "Ohio",
           11.399999999999999
          ],
          [
           "Ohio",
           6.675000000000001
          ],
          [
           "Ohio",
           5.9
          ],
          [
           "Ohio",
           3.825
          ],
          [
           "Ohio",
           1.1
          ],
          [
           "Ohio",
           5.625
          ],
          [
           "Ohio",
           8.8
          ],
          [
           "Ohio",
           15.100000000000001
          ],
          [
           "Ohio",
           21.849999999999998
          ],
          [
           "Ohio",
           9.9
          ],
          [
           "Ohio",
           8.975
          ],
          [
           "Ohio",
           5.2
          ],
          [
           "Ohio",
           7.35
          ],
          [
           "Ohio",
           6.05
          ],
          [
           "Ohio",
           3.1
          ],
          [
           "Ohio",
           23.375
          ],
          [
           "Ohio",
           38.7
          ],
          [
           "Ohio",
           42.025
          ],
          [
           "Ohio",
           41.65
          ],
          [
           "Ohio",
           49.3
          ],
          [
           "Oklahoma",
           0.175
          ],
          [
           "Oklahoma",
           0.125
          ],
          [
           "Oklahoma",
           5.3
          ],
          [
           "Oklahoma",
           3.2249999999999996
          ],
          [
           "Oklahoma",
           0
          ],
          [
           "Oklahoma",
           2.75
          ],
          [
           "Oklahoma",
           0.75
          ],
          [
           "Oklahoma",
           3.225
          ],
          [
           "Oklahoma",
           8.175
          ],
          [
           "Oklahoma",
           0
          ],
          [
           "Oklahoma",
           0.07500000000000001
          ],
          [
           "Oklahoma",
           0.575
          ],
          [
           "Oklahoma",
           1.1
          ],
          [
           "Oklahoma",
           12.575
          ],
          [
           "Oklahoma",
           0
          ],
          [
           "Oklahoma",
           5.8
          ],
          [
           "Oklahoma",
           2.75
          ],
          [
           "Oklahoma",
           6.7
          ],
          [
           "Oklahoma",
           17.725
          ],
          [
           "Oklahoma",
           0.3
          ],
          [
           "Oklahoma",
           1.9249999999999998
          ],
          [
           "Oklahoma",
           10.975
          ],
          [
           "Oklahoma",
           0.7000000000000001
          ],
          [
           "Oklahoma",
           6.45
          ],
          [
           "Oklahoma",
           0
          ],
          [
           "Oklahoma",
           21.25
          ],
          [
           "Oklahoma",
           17.275
          ],
          [
           "Oklahoma",
           14.625
          ],
          [
           "Oklahoma",
           39.25
          ],
          [
           "Oklahoma",
           7.7
          ],
          [
           "Oregon",
           5.075
          ],
          [
           "Oregon",
           10.175
          ],
          [
           "Oregon",
           14.55
          ],
          [
           "Oregon",
           8.075
          ],
          [
           "Oregon",
           0.2
          ],
          [
           "Oregon",
           3.4749999999999996
          ],
          [
           "Oregon",
           6.699999999999999
          ],
          [
           "Oregon",
           10.375
          ],
          [
           "Oregon",
           7.725
          ],
          [
           "Oregon",
           2.7
          ],
          [
           "Oregon",
           5.300000000000001
          ],
          [
           "Oregon",
           3.75
          ],
          [
           "Oregon",
           10
          ],
          [
           "Oregon",
           18.3
          ],
          [
           "Oregon",
           0.2
          ],
          [
           "Oregon",
           11.25
          ],
          [
           "Oregon",
           12.7
          ],
          [
           "Oregon",
           13.25
          ],
          [
           "Oregon",
           2.9
          ],
          [
           "Oregon",
           0.1
          ],
          [
           "Oregon",
           1.7
          ],
          [
           "Oregon",
           2.275
          ],
          [
           "Oregon",
           5.8500000000000005
          ],
          [
           "Oregon",
           0.55
          ],
          [
           "Oregon",
           0.5
          ],
          [
           "Oregon",
           32.975
          ],
          [
           "Oregon",
           37.875
          ],
          [
           "Oregon",
           42.725
          ],
          [
           "Oregon",
           45.85
          ],
          [
           "Oregon",
           18
          ],
          [
           "Pennsylvania",
           2.3
          ],
          [
           "Pennsylvania",
           1.325
          ],
          [
           "Pennsylvania",
           1.3
          ],
          [
           "Pennsylvania",
           3.525
          ],
          [
           "Pennsylvania",
           3.7
          ],
          [
           "Pennsylvania",
           8.125
          ],
          [
           "Pennsylvania",
           4.45
          ],
          [
           "Pennsylvania",
           2.775
          ],
          [
           "Pennsylvania",
           4.25
          ],
          [
           "Pennsylvania",
           7.5
          ],
          [
           "Pennsylvania",
           2.225
          ],
          [
           "Pennsylvania",
           3.625
          ],
          [
           "Pennsylvania",
           3.75
          ],
          [
           "Pennsylvania",
           6.475
          ],
          [
           "Pennsylvania",
           4
          ],
          [
           "Pennsylvania",
           6.925
          ],
          [
           "Pennsylvania",
           4.625
          ],
          [
           "Pennsylvania",
           3.625
          ],
          [
           "Pennsylvania",
           10.1
          ],
          [
           "Pennsylvania",
           4.6
          ],
          [
           "Pennsylvania",
           2.55
          ],
          [
           "Pennsylvania",
           2.45
          ],
          [
           "Pennsylvania",
           2.975
          ],
          [
           "Pennsylvania",
           4.95
          ],
          [
           "Pennsylvania",
           9.5
          ],
          [
           "Pennsylvania",
           29.200000000000003
          ],
          [
           "Pennsylvania",
           27.375
          ],
          [
           "Pennsylvania",
           30.125
          ],
          [
           "Pennsylvania",
           29.025
          ],
          [
           "Pennsylvania",
           15.3
          ],
          [
           "South Carolina",
           4.85
          ],
          [
           "South Carolina",
           6.25
          ],
          [
           "South Carolina",
           7.574999999999999
          ],
          [
           "South Carolina",
           0.6
          ],
          [
           "South Carolina",
           0
          ],
          [
           "South Carolina",
           4.25
          ],
          [
           "South Carolina",
           11.975
          ],
          [
           "South Carolina",
           3.475
          ],
          [
           "South Carolina",
           8.1
          ],
          [
           "South Carolina",
           12.4
          ],
          [
           "South Carolina",
           4.5249999999999995
          ],
          [
           "South Carolina",
           16.25
          ],
          [
           "South Carolina",
           5.7
          ],
          [
           "South Carolina",
           9.5
          ],
          [
           "South Carolina",
           1.7
          ],
          [
           "South Carolina",
           10.4
          ],
          [
           "South Carolina",
           21.2
          ],
          [
           "South Carolina",
           14.55
          ],
          [
           "South Carolina",
           22.125
          ],
          [
           "South Carolina",
           14.5
          ],
          [
           "South Carolina",
           1.65
          ],
          [
           "South Carolina",
           2.475
          ],
          [
           "South Carolina",
           1.225
          ],
          [
           "South Carolina",
           3.1
          ],
          [
           "South Carolina",
           1
          ],
          [
           "South Carolina",
           28.25
          ],
          [
           "South Carolina",
           27.85
          ],
          [
           "South Carolina",
           23.725
          ],
          [
           "South Carolina",
           38.125
          ],
          [
           "South Carolina",
           18.5
          ],
          [
           "South Dakota",
           1.5
          ],
          [
           "South Dakota",
           4.05
          ],
          [
           "South Dakota",
           2.525
          ],
          [
           "South Dakota",
           4.4
          ],
          [
           "South Dakota",
           0
          ],
          [
           "South Dakota",
           1.7249999999999999
          ],
          [
           "South Dakota",
           5.375
          ],
          [
           "South Dakota",
           9.925
          ],
          [
           "South Dakota",
           21.275
          ],
          [
           "South Dakota",
           0.8
          ],
          [
           "South Dakota",
           4.175
          ],
          [
           "South Dakota",
           8.45
          ],
          [
           "South Dakota",
           5.225
          ],
          [
           "South Dakota",
           3.475
          ],
          [
           "South Dakota",
           2.5
          ],
          [
           "South Dakota",
           5.575
          ],
          [
           "South Dakota",
           7.8500000000000005
          ],
          [
           "South Dakota",
           3.725
          ],
          [
           "South Dakota",
           18.675
          ],
          [
           "South Dakota",
           0
          ],
          [
           "South Dakota",
           3.275
          ],
          [
           "South Dakota",
           0.8749999999999999
          ],
          [
           "South Dakota",
           2.275
          ],
          [
           "South Dakota",
           1.05
          ],
          [
           "South Dakota",
           2.2
          ],
          [
           "South Dakota",
           12.45
          ],
          [
           "South Dakota",
           32.575
          ],
          [
           "South Dakota",
           19.075
          ],
          [
           "South Dakota",
           31.75
          ],
          [
           "South Dakota",
           0.8
          ],
          [
           "Tennessee",
           0.575
          ],
          [
           "Tennessee",
           0.4
          ],
          [
           "Tennessee",
           1.05
          ],
          [
           "Tennessee",
           1.9749999999999999
          ],
          [
           "Tennessee",
           5.1
          ],
          [
           "Tennessee",
           6.225
          ],
          [
           "Tennessee",
           6.9
          ],
          [
           "Tennessee",
           7.875
          ],
          [
           "Tennessee",
           8.524999999999999
          ],
          [
           "Tennessee",
           7.7
          ],
          [
           "Tennessee",
           4.8
          ],
          [
           "Tennessee",
           1.9
          ],
          [
           "Tennessee",
           3.375
          ],
          [
           "Tennessee",
           7.75
          ],
          [
           "Tennessee",
           0.9
          ],
          [
           "Tennessee",
           27.525
          ],
          [
           "Tennessee",
           18.625
          ],
          [
           "Tennessee",
           19.775
          ],
          [
           "Tennessee",
           29.325
          ],
          [
           "Tennessee",
           23.6
          ],
          [
           "Tennessee",
           3
          ],
          [
           "Tennessee",
           4.65
          ],
          [
           "Tennessee",
           8.275
          ],
          [
           "Tennessee",
           7.35
          ],
          [
           "Tennessee",
           7.1
          ],
          [
           "Tennessee",
           41.1
          ],
          [
           "Tennessee",
           25.75
          ],
          [
           "Tennessee",
           36.9
          ],
          [
           "Tennessee",
           44.9
          ],
          [
           "Tennessee",
           62.8
          ],
          [
           "Texas",
           2.875
          ],
          [
           "Texas",
           3.675
          ],
          [
           "Texas",
           2.675
          ],
          [
           "Texas",
           4.7
          ],
          [
           "Texas",
           5.3
          ],
          [
           "Texas",
           4.15
          ],
          [
           "Texas",
           4.4
          ],
          [
           "Texas",
           7.1000000000000005
          ],
          [
           "Texas",
           4.8
          ],
          [
           "Texas",
           6.9
          ],
          [
           "Texas",
           10.625
          ],
          [
           "Texas",
           11.7
          ],
          [
           "Texas",
           11.1
          ],
          [
           "Texas",
           3.475
          ],
          [
           "Texas",
           8.3
          ],
          [
           "Texas",
           17.45
          ],
          [
           "Texas",
           11.925
          ],
          [
           "Texas",
           20.925
          ],
          [
           "Texas",
           12.675
          ],
          [
           "Texas",
           6.5
          ],
          [
           "Texas",
           5.6
          ],
          [
           "Texas",
           2.925
          ],
          [
           "Texas",
           2.925
          ],
          [
           "Texas",
           7.375
          ],
          [
           "Texas",
           3
          ],
          [
           "Texas",
           23.1
          ],
          [
           "Texas",
           31.450000000000003
          ],
          [
           "Texas",
           33.125
          ],
          [
           "Texas",
           21.35
          ],
          [
           "Texas",
           26.1
          ],
          [
           "Utah",
           12.4
          ],
          [
           "Utah",
           0.675
          ],
          [
           "Utah",
           2.975
          ],
          [
           "Utah",
           1.925
          ],
          [
           "Utah",
           0.1
          ],
          [
           "Utah",
           4.15
          ],
          [
           "Utah",
           2.05
          ],
          [
           "Utah",
           9.975
          ],
          [
           "Utah",
           2.25
          ],
          [
           "Utah",
           0.3
          ],
          [
           "Utah",
           12.625000000000002
          ],
          [
           "Utah",
           7.6
          ],
          [
           "Utah",
           6.5
          ],
          [
           "Utah",
           2.475
          ],
          [
           "Utah",
           0
          ],
          [
           "Utah",
           11.450000000000001
          ],
          [
           "Utah",
           6.8500000000000005
          ],
          [
           "Utah",
           2.575
          ],
          [
           "Utah",
           7.25
          ],
          [
           "Utah",
           0
          ],
          [
           "Utah",
           0.55
          ],
          [
           "Utah",
           0.825
          ],
          [
           "Utah",
           7.300000000000001
          ],
          [
           "Utah",
           2
          ],
          [
           "Utah",
           8.8
          ],
          [
           "Utah",
           39.175
          ],
          [
           "Utah",
           26.924999999999997
          ],
          [
           "Utah",
           35.050000000000004
          ],
          [
           "Utah",
           36.05
          ],
          [
           "Utah",
           22.9
          ],
          [
           "Vermont",
           0.25
          ],
          [
           "Vermont",
           10.825000000000001
          ],
          [
           "Vermont",
           7.300000000000001
          ],
          [
           "Vermont",
           1.325
          ],
          [
           "Vermont",
           2.4
          ],
          [
           "Vermont",
           1.975
          ],
          [
           "Vermont",
           0.8999999999999999
          ],
          [
           "Vermont",
           3.45
          ],
          [
           "Vermont",
           1.225
          ],
          [
           "Vermont",
           0.2
          ],
          [
           "Vermont",
           0.15
          ],
          [
           "Vermont",
           10.25
          ],
          [
           "Vermont",
           13.850000000000001
          ],
          [
           "Vermont",
           10.350000000000001
          ],
          [
           "Vermont",
           0
          ],
          [
           "Vermont",
           6.2
          ],
          [
           "Vermont",
           12.35
          ],
          [
           "Vermont",
           13.625
          ],
          [
           "Vermont",
           2.225
          ],
          [
           "Vermont",
           0.1
          ],
          [
           "Vermont",
           5.15
          ],
          [
           "Vermont",
           0.65
          ],
          [
           "Vermont",
           1.3
          ],
          [
           "Vermont",
           0.4
          ],
          [
           "Vermont",
           1.2
          ],
          [
           "Vermont",
           21.45
          ],
          [
           "Vermont",
           13.5
          ],
          [
           "Vermont",
           30.674999999999997
          ],
          [
           "Vermont",
           18.575
          ],
          [
           "Vermont",
           6.2
          ],
          [
           "Virginia",
           1.45
          ],
          [
           "Virginia",
           2.475
          ],
          [
           "Virginia",
           1.625
          ],
          [
           "Virginia",
           4.55
          ],
          [
           "Virginia",
           0.8
          ],
          [
           "Virginia",
           5.525
          ],
          [
           "Virginia",
           4.85
          ],
          [
           "Virginia",
           5.125
          ],
          [
           "Virginia",
           12.05
          ],
          [
           "Virginia",
           3.9
          ],
          [
           "Virginia",
           0.9750000000000001
          ],
          [
           "Virginia",
           2.175
          ],
          [
           "Virginia",
           4.05
          ],
          [
           "Virginia",
           6.5
          ],
          [
           "Virginia",
           0.3
          ],
          [
           "Virginia",
           13.45
          ],
          [
           "Virginia",
           13.875
          ],
          [
           "Virginia",
           19.475
          ],
          [
           "Virginia",
           24.25
          ],
          [
           "Virginia",
           12.8
          ],
          [
           "Virginia",
           8.925
          ],
          [
           "Virginia",
           3.8499999999999996
          ],
          [
           "Virginia",
           4.675
          ],
          [
           "Virginia",
           5.575
          ],
          [
           "Virginia",
           9.3
          ],
          [
           "Virginia",
           25.125
          ],
          [
           "Virginia",
           31.575000000000003
          ],
          [
           "Virginia",
           27.824999999999996
          ],
          [
           "Virginia",
           36.2
          ],
          [
           "Virginia",
           16.6
          ],
          [
           "Washington",
           1.2249999999999999
          ],
          [
           "Washington",
           2.3
          ],
          [
           "Washington",
           1.55
          ],
          [
           "Washington",
           5.225
          ],
          [
           "Washington",
           0.6
          ],
          [
           "Washington",
           4
          ],
          [
           "Washington",
           5.45
          ],
          [
           "Washington",
           3.175
          ],
          [
           "Washington",
           5.175
          ],
          [
           "Washington",
           0.8
          ],
          [
           "Washington",
           1.825
          ],
          [
           "Washington",
           8.25
          ],
          [
           "Washington",
           2.25
          ],
          [
           "Washington",
           4.275
          ],
          [
           "Washington",
           0.3
          ],
          [
           "Washington",
           1.125
          ],
          [
           "Washington",
           6.975
          ],
          [
           "Washington",
           3.45
          ],
          [
           "Washington",
           2.85
          ],
          [
           "Washington",
           0.8
          ],
          [
           "Washington",
           0.8500000000000001
          ],
          [
           "Washington",
           1.525
          ],
          [
           "Washington",
           1.85
          ],
          [
           "Washington",
           1.275
          ],
          [
           "Washington",
           0.2
          ],
          [
           "Washington",
           30.675
          ],
          [
           "Washington",
           37.699999999999996
          ],
          [
           "Washington",
           18.375
          ],
          [
           "Washington",
           26.5
          ],
          [
           "Washington",
           22.3
          ],
          [
           "West Virginia",
           1.275
          ],
          [
           "West Virginia",
           2.5
          ],
          [
           "West Virginia",
           1.45
          ],
          [
           "West Virginia",
           0.95
          ],
          [
           "West Virginia",
           1.1
          ],
          [
           "West Virginia",
           7.6
          ],
          [
           "West Virginia",
           8.5
          ],
          [
           "West Virginia",
           8.225
          ],
          [
           "West Virginia",
           11.35
          ],
          [
           "West Virginia",
           5
          ],
          [
           "West Virginia",
           2.325
          ],
          [
           "West Virginia",
           0.45
          ],
          [
           "West Virginia",
           0.275
          ],
          [
           "West Virginia",
           3.45
          ],
          [
           "West Virginia",
           0.2
          ],
          [
           "West Virginia",
           6.3500000000000005
          ],
          [
           "West Virginia",
           3.275
          ],
          [
           "West Virginia",
           3.525
          ],
          [
           "West Virginia",
           20.825
          ],
          [
           "West Virginia",
           3.2
          ],
          [
           "West Virginia",
           3.05
          ],
          [
           "West Virginia",
           2.6
          ],
          [
           "West Virginia",
           2.575
          ],
          [
           "West Virginia",
           5.425000000000001
          ],
          [
           "West Virginia",
           1.3
          ],
          [
           "West Virginia",
           18.525
          ],
          [
           "West Virginia",
           26.825
          ],
          [
           "West Virginia",
           27.675
          ],
          [
           "West Virginia",
           28.825
          ],
          [
           "West Virginia",
           10.3
          ],
          [
           "Wisconsin",
           3.625
          ],
          [
           "Wisconsin",
           8.675
          ],
          [
           "Wisconsin",
           13.600000000000001
          ],
          [
           "Wisconsin",
           5.9
          ],
          [
           "Wisconsin",
           0.7
          ],
          [
           "Wisconsin",
           10.675
          ],
          [
           "Wisconsin",
           10.35
          ],
          [
           "Wisconsin",
           8.875
          ],
          [
           "Wisconsin",
           11.7
          ],
          [
           "Wisconsin",
           13.8
          ],
          [
           "Wisconsin",
           14.875
          ],
          [
           "Wisconsin",
           13.1
          ],
          [
           "Wisconsin",
           12.2
          ],
          [
           "Wisconsin",
           18.15
          ],
          [
           "Wisconsin",
           1.1
          ],
          [
           "Wisconsin",
           10.725
          ],
          [
           "Wisconsin",
           7.775
          ],
          [
           "Wisconsin",
           15.375
          ],
          [
           "Wisconsin",
           20.4
          ],
          [
           "Wisconsin",
           3.2
          ],
          [
           "Wisconsin",
           10.75
          ],
          [
           "Wisconsin",
           19.55
          ],
          [
           "Wisconsin",
           9.525
          ],
          [
           "Wisconsin",
           3.5
          ],
          [
           "Wisconsin",
           5
          ],
          [
           "Wisconsin",
           37.699999999999996
          ],
          [
           "Wisconsin",
           37.099999999999994
          ],
          [
           "Wisconsin",
           36.875
          ],
          [
           "Wisconsin",
           32.625
          ],
          [
           "Wisconsin",
           15.9
          ],
          [
           "Wyoming",
           3.45
          ],
          [
           "Wyoming",
           1.25
          ],
          [
           "Wyoming",
           7.625
          ],
          [
           "Wyoming",
           1.75
          ],
          [
           "Wyoming",
           0.1
          ],
          [
           "Wyoming",
           5.575
          ],
          [
           "Wyoming",
           1.95
          ],
          [
           "Wyoming",
           5
          ],
          [
           "Wyoming",
           2.225
          ],
          [
           "Wyoming",
           0.5
          ],
          [
           "Wyoming",
           4.375
          ],
          [
           "Wyoming",
           2.725
          ],
          [
           "Wyoming",
           3.2750000000000004
          ],
          [
           "Wyoming",
           4.475
          ],
          [
           "Wyoming",
           0
          ],
          [
           "Wyoming",
           8.049999999999999
          ],
          [
           "Wyoming",
           1.925
          ],
          [
           "Wyoming",
           1.875
          ],
          [
           "Wyoming",
           2.775
          ],
          [
           "Wyoming",
           0
          ],
          [
           "Wyoming",
           1.6749999999999998
          ],
          [
           "Wyoming",
           0.6
          ],
          [
           "Wyoming",
           1.925
          ],
          [
           "Wyoming",
           2.5
          ],
          [
           "Wyoming",
           2.3
          ],
          [
           "Wyoming",
           23.375
          ],
          [
           "Wyoming",
           19.475
          ],
          [
           "Wyoming",
           23.525000000000002
          ],
          [
           "Wyoming",
           22.424999999999997
          ],
          [
           "Wyoming",
           0.7
          ]
         ],
         "geo": "geo",
         "hovertemplate": "state_code=%{location}<br>State=%{customdata[0]}<br>% of Bee Colonies=%{z}<extra></extra>",
         "locationmode": "USA-states",
         "locations": [
          "AL",
          "AL",
          "AL",
          "AL",
          "AL",
          "AL",
          "AL",
          "AL",
          "AL",
          "AL",
          "AL",
          "AL",
          "AL",
          "AL",
          "AL",
          "AL",
          "AL",
          "AL",
          "AL",
          "AL",
          "AL",
          "AL",
          "AL",
          "AL",
          "AL",
          "AL",
          "AL",
          "AL",
          "AL",
          "AL",
          "AZ",
          "AZ",
          "AZ",
          "AZ",
          "AZ",
          "AZ",
          "AZ",
          "AZ",
          "AZ",
          "AZ",
          "AZ",
          "AZ",
          "AZ",
          "AZ",
          "AZ",
          "AZ",
          "AZ",
          "AZ",
          "AZ",
          "AZ",
          "AZ",
          "AZ",
          "AZ",
          "AZ",
          "AZ",
          "AZ",
          "AZ",
          "AZ",
          "AZ",
          "AZ",
          "AR",
          "AR",
          "AR",
          "AR",
          "AR",
          "AR",
          "AR",
          "AR",
          "AR",
          "AR",
          "AR",
          "AR",
          "AR",
          "AR",
          "AR",
          "AR",
          "AR",
          "AR",
          "AR",
          "AR",
          "AR",
          "AR",
          "AR",
          "AR",
          "AR",
          "AR",
          "AR",
          "AR",
          "AR",
          "AR",
          "CA",
          "CA",
          "CA",
          "CA",
          "CA",
          "CA",
          "CA",
          "CA",
          "CA",
          "CA",
          "CA",
          "CA",
          "CA",
          "CA",
          "CA",
          "CA",
          "CA",
          "CA",
          "CA",
          "CA",
          "CA",
          "CA",
          "CA",
          "CA",
          "CA",
          "CA",
          "CA",
          "CA",
          "CA",
          "CA",
          "CO",
          "CO",
          "CO",
          "CO",
          "CO",
          "CO",
          "CO",
          "CO",
          "CO",
          "CO",
          "CO",
          "CO",
          "CO",
          "CO",
          "CO",
          "CO",
          "CO",
          "CO",
          "CO",
          "CO",
          "CO",
          "CO",
          "CO",
          "CO",
          "CO",
          "CO",
          "CO",
          "CO",
          "CO",
          "CO",
          "CT",
          "CT",
          "CT",
          "CT",
          "CT",
          "CT",
          "CT",
          "CT",
          "CT",
          "CT",
          "CT",
          "CT",
          "CT",
          "CT",
          "CT",
          "CT",
          "CT",
          "CT",
          "CT",
          "CT",
          "CT",
          "CT",
          "CT",
          "CT",
          "CT",
          "CT",
          "CT",
          "CT",
          "CT",
          "CT",
          "FL",
          "FL",
          "FL",
          "FL",
          "FL",
          "FL",
          "FL",
          "FL",
          "FL",
          "FL",
          "FL",
          "FL",
          "FL",
          "FL",
          "FL",
          "FL",
          "FL",
          "FL",
          "FL",
          "FL",
          "FL",
          "FL",
          "FL",
          "FL",
          "FL",
          "FL",
          "FL",
          "FL",
          "FL",
          "FL",
          "GA",
          "GA",
          "GA",
          "GA",
          "GA",
          "GA",
          "GA",
          "GA",
          "GA",
          "GA",
          "GA",
          "GA",
          "GA",
          "GA",
          "GA",
          "GA",
          "GA",
          "GA",
          "GA",
          "GA",
          "GA",
          "GA",
          "GA",
          "GA",
          "GA",
          "GA",
          "GA",
          "GA",
          "GA",
          "GA",
          "HI",
          "HI",
          "HI",
          "HI",
          "HI",
          "HI",
          "HI",
          "HI",
          "HI",
          "HI",
          "HI",
          "HI",
          "HI",
          "HI",
          "HI",
          "HI",
          "HI",
          "HI",
          "HI",
          "HI",
          "HI",
          "HI",
          "HI",
          "HI",
          "HI",
          "HI",
          "HI",
          "HI",
          "HI",
          "HI",
          "ID",
          "ID",
          "ID",
          "ID",
          "ID",
          "ID",
          "ID",
          "ID",
          "ID",
          "ID",
          "ID",
          "ID",
          "ID",
          "ID",
          "ID",
          "ID",
          "ID",
          "ID",
          "ID",
          "ID",
          "ID",
          "ID",
          "ID",
          "ID",
          "ID",
          "ID",
          "ID",
          "ID",
          "ID",
          "ID",
          "IL",
          "IL",
          "IL",
          "IL",
          "IL",
          "IL",
          "IL",
          "IL",
          "IL",
          "IL",
          "IL",
          "IL",
          "IL",
          "IL",
          "IL",
          "IL",
          "IL",
          "IL",
          "IL",
          "IL",
          "IL",
          "IL",
          "IL",
          "IL",
          "IL",
          "IL",
          "IL",
          "IL",
          "IL",
          "IL",
          "IN",
          "IN",
          "IN",
          "IN",
          "IN",
          "IN",
          "IN",
          "IN",
          "IN",
          "IN",
          "IN",
          "IN",
          "IN",
          "IN",
          "IN",
          "IN",
          "IN",
          "IN",
          "IN",
          "IN",
          "IN",
          "IN",
          "IN",
          "IN",
          "IN",
          "IN",
          "IN",
          "IN",
          "IN",
          "IN",
          "IA",
          "IA",
          "IA",
          "IA",
          "IA",
          "IA",
          "IA",
          "IA",
          "IA",
          "IA",
          "IA",
          "IA",
          "IA",
          "IA",
          "IA",
          "IA",
          "IA",
          "IA",
          "IA",
          "IA",
          "IA",
          "IA",
          "IA",
          "IA",
          "IA",
          "IA",
          "IA",
          "IA",
          "IA",
          "IA",
          "KS",
          "KS",
          "KS",
          "KS",
          "KS",
          "KS",
          "KS",
          "KS",
          "KS",
          "KS",
          "KS",
          "KS",
          "KS",
          "KS",
          "KS",
          "KS",
          "KS",
          "KS",
          "KS",
          "KS",
          "KS",
          "KS",
          "KS",
          "KS",
          "KS",
          "KS",
          "KS",
          "KS",
          "KS",
          "KS",
          "KY",
          "KY",
          "KY",
          "KY",
          "KY",
          "KY",
          "KY",
          "KY",
          "KY",
          "KY",
          "KY",
          "KY",
          "KY",
          "KY",
          "KY",
          "KY",
          "KY",
          "KY",
          "KY",
          "KY",
          "KY",
          "KY",
          "KY",
          "KY",
          "KY",
          "KY",
          "KY",
          "KY",
          "KY",
          "KY",
          "LA",
          "LA",
          "LA",
          "LA",
          "LA",
          "LA",
          "LA",
          "LA",
          "LA",
          "LA",
          "LA",
          "LA",
          "LA",
          "LA",
          "LA",
          "LA",
          "LA",
          "LA",
          "LA",
          "LA",
          "LA",
          "LA",
          "LA",
          "LA",
          "LA",
          "LA",
          "LA",
          "LA",
          "LA",
          "LA",
          "ME",
          "ME",
          "ME",
          "ME",
          "ME",
          "ME",
          "ME",
          "ME",
          "ME",
          "ME",
          "ME",
          "ME",
          "ME",
          "ME",
          "ME",
          "ME",
          "ME",
          "ME",
          "ME",
          "ME",
          "ME",
          "ME",
          "ME",
          "ME",
          "ME",
          "ME",
          "ME",
          "ME",
          "ME",
          "ME",
          "MD",
          "MD",
          "MD",
          "MD",
          "MD",
          "MD",
          "MD",
          "MD",
          "MD",
          "MD",
          "MD",
          "MD",
          "MD",
          "MD",
          "MD",
          "MD",
          "MD",
          "MD",
          "MD",
          "MD",
          "MD",
          "MD",
          "MD",
          "MD",
          "MD",
          "MD",
          "MD",
          "MD",
          "MD",
          "MD",
          "MA",
          "MA",
          "MA",
          "MA",
          "MA",
          "MA",
          "MA",
          "MA",
          "MA",
          "MA",
          "MA",
          "MA",
          "MA",
          "MA",
          "MA",
          "MA",
          "MA",
          "MA",
          "MA",
          "MA",
          "MA",
          "MA",
          "MA",
          "MA",
          "MA",
          "MA",
          "MA",
          "MA",
          "MA",
          "MA",
          "MI",
          "MI",
          "MI",
          "MI",
          "MI",
          "MI",
          "MI",
          "MI",
          "MI",
          "MI",
          "MI",
          "MI",
          "MI",
          "MI",
          "MI",
          "MI",
          "MI",
          "MI",
          "MI",
          "MI",
          "MI",
          "MI",
          "MI",
          "MI",
          "MI",
          "MI",
          "MI",
          "MI",
          "MI",
          "MI",
          "MN",
          "MN",
          "MN",
          "MN",
          "MN",
          "MN",
          "MN",
          "MN",
          "MN",
          "MN",
          "MN",
          "MN",
          "MN",
          "MN",
          "MN",
          "MN",
          "MN",
          "MN",
          "MN",
          "MN",
          "MN",
          "MN",
          "MN",
          "MN",
          "MN",
          "MN",
          "MN",
          "MN",
          "MN",
          "MN",
          "MS",
          "MS",
          "MS",
          "MS",
          "MS",
          "MS",
          "MS",
          "MS",
          "MS",
          "MS",
          "MS",
          "MS",
          "MS",
          "MS",
          "MS",
          "MS",
          "MS",
          "MS",
          "MS",
          "MS",
          "MS",
          "MS",
          "MS",
          "MS",
          "MS",
          "MS",
          "MS",
          "MS",
          "MS",
          "MS",
          "MO",
          "MO",
          "MO",
          "MO",
          "MO",
          "MO",
          "MO",
          "MO",
          "MO",
          "MO",
          "MO",
          "MO",
          "MO",
          "MO",
          "MO",
          "MO",
          "MO",
          "MO",
          "MO",
          "MO",
          "MO",
          "MO",
          "MO",
          "MO",
          "MO",
          "MO",
          "MO",
          "MO",
          "MO",
          "MO",
          "MT",
          "MT",
          "MT",
          "MT",
          "MT",
          "MT",
          "MT",
          "MT",
          "MT",
          "MT",
          "MT",
          "MT",
          "MT",
          "MT",
          "MT",
          "MT",
          "MT",
          "MT",
          "MT",
          "MT",
          "MT",
          "MT",
          "MT",
          "MT",
          "MT",
          "MT",
          "MT",
          "MT",
          "MT",
          "MT",
          "NE",
          "NE",
          "NE",
          "NE",
          "NE",
          "NE",
          "NE",
          "NE",
          "NE",
          "NE",
          "NE",
          "NE",
          "NE",
          "NE",
          "NE",
          "NE",
          "NE",
          "NE",
          "NE",
          "NE",
          "NE",
          "NE",
          "NE",
          "NE",
          "NE",
          "NE",
          "NE",
          "NE",
          "NE",
          "NE",
          "NJ",
          "NJ",
          "NJ",
          "NJ",
          "NJ",
          "NJ",
          "NJ",
          "NJ",
          "NJ",
          "NJ",
          "NJ",
          "NJ",
          "NJ",
          "NJ",
          "NJ",
          "NJ",
          "NJ",
          "NJ",
          "NJ",
          "NJ",
          "NJ",
          "NJ",
          "NJ",
          "NJ",
          "NJ",
          "NJ",
          "NJ",
          "NJ",
          "NJ",
          "NJ",
          "NM",
          "NM",
          "NM",
          "NM",
          "NM",
          "NM",
          "NM",
          "NM",
          "NM",
          "NM",
          "NM",
          "NM",
          "NM",
          "NM",
          "NM",
          "NM",
          "NM",
          "NM",
          "NM",
          "NM",
          "NM",
          "NM",
          "NM",
          "NM",
          "NM",
          "NM",
          "NM",
          "NM",
          "NM",
          "NM",
          "NY",
          "NY",
          "NY",
          "NY",
          "NY",
          "NY",
          "NY",
          "NY",
          "NY",
          "NY",
          "NY",
          "NY",
          "NY",
          "NY",
          "NY",
          "NY",
          "NY",
          "NY",
          "NY",
          "NY",
          "NY",
          "NY",
          "NY",
          "NY",
          "NY",
          "NY",
          "NY",
          "NY",
          "NY",
          "NY",
          "NC",
          "NC",
          "NC",
          "NC",
          "NC",
          "NC",
          "NC",
          "NC",
          "NC",
          "NC",
          "NC",
          "NC",
          "NC",
          "NC",
          "NC",
          "NC",
          "NC",
          "NC",
          "NC",
          "NC",
          "NC",
          "NC",
          "NC",
          "NC",
          "NC",
          "NC",
          "NC",
          "NC",
          "NC",
          "NC",
          "ND",
          "ND",
          "ND",
          "ND",
          "ND",
          "ND",
          "ND",
          "ND",
          "ND",
          "ND",
          "ND",
          "ND",
          "ND",
          "ND",
          "ND",
          "ND",
          "ND",
          "ND",
          "ND",
          "ND",
          "ND",
          "ND",
          "ND",
          "ND",
          "ND",
          "ND",
          "ND",
          "ND",
          "ND",
          "ND",
          "OH",
          "OH",
          "OH",
          "OH",
          "OH",
          "OH",
          "OH",
          "OH",
          "OH",
          "OH",
          "OH",
          "OH",
          "OH",
          "OH",
          "OH",
          "OH",
          "OH",
          "OH",
          "OH",
          "OH",
          "OH",
          "OH",
          "OH",
          "OH",
          "OH",
          "OH",
          "OH",
          "OH",
          "OH",
          "OH",
          "OK",
          "OK",
          "OK",
          "OK",
          "OK",
          "OK",
          "OK",
          "OK",
          "OK",
          "OK",
          "OK",
          "OK",
          "OK",
          "OK",
          "OK",
          "OK",
          "OK",
          "OK",
          "OK",
          "OK",
          "OK",
          "OK",
          "OK",
          "OK",
          "OK",
          "OK",
          "OK",
          "OK",
          "OK",
          "OK",
          "OR",
          "OR",
          "OR",
          "OR",
          "OR",
          "OR",
          "OR",
          "OR",
          "OR",
          "OR",
          "OR",
          "OR",
          "OR",
          "OR",
          "OR",
          "OR",
          "OR",
          "OR",
          "OR",
          "OR",
          "OR",
          "OR",
          "OR",
          "OR",
          "OR",
          "OR",
          "OR",
          "OR",
          "OR",
          "OR",
          "PA",
          "PA",
          "PA",
          "PA",
          "PA",
          "PA",
          "PA",
          "PA",
          "PA",
          "PA",
          "PA",
          "PA",
          "PA",
          "PA",
          "PA",
          "PA",
          "PA",
          "PA",
          "PA",
          "PA",
          "PA",
          "PA",
          "PA",
          "PA",
          "PA",
          "PA",
          "PA",
          "PA",
          "PA",
          "PA",
          "SC",
          "SC",
          "SC",
          "SC",
          "SC",
          "SC",
          "SC",
          "SC",
          "SC",
          "SC",
          "SC",
          "SC",
          "SC",
          "SC",
          "SC",
          "SC",
          "SC",
          "SC",
          "SC",
          "SC",
          "SC",
          "SC",
          "SC",
          "SC",
          "SC",
          "SC",
          "SC",
          "SC",
          "SC",
          "SC",
          "SD",
          "SD",
          "SD",
          "SD",
          "SD",
          "SD",
          "SD",
          "SD",
          "SD",
          "SD",
          "SD",
          "SD",
          "SD",
          "SD",
          "SD",
          "SD",
          "SD",
          "SD",
          "SD",
          "SD",
          "SD",
          "SD",
          "SD",
          "SD",
          "SD",
          "SD",
          "SD",
          "SD",
          "SD",
          "SD",
          "TN",
          "TN",
          "TN",
          "TN",
          "TN",
          "TN",
          "TN",
          "TN",
          "TN",
          "TN",
          "TN",
          "TN",
          "TN",
          "TN",
          "TN",
          "TN",
          "TN",
          "TN",
          "TN",
          "TN",
          "TN",
          "TN",
          "TN",
          "TN",
          "TN",
          "TN",
          "TN",
          "TN",
          "TN",
          "TN",
          "TX",
          "TX",
          "TX",
          "TX",
          "TX",
          "TX",
          "TX",
          "TX",
          "TX",
          "TX",
          "TX",
          "TX",
          "TX",
          "TX",
          "TX",
          "TX",
          "TX",
          "TX",
          "TX",
          "TX",
          "TX",
          "TX",
          "TX",
          "TX",
          "TX",
          "TX",
          "TX",
          "TX",
          "TX",
          "TX",
          "UT",
          "UT",
          "UT",
          "UT",
          "UT",
          "UT",
          "UT",
          "UT",
          "UT",
          "UT",
          "UT",
          "UT",
          "UT",
          "UT",
          "UT",
          "UT",
          "UT",
          "UT",
          "UT",
          "UT",
          "UT",
          "UT",
          "UT",
          "UT",
          "UT",
          "UT",
          "UT",
          "UT",
          "UT",
          "UT",
          "VT",
          "VT",
          "VT",
          "VT",
          "VT",
          "VT",
          "VT",
          "VT",
          "VT",
          "VT",
          "VT",
          "VT",
          "VT",
          "VT",
          "VT",
          "VT",
          "VT",
          "VT",
          "VT",
          "VT",
          "VT",
          "VT",
          "VT",
          "VT",
          "VT",
          "VT",
          "VT",
          "VT",
          "VT",
          "VT",
          "VA",
          "VA",
          "VA",
          "VA",
          "VA",
          "VA",
          "VA",
          "VA",
          "VA",
          "VA",
          "VA",
          "VA",
          "VA",
          "VA",
          "VA",
          "VA",
          "VA",
          "VA",
          "VA",
          "VA",
          "VA",
          "VA",
          "VA",
          "VA",
          "VA",
          "VA",
          "VA",
          "VA",
          "VA",
          "VA",
          "WA",
          "WA",
          "WA",
          "WA",
          "WA",
          "WA",
          "WA",
          "WA",
          "WA",
          "WA",
          "WA",
          "WA",
          "WA",
          "WA",
          "WA",
          "WA",
          "WA",
          "WA",
          "WA",
          "WA",
          "WA",
          "WA",
          "WA",
          "WA",
          "WA",
          "WA",
          "WA",
          "WA",
          "WA",
          "WA",
          "WV",
          "WV",
          "WV",
          "WV",
          "WV",
          "WV",
          "WV",
          "WV",
          "WV",
          "WV",
          "WV",
          "WV",
          "WV",
          "WV",
          "WV",
          "WV",
          "WV",
          "WV",
          "WV",
          "WV",
          "WV",
          "WV",
          "WV",
          "WV",
          "WV",
          "WV",
          "WV",
          "WV",
          "WV",
          "WV",
          "WI",
          "WI",
          "WI",
          "WI",
          "WI",
          "WI",
          "WI",
          "WI",
          "WI",
          "WI",
          "WI",
          "WI",
          "WI",
          "WI",
          "WI",
          "WI",
          "WI",
          "WI",
          "WI",
          "WI",
          "WI",
          "WI",
          "WI",
          "WI",
          "WI",
          "WI",
          "WI",
          "WI",
          "WI",
          "WI",
          "WY",
          "WY",
          "WY",
          "WY",
          "WY",
          "WY",
          "WY",
          "WY",
          "WY",
          "WY",
          "WY",
          "WY",
          "WY",
          "WY",
          "WY",
          "WY",
          "WY",
          "WY",
          "WY",
          "WY",
          "WY",
          "WY",
          "WY",
          "WY",
          "WY",
          "WY",
          "WY",
          "WY",
          "WY",
          "WY"
         ],
         "name": "",
         "type": "choropleth",
         "z": [
          0.05,
          1.2,
          2.25,
          1.3,
          1.8,
          4.325,
          4.275,
          6.325,
          7.3,
          3.1,
          1.825,
          4,
          13.075,
          11.35,
          0.3,
          31.225,
          20.525000000000002,
          13.9,
          36.85,
          22.7,
          8.275,
          8.450000000000001,
          5.925000000000001,
          5.225,
          9,
          23.225,
          14.45,
          32.4,
          38.125,
          27.2,
          1.775,
          5.1,
          6.575,
          11.25,
          6.5,
          9.525,
          10.4,
          10.85,
          11.075,
          8.4,
          10.225000000000001,
          9.925,
          4.2,
          4.975,
          16.2,
          19.775000000000002,
          16.7,
          5.625,
          5.525,
          7.9,
          6,
          5.7,
          2.3,
          9.725000000000001,
          0.2,
          34.725,
          50.275,
          43.85,
          45.8,
          25.8,
          2.375,
          1.475,
          7.15,
          0.45,
          3.3,
          9.675,
          2.275,
          9.775,
          6.8500000000000005,
          0.7,
          9.8,
          2.45,
          13.1,
          29.075,
          55.3,
          29.224999999999998,
          7.3,
          15.625,
          9.325,
          1.5,
          3.075,
          3.3249999999999997,
          1.55,
          7.475,
          2.9,
          47.7,
          61.025000000000006,
          37.45,
          41.175,
          19.5,
          7.375,
          9.175,
          5.9,
          7.550000000000001,
          6.4,
          11.55,
          10.925,
          9.65,
          9.575,
          8.7,
          15.45,
          13.9,
          13.15,
          13.65,
          12.3,
          15.45,
          15.2,
          12.55,
          11.175,
          13.4,
          4.475,
          4.35,
          4.9,
          5.15,
          5.6,
          38.2,
          42.975,
          41.475,
          46.05,
          43.5,
          7.574999999999999,
          5.175000000000001,
          2.025,
          5.775,
          0,
          4.525,
          7.225,
          7.625,
          8.125,
          2.5,
          9.899999999999999,
          7.325000000000001,
          8.3,
          1.75,
          0,
          7.1499999999999995,
          7.1499999999999995,
          0.725,
          5.825000000000001,
          0.3,
          4.25,
          0.175,
          1.7999999999999998,
          2.15,
          0.6,
          37.825,
          30.825,
          32.85,
          54.8,
          11.2,
          0.7,
          0.45,
          0.025,
          0.6749999999999999,
          0,
          8.35,
          5.725,
          5.65,
          3.8,
          3.6,
          0.8500000000000001,
          0.375,
          0.275,
          0.975,
          0,
          1.175,
          2.4,
          1.5,
          1.3,
          1.3,
          1.275,
          1.725,
          1.9749999999999999,
          1.85,
          1.7,
          15.625,
          13.775,
          30.525,
          12.775,
          10.1,
          3.175,
          5.2,
          4.7,
          6.825,
          5.5,
          10.899999999999999,
          8.5,
          7.925000000000001,
          9.475,
          7.4,
          14.075,
          10.85,
          9.975,
          11.6,
          22.9,
          20,
          19.9,
          14.8,
          21.425,
          24.8,
          4.35,
          2.925,
          21.125,
          13.4,
          5.5,
          33.325,
          36.95,
          39.6,
          39.675,
          46.9,
          3.775,
          2.55,
          3.95,
          6.575,
          7.4,
          7.2250000000000005,
          6.6499999999999995,
          7.4,
          17.525,
          10.6,
          14.25,
          17.375,
          9.65,
          16.05,
          9.6,
          13.125,
          15.299999999999999,
          11.475,
          20.599999999999998,
          17.8,
          4.875,
          3.4,
          4.025,
          6.8,
          4.9,
          37.525,
          41.474999999999994,
          43.45,
          45.95,
          69.6,
          0.55,
          0.025,
          0.15,
          0.15,
          0.1,
          1.925,
          1.05,
          0.65,
          0.275,
          2.9,
          0.05,
          0.4,
          0,
          0.025,
          0.7,
          53.275,
          38.925,
          19.049999999999997,
          87.275,
          64.9,
          0.025,
          0.025,
          0.025,
          0.05,
          0,
          52,
          35.9,
          37.525000000000006,
          82.525,
          72.1,
          6.25,
          3.5250000000000004,
          17.674999999999997,
          7,
          8,
          6.9,
          5.25,
          5.175,
          7.075,
          8.6,
          6.2,
          4.2,
          14.975,
          16.075,
          9.2,
          4.8,
          3.15,
          21.174999999999997,
          15.55,
          8,
          4.025,
          2.6,
          2.625,
          3.75,
          0,
          37.75,
          27.475,
          48.1,
          57.1,
          24.5,
          0.45,
          1.05,
          1.2,
          3.7,
          3.1,
          4.825,
          4.025,
          6.25,
          7.175000000000001,
          15.5,
          1.05,
          3.9,
          4.35,
          4.5,
          0.7,
          4.025,
          7.6,
          10.45,
          10.674999999999999,
          14.7,
          4.525,
          4.275,
          4.425,
          6.5,
          10.1,
          9.925,
          17.25,
          22.825,
          21.95,
          33.3,
          4.575,
          0.575,
          1.85,
          7.15,
          2.6,
          7.075,
          3.375,
          6.675,
          12.899999999999999,
          7.1,
          2.275,
          1.1,
          13,
          22.549999999999997,
          5.5,
          3.225,
          7.15,
          5.4,
          11.325,
          8.8,
          5.9,
          3.7,
          4.575,
          1.9,
          1.7,
          16.225,
          27.125,
          14.675,
          48.05,
          15.6,
          2.05,
          10.55,
          7.65,
          4.65,
          0.6,
          12.775,
          10.95,
          10.475,
          10.075,
          7.7,
          5.575,
          7.25,
          18.775,
          10.125,
          0.3,
          3.125,
          11.35,
          17.15,
          11.85,
          1.7,
          2.525,
          5.6,
          5.074999999999999,
          1.9249999999999998,
          3.5,
          29.575,
          31.9,
          37.775,
          25.75,
          34.8,
          0.6000000000000001,
          4.325,
          4.7,
          8.725,
          2.5,
          15.425,
          3.925,
          4.949999999999999,
          13.825,
          21.6,
          13.375,
          10.4,
          13.775,
          20.225,
          12.2,
          11.175,
          13.850000000000001,
          17.95,
          33.575,
          7.8,
          7.25,
          2.8000000000000003,
          9.575,
          11.25,
          4,
          28.525,
          37.4,
          36.95,
          61.15,
          92,
          2.35,
          1.65,
          1.625,
          1.075,
          0.1,
          12.1,
          11.55,
          9.05,
          5.525,
          10.7,
          5.15,
          12.3,
          3.8499999999999996,
          5.075,
          5.3,
          13.75,
          23.275,
          21.675,
          29.55,
          12.9,
          4.875,
          5.6,
          9.425,
          5.925,
          4.6,
          23.775,
          38.25,
          39.575,
          47.025,
          21.6,
          1.125,
          4.9,
          0.175,
          0.225,
          0.1,
          3.375,
          5.975,
          2.975,
          1.925,
          1,
          1.25,
          0.6,
          1.4000000000000001,
          2.2750000000000004,
          0.3,
          2.925,
          10.6,
          28.450000000000003,
          10.8,
          1.3,
          0.75,
          1.1,
          6.95,
          1.55,
          0.7,
          22.6,
          21.475,
          34.925,
          15.225000000000001,
          57.8,
          3.3249999999999997,
          1.2249999999999999,
          8.975,
          0.375,
          0,
          2.675,
          2.4,
          7.525,
          2.6,
          1.4,
          8.625,
          7.775,
          4.075,
          0.325,
          0,
          9.55,
          0.325,
          8.075,
          1.875,
          0.1,
          2.55,
          7.35,
          3.725,
          2,
          0.8,
          26.1,
          26.5,
          14.149999999999999,
          17.825,
          2.3,
          0.9,
          1.75,
          0.675,
          1.4500000000000002,
          0.2,
          8.275,
          4.1,
          5.225,
          6.175000000000001,
          10.1,
          6.325,
          4.425,
          1,
          0.8999999999999999,
          0,
          6.050000000000001,
          3.875,
          5.8500000000000005,
          5.075,
          5.1,
          5.05,
          0.875,
          5.575,
          2.25,
          2.4,
          11.875,
          16.25,
          7.825000000000001,
          14.575,
          12.6,
          2.225,
          2.05,
          5.825,
          5.15,
          0,
          4.275,
          2.375,
          3.3,
          4.025,
          6.3,
          17.15,
          2.775,
          5.125,
          5.425,
          4.3,
          17.425,
          6.7749999999999995,
          5.05,
          5.6499999999999995,
          0,
          2.3000000000000003,
          6.275,
          1.9,
          6.275,
          0.9,
          34.5,
          17.7,
          35.625,
          33.75,
          10.3,
          2.25,
          0.375,
          3.5249999999999995,
          7.05,
          1.5,
          7.425,
          5.9,
          4.625,
          11.65,
          12.2,
          7.125,
          7.2,
          10.325,
          14.5,
          0.2,
          9.125,
          9.025,
          8.25,
          16.775,
          5.8,
          5.05,
          3.9250000000000003,
          2.325,
          10.225000000000001,
          0.7,
          29,
          37,
          34.4,
          60.300000000000004,
          18.2,
          4.300000000000001,
          4,
          2.1,
          4.825,
          1.9,
          5.625,
          9.85,
          8.6,
          5.55,
          2,
          17.25,
          17.45,
          15.725,
          10.725,
          0,
          7.4,
          8.825,
          3.45,
          6.9,
          0.2,
          6.875,
          9.975,
          3.35,
          8.2,
          0.8,
          25.924999999999997,
          26.9,
          31.325,
          21.95,
          1.3,
          0.175,
          0.725,
          0.5249999999999999,
          0.05,
          64.8,
          2,
          2.15,
          5.95,
          4.1,
          1.9,
          0.8250000000000001,
          1.925,
          0.875,
          0.45,
          48.4,
          4.725,
          3.35,
          11.774999999999999,
          11.575,
          71,
          1.375,
          5.525,
          1.75,
          12.075,
          5.5,
          18.9,
          18.875,
          36.525,
          25.825,
          14.6,
          2.9,
          0.575,
          1.825,
          0.8500000000000001,
          1.9,
          3.9250000000000003,
          2.675,
          4.075,
          11.05,
          5.4,
          1.975,
          1.6,
          9.450000000000001,
          2.125,
          0.5,
          7.475,
          7.225,
          18.625,
          29.474999999999998,
          2.3,
          4.15,
          2.475,
          10.925,
          7.925,
          3.2,
          8.025,
          16.7,
          31.1,
          38.25,
          5.4,
          6.625,
          11.1,
          3.5500000000000003,
          6.725,
          0,
          3.375,
          11.6,
          8.7,
          6.425,
          0.8,
          4.95,
          6.25,
          3.5250000000000004,
          13.025,
          0.8,
          9.399999999999999,
          13.825,
          7.475,
          9.05,
          0,
          6.775,
          8.675,
          1.7,
          1,
          1.1,
          26.425,
          32.975,
          37.625,
          39.075,
          15.1,
          2.8,
          0.35000000000000003,
          1.4749999999999999,
          2,
          32,
          1.85,
          0.9750000000000001,
          7.9,
          4.475,
          2.2,
          3.85,
          3.8499999999999996,
          11.700000000000001,
          3.45,
          0.8,
          4.325,
          0.875,
          12.149999999999999,
          1.725,
          1.3,
          2.625,
          1.425,
          3.425,
          2.85,
          0.1,
          15.275,
          9.7,
          26.65,
          9.15,
          32.3,
          7.699999999999999,
          0.5,
          1.75,
          0.07500000000000001,
          0,
          5.5,
          1.65,
          1.2,
          3.4,
          3.5,
          9.4,
          2.75,
          1.8,
          0.15000000000000002,
          0,
          5,
          5.1,
          4,
          3.375,
          4.4,
          5.25,
          5.3,
          0.825,
          0.4,
          0.6,
          26.875,
          17.175,
          16.825,
          14.425,
          15.3,
          17.675,
          26.5,
          44.525000000000006,
          1,
          0.6,
          14.450000000000001,
          3.05,
          12.675,
          4.5,
          1.4,
          18.125,
          6.65,
          5.975,
          3.4250000000000003,
          0,
          13.85,
          14.1,
          1.05,
          0.35,
          1.1,
          1.375,
          0.325,
          0.475,
          0.725,
          0.3,
          37,
          58.45,
          85.675,
          31.099999999999998,
          3.5,
          2.875,
          2.875,
          6.525,
          10.7,
          1.7,
          6.225,
          10.125,
          9.025,
          13.85,
          7.7,
          6.7,
          9.25,
          5.300000000000001,
          8.825,
          1.7,
          7.9,
          5.05,
          11,
          14.25,
          2.5,
          4.275,
          2.775,
          3.825,
          5.1499999999999995,
          9,
          22.8,
          28.275,
          27.5,
          32.9,
          10.6,
          0.4,
          2.125,
          2.425,
          4,
          0.2,
          5.775,
          9.55,
          7.8999999999999995,
          12.625,
          2.2,
          8.575,
          9.85,
          6.025,
          3.275,
          0.7,
          11.975,
          11.775,
          18.825,
          10.274999999999999,
          2,
          6.7749999999999995,
          12.1,
          3.475,
          4.275,
          3.4,
          32.5,
          28.275,
          49.2,
          39.6,
          16.4,
          2.5,
          2.4749999999999996,
          1.7,
          5.925,
          0,
          3.7249999999999996,
          4.05,
          3.1,
          5.225,
          0.4,
          4.525,
          3.6,
          3.475,
          6.425,
          6.5,
          5.625,
          5.85,
          8.1,
          7.225,
          0,
          1.55,
          4.3,
          0.85,
          2.525,
          1.3,
          15.45,
          20.1,
          28.450000000000003,
          29.575,
          6.9,
          1.65,
          0.9749999999999999,
          4.65,
          2.725,
          11.1,
          11.275,
          6.975,
          10.475,
          12.925,
          6.7,
          11.399999999999999,
          6.675000000000001,
          5.9,
          3.825,
          1.1,
          5.625,
          8.8,
          15.100000000000001,
          21.849999999999998,
          9.9,
          8.975,
          5.2,
          7.35,
          6.05,
          3.1,
          23.375,
          38.7,
          42.025,
          41.65,
          49.3,
          0.175,
          0.125,
          5.3,
          3.2249999999999996,
          0,
          2.75,
          0.75,
          3.225,
          8.175,
          0,
          0.07500000000000001,
          0.575,
          1.1,
          12.575,
          0,
          5.8,
          2.75,
          6.7,
          17.725,
          0.3,
          1.9249999999999998,
          10.975,
          0.7000000000000001,
          6.45,
          0,
          21.25,
          17.275,
          14.625,
          39.25,
          7.7,
          5.075,
          10.175,
          14.55,
          8.075,
          0.2,
          3.4749999999999996,
          6.699999999999999,
          10.375,
          7.725,
          2.7,
          5.300000000000001,
          3.75,
          10,
          18.3,
          0.2,
          11.25,
          12.7,
          13.25,
          2.9,
          0.1,
          1.7,
          2.275,
          5.8500000000000005,
          0.55,
          0.5,
          32.975,
          37.875,
          42.725,
          45.85,
          18,
          2.3,
          1.325,
          1.3,
          3.525,
          3.7,
          8.125,
          4.45,
          2.775,
          4.25,
          7.5,
          2.225,
          3.625,
          3.75,
          6.475,
          4,
          6.925,
          4.625,
          3.625,
          10.1,
          4.6,
          2.55,
          2.45,
          2.975,
          4.95,
          9.5,
          29.200000000000003,
          27.375,
          30.125,
          29.025,
          15.3,
          4.85,
          6.25,
          7.574999999999999,
          0.6,
          0,
          4.25,
          11.975,
          3.475,
          8.1,
          12.4,
          4.5249999999999995,
          16.25,
          5.7,
          9.5,
          1.7,
          10.4,
          21.2,
          14.55,
          22.125,
          14.5,
          1.65,
          2.475,
          1.225,
          3.1,
          1,
          28.25,
          27.85,
          23.725,
          38.125,
          18.5,
          1.5,
          4.05,
          2.525,
          4.4,
          0,
          1.7249999999999999,
          5.375,
          9.925,
          21.275,
          0.8,
          4.175,
          8.45,
          5.225,
          3.475,
          2.5,
          5.575,
          7.8500000000000005,
          3.725,
          18.675,
          0,
          3.275,
          0.8749999999999999,
          2.275,
          1.05,
          2.2,
          12.45,
          32.575,
          19.075,
          31.75,
          0.8,
          0.575,
          0.4,
          1.05,
          1.9749999999999999,
          5.1,
          6.225,
          6.9,
          7.875,
          8.524999999999999,
          7.7,
          4.8,
          1.9,
          3.375,
          7.75,
          0.9,
          27.525,
          18.625,
          19.775,
          29.325,
          23.6,
          3,
          4.65,
          8.275,
          7.35,
          7.1,
          41.1,
          25.75,
          36.9,
          44.9,
          62.8,
          2.875,
          3.675,
          2.675,
          4.7,
          5.3,
          4.15,
          4.4,
          7.1000000000000005,
          4.8,
          6.9,
          10.625,
          11.7,
          11.1,
          3.475,
          8.3,
          17.45,
          11.925,
          20.925,
          12.675,
          6.5,
          5.6,
          2.925,
          2.925,
          7.375,
          3,
          23.1,
          31.450000000000003,
          33.125,
          21.35,
          26.1,
          12.4,
          0.675,
          2.975,
          1.925,
          0.1,
          4.15,
          2.05,
          9.975,
          2.25,
          0.3,
          12.625000000000002,
          7.6,
          6.5,
          2.475,
          0,
          11.450000000000001,
          6.8500000000000005,
          2.575,
          7.25,
          0,
          0.55,
          0.825,
          7.300000000000001,
          2,
          8.8,
          39.175,
          26.924999999999997,
          35.050000000000004,
          36.05,
          22.9,
          0.25,
          10.825000000000001,
          7.300000000000001,
          1.325,
          2.4,
          1.975,
          0.8999999999999999,
          3.45,
          1.225,
          0.2,
          0.15,
          10.25,
          13.850000000000001,
          10.350000000000001,
          0,
          6.2,
          12.35,
          13.625,
          2.225,
          0.1,
          5.15,
          0.65,
          1.3,
          0.4,
          1.2,
          21.45,
          13.5,
          30.674999999999997,
          18.575,
          6.2,
          1.45,
          2.475,
          1.625,
          4.55,
          0.8,
          5.525,
          4.85,
          5.125,
          12.05,
          3.9,
          0.9750000000000001,
          2.175,
          4.05,
          6.5,
          0.3,
          13.45,
          13.875,
          19.475,
          24.25,
          12.8,
          8.925,
          3.8499999999999996,
          4.675,
          5.575,
          9.3,
          25.125,
          31.575000000000003,
          27.824999999999996,
          36.2,
          16.6,
          1.2249999999999999,
          2.3,
          1.55,
          5.225,
          0.6,
          4,
          5.45,
          3.175,
          5.175,
          0.8,
          1.825,
          8.25,
          2.25,
          4.275,
          0.3,
          1.125,
          6.975,
          3.45,
          2.85,
          0.8,
          0.8500000000000001,
          1.525,
          1.85,
          1.275,
          0.2,
          30.675,
          37.699999999999996,
          18.375,
          26.5,
          22.3,
          1.275,
          2.5,
          1.45,
          0.95,
          1.1,
          7.6,
          8.5,
          8.225,
          11.35,
          5,
          2.325,
          0.45,
          0.275,
          3.45,
          0.2,
          6.3500000000000005,
          3.275,
          3.525,
          20.825,
          3.2,
          3.05,
          2.6,
          2.575,
          5.425000000000001,
          1.3,
          18.525,
          26.825,
          27.675,
          28.825,
          10.3,
          3.625,
          8.675,
          13.600000000000001,
          5.9,
          0.7,
          10.675,
          10.35,
          8.875,
          11.7,
          13.8,
          14.875,
          13.1,
          12.2,
          18.15,
          1.1,
          10.725,
          7.775,
          15.375,
          20.4,
          3.2,
          10.75,
          19.55,
          9.525,
          3.5,
          5,
          37.699999999999996,
          37.099999999999994,
          36.875,
          32.625,
          15.9,
          3.45,
          1.25,
          7.625,
          1.75,
          0.1,
          5.575,
          1.95,
          5,
          2.225,
          0.5,
          4.375,
          2.725,
          3.2750000000000004,
          4.475,
          0,
          8.049999999999999,
          1.925,
          1.875,
          2.775,
          0,
          1.6749999999999998,
          0.6,
          1.925,
          2.5,
          2.3,
          23.375,
          19.475,
          23.525000000000002,
          22.424999999999997,
          0.7
         ]
        }
       ],
       "layout": {
        "coloraxis": {
         "cmax": 100,
         "cmin": 1,
         "colorbar": {
          "title": {
           "text": "% of Bee Colonies"
          }
         },
         "colorscale": [
          [
           0,
           "rgb(255,255,204)"
          ],
          [
           0.125,
           "rgb(255,237,160)"
          ],
          [
           0.25,
           "rgb(254,217,118)"
          ],
          [
           0.375,
           "rgb(254,178,76)"
          ],
          [
           0.5,
           "rgb(253,141,60)"
          ],
          [
           0.625,
           "rgb(252,78,42)"
          ],
          [
           0.75,
           "rgb(227,26,28)"
          ],
          [
           0.875,
           "rgb(189,0,38)"
          ],
          [
           1,
           "rgb(128,0,38)"
          ]
         ]
        },
        "geo": {
         "center": {},
         "domain": {
          "x": [
           0,
           1
          ],
          "y": [
           0,
           1
          ]
         },
         "scope": "usa"
        },
        "legend": {
         "tracegroupgap": 0
        },
        "margin": {
         "t": 60
        },
        "template": {
         "data": {
          "bar": [
           {
            "error_x": {
             "color": "#f2f5fa"
            },
            "error_y": {
             "color": "#f2f5fa"
            },
            "marker": {
             "line": {
              "color": "rgb(17,17,17)",
              "width": 0.5
             },
             "pattern": {
              "fillmode": "overlay",
              "size": 10,
              "solidity": 0.2
             }
            },
            "type": "bar"
           }
          ],
          "barpolar": [
           {
            "marker": {
             "line": {
              "color": "rgb(17,17,17)",
              "width": 0.5
             },
             "pattern": {
              "fillmode": "overlay",
              "size": 10,
              "solidity": 0.2
             }
            },
            "type": "barpolar"
           }
          ],
          "carpet": [
           {
            "aaxis": {
             "endlinecolor": "#A2B1C6",
             "gridcolor": "#506784",
             "linecolor": "#506784",
             "minorgridcolor": "#506784",
             "startlinecolor": "#A2B1C6"
            },
            "baxis": {
             "endlinecolor": "#A2B1C6",
             "gridcolor": "#506784",
             "linecolor": "#506784",
             "minorgridcolor": "#506784",
             "startlinecolor": "#A2B1C6"
            },
            "type": "carpet"
           }
          ],
          "choropleth": [
           {
            "colorbar": {
             "outlinewidth": 0,
             "ticks": ""
            },
            "type": "choropleth"
           }
          ],
          "contour": [
           {
            "colorbar": {
             "outlinewidth": 0,
             "ticks": ""
            },
            "colorscale": [
             [
              0,
              "#0d0887"
             ],
             [
              0.1111111111111111,
              "#46039f"
             ],
             [
              0.2222222222222222,
              "#7201a8"
             ],
             [
              0.3333333333333333,
              "#9c179e"
             ],
             [
              0.4444444444444444,
              "#bd3786"
             ],
             [
              0.5555555555555556,
              "#d8576b"
             ],
             [
              0.6666666666666666,
              "#ed7953"
             ],
             [
              0.7777777777777778,
              "#fb9f3a"
             ],
             [
              0.8888888888888888,
              "#fdca26"
             ],
             [
              1,
              "#f0f921"
             ]
            ],
            "type": "contour"
           }
          ],
          "contourcarpet": [
           {
            "colorbar": {
             "outlinewidth": 0,
             "ticks": ""
            },
            "type": "contourcarpet"
           }
          ],
          "heatmap": [
           {
            "colorbar": {
             "outlinewidth": 0,
             "ticks": ""
            },
            "colorscale": [
             [
              0,
              "#0d0887"
             ],
             [
              0.1111111111111111,
              "#46039f"
             ],
             [
              0.2222222222222222,
              "#7201a8"
             ],
             [
              0.3333333333333333,
              "#9c179e"
             ],
             [
              0.4444444444444444,
              "#bd3786"
             ],
             [
              0.5555555555555556,
              "#d8576b"
             ],
             [
              0.6666666666666666,
              "#ed7953"
             ],
             [
              0.7777777777777778,
              "#fb9f3a"
             ],
             [
              0.8888888888888888,
              "#fdca26"
             ],
             [
              1,
              "#f0f921"
             ]
            ],
            "type": "heatmap"
           }
          ],
          "heatmapgl": [
           {
            "colorbar": {
             "outlinewidth": 0,
             "ticks": ""
            },
            "colorscale": [
             [
              0,
              "#0d0887"
             ],
             [
              0.1111111111111111,
              "#46039f"
             ],
             [
              0.2222222222222222,
              "#7201a8"
             ],
             [
              0.3333333333333333,
              "#9c179e"
             ],
             [
              0.4444444444444444,
              "#bd3786"
             ],
             [
              0.5555555555555556,
              "#d8576b"
             ],
             [
              0.6666666666666666,
              "#ed7953"
             ],
             [
              0.7777777777777778,
              "#fb9f3a"
             ],
             [
              0.8888888888888888,
              "#fdca26"
             ],
             [
              1,
              "#f0f921"
             ]
            ],
            "type": "heatmapgl"
           }
          ],
          "histogram": [
           {
            "marker": {
             "pattern": {
              "fillmode": "overlay",
              "size": 10,
              "solidity": 0.2
             }
            },
            "type": "histogram"
           }
          ],
          "histogram2d": [
           {
            "colorbar": {
             "outlinewidth": 0,
             "ticks": ""
            },
            "colorscale": [
             [
              0,
              "#0d0887"
             ],
             [
              0.1111111111111111,
              "#46039f"
             ],
             [
              0.2222222222222222,
              "#7201a8"
             ],
             [
              0.3333333333333333,
              "#9c179e"
             ],
             [
              0.4444444444444444,
              "#bd3786"
             ],
             [
              0.5555555555555556,
              "#d8576b"
             ],
             [
              0.6666666666666666,
              "#ed7953"
             ],
             [
              0.7777777777777778,
              "#fb9f3a"
             ],
             [
              0.8888888888888888,
              "#fdca26"
             ],
             [
              1,
              "#f0f921"
             ]
            ],
            "type": "histogram2d"
           }
          ],
          "histogram2dcontour": [
           {
            "colorbar": {
             "outlinewidth": 0,
             "ticks": ""
            },
            "colorscale": [
             [
              0,
              "#0d0887"
             ],
             [
              0.1111111111111111,
              "#46039f"
             ],
             [
              0.2222222222222222,
              "#7201a8"
             ],
             [
              0.3333333333333333,
              "#9c179e"
             ],
             [
              0.4444444444444444,
              "#bd3786"
             ],
             [
              0.5555555555555556,
              "#d8576b"
             ],
             [
              0.6666666666666666,
              "#ed7953"
             ],
             [
              0.7777777777777778,
              "#fb9f3a"
             ],
             [
              0.8888888888888888,
              "#fdca26"
             ],
             [
              1,
              "#f0f921"
             ]
            ],
            "type": "histogram2dcontour"
           }
          ],
          "mesh3d": [
           {
            "colorbar": {
             "outlinewidth": 0,
             "ticks": ""
            },
            "type": "mesh3d"
           }
          ],
          "parcoords": [
           {
            "line": {
             "colorbar": {
              "outlinewidth": 0,
              "ticks": ""
             }
            },
            "type": "parcoords"
           }
          ],
          "pie": [
           {
            "automargin": true,
            "type": "pie"
           }
          ],
          "scatter": [
           {
            "marker": {
             "line": {
              "color": "#283442"
             }
            },
            "type": "scatter"
           }
          ],
          "scatter3d": [
           {
            "line": {
             "colorbar": {
              "outlinewidth": 0,
              "ticks": ""
             }
            },
            "marker": {
             "colorbar": {
              "outlinewidth": 0,
              "ticks": ""
             }
            },
            "type": "scatter3d"
           }
          ],
          "scattercarpet": [
           {
            "marker": {
             "colorbar": {
              "outlinewidth": 0,
              "ticks": ""
             }
            },
            "type": "scattercarpet"
           }
          ],
          "scattergeo": [
           {
            "marker": {
             "colorbar": {
              "outlinewidth": 0,
              "ticks": ""
             }
            },
            "type": "scattergeo"
           }
          ],
          "scattergl": [
           {
            "marker": {
             "line": {
              "color": "#283442"
             }
            },
            "type": "scattergl"
           }
          ],
          "scattermapbox": [
           {
            "marker": {
             "colorbar": {
              "outlinewidth": 0,
              "ticks": ""
             }
            },
            "type": "scattermapbox"
           }
          ],
          "scatterpolar": [
           {
            "marker": {
             "colorbar": {
              "outlinewidth": 0,
              "ticks": ""
             }
            },
            "type": "scatterpolar"
           }
          ],
          "scatterpolargl": [
           {
            "marker": {
             "colorbar": {
              "outlinewidth": 0,
              "ticks": ""
             }
            },
            "type": "scatterpolargl"
           }
          ],
          "scatterternary": [
           {
            "marker": {
             "colorbar": {
              "outlinewidth": 0,
              "ticks": ""
             }
            },
            "type": "scatterternary"
           }
          ],
          "surface": [
           {
            "colorbar": {
             "outlinewidth": 0,
             "ticks": ""
            },
            "colorscale": [
             [
              0,
              "#0d0887"
             ],
             [
              0.1111111111111111,
              "#46039f"
             ],
             [
              0.2222222222222222,
              "#7201a8"
             ],
             [
              0.3333333333333333,
              "#9c179e"
             ],
             [
              0.4444444444444444,
              "#bd3786"
             ],
             [
              0.5555555555555556,
              "#d8576b"
             ],
             [
              0.6666666666666666,
              "#ed7953"
             ],
             [
              0.7777777777777778,
              "#fb9f3a"
             ],
             [
              0.8888888888888888,
              "#fdca26"
             ],
             [
              1,
              "#f0f921"
             ]
            ],
            "type": "surface"
           }
          ],
          "table": [
           {
            "cells": {
             "fill": {
              "color": "#506784"
             },
             "line": {
              "color": "rgb(17,17,17)"
             }
            },
            "header": {
             "fill": {
              "color": "#2a3f5f"
             },
             "line": {
              "color": "rgb(17,17,17)"
             }
            },
            "type": "table"
           }
          ]
         },
         "layout": {
          "annotationdefaults": {
           "arrowcolor": "#f2f5fa",
           "arrowhead": 0,
           "arrowwidth": 1
          },
          "autotypenumbers": "strict",
          "coloraxis": {
           "colorbar": {
            "outlinewidth": 0,
            "ticks": ""
           }
          },
          "colorscale": {
           "diverging": [
            [
             0,
             "#8e0152"
            ],
            [
             0.1,
             "#c51b7d"
            ],
            [
             0.2,
             "#de77ae"
            ],
            [
             0.3,
             "#f1b6da"
            ],
            [
             0.4,
             "#fde0ef"
            ],
            [
             0.5,
             "#f7f7f7"
            ],
            [
             0.6,
             "#e6f5d0"
            ],
            [
             0.7,
             "#b8e186"
            ],
            [
             0.8,
             "#7fbc41"
            ],
            [
             0.9,
             "#4d9221"
            ],
            [
             1,
             "#276419"
            ]
           ],
           "sequential": [
            [
             0,
             "#0d0887"
            ],
            [
             0.1111111111111111,
             "#46039f"
            ],
            [
             0.2222222222222222,
             "#7201a8"
            ],
            [
             0.3333333333333333,
             "#9c179e"
            ],
            [
             0.4444444444444444,
             "#bd3786"
            ],
            [
             0.5555555555555556,
             "#d8576b"
            ],
            [
             0.6666666666666666,
             "#ed7953"
            ],
            [
             0.7777777777777778,
             "#fb9f3a"
            ],
            [
             0.8888888888888888,
             "#fdca26"
            ],
            [
             1,
             "#f0f921"
            ]
           ],
           "sequentialminus": [
            [
             0,
             "#0d0887"
            ],
            [
             0.1111111111111111,
             "#46039f"
            ],
            [
             0.2222222222222222,
             "#7201a8"
            ],
            [
             0.3333333333333333,
             "#9c179e"
            ],
            [
             0.4444444444444444,
             "#bd3786"
            ],
            [
             0.5555555555555556,
             "#d8576b"
            ],
            [
             0.6666666666666666,
             "#ed7953"
            ],
            [
             0.7777777777777778,
             "#fb9f3a"
            ],
            [
             0.8888888888888888,
             "#fdca26"
            ],
            [
             1,
             "#f0f921"
            ]
           ]
          },
          "colorway": [
           "#636efa",
           "#EF553B",
           "#00cc96",
           "#ab63fa",
           "#FFA15A",
           "#19d3f3",
           "#FF6692",
           "#B6E880",
           "#FF97FF",
           "#FECB52"
          ],
          "font": {
           "color": "#f2f5fa"
          },
          "geo": {
           "bgcolor": "rgb(17,17,17)",
           "lakecolor": "rgb(17,17,17)",
           "landcolor": "rgb(17,17,17)",
           "showlakes": true,
           "showland": true,
           "subunitcolor": "#506784"
          },
          "hoverlabel": {
           "align": "left"
          },
          "hovermode": "closest",
          "mapbox": {
           "style": "dark"
          },
          "paper_bgcolor": "rgb(17,17,17)",
          "plot_bgcolor": "rgb(17,17,17)",
          "polar": {
           "angularaxis": {
            "gridcolor": "#506784",
            "linecolor": "#506784",
            "ticks": ""
           },
           "bgcolor": "rgb(17,17,17)",
           "radialaxis": {
            "gridcolor": "#506784",
            "linecolor": "#506784",
            "ticks": ""
           }
          },
          "scene": {
           "xaxis": {
            "backgroundcolor": "rgb(17,17,17)",
            "gridcolor": "#506784",
            "gridwidth": 2,
            "linecolor": "#506784",
            "showbackground": true,
            "ticks": "",
            "zerolinecolor": "#C8D4E3"
           },
           "yaxis": {
            "backgroundcolor": "rgb(17,17,17)",
            "gridcolor": "#506784",
            "gridwidth": 2,
            "linecolor": "#506784",
            "showbackground": true,
            "ticks": "",
            "zerolinecolor": "#C8D4E3"
           },
           "zaxis": {
            "backgroundcolor": "rgb(17,17,17)",
            "gridcolor": "#506784",
            "gridwidth": 2,
            "linecolor": "#506784",
            "showbackground": true,
            "ticks": "",
            "zerolinecolor": "#C8D4E3"
           }
          },
          "shapedefaults": {
           "line": {
            "color": "#f2f5fa"
           }
          },
          "sliderdefaults": {
           "bgcolor": "#C8D4E3",
           "bordercolor": "rgb(17,17,17)",
           "borderwidth": 1,
           "tickwidth": 0
          },
          "ternary": {
           "aaxis": {
            "gridcolor": "#506784",
            "linecolor": "#506784",
            "ticks": ""
           },
           "baxis": {
            "gridcolor": "#506784",
            "linecolor": "#506784",
            "ticks": ""
           },
           "bgcolor": "rgb(17,17,17)",
           "caxis": {
            "gridcolor": "#506784",
            "linecolor": "#506784",
            "ticks": ""
           }
          },
          "title": {
           "x": 0.05
          },
          "updatemenudefaults": {
           "bgcolor": "#506784",
           "borderwidth": 0
          },
          "xaxis": {
           "automargin": true,
           "gridcolor": "#283442",
           "linecolor": "#506784",
           "ticks": "",
           "title": {
            "standoff": 15
           },
           "zerolinecolor": "#283442",
           "zerolinewidth": 2
          },
          "yaxis": {
           "automargin": true,
           "gridcolor": "#283442",
           "linecolor": "#506784",
           "ticks": "",
           "title": {
            "standoff": 15
           },
           "zerolinecolor": "#283442",
           "zerolinewidth": 2
          }
         }
        }
       }
      },
      "text/html": [
       "<div>                            <div id=\"7f51e35b-9301-40c2-89ed-59c255b44e7e\" class=\"plotly-graph-div\" style=\"height:525px; width:100%;\"></div>            <script type=\"text/javascript\">                require([\"plotly\"], function(Plotly) {                    window.PLOTLYENV=window.PLOTLYENV || {};                                    if (document.getElementById(\"7f51e35b-9301-40c2-89ed-59c255b44e7e\")) {                    Plotly.newPlot(                        \"7f51e35b-9301-40c2-89ed-59c255b44e7e\",                        [{\"coloraxis\":\"coloraxis\",\"customdata\":[[\"Alabama\",0.05],[\"Alabama\",1.2],[\"Alabama\",2.25],[\"Alabama\",1.3],[\"Alabama\",1.8],[\"Alabama\",4.325],[\"Alabama\",4.275],[\"Alabama\",6.325],[\"Alabama\",7.3],[\"Alabama\",3.1],[\"Alabama\",1.825],[\"Alabama\",4.0],[\"Alabama\",13.075],[\"Alabama\",11.35],[\"Alabama\",0.3],[\"Alabama\",31.225],[\"Alabama\",20.525000000000002],[\"Alabama\",13.9],[\"Alabama\",36.85],[\"Alabama\",22.7],[\"Alabama\",8.275],[\"Alabama\",8.450000000000001],[\"Alabama\",5.925000000000001],[\"Alabama\",5.225],[\"Alabama\",9.0],[\"Alabama\",23.225],[\"Alabama\",14.45],[\"Alabama\",32.4],[\"Alabama\",38.125],[\"Alabama\",27.2],[\"Arizona\",1.775],[\"Arizona\",5.1],[\"Arizona\",6.575],[\"Arizona\",11.25],[\"Arizona\",6.5],[\"Arizona\",9.525],[\"Arizona\",10.4],[\"Arizona\",10.85],[\"Arizona\",11.075],[\"Arizona\",8.4],[\"Arizona\",10.225000000000001],[\"Arizona\",9.925],[\"Arizona\",4.2],[\"Arizona\",4.975],[\"Arizona\",16.2],[\"Arizona\",19.775000000000002],[\"Arizona\",16.7],[\"Arizona\",5.625],[\"Arizona\",5.525],[\"Arizona\",7.9],[\"Arizona\",6.0],[\"Arizona\",5.7],[\"Arizona\",2.3],[\"Arizona\",9.725000000000001],[\"Arizona\",0.2],[\"Arizona\",34.725],[\"Arizona\",50.275],[\"Arizona\",43.85],[\"Arizona\",45.8],[\"Arizona\",25.8],[\"Arkansas\",2.375],[\"Arkansas\",1.475],[\"Arkansas\",7.15],[\"Arkansas\",0.45],[\"Arkansas\",3.3],[\"Arkansas\",9.675],[\"Arkansas\",2.275],[\"Arkansas\",9.775],[\"Arkansas\",6.8500000000000005],[\"Arkansas\",0.7],[\"Arkansas\",9.8],[\"Arkansas\",2.45],[\"Arkansas\",13.1],[\"Arkansas\",29.075],[\"Arkansas\",55.3],[\"Arkansas\",29.224999999999998],[\"Arkansas\",7.3],[\"Arkansas\",15.625],[\"Arkansas\",9.325],[\"Arkansas\",1.5],[\"Arkansas\",3.075],[\"Arkansas\",3.3249999999999997],[\"Arkansas\",1.55],[\"Arkansas\",7.475],[\"Arkansas\",2.9],[\"Arkansas\",47.7],[\"Arkansas\",61.025000000000006],[\"Arkansas\",37.45],[\"Arkansas\",41.175],[\"Arkansas\",19.5],[\"California\",7.375],[\"California\",9.175],[\"California\",5.9],[\"California\",7.550000000000001],[\"California\",6.4],[\"California\",11.55],[\"California\",10.925],[\"California\",9.65],[\"California\",9.575],[\"California\",8.7],[\"California\",15.45],[\"California\",13.9],[\"California\",13.15],[\"California\",13.65],[\"California\",12.3],[\"California\",15.45],[\"California\",15.2],[\"California\",12.55],[\"California\",11.175],[\"California\",13.4],[\"California\",4.475],[\"California\",4.35],[\"California\",4.9],[\"California\",5.15],[\"California\",5.6],[\"California\",38.2],[\"California\",42.975],[\"California\",41.475],[\"California\",46.05],[\"California\",43.5],[\"Colorado\",7.574999999999999],[\"Colorado\",5.175000000000001],[\"Colorado\",2.025],[\"Colorado\",5.775],[\"Colorado\",0.0],[\"Colorado\",4.525],[\"Colorado\",7.225],[\"Colorado\",7.625],[\"Colorado\",8.125],[\"Colorado\",2.5],[\"Colorado\",9.899999999999999],[\"Colorado\",7.325000000000001],[\"Colorado\",8.3],[\"Colorado\",1.75],[\"Colorado\",0.0],[\"Colorado\",7.1499999999999995],[\"Colorado\",7.1499999999999995],[\"Colorado\",0.725],[\"Colorado\",5.825000000000001],[\"Colorado\",0.3],[\"Colorado\",4.25],[\"Colorado\",0.175],[\"Colorado\",1.7999999999999998],[\"Colorado\",2.15],[\"Colorado\",0.6],[\"Colorado\",37.825],[\"Colorado\",30.825],[\"Colorado\",32.85],[\"Colorado\",54.8],[\"Colorado\",11.2],[\"Connecticut\",0.7],[\"Connecticut\",0.45],[\"Connecticut\",0.025],[\"Connecticut\",0.6749999999999999],[\"Connecticut\",0.0],[\"Connecticut\",8.35],[\"Connecticut\",5.725],[\"Connecticut\",5.65],[\"Connecticut\",3.8],[\"Connecticut\",3.6],[\"Connecticut\",0.8500000000000001],[\"Connecticut\",0.375],[\"Connecticut\",0.275],[\"Connecticut\",0.975],[\"Connecticut\",0.0],[\"Connecticut\",1.175],[\"Connecticut\",2.4],[\"Connecticut\",1.5],[\"Connecticut\",1.3],[\"Connecticut\",1.3],[\"Connecticut\",1.275],[\"Connecticut\",1.725],[\"Connecticut\",1.9749999999999999],[\"Connecticut\",1.85],[\"Connecticut\",1.7],[\"Connecticut\",15.625],[\"Connecticut\",13.775],[\"Connecticut\",30.525],[\"Connecticut\",12.775],[\"Connecticut\",10.1],[\"Florida\",3.175],[\"Florida\",5.2],[\"Florida\",4.7],[\"Florida\",6.825],[\"Florida\",5.5],[\"Florida\",10.899999999999999],[\"Florida\",8.5],[\"Florida\",7.925000000000001],[\"Florida\",9.475],[\"Florida\",7.4],[\"Florida\",14.075],[\"Florida\",10.85],[\"Florida\",9.975],[\"Florida\",11.6],[\"Florida\",22.9],[\"Florida\",20.0],[\"Florida\",19.9],[\"Florida\",14.8],[\"Florida\",21.425],[\"Florida\",24.8],[\"Florida\",4.35],[\"Florida\",2.925],[\"Florida\",21.125],[\"Florida\",13.4],[\"Florida\",5.5],[\"Florida\",33.325],[\"Florida\",36.95],[\"Florida\",39.6],[\"Florida\",39.675],[\"Florida\",46.9],[\"Georgia\",3.775],[\"Georgia\",2.55],[\"Georgia\",3.95],[\"Georgia\",6.575],[\"Georgia\",7.4],[\"Georgia\",7.2250000000000005],[\"Georgia\",6.6499999999999995],[\"Georgia\",7.4],[\"Georgia\",17.525],[\"Georgia\",10.6],[\"Georgia\",14.25],[\"Georgia\",17.375],[\"Georgia\",9.65],[\"Georgia\",16.05],[\"Georgia\",9.6],[\"Georgia\",13.125],[\"Georgia\",15.299999999999999],[\"Georgia\",11.475],[\"Georgia\",20.599999999999998],[\"Georgia\",17.8],[\"Georgia\",4.875],[\"Georgia\",3.4],[\"Georgia\",4.025],[\"Georgia\",6.8],[\"Georgia\",4.9],[\"Georgia\",37.525],[\"Georgia\",41.474999999999994],[\"Georgia\",43.45],[\"Georgia\",45.95],[\"Georgia\",69.6],[\"Hawaii\",0.55],[\"Hawaii\",0.025],[\"Hawaii\",0.15],[\"Hawaii\",0.15],[\"Hawaii\",0.1],[\"Hawaii\",1.925],[\"Hawaii\",1.05],[\"Hawaii\",0.65],[\"Hawaii\",0.275],[\"Hawaii\",2.9],[\"Hawaii\",0.05],[\"Hawaii\",0.4],[\"Hawaii\",0.0],[\"Hawaii\",0.025],[\"Hawaii\",0.7],[\"Hawaii\",53.275],[\"Hawaii\",38.925],[\"Hawaii\",19.049999999999997],[\"Hawaii\",87.275],[\"Hawaii\",64.9],[\"Hawaii\",0.025],[\"Hawaii\",0.025],[\"Hawaii\",0.025],[\"Hawaii\",0.05],[\"Hawaii\",0.0],[\"Hawaii\",52.0],[\"Hawaii\",35.9],[\"Hawaii\",37.525000000000006],[\"Hawaii\",82.525],[\"Hawaii\",72.1],[\"Idaho\",6.25],[\"Idaho\",3.5250000000000004],[\"Idaho\",17.674999999999997],[\"Idaho\",7.0],[\"Idaho\",8.0],[\"Idaho\",6.9],[\"Idaho\",5.25],[\"Idaho\",5.175],[\"Idaho\",7.075],[\"Idaho\",8.6],[\"Idaho\",6.2],[\"Idaho\",4.2],[\"Idaho\",14.975],[\"Idaho\",16.075],[\"Idaho\",9.2],[\"Idaho\",4.8],[\"Idaho\",3.15],[\"Idaho\",21.174999999999997],[\"Idaho\",15.55],[\"Idaho\",8.0],[\"Idaho\",4.025],[\"Idaho\",2.6],[\"Idaho\",2.625],[\"Idaho\",3.75],[\"Idaho\",0.0],[\"Idaho\",37.75],[\"Idaho\",27.475],[\"Idaho\",48.1],[\"Idaho\",57.1],[\"Idaho\",24.5],[\"Illinois\",0.45],[\"Illinois\",1.05],[\"Illinois\",1.2],[\"Illinois\",3.7],[\"Illinois\",3.1],[\"Illinois\",4.825],[\"Illinois\",4.025],[\"Illinois\",6.25],[\"Illinois\",7.175000000000001],[\"Illinois\",15.5],[\"Illinois\",1.05],[\"Illinois\",3.9],[\"Illinois\",4.35],[\"Illinois\",4.5],[\"Illinois\",0.7],[\"Illinois\",4.025],[\"Illinois\",7.6],[\"Illinois\",10.45],[\"Illinois\",10.674999999999999],[\"Illinois\",14.7],[\"Illinois\",4.525],[\"Illinois\",4.275],[\"Illinois\",4.425],[\"Illinois\",6.5],[\"Illinois\",10.1],[\"Illinois\",9.925],[\"Illinois\",17.25],[\"Illinois\",22.825],[\"Illinois\",21.95],[\"Illinois\",33.3],[\"Indiana\",4.575],[\"Indiana\",0.575],[\"Indiana\",1.85],[\"Indiana\",7.15],[\"Indiana\",2.6],[\"Indiana\",7.075],[\"Indiana\",3.375],[\"Indiana\",6.675],[\"Indiana\",12.899999999999999],[\"Indiana\",7.1],[\"Indiana\",2.275],[\"Indiana\",1.1],[\"Indiana\",13.0],[\"Indiana\",22.549999999999997],[\"Indiana\",5.5],[\"Indiana\",3.225],[\"Indiana\",7.15],[\"Indiana\",5.4],[\"Indiana\",11.325],[\"Indiana\",8.8],[\"Indiana\",5.9],[\"Indiana\",3.7],[\"Indiana\",4.575],[\"Indiana\",1.9],[\"Indiana\",1.7],[\"Indiana\",16.225],[\"Indiana\",27.125],[\"Indiana\",14.675],[\"Indiana\",48.05],[\"Indiana\",15.6],[\"Iowa\",2.05],[\"Iowa\",10.55],[\"Iowa\",7.65],[\"Iowa\",4.65],[\"Iowa\",0.6],[\"Iowa\",12.775],[\"Iowa\",10.95],[\"Iowa\",10.475],[\"Iowa\",10.075],[\"Iowa\",7.7],[\"Iowa\",5.575],[\"Iowa\",7.25],[\"Iowa\",18.775],[\"Iowa\",10.125],[\"Iowa\",0.3],[\"Iowa\",3.125],[\"Iowa\",11.35],[\"Iowa\",17.15],[\"Iowa\",11.85],[\"Iowa\",1.7],[\"Iowa\",2.525],[\"Iowa\",5.6],[\"Iowa\",5.074999999999999],[\"Iowa\",1.9249999999999998],[\"Iowa\",3.5],[\"Iowa\",29.575],[\"Iowa\",31.9],[\"Iowa\",37.775],[\"Iowa\",25.75],[\"Iowa\",34.8],[\"Kansas\",0.6000000000000001],[\"Kansas\",4.325],[\"Kansas\",4.7],[\"Kansas\",8.725],[\"Kansas\",2.5],[\"Kansas\",15.425],[\"Kansas\",3.925],[\"Kansas\",4.949999999999999],[\"Kansas\",13.825],[\"Kansas\",21.6],[\"Kansas\",13.375],[\"Kansas\",10.4],[\"Kansas\",13.775],[\"Kansas\",20.225],[\"Kansas\",12.2],[\"Kansas\",11.175],[\"Kansas\",13.850000000000001],[\"Kansas\",17.95],[\"Kansas\",33.575],[\"Kansas\",7.8],[\"Kansas\",7.25],[\"Kansas\",2.8000000000000003],[\"Kansas\",9.575],[\"Kansas\",11.25],[\"Kansas\",4.0],[\"Kansas\",28.525],[\"Kansas\",37.4],[\"Kansas\",36.95],[\"Kansas\",61.15],[\"Kansas\",92.0],[\"Kentucky\",2.35],[\"Kentucky\",1.65],[\"Kentucky\",1.625],[\"Kentucky\",1.075],[\"Kentucky\",0.1],[\"Kentucky\",12.1],[\"Kentucky\",11.55],[\"Kentucky\",9.05],[\"Kentucky\",5.525],[\"Kentucky\",10.7],[\"Kentucky\",5.15],[\"Kentucky\",12.3],[\"Kentucky\",3.8499999999999996],[\"Kentucky\",5.075],[\"Kentucky\",5.3],[\"Kentucky\",13.75],[\"Kentucky\",23.275],[\"Kentucky\",21.675],[\"Kentucky\",29.55],[\"Kentucky\",12.9],[\"Kentucky\",4.875],[\"Kentucky\",5.6],[\"Kentucky\",9.425],[\"Kentucky\",5.925],[\"Kentucky\",4.6],[\"Kentucky\",23.775],[\"Kentucky\",38.25],[\"Kentucky\",39.575],[\"Kentucky\",47.025],[\"Kentucky\",21.6],[\"Louisiana\",1.125],[\"Louisiana\",4.9],[\"Louisiana\",0.175],[\"Louisiana\",0.225],[\"Louisiana\",0.1],[\"Louisiana\",3.375],[\"Louisiana\",5.975],[\"Louisiana\",2.975],[\"Louisiana\",1.925],[\"Louisiana\",1.0],[\"Louisiana\",1.25],[\"Louisiana\",0.6],[\"Louisiana\",1.4000000000000001],[\"Louisiana\",2.2750000000000004],[\"Louisiana\",0.3],[\"Louisiana\",2.925],[\"Louisiana\",10.6],[\"Louisiana\",28.450000000000003],[\"Louisiana\",10.8],[\"Louisiana\",1.3],[\"Louisiana\",0.75],[\"Louisiana\",1.1],[\"Louisiana\",6.95],[\"Louisiana\",1.55],[\"Louisiana\",0.7],[\"Louisiana\",22.6],[\"Louisiana\",21.475],[\"Louisiana\",34.925],[\"Louisiana\",15.225000000000001],[\"Louisiana\",57.8],[\"Maine\",3.3249999999999997],[\"Maine\",1.2249999999999999],[\"Maine\",8.975],[\"Maine\",0.375],[\"Maine\",0.0],[\"Maine\",2.675],[\"Maine\",2.4],[\"Maine\",7.525],[\"Maine\",2.6],[\"Maine\",1.4],[\"Maine\",8.625],[\"Maine\",7.775],[\"Maine\",4.075],[\"Maine\",0.325],[\"Maine\",0.0],[\"Maine\",9.55],[\"Maine\",0.325],[\"Maine\",8.075],[\"Maine\",1.875],[\"Maine\",0.1],[\"Maine\",2.55],[\"Maine\",7.35],[\"Maine\",3.725],[\"Maine\",2.0],[\"Maine\",0.8],[\"Maine\",26.1],[\"Maine\",26.5],[\"Maine\",14.149999999999999],[\"Maine\",17.825],[\"Maine\",2.3],[\"Maryland\",0.9],[\"Maryland\",1.75],[\"Maryland\",0.675],[\"Maryland\",1.4500000000000002],[\"Maryland\",0.2],[\"Maryland\",8.275],[\"Maryland\",4.1],[\"Maryland\",5.225],[\"Maryland\",6.175000000000001],[\"Maryland\",10.1],[\"Maryland\",6.325],[\"Maryland\",4.425],[\"Maryland\",1.0],[\"Maryland\",0.8999999999999999],[\"Maryland\",0.0],[\"Maryland\",6.050000000000001],[\"Maryland\",3.875],[\"Maryland\",5.8500000000000005],[\"Maryland\",5.075],[\"Maryland\",5.1],[\"Maryland\",5.05],[\"Maryland\",0.875],[\"Maryland\",5.575],[\"Maryland\",2.25],[\"Maryland\",2.4],[\"Maryland\",11.875],[\"Maryland\",16.25],[\"Maryland\",7.825000000000001],[\"Maryland\",14.575],[\"Maryland\",12.6],[\"Massachusetts\",2.225],[\"Massachusetts\",2.05],[\"Massachusetts\",5.825],[\"Massachusetts\",5.15],[\"Massachusetts\",0.0],[\"Massachusetts\",4.275],[\"Massachusetts\",2.375],[\"Massachusetts\",3.3],[\"Massachusetts\",4.025],[\"Massachusetts\",6.3],[\"Massachusetts\",17.15],[\"Massachusetts\",2.775],[\"Massachusetts\",5.125],[\"Massachusetts\",5.425],[\"Massachusetts\",4.3],[\"Massachusetts\",17.425],[\"Massachusetts\",6.7749999999999995],[\"Massachusetts\",5.05],[\"Massachusetts\",5.6499999999999995],[\"Massachusetts\",0.0],[\"Massachusetts\",2.3000000000000003],[\"Massachusetts\",6.275],[\"Massachusetts\",1.9],[\"Massachusetts\",6.275],[\"Massachusetts\",0.9],[\"Massachusetts\",34.5],[\"Massachusetts\",17.7],[\"Massachusetts\",35.625],[\"Massachusetts\",33.75],[\"Massachusetts\",10.3],[\"Michigan\",2.25],[\"Michigan\",0.375],[\"Michigan\",3.5249999999999995],[\"Michigan\",7.05],[\"Michigan\",1.5],[\"Michigan\",7.425],[\"Michigan\",5.9],[\"Michigan\",4.625],[\"Michigan\",11.65],[\"Michigan\",12.2],[\"Michigan\",7.125],[\"Michigan\",7.2],[\"Michigan\",10.325],[\"Michigan\",14.5],[\"Michigan\",0.2],[\"Michigan\",9.125],[\"Michigan\",9.025],[\"Michigan\",8.25],[\"Michigan\",16.775],[\"Michigan\",5.8],[\"Michigan\",5.05],[\"Michigan\",3.9250000000000003],[\"Michigan\",2.325],[\"Michigan\",10.225000000000001],[\"Michigan\",0.7],[\"Michigan\",29.0],[\"Michigan\",37.0],[\"Michigan\",34.4],[\"Michigan\",60.300000000000004],[\"Michigan\",18.2],[\"Minnesota\",4.300000000000001],[\"Minnesota\",4.0],[\"Minnesota\",2.1],[\"Minnesota\",4.825],[\"Minnesota\",1.9],[\"Minnesota\",5.625],[\"Minnesota\",9.85],[\"Minnesota\",8.6],[\"Minnesota\",5.55],[\"Minnesota\",2.0],[\"Minnesota\",17.25],[\"Minnesota\",17.45],[\"Minnesota\",15.725],[\"Minnesota\",10.725],[\"Minnesota\",0.0],[\"Minnesota\",7.4],[\"Minnesota\",8.825],[\"Minnesota\",3.45],[\"Minnesota\",6.9],[\"Minnesota\",0.2],[\"Minnesota\",6.875],[\"Minnesota\",9.975],[\"Minnesota\",3.35],[\"Minnesota\",8.2],[\"Minnesota\",0.8],[\"Minnesota\",25.924999999999997],[\"Minnesota\",26.9],[\"Minnesota\",31.325],[\"Minnesota\",21.95],[\"Minnesota\",1.3],[\"Mississippi\",0.175],[\"Mississippi\",0.725],[\"Mississippi\",0.5249999999999999],[\"Mississippi\",0.05],[\"Mississippi\",64.8],[\"Mississippi\",2.0],[\"Mississippi\",2.15],[\"Mississippi\",5.95],[\"Mississippi\",4.1],[\"Mississippi\",1.9],[\"Mississippi\",0.8250000000000001],[\"Mississippi\",1.925],[\"Mississippi\",0.875],[\"Mississippi\",0.45],[\"Mississippi\",48.4],[\"Mississippi\",4.725],[\"Mississippi\",3.35],[\"Mississippi\",11.774999999999999],[\"Mississippi\",11.575],[\"Mississippi\",71.0],[\"Mississippi\",1.375],[\"Mississippi\",5.525],[\"Mississippi\",1.75],[\"Mississippi\",12.075],[\"Mississippi\",5.5],[\"Mississippi\",18.9],[\"Mississippi\",18.875],[\"Mississippi\",36.525],[\"Mississippi\",25.825],[\"Mississippi\",14.6],[\"Missouri\",2.9],[\"Missouri\",0.575],[\"Missouri\",1.825],[\"Missouri\",0.8500000000000001],[\"Missouri\",1.9],[\"Missouri\",3.9250000000000003],[\"Missouri\",2.675],[\"Missouri\",4.075],[\"Missouri\",11.05],[\"Missouri\",5.4],[\"Missouri\",1.975],[\"Missouri\",1.6],[\"Missouri\",9.450000000000001],[\"Missouri\",2.125],[\"Missouri\",0.5],[\"Missouri\",7.475],[\"Missouri\",7.225],[\"Missouri\",18.625],[\"Missouri\",29.474999999999998],[\"Missouri\",2.3],[\"Missouri\",4.15],[\"Missouri\",2.475],[\"Missouri\",10.925],[\"Missouri\",7.925],[\"Missouri\",3.2],[\"Missouri\",8.025],[\"Missouri\",16.7],[\"Missouri\",31.1],[\"Missouri\",38.25],[\"Missouri\",5.4],[\"Montana\",6.625],[\"Montana\",11.1],[\"Montana\",3.5500000000000003],[\"Montana\",6.725],[\"Montana\",0.0],[\"Montana\",3.375],[\"Montana\",11.6],[\"Montana\",8.7],[\"Montana\",6.425],[\"Montana\",0.8],[\"Montana\",4.95],[\"Montana\",6.25],[\"Montana\",3.5250000000000004],[\"Montana\",13.025],[\"Montana\",0.8],[\"Montana\",9.399999999999999],[\"Montana\",13.825],[\"Montana\",7.475],[\"Montana\",9.05],[\"Montana\",0.0],[\"Montana\",6.775],[\"Montana\",8.675],[\"Montana\",1.7],[\"Montana\",1.0],[\"Montana\",1.1],[\"Montana\",26.425],[\"Montana\",32.975],[\"Montana\",37.625],[\"Montana\",39.075],[\"Montana\",15.1],[\"Nebraska\",2.8],[\"Nebraska\",0.35000000000000003],[\"Nebraska\",1.4749999999999999],[\"Nebraska\",2.0],[\"Nebraska\",32.0],[\"Nebraska\",1.85],[\"Nebraska\",0.9750000000000001],[\"Nebraska\",7.9],[\"Nebraska\",4.475],[\"Nebraska\",2.2],[\"Nebraska\",3.85],[\"Nebraska\",3.8499999999999996],[\"Nebraska\",11.700000000000001],[\"Nebraska\",3.45],[\"Nebraska\",0.8],[\"Nebraska\",4.325],[\"Nebraska\",0.875],[\"Nebraska\",12.149999999999999],[\"Nebraska\",1.725],[\"Nebraska\",1.3],[\"Nebraska\",2.625],[\"Nebraska\",1.425],[\"Nebraska\",3.425],[\"Nebraska\",2.85],[\"Nebraska\",0.1],[\"Nebraska\",15.275],[\"Nebraska\",9.7],[\"Nebraska\",26.65],[\"Nebraska\",9.15],[\"Nebraska\",32.3],[\"New Jersey\",7.699999999999999],[\"New Jersey\",0.5],[\"New Jersey\",1.75],[\"New Jersey\",0.07500000000000001],[\"New Jersey\",0.0],[\"New Jersey\",5.5],[\"New Jersey\",1.65],[\"New Jersey\",1.2],[\"New Jersey\",3.4],[\"New Jersey\",3.5],[\"New Jersey\",9.4],[\"New Jersey\",2.75],[\"New Jersey\",1.8],[\"New Jersey\",0.15000000000000002],[\"New Jersey\",0.0],[\"New Jersey\",5.0],[\"New Jersey\",5.1],[\"New Jersey\",4.0],[\"New Jersey\",3.375],[\"New Jersey\",4.4],[\"New Jersey\",5.25],[\"New Jersey\",5.3],[\"New Jersey\",0.825],[\"New Jersey\",0.4],[\"New Jersey\",0.6],[\"New Jersey\",26.875],[\"New Jersey\",17.175],[\"New Jersey\",16.825],[\"New Jersey\",14.425],[\"New Jersey\",15.3],[\"New Mexico\",17.675],[\"New Mexico\",26.5],[\"New Mexico\",44.525000000000006],[\"New Mexico\",1.0],[\"New Mexico\",0.6],[\"New Mexico\",14.450000000000001],[\"New Mexico\",3.05],[\"New Mexico\",12.675],[\"New Mexico\",4.5],[\"New Mexico\",1.4],[\"New Mexico\",18.125],[\"New Mexico\",6.65],[\"New Mexico\",5.975],[\"New Mexico\",3.4250000000000003],[\"New Mexico\",0.0],[\"New Mexico\",13.85],[\"New Mexico\",14.1],[\"New Mexico\",1.05],[\"New Mexico\",0.35],[\"New Mexico\",1.1],[\"New Mexico\",1.375],[\"New Mexico\",0.325],[\"New Mexico\",0.475],[\"New Mexico\",0.725],[\"New Mexico\",0.3],[\"New Mexico\",37.0],[\"New Mexico\",58.45],[\"New Mexico\",85.675],[\"New Mexico\",31.099999999999998],[\"New Mexico\",3.5],[\"New York\",2.875],[\"New York\",2.875],[\"New York\",6.525],[\"New York\",10.7],[\"New York\",1.7],[\"New York\",6.225],[\"New York\",10.125],[\"New York\",9.025],[\"New York\",13.85],[\"New York\",7.7],[\"New York\",6.7],[\"New York\",9.25],[\"New York\",5.300000000000001],[\"New York\",8.825],[\"New York\",1.7],[\"New York\",7.9],[\"New York\",5.05],[\"New York\",11.0],[\"New York\",14.25],[\"New York\",2.5],[\"New York\",4.275],[\"New York\",2.775],[\"New York\",3.825],[\"New York\",5.1499999999999995],[\"New York\",9.0],[\"New York\",22.8],[\"New York\",28.275],[\"New York\",27.5],[\"New York\",32.9],[\"New York\",10.6],[\"North Carolina\",0.4],[\"North Carolina\",2.125],[\"North Carolina\",2.425],[\"North Carolina\",4.0],[\"North Carolina\",0.2],[\"North Carolina\",5.775],[\"North Carolina\",9.55],[\"North Carolina\",7.8999999999999995],[\"North Carolina\",12.625],[\"North Carolina\",2.2],[\"North Carolina\",8.575],[\"North Carolina\",9.85],[\"North Carolina\",6.025],[\"North Carolina\",3.275],[\"North Carolina\",0.7],[\"North Carolina\",11.975],[\"North Carolina\",11.775],[\"North Carolina\",18.825],[\"North Carolina\",10.274999999999999],[\"North Carolina\",2.0],[\"North Carolina\",6.7749999999999995],[\"North Carolina\",12.1],[\"North Carolina\",3.475],[\"North Carolina\",4.275],[\"North Carolina\",3.4],[\"North Carolina\",32.5],[\"North Carolina\",28.275],[\"North Carolina\",49.2],[\"North Carolina\",39.6],[\"North Carolina\",16.4],[\"North Dakota\",2.5],[\"North Dakota\",2.4749999999999996],[\"North Dakota\",1.7],[\"North Dakota\",5.925],[\"North Dakota\",0.0],[\"North Dakota\",3.7249999999999996],[\"North Dakota\",4.05],[\"North Dakota\",3.1],[\"North Dakota\",5.225],[\"North Dakota\",0.4],[\"North Dakota\",4.525],[\"North Dakota\",3.6],[\"North Dakota\",3.475],[\"North Dakota\",6.425],[\"North Dakota\",6.5],[\"North Dakota\",5.625],[\"North Dakota\",5.85],[\"North Dakota\",8.1],[\"North Dakota\",7.225],[\"North Dakota\",0.0],[\"North Dakota\",1.55],[\"North Dakota\",4.3],[\"North Dakota\",0.85],[\"North Dakota\",2.525],[\"North Dakota\",1.3],[\"North Dakota\",15.45],[\"North Dakota\",20.1],[\"North Dakota\",28.450000000000003],[\"North Dakota\",29.575],[\"North Dakota\",6.9],[\"Ohio\",1.65],[\"Ohio\",0.9749999999999999],[\"Ohio\",4.65],[\"Ohio\",2.725],[\"Ohio\",11.1],[\"Ohio\",11.275],[\"Ohio\",6.975],[\"Ohio\",10.475],[\"Ohio\",12.925],[\"Ohio\",6.7],[\"Ohio\",11.399999999999999],[\"Ohio\",6.675000000000001],[\"Ohio\",5.9],[\"Ohio\",3.825],[\"Ohio\",1.1],[\"Ohio\",5.625],[\"Ohio\",8.8],[\"Ohio\",15.100000000000001],[\"Ohio\",21.849999999999998],[\"Ohio\",9.9],[\"Ohio\",8.975],[\"Ohio\",5.2],[\"Ohio\",7.35],[\"Ohio\",6.05],[\"Ohio\",3.1],[\"Ohio\",23.375],[\"Ohio\",38.7],[\"Ohio\",42.025],[\"Ohio\",41.65],[\"Ohio\",49.3],[\"Oklahoma\",0.175],[\"Oklahoma\",0.125],[\"Oklahoma\",5.3],[\"Oklahoma\",3.2249999999999996],[\"Oklahoma\",0.0],[\"Oklahoma\",2.75],[\"Oklahoma\",0.75],[\"Oklahoma\",3.225],[\"Oklahoma\",8.175],[\"Oklahoma\",0.0],[\"Oklahoma\",0.07500000000000001],[\"Oklahoma\",0.575],[\"Oklahoma\",1.1],[\"Oklahoma\",12.575],[\"Oklahoma\",0.0],[\"Oklahoma\",5.8],[\"Oklahoma\",2.75],[\"Oklahoma\",6.7],[\"Oklahoma\",17.725],[\"Oklahoma\",0.3],[\"Oklahoma\",1.9249999999999998],[\"Oklahoma\",10.975],[\"Oklahoma\",0.7000000000000001],[\"Oklahoma\",6.45],[\"Oklahoma\",0.0],[\"Oklahoma\",21.25],[\"Oklahoma\",17.275],[\"Oklahoma\",14.625],[\"Oklahoma\",39.25],[\"Oklahoma\",7.7],[\"Oregon\",5.075],[\"Oregon\",10.175],[\"Oregon\",14.55],[\"Oregon\",8.075],[\"Oregon\",0.2],[\"Oregon\",3.4749999999999996],[\"Oregon\",6.699999999999999],[\"Oregon\",10.375],[\"Oregon\",7.725],[\"Oregon\",2.7],[\"Oregon\",5.300000000000001],[\"Oregon\",3.75],[\"Oregon\",10.0],[\"Oregon\",18.3],[\"Oregon\",0.2],[\"Oregon\",11.25],[\"Oregon\",12.7],[\"Oregon\",13.25],[\"Oregon\",2.9],[\"Oregon\",0.1],[\"Oregon\",1.7],[\"Oregon\",2.275],[\"Oregon\",5.8500000000000005],[\"Oregon\",0.55],[\"Oregon\",0.5],[\"Oregon\",32.975],[\"Oregon\",37.875],[\"Oregon\",42.725],[\"Oregon\",45.85],[\"Oregon\",18.0],[\"Pennsylvania\",2.3],[\"Pennsylvania\",1.325],[\"Pennsylvania\",1.3],[\"Pennsylvania\",3.525],[\"Pennsylvania\",3.7],[\"Pennsylvania\",8.125],[\"Pennsylvania\",4.45],[\"Pennsylvania\",2.775],[\"Pennsylvania\",4.25],[\"Pennsylvania\",7.5],[\"Pennsylvania\",2.225],[\"Pennsylvania\",3.625],[\"Pennsylvania\",3.75],[\"Pennsylvania\",6.475],[\"Pennsylvania\",4.0],[\"Pennsylvania\",6.925],[\"Pennsylvania\",4.625],[\"Pennsylvania\",3.625],[\"Pennsylvania\",10.1],[\"Pennsylvania\",4.6],[\"Pennsylvania\",2.55],[\"Pennsylvania\",2.45],[\"Pennsylvania\",2.975],[\"Pennsylvania\",4.95],[\"Pennsylvania\",9.5],[\"Pennsylvania\",29.200000000000003],[\"Pennsylvania\",27.375],[\"Pennsylvania\",30.125],[\"Pennsylvania\",29.025],[\"Pennsylvania\",15.3],[\"South Carolina\",4.85],[\"South Carolina\",6.25],[\"South Carolina\",7.574999999999999],[\"South Carolina\",0.6],[\"South Carolina\",0.0],[\"South Carolina\",4.25],[\"South Carolina\",11.975],[\"South Carolina\",3.475],[\"South Carolina\",8.1],[\"South Carolina\",12.4],[\"South Carolina\",4.5249999999999995],[\"South Carolina\",16.25],[\"South Carolina\",5.7],[\"South Carolina\",9.5],[\"South Carolina\",1.7],[\"South Carolina\",10.4],[\"South Carolina\",21.2],[\"South Carolina\",14.55],[\"South Carolina\",22.125],[\"South Carolina\",14.5],[\"South Carolina\",1.65],[\"South Carolina\",2.475],[\"South Carolina\",1.225],[\"South Carolina\",3.1],[\"South Carolina\",1.0],[\"South Carolina\",28.25],[\"South Carolina\",27.85],[\"South Carolina\",23.725],[\"South Carolina\",38.125],[\"South Carolina\",18.5],[\"South Dakota\",1.5],[\"South Dakota\",4.05],[\"South Dakota\",2.525],[\"South Dakota\",4.4],[\"South Dakota\",0.0],[\"South Dakota\",1.7249999999999999],[\"South Dakota\",5.375],[\"South Dakota\",9.925],[\"South Dakota\",21.275],[\"South Dakota\",0.8],[\"South Dakota\",4.175],[\"South Dakota\",8.45],[\"South Dakota\",5.225],[\"South Dakota\",3.475],[\"South Dakota\",2.5],[\"South Dakota\",5.575],[\"South Dakota\",7.8500000000000005],[\"South Dakota\",3.725],[\"South Dakota\",18.675],[\"South Dakota\",0.0],[\"South Dakota\",3.275],[\"South Dakota\",0.8749999999999999],[\"South Dakota\",2.275],[\"South Dakota\",1.05],[\"South Dakota\",2.2],[\"South Dakota\",12.45],[\"South Dakota\",32.575],[\"South Dakota\",19.075],[\"South Dakota\",31.75],[\"South Dakota\",0.8],[\"Tennessee\",0.575],[\"Tennessee\",0.4],[\"Tennessee\",1.05],[\"Tennessee\",1.9749999999999999],[\"Tennessee\",5.1],[\"Tennessee\",6.225],[\"Tennessee\",6.9],[\"Tennessee\",7.875],[\"Tennessee\",8.524999999999999],[\"Tennessee\",7.7],[\"Tennessee\",4.8],[\"Tennessee\",1.9],[\"Tennessee\",3.375],[\"Tennessee\",7.75],[\"Tennessee\",0.9],[\"Tennessee\",27.525],[\"Tennessee\",18.625],[\"Tennessee\",19.775],[\"Tennessee\",29.325],[\"Tennessee\",23.6],[\"Tennessee\",3.0],[\"Tennessee\",4.65],[\"Tennessee\",8.275],[\"Tennessee\",7.35],[\"Tennessee\",7.1],[\"Tennessee\",41.1],[\"Tennessee\",25.75],[\"Tennessee\",36.9],[\"Tennessee\",44.9],[\"Tennessee\",62.8],[\"Texas\",2.875],[\"Texas\",3.675],[\"Texas\",2.675],[\"Texas\",4.7],[\"Texas\",5.3],[\"Texas\",4.15],[\"Texas\",4.4],[\"Texas\",7.1000000000000005],[\"Texas\",4.8],[\"Texas\",6.9],[\"Texas\",10.625],[\"Texas\",11.7],[\"Texas\",11.1],[\"Texas\",3.475],[\"Texas\",8.3],[\"Texas\",17.45],[\"Texas\",11.925],[\"Texas\",20.925],[\"Texas\",12.675],[\"Texas\",6.5],[\"Texas\",5.6],[\"Texas\",2.925],[\"Texas\",2.925],[\"Texas\",7.375],[\"Texas\",3.0],[\"Texas\",23.1],[\"Texas\",31.450000000000003],[\"Texas\",33.125],[\"Texas\",21.35],[\"Texas\",26.1],[\"Utah\",12.4],[\"Utah\",0.675],[\"Utah\",2.975],[\"Utah\",1.925],[\"Utah\",0.1],[\"Utah\",4.15],[\"Utah\",2.05],[\"Utah\",9.975],[\"Utah\",2.25],[\"Utah\",0.3],[\"Utah\",12.625000000000002],[\"Utah\",7.6],[\"Utah\",6.5],[\"Utah\",2.475],[\"Utah\",0.0],[\"Utah\",11.450000000000001],[\"Utah\",6.8500000000000005],[\"Utah\",2.575],[\"Utah\",7.25],[\"Utah\",0.0],[\"Utah\",0.55],[\"Utah\",0.825],[\"Utah\",7.300000000000001],[\"Utah\",2.0],[\"Utah\",8.8],[\"Utah\",39.175],[\"Utah\",26.924999999999997],[\"Utah\",35.050000000000004],[\"Utah\",36.05],[\"Utah\",22.9],[\"Vermont\",0.25],[\"Vermont\",10.825000000000001],[\"Vermont\",7.300000000000001],[\"Vermont\",1.325],[\"Vermont\",2.4],[\"Vermont\",1.975],[\"Vermont\",0.8999999999999999],[\"Vermont\",3.45],[\"Vermont\",1.225],[\"Vermont\",0.2],[\"Vermont\",0.15],[\"Vermont\",10.25],[\"Vermont\",13.850000000000001],[\"Vermont\",10.350000000000001],[\"Vermont\",0.0],[\"Vermont\",6.2],[\"Vermont\",12.35],[\"Vermont\",13.625],[\"Vermont\",2.225],[\"Vermont\",0.1],[\"Vermont\",5.15],[\"Vermont\",0.65],[\"Vermont\",1.3],[\"Vermont\",0.4],[\"Vermont\",1.2],[\"Vermont\",21.45],[\"Vermont\",13.5],[\"Vermont\",30.674999999999997],[\"Vermont\",18.575],[\"Vermont\",6.2],[\"Virginia\",1.45],[\"Virginia\",2.475],[\"Virginia\",1.625],[\"Virginia\",4.55],[\"Virginia\",0.8],[\"Virginia\",5.525],[\"Virginia\",4.85],[\"Virginia\",5.125],[\"Virginia\",12.05],[\"Virginia\",3.9],[\"Virginia\",0.9750000000000001],[\"Virginia\",2.175],[\"Virginia\",4.05],[\"Virginia\",6.5],[\"Virginia\",0.3],[\"Virginia\",13.45],[\"Virginia\",13.875],[\"Virginia\",19.475],[\"Virginia\",24.25],[\"Virginia\",12.8],[\"Virginia\",8.925],[\"Virginia\",3.8499999999999996],[\"Virginia\",4.675],[\"Virginia\",5.575],[\"Virginia\",9.3],[\"Virginia\",25.125],[\"Virginia\",31.575000000000003],[\"Virginia\",27.824999999999996],[\"Virginia\",36.2],[\"Virginia\",16.6],[\"Washington\",1.2249999999999999],[\"Washington\",2.3],[\"Washington\",1.55],[\"Washington\",5.225],[\"Washington\",0.6],[\"Washington\",4.0],[\"Washington\",5.45],[\"Washington\",3.175],[\"Washington\",5.175],[\"Washington\",0.8],[\"Washington\",1.825],[\"Washington\",8.25],[\"Washington\",2.25],[\"Washington\",4.275],[\"Washington\",0.3],[\"Washington\",1.125],[\"Washington\",6.975],[\"Washington\",3.45],[\"Washington\",2.85],[\"Washington\",0.8],[\"Washington\",0.8500000000000001],[\"Washington\",1.525],[\"Washington\",1.85],[\"Washington\",1.275],[\"Washington\",0.2],[\"Washington\",30.675],[\"Washington\",37.699999999999996],[\"Washington\",18.375],[\"Washington\",26.5],[\"Washington\",22.3],[\"West Virginia\",1.275],[\"West Virginia\",2.5],[\"West Virginia\",1.45],[\"West Virginia\",0.95],[\"West Virginia\",1.1],[\"West Virginia\",7.6],[\"West Virginia\",8.5],[\"West Virginia\",8.225],[\"West Virginia\",11.35],[\"West Virginia\",5.0],[\"West Virginia\",2.325],[\"West Virginia\",0.45],[\"West Virginia\",0.275],[\"West Virginia\",3.45],[\"West Virginia\",0.2],[\"West Virginia\",6.3500000000000005],[\"West Virginia\",3.275],[\"West Virginia\",3.525],[\"West Virginia\",20.825],[\"West Virginia\",3.2],[\"West Virginia\",3.05],[\"West Virginia\",2.6],[\"West Virginia\",2.575],[\"West Virginia\",5.425000000000001],[\"West Virginia\",1.3],[\"West Virginia\",18.525],[\"West Virginia\",26.825],[\"West Virginia\",27.675],[\"West Virginia\",28.825],[\"West Virginia\",10.3],[\"Wisconsin\",3.625],[\"Wisconsin\",8.675],[\"Wisconsin\",13.600000000000001],[\"Wisconsin\",5.9],[\"Wisconsin\",0.7],[\"Wisconsin\",10.675],[\"Wisconsin\",10.35],[\"Wisconsin\",8.875],[\"Wisconsin\",11.7],[\"Wisconsin\",13.8],[\"Wisconsin\",14.875],[\"Wisconsin\",13.1],[\"Wisconsin\",12.2],[\"Wisconsin\",18.15],[\"Wisconsin\",1.1],[\"Wisconsin\",10.725],[\"Wisconsin\",7.775],[\"Wisconsin\",15.375],[\"Wisconsin\",20.4],[\"Wisconsin\",3.2],[\"Wisconsin\",10.75],[\"Wisconsin\",19.55],[\"Wisconsin\",9.525],[\"Wisconsin\",3.5],[\"Wisconsin\",5.0],[\"Wisconsin\",37.699999999999996],[\"Wisconsin\",37.099999999999994],[\"Wisconsin\",36.875],[\"Wisconsin\",32.625],[\"Wisconsin\",15.9],[\"Wyoming\",3.45],[\"Wyoming\",1.25],[\"Wyoming\",7.625],[\"Wyoming\",1.75],[\"Wyoming\",0.1],[\"Wyoming\",5.575],[\"Wyoming\",1.95],[\"Wyoming\",5.0],[\"Wyoming\",2.225],[\"Wyoming\",0.5],[\"Wyoming\",4.375],[\"Wyoming\",2.725],[\"Wyoming\",3.2750000000000004],[\"Wyoming\",4.475],[\"Wyoming\",0.0],[\"Wyoming\",8.049999999999999],[\"Wyoming\",1.925],[\"Wyoming\",1.875],[\"Wyoming\",2.775],[\"Wyoming\",0.0],[\"Wyoming\",1.6749999999999998],[\"Wyoming\",0.6],[\"Wyoming\",1.925],[\"Wyoming\",2.5],[\"Wyoming\",2.3],[\"Wyoming\",23.375],[\"Wyoming\",19.475],[\"Wyoming\",23.525000000000002],[\"Wyoming\",22.424999999999997],[\"Wyoming\",0.7]],\"geo\":\"geo\",\"hovertemplate\":\"state_code=%{location}<br>State=%{customdata[0]}<br>% of Bee Colonies=%{z}<extra></extra>\",\"locationmode\":\"USA-states\",\"locations\":[\"AL\",\"AL\",\"AL\",\"AL\",\"AL\",\"AL\",\"AL\",\"AL\",\"AL\",\"AL\",\"AL\",\"AL\",\"AL\",\"AL\",\"AL\",\"AL\",\"AL\",\"AL\",\"AL\",\"AL\",\"AL\",\"AL\",\"AL\",\"AL\",\"AL\",\"AL\",\"AL\",\"AL\",\"AL\",\"AL\",\"AZ\",\"AZ\",\"AZ\",\"AZ\",\"AZ\",\"AZ\",\"AZ\",\"AZ\",\"AZ\",\"AZ\",\"AZ\",\"AZ\",\"AZ\",\"AZ\",\"AZ\",\"AZ\",\"AZ\",\"AZ\",\"AZ\",\"AZ\",\"AZ\",\"AZ\",\"AZ\",\"AZ\",\"AZ\",\"AZ\",\"AZ\",\"AZ\",\"AZ\",\"AZ\",\"AR\",\"AR\",\"AR\",\"AR\",\"AR\",\"AR\",\"AR\",\"AR\",\"AR\",\"AR\",\"AR\",\"AR\",\"AR\",\"AR\",\"AR\",\"AR\",\"AR\",\"AR\",\"AR\",\"AR\",\"AR\",\"AR\",\"AR\",\"AR\",\"AR\",\"AR\",\"AR\",\"AR\",\"AR\",\"AR\",\"CA\",\"CA\",\"CA\",\"CA\",\"CA\",\"CA\",\"CA\",\"CA\",\"CA\",\"CA\",\"CA\",\"CA\",\"CA\",\"CA\",\"CA\",\"CA\",\"CA\",\"CA\",\"CA\",\"CA\",\"CA\",\"CA\",\"CA\",\"CA\",\"CA\",\"CA\",\"CA\",\"CA\",\"CA\",\"CA\",\"CO\",\"CO\",\"CO\",\"CO\",\"CO\",\"CO\",\"CO\",\"CO\",\"CO\",\"CO\",\"CO\",\"CO\",\"CO\",\"CO\",\"CO\",\"CO\",\"CO\",\"CO\",\"CO\",\"CO\",\"CO\",\"CO\",\"CO\",\"CO\",\"CO\",\"CO\",\"CO\",\"CO\",\"CO\",\"CO\",\"CT\",\"CT\",\"CT\",\"CT\",\"CT\",\"CT\",\"CT\",\"CT\",\"CT\",\"CT\",\"CT\",\"CT\",\"CT\",\"CT\",\"CT\",\"CT\",\"CT\",\"CT\",\"CT\",\"CT\",\"CT\",\"CT\",\"CT\",\"CT\",\"CT\",\"CT\",\"CT\",\"CT\",\"CT\",\"CT\",\"FL\",\"FL\",\"FL\",\"FL\",\"FL\",\"FL\",\"FL\",\"FL\",\"FL\",\"FL\",\"FL\",\"FL\",\"FL\",\"FL\",\"FL\",\"FL\",\"FL\",\"FL\",\"FL\",\"FL\",\"FL\",\"FL\",\"FL\",\"FL\",\"FL\",\"FL\",\"FL\",\"FL\",\"FL\",\"FL\",\"GA\",\"GA\",\"GA\",\"GA\",\"GA\",\"GA\",\"GA\",\"GA\",\"GA\",\"GA\",\"GA\",\"GA\",\"GA\",\"GA\",\"GA\",\"GA\",\"GA\",\"GA\",\"GA\",\"GA\",\"GA\",\"GA\",\"GA\",\"GA\",\"GA\",\"GA\",\"GA\",\"GA\",\"GA\",\"GA\",\"HI\",\"HI\",\"HI\",\"HI\",\"HI\",\"HI\",\"HI\",\"HI\",\"HI\",\"HI\",\"HI\",\"HI\",\"HI\",\"HI\",\"HI\",\"HI\",\"HI\",\"HI\",\"HI\",\"HI\",\"HI\",\"HI\",\"HI\",\"HI\",\"HI\",\"HI\",\"HI\",\"HI\",\"HI\",\"HI\",\"ID\",\"ID\",\"ID\",\"ID\",\"ID\",\"ID\",\"ID\",\"ID\",\"ID\",\"ID\",\"ID\",\"ID\",\"ID\",\"ID\",\"ID\",\"ID\",\"ID\",\"ID\",\"ID\",\"ID\",\"ID\",\"ID\",\"ID\",\"ID\",\"ID\",\"ID\",\"ID\",\"ID\",\"ID\",\"ID\",\"IL\",\"IL\",\"IL\",\"IL\",\"IL\",\"IL\",\"IL\",\"IL\",\"IL\",\"IL\",\"IL\",\"IL\",\"IL\",\"IL\",\"IL\",\"IL\",\"IL\",\"IL\",\"IL\",\"IL\",\"IL\",\"IL\",\"IL\",\"IL\",\"IL\",\"IL\",\"IL\",\"IL\",\"IL\",\"IL\",\"IN\",\"IN\",\"IN\",\"IN\",\"IN\",\"IN\",\"IN\",\"IN\",\"IN\",\"IN\",\"IN\",\"IN\",\"IN\",\"IN\",\"IN\",\"IN\",\"IN\",\"IN\",\"IN\",\"IN\",\"IN\",\"IN\",\"IN\",\"IN\",\"IN\",\"IN\",\"IN\",\"IN\",\"IN\",\"IN\",\"IA\",\"IA\",\"IA\",\"IA\",\"IA\",\"IA\",\"IA\",\"IA\",\"IA\",\"IA\",\"IA\",\"IA\",\"IA\",\"IA\",\"IA\",\"IA\",\"IA\",\"IA\",\"IA\",\"IA\",\"IA\",\"IA\",\"IA\",\"IA\",\"IA\",\"IA\",\"IA\",\"IA\",\"IA\",\"IA\",\"KS\",\"KS\",\"KS\",\"KS\",\"KS\",\"KS\",\"KS\",\"KS\",\"KS\",\"KS\",\"KS\",\"KS\",\"KS\",\"KS\",\"KS\",\"KS\",\"KS\",\"KS\",\"KS\",\"KS\",\"KS\",\"KS\",\"KS\",\"KS\",\"KS\",\"KS\",\"KS\",\"KS\",\"KS\",\"KS\",\"KY\",\"KY\",\"KY\",\"KY\",\"KY\",\"KY\",\"KY\",\"KY\",\"KY\",\"KY\",\"KY\",\"KY\",\"KY\",\"KY\",\"KY\",\"KY\",\"KY\",\"KY\",\"KY\",\"KY\",\"KY\",\"KY\",\"KY\",\"KY\",\"KY\",\"KY\",\"KY\",\"KY\",\"KY\",\"KY\",\"LA\",\"LA\",\"LA\",\"LA\",\"LA\",\"LA\",\"LA\",\"LA\",\"LA\",\"LA\",\"LA\",\"LA\",\"LA\",\"LA\",\"LA\",\"LA\",\"LA\",\"LA\",\"LA\",\"LA\",\"LA\",\"LA\",\"LA\",\"LA\",\"LA\",\"LA\",\"LA\",\"LA\",\"LA\",\"LA\",\"ME\",\"ME\",\"ME\",\"ME\",\"ME\",\"ME\",\"ME\",\"ME\",\"ME\",\"ME\",\"ME\",\"ME\",\"ME\",\"ME\",\"ME\",\"ME\",\"ME\",\"ME\",\"ME\",\"ME\",\"ME\",\"ME\",\"ME\",\"ME\",\"ME\",\"ME\",\"ME\",\"ME\",\"ME\",\"ME\",\"MD\",\"MD\",\"MD\",\"MD\",\"MD\",\"MD\",\"MD\",\"MD\",\"MD\",\"MD\",\"MD\",\"MD\",\"MD\",\"MD\",\"MD\",\"MD\",\"MD\",\"MD\",\"MD\",\"MD\",\"MD\",\"MD\",\"MD\",\"MD\",\"MD\",\"MD\",\"MD\",\"MD\",\"MD\",\"MD\",\"MA\",\"MA\",\"MA\",\"MA\",\"MA\",\"MA\",\"MA\",\"MA\",\"MA\",\"MA\",\"MA\",\"MA\",\"MA\",\"MA\",\"MA\",\"MA\",\"MA\",\"MA\",\"MA\",\"MA\",\"MA\",\"MA\",\"MA\",\"MA\",\"MA\",\"MA\",\"MA\",\"MA\",\"MA\",\"MA\",\"MI\",\"MI\",\"MI\",\"MI\",\"MI\",\"MI\",\"MI\",\"MI\",\"MI\",\"MI\",\"MI\",\"MI\",\"MI\",\"MI\",\"MI\",\"MI\",\"MI\",\"MI\",\"MI\",\"MI\",\"MI\",\"MI\",\"MI\",\"MI\",\"MI\",\"MI\",\"MI\",\"MI\",\"MI\",\"MI\",\"MN\",\"MN\",\"MN\",\"MN\",\"MN\",\"MN\",\"MN\",\"MN\",\"MN\",\"MN\",\"MN\",\"MN\",\"MN\",\"MN\",\"MN\",\"MN\",\"MN\",\"MN\",\"MN\",\"MN\",\"MN\",\"MN\",\"MN\",\"MN\",\"MN\",\"MN\",\"MN\",\"MN\",\"MN\",\"MN\",\"MS\",\"MS\",\"MS\",\"MS\",\"MS\",\"MS\",\"MS\",\"MS\",\"MS\",\"MS\",\"MS\",\"MS\",\"MS\",\"MS\",\"MS\",\"MS\",\"MS\",\"MS\",\"MS\",\"MS\",\"MS\",\"MS\",\"MS\",\"MS\",\"MS\",\"MS\",\"MS\",\"MS\",\"MS\",\"MS\",\"MO\",\"MO\",\"MO\",\"MO\",\"MO\",\"MO\",\"MO\",\"MO\",\"MO\",\"MO\",\"MO\",\"MO\",\"MO\",\"MO\",\"MO\",\"MO\",\"MO\",\"MO\",\"MO\",\"MO\",\"MO\",\"MO\",\"MO\",\"MO\",\"MO\",\"MO\",\"MO\",\"MO\",\"MO\",\"MO\",\"MT\",\"MT\",\"MT\",\"MT\",\"MT\",\"MT\",\"MT\",\"MT\",\"MT\",\"MT\",\"MT\",\"MT\",\"MT\",\"MT\",\"MT\",\"MT\",\"MT\",\"MT\",\"MT\",\"MT\",\"MT\",\"MT\",\"MT\",\"MT\",\"MT\",\"MT\",\"MT\",\"MT\",\"MT\",\"MT\",\"NE\",\"NE\",\"NE\",\"NE\",\"NE\",\"NE\",\"NE\",\"NE\",\"NE\",\"NE\",\"NE\",\"NE\",\"NE\",\"NE\",\"NE\",\"NE\",\"NE\",\"NE\",\"NE\",\"NE\",\"NE\",\"NE\",\"NE\",\"NE\",\"NE\",\"NE\",\"NE\",\"NE\",\"NE\",\"NE\",\"NJ\",\"NJ\",\"NJ\",\"NJ\",\"NJ\",\"NJ\",\"NJ\",\"NJ\",\"NJ\",\"NJ\",\"NJ\",\"NJ\",\"NJ\",\"NJ\",\"NJ\",\"NJ\",\"NJ\",\"NJ\",\"NJ\",\"NJ\",\"NJ\",\"NJ\",\"NJ\",\"NJ\",\"NJ\",\"NJ\",\"NJ\",\"NJ\",\"NJ\",\"NJ\",\"NM\",\"NM\",\"NM\",\"NM\",\"NM\",\"NM\",\"NM\",\"NM\",\"NM\",\"NM\",\"NM\",\"NM\",\"NM\",\"NM\",\"NM\",\"NM\",\"NM\",\"NM\",\"NM\",\"NM\",\"NM\",\"NM\",\"NM\",\"NM\",\"NM\",\"NM\",\"NM\",\"NM\",\"NM\",\"NM\",\"NY\",\"NY\",\"NY\",\"NY\",\"NY\",\"NY\",\"NY\",\"NY\",\"NY\",\"NY\",\"NY\",\"NY\",\"NY\",\"NY\",\"NY\",\"NY\",\"NY\",\"NY\",\"NY\",\"NY\",\"NY\",\"NY\",\"NY\",\"NY\",\"NY\",\"NY\",\"NY\",\"NY\",\"NY\",\"NY\",\"NC\",\"NC\",\"NC\",\"NC\",\"NC\",\"NC\",\"NC\",\"NC\",\"NC\",\"NC\",\"NC\",\"NC\",\"NC\",\"NC\",\"NC\",\"NC\",\"NC\",\"NC\",\"NC\",\"NC\",\"NC\",\"NC\",\"NC\",\"NC\",\"NC\",\"NC\",\"NC\",\"NC\",\"NC\",\"NC\",\"ND\",\"ND\",\"ND\",\"ND\",\"ND\",\"ND\",\"ND\",\"ND\",\"ND\",\"ND\",\"ND\",\"ND\",\"ND\",\"ND\",\"ND\",\"ND\",\"ND\",\"ND\",\"ND\",\"ND\",\"ND\",\"ND\",\"ND\",\"ND\",\"ND\",\"ND\",\"ND\",\"ND\",\"ND\",\"ND\",\"OH\",\"OH\",\"OH\",\"OH\",\"OH\",\"OH\",\"OH\",\"OH\",\"OH\",\"OH\",\"OH\",\"OH\",\"OH\",\"OH\",\"OH\",\"OH\",\"OH\",\"OH\",\"OH\",\"OH\",\"OH\",\"OH\",\"OH\",\"OH\",\"OH\",\"OH\",\"OH\",\"OH\",\"OH\",\"OH\",\"OK\",\"OK\",\"OK\",\"OK\",\"OK\",\"OK\",\"OK\",\"OK\",\"OK\",\"OK\",\"OK\",\"OK\",\"OK\",\"OK\",\"OK\",\"OK\",\"OK\",\"OK\",\"OK\",\"OK\",\"OK\",\"OK\",\"OK\",\"OK\",\"OK\",\"OK\",\"OK\",\"OK\",\"OK\",\"OK\",\"OR\",\"OR\",\"OR\",\"OR\",\"OR\",\"OR\",\"OR\",\"OR\",\"OR\",\"OR\",\"OR\",\"OR\",\"OR\",\"OR\",\"OR\",\"OR\",\"OR\",\"OR\",\"OR\",\"OR\",\"OR\",\"OR\",\"OR\",\"OR\",\"OR\",\"OR\",\"OR\",\"OR\",\"OR\",\"OR\",\"PA\",\"PA\",\"PA\",\"PA\",\"PA\",\"PA\",\"PA\",\"PA\",\"PA\",\"PA\",\"PA\",\"PA\",\"PA\",\"PA\",\"PA\",\"PA\",\"PA\",\"PA\",\"PA\",\"PA\",\"PA\",\"PA\",\"PA\",\"PA\",\"PA\",\"PA\",\"PA\",\"PA\",\"PA\",\"PA\",\"SC\",\"SC\",\"SC\",\"SC\",\"SC\",\"SC\",\"SC\",\"SC\",\"SC\",\"SC\",\"SC\",\"SC\",\"SC\",\"SC\",\"SC\",\"SC\",\"SC\",\"SC\",\"SC\",\"SC\",\"SC\",\"SC\",\"SC\",\"SC\",\"SC\",\"SC\",\"SC\",\"SC\",\"SC\",\"SC\",\"SD\",\"SD\",\"SD\",\"SD\",\"SD\",\"SD\",\"SD\",\"SD\",\"SD\",\"SD\",\"SD\",\"SD\",\"SD\",\"SD\",\"SD\",\"SD\",\"SD\",\"SD\",\"SD\",\"SD\",\"SD\",\"SD\",\"SD\",\"SD\",\"SD\",\"SD\",\"SD\",\"SD\",\"SD\",\"SD\",\"TN\",\"TN\",\"TN\",\"TN\",\"TN\",\"TN\",\"TN\",\"TN\",\"TN\",\"TN\",\"TN\",\"TN\",\"TN\",\"TN\",\"TN\",\"TN\",\"TN\",\"TN\",\"TN\",\"TN\",\"TN\",\"TN\",\"TN\",\"TN\",\"TN\",\"TN\",\"TN\",\"TN\",\"TN\",\"TN\",\"TX\",\"TX\",\"TX\",\"TX\",\"TX\",\"TX\",\"TX\",\"TX\",\"TX\",\"TX\",\"TX\",\"TX\",\"TX\",\"TX\",\"TX\",\"TX\",\"TX\",\"TX\",\"TX\",\"TX\",\"TX\",\"TX\",\"TX\",\"TX\",\"TX\",\"TX\",\"TX\",\"TX\",\"TX\",\"TX\",\"UT\",\"UT\",\"UT\",\"UT\",\"UT\",\"UT\",\"UT\",\"UT\",\"UT\",\"UT\",\"UT\",\"UT\",\"UT\",\"UT\",\"UT\",\"UT\",\"UT\",\"UT\",\"UT\",\"UT\",\"UT\",\"UT\",\"UT\",\"UT\",\"UT\",\"UT\",\"UT\",\"UT\",\"UT\",\"UT\",\"VT\",\"VT\",\"VT\",\"VT\",\"VT\",\"VT\",\"VT\",\"VT\",\"VT\",\"VT\",\"VT\",\"VT\",\"VT\",\"VT\",\"VT\",\"VT\",\"VT\",\"VT\",\"VT\",\"VT\",\"VT\",\"VT\",\"VT\",\"VT\",\"VT\",\"VT\",\"VT\",\"VT\",\"VT\",\"VT\",\"VA\",\"VA\",\"VA\",\"VA\",\"VA\",\"VA\",\"VA\",\"VA\",\"VA\",\"VA\",\"VA\",\"VA\",\"VA\",\"VA\",\"VA\",\"VA\",\"VA\",\"VA\",\"VA\",\"VA\",\"VA\",\"VA\",\"VA\",\"VA\",\"VA\",\"VA\",\"VA\",\"VA\",\"VA\",\"VA\",\"WA\",\"WA\",\"WA\",\"WA\",\"WA\",\"WA\",\"WA\",\"WA\",\"WA\",\"WA\",\"WA\",\"WA\",\"WA\",\"WA\",\"WA\",\"WA\",\"WA\",\"WA\",\"WA\",\"WA\",\"WA\",\"WA\",\"WA\",\"WA\",\"WA\",\"WA\",\"WA\",\"WA\",\"WA\",\"WA\",\"WV\",\"WV\",\"WV\",\"WV\",\"WV\",\"WV\",\"WV\",\"WV\",\"WV\",\"WV\",\"WV\",\"WV\",\"WV\",\"WV\",\"WV\",\"WV\",\"WV\",\"WV\",\"WV\",\"WV\",\"WV\",\"WV\",\"WV\",\"WV\",\"WV\",\"WV\",\"WV\",\"WV\",\"WV\",\"WV\",\"WI\",\"WI\",\"WI\",\"WI\",\"WI\",\"WI\",\"WI\",\"WI\",\"WI\",\"WI\",\"WI\",\"WI\",\"WI\",\"WI\",\"WI\",\"WI\",\"WI\",\"WI\",\"WI\",\"WI\",\"WI\",\"WI\",\"WI\",\"WI\",\"WI\",\"WI\",\"WI\",\"WI\",\"WI\",\"WI\",\"WY\",\"WY\",\"WY\",\"WY\",\"WY\",\"WY\",\"WY\",\"WY\",\"WY\",\"WY\",\"WY\",\"WY\",\"WY\",\"WY\",\"WY\",\"WY\",\"WY\",\"WY\",\"WY\",\"WY\",\"WY\",\"WY\",\"WY\",\"WY\",\"WY\",\"WY\",\"WY\",\"WY\",\"WY\",\"WY\"],\"name\":\"\",\"z\":[0.05,1.2,2.25,1.3,1.8,4.325,4.275,6.325,7.3,3.1,1.825,4.0,13.075,11.35,0.3,31.225,20.525000000000002,13.9,36.85,22.7,8.275,8.450000000000001,5.925000000000001,5.225,9.0,23.225,14.45,32.4,38.125,27.2,1.775,5.1,6.575,11.25,6.5,9.525,10.4,10.85,11.075,8.4,10.225000000000001,9.925,4.2,4.975,16.2,19.775000000000002,16.7,5.625,5.525,7.9,6.0,5.7,2.3,9.725000000000001,0.2,34.725,50.275,43.85,45.8,25.8,2.375,1.475,7.15,0.45,3.3,9.675,2.275,9.775,6.8500000000000005,0.7,9.8,2.45,13.1,29.075,55.3,29.224999999999998,7.3,15.625,9.325,1.5,3.075,3.3249999999999997,1.55,7.475,2.9,47.7,61.025000000000006,37.45,41.175,19.5,7.375,9.175,5.9,7.550000000000001,6.4,11.55,10.925,9.65,9.575,8.7,15.45,13.9,13.15,13.65,12.3,15.45,15.2,12.55,11.175,13.4,4.475,4.35,4.9,5.15,5.6,38.2,42.975,41.475,46.05,43.5,7.574999999999999,5.175000000000001,2.025,5.775,0.0,4.525,7.225,7.625,8.125,2.5,9.899999999999999,7.325000000000001,8.3,1.75,0.0,7.1499999999999995,7.1499999999999995,0.725,5.825000000000001,0.3,4.25,0.175,1.7999999999999998,2.15,0.6,37.825,30.825,32.85,54.8,11.2,0.7,0.45,0.025,0.6749999999999999,0.0,8.35,5.725,5.65,3.8,3.6,0.8500000000000001,0.375,0.275,0.975,0.0,1.175,2.4,1.5,1.3,1.3,1.275,1.725,1.9749999999999999,1.85,1.7,15.625,13.775,30.525,12.775,10.1,3.175,5.2,4.7,6.825,5.5,10.899999999999999,8.5,7.925000000000001,9.475,7.4,14.075,10.85,9.975,11.6,22.9,20.0,19.9,14.8,21.425,24.8,4.35,2.925,21.125,13.4,5.5,33.325,36.95,39.6,39.675,46.9,3.775,2.55,3.95,6.575,7.4,7.2250000000000005,6.6499999999999995,7.4,17.525,10.6,14.25,17.375,9.65,16.05,9.6,13.125,15.299999999999999,11.475,20.599999999999998,17.8,4.875,3.4,4.025,6.8,4.9,37.525,41.474999999999994,43.45,45.95,69.6,0.55,0.025,0.15,0.15,0.1,1.925,1.05,0.65,0.275,2.9,0.05,0.4,0.0,0.025,0.7,53.275,38.925,19.049999999999997,87.275,64.9,0.025,0.025,0.025,0.05,0.0,52.0,35.9,37.525000000000006,82.525,72.1,6.25,3.5250000000000004,17.674999999999997,7.0,8.0,6.9,5.25,5.175,7.075,8.6,6.2,4.2,14.975,16.075,9.2,4.8,3.15,21.174999999999997,15.55,8.0,4.025,2.6,2.625,3.75,0.0,37.75,27.475,48.1,57.1,24.5,0.45,1.05,1.2,3.7,3.1,4.825,4.025,6.25,7.175000000000001,15.5,1.05,3.9,4.35,4.5,0.7,4.025,7.6,10.45,10.674999999999999,14.7,4.525,4.275,4.425,6.5,10.1,9.925,17.25,22.825,21.95,33.3,4.575,0.575,1.85,7.15,2.6,7.075,3.375,6.675,12.899999999999999,7.1,2.275,1.1,13.0,22.549999999999997,5.5,3.225,7.15,5.4,11.325,8.8,5.9,3.7,4.575,1.9,1.7,16.225,27.125,14.675,48.05,15.6,2.05,10.55,7.65,4.65,0.6,12.775,10.95,10.475,10.075,7.7,5.575,7.25,18.775,10.125,0.3,3.125,11.35,17.15,11.85,1.7,2.525,5.6,5.074999999999999,1.9249999999999998,3.5,29.575,31.9,37.775,25.75,34.8,0.6000000000000001,4.325,4.7,8.725,2.5,15.425,3.925,4.949999999999999,13.825,21.6,13.375,10.4,13.775,20.225,12.2,11.175,13.850000000000001,17.95,33.575,7.8,7.25,2.8000000000000003,9.575,11.25,4.0,28.525,37.4,36.95,61.15,92.0,2.35,1.65,1.625,1.075,0.1,12.1,11.55,9.05,5.525,10.7,5.15,12.3,3.8499999999999996,5.075,5.3,13.75,23.275,21.675,29.55,12.9,4.875,5.6,9.425,5.925,4.6,23.775,38.25,39.575,47.025,21.6,1.125,4.9,0.175,0.225,0.1,3.375,5.975,2.975,1.925,1.0,1.25,0.6,1.4000000000000001,2.2750000000000004,0.3,2.925,10.6,28.450000000000003,10.8,1.3,0.75,1.1,6.95,1.55,0.7,22.6,21.475,34.925,15.225000000000001,57.8,3.3249999999999997,1.2249999999999999,8.975,0.375,0.0,2.675,2.4,7.525,2.6,1.4,8.625,7.775,4.075,0.325,0.0,9.55,0.325,8.075,1.875,0.1,2.55,7.35,3.725,2.0,0.8,26.1,26.5,14.149999999999999,17.825,2.3,0.9,1.75,0.675,1.4500000000000002,0.2,8.275,4.1,5.225,6.175000000000001,10.1,6.325,4.425,1.0,0.8999999999999999,0.0,6.050000000000001,3.875,5.8500000000000005,5.075,5.1,5.05,0.875,5.575,2.25,2.4,11.875,16.25,7.825000000000001,14.575,12.6,2.225,2.05,5.825,5.15,0.0,4.275,2.375,3.3,4.025,6.3,17.15,2.775,5.125,5.425,4.3,17.425,6.7749999999999995,5.05,5.6499999999999995,0.0,2.3000000000000003,6.275,1.9,6.275,0.9,34.5,17.7,35.625,33.75,10.3,2.25,0.375,3.5249999999999995,7.05,1.5,7.425,5.9,4.625,11.65,12.2,7.125,7.2,10.325,14.5,0.2,9.125,9.025,8.25,16.775,5.8,5.05,3.9250000000000003,2.325,10.225000000000001,0.7,29.0,37.0,34.4,60.300000000000004,18.2,4.300000000000001,4.0,2.1,4.825,1.9,5.625,9.85,8.6,5.55,2.0,17.25,17.45,15.725,10.725,0.0,7.4,8.825,3.45,6.9,0.2,6.875,9.975,3.35,8.2,0.8,25.924999999999997,26.9,31.325,21.95,1.3,0.175,0.725,0.5249999999999999,0.05,64.8,2.0,2.15,5.95,4.1,1.9,0.8250000000000001,1.925,0.875,0.45,48.4,4.725,3.35,11.774999999999999,11.575,71.0,1.375,5.525,1.75,12.075,5.5,18.9,18.875,36.525,25.825,14.6,2.9,0.575,1.825,0.8500000000000001,1.9,3.9250000000000003,2.675,4.075,11.05,5.4,1.975,1.6,9.450000000000001,2.125,0.5,7.475,7.225,18.625,29.474999999999998,2.3,4.15,2.475,10.925,7.925,3.2,8.025,16.7,31.1,38.25,5.4,6.625,11.1,3.5500000000000003,6.725,0.0,3.375,11.6,8.7,6.425,0.8,4.95,6.25,3.5250000000000004,13.025,0.8,9.399999999999999,13.825,7.475,9.05,0.0,6.775,8.675,1.7,1.0,1.1,26.425,32.975,37.625,39.075,15.1,2.8,0.35000000000000003,1.4749999999999999,2.0,32.0,1.85,0.9750000000000001,7.9,4.475,2.2,3.85,3.8499999999999996,11.700000000000001,3.45,0.8,4.325,0.875,12.149999999999999,1.725,1.3,2.625,1.425,3.425,2.85,0.1,15.275,9.7,26.65,9.15,32.3,7.699999999999999,0.5,1.75,0.07500000000000001,0.0,5.5,1.65,1.2,3.4,3.5,9.4,2.75,1.8,0.15000000000000002,0.0,5.0,5.1,4.0,3.375,4.4,5.25,5.3,0.825,0.4,0.6,26.875,17.175,16.825,14.425,15.3,17.675,26.5,44.525000000000006,1.0,0.6,14.450000000000001,3.05,12.675,4.5,1.4,18.125,6.65,5.975,3.4250000000000003,0.0,13.85,14.1,1.05,0.35,1.1,1.375,0.325,0.475,0.725,0.3,37.0,58.45,85.675,31.099999999999998,3.5,2.875,2.875,6.525,10.7,1.7,6.225,10.125,9.025,13.85,7.7,6.7,9.25,5.300000000000001,8.825,1.7,7.9,5.05,11.0,14.25,2.5,4.275,2.775,3.825,5.1499999999999995,9.0,22.8,28.275,27.5,32.9,10.6,0.4,2.125,2.425,4.0,0.2,5.775,9.55,7.8999999999999995,12.625,2.2,8.575,9.85,6.025,3.275,0.7,11.975,11.775,18.825,10.274999999999999,2.0,6.7749999999999995,12.1,3.475,4.275,3.4,32.5,28.275,49.2,39.6,16.4,2.5,2.4749999999999996,1.7,5.925,0.0,3.7249999999999996,4.05,3.1,5.225,0.4,4.525,3.6,3.475,6.425,6.5,5.625,5.85,8.1,7.225,0.0,1.55,4.3,0.85,2.525,1.3,15.45,20.1,28.450000000000003,29.575,6.9,1.65,0.9749999999999999,4.65,2.725,11.1,11.275,6.975,10.475,12.925,6.7,11.399999999999999,6.675000000000001,5.9,3.825,1.1,5.625,8.8,15.100000000000001,21.849999999999998,9.9,8.975,5.2,7.35,6.05,3.1,23.375,38.7,42.025,41.65,49.3,0.175,0.125,5.3,3.2249999999999996,0.0,2.75,0.75,3.225,8.175,0.0,0.07500000000000001,0.575,1.1,12.575,0.0,5.8,2.75,6.7,17.725,0.3,1.9249999999999998,10.975,0.7000000000000001,6.45,0.0,21.25,17.275,14.625,39.25,7.7,5.075,10.175,14.55,8.075,0.2,3.4749999999999996,6.699999999999999,10.375,7.725,2.7,5.300000000000001,3.75,10.0,18.3,0.2,11.25,12.7,13.25,2.9,0.1,1.7,2.275,5.8500000000000005,0.55,0.5,32.975,37.875,42.725,45.85,18.0,2.3,1.325,1.3,3.525,3.7,8.125,4.45,2.775,4.25,7.5,2.225,3.625,3.75,6.475,4.0,6.925,4.625,3.625,10.1,4.6,2.55,2.45,2.975,4.95,9.5,29.200000000000003,27.375,30.125,29.025,15.3,4.85,6.25,7.574999999999999,0.6,0.0,4.25,11.975,3.475,8.1,12.4,4.5249999999999995,16.25,5.7,9.5,1.7,10.4,21.2,14.55,22.125,14.5,1.65,2.475,1.225,3.1,1.0,28.25,27.85,23.725,38.125,18.5,1.5,4.05,2.525,4.4,0.0,1.7249999999999999,5.375,9.925,21.275,0.8,4.175,8.45,5.225,3.475,2.5,5.575,7.8500000000000005,3.725,18.675,0.0,3.275,0.8749999999999999,2.275,1.05,2.2,12.45,32.575,19.075,31.75,0.8,0.575,0.4,1.05,1.9749999999999999,5.1,6.225,6.9,7.875,8.524999999999999,7.7,4.8,1.9,3.375,7.75,0.9,27.525,18.625,19.775,29.325,23.6,3.0,4.65,8.275,7.35,7.1,41.1,25.75,36.9,44.9,62.8,2.875,3.675,2.675,4.7,5.3,4.15,4.4,7.1000000000000005,4.8,6.9,10.625,11.7,11.1,3.475,8.3,17.45,11.925,20.925,12.675,6.5,5.6,2.925,2.925,7.375,3.0,23.1,31.450000000000003,33.125,21.35,26.1,12.4,0.675,2.975,1.925,0.1,4.15,2.05,9.975,2.25,0.3,12.625000000000002,7.6,6.5,2.475,0.0,11.450000000000001,6.8500000000000005,2.575,7.25,0.0,0.55,0.825,7.300000000000001,2.0,8.8,39.175,26.924999999999997,35.050000000000004,36.05,22.9,0.25,10.825000000000001,7.300000000000001,1.325,2.4,1.975,0.8999999999999999,3.45,1.225,0.2,0.15,10.25,13.850000000000001,10.350000000000001,0.0,6.2,12.35,13.625,2.225,0.1,5.15,0.65,1.3,0.4,1.2,21.45,13.5,30.674999999999997,18.575,6.2,1.45,2.475,1.625,4.55,0.8,5.525,4.85,5.125,12.05,3.9,0.9750000000000001,2.175,4.05,6.5,0.3,13.45,13.875,19.475,24.25,12.8,8.925,3.8499999999999996,4.675,5.575,9.3,25.125,31.575000000000003,27.824999999999996,36.2,16.6,1.2249999999999999,2.3,1.55,5.225,0.6,4.0,5.45,3.175,5.175,0.8,1.825,8.25,2.25,4.275,0.3,1.125,6.975,3.45,2.85,0.8,0.8500000000000001,1.525,1.85,1.275,0.2,30.675,37.699999999999996,18.375,26.5,22.3,1.275,2.5,1.45,0.95,1.1,7.6,8.5,8.225,11.35,5.0,2.325,0.45,0.275,3.45,0.2,6.3500000000000005,3.275,3.525,20.825,3.2,3.05,2.6,2.575,5.425000000000001,1.3,18.525,26.825,27.675,28.825,10.3,3.625,8.675,13.600000000000001,5.9,0.7,10.675,10.35,8.875,11.7,13.8,14.875,13.1,12.2,18.15,1.1,10.725,7.775,15.375,20.4,3.2,10.75,19.55,9.525,3.5,5.0,37.699999999999996,37.099999999999994,36.875,32.625,15.9,3.45,1.25,7.625,1.75,0.1,5.575,1.95,5.0,2.225,0.5,4.375,2.725,3.2750000000000004,4.475,0.0,8.049999999999999,1.925,1.875,2.775,0.0,1.6749999999999998,0.6,1.925,2.5,2.3,23.375,19.475,23.525000000000002,22.424999999999997,0.7],\"type\":\"choropleth\"}],                        {\"template\":{\"data\":{\"barpolar\":[{\"marker\":{\"line\":{\"color\":\"rgb(17,17,17)\",\"width\":0.5},\"pattern\":{\"fillmode\":\"overlay\",\"size\":10,\"solidity\":0.2}},\"type\":\"barpolar\"}],\"bar\":[{\"error_x\":{\"color\":\"#f2f5fa\"},\"error_y\":{\"color\":\"#f2f5fa\"},\"marker\":{\"line\":{\"color\":\"rgb(17,17,17)\",\"width\":0.5},\"pattern\":{\"fillmode\":\"overlay\",\"size\":10,\"solidity\":0.2}},\"type\":\"bar\"}],\"carpet\":[{\"aaxis\":{\"endlinecolor\":\"#A2B1C6\",\"gridcolor\":\"#506784\",\"linecolor\":\"#506784\",\"minorgridcolor\":\"#506784\",\"startlinecolor\":\"#A2B1C6\"},\"baxis\":{\"endlinecolor\":\"#A2B1C6\",\"gridcolor\":\"#506784\",\"linecolor\":\"#506784\",\"minorgridcolor\":\"#506784\",\"startlinecolor\":\"#A2B1C6\"},\"type\":\"carpet\"}],\"choropleth\":[{\"colorbar\":{\"outlinewidth\":0,\"ticks\":\"\"},\"type\":\"choropleth\"}],\"contourcarpet\":[{\"colorbar\":{\"outlinewidth\":0,\"ticks\":\"\"},\"type\":\"contourcarpet\"}],\"contour\":[{\"colorbar\":{\"outlinewidth\":0,\"ticks\":\"\"},\"colorscale\":[[0.0,\"#0d0887\"],[0.1111111111111111,\"#46039f\"],[0.2222222222222222,\"#7201a8\"],[0.3333333333333333,\"#9c179e\"],[0.4444444444444444,\"#bd3786\"],[0.5555555555555556,\"#d8576b\"],[0.6666666666666666,\"#ed7953\"],[0.7777777777777778,\"#fb9f3a\"],[0.8888888888888888,\"#fdca26\"],[1.0,\"#f0f921\"]],\"type\":\"contour\"}],\"heatmapgl\":[{\"colorbar\":{\"outlinewidth\":0,\"ticks\":\"\"},\"colorscale\":[[0.0,\"#0d0887\"],[0.1111111111111111,\"#46039f\"],[0.2222222222222222,\"#7201a8\"],[0.3333333333333333,\"#9c179e\"],[0.4444444444444444,\"#bd3786\"],[0.5555555555555556,\"#d8576b\"],[0.6666666666666666,\"#ed7953\"],[0.7777777777777778,\"#fb9f3a\"],[0.8888888888888888,\"#fdca26\"],[1.0,\"#f0f921\"]],\"type\":\"heatmapgl\"}],\"heatmap\":[{\"colorbar\":{\"outlinewidth\":0,\"ticks\":\"\"},\"colorscale\":[[0.0,\"#0d0887\"],[0.1111111111111111,\"#46039f\"],[0.2222222222222222,\"#7201a8\"],[0.3333333333333333,\"#9c179e\"],[0.4444444444444444,\"#bd3786\"],[0.5555555555555556,\"#d8576b\"],[0.6666666666666666,\"#ed7953\"],[0.7777777777777778,\"#fb9f3a\"],[0.8888888888888888,\"#fdca26\"],[1.0,\"#f0f921\"]],\"type\":\"heatmap\"}],\"histogram2dcontour\":[{\"colorbar\":{\"outlinewidth\":0,\"ticks\":\"\"},\"colorscale\":[[0.0,\"#0d0887\"],[0.1111111111111111,\"#46039f\"],[0.2222222222222222,\"#7201a8\"],[0.3333333333333333,\"#9c179e\"],[0.4444444444444444,\"#bd3786\"],[0.5555555555555556,\"#d8576b\"],[0.6666666666666666,\"#ed7953\"],[0.7777777777777778,\"#fb9f3a\"],[0.8888888888888888,\"#fdca26\"],[1.0,\"#f0f921\"]],\"type\":\"histogram2dcontour\"}],\"histogram2d\":[{\"colorbar\":{\"outlinewidth\":0,\"ticks\":\"\"},\"colorscale\":[[0.0,\"#0d0887\"],[0.1111111111111111,\"#46039f\"],[0.2222222222222222,\"#7201a8\"],[0.3333333333333333,\"#9c179e\"],[0.4444444444444444,\"#bd3786\"],[0.5555555555555556,\"#d8576b\"],[0.6666666666666666,\"#ed7953\"],[0.7777777777777778,\"#fb9f3a\"],[0.8888888888888888,\"#fdca26\"],[1.0,\"#f0f921\"]],\"type\":\"histogram2d\"}],\"histogram\":[{\"marker\":{\"pattern\":{\"fillmode\":\"overlay\",\"size\":10,\"solidity\":0.2}},\"type\":\"histogram\"}],\"mesh3d\":[{\"colorbar\":{\"outlinewidth\":0,\"ticks\":\"\"},\"type\":\"mesh3d\"}],\"parcoords\":[{\"line\":{\"colorbar\":{\"outlinewidth\":0,\"ticks\":\"\"}},\"type\":\"parcoords\"}],\"pie\":[{\"automargin\":true,\"type\":\"pie\"}],\"scatter3d\":[{\"line\":{\"colorbar\":{\"outlinewidth\":0,\"ticks\":\"\"}},\"marker\":{\"colorbar\":{\"outlinewidth\":0,\"ticks\":\"\"}},\"type\":\"scatter3d\"}],\"scattercarpet\":[{\"marker\":{\"colorbar\":{\"outlinewidth\":0,\"ticks\":\"\"}},\"type\":\"scattercarpet\"}],\"scattergeo\":[{\"marker\":{\"colorbar\":{\"outlinewidth\":0,\"ticks\":\"\"}},\"type\":\"scattergeo\"}],\"scattergl\":[{\"marker\":{\"line\":{\"color\":\"#283442\"}},\"type\":\"scattergl\"}],\"scattermapbox\":[{\"marker\":{\"colorbar\":{\"outlinewidth\":0,\"ticks\":\"\"}},\"type\":\"scattermapbox\"}],\"scatterpolargl\":[{\"marker\":{\"colorbar\":{\"outlinewidth\":0,\"ticks\":\"\"}},\"type\":\"scatterpolargl\"}],\"scatterpolar\":[{\"marker\":{\"colorbar\":{\"outlinewidth\":0,\"ticks\":\"\"}},\"type\":\"scatterpolar\"}],\"scatter\":[{\"marker\":{\"line\":{\"color\":\"#283442\"}},\"type\":\"scatter\"}],\"scatterternary\":[{\"marker\":{\"colorbar\":{\"outlinewidth\":0,\"ticks\":\"\"}},\"type\":\"scatterternary\"}],\"surface\":[{\"colorbar\":{\"outlinewidth\":0,\"ticks\":\"\"},\"colorscale\":[[0.0,\"#0d0887\"],[0.1111111111111111,\"#46039f\"],[0.2222222222222222,\"#7201a8\"],[0.3333333333333333,\"#9c179e\"],[0.4444444444444444,\"#bd3786\"],[0.5555555555555556,\"#d8576b\"],[0.6666666666666666,\"#ed7953\"],[0.7777777777777778,\"#fb9f3a\"],[0.8888888888888888,\"#fdca26\"],[1.0,\"#f0f921\"]],\"type\":\"surface\"}],\"table\":[{\"cells\":{\"fill\":{\"color\":\"#506784\"},\"line\":{\"color\":\"rgb(17,17,17)\"}},\"header\":{\"fill\":{\"color\":\"#2a3f5f\"},\"line\":{\"color\":\"rgb(17,17,17)\"}},\"type\":\"table\"}]},\"layout\":{\"annotationdefaults\":{\"arrowcolor\":\"#f2f5fa\",\"arrowhead\":0,\"arrowwidth\":1},\"autotypenumbers\":\"strict\",\"coloraxis\":{\"colorbar\":{\"outlinewidth\":0,\"ticks\":\"\"}},\"colorscale\":{\"diverging\":[[0,\"#8e0152\"],[0.1,\"#c51b7d\"],[0.2,\"#de77ae\"],[0.3,\"#f1b6da\"],[0.4,\"#fde0ef\"],[0.5,\"#f7f7f7\"],[0.6,\"#e6f5d0\"],[0.7,\"#b8e186\"],[0.8,\"#7fbc41\"],[0.9,\"#4d9221\"],[1,\"#276419\"]],\"sequential\":[[0.0,\"#0d0887\"],[0.1111111111111111,\"#46039f\"],[0.2222222222222222,\"#7201a8\"],[0.3333333333333333,\"#9c179e\"],[0.4444444444444444,\"#bd3786\"],[0.5555555555555556,\"#d8576b\"],[0.6666666666666666,\"#ed7953\"],[0.7777777777777778,\"#fb9f3a\"],[0.8888888888888888,\"#fdca26\"],[1.0,\"#f0f921\"]],\"sequentialminus\":[[0.0,\"#0d0887\"],[0.1111111111111111,\"#46039f\"],[0.2222222222222222,\"#7201a8\"],[0.3333333333333333,\"#9c179e\"],[0.4444444444444444,\"#bd3786\"],[0.5555555555555556,\"#d8576b\"],[0.6666666666666666,\"#ed7953\"],[0.7777777777777778,\"#fb9f3a\"],[0.8888888888888888,\"#fdca26\"],[1.0,\"#f0f921\"]]},\"colorway\":[\"#636efa\",\"#EF553B\",\"#00cc96\",\"#ab63fa\",\"#FFA15A\",\"#19d3f3\",\"#FF6692\",\"#B6E880\",\"#FF97FF\",\"#FECB52\"],\"font\":{\"color\":\"#f2f5fa\"},\"geo\":{\"bgcolor\":\"rgb(17,17,17)\",\"lakecolor\":\"rgb(17,17,17)\",\"landcolor\":\"rgb(17,17,17)\",\"showlakes\":true,\"showland\":true,\"subunitcolor\":\"#506784\"},\"hoverlabel\":{\"align\":\"left\"},\"hovermode\":\"closest\",\"mapbox\":{\"style\":\"dark\"},\"paper_bgcolor\":\"rgb(17,17,17)\",\"plot_bgcolor\":\"rgb(17,17,17)\",\"polar\":{\"angularaxis\":{\"gridcolor\":\"#506784\",\"linecolor\":\"#506784\",\"ticks\":\"\"},\"bgcolor\":\"rgb(17,17,17)\",\"radialaxis\":{\"gridcolor\":\"#506784\",\"linecolor\":\"#506784\",\"ticks\":\"\"}},\"scene\":{\"xaxis\":{\"backgroundcolor\":\"rgb(17,17,17)\",\"gridcolor\":\"#506784\",\"gridwidth\":2,\"linecolor\":\"#506784\",\"showbackground\":true,\"ticks\":\"\",\"zerolinecolor\":\"#C8D4E3\"},\"yaxis\":{\"backgroundcolor\":\"rgb(17,17,17)\",\"gridcolor\":\"#506784\",\"gridwidth\":2,\"linecolor\":\"#506784\",\"showbackground\":true,\"ticks\":\"\",\"zerolinecolor\":\"#C8D4E3\"},\"zaxis\":{\"backgroundcolor\":\"rgb(17,17,17)\",\"gridcolor\":\"#506784\",\"gridwidth\":2,\"linecolor\":\"#506784\",\"showbackground\":true,\"ticks\":\"\",\"zerolinecolor\":\"#C8D4E3\"}},\"shapedefaults\":{\"line\":{\"color\":\"#f2f5fa\"}},\"sliderdefaults\":{\"bgcolor\":\"#C8D4E3\",\"bordercolor\":\"rgb(17,17,17)\",\"borderwidth\":1,\"tickwidth\":0},\"ternary\":{\"aaxis\":{\"gridcolor\":\"#506784\",\"linecolor\":\"#506784\",\"ticks\":\"\"},\"baxis\":{\"gridcolor\":\"#506784\",\"linecolor\":\"#506784\",\"ticks\":\"\"},\"bgcolor\":\"rgb(17,17,17)\",\"caxis\":{\"gridcolor\":\"#506784\",\"linecolor\":\"#506784\",\"ticks\":\"\"}},\"title\":{\"x\":0.05},\"updatemenudefaults\":{\"bgcolor\":\"#506784\",\"borderwidth\":0},\"xaxis\":{\"automargin\":true,\"gridcolor\":\"#283442\",\"linecolor\":\"#506784\",\"ticks\":\"\",\"title\":{\"standoff\":15},\"zerolinecolor\":\"#283442\",\"zerolinewidth\":2},\"yaxis\":{\"automargin\":true,\"gridcolor\":\"#283442\",\"linecolor\":\"#506784\",\"ticks\":\"\",\"title\":{\"standoff\":15},\"zerolinecolor\":\"#283442\",\"zerolinewidth\":2}}},\"geo\":{\"domain\":{\"x\":[0.0,1.0],\"y\":[0.0,1.0]},\"center\":{},\"scope\":\"usa\"},\"coloraxis\":{\"colorbar\":{\"title\":{\"text\":\"% of Bee Colonies\"}},\"colorscale\":[[0.0,\"rgb(255,255,204)\"],[0.125,\"rgb(255,237,160)\"],[0.25,\"rgb(254,217,118)\"],[0.375,\"rgb(254,178,76)\"],[0.5,\"rgb(253,141,60)\"],[0.625,\"rgb(252,78,42)\"],[0.75,\"rgb(227,26,28)\"],[0.875,\"rgb(189,0,38)\"],[1.0,\"rgb(128,0,38)\"]],\"cmin\":1,\"cmax\":100},\"legend\":{\"tracegroupgap\":0},\"margin\":{\"t\":60}},                        {\"responsive\": true}                    ).then(function(){\n",
       "                            \n",
       "var gd = document.getElementById('7f51e35b-9301-40c2-89ed-59c255b44e7e');\n",
       "var x = new MutationObserver(function (mutations, observer) {{\n",
       "        var display = window.getComputedStyle(gd).display;\n",
       "        if (!display || display === 'none') {{\n",
       "            console.log([gd, 'removed!']);\n",
       "            Plotly.purge(gd);\n",
       "            observer.disconnect();\n",
       "        }}\n",
       "}});\n",
       "\n",
       "// Listen for the removal of the full notebook cells\n",
       "var notebookContainer = gd.closest('#notebook-container');\n",
       "if (notebookContainer) {{\n",
       "    x.observe(notebookContainer, {childList: true});\n",
       "}}\n",
       "\n",
       "// Listen for the clearing of the current output cell\n",
       "var outputEl = gd.closest('.output');\n",
       "if (outputEl) {{\n",
       "    x.observe(outputEl, {childList: true});\n",
       "}}\n",
       "\n",
       "                        })                };                });            </script>        </div>"
      ]
     },
     "metadata": {},
     "output_type": "display_data"
    }
   ],
   "source": [
    "    fig = px.choropleth(\n",
    "        data_frame=df,\n",
    "        locationmode='USA-states',\n",
    "        locations='state_code',\n",
    "        scope=\"usa\",\n",
    "        color='Pct of Colonies Impacted',\n",
    "        hover_data=['State', 'Pct of Colonies Impacted'],\n",
    "        color_continuous_scale=px.colors.sequential.YlOrRd,\n",
    "        labels={'Pct of Colonies Impacted': '% of Bee Colonies'},\n",
    "        template='plotly_dark',\n",
    "        range_color=[1,100])\n",
    "    \n",
    "    fig"
   ]
  },
  {
   "cell_type": "code",
   "execution_count": null,
   "id": "5f561179",
   "metadata": {},
   "outputs": [],
   "source": []
  }
 ],
 "metadata": {
  "kernelspec": {
   "display_name": "Python 3 (ipykernel)",
   "language": "python",
   "name": "python3"
  },
  "language_info": {
   "codemirror_mode": {
    "name": "ipython",
    "version": 3
   },
   "file_extension": ".py",
   "mimetype": "text/x-python",
   "name": "python",
   "nbconvert_exporter": "python",
   "pygments_lexer": "ipython3",
   "version": "3.11.3"
  }
 },
 "nbformat": 4,
 "nbformat_minor": 5
}
