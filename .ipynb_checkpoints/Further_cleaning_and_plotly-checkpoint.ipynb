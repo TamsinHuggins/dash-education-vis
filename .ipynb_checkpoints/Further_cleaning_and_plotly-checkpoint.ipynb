{
 "cells": [
  {
   "cell_type": "code",
   "execution_count": 1,
   "id": "f98e09e8",
   "metadata": {},
   "outputs": [
    {
     "name": "stdout",
     "output_type": "stream",
     "text": [
      "     State  ANSI Affected by  Year state_code  Pct of Colonies Impacted\n",
      "0  Alabama     1     Disease  2015         AL                      0.05\n",
      "1  Alabama     1     Disease  2016         AL                      1.20\n",
      "2  Alabama     1     Disease  2017         AL                      2.25\n",
      "3  Alabama     1     Disease  2018         AL                      1.30\n",
      "4  Alabama     1     Disease  2019         AL                      1.80\n"
     ]
    }
   ],
   "source": [
    "import pandas as pd\n",
    "import plotly.express as px  # (version 4.7.0 or higher)\n",
    "import plotly.graph_objects as go\n",
    "from dash import Dash, dcc, html, Input, Output  # pip install dash (version 2.0.0 or higher)\n",
    "\n",
    "# -- Import and clean data (importing csv into pandas)\n",
    "# df = pd.read_csv(\"intro_bees.csv\")\n",
    "df = pd.read_csv(\"https://raw.githubusercontent.com/Coding-with-Adam/Dash-by-Plotly/master/Other/Dash_Introduction/intro_bees.csv\")\n",
    "\n",
    "df = df.groupby(['State', 'ANSI', 'Affected by', 'Year', 'state_code'])[['Pct of Colonies Impacted']].mean()\n",
    "df.reset_index(inplace=True)\n",
    "print(df[:5])\n",
    "\n"
   ]
  },
  {
   "cell_type": "code",
   "execution_count": 2,
   "id": "de25a4d2",
   "metadata": {},
   "outputs": [
    {
     "data": {
      "text/html": [
       "<div>\n",
       "<style scoped>\n",
       "    .dataframe tbody tr th:only-of-type {\n",
       "        vertical-align: middle;\n",
       "    }\n",
       "\n",
       "    .dataframe tbody tr th {\n",
       "        vertical-align: top;\n",
       "    }\n",
       "\n",
       "    .dataframe thead th {\n",
       "        text-align: right;\n",
       "    }\n",
       "</style>\n",
       "<table border=\"1\" class=\"dataframe\">\n",
       "  <thead>\n",
       "    <tr style=\"text-align: right;\">\n",
       "      <th></th>\n",
       "      <th>country</th>\n",
       "      <th>year</th>\n",
       "      <th>no_schooling</th>\n",
       "      <th>total_primary</th>\n",
       "      <th>completed_primary</th>\n",
       "      <th>total_secondary</th>\n",
       "      <th>completed_secondary</th>\n",
       "      <th>total_tertiary</th>\n",
       "      <th>completed_tertiary</th>\n",
       "      <th>avg_years_total_schooling</th>\n",
       "      <th>avg_years_primary_schooling</th>\n",
       "      <th>avg_years_secondary_schooling</th>\n",
       "      <th>avg_years_tertiary_schooling</th>\n",
       "      <th>population_1000s</th>\n",
       "      <th>region</th>\n",
       "    </tr>\n",
       "  </thead>\n",
       "  <tbody>\n",
       "    <tr>\n",
       "      <th>0</th>\n",
       "      <td>Australia</td>\n",
       "      <td>1870</td>\n",
       "      <td>50.5</td>\n",
       "      <td>49.3</td>\n",
       "      <td>8.8</td>\n",
       "      <td>0.1</td>\n",
       "      <td>0.0</td>\n",
       "      <td>0.1</td>\n",
       "      <td>0.0</td>\n",
       "      <td>1.77</td>\n",
       "      <td>1.76</td>\n",
       "      <td>0.01</td>\n",
       "      <td>0.00</td>\n",
       "      <td>932.0</td>\n",
       "      <td>Advanced Economies</td>\n",
       "    </tr>\n",
       "    <tr>\n",
       "      <th>1</th>\n",
       "      <td>Australia</td>\n",
       "      <td>1875</td>\n",
       "      <td>46.0</td>\n",
       "      <td>53.8</td>\n",
       "      <td>9.6</td>\n",
       "      <td>0.1</td>\n",
       "      <td>0.0</td>\n",
       "      <td>0.1</td>\n",
       "      <td>0.0</td>\n",
       "      <td>1.93</td>\n",
       "      <td>1.92</td>\n",
       "      <td>0.01</td>\n",
       "      <td>0.00</td>\n",
       "      <td>1074.0</td>\n",
       "      <td>Advanced Economies</td>\n",
       "    </tr>\n",
       "    <tr>\n",
       "      <th>2</th>\n",
       "      <td>Australia</td>\n",
       "      <td>1880</td>\n",
       "      <td>41.5</td>\n",
       "      <td>58.0</td>\n",
       "      <td>9.7</td>\n",
       "      <td>0.3</td>\n",
       "      <td>0.1</td>\n",
       "      <td>0.2</td>\n",
       "      <td>0.1</td>\n",
       "      <td>2.08</td>\n",
       "      <td>2.06</td>\n",
       "      <td>0.02</td>\n",
       "      <td>0.00</td>\n",
       "      <td>1314.0</td>\n",
       "      <td>Advanced Economies</td>\n",
       "    </tr>\n",
       "    <tr>\n",
       "      <th>3</th>\n",
       "      <td>Australia</td>\n",
       "      <td>1885</td>\n",
       "      <td>36.1</td>\n",
       "      <td>61.7</td>\n",
       "      <td>11.3</td>\n",
       "      <td>2.0</td>\n",
       "      <td>0.4</td>\n",
       "      <td>0.2</td>\n",
       "      <td>0.1</td>\n",
       "      <td>2.41</td>\n",
       "      <td>2.32</td>\n",
       "      <td>0.08</td>\n",
       "      <td>0.01</td>\n",
       "      <td>1569.0</td>\n",
       "      <td>Advanced Economies</td>\n",
       "    </tr>\n",
       "    <tr>\n",
       "      <th>4</th>\n",
       "      <td>Australia</td>\n",
       "      <td>1890</td>\n",
       "      <td>29.7</td>\n",
       "      <td>66.6</td>\n",
       "      <td>13.3</td>\n",
       "      <td>3.5</td>\n",
       "      <td>0.7</td>\n",
       "      <td>0.3</td>\n",
       "      <td>0.1</td>\n",
       "      <td>2.76</td>\n",
       "      <td>2.62</td>\n",
       "      <td>0.13</td>\n",
       "      <td>0.01</td>\n",
       "      <td>1895.0</td>\n",
       "      <td>Advanced Economies</td>\n",
       "    </tr>\n",
       "    <tr>\n",
       "      <th>...</th>\n",
       "      <td>...</td>\n",
       "      <td>...</td>\n",
       "      <td>...</td>\n",
       "      <td>...</td>\n",
       "      <td>...</td>\n",
       "      <td>...</td>\n",
       "      <td>...</td>\n",
       "      <td>...</td>\n",
       "      <td>...</td>\n",
       "      <td>...</td>\n",
       "      <td>...</td>\n",
       "      <td>...</td>\n",
       "      <td>...</td>\n",
       "      <td>...</td>\n",
       "      <td>...</td>\n",
       "    </tr>\n",
       "    <tr>\n",
       "      <th>2928</th>\n",
       "      <td>Zimbabwe</td>\n",
       "      <td>1990</td>\n",
       "      <td>12.2</td>\n",
       "      <td>47.9</td>\n",
       "      <td>21.8</td>\n",
       "      <td>36.1</td>\n",
       "      <td>21.8</td>\n",
       "      <td>3.8</td>\n",
       "      <td>2.3</td>\n",
       "      <td>5.97</td>\n",
       "      <td>3.74</td>\n",
       "      <td>2.11</td>\n",
       "      <td>0.12</td>\n",
       "      <td>5399.0</td>\n",
       "      <td>Sub-Saharan Africa</td>\n",
       "    </tr>\n",
       "    <tr>\n",
       "      <th>2929</th>\n",
       "      <td>Zimbabwe</td>\n",
       "      <td>1995</td>\n",
       "      <td>8.8</td>\n",
       "      <td>41.8</td>\n",
       "      <td>21.5</td>\n",
       "      <td>46.8</td>\n",
       "      <td>18.9</td>\n",
       "      <td>2.6</td>\n",
       "      <td>1.5</td>\n",
       "      <td>6.85</td>\n",
       "      <td>4.46</td>\n",
       "      <td>2.31</td>\n",
       "      <td>0.08</td>\n",
       "      <td>6172.0</td>\n",
       "      <td>Sub-Saharan Africa</td>\n",
       "    </tr>\n",
       "    <tr>\n",
       "      <th>2930</th>\n",
       "      <td>Zimbabwe</td>\n",
       "      <td>2000</td>\n",
       "      <td>6.6</td>\n",
       "      <td>36.3</td>\n",
       "      <td>19.9</td>\n",
       "      <td>56.0</td>\n",
       "      <td>7.3</td>\n",
       "      <td>1.0</td>\n",
       "      <td>0.7</td>\n",
       "      <td>7.26</td>\n",
       "      <td>5.05</td>\n",
       "      <td>2.18</td>\n",
       "      <td>0.03</td>\n",
       "      <td>6813.0</td>\n",
       "      <td>Sub-Saharan Africa</td>\n",
       "    </tr>\n",
       "    <tr>\n",
       "      <th>2931</th>\n",
       "      <td>Zimbabwe</td>\n",
       "      <td>2005</td>\n",
       "      <td>5.4</td>\n",
       "      <td>36.3</td>\n",
       "      <td>22.3</td>\n",
       "      <td>57.4</td>\n",
       "      <td>6.7</td>\n",
       "      <td>0.9</td>\n",
       "      <td>0.6</td>\n",
       "      <td>7.65</td>\n",
       "      <td>5.50</td>\n",
       "      <td>2.13</td>\n",
       "      <td>0.03</td>\n",
       "      <td>7336.0</td>\n",
       "      <td>Sub-Saharan Africa</td>\n",
       "    </tr>\n",
       "    <tr>\n",
       "      <th>2932</th>\n",
       "      <td>Zimbabwe</td>\n",
       "      <td>2010</td>\n",
       "      <td>3.6</td>\n",
       "      <td>38.1</td>\n",
       "      <td>26.5</td>\n",
       "      <td>57.5</td>\n",
       "      <td>5.9</td>\n",
       "      <td>0.7</td>\n",
       "      <td>0.5</td>\n",
       "      <td>7.86</td>\n",
       "      <td>5.89</td>\n",
       "      <td>1.94</td>\n",
       "      <td>0.02</td>\n",
       "      <td>7814.0</td>\n",
       "      <td>Sub-Saharan Africa</td>\n",
       "    </tr>\n",
       "  </tbody>\n",
       "</table>\n",
       "<p>2581 rows × 15 columns</p>\n",
       "</div>"
      ],
      "text/plain": [
       "        country  year  no_schooling  total_primary  completed_primary  \\\n",
       "0     Australia  1870          50.5           49.3                8.8   \n",
       "1     Australia  1875          46.0           53.8                9.6   \n",
       "2     Australia  1880          41.5           58.0                9.7   \n",
       "3     Australia  1885          36.1           61.7               11.3   \n",
       "4     Australia  1890          29.7           66.6               13.3   \n",
       "...         ...   ...           ...            ...                ...   \n",
       "2928   Zimbabwe  1990          12.2           47.9               21.8   \n",
       "2929   Zimbabwe  1995           8.8           41.8               21.5   \n",
       "2930   Zimbabwe  2000           6.6           36.3               19.9   \n",
       "2931   Zimbabwe  2005           5.4           36.3               22.3   \n",
       "2932   Zimbabwe  2010           3.6           38.1               26.5   \n",
       "\n",
       "      total_secondary  completed_secondary  total_tertiary  \\\n",
       "0                 0.1                  0.0             0.1   \n",
       "1                 0.1                  0.0             0.1   \n",
       "2                 0.3                  0.1             0.2   \n",
       "3                 2.0                  0.4             0.2   \n",
       "4                 3.5                  0.7             0.3   \n",
       "...               ...                  ...             ...   \n",
       "2928             36.1                 21.8             3.8   \n",
       "2929             46.8                 18.9             2.6   \n",
       "2930             56.0                  7.3             1.0   \n",
       "2931             57.4                  6.7             0.9   \n",
       "2932             57.5                  5.9             0.7   \n",
       "\n",
       "      completed_tertiary  avg_years_total_schooling  \\\n",
       "0                    0.0                       1.77   \n",
       "1                    0.0                       1.93   \n",
       "2                    0.1                       2.08   \n",
       "3                    0.1                       2.41   \n",
       "4                    0.1                       2.76   \n",
       "...                  ...                        ...   \n",
       "2928                 2.3                       5.97   \n",
       "2929                 1.5                       6.85   \n",
       "2930                 0.7                       7.26   \n",
       "2931                 0.6                       7.65   \n",
       "2932                 0.5                       7.86   \n",
       "\n",
       "      avg_years_primary_schooling  avg_years_secondary_schooling  \\\n",
       "0                            1.76                           0.01   \n",
       "1                            1.92                           0.01   \n",
       "2                            2.06                           0.02   \n",
       "3                            2.32                           0.08   \n",
       "4                            2.62                           0.13   \n",
       "...                           ...                            ...   \n",
       "2928                         3.74                           2.11   \n",
       "2929                         4.46                           2.31   \n",
       "2930                         5.05                           2.18   \n",
       "2931                         5.50                           2.13   \n",
       "2932                         5.89                           1.94   \n",
       "\n",
       "      avg_years_tertiary_schooling  population_1000s              region  \n",
       "0                             0.00             932.0  Advanced Economies  \n",
       "1                             0.00            1074.0  Advanced Economies  \n",
       "2                             0.00            1314.0  Advanced Economies  \n",
       "3                             0.01            1569.0  Advanced Economies  \n",
       "4                             0.01            1895.0  Advanced Economies  \n",
       "...                            ...               ...                 ...  \n",
       "2928                          0.12            5399.0  Sub-Saharan Africa  \n",
       "2929                          0.08            6172.0  Sub-Saharan Africa  \n",
       "2930                          0.03            6813.0  Sub-Saharan Africa  \n",
       "2931                          0.03            7336.0  Sub-Saharan Africa  \n",
       "2932                          0.02            7814.0  Sub-Saharan Africa  \n",
       "\n",
       "[2581 rows x 15 columns]"
      ]
     },
     "execution_count": 2,
     "metadata": {},
     "output_type": "execute_result"
    }
   ],
   "source": [
    "df2 = pd.read_csv('global_education_cleaned.csv',  index_col=0)\n",
    "df2"
   ]
  },
  {
   "cell_type": "markdown",
   "id": "6b8e38da",
   "metadata": {},
   "source": [
    "Need to change the group by based on the thing selected from the map."
   ]
  },
  {
   "cell_type": "code",
   "execution_count": 53,
   "id": "afc040de",
   "metadata": {},
   "outputs": [],
   "source": [
    "df2['country'].replace({'Turkey': 'Türkiye', 'United Kingdom': 'United Kingdom of Great Britain and Northern Ireland', 'Hong Kong, China': 'Hong Kong', 'Republic of Korea': 'Korea, Republic of', 'Bolivia':'Bolivia, Plurinational State of', 'Dominican Rep.': 'Dominican Republic', 'Venezuela': 'Venezuela, Bolivarian Republic of', 'Iran': 'Iran, Islamic Republic of', 'Syria': 'Syrian Arab Republic', 'Reunion': 'Réunion'}, inplace=True)"
   ]
  },
  {
   "cell_type": "code",
   "execution_count": 29,
   "id": "4c202782",
   "metadata": {},
   "outputs": [
    {
     "name": "stdout",
     "output_type": "stream",
     "text": [
      "Country(name='Afghanistan', alpha2='AF', alpha3='AFG', numeric='004', apolitical_name='Afghanistan')\n",
      "Country(name='Åland Islands', alpha2='AX', alpha3='ALA', numeric='248', apolitical_name='Åland Islands')\n",
      "Country(name='Albania', alpha2='AL', alpha3='ALB', numeric='008', apolitical_name='Albania')\n",
      "Country(name='Algeria', alpha2='DZ', alpha3='DZA', numeric='012', apolitical_name='Algeria')\n",
      "Country(name='American Samoa', alpha2='AS', alpha3='ASM', numeric='016', apolitical_name='American Samoa')\n",
      "Country(name='Andorra', alpha2='AD', alpha3='AND', numeric='020', apolitical_name='Andorra')\n",
      "Country(name='Angola', alpha2='AO', alpha3='AGO', numeric='024', apolitical_name='Angola')\n",
      "Country(name='Anguilla', alpha2='AI', alpha3='AIA', numeric='660', apolitical_name='Anguilla')\n",
      "Country(name='Antarctica', alpha2='AQ', alpha3='ATA', numeric='010', apolitical_name='Antarctica')\n",
      "Country(name='Antigua and Barbuda', alpha2='AG', alpha3='ATG', numeric='028', apolitical_name='Antigua and Barbuda')\n",
      "Country(name='Argentina', alpha2='AR', alpha3='ARG', numeric='032', apolitical_name='Argentina')\n",
      "Country(name='Armenia', alpha2='AM', alpha3='ARM', numeric='051', apolitical_name='Armenia')\n",
      "Country(name='Aruba', alpha2='AW', alpha3='ABW', numeric='533', apolitical_name='Aruba')\n",
      "Country(name='Australia', alpha2='AU', alpha3='AUS', numeric='036', apolitical_name='Australia')\n",
      "Country(name='Austria', alpha2='AT', alpha3='AUT', numeric='040', apolitical_name='Austria')\n",
      "Country(name='Azerbaijan', alpha2='AZ', alpha3='AZE', numeric='031', apolitical_name='Azerbaijan')\n",
      "Country(name='Bahamas', alpha2='BS', alpha3='BHS', numeric='044', apolitical_name='Bahamas')\n",
      "Country(name='Bahrain', alpha2='BH', alpha3='BHR', numeric='048', apolitical_name='Bahrain')\n",
      "Country(name='Bangladesh', alpha2='BD', alpha3='BGD', numeric='050', apolitical_name='Bangladesh')\n",
      "Country(name='Barbados', alpha2='BB', alpha3='BRB', numeric='052', apolitical_name='Barbados')\n",
      "Country(name='Belarus', alpha2='BY', alpha3='BLR', numeric='112', apolitical_name='Belarus')\n",
      "Country(name='Belgium', alpha2='BE', alpha3='BEL', numeric='056', apolitical_name='Belgium')\n",
      "Country(name='Belize', alpha2='BZ', alpha3='BLZ', numeric='084', apolitical_name='Belize')\n",
      "Country(name='Benin', alpha2='BJ', alpha3='BEN', numeric='204', apolitical_name='Benin')\n",
      "Country(name='Bermuda', alpha2='BM', alpha3='BMU', numeric='060', apolitical_name='Bermuda')\n",
      "Country(name='Bhutan', alpha2='BT', alpha3='BTN', numeric='064', apolitical_name='Bhutan')\n",
      "Country(name='Bolivia, Plurinational State of', alpha2='BO', alpha3='BOL', numeric='068', apolitical_name='Bolivia, Plurinational State of')\n",
      "Country(name='Bonaire, Sint Eustatius and Saba', alpha2='BQ', alpha3='BES', numeric='535', apolitical_name='Bonaire, Sint Eustatius and Saba')\n",
      "Country(name='Bosnia and Herzegovina', alpha2='BA', alpha3='BIH', numeric='070', apolitical_name='Bosnia and Herzegovina')\n",
      "Country(name='Botswana', alpha2='BW', alpha3='BWA', numeric='072', apolitical_name='Botswana')\n",
      "Country(name='Bouvet Island', alpha2='BV', alpha3='BVT', numeric='074', apolitical_name='Bouvet Island')\n",
      "Country(name='Brazil', alpha2='BR', alpha3='BRA', numeric='076', apolitical_name='Brazil')\n",
      "Country(name='British Indian Ocean Territory', alpha2='IO', alpha3='IOT', numeric='086', apolitical_name='British Indian Ocean Territory')\n",
      "Country(name='Brunei Darussalam', alpha2='BN', alpha3='BRN', numeric='096', apolitical_name='Brunei Darussalam')\n",
      "Country(name='Bulgaria', alpha2='BG', alpha3='BGR', numeric='100', apolitical_name='Bulgaria')\n",
      "Country(name='Burkina Faso', alpha2='BF', alpha3='BFA', numeric='854', apolitical_name='Burkina Faso')\n",
      "Country(name='Burundi', alpha2='BI', alpha3='BDI', numeric='108', apolitical_name='Burundi')\n",
      "Country(name='Cambodia', alpha2='KH', alpha3='KHM', numeric='116', apolitical_name='Cambodia')\n",
      "Country(name='Cameroon', alpha2='CM', alpha3='CMR', numeric='120', apolitical_name='Cameroon')\n",
      "Country(name='Canada', alpha2='CA', alpha3='CAN', numeric='124', apolitical_name='Canada')\n",
      "Country(name='Cabo Verde', alpha2='CV', alpha3='CPV', numeric='132', apolitical_name='Cabo Verde')\n",
      "Country(name='Cayman Islands', alpha2='KY', alpha3='CYM', numeric='136', apolitical_name='Cayman Islands')\n",
      "Country(name='Central African Republic', alpha2='CF', alpha3='CAF', numeric='140', apolitical_name='Central African Republic')\n",
      "Country(name='Chad', alpha2='TD', alpha3='TCD', numeric='148', apolitical_name='Chad')\n",
      "Country(name='Chile', alpha2='CL', alpha3='CHL', numeric='152', apolitical_name='Chile')\n",
      "Country(name='China', alpha2='CN', alpha3='CHN', numeric='156', apolitical_name='China')\n",
      "Country(name='Christmas Island', alpha2='CX', alpha3='CXR', numeric='162', apolitical_name='Christmas Island')\n",
      "Country(name='Cocos (Keeling) Islands', alpha2='CC', alpha3='CCK', numeric='166', apolitical_name='Cocos (Keeling) Islands')\n",
      "Country(name='Colombia', alpha2='CO', alpha3='COL', numeric='170', apolitical_name='Colombia')\n",
      "Country(name='Comoros', alpha2='KM', alpha3='COM', numeric='174', apolitical_name='Comoros')\n",
      "Country(name='Congo', alpha2='CG', alpha3='COG', numeric='178', apolitical_name='Congo')\n",
      "Country(name='Congo, Democratic Republic of the', alpha2='CD', alpha3='COD', numeric='180', apolitical_name='Congo, Democratic Republic of the')\n",
      "Country(name='Cook Islands', alpha2='CK', alpha3='COK', numeric='184', apolitical_name='Cook Islands')\n",
      "Country(name='Costa Rica', alpha2='CR', alpha3='CRI', numeric='188', apolitical_name='Costa Rica')\n",
      "Country(name=\"Côte d'Ivoire\", alpha2='CI', alpha3='CIV', numeric='384', apolitical_name=\"Côte d'Ivoire\")\n",
      "Country(name='Croatia', alpha2='HR', alpha3='HRV', numeric='191', apolitical_name='Croatia')\n",
      "Country(name='Cuba', alpha2='CU', alpha3='CUB', numeric='192', apolitical_name='Cuba')\n",
      "Country(name='Curaçao', alpha2='CW', alpha3='CUW', numeric='531', apolitical_name='Curaçao')\n",
      "Country(name='Cyprus', alpha2='CY', alpha3='CYP', numeric='196', apolitical_name='Cyprus')\n",
      "Country(name='Czechia', alpha2='CZ', alpha3='CZE', numeric='203', apolitical_name='Czechia')\n",
      "Country(name='Denmark', alpha2='DK', alpha3='DNK', numeric='208', apolitical_name='Denmark')\n",
      "Country(name='Djibouti', alpha2='DJ', alpha3='DJI', numeric='262', apolitical_name='Djibouti')\n",
      "Country(name='Dominica', alpha2='DM', alpha3='DMA', numeric='212', apolitical_name='Dominica')\n",
      "Country(name='Dominican Republic', alpha2='DO', alpha3='DOM', numeric='214', apolitical_name='Dominican Republic')\n",
      "Country(name='Ecuador', alpha2='EC', alpha3='ECU', numeric='218', apolitical_name='Ecuador')\n",
      "Country(name='Egypt', alpha2='EG', alpha3='EGY', numeric='818', apolitical_name='Egypt')\n",
      "Country(name='El Salvador', alpha2='SV', alpha3='SLV', numeric='222', apolitical_name='El Salvador')\n",
      "Country(name='Equatorial Guinea', alpha2='GQ', alpha3='GNQ', numeric='226', apolitical_name='Equatorial Guinea')\n",
      "Country(name='Eritrea', alpha2='ER', alpha3='ERI', numeric='232', apolitical_name='Eritrea')\n",
      "Country(name='Estonia', alpha2='EE', alpha3='EST', numeric='233', apolitical_name='Estonia')\n",
      "Country(name='Ethiopia', alpha2='ET', alpha3='ETH', numeric='231', apolitical_name='Ethiopia')\n",
      "Country(name='Falkland Islands (Malvinas)', alpha2='FK', alpha3='FLK', numeric='238', apolitical_name='Falkland Islands (Malvinas)')\n",
      "Country(name='Faroe Islands', alpha2='FO', alpha3='FRO', numeric='234', apolitical_name='Faroe Islands')\n",
      "Country(name='Fiji', alpha2='FJ', alpha3='FJI', numeric='242', apolitical_name='Fiji')\n",
      "Country(name='Finland', alpha2='FI', alpha3='FIN', numeric='246', apolitical_name='Finland')\n",
      "Country(name='France', alpha2='FR', alpha3='FRA', numeric='250', apolitical_name='France')\n",
      "Country(name='French Guiana', alpha2='GF', alpha3='GUF', numeric='254', apolitical_name='French Guiana')\n",
      "Country(name='French Polynesia', alpha2='PF', alpha3='PYF', numeric='258', apolitical_name='French Polynesia')\n",
      "Country(name='French Southern Territories', alpha2='TF', alpha3='ATF', numeric='260', apolitical_name='French Southern Territories')\n",
      "Country(name='Gabon', alpha2='GA', alpha3='GAB', numeric='266', apolitical_name='Gabon')\n",
      "Country(name='Gambia', alpha2='GM', alpha3='GMB', numeric='270', apolitical_name='Gambia')\n",
      "Country(name='Georgia', alpha2='GE', alpha3='GEO', numeric='268', apolitical_name='Georgia')\n",
      "Country(name='Germany', alpha2='DE', alpha3='DEU', numeric='276', apolitical_name='Germany')\n",
      "Country(name='Ghana', alpha2='GH', alpha3='GHA', numeric='288', apolitical_name='Ghana')\n",
      "Country(name='Gibraltar', alpha2='GI', alpha3='GIB', numeric='292', apolitical_name='Gibraltar')\n",
      "Country(name='Greece', alpha2='GR', alpha3='GRC', numeric='300', apolitical_name='Greece')\n",
      "Country(name='Greenland', alpha2='GL', alpha3='GRL', numeric='304', apolitical_name='Greenland')\n",
      "Country(name='Grenada', alpha2='GD', alpha3='GRD', numeric='308', apolitical_name='Grenada')\n",
      "Country(name='Guadeloupe', alpha2='GP', alpha3='GLP', numeric='312', apolitical_name='Guadeloupe')\n",
      "Country(name='Guam', alpha2='GU', alpha3='GUM', numeric='316', apolitical_name='Guam')\n",
      "Country(name='Guatemala', alpha2='GT', alpha3='GTM', numeric='320', apolitical_name='Guatemala')\n",
      "Country(name='Guernsey', alpha2='GG', alpha3='GGY', numeric='831', apolitical_name='Guernsey')\n",
      "Country(name='Guinea', alpha2='GN', alpha3='GIN', numeric='324', apolitical_name='Guinea')\n",
      "Country(name='Guinea-Bissau', alpha2='GW', alpha3='GNB', numeric='624', apolitical_name='Guinea-Bissau')\n",
      "Country(name='Guyana', alpha2='GY', alpha3='GUY', numeric='328', apolitical_name='Guyana')\n",
      "Country(name='Haiti', alpha2='HT', alpha3='HTI', numeric='332', apolitical_name='Haiti')\n",
      "Country(name='Heard Island and McDonald Islands', alpha2='HM', alpha3='HMD', numeric='334', apolitical_name='Heard Island and McDonald Islands')\n",
      "Country(name='Holy See', alpha2='VA', alpha3='VAT', numeric='336', apolitical_name='Holy See')\n",
      "Country(name='Honduras', alpha2='HN', alpha3='HND', numeric='340', apolitical_name='Honduras')\n",
      "Country(name='Hong Kong', alpha2='HK', alpha3='HKG', numeric='344', apolitical_name='Hong Kong')\n",
      "Country(name='Hungary', alpha2='HU', alpha3='HUN', numeric='348', apolitical_name='Hungary')\n",
      "Country(name='Iceland', alpha2='IS', alpha3='ISL', numeric='352', apolitical_name='Iceland')\n",
      "Country(name='India', alpha2='IN', alpha3='IND', numeric='356', apolitical_name='India')\n",
      "Country(name='Indonesia', alpha2='ID', alpha3='IDN', numeric='360', apolitical_name='Indonesia')\n",
      "Country(name='Iran, Islamic Republic of', alpha2='IR', alpha3='IRN', numeric='364', apolitical_name='Iran, Islamic Republic of')\n",
      "Country(name='Iraq', alpha2='IQ', alpha3='IRQ', numeric='368', apolitical_name='Iraq')\n",
      "Country(name='Ireland', alpha2='IE', alpha3='IRL', numeric='372', apolitical_name='Ireland')\n",
      "Country(name='Isle of Man', alpha2='IM', alpha3='IMN', numeric='833', apolitical_name='Isle of Man')\n",
      "Country(name='Israel', alpha2='IL', alpha3='ISR', numeric='376', apolitical_name='Israel')\n",
      "Country(name='Italy', alpha2='IT', alpha3='ITA', numeric='380', apolitical_name='Italy')\n",
      "Country(name='Jamaica', alpha2='JM', alpha3='JAM', numeric='388', apolitical_name='Jamaica')\n",
      "Country(name='Japan', alpha2='JP', alpha3='JPN', numeric='392', apolitical_name='Japan')\n",
      "Country(name='Jersey', alpha2='JE', alpha3='JEY', numeric='832', apolitical_name='Jersey')\n",
      "Country(name='Jordan', alpha2='JO', alpha3='JOR', numeric='400', apolitical_name='Jordan')\n",
      "Country(name='Kazakhstan', alpha2='KZ', alpha3='KAZ', numeric='398', apolitical_name='Kazakhstan')\n",
      "Country(name='Kenya', alpha2='KE', alpha3='KEN', numeric='404', apolitical_name='Kenya')\n",
      "Country(name='Kiribati', alpha2='KI', alpha3='KIR', numeric='296', apolitical_name='Kiribati')\n",
      "Country(name=\"Korea, Democratic People's Republic of\", alpha2='KP', alpha3='PRK', numeric='408', apolitical_name=\"Korea, Democratic People's Republic of\")\n",
      "Country(name='Korea, Republic of', alpha2='KR', alpha3='KOR', numeric='410', apolitical_name='Korea, Republic of')\n",
      "Country(name='Kosovo', alpha2='XK', alpha3='XKX', numeric='983', apolitical_name='Kosovo')\n",
      "Country(name='Kuwait', alpha2='KW', alpha3='KWT', numeric='414', apolitical_name='Kuwait')\n",
      "Country(name='Kyrgyzstan', alpha2='KG', alpha3='KGZ', numeric='417', apolitical_name='Kyrgyzstan')\n",
      "Country(name=\"Lao People's Democratic Republic\", alpha2='LA', alpha3='LAO', numeric='418', apolitical_name=\"Lao People's Democratic Republic\")\n",
      "Country(name='Latvia', alpha2='LV', alpha3='LVA', numeric='428', apolitical_name='Latvia')\n",
      "Country(name='Lebanon', alpha2='LB', alpha3='LBN', numeric='422', apolitical_name='Lebanon')\n",
      "Country(name='Lesotho', alpha2='LS', alpha3='LSO', numeric='426', apolitical_name='Lesotho')\n",
      "Country(name='Liberia', alpha2='LR', alpha3='LBR', numeric='430', apolitical_name='Liberia')\n",
      "Country(name='Libya', alpha2='LY', alpha3='LBY', numeric='434', apolitical_name='Libya')\n",
      "Country(name='Liechtenstein', alpha2='LI', alpha3='LIE', numeric='438', apolitical_name='Liechtenstein')\n",
      "Country(name='Lithuania', alpha2='LT', alpha3='LTU', numeric='440', apolitical_name='Lithuania')\n",
      "Country(name='Luxembourg', alpha2='LU', alpha3='LUX', numeric='442', apolitical_name='Luxembourg')\n",
      "Country(name='Macao', alpha2='MO', alpha3='MAC', numeric='446', apolitical_name='Macao')\n",
      "Country(name='North Macedonia', alpha2='MK', alpha3='MKD', numeric='807', apolitical_name='North Macedonia')\n",
      "Country(name='Madagascar', alpha2='MG', alpha3='MDG', numeric='450', apolitical_name='Madagascar')\n",
      "Country(name='Malawi', alpha2='MW', alpha3='MWI', numeric='454', apolitical_name='Malawi')\n",
      "Country(name='Malaysia', alpha2='MY', alpha3='MYS', numeric='458', apolitical_name='Malaysia')\n",
      "Country(name='Maldives', alpha2='MV', alpha3='MDV', numeric='462', apolitical_name='Maldives')\n",
      "Country(name='Mali', alpha2='ML', alpha3='MLI', numeric='466', apolitical_name='Mali')\n",
      "Country(name='Malta', alpha2='MT', alpha3='MLT', numeric='470', apolitical_name='Malta')\n",
      "Country(name='Marshall Islands', alpha2='MH', alpha3='MHL', numeric='584', apolitical_name='Marshall Islands')\n",
      "Country(name='Martinique', alpha2='MQ', alpha3='MTQ', numeric='474', apolitical_name='Martinique')\n",
      "Country(name='Mauritania', alpha2='MR', alpha3='MRT', numeric='478', apolitical_name='Mauritania')\n",
      "Country(name='Mauritius', alpha2='MU', alpha3='MUS', numeric='480', apolitical_name='Mauritius')\n",
      "Country(name='Mayotte', alpha2='YT', alpha3='MYT', numeric='175', apolitical_name='Mayotte')\n",
      "Country(name='Mexico', alpha2='MX', alpha3='MEX', numeric='484', apolitical_name='Mexico')\n",
      "Country(name='Micronesia, Federated States of', alpha2='FM', alpha3='FSM', numeric='583', apolitical_name='Micronesia, Federated States of')\n",
      "Country(name='Moldova, Republic of', alpha2='MD', alpha3='MDA', numeric='498', apolitical_name='Moldova, Republic of')\n",
      "Country(name='Monaco', alpha2='MC', alpha3='MCO', numeric='492', apolitical_name='Monaco')\n",
      "Country(name='Mongolia', alpha2='MN', alpha3='MNG', numeric='496', apolitical_name='Mongolia')\n",
      "Country(name='Montenegro', alpha2='ME', alpha3='MNE', numeric='499', apolitical_name='Montenegro')\n",
      "Country(name='Montserrat', alpha2='MS', alpha3='MSR', numeric='500', apolitical_name='Montserrat')\n",
      "Country(name='Morocco', alpha2='MA', alpha3='MAR', numeric='504', apolitical_name='Morocco')\n",
      "Country(name='Mozambique', alpha2='MZ', alpha3='MOZ', numeric='508', apolitical_name='Mozambique')\n",
      "Country(name='Myanmar', alpha2='MM', alpha3='MMR', numeric='104', apolitical_name='Myanmar')\n",
      "Country(name='Namibia', alpha2='NA', alpha3='NAM', numeric='516', apolitical_name='Namibia')\n",
      "Country(name='Nauru', alpha2='NR', alpha3='NRU', numeric='520', apolitical_name='Nauru')\n",
      "Country(name='Nepal', alpha2='NP', alpha3='NPL', numeric='524', apolitical_name='Nepal')\n",
      "Country(name='Netherlands', alpha2='NL', alpha3='NLD', numeric='528', apolitical_name='Netherlands')\n",
      "Country(name='New Caledonia', alpha2='NC', alpha3='NCL', numeric='540', apolitical_name='New Caledonia')\n",
      "Country(name='New Zealand', alpha2='NZ', alpha3='NZL', numeric='554', apolitical_name='New Zealand')\n",
      "Country(name='Nicaragua', alpha2='NI', alpha3='NIC', numeric='558', apolitical_name='Nicaragua')\n",
      "Country(name='Niger', alpha2='NE', alpha3='NER', numeric='562', apolitical_name='Niger')\n",
      "Country(name='Nigeria', alpha2='NG', alpha3='NGA', numeric='566', apolitical_name='Nigeria')\n",
      "Country(name='Niue', alpha2='NU', alpha3='NIU', numeric='570', apolitical_name='Niue')\n",
      "Country(name='Norfolk Island', alpha2='NF', alpha3='NFK', numeric='574', apolitical_name='Norfolk Island')\n",
      "Country(name='Northern Mariana Islands', alpha2='MP', alpha3='MNP', numeric='580', apolitical_name='Northern Mariana Islands')\n",
      "Country(name='Norway', alpha2='NO', alpha3='NOR', numeric='578', apolitical_name='Norway')\n",
      "Country(name='Oman', alpha2='OM', alpha3='OMN', numeric='512', apolitical_name='Oman')\n",
      "Country(name='Pakistan', alpha2='PK', alpha3='PAK', numeric='586', apolitical_name='Pakistan')\n",
      "Country(name='Palau', alpha2='PW', alpha3='PLW', numeric='585', apolitical_name='Palau')\n",
      "Country(name='Palestine, State of', alpha2='PS', alpha3='PSE', numeric='275', apolitical_name='Palestine')\n",
      "Country(name='Panama', alpha2='PA', alpha3='PAN', numeric='591', apolitical_name='Panama')\n",
      "Country(name='Papua New Guinea', alpha2='PG', alpha3='PNG', numeric='598', apolitical_name='Papua New Guinea')\n",
      "Country(name='Paraguay', alpha2='PY', alpha3='PRY', numeric='600', apolitical_name='Paraguay')\n",
      "Country(name='Peru', alpha2='PE', alpha3='PER', numeric='604', apolitical_name='Peru')\n",
      "Country(name='Philippines', alpha2='PH', alpha3='PHL', numeric='608', apolitical_name='Philippines')\n",
      "Country(name='Pitcairn', alpha2='PN', alpha3='PCN', numeric='612', apolitical_name='Pitcairn')\n",
      "Country(name='Poland', alpha2='PL', alpha3='POL', numeric='616', apolitical_name='Poland')\n",
      "Country(name='Portugal', alpha2='PT', alpha3='PRT', numeric='620', apolitical_name='Portugal')\n",
      "Country(name='Puerto Rico', alpha2='PR', alpha3='PRI', numeric='630', apolitical_name='Puerto Rico')\n",
      "Country(name='Qatar', alpha2='QA', alpha3='QAT', numeric='634', apolitical_name='Qatar')\n",
      "Country(name='Réunion', alpha2='RE', alpha3='REU', numeric='638', apolitical_name='Réunion')\n",
      "Country(name='Romania', alpha2='RO', alpha3='ROU', numeric='642', apolitical_name='Romania')\n",
      "Country(name='Russian Federation', alpha2='RU', alpha3='RUS', numeric='643', apolitical_name='Russian Federation')\n",
      "Country(name='Rwanda', alpha2='RW', alpha3='RWA', numeric='646', apolitical_name='Rwanda')\n",
      "Country(name='Saint Barthélemy', alpha2='BL', alpha3='BLM', numeric='652', apolitical_name='Saint Barthélemy')\n",
      "Country(name='Saint Helena, Ascension and Tristan da Cunha', alpha2='SH', alpha3='SHN', numeric='654', apolitical_name='Saint Helena, Ascension and Tristan da Cunha')\n",
      "Country(name='Saint Kitts and Nevis', alpha2='KN', alpha3='KNA', numeric='659', apolitical_name='Saint Kitts and Nevis')\n",
      "Country(name='Saint Lucia', alpha2='LC', alpha3='LCA', numeric='662', apolitical_name='Saint Lucia')\n",
      "Country(name='Saint Martin (French part)', alpha2='MF', alpha3='MAF', numeric='663', apolitical_name='Saint Martin (French part)')\n",
      "Country(name='Saint Pierre and Miquelon', alpha2='PM', alpha3='SPM', numeric='666', apolitical_name='Saint Pierre and Miquelon')\n",
      "Country(name='Saint Vincent and the Grenadines', alpha2='VC', alpha3='VCT', numeric='670', apolitical_name='Saint Vincent and the Grenadines')\n",
      "Country(name='Samoa', alpha2='WS', alpha3='WSM', numeric='882', apolitical_name='Samoa')\n",
      "Country(name='San Marino', alpha2='SM', alpha3='SMR', numeric='674', apolitical_name='San Marino')\n",
      "Country(name='Sao Tome and Principe', alpha2='ST', alpha3='STP', numeric='678', apolitical_name='Sao Tome and Principe')\n",
      "Country(name='Saudi Arabia', alpha2='SA', alpha3='SAU', numeric='682', apolitical_name='Saudi Arabia')\n",
      "Country(name='Senegal', alpha2='SN', alpha3='SEN', numeric='686', apolitical_name='Senegal')\n",
      "Country(name='Serbia', alpha2='RS', alpha3='SRB', numeric='688', apolitical_name='Serbia')\n",
      "Country(name='Seychelles', alpha2='SC', alpha3='SYC', numeric='690', apolitical_name='Seychelles')\n",
      "Country(name='Sierra Leone', alpha2='SL', alpha3='SLE', numeric='694', apolitical_name='Sierra Leone')\n",
      "Country(name='Singapore', alpha2='SG', alpha3='SGP', numeric='702', apolitical_name='Singapore')\n",
      "Country(name='Sint Maarten (Dutch part)', alpha2='SX', alpha3='SXM', numeric='534', apolitical_name='Sint Maarten (Dutch part)')\n",
      "Country(name='Slovakia', alpha2='SK', alpha3='SVK', numeric='703', apolitical_name='Slovakia')\n",
      "Country(name='Slovenia', alpha2='SI', alpha3='SVN', numeric='705', apolitical_name='Slovenia')\n",
      "Country(name='Solomon Islands', alpha2='SB', alpha3='SLB', numeric='090', apolitical_name='Solomon Islands')\n",
      "Country(name='Somalia', alpha2='SO', alpha3='SOM', numeric='706', apolitical_name='Somalia')\n",
      "Country(name='South Africa', alpha2='ZA', alpha3='ZAF', numeric='710', apolitical_name='South Africa')\n",
      "Country(name='South Georgia and the South Sandwich Islands', alpha2='GS', alpha3='SGS', numeric='239', apolitical_name='South Georgia and the South Sandwich Islands')\n",
      "Country(name='South Sudan', alpha2='SS', alpha3='SSD', numeric='728', apolitical_name='South Sudan')\n",
      "Country(name='Spain', alpha2='ES', alpha3='ESP', numeric='724', apolitical_name='Spain')\n",
      "Country(name='Sri Lanka', alpha2='LK', alpha3='LKA', numeric='144', apolitical_name='Sri Lanka')\n",
      "Country(name='Sudan', alpha2='SD', alpha3='SDN', numeric='729', apolitical_name='Sudan')\n",
      "Country(name='Suriname', alpha2='SR', alpha3='SUR', numeric='740', apolitical_name='Suriname')\n",
      "Country(name='Svalbard and Jan Mayen', alpha2='SJ', alpha3='SJM', numeric='744', apolitical_name='Svalbard and Jan Mayen')\n",
      "Country(name='Eswatini', alpha2='SZ', alpha3='SWZ', numeric='748', apolitical_name='Eswatini')\n",
      "Country(name='Sweden', alpha2='SE', alpha3='SWE', numeric='752', apolitical_name='Sweden')\n",
      "Country(name='Switzerland', alpha2='CH', alpha3='CHE', numeric='756', apolitical_name='Switzerland')\n",
      "Country(name='Syrian Arab Republic', alpha2='SY', alpha3='SYR', numeric='760', apolitical_name='Syrian Arab Republic')\n",
      "Country(name='Taiwan, Province of China', alpha2='TW', alpha3='TWN', numeric='158', apolitical_name='Taiwan')\n",
      "Country(name='Tajikistan', alpha2='TJ', alpha3='TJK', numeric='762', apolitical_name='Tajikistan')\n",
      "Country(name='Tanzania, United Republic of', alpha2='TZ', alpha3='TZA', numeric='834', apolitical_name='Tanzania, United Republic of')\n",
      "Country(name='Thailand', alpha2='TH', alpha3='THA', numeric='764', apolitical_name='Thailand')\n",
      "Country(name='Timor-Leste', alpha2='TL', alpha3='TLS', numeric='626', apolitical_name='Timor-Leste')\n",
      "Country(name='Togo', alpha2='TG', alpha3='TGO', numeric='768', apolitical_name='Togo')\n",
      "Country(name='Tokelau', alpha2='TK', alpha3='TKL', numeric='772', apolitical_name='Tokelau')\n",
      "Country(name='Tonga', alpha2='TO', alpha3='TON', numeric='776', apolitical_name='Tonga')\n",
      "Country(name='Trinidad and Tobago', alpha2='TT', alpha3='TTO', numeric='780', apolitical_name='Trinidad and Tobago')\n",
      "Country(name='Tunisia', alpha2='TN', alpha3='TUN', numeric='788', apolitical_name='Tunisia')\n",
      "Country(name='Türkiye', alpha2='TR', alpha3='TUR', numeric='792', apolitical_name='Türkiye')\n",
      "Country(name='Turkmenistan', alpha2='TM', alpha3='TKM', numeric='795', apolitical_name='Turkmenistan')\n",
      "Country(name='Turks and Caicos Islands', alpha2='TC', alpha3='TCA', numeric='796', apolitical_name='Turks and Caicos Islands')\n",
      "Country(name='Tuvalu', alpha2='TV', alpha3='TUV', numeric='798', apolitical_name='Tuvalu')\n",
      "Country(name='Uganda', alpha2='UG', alpha3='UGA', numeric='800', apolitical_name='Uganda')\n",
      "Country(name='Ukraine', alpha2='UA', alpha3='UKR', numeric='804', apolitical_name='Ukraine')\n",
      "Country(name='United Arab Emirates', alpha2='AE', alpha3='ARE', numeric='784', apolitical_name='United Arab Emirates')\n",
      "Country(name='United Kingdom of Great Britain and Northern Ireland', alpha2='GB', alpha3='GBR', numeric='826', apolitical_name='United Kingdom of Great Britain and Northern Ireland')\n",
      "Country(name='United States of America', alpha2='US', alpha3='USA', numeric='840', apolitical_name='United States of America')\n",
      "Country(name='United States Minor Outlying Islands', alpha2='UM', alpha3='UMI', numeric='581', apolitical_name='United States Minor Outlying Islands')\n",
      "Country(name='Uruguay', alpha2='UY', alpha3='URY', numeric='858', apolitical_name='Uruguay')\n",
      "Country(name='Uzbekistan', alpha2='UZ', alpha3='UZB', numeric='860', apolitical_name='Uzbekistan')\n",
      "Country(name='Vanuatu', alpha2='VU', alpha3='VUT', numeric='548', apolitical_name='Vanuatu')\n",
      "Country(name='Venezuela, Bolivarian Republic of', alpha2='VE', alpha3='VEN', numeric='862', apolitical_name='Venezuela, Bolivarian Republic of')\n",
      "Country(name='Viet Nam', alpha2='VN', alpha3='VNM', numeric='704', apolitical_name='Viet Nam')\n",
      "Country(name='Virgin Islands, British', alpha2='VG', alpha3='VGB', numeric='092', apolitical_name='Virgin Islands, British')\n",
      "Country(name='Virgin Islands, U.S.', alpha2='VI', alpha3='VIR', numeric='850', apolitical_name='Virgin Islands, U.S.')\n",
      "Country(name='Wallis and Futuna', alpha2='WF', alpha3='WLF', numeric='876', apolitical_name='Wallis and Futuna')\n",
      "Country(name='Western Sahara', alpha2='EH', alpha3='ESH', numeric='732', apolitical_name='Western Sahara')\n",
      "Country(name='Yemen', alpha2='YE', alpha3='YEM', numeric='887', apolitical_name='Yemen')\n",
      "Country(name='Zambia', alpha2='ZM', alpha3='ZMB', numeric='894', apolitical_name='Zambia')\n",
      "Country(name='Zimbabwe', alpha2='ZW', alpha3='ZWE', numeric='716', apolitical_name='Zimbabwe')\n"
     ]
    }
   ],
   "source": [
    "from iso3166 import countries\n",
    "for c in countries:\n",
    "    print(c)"
   ]
  },
  {
   "cell_type": "code",
   "execution_count": 57,
   "id": "86248f14",
   "metadata": {},
   "outputs": [],
   "source": [
    "from iso3166 import countries\n",
    "from numpy import NaN\n",
    "\n",
    "country_names =[]\n",
    "for country_name in df2['country']:\n",
    "    try:\n",
    "        c_name = countries.get(country_name)\n",
    "        country_names.append(c_name[2])\n",
    "    except:\n",
    "        country_names.append(NaN)\n"
   ]
  },
  {
   "cell_type": "code",
   "execution_count": 58,
   "id": "db431aeb",
   "metadata": {},
   "outputs": [
    {
     "data": {
      "text/plain": [
       "2581"
      ]
     },
     "execution_count": 58,
     "metadata": {},
     "output_type": "execute_result"
    }
   ],
   "source": [
    "len(country_names)"
   ]
  },
  {
   "cell_type": "code",
   "execution_count": 59,
   "id": "95c16032",
   "metadata": {},
   "outputs": [],
   "source": [
    "df2['iso_alpha'] = country_names"
   ]
  },
  {
   "cell_type": "code",
   "execution_count": 60,
   "id": "eab1bc7c",
   "metadata": {},
   "outputs": [
    {
     "data": {
      "text/html": [
       "<div>\n",
       "<style scoped>\n",
       "    .dataframe tbody tr th:only-of-type {\n",
       "        vertical-align: middle;\n",
       "    }\n",
       "\n",
       "    .dataframe tbody tr th {\n",
       "        vertical-align: top;\n",
       "    }\n",
       "\n",
       "    .dataframe thead th {\n",
       "        text-align: right;\n",
       "    }\n",
       "</style>\n",
       "<table border=\"1\" class=\"dataframe\">\n",
       "  <thead>\n",
       "    <tr style=\"text-align: right;\">\n",
       "      <th></th>\n",
       "      <th>country</th>\n",
       "      <th>year</th>\n",
       "      <th>no_schooling</th>\n",
       "      <th>total_primary</th>\n",
       "      <th>completed_primary</th>\n",
       "      <th>total_secondary</th>\n",
       "      <th>completed_secondary</th>\n",
       "      <th>total_tertiary</th>\n",
       "      <th>completed_tertiary</th>\n",
       "      <th>avg_years_total_schooling</th>\n",
       "      <th>avg_years_primary_schooling</th>\n",
       "      <th>avg_years_secondary_schooling</th>\n",
       "      <th>avg_years_tertiary_schooling</th>\n",
       "      <th>population_1000s</th>\n",
       "      <th>region</th>\n",
       "      <th>iso_alpha</th>\n",
       "    </tr>\n",
       "  </thead>\n",
       "  <tbody>\n",
       "    <tr>\n",
       "      <th>2442</th>\n",
       "      <td>Cote dIvoire</td>\n",
       "      <td>1870</td>\n",
       "      <td>97.4</td>\n",
       "      <td>2.6</td>\n",
       "      <td>0.7</td>\n",
       "      <td>0.0</td>\n",
       "      <td>0.0</td>\n",
       "      <td>0.0</td>\n",
       "      <td>0.0</td>\n",
       "      <td>0.10</td>\n",
       "      <td>0.10</td>\n",
       "      <td>0.00</td>\n",
       "      <td>0.00</td>\n",
       "      <td>120.0</td>\n",
       "      <td>Sub-Saharan Africa</td>\n",
       "      <td>NaN</td>\n",
       "    </tr>\n",
       "    <tr>\n",
       "      <th>2443</th>\n",
       "      <td>Cote dIvoire</td>\n",
       "      <td>1875</td>\n",
       "      <td>97.1</td>\n",
       "      <td>2.9</td>\n",
       "      <td>0.8</td>\n",
       "      <td>0.0</td>\n",
       "      <td>0.0</td>\n",
       "      <td>0.0</td>\n",
       "      <td>0.0</td>\n",
       "      <td>0.12</td>\n",
       "      <td>0.11</td>\n",
       "      <td>0.00</td>\n",
       "      <td>0.00</td>\n",
       "      <td>143.0</td>\n",
       "      <td>Sub-Saharan Africa</td>\n",
       "      <td>NaN</td>\n",
       "    </tr>\n",
       "    <tr>\n",
       "      <th>2444</th>\n",
       "      <td>Cote dIvoire</td>\n",
       "      <td>1880</td>\n",
       "      <td>96.7</td>\n",
       "      <td>3.3</td>\n",
       "      <td>0.9</td>\n",
       "      <td>0.0</td>\n",
       "      <td>0.0</td>\n",
       "      <td>0.0</td>\n",
       "      <td>0.0</td>\n",
       "      <td>0.13</td>\n",
       "      <td>0.13</td>\n",
       "      <td>0.00</td>\n",
       "      <td>0.00</td>\n",
       "      <td>167.0</td>\n",
       "      <td>Sub-Saharan Africa</td>\n",
       "      <td>NaN</td>\n",
       "    </tr>\n",
       "    <tr>\n",
       "      <th>2445</th>\n",
       "      <td>Cote dIvoire</td>\n",
       "      <td>1885</td>\n",
       "      <td>96.3</td>\n",
       "      <td>3.7</td>\n",
       "      <td>1.0</td>\n",
       "      <td>0.0</td>\n",
       "      <td>0.0</td>\n",
       "      <td>0.0</td>\n",
       "      <td>0.0</td>\n",
       "      <td>0.15</td>\n",
       "      <td>0.15</td>\n",
       "      <td>0.00</td>\n",
       "      <td>0.00</td>\n",
       "      <td>199.0</td>\n",
       "      <td>Sub-Saharan Africa</td>\n",
       "      <td>NaN</td>\n",
       "    </tr>\n",
       "    <tr>\n",
       "      <th>2446</th>\n",
       "      <td>Cote dIvoire</td>\n",
       "      <td>1890</td>\n",
       "      <td>95.8</td>\n",
       "      <td>4.2</td>\n",
       "      <td>1.2</td>\n",
       "      <td>0.0</td>\n",
       "      <td>0.0</td>\n",
       "      <td>0.0</td>\n",
       "      <td>0.0</td>\n",
       "      <td>0.17</td>\n",
       "      <td>0.16</td>\n",
       "      <td>0.00</td>\n",
       "      <td>0.00</td>\n",
       "      <td>231.0</td>\n",
       "      <td>Sub-Saharan Africa</td>\n",
       "      <td>NaN</td>\n",
       "    </tr>\n",
       "    <tr>\n",
       "      <th>2447</th>\n",
       "      <td>Cote dIvoire</td>\n",
       "      <td>1895</td>\n",
       "      <td>95.3</td>\n",
       "      <td>4.7</td>\n",
       "      <td>1.4</td>\n",
       "      <td>0.0</td>\n",
       "      <td>0.0</td>\n",
       "      <td>0.0</td>\n",
       "      <td>0.0</td>\n",
       "      <td>0.19</td>\n",
       "      <td>0.19</td>\n",
       "      <td>0.00</td>\n",
       "      <td>0.00</td>\n",
       "      <td>275.0</td>\n",
       "      <td>Sub-Saharan Africa</td>\n",
       "      <td>NaN</td>\n",
       "    </tr>\n",
       "    <tr>\n",
       "      <th>2448</th>\n",
       "      <td>Cote dIvoire</td>\n",
       "      <td>1900</td>\n",
       "      <td>94.6</td>\n",
       "      <td>5.4</td>\n",
       "      <td>1.6</td>\n",
       "      <td>0.0</td>\n",
       "      <td>0.0</td>\n",
       "      <td>0.0</td>\n",
       "      <td>0.0</td>\n",
       "      <td>0.22</td>\n",
       "      <td>0.21</td>\n",
       "      <td>0.00</td>\n",
       "      <td>0.00</td>\n",
       "      <td>320.0</td>\n",
       "      <td>Sub-Saharan Africa</td>\n",
       "      <td>NaN</td>\n",
       "    </tr>\n",
       "    <tr>\n",
       "      <th>2449</th>\n",
       "      <td>Cote dIvoire</td>\n",
       "      <td>1905</td>\n",
       "      <td>94.0</td>\n",
       "      <td>6.0</td>\n",
       "      <td>1.8</td>\n",
       "      <td>0.0</td>\n",
       "      <td>0.0</td>\n",
       "      <td>0.0</td>\n",
       "      <td>0.0</td>\n",
       "      <td>0.24</td>\n",
       "      <td>0.24</td>\n",
       "      <td>0.00</td>\n",
       "      <td>0.00</td>\n",
       "      <td>382.0</td>\n",
       "      <td>Sub-Saharan Africa</td>\n",
       "      <td>NaN</td>\n",
       "    </tr>\n",
       "    <tr>\n",
       "      <th>2450</th>\n",
       "      <td>Cote dIvoire</td>\n",
       "      <td>1910</td>\n",
       "      <td>93.2</td>\n",
       "      <td>6.8</td>\n",
       "      <td>2.1</td>\n",
       "      <td>0.1</td>\n",
       "      <td>0.0</td>\n",
       "      <td>0.0</td>\n",
       "      <td>0.0</td>\n",
       "      <td>0.28</td>\n",
       "      <td>0.27</td>\n",
       "      <td>0.00</td>\n",
       "      <td>0.00</td>\n",
       "      <td>443.0</td>\n",
       "      <td>Sub-Saharan Africa</td>\n",
       "      <td>NaN</td>\n",
       "    </tr>\n",
       "    <tr>\n",
       "      <th>2451</th>\n",
       "      <td>Cote dIvoire</td>\n",
       "      <td>1915</td>\n",
       "      <td>92.4</td>\n",
       "      <td>7.6</td>\n",
       "      <td>2.4</td>\n",
       "      <td>0.1</td>\n",
       "      <td>0.0</td>\n",
       "      <td>0.0</td>\n",
       "      <td>0.0</td>\n",
       "      <td>0.31</td>\n",
       "      <td>0.31</td>\n",
       "      <td>0.01</td>\n",
       "      <td>0.00</td>\n",
       "      <td>516.0</td>\n",
       "      <td>Sub-Saharan Africa</td>\n",
       "      <td>NaN</td>\n",
       "    </tr>\n",
       "    <tr>\n",
       "      <th>2452</th>\n",
       "      <td>Cote dIvoire</td>\n",
       "      <td>1920</td>\n",
       "      <td>91.4</td>\n",
       "      <td>8.6</td>\n",
       "      <td>2.7</td>\n",
       "      <td>0.1</td>\n",
       "      <td>0.0</td>\n",
       "      <td>0.0</td>\n",
       "      <td>0.0</td>\n",
       "      <td>0.35</td>\n",
       "      <td>0.35</td>\n",
       "      <td>0.01</td>\n",
       "      <td>0.00</td>\n",
       "      <td>587.0</td>\n",
       "      <td>Sub-Saharan Africa</td>\n",
       "      <td>NaN</td>\n",
       "    </tr>\n",
       "    <tr>\n",
       "      <th>2453</th>\n",
       "      <td>Cote dIvoire</td>\n",
       "      <td>1925</td>\n",
       "      <td>90.4</td>\n",
       "      <td>9.6</td>\n",
       "      <td>3.1</td>\n",
       "      <td>0.1</td>\n",
       "      <td>0.0</td>\n",
       "      <td>0.0</td>\n",
       "      <td>0.0</td>\n",
       "      <td>0.40</td>\n",
       "      <td>0.39</td>\n",
       "      <td>0.01</td>\n",
       "      <td>0.00</td>\n",
       "      <td>683.0</td>\n",
       "      <td>Sub-Saharan Africa</td>\n",
       "      <td>NaN</td>\n",
       "    </tr>\n",
       "    <tr>\n",
       "      <th>2454</th>\n",
       "      <td>Cote dIvoire</td>\n",
       "      <td>1930</td>\n",
       "      <td>89.2</td>\n",
       "      <td>10.8</td>\n",
       "      <td>3.6</td>\n",
       "      <td>0.1</td>\n",
       "      <td>0.0</td>\n",
       "      <td>0.1</td>\n",
       "      <td>0.0</td>\n",
       "      <td>0.45</td>\n",
       "      <td>0.44</td>\n",
       "      <td>0.01</td>\n",
       "      <td>0.00</td>\n",
       "      <td>779.0</td>\n",
       "      <td>Sub-Saharan Africa</td>\n",
       "      <td>NaN</td>\n",
       "    </tr>\n",
       "    <tr>\n",
       "      <th>2455</th>\n",
       "      <td>Cote dIvoire</td>\n",
       "      <td>1935</td>\n",
       "      <td>89.6</td>\n",
       "      <td>10.1</td>\n",
       "      <td>3.4</td>\n",
       "      <td>0.3</td>\n",
       "      <td>0.1</td>\n",
       "      <td>0.1</td>\n",
       "      <td>0.1</td>\n",
       "      <td>0.46</td>\n",
       "      <td>0.43</td>\n",
       "      <td>0.02</td>\n",
       "      <td>0.00</td>\n",
       "      <td>906.0</td>\n",
       "      <td>Sub-Saharan Africa</td>\n",
       "      <td>NaN</td>\n",
       "    </tr>\n",
       "    <tr>\n",
       "      <th>2456</th>\n",
       "      <td>Cote dIvoire</td>\n",
       "      <td>1940</td>\n",
       "      <td>89.7</td>\n",
       "      <td>9.6</td>\n",
       "      <td>3.4</td>\n",
       "      <td>0.5</td>\n",
       "      <td>0.2</td>\n",
       "      <td>0.2</td>\n",
       "      <td>0.1</td>\n",
       "      <td>0.48</td>\n",
       "      <td>0.43</td>\n",
       "      <td>0.04</td>\n",
       "      <td>0.01</td>\n",
       "      <td>1032.0</td>\n",
       "      <td>Sub-Saharan Africa</td>\n",
       "      <td>NaN</td>\n",
       "    </tr>\n",
       "    <tr>\n",
       "      <th>2457</th>\n",
       "      <td>Cote dIvoire</td>\n",
       "      <td>1945</td>\n",
       "      <td>89.5</td>\n",
       "      <td>9.5</td>\n",
       "      <td>3.4</td>\n",
       "      <td>0.8</td>\n",
       "      <td>0.3</td>\n",
       "      <td>0.3</td>\n",
       "      <td>0.2</td>\n",
       "      <td>0.52</td>\n",
       "      <td>0.45</td>\n",
       "      <td>0.06</td>\n",
       "      <td>0.01</td>\n",
       "      <td>1201.0</td>\n",
       "      <td>Sub-Saharan Africa</td>\n",
       "      <td>NaN</td>\n",
       "    </tr>\n",
       "    <tr>\n",
       "      <th>2458</th>\n",
       "      <td>Cote dIvoire</td>\n",
       "      <td>1950</td>\n",
       "      <td>85.6</td>\n",
       "      <td>10.8</td>\n",
       "      <td>4.1</td>\n",
       "      <td>3.2</td>\n",
       "      <td>0.5</td>\n",
       "      <td>0.4</td>\n",
       "      <td>0.3</td>\n",
       "      <td>0.86</td>\n",
       "      <td>0.67</td>\n",
       "      <td>0.17</td>\n",
       "      <td>0.01</td>\n",
       "      <td>1367.0</td>\n",
       "      <td>Sub-Saharan Africa</td>\n",
       "      <td>NaN</td>\n",
       "    </tr>\n",
       "    <tr>\n",
       "      <th>2459</th>\n",
       "      <td>Cote dIvoire</td>\n",
       "      <td>1955</td>\n",
       "      <td>85.1</td>\n",
       "      <td>10.9</td>\n",
       "      <td>4.3</td>\n",
       "      <td>3.4</td>\n",
       "      <td>0.6</td>\n",
       "      <td>0.6</td>\n",
       "      <td>0.3</td>\n",
       "      <td>0.91</td>\n",
       "      <td>0.70</td>\n",
       "      <td>0.19</td>\n",
       "      <td>0.02</td>\n",
       "      <td>1618.0</td>\n",
       "      <td>Sub-Saharan Africa</td>\n",
       "      <td>NaN</td>\n",
       "    </tr>\n",
       "    <tr>\n",
       "      <th>2460</th>\n",
       "      <td>Cote dIvoire</td>\n",
       "      <td>1960</td>\n",
       "      <td>84.5</td>\n",
       "      <td>10.9</td>\n",
       "      <td>4.5</td>\n",
       "      <td>3.9</td>\n",
       "      <td>0.7</td>\n",
       "      <td>0.7</td>\n",
       "      <td>0.4</td>\n",
       "      <td>0.99</td>\n",
       "      <td>0.74</td>\n",
       "      <td>0.23</td>\n",
       "      <td>0.02</td>\n",
       "      <td>1914.0</td>\n",
       "      <td>Sub-Saharan Africa</td>\n",
       "      <td>NaN</td>\n",
       "    </tr>\n",
       "    <tr>\n",
       "      <th>2461</th>\n",
       "      <td>Cote dIvoire</td>\n",
       "      <td>1965</td>\n",
       "      <td>83.6</td>\n",
       "      <td>11.1</td>\n",
       "      <td>4.9</td>\n",
       "      <td>4.4</td>\n",
       "      <td>0.9</td>\n",
       "      <td>0.9</td>\n",
       "      <td>0.5</td>\n",
       "      <td>1.09</td>\n",
       "      <td>0.80</td>\n",
       "      <td>0.27</td>\n",
       "      <td>0.03</td>\n",
       "      <td>2256.0</td>\n",
       "      <td>Sub-Saharan Africa</td>\n",
       "      <td>NaN</td>\n",
       "    </tr>\n",
       "    <tr>\n",
       "      <th>2462</th>\n",
       "      <td>Cote dIvoire</td>\n",
       "      <td>1970</td>\n",
       "      <td>81.3</td>\n",
       "      <td>11.5</td>\n",
       "      <td>5.4</td>\n",
       "      <td>6.1</td>\n",
       "      <td>1.2</td>\n",
       "      <td>1.1</td>\n",
       "      <td>0.6</td>\n",
       "      <td>1.33</td>\n",
       "      <td>0.94</td>\n",
       "      <td>0.36</td>\n",
       "      <td>0.03</td>\n",
       "      <td>2809.0</td>\n",
       "      <td>Sub-Saharan Africa</td>\n",
       "      <td>NaN</td>\n",
       "    </tr>\n",
       "    <tr>\n",
       "      <th>2463</th>\n",
       "      <td>Cote dIvoire</td>\n",
       "      <td>1975</td>\n",
       "      <td>78.1</td>\n",
       "      <td>10.4</td>\n",
       "      <td>5.1</td>\n",
       "      <td>10.1</td>\n",
       "      <td>1.9</td>\n",
       "      <td>1.4</td>\n",
       "      <td>0.8</td>\n",
       "      <td>1.76</td>\n",
       "      <td>1.16</td>\n",
       "      <td>0.56</td>\n",
       "      <td>0.04</td>\n",
       "      <td>3464.0</td>\n",
       "      <td>Sub-Saharan Africa</td>\n",
       "      <td>NaN</td>\n",
       "    </tr>\n",
       "    <tr>\n",
       "      <th>2464</th>\n",
       "      <td>Cote dIvoire</td>\n",
       "      <td>1980</td>\n",
       "      <td>73.9</td>\n",
       "      <td>11.9</td>\n",
       "      <td>6.2</td>\n",
       "      <td>12.5</td>\n",
       "      <td>2.4</td>\n",
       "      <td>1.7</td>\n",
       "      <td>0.9</td>\n",
       "      <td>2.13</td>\n",
       "      <td>1.39</td>\n",
       "      <td>0.69</td>\n",
       "      <td>0.05</td>\n",
       "      <td>4360.0</td>\n",
       "      <td>Sub-Saharan Africa</td>\n",
       "      <td>NaN</td>\n",
       "    </tr>\n",
       "    <tr>\n",
       "      <th>2465</th>\n",
       "      <td>Cote dIvoire</td>\n",
       "      <td>1985</td>\n",
       "      <td>70.1</td>\n",
       "      <td>13.7</td>\n",
       "      <td>7.6</td>\n",
       "      <td>14.3</td>\n",
       "      <td>2.9</td>\n",
       "      <td>1.9</td>\n",
       "      <td>1.1</td>\n",
       "      <td>2.46</td>\n",
       "      <td>1.61</td>\n",
       "      <td>0.79</td>\n",
       "      <td>0.06</td>\n",
       "      <td>5402.0</td>\n",
       "      <td>Sub-Saharan Africa</td>\n",
       "      <td>NaN</td>\n",
       "    </tr>\n",
       "    <tr>\n",
       "      <th>2466</th>\n",
       "      <td>Cote dIvoire</td>\n",
       "      <td>1990</td>\n",
       "      <td>66.0</td>\n",
       "      <td>15.6</td>\n",
       "      <td>9.1</td>\n",
       "      <td>16.6</td>\n",
       "      <td>3.6</td>\n",
       "      <td>1.8</td>\n",
       "      <td>1.1</td>\n",
       "      <td>2.79</td>\n",
       "      <td>1.84</td>\n",
       "      <td>0.89</td>\n",
       "      <td>0.06</td>\n",
       "      <td>6461.0</td>\n",
       "      <td>Sub-Saharan Africa</td>\n",
       "      <td>NaN</td>\n",
       "    </tr>\n",
       "    <tr>\n",
       "      <th>2467</th>\n",
       "      <td>Cote dIvoire</td>\n",
       "      <td>1995</td>\n",
       "      <td>56.0</td>\n",
       "      <td>24.2</td>\n",
       "      <td>14.9</td>\n",
       "      <td>16.6</td>\n",
       "      <td>4.1</td>\n",
       "      <td>3.1</td>\n",
       "      <td>1.7</td>\n",
       "      <td>3.46</td>\n",
       "      <td>2.36</td>\n",
       "      <td>1.00</td>\n",
       "      <td>0.10</td>\n",
       "      <td>7626.0</td>\n",
       "      <td>Sub-Saharan Africa</td>\n",
       "      <td>NaN</td>\n",
       "    </tr>\n",
       "    <tr>\n",
       "      <th>2468</th>\n",
       "      <td>Cote dIvoire</td>\n",
       "      <td>2000</td>\n",
       "      <td>47.1</td>\n",
       "      <td>32.1</td>\n",
       "      <td>20.6</td>\n",
       "      <td>16.8</td>\n",
       "      <td>5.1</td>\n",
       "      <td>4.0</td>\n",
       "      <td>2.4</td>\n",
       "      <td>4.06</td>\n",
       "      <td>2.83</td>\n",
       "      <td>1.11</td>\n",
       "      <td>0.13</td>\n",
       "      <td>8990.0</td>\n",
       "      <td>Sub-Saharan Africa</td>\n",
       "      <td>NaN</td>\n",
       "    </tr>\n",
       "    <tr>\n",
       "      <th>2469</th>\n",
       "      <td>Cote dIvoire</td>\n",
       "      <td>2005</td>\n",
       "      <td>41.8</td>\n",
       "      <td>35.5</td>\n",
       "      <td>23.8</td>\n",
       "      <td>18.6</td>\n",
       "      <td>6.9</td>\n",
       "      <td>4.2</td>\n",
       "      <td>2.5</td>\n",
       "      <td>4.52</td>\n",
       "      <td>3.14</td>\n",
       "      <td>1.24</td>\n",
       "      <td>0.13</td>\n",
       "      <td>9962.0</td>\n",
       "      <td>Sub-Saharan Africa</td>\n",
       "      <td>NaN</td>\n",
       "    </tr>\n",
       "    <tr>\n",
       "      <th>2470</th>\n",
       "      <td>Cote dIvoire</td>\n",
       "      <td>2010</td>\n",
       "      <td>36.9</td>\n",
       "      <td>38.9</td>\n",
       "      <td>26.9</td>\n",
       "      <td>20.0</td>\n",
       "      <td>9.2</td>\n",
       "      <td>4.2</td>\n",
       "      <td>2.5</td>\n",
       "      <td>4.93</td>\n",
       "      <td>3.43</td>\n",
       "      <td>1.37</td>\n",
       "      <td>0.13</td>\n",
       "      <td>11164.0</td>\n",
       "      <td>Sub-Saharan Africa</td>\n",
       "      <td>NaN</td>\n",
       "    </tr>\n",
       "  </tbody>\n",
       "</table>\n",
       "</div>"
      ],
      "text/plain": [
       "           country  year  no_schooling  total_primary  completed_primary  \\\n",
       "2442  Cote dIvoire  1870          97.4            2.6                0.7   \n",
       "2443  Cote dIvoire  1875          97.1            2.9                0.8   \n",
       "2444  Cote dIvoire  1880          96.7            3.3                0.9   \n",
       "2445  Cote dIvoire  1885          96.3            3.7                1.0   \n",
       "2446  Cote dIvoire  1890          95.8            4.2                1.2   \n",
       "2447  Cote dIvoire  1895          95.3            4.7                1.4   \n",
       "2448  Cote dIvoire  1900          94.6            5.4                1.6   \n",
       "2449  Cote dIvoire  1905          94.0            6.0                1.8   \n",
       "2450  Cote dIvoire  1910          93.2            6.8                2.1   \n",
       "2451  Cote dIvoire  1915          92.4            7.6                2.4   \n",
       "2452  Cote dIvoire  1920          91.4            8.6                2.7   \n",
       "2453  Cote dIvoire  1925          90.4            9.6                3.1   \n",
       "2454  Cote dIvoire  1930          89.2           10.8                3.6   \n",
       "2455  Cote dIvoire  1935          89.6           10.1                3.4   \n",
       "2456  Cote dIvoire  1940          89.7            9.6                3.4   \n",
       "2457  Cote dIvoire  1945          89.5            9.5                3.4   \n",
       "2458  Cote dIvoire  1950          85.6           10.8                4.1   \n",
       "2459  Cote dIvoire  1955          85.1           10.9                4.3   \n",
       "2460  Cote dIvoire  1960          84.5           10.9                4.5   \n",
       "2461  Cote dIvoire  1965          83.6           11.1                4.9   \n",
       "2462  Cote dIvoire  1970          81.3           11.5                5.4   \n",
       "2463  Cote dIvoire  1975          78.1           10.4                5.1   \n",
       "2464  Cote dIvoire  1980          73.9           11.9                6.2   \n",
       "2465  Cote dIvoire  1985          70.1           13.7                7.6   \n",
       "2466  Cote dIvoire  1990          66.0           15.6                9.1   \n",
       "2467  Cote dIvoire  1995          56.0           24.2               14.9   \n",
       "2468  Cote dIvoire  2000          47.1           32.1               20.6   \n",
       "2469  Cote dIvoire  2005          41.8           35.5               23.8   \n",
       "2470  Cote dIvoire  2010          36.9           38.9               26.9   \n",
       "\n",
       "      total_secondary  completed_secondary  total_tertiary  \\\n",
       "2442              0.0                  0.0             0.0   \n",
       "2443              0.0                  0.0             0.0   \n",
       "2444              0.0                  0.0             0.0   \n",
       "2445              0.0                  0.0             0.0   \n",
       "2446              0.0                  0.0             0.0   \n",
       "2447              0.0                  0.0             0.0   \n",
       "2448              0.0                  0.0             0.0   \n",
       "2449              0.0                  0.0             0.0   \n",
       "2450              0.1                  0.0             0.0   \n",
       "2451              0.1                  0.0             0.0   \n",
       "2452              0.1                  0.0             0.0   \n",
       "2453              0.1                  0.0             0.0   \n",
       "2454              0.1                  0.0             0.1   \n",
       "2455              0.3                  0.1             0.1   \n",
       "2456              0.5                  0.2             0.2   \n",
       "2457              0.8                  0.3             0.3   \n",
       "2458              3.2                  0.5             0.4   \n",
       "2459              3.4                  0.6             0.6   \n",
       "2460              3.9                  0.7             0.7   \n",
       "2461              4.4                  0.9             0.9   \n",
       "2462              6.1                  1.2             1.1   \n",
       "2463             10.1                  1.9             1.4   \n",
       "2464             12.5                  2.4             1.7   \n",
       "2465             14.3                  2.9             1.9   \n",
       "2466             16.6                  3.6             1.8   \n",
       "2467             16.6                  4.1             3.1   \n",
       "2468             16.8                  5.1             4.0   \n",
       "2469             18.6                  6.9             4.2   \n",
       "2470             20.0                  9.2             4.2   \n",
       "\n",
       "      completed_tertiary  avg_years_total_schooling  \\\n",
       "2442                 0.0                       0.10   \n",
       "2443                 0.0                       0.12   \n",
       "2444                 0.0                       0.13   \n",
       "2445                 0.0                       0.15   \n",
       "2446                 0.0                       0.17   \n",
       "2447                 0.0                       0.19   \n",
       "2448                 0.0                       0.22   \n",
       "2449                 0.0                       0.24   \n",
       "2450                 0.0                       0.28   \n",
       "2451                 0.0                       0.31   \n",
       "2452                 0.0                       0.35   \n",
       "2453                 0.0                       0.40   \n",
       "2454                 0.0                       0.45   \n",
       "2455                 0.1                       0.46   \n",
       "2456                 0.1                       0.48   \n",
       "2457                 0.2                       0.52   \n",
       "2458                 0.3                       0.86   \n",
       "2459                 0.3                       0.91   \n",
       "2460                 0.4                       0.99   \n",
       "2461                 0.5                       1.09   \n",
       "2462                 0.6                       1.33   \n",
       "2463                 0.8                       1.76   \n",
       "2464                 0.9                       2.13   \n",
       "2465                 1.1                       2.46   \n",
       "2466                 1.1                       2.79   \n",
       "2467                 1.7                       3.46   \n",
       "2468                 2.4                       4.06   \n",
       "2469                 2.5                       4.52   \n",
       "2470                 2.5                       4.93   \n",
       "\n",
       "      avg_years_primary_schooling  avg_years_secondary_schooling  \\\n",
       "2442                         0.10                           0.00   \n",
       "2443                         0.11                           0.00   \n",
       "2444                         0.13                           0.00   \n",
       "2445                         0.15                           0.00   \n",
       "2446                         0.16                           0.00   \n",
       "2447                         0.19                           0.00   \n",
       "2448                         0.21                           0.00   \n",
       "2449                         0.24                           0.00   \n",
       "2450                         0.27                           0.00   \n",
       "2451                         0.31                           0.01   \n",
       "2452                         0.35                           0.01   \n",
       "2453                         0.39                           0.01   \n",
       "2454                         0.44                           0.01   \n",
       "2455                         0.43                           0.02   \n",
       "2456                         0.43                           0.04   \n",
       "2457                         0.45                           0.06   \n",
       "2458                         0.67                           0.17   \n",
       "2459                         0.70                           0.19   \n",
       "2460                         0.74                           0.23   \n",
       "2461                         0.80                           0.27   \n",
       "2462                         0.94                           0.36   \n",
       "2463                         1.16                           0.56   \n",
       "2464                         1.39                           0.69   \n",
       "2465                         1.61                           0.79   \n",
       "2466                         1.84                           0.89   \n",
       "2467                         2.36                           1.00   \n",
       "2468                         2.83                           1.11   \n",
       "2469                         3.14                           1.24   \n",
       "2470                         3.43                           1.37   \n",
       "\n",
       "      avg_years_tertiary_schooling  population_1000s              region  \\\n",
       "2442                          0.00             120.0  Sub-Saharan Africa   \n",
       "2443                          0.00             143.0  Sub-Saharan Africa   \n",
       "2444                          0.00             167.0  Sub-Saharan Africa   \n",
       "2445                          0.00             199.0  Sub-Saharan Africa   \n",
       "2446                          0.00             231.0  Sub-Saharan Africa   \n",
       "2447                          0.00             275.0  Sub-Saharan Africa   \n",
       "2448                          0.00             320.0  Sub-Saharan Africa   \n",
       "2449                          0.00             382.0  Sub-Saharan Africa   \n",
       "2450                          0.00             443.0  Sub-Saharan Africa   \n",
       "2451                          0.00             516.0  Sub-Saharan Africa   \n",
       "2452                          0.00             587.0  Sub-Saharan Africa   \n",
       "2453                          0.00             683.0  Sub-Saharan Africa   \n",
       "2454                          0.00             779.0  Sub-Saharan Africa   \n",
       "2455                          0.00             906.0  Sub-Saharan Africa   \n",
       "2456                          0.01            1032.0  Sub-Saharan Africa   \n",
       "2457                          0.01            1201.0  Sub-Saharan Africa   \n",
       "2458                          0.01            1367.0  Sub-Saharan Africa   \n",
       "2459                          0.02            1618.0  Sub-Saharan Africa   \n",
       "2460                          0.02            1914.0  Sub-Saharan Africa   \n",
       "2461                          0.03            2256.0  Sub-Saharan Africa   \n",
       "2462                          0.03            2809.0  Sub-Saharan Africa   \n",
       "2463                          0.04            3464.0  Sub-Saharan Africa   \n",
       "2464                          0.05            4360.0  Sub-Saharan Africa   \n",
       "2465                          0.06            5402.0  Sub-Saharan Africa   \n",
       "2466                          0.06            6461.0  Sub-Saharan Africa   \n",
       "2467                          0.10            7626.0  Sub-Saharan Africa   \n",
       "2468                          0.13            8990.0  Sub-Saharan Africa   \n",
       "2469                          0.13            9962.0  Sub-Saharan Africa   \n",
       "2470                          0.13           11164.0  Sub-Saharan Africa   \n",
       "\n",
       "     iso_alpha  \n",
       "2442       NaN  \n",
       "2443       NaN  \n",
       "2444       NaN  \n",
       "2445       NaN  \n",
       "2446       NaN  \n",
       "2447       NaN  \n",
       "2448       NaN  \n",
       "2449       NaN  \n",
       "2450       NaN  \n",
       "2451       NaN  \n",
       "2452       NaN  \n",
       "2453       NaN  \n",
       "2454       NaN  \n",
       "2455       NaN  \n",
       "2456       NaN  \n",
       "2457       NaN  \n",
       "2458       NaN  \n",
       "2459       NaN  \n",
       "2460       NaN  \n",
       "2461       NaN  \n",
       "2462       NaN  \n",
       "2463       NaN  \n",
       "2464       NaN  \n",
       "2465       NaN  \n",
       "2466       NaN  \n",
       "2467       NaN  \n",
       "2468       NaN  \n",
       "2469       NaN  \n",
       "2470       NaN  "
      ]
     },
     "execution_count": 60,
     "metadata": {},
     "output_type": "execute_result"
    }
   ],
   "source": [
    "df2[df2.isna().any(axis=1) == True]"
   ]
  },
  {
   "cell_type": "code",
   "execution_count": 65,
   "id": "9e8cd26f",
   "metadata": {},
   "outputs": [
    {
     "data": {
      "text/html": [
       "<div>\n",
       "<style scoped>\n",
       "    .dataframe tbody tr th:only-of-type {\n",
       "        vertical-align: middle;\n",
       "    }\n",
       "\n",
       "    .dataframe tbody tr th {\n",
       "        vertical-align: top;\n",
       "    }\n",
       "\n",
       "    .dataframe thead th {\n",
       "        text-align: right;\n",
       "    }\n",
       "</style>\n",
       "<table border=\"1\" class=\"dataframe\">\n",
       "  <thead>\n",
       "    <tr style=\"text-align: right;\">\n",
       "      <th></th>\n",
       "      <th>country</th>\n",
       "      <th>year</th>\n",
       "      <th>no_schooling</th>\n",
       "      <th>total_primary</th>\n",
       "      <th>completed_primary</th>\n",
       "      <th>total_secondary</th>\n",
       "      <th>completed_secondary</th>\n",
       "      <th>total_tertiary</th>\n",
       "      <th>completed_tertiary</th>\n",
       "      <th>avg_years_total_schooling</th>\n",
       "      <th>avg_years_primary_schooling</th>\n",
       "      <th>avg_years_secondary_schooling</th>\n",
       "      <th>avg_years_tertiary_schooling</th>\n",
       "      <th>population_1000s</th>\n",
       "      <th>region</th>\n",
       "      <th>iso_alpha</th>\n",
       "    </tr>\n",
       "  </thead>\n",
       "  <tbody>\n",
       "    <tr>\n",
       "      <th>2</th>\n",
       "      <td>Australia</td>\n",
       "      <td>1880</td>\n",
       "      <td>41.5</td>\n",
       "      <td>58.0</td>\n",
       "      <td>9.7</td>\n",
       "      <td>0.3</td>\n",
       "      <td>0.1</td>\n",
       "      <td>0.2</td>\n",
       "      <td>0.1</td>\n",
       "      <td>2.08</td>\n",
       "      <td>2.06</td>\n",
       "      <td>0.02</td>\n",
       "      <td>0.00</td>\n",
       "      <td>1314.0</td>\n",
       "      <td>Advanced Economies</td>\n",
       "      <td>AUS</td>\n",
       "    </tr>\n",
       "    <tr>\n",
       "      <th>35</th>\n",
       "      <td>Austria</td>\n",
       "      <td>1880</td>\n",
       "      <td>58.4</td>\n",
       "      <td>40.6</td>\n",
       "      <td>14.8</td>\n",
       "      <td>0.6</td>\n",
       "      <td>0.1</td>\n",
       "      <td>0.4</td>\n",
       "      <td>0.1</td>\n",
       "      <td>2.37</td>\n",
       "      <td>2.30</td>\n",
       "      <td>0.06</td>\n",
       "      <td>0.01</td>\n",
       "      <td>13645.0</td>\n",
       "      <td>Advanced Economies</td>\n",
       "      <td>AUT</td>\n",
       "    </tr>\n",
       "    <tr>\n",
       "      <th>68</th>\n",
       "      <td>Belgium</td>\n",
       "      <td>1880</td>\n",
       "      <td>45.1</td>\n",
       "      <td>49.7</td>\n",
       "      <td>18.0</td>\n",
       "      <td>4.7</td>\n",
       "      <td>0.9</td>\n",
       "      <td>0.5</td>\n",
       "      <td>0.2</td>\n",
       "      <td>2.55</td>\n",
       "      <td>2.34</td>\n",
       "      <td>0.20</td>\n",
       "      <td>0.01</td>\n",
       "      <td>3316.0</td>\n",
       "      <td>Advanced Economies</td>\n",
       "      <td>BEL</td>\n",
       "    </tr>\n",
       "    <tr>\n",
       "      <th>101</th>\n",
       "      <td>Canada</td>\n",
       "      <td>1880</td>\n",
       "      <td>24.7</td>\n",
       "      <td>72.0</td>\n",
       "      <td>17.4</td>\n",
       "      <td>3.4</td>\n",
       "      <td>0.4</td>\n",
       "      <td>0.0</td>\n",
       "      <td>0.0</td>\n",
       "      <td>3.00</td>\n",
       "      <td>2.88</td>\n",
       "      <td>0.12</td>\n",
       "      <td>0.00</td>\n",
       "      <td>2471.0</td>\n",
       "      <td>Advanced Economies</td>\n",
       "      <td>CAN</td>\n",
       "    </tr>\n",
       "    <tr>\n",
       "      <th>134</th>\n",
       "      <td>Denmark</td>\n",
       "      <td>1880</td>\n",
       "      <td>11.9</td>\n",
       "      <td>85.4</td>\n",
       "      <td>30.9</td>\n",
       "      <td>2.6</td>\n",
       "      <td>0.5</td>\n",
       "      <td>0.0</td>\n",
       "      <td>0.0</td>\n",
       "      <td>2.56</td>\n",
       "      <td>2.44</td>\n",
       "      <td>0.13</td>\n",
       "      <td>0.00</td>\n",
       "      <td>1182.0</td>\n",
       "      <td>Advanced Economies</td>\n",
       "      <td>DNK</td>\n",
       "    </tr>\n",
       "    <tr>\n",
       "      <th>...</th>\n",
       "      <td>...</td>\n",
       "      <td>...</td>\n",
       "      <td>...</td>\n",
       "      <td>...</td>\n",
       "      <td>...</td>\n",
       "      <td>...</td>\n",
       "      <td>...</td>\n",
       "      <td>...</td>\n",
       "      <td>...</td>\n",
       "      <td>...</td>\n",
       "      <td>...</td>\n",
       "      <td>...</td>\n",
       "      <td>...</td>\n",
       "      <td>...</td>\n",
       "      <td>...</td>\n",
       "      <td>...</td>\n",
       "    </tr>\n",
       "    <tr>\n",
       "      <th>2774</th>\n",
       "      <td>Sierra Leone</td>\n",
       "      <td>1880</td>\n",
       "      <td>99.4</td>\n",
       "      <td>0.5</td>\n",
       "      <td>0.3</td>\n",
       "      <td>0.0</td>\n",
       "      <td>0.0</td>\n",
       "      <td>0.0</td>\n",
       "      <td>0.0</td>\n",
       "      <td>0.04</td>\n",
       "      <td>0.03</td>\n",
       "      <td>0.00</td>\n",
       "      <td>0.00</td>\n",
       "      <td>59.0</td>\n",
       "      <td>Sub-Saharan Africa</td>\n",
       "      <td>SLE</td>\n",
       "    </tr>\n",
       "    <tr>\n",
       "      <th>2807</th>\n",
       "      <td>South Africa</td>\n",
       "      <td>1880</td>\n",
       "      <td>81.5</td>\n",
       "      <td>18.5</td>\n",
       "      <td>10.3</td>\n",
       "      <td>0.0</td>\n",
       "      <td>0.0</td>\n",
       "      <td>0.0</td>\n",
       "      <td>0.0</td>\n",
       "      <td>1.01</td>\n",
       "      <td>1.01</td>\n",
       "      <td>0.00</td>\n",
       "      <td>0.00</td>\n",
       "      <td>1977.0</td>\n",
       "      <td>Sub-Saharan Africa</td>\n",
       "      <td>ZAF</td>\n",
       "    </tr>\n",
       "    <tr>\n",
       "      <th>2840</th>\n",
       "      <td>Sudan</td>\n",
       "      <td>1880</td>\n",
       "      <td>99.8</td>\n",
       "      <td>0.2</td>\n",
       "      <td>0.0</td>\n",
       "      <td>0.0</td>\n",
       "      <td>0.0</td>\n",
       "      <td>0.0</td>\n",
       "      <td>0.0</td>\n",
       "      <td>0.01</td>\n",
       "      <td>0.01</td>\n",
       "      <td>0.00</td>\n",
       "      <td>0.00</td>\n",
       "      <td>3602.0</td>\n",
       "      <td>Sub-Saharan Africa</td>\n",
       "      <td>SDN</td>\n",
       "    </tr>\n",
       "    <tr>\n",
       "      <th>2873</th>\n",
       "      <td>Uganda</td>\n",
       "      <td>1880</td>\n",
       "      <td>100.0</td>\n",
       "      <td>0.0</td>\n",
       "      <td>0.0</td>\n",
       "      <td>0.0</td>\n",
       "      <td>0.0</td>\n",
       "      <td>0.0</td>\n",
       "      <td>0.0</td>\n",
       "      <td>0.01</td>\n",
       "      <td>0.00</td>\n",
       "      <td>0.00</td>\n",
       "      <td>0.00</td>\n",
       "      <td>1325.0</td>\n",
       "      <td>Sub-Saharan Africa</td>\n",
       "      <td>UGA</td>\n",
       "    </tr>\n",
       "    <tr>\n",
       "      <th>2906</th>\n",
       "      <td>Zimbabwe</td>\n",
       "      <td>1880</td>\n",
       "      <td>98.9</td>\n",
       "      <td>1.1</td>\n",
       "      <td>0.3</td>\n",
       "      <td>0.0</td>\n",
       "      <td>0.0</td>\n",
       "      <td>0.0</td>\n",
       "      <td>0.0</td>\n",
       "      <td>0.04</td>\n",
       "      <td>0.04</td>\n",
       "      <td>0.00</td>\n",
       "      <td>0.00</td>\n",
       "      <td>739.0</td>\n",
       "      <td>Sub-Saharan Africa</td>\n",
       "      <td>ZWE</td>\n",
       "    </tr>\n",
       "  </tbody>\n",
       "</table>\n",
       "<p>89 rows × 16 columns</p>\n",
       "</div>"
      ],
      "text/plain": [
       "           country  year  no_schooling  total_primary  completed_primary  \\\n",
       "2        Australia  1880          41.5           58.0                9.7   \n",
       "35         Austria  1880          58.4           40.6               14.8   \n",
       "68         Belgium  1880          45.1           49.7               18.0   \n",
       "101         Canada  1880          24.7           72.0               17.4   \n",
       "134        Denmark  1880          11.9           85.4               30.9   \n",
       "...            ...   ...           ...            ...                ...   \n",
       "2774  Sierra Leone  1880          99.4            0.5                0.3   \n",
       "2807  South Africa  1880          81.5           18.5               10.3   \n",
       "2840         Sudan  1880          99.8            0.2                0.0   \n",
       "2873        Uganda  1880         100.0            0.0                0.0   \n",
       "2906      Zimbabwe  1880          98.9            1.1                0.3   \n",
       "\n",
       "      total_secondary  completed_secondary  total_tertiary  \\\n",
       "2                 0.3                  0.1             0.2   \n",
       "35                0.6                  0.1             0.4   \n",
       "68                4.7                  0.9             0.5   \n",
       "101               3.4                  0.4             0.0   \n",
       "134               2.6                  0.5             0.0   \n",
       "...               ...                  ...             ...   \n",
       "2774              0.0                  0.0             0.0   \n",
       "2807              0.0                  0.0             0.0   \n",
       "2840              0.0                  0.0             0.0   \n",
       "2873              0.0                  0.0             0.0   \n",
       "2906              0.0                  0.0             0.0   \n",
       "\n",
       "      completed_tertiary  avg_years_total_schooling  \\\n",
       "2                    0.1                       2.08   \n",
       "35                   0.1                       2.37   \n",
       "68                   0.2                       2.55   \n",
       "101                  0.0                       3.00   \n",
       "134                  0.0                       2.56   \n",
       "...                  ...                        ...   \n",
       "2774                 0.0                       0.04   \n",
       "2807                 0.0                       1.01   \n",
       "2840                 0.0                       0.01   \n",
       "2873                 0.0                       0.01   \n",
       "2906                 0.0                       0.04   \n",
       "\n",
       "      avg_years_primary_schooling  avg_years_secondary_schooling  \\\n",
       "2                            2.06                           0.02   \n",
       "35                           2.30                           0.06   \n",
       "68                           2.34                           0.20   \n",
       "101                          2.88                           0.12   \n",
       "134                          2.44                           0.13   \n",
       "...                           ...                            ...   \n",
       "2774                         0.03                           0.00   \n",
       "2807                         1.01                           0.00   \n",
       "2840                         0.01                           0.00   \n",
       "2873                         0.00                           0.00   \n",
       "2906                         0.04                           0.00   \n",
       "\n",
       "      avg_years_tertiary_schooling  population_1000s              region  \\\n",
       "2                             0.00            1314.0  Advanced Economies   \n",
       "35                            0.01           13645.0  Advanced Economies   \n",
       "68                            0.01            3316.0  Advanced Economies   \n",
       "101                           0.00            2471.0  Advanced Economies   \n",
       "134                           0.00            1182.0  Advanced Economies   \n",
       "...                            ...               ...                 ...   \n",
       "2774                          0.00              59.0  Sub-Saharan Africa   \n",
       "2807                          0.00            1977.0  Sub-Saharan Africa   \n",
       "2840                          0.00            3602.0  Sub-Saharan Africa   \n",
       "2873                          0.00            1325.0  Sub-Saharan Africa   \n",
       "2906                          0.00             739.0  Sub-Saharan Africa   \n",
       "\n",
       "     iso_alpha  \n",
       "2          AUS  \n",
       "35         AUT  \n",
       "68         BEL  \n",
       "101        CAN  \n",
       "134        DNK  \n",
       "...        ...  \n",
       "2774       SLE  \n",
       "2807       ZAF  \n",
       "2840       SDN  \n",
       "2873       UGA  \n",
       "2906       ZWE  \n",
       "\n",
       "[89 rows x 16 columns]"
      ]
     },
     "execution_count": 65,
     "metadata": {},
     "output_type": "execute_result"
    }
   ],
   "source": [
    "df1880 = df2[df2['year'] == 1880]\n",
    "df1880"
   ]
  },
  {
   "cell_type": "code",
   "execution_count": 67,
   "id": "d64a51d2",
   "metadata": {
    "scrolled": true
   },
   "outputs": [
    {
     "data": {
      "text/plain": [
       "array([1870, 1875, 1880, 1885, 1890, 1895, 1900, 1905, 1910, 1915, 1920,\n",
       "       1925, 1930, 1935, 1940, 1945, 1950, 1955, 1960, 1965, 1970, 1975,\n",
       "       1980, 1985, 1990, 1995, 2000, 2005, 2010], dtype=int64)"
      ]
     },
     "execution_count": 67,
     "metadata": {},
     "output_type": "execute_result"
    }
   ],
   "source": [
    "df2['year'].unique()"
   ]
  },
  {
   "cell_type": "code",
   "execution_count": 91,
   "id": "471b7f7d",
   "metadata": {},
   "outputs": [],
   "source": [
    "MAX_AVG_TOTAL_SCHOOLING = df2['avg_years_total_schooling'].max()"
   ]
  },
  {
   "cell_type": "code",
   "execution_count": 76,
   "id": "48700161",
   "metadata": {},
   "outputs": [
    {
     "data": {
      "application/vnd.plotly.v1+json": {
       "config": {
        "plotlyServerURL": "https://plot.ly"
       },
       "data": [
        {
         "coloraxis": "coloraxis",
         "customdata": [
          [
           "Australia",
           2.08
          ],
          [
           "Austria",
           2.37
          ],
          [
           "Belgium",
           2.55
          ],
          [
           "Canada",
           3
          ],
          [
           "Denmark",
           2.56
          ],
          [
           "Finland",
           0.17
          ],
          [
           "France",
           1.2
          ],
          [
           "Germany",
           2.67
          ],
          [
           "Greece",
           1.04
          ],
          [
           "Ireland",
           0.97
          ],
          [
           "Italy",
           1.08
          ],
          [
           "Japan",
           0.89
          ],
          [
           "Luxembourg",
           0.06
          ],
          [
           "Netherlands",
           3.11
          ],
          [
           "New Zealand",
           3.67
          ],
          [
           "Norway",
           4.74
          ],
          [
           "Portugal",
           0.42
          ],
          [
           "Spain",
           2.19
          ],
          [
           "Sweden",
           3.86
          ],
          [
           "Switzerland",
           4.48
          ],
          [
           "Türkiye",
           0.02
          ],
          [
           "USA",
           4.79
          ],
          [
           "United Kingdom of Great Britain and Northern Ireland",
           1.14
          ],
          [
           "Cambodia",
           0.01
          ],
          [
           "China",
           0.01
          ],
          [
           "Fiji",
           0.07
          ],
          [
           "Hong Kong",
           0.23
          ],
          [
           "India",
           0.05
          ],
          [
           "Indonesia",
           0.01
          ],
          [
           "Malaysia",
           0.09
          ],
          [
           "Myanmar",
           0.19
          ],
          [
           "Philippines",
           0.09
          ],
          [
           "Korea, Republic of",
           0.01
          ],
          [
           "Sri Lanka",
           0.21
          ],
          [
           "Taiwan",
           0.03
          ],
          [
           "Thailand",
           0.14
          ],
          [
           "Albania",
           0.03
          ],
          [
           "Bulgaria",
           1.09
          ],
          [
           "Hungary",
           2.27
          ],
          [
           "Poland",
           1.59
          ],
          [
           "Russian Federation",
           0.21
          ],
          [
           "Argentina",
           0.62
          ],
          [
           "Barbados",
           1.29
          ],
          [
           "Bolivia, Plurinational State of",
           0.11
          ],
          [
           "Brazil",
           0.23
          ],
          [
           "Chile",
           0.59
          ],
          [
           "Colombia",
           0.43
          ],
          [
           "Costa Rica",
           0.65
          ],
          [
           "Cuba",
           0.22
          ],
          [
           "Dominican Republic",
           0.14
          ],
          [
           "Ecuador",
           0.36
          ],
          [
           "El Salvador",
           0.41
          ],
          [
           "Guatemala",
           0.4
          ],
          [
           "Guyana",
           0.65
          ],
          [
           "Honduras",
           0.43
          ],
          [
           "Jamaica",
           1.02
          ],
          [
           "Mexico",
           0.58
          ],
          [
           "Nicaragua",
           0.29
          ],
          [
           "Panama",
           0.19
          ],
          [
           "Paraguay",
           0.13
          ],
          [
           "Peru",
           0.1
          ],
          [
           "Trinidad and Tobago",
           0.7
          ],
          [
           "Uruguay",
           0.56
          ],
          [
           "Venezuela, Bolivarian Republic of",
           0.02
          ],
          [
           "Algeria",
           0.17
          ],
          [
           "Egypt",
           0.04
          ],
          [
           "Iran, Islamic Republic of",
           0.01
          ],
          [
           "Iraq",
           0.01
          ],
          [
           "Malta",
           0.77
          ],
          [
           "Morocco",
           0.01
          ],
          [
           "Syrian Arab Republic",
           0.04
          ],
          [
           "Tunisia",
           0.01
          ],
          [
           "Benin",
           0.01
          ],
          [
           "Cameroon",
           0.02
          ],
          [
           "Cote dIvoire",
           0.13
          ],
          [
           "Ghana",
           0.03
          ],
          [
           "Kenya",
           0.01
          ],
          [
           "Malawi",
           0.01
          ],
          [
           "Mali",
           0.01
          ],
          [
           "Mauritius",
           0.32
          ],
          [
           "Mozambique",
           0.01
          ],
          [
           "Niger",
           0.01
          ],
          [
           "Réunion",
           0.84
          ],
          [
           "Senegal",
           0.01
          ],
          [
           "Sierra Leone",
           0.04
          ],
          [
           "South Africa",
           1.01
          ],
          [
           "Sudan",
           0.01
          ],
          [
           "Uganda",
           0.01
          ],
          [
           "Zimbabwe",
           0.04
          ]
         ],
         "geo": "geo",
         "hovertemplate": "iso_alpha=%{location}<br>country=%{customdata[0]}<br>avg_years_total_schooling=%{z}<extra></extra>",
         "locations": [
          "AUS",
          "AUT",
          "BEL",
          "CAN",
          "DNK",
          "FIN",
          "FRA",
          "DEU",
          "GRC",
          "IRL",
          "ITA",
          "JPN",
          "LUX",
          "NLD",
          "NZL",
          "NOR",
          "PRT",
          "ESP",
          "SWE",
          "CHE",
          "TUR",
          "USA",
          "GBR",
          "KHM",
          "CHN",
          "FJI",
          "HKG",
          "IND",
          "IDN",
          "MYS",
          "MMR",
          "PHL",
          "KOR",
          "LKA",
          "TWN",
          "THA",
          "ALB",
          "BGR",
          "HUN",
          "POL",
          "RUS",
          "ARG",
          "BRB",
          "BOL",
          "BRA",
          "CHL",
          "COL",
          "CRI",
          "CUB",
          "DOM",
          "ECU",
          "SLV",
          "GTM",
          "GUY",
          "HND",
          "JAM",
          "MEX",
          "NIC",
          "PAN",
          "PRY",
          "PER",
          "TTO",
          "URY",
          "VEN",
          "DZA",
          "EGY",
          "IRN",
          "IRQ",
          "MLT",
          "MAR",
          "SYR",
          "TUN",
          "BEN",
          "CMR",
          null,
          "GHA",
          "KEN",
          "MWI",
          "MLI",
          "MUS",
          "MOZ",
          "NER",
          "REU",
          "SEN",
          "SLE",
          "ZAF",
          "SDN",
          "UGA",
          "ZWE"
         ],
         "name": "",
         "type": "choropleth",
         "z": [
          2.08,
          2.37,
          2.55,
          3,
          2.56,
          0.17,
          1.2,
          2.67,
          1.04,
          0.97,
          1.08,
          0.89,
          0.06,
          3.11,
          3.67,
          4.74,
          0.42,
          2.19,
          3.86,
          4.48,
          0.02,
          4.79,
          1.14,
          0.01,
          0.01,
          0.07,
          0.23,
          0.05,
          0.01,
          0.09,
          0.19,
          0.09,
          0.01,
          0.21,
          0.03,
          0.14,
          0.03,
          1.09,
          2.27,
          1.59,
          0.21,
          0.62,
          1.29,
          0.11,
          0.23,
          0.59,
          0.43,
          0.65,
          0.22,
          0.14,
          0.36,
          0.41,
          0.4,
          0.65,
          0.43,
          1.02,
          0.58,
          0.29,
          0.19,
          0.13,
          0.1,
          0.7,
          0.56,
          0.02,
          0.17,
          0.04,
          0.01,
          0.01,
          0.77,
          0.01,
          0.04,
          0.01,
          0.01,
          0.02,
          0.13,
          0.03,
          0.01,
          0.01,
          0.01,
          0.32,
          0.01,
          0.01,
          0.84,
          0.01,
          0.04,
          1.01,
          0.01,
          0.01,
          0.04
         ]
        }
       ],
       "layout": {
        "coloraxis": {
         "colorbar": {
          "title": {
           "text": "avg_years_total_schooling"
          }
         },
         "colorscale": [
          [
           0,
           "rgb(202, 86, 44)"
          ],
          [
           0.16666666666666666,
           "rgb(222, 138, 90)"
          ],
          [
           0.3333333333333333,
           "rgb(237, 187, 138)"
          ],
          [
           0.5,
           "rgb(246, 237, 189)"
          ],
          [
           0.6666666666666666,
           "rgb(180, 200, 168)"
          ],
          [
           0.8333333333333334,
           "rgb(112, 164, 148)"
          ],
          [
           1,
           "rgb(0, 128, 128)"
          ]
         ]
        },
        "geo": {
         "center": {},
         "domain": {
          "x": [
           0,
           1
          ],
          "y": [
           0,
           1
          ]
         }
        },
        "legend": {
         "tracegroupgap": 0
        },
        "margin": {
         "t": 60
        },
        "template": {
         "data": {
          "bar": [
           {
            "error_x": {
             "color": "#2a3f5f"
            },
            "error_y": {
             "color": "#2a3f5f"
            },
            "marker": {
             "line": {
              "color": "#E5ECF6",
              "width": 0.5
             },
             "pattern": {
              "fillmode": "overlay",
              "size": 10,
              "solidity": 0.2
             }
            },
            "type": "bar"
           }
          ],
          "barpolar": [
           {
            "marker": {
             "line": {
              "color": "#E5ECF6",
              "width": 0.5
             },
             "pattern": {
              "fillmode": "overlay",
              "size": 10,
              "solidity": 0.2
             }
            },
            "type": "barpolar"
           }
          ],
          "carpet": [
           {
            "aaxis": {
             "endlinecolor": "#2a3f5f",
             "gridcolor": "white",
             "linecolor": "white",
             "minorgridcolor": "white",
             "startlinecolor": "#2a3f5f"
            },
            "baxis": {
             "endlinecolor": "#2a3f5f",
             "gridcolor": "white",
             "linecolor": "white",
             "minorgridcolor": "white",
             "startlinecolor": "#2a3f5f"
            },
            "type": "carpet"
           }
          ],
          "choropleth": [
           {
            "colorbar": {
             "outlinewidth": 0,
             "ticks": ""
            },
            "type": "choropleth"
           }
          ],
          "contour": [
           {
            "colorbar": {
             "outlinewidth": 0,
             "ticks": ""
            },
            "colorscale": [
             [
              0,
              "#0d0887"
             ],
             [
              0.1111111111111111,
              "#46039f"
             ],
             [
              0.2222222222222222,
              "#7201a8"
             ],
             [
              0.3333333333333333,
              "#9c179e"
             ],
             [
              0.4444444444444444,
              "#bd3786"
             ],
             [
              0.5555555555555556,
              "#d8576b"
             ],
             [
              0.6666666666666666,
              "#ed7953"
             ],
             [
              0.7777777777777778,
              "#fb9f3a"
             ],
             [
              0.8888888888888888,
              "#fdca26"
             ],
             [
              1,
              "#f0f921"
             ]
            ],
            "type": "contour"
           }
          ],
          "contourcarpet": [
           {
            "colorbar": {
             "outlinewidth": 0,
             "ticks": ""
            },
            "type": "contourcarpet"
           }
          ],
          "heatmap": [
           {
            "colorbar": {
             "outlinewidth": 0,
             "ticks": ""
            },
            "colorscale": [
             [
              0,
              "#0d0887"
             ],
             [
              0.1111111111111111,
              "#46039f"
             ],
             [
              0.2222222222222222,
              "#7201a8"
             ],
             [
              0.3333333333333333,
              "#9c179e"
             ],
             [
              0.4444444444444444,
              "#bd3786"
             ],
             [
              0.5555555555555556,
              "#d8576b"
             ],
             [
              0.6666666666666666,
              "#ed7953"
             ],
             [
              0.7777777777777778,
              "#fb9f3a"
             ],
             [
              0.8888888888888888,
              "#fdca26"
             ],
             [
              1,
              "#f0f921"
             ]
            ],
            "type": "heatmap"
           }
          ],
          "heatmapgl": [
           {
            "colorbar": {
             "outlinewidth": 0,
             "ticks": ""
            },
            "colorscale": [
             [
              0,
              "#0d0887"
             ],
             [
              0.1111111111111111,
              "#46039f"
             ],
             [
              0.2222222222222222,
              "#7201a8"
             ],
             [
              0.3333333333333333,
              "#9c179e"
             ],
             [
              0.4444444444444444,
              "#bd3786"
             ],
             [
              0.5555555555555556,
              "#d8576b"
             ],
             [
              0.6666666666666666,
              "#ed7953"
             ],
             [
              0.7777777777777778,
              "#fb9f3a"
             ],
             [
              0.8888888888888888,
              "#fdca26"
             ],
             [
              1,
              "#f0f921"
             ]
            ],
            "type": "heatmapgl"
           }
          ],
          "histogram": [
           {
            "marker": {
             "pattern": {
              "fillmode": "overlay",
              "size": 10,
              "solidity": 0.2
             }
            },
            "type": "histogram"
           }
          ],
          "histogram2d": [
           {
            "colorbar": {
             "outlinewidth": 0,
             "ticks": ""
            },
            "colorscale": [
             [
              0,
              "#0d0887"
             ],
             [
              0.1111111111111111,
              "#46039f"
             ],
             [
              0.2222222222222222,
              "#7201a8"
             ],
             [
              0.3333333333333333,
              "#9c179e"
             ],
             [
              0.4444444444444444,
              "#bd3786"
             ],
             [
              0.5555555555555556,
              "#d8576b"
             ],
             [
              0.6666666666666666,
              "#ed7953"
             ],
             [
              0.7777777777777778,
              "#fb9f3a"
             ],
             [
              0.8888888888888888,
              "#fdca26"
             ],
             [
              1,
              "#f0f921"
             ]
            ],
            "type": "histogram2d"
           }
          ],
          "histogram2dcontour": [
           {
            "colorbar": {
             "outlinewidth": 0,
             "ticks": ""
            },
            "colorscale": [
             [
              0,
              "#0d0887"
             ],
             [
              0.1111111111111111,
              "#46039f"
             ],
             [
              0.2222222222222222,
              "#7201a8"
             ],
             [
              0.3333333333333333,
              "#9c179e"
             ],
             [
              0.4444444444444444,
              "#bd3786"
             ],
             [
              0.5555555555555556,
              "#d8576b"
             ],
             [
              0.6666666666666666,
              "#ed7953"
             ],
             [
              0.7777777777777778,
              "#fb9f3a"
             ],
             [
              0.8888888888888888,
              "#fdca26"
             ],
             [
              1,
              "#f0f921"
             ]
            ],
            "type": "histogram2dcontour"
           }
          ],
          "mesh3d": [
           {
            "colorbar": {
             "outlinewidth": 0,
             "ticks": ""
            },
            "type": "mesh3d"
           }
          ],
          "parcoords": [
           {
            "line": {
             "colorbar": {
              "outlinewidth": 0,
              "ticks": ""
             }
            },
            "type": "parcoords"
           }
          ],
          "pie": [
           {
            "automargin": true,
            "type": "pie"
           }
          ],
          "scatter": [
           {
            "fillpattern": {
             "fillmode": "overlay",
             "size": 10,
             "solidity": 0.2
            },
            "type": "scatter"
           }
          ],
          "scatter3d": [
           {
            "line": {
             "colorbar": {
              "outlinewidth": 0,
              "ticks": ""
             }
            },
            "marker": {
             "colorbar": {
              "outlinewidth": 0,
              "ticks": ""
             }
            },
            "type": "scatter3d"
           }
          ],
          "scattercarpet": [
           {
            "marker": {
             "colorbar": {
              "outlinewidth": 0,
              "ticks": ""
             }
            },
            "type": "scattercarpet"
           }
          ],
          "scattergeo": [
           {
            "marker": {
             "colorbar": {
              "outlinewidth": 0,
              "ticks": ""
             }
            },
            "type": "scattergeo"
           }
          ],
          "scattergl": [
           {
            "marker": {
             "colorbar": {
              "outlinewidth": 0,
              "ticks": ""
             }
            },
            "type": "scattergl"
           }
          ],
          "scattermapbox": [
           {
            "marker": {
             "colorbar": {
              "outlinewidth": 0,
              "ticks": ""
             }
            },
            "type": "scattermapbox"
           }
          ],
          "scatterpolar": [
           {
            "marker": {
             "colorbar": {
              "outlinewidth": 0,
              "ticks": ""
             }
            },
            "type": "scatterpolar"
           }
          ],
          "scatterpolargl": [
           {
            "marker": {
             "colorbar": {
              "outlinewidth": 0,
              "ticks": ""
             }
            },
            "type": "scatterpolargl"
           }
          ],
          "scatterternary": [
           {
            "marker": {
             "colorbar": {
              "outlinewidth": 0,
              "ticks": ""
             }
            },
            "type": "scatterternary"
           }
          ],
          "surface": [
           {
            "colorbar": {
             "outlinewidth": 0,
             "ticks": ""
            },
            "colorscale": [
             [
              0,
              "#0d0887"
             ],
             [
              0.1111111111111111,
              "#46039f"
             ],
             [
              0.2222222222222222,
              "#7201a8"
             ],
             [
              0.3333333333333333,
              "#9c179e"
             ],
             [
              0.4444444444444444,
              "#bd3786"
             ],
             [
              0.5555555555555556,
              "#d8576b"
             ],
             [
              0.6666666666666666,
              "#ed7953"
             ],
             [
              0.7777777777777778,
              "#fb9f3a"
             ],
             [
              0.8888888888888888,
              "#fdca26"
             ],
             [
              1,
              "#f0f921"
             ]
            ],
            "type": "surface"
           }
          ],
          "table": [
           {
            "cells": {
             "fill": {
              "color": "#EBF0F8"
             },
             "line": {
              "color": "white"
             }
            },
            "header": {
             "fill": {
              "color": "#C8D4E3"
             },
             "line": {
              "color": "white"
             }
            },
            "type": "table"
           }
          ]
         },
         "layout": {
          "annotationdefaults": {
           "arrowcolor": "#2a3f5f",
           "arrowhead": 0,
           "arrowwidth": 1
          },
          "autotypenumbers": "strict",
          "coloraxis": {
           "colorbar": {
            "outlinewidth": 0,
            "ticks": ""
           }
          },
          "colorscale": {
           "diverging": [
            [
             0,
             "#8e0152"
            ],
            [
             0.1,
             "#c51b7d"
            ],
            [
             0.2,
             "#de77ae"
            ],
            [
             0.3,
             "#f1b6da"
            ],
            [
             0.4,
             "#fde0ef"
            ],
            [
             0.5,
             "#f7f7f7"
            ],
            [
             0.6,
             "#e6f5d0"
            ],
            [
             0.7,
             "#b8e186"
            ],
            [
             0.8,
             "#7fbc41"
            ],
            [
             0.9,
             "#4d9221"
            ],
            [
             1,
             "#276419"
            ]
           ],
           "sequential": [
            [
             0,
             "#0d0887"
            ],
            [
             0.1111111111111111,
             "#46039f"
            ],
            [
             0.2222222222222222,
             "#7201a8"
            ],
            [
             0.3333333333333333,
             "#9c179e"
            ],
            [
             0.4444444444444444,
             "#bd3786"
            ],
            [
             0.5555555555555556,
             "#d8576b"
            ],
            [
             0.6666666666666666,
             "#ed7953"
            ],
            [
             0.7777777777777778,
             "#fb9f3a"
            ],
            [
             0.8888888888888888,
             "#fdca26"
            ],
            [
             1,
             "#f0f921"
            ]
           ],
           "sequentialminus": [
            [
             0,
             "#0d0887"
            ],
            [
             0.1111111111111111,
             "#46039f"
            ],
            [
             0.2222222222222222,
             "#7201a8"
            ],
            [
             0.3333333333333333,
             "#9c179e"
            ],
            [
             0.4444444444444444,
             "#bd3786"
            ],
            [
             0.5555555555555556,
             "#d8576b"
            ],
            [
             0.6666666666666666,
             "#ed7953"
            ],
            [
             0.7777777777777778,
             "#fb9f3a"
            ],
            [
             0.8888888888888888,
             "#fdca26"
            ],
            [
             1,
             "#f0f921"
            ]
           ]
          },
          "colorway": [
           "#636efa",
           "#EF553B",
           "#00cc96",
           "#ab63fa",
           "#FFA15A",
           "#19d3f3",
           "#FF6692",
           "#B6E880",
           "#FF97FF",
           "#FECB52"
          ],
          "font": {
           "color": "#2a3f5f"
          },
          "geo": {
           "bgcolor": "white",
           "lakecolor": "white",
           "landcolor": "#E5ECF6",
           "showlakes": true,
           "showland": true,
           "subunitcolor": "white"
          },
          "hoverlabel": {
           "align": "left"
          },
          "hovermode": "closest",
          "mapbox": {
           "style": "light"
          },
          "paper_bgcolor": "white",
          "plot_bgcolor": "#E5ECF6",
          "polar": {
           "angularaxis": {
            "gridcolor": "white",
            "linecolor": "white",
            "ticks": ""
           },
           "bgcolor": "#E5ECF6",
           "radialaxis": {
            "gridcolor": "white",
            "linecolor": "white",
            "ticks": ""
           }
          },
          "scene": {
           "xaxis": {
            "backgroundcolor": "#E5ECF6",
            "gridcolor": "white",
            "gridwidth": 2,
            "linecolor": "white",
            "showbackground": true,
            "ticks": "",
            "zerolinecolor": "white"
           },
           "yaxis": {
            "backgroundcolor": "#E5ECF6",
            "gridcolor": "white",
            "gridwidth": 2,
            "linecolor": "white",
            "showbackground": true,
            "ticks": "",
            "zerolinecolor": "white"
           },
           "zaxis": {
            "backgroundcolor": "#E5ECF6",
            "gridcolor": "white",
            "gridwidth": 2,
            "linecolor": "white",
            "showbackground": true,
            "ticks": "",
            "zerolinecolor": "white"
           }
          },
          "shapedefaults": {
           "line": {
            "color": "#2a3f5f"
           }
          },
          "ternary": {
           "aaxis": {
            "gridcolor": "white",
            "linecolor": "white",
            "ticks": ""
           },
           "baxis": {
            "gridcolor": "white",
            "linecolor": "white",
            "ticks": ""
           },
           "bgcolor": "#E5ECF6",
           "caxis": {
            "gridcolor": "white",
            "linecolor": "white",
            "ticks": ""
           }
          },
          "title": {
           "x": 0.05
          },
          "xaxis": {
           "automargin": true,
           "gridcolor": "white",
           "linecolor": "white",
           "ticks": "",
           "title": {
            "standoff": 15
           },
           "zerolinecolor": "white",
           "zerolinewidth": 2
          },
          "yaxis": {
           "automargin": true,
           "gridcolor": "white",
           "linecolor": "white",
           "ticks": "",
           "title": {
            "standoff": 15
           },
           "zerolinecolor": "white",
           "zerolinewidth": 2
          }
         }
        }
       }
      },
      "text/html": [
       "<div>                            <div id=\"fb4934b0-e3bb-4d76-bedd-3e871702bea2\" class=\"plotly-graph-div\" style=\"height:525px; width:100%;\"></div>            <script type=\"text/javascript\">                require([\"plotly\"], function(Plotly) {                    window.PLOTLYENV=window.PLOTLYENV || {};                                    if (document.getElementById(\"fb4934b0-e3bb-4d76-bedd-3e871702bea2\")) {                    Plotly.newPlot(                        \"fb4934b0-e3bb-4d76-bedd-3e871702bea2\",                        [{\"coloraxis\":\"coloraxis\",\"customdata\":[[\"Australia\",2.08],[\"Austria\",2.37],[\"Belgium\",2.55],[\"Canada\",3.0],[\"Denmark\",2.56],[\"Finland\",0.17],[\"France\",1.2],[\"Germany\",2.67],[\"Greece\",1.04],[\"Ireland\",0.97],[\"Italy\",1.08],[\"Japan\",0.89],[\"Luxembourg\",0.06],[\"Netherlands\",3.11],[\"New Zealand\",3.67],[\"Norway\",4.74],[\"Portugal\",0.42],[\"Spain\",2.19],[\"Sweden\",3.86],[\"Switzerland\",4.48],[\"T\\u00fcrkiye\",0.02],[\"USA\",4.79],[\"United Kingdom of Great Britain and Northern Ireland\",1.14],[\"Cambodia\",0.01],[\"China\",0.01],[\"Fiji\",0.07],[\"Hong Kong\",0.23],[\"India\",0.05],[\"Indonesia\",0.01],[\"Malaysia\",0.09],[\"Myanmar\",0.19],[\"Philippines\",0.09],[\"Korea, Republic of\",0.01],[\"Sri Lanka\",0.21],[\"Taiwan\",0.03],[\"Thailand\",0.14],[\"Albania\",0.03],[\"Bulgaria\",1.09],[\"Hungary\",2.27],[\"Poland\",1.59],[\"Russian Federation\",0.21],[\"Argentina\",0.62],[\"Barbados\",1.29],[\"Bolivia, Plurinational State of\",0.11],[\"Brazil\",0.23],[\"Chile\",0.59],[\"Colombia\",0.43],[\"Costa Rica\",0.65],[\"Cuba\",0.22],[\"Dominican Republic\",0.14],[\"Ecuador\",0.36],[\"El Salvador\",0.41],[\"Guatemala\",0.4],[\"Guyana\",0.65],[\"Honduras\",0.43],[\"Jamaica\",1.02],[\"Mexico\",0.58],[\"Nicaragua\",0.29],[\"Panama\",0.19],[\"Paraguay\",0.13],[\"Peru\",0.1],[\"Trinidad and Tobago\",0.7],[\"Uruguay\",0.56],[\"Venezuela, Bolivarian Republic of\",0.02],[\"Algeria\",0.17],[\"Egypt\",0.04],[\"Iran, Islamic Republic of\",0.01],[\"Iraq\",0.01],[\"Malta\",0.77],[\"Morocco\",0.01],[\"Syrian Arab Republic\",0.04],[\"Tunisia\",0.01],[\"Benin\",0.01],[\"Cameroon\",0.02],[\"Cote dIvoire\",0.13],[\"Ghana\",0.03],[\"Kenya\",0.01],[\"Malawi\",0.01],[\"Mali\",0.01],[\"Mauritius\",0.32],[\"Mozambique\",0.01],[\"Niger\",0.01],[\"R\\u00e9union\",0.84],[\"Senegal\",0.01],[\"Sierra Leone\",0.04],[\"South Africa\",1.01],[\"Sudan\",0.01],[\"Uganda\",0.01],[\"Zimbabwe\",0.04]],\"geo\":\"geo\",\"hovertemplate\":\"iso_alpha=%{location}<br>country=%{customdata[0]}<br>avg_years_total_schooling=%{z}<extra></extra>\",\"locations\":[\"AUS\",\"AUT\",\"BEL\",\"CAN\",\"DNK\",\"FIN\",\"FRA\",\"DEU\",\"GRC\",\"IRL\",\"ITA\",\"JPN\",\"LUX\",\"NLD\",\"NZL\",\"NOR\",\"PRT\",\"ESP\",\"SWE\",\"CHE\",\"TUR\",\"USA\",\"GBR\",\"KHM\",\"CHN\",\"FJI\",\"HKG\",\"IND\",\"IDN\",\"MYS\",\"MMR\",\"PHL\",\"KOR\",\"LKA\",\"TWN\",\"THA\",\"ALB\",\"BGR\",\"HUN\",\"POL\",\"RUS\",\"ARG\",\"BRB\",\"BOL\",\"BRA\",\"CHL\",\"COL\",\"CRI\",\"CUB\",\"DOM\",\"ECU\",\"SLV\",\"GTM\",\"GUY\",\"HND\",\"JAM\",\"MEX\",\"NIC\",\"PAN\",\"PRY\",\"PER\",\"TTO\",\"URY\",\"VEN\",\"DZA\",\"EGY\",\"IRN\",\"IRQ\",\"MLT\",\"MAR\",\"SYR\",\"TUN\",\"BEN\",\"CMR\",null,\"GHA\",\"KEN\",\"MWI\",\"MLI\",\"MUS\",\"MOZ\",\"NER\",\"REU\",\"SEN\",\"SLE\",\"ZAF\",\"SDN\",\"UGA\",\"ZWE\"],\"name\":\"\",\"z\":[2.08,2.37,2.55,3.0,2.56,0.17,1.2,2.67,1.04,0.97,1.08,0.89,0.06,3.11,3.67,4.74,0.42,2.19,3.86,4.48,0.02,4.79,1.14,0.01,0.01,0.07,0.23,0.05,0.01,0.09,0.19,0.09,0.01,0.21,0.03,0.14,0.03,1.09,2.27,1.59,0.21,0.62,1.29,0.11,0.23,0.59,0.43,0.65,0.22,0.14,0.36,0.41,0.4,0.65,0.43,1.02,0.58,0.29,0.19,0.13,0.1,0.7,0.56,0.02,0.17,0.04,0.01,0.01,0.77,0.01,0.04,0.01,0.01,0.02,0.13,0.03,0.01,0.01,0.01,0.32,0.01,0.01,0.84,0.01,0.04,1.01,0.01,0.01,0.04],\"type\":\"choropleth\"}],                        {\"template\":{\"data\":{\"histogram2dcontour\":[{\"type\":\"histogram2dcontour\",\"colorbar\":{\"outlinewidth\":0,\"ticks\":\"\"},\"colorscale\":[[0.0,\"#0d0887\"],[0.1111111111111111,\"#46039f\"],[0.2222222222222222,\"#7201a8\"],[0.3333333333333333,\"#9c179e\"],[0.4444444444444444,\"#bd3786\"],[0.5555555555555556,\"#d8576b\"],[0.6666666666666666,\"#ed7953\"],[0.7777777777777778,\"#fb9f3a\"],[0.8888888888888888,\"#fdca26\"],[1.0,\"#f0f921\"]]}],\"choropleth\":[{\"type\":\"choropleth\",\"colorbar\":{\"outlinewidth\":0,\"ticks\":\"\"}}],\"histogram2d\":[{\"type\":\"histogram2d\",\"colorbar\":{\"outlinewidth\":0,\"ticks\":\"\"},\"colorscale\":[[0.0,\"#0d0887\"],[0.1111111111111111,\"#46039f\"],[0.2222222222222222,\"#7201a8\"],[0.3333333333333333,\"#9c179e\"],[0.4444444444444444,\"#bd3786\"],[0.5555555555555556,\"#d8576b\"],[0.6666666666666666,\"#ed7953\"],[0.7777777777777778,\"#fb9f3a\"],[0.8888888888888888,\"#fdca26\"],[1.0,\"#f0f921\"]]}],\"heatmap\":[{\"type\":\"heatmap\",\"colorbar\":{\"outlinewidth\":0,\"ticks\":\"\"},\"colorscale\":[[0.0,\"#0d0887\"],[0.1111111111111111,\"#46039f\"],[0.2222222222222222,\"#7201a8\"],[0.3333333333333333,\"#9c179e\"],[0.4444444444444444,\"#bd3786\"],[0.5555555555555556,\"#d8576b\"],[0.6666666666666666,\"#ed7953\"],[0.7777777777777778,\"#fb9f3a\"],[0.8888888888888888,\"#fdca26\"],[1.0,\"#f0f921\"]]}],\"heatmapgl\":[{\"type\":\"heatmapgl\",\"colorbar\":{\"outlinewidth\":0,\"ticks\":\"\"},\"colorscale\":[[0.0,\"#0d0887\"],[0.1111111111111111,\"#46039f\"],[0.2222222222222222,\"#7201a8\"],[0.3333333333333333,\"#9c179e\"],[0.4444444444444444,\"#bd3786\"],[0.5555555555555556,\"#d8576b\"],[0.6666666666666666,\"#ed7953\"],[0.7777777777777778,\"#fb9f3a\"],[0.8888888888888888,\"#fdca26\"],[1.0,\"#f0f921\"]]}],\"contourcarpet\":[{\"type\":\"contourcarpet\",\"colorbar\":{\"outlinewidth\":0,\"ticks\":\"\"}}],\"contour\":[{\"type\":\"contour\",\"colorbar\":{\"outlinewidth\":0,\"ticks\":\"\"},\"colorscale\":[[0.0,\"#0d0887\"],[0.1111111111111111,\"#46039f\"],[0.2222222222222222,\"#7201a8\"],[0.3333333333333333,\"#9c179e\"],[0.4444444444444444,\"#bd3786\"],[0.5555555555555556,\"#d8576b\"],[0.6666666666666666,\"#ed7953\"],[0.7777777777777778,\"#fb9f3a\"],[0.8888888888888888,\"#fdca26\"],[1.0,\"#f0f921\"]]}],\"surface\":[{\"type\":\"surface\",\"colorbar\":{\"outlinewidth\":0,\"ticks\":\"\"},\"colorscale\":[[0.0,\"#0d0887\"],[0.1111111111111111,\"#46039f\"],[0.2222222222222222,\"#7201a8\"],[0.3333333333333333,\"#9c179e\"],[0.4444444444444444,\"#bd3786\"],[0.5555555555555556,\"#d8576b\"],[0.6666666666666666,\"#ed7953\"],[0.7777777777777778,\"#fb9f3a\"],[0.8888888888888888,\"#fdca26\"],[1.0,\"#f0f921\"]]}],\"mesh3d\":[{\"type\":\"mesh3d\",\"colorbar\":{\"outlinewidth\":0,\"ticks\":\"\"}}],\"scatter\":[{\"fillpattern\":{\"fillmode\":\"overlay\",\"size\":10,\"solidity\":0.2},\"type\":\"scatter\"}],\"parcoords\":[{\"type\":\"parcoords\",\"line\":{\"colorbar\":{\"outlinewidth\":0,\"ticks\":\"\"}}}],\"scatterpolargl\":[{\"type\":\"scatterpolargl\",\"marker\":{\"colorbar\":{\"outlinewidth\":0,\"ticks\":\"\"}}}],\"bar\":[{\"error_x\":{\"color\":\"#2a3f5f\"},\"error_y\":{\"color\":\"#2a3f5f\"},\"marker\":{\"line\":{\"color\":\"#E5ECF6\",\"width\":0.5},\"pattern\":{\"fillmode\":\"overlay\",\"size\":10,\"solidity\":0.2}},\"type\":\"bar\"}],\"scattergeo\":[{\"type\":\"scattergeo\",\"marker\":{\"colorbar\":{\"outlinewidth\":0,\"ticks\":\"\"}}}],\"scatterpolar\":[{\"type\":\"scatterpolar\",\"marker\":{\"colorbar\":{\"outlinewidth\":0,\"ticks\":\"\"}}}],\"histogram\":[{\"marker\":{\"pattern\":{\"fillmode\":\"overlay\",\"size\":10,\"solidity\":0.2}},\"type\":\"histogram\"}],\"scattergl\":[{\"type\":\"scattergl\",\"marker\":{\"colorbar\":{\"outlinewidth\":0,\"ticks\":\"\"}}}],\"scatter3d\":[{\"type\":\"scatter3d\",\"line\":{\"colorbar\":{\"outlinewidth\":0,\"ticks\":\"\"}},\"marker\":{\"colorbar\":{\"outlinewidth\":0,\"ticks\":\"\"}}}],\"scattermapbox\":[{\"type\":\"scattermapbox\",\"marker\":{\"colorbar\":{\"outlinewidth\":0,\"ticks\":\"\"}}}],\"scatterternary\":[{\"type\":\"scatterternary\",\"marker\":{\"colorbar\":{\"outlinewidth\":0,\"ticks\":\"\"}}}],\"scattercarpet\":[{\"type\":\"scattercarpet\",\"marker\":{\"colorbar\":{\"outlinewidth\":0,\"ticks\":\"\"}}}],\"carpet\":[{\"aaxis\":{\"endlinecolor\":\"#2a3f5f\",\"gridcolor\":\"white\",\"linecolor\":\"white\",\"minorgridcolor\":\"white\",\"startlinecolor\":\"#2a3f5f\"},\"baxis\":{\"endlinecolor\":\"#2a3f5f\",\"gridcolor\":\"white\",\"linecolor\":\"white\",\"minorgridcolor\":\"white\",\"startlinecolor\":\"#2a3f5f\"},\"type\":\"carpet\"}],\"table\":[{\"cells\":{\"fill\":{\"color\":\"#EBF0F8\"},\"line\":{\"color\":\"white\"}},\"header\":{\"fill\":{\"color\":\"#C8D4E3\"},\"line\":{\"color\":\"white\"}},\"type\":\"table\"}],\"barpolar\":[{\"marker\":{\"line\":{\"color\":\"#E5ECF6\",\"width\":0.5},\"pattern\":{\"fillmode\":\"overlay\",\"size\":10,\"solidity\":0.2}},\"type\":\"barpolar\"}],\"pie\":[{\"automargin\":true,\"type\":\"pie\"}]},\"layout\":{\"autotypenumbers\":\"strict\",\"colorway\":[\"#636efa\",\"#EF553B\",\"#00cc96\",\"#ab63fa\",\"#FFA15A\",\"#19d3f3\",\"#FF6692\",\"#B6E880\",\"#FF97FF\",\"#FECB52\"],\"font\":{\"color\":\"#2a3f5f\"},\"hovermode\":\"closest\",\"hoverlabel\":{\"align\":\"left\"},\"paper_bgcolor\":\"white\",\"plot_bgcolor\":\"#E5ECF6\",\"polar\":{\"bgcolor\":\"#E5ECF6\",\"angularaxis\":{\"gridcolor\":\"white\",\"linecolor\":\"white\",\"ticks\":\"\"},\"radialaxis\":{\"gridcolor\":\"white\",\"linecolor\":\"white\",\"ticks\":\"\"}},\"ternary\":{\"bgcolor\":\"#E5ECF6\",\"aaxis\":{\"gridcolor\":\"white\",\"linecolor\":\"white\",\"ticks\":\"\"},\"baxis\":{\"gridcolor\":\"white\",\"linecolor\":\"white\",\"ticks\":\"\"},\"caxis\":{\"gridcolor\":\"white\",\"linecolor\":\"white\",\"ticks\":\"\"}},\"coloraxis\":{\"colorbar\":{\"outlinewidth\":0,\"ticks\":\"\"}},\"colorscale\":{\"sequential\":[[0.0,\"#0d0887\"],[0.1111111111111111,\"#46039f\"],[0.2222222222222222,\"#7201a8\"],[0.3333333333333333,\"#9c179e\"],[0.4444444444444444,\"#bd3786\"],[0.5555555555555556,\"#d8576b\"],[0.6666666666666666,\"#ed7953\"],[0.7777777777777778,\"#fb9f3a\"],[0.8888888888888888,\"#fdca26\"],[1.0,\"#f0f921\"]],\"sequentialminus\":[[0.0,\"#0d0887\"],[0.1111111111111111,\"#46039f\"],[0.2222222222222222,\"#7201a8\"],[0.3333333333333333,\"#9c179e\"],[0.4444444444444444,\"#bd3786\"],[0.5555555555555556,\"#d8576b\"],[0.6666666666666666,\"#ed7953\"],[0.7777777777777778,\"#fb9f3a\"],[0.8888888888888888,\"#fdca26\"],[1.0,\"#f0f921\"]],\"diverging\":[[0,\"#8e0152\"],[0.1,\"#c51b7d\"],[0.2,\"#de77ae\"],[0.3,\"#f1b6da\"],[0.4,\"#fde0ef\"],[0.5,\"#f7f7f7\"],[0.6,\"#e6f5d0\"],[0.7,\"#b8e186\"],[0.8,\"#7fbc41\"],[0.9,\"#4d9221\"],[1,\"#276419\"]]},\"xaxis\":{\"gridcolor\":\"white\",\"linecolor\":\"white\",\"ticks\":\"\",\"title\":{\"standoff\":15},\"zerolinecolor\":\"white\",\"automargin\":true,\"zerolinewidth\":2},\"yaxis\":{\"gridcolor\":\"white\",\"linecolor\":\"white\",\"ticks\":\"\",\"title\":{\"standoff\":15},\"zerolinecolor\":\"white\",\"automargin\":true,\"zerolinewidth\":2},\"scene\":{\"xaxis\":{\"backgroundcolor\":\"#E5ECF6\",\"gridcolor\":\"white\",\"linecolor\":\"white\",\"showbackground\":true,\"ticks\":\"\",\"zerolinecolor\":\"white\",\"gridwidth\":2},\"yaxis\":{\"backgroundcolor\":\"#E5ECF6\",\"gridcolor\":\"white\",\"linecolor\":\"white\",\"showbackground\":true,\"ticks\":\"\",\"zerolinecolor\":\"white\",\"gridwidth\":2},\"zaxis\":{\"backgroundcolor\":\"#E5ECF6\",\"gridcolor\":\"white\",\"linecolor\":\"white\",\"showbackground\":true,\"ticks\":\"\",\"zerolinecolor\":\"white\",\"gridwidth\":2}},\"shapedefaults\":{\"line\":{\"color\":\"#2a3f5f\"}},\"annotationdefaults\":{\"arrowcolor\":\"#2a3f5f\",\"arrowhead\":0,\"arrowwidth\":1},\"geo\":{\"bgcolor\":\"white\",\"landcolor\":\"#E5ECF6\",\"subunitcolor\":\"white\",\"showland\":true,\"showlakes\":true,\"lakecolor\":\"white\"},\"title\":{\"x\":0.05},\"mapbox\":{\"style\":\"light\"}}},\"geo\":{\"domain\":{\"x\":[0.0,1.0],\"y\":[0.0,1.0]},\"center\":{}},\"coloraxis\":{\"colorbar\":{\"title\":{\"text\":\"avg_years_total_schooling\"}},\"colorscale\":[[0.0,\"rgb(202, 86, 44)\"],[0.16666666666666666,\"rgb(222, 138, 90)\"],[0.3333333333333333,\"rgb(237, 187, 138)\"],[0.5,\"rgb(246, 237, 189)\"],[0.6666666666666666,\"rgb(180, 200, 168)\"],[0.8333333333333334,\"rgb(112, 164, 148)\"],[1.0,\"rgb(0, 128, 128)\"]]},\"legend\":{\"tracegroupgap\":0},\"margin\":{\"t\":60}},                        {\"responsive\": true}                    ).then(function(){\n",
       "                            \n",
       "var gd = document.getElementById('fb4934b0-e3bb-4d76-bedd-3e871702bea2');\n",
       "var x = new MutationObserver(function (mutations, observer) {{\n",
       "        var display = window.getComputedStyle(gd).display;\n",
       "        if (!display || display === 'none') {{\n",
       "            console.log([gd, 'removed!']);\n",
       "            Plotly.purge(gd);\n",
       "            observer.disconnect();\n",
       "        }}\n",
       "}});\n",
       "\n",
       "// Listen for the removal of the full notebook cells\n",
       "var notebookContainer = gd.closest('#notebook-container');\n",
       "if (notebookContainer) {{\n",
       "    x.observe(notebookContainer, {childList: true});\n",
       "}}\n",
       "\n",
       "// Listen for the clearing of the current output cell\n",
       "var outputEl = gd.closest('.output');\n",
       "if (outputEl) {{\n",
       "    x.observe(outputEl, {childList: true});\n",
       "}}\n",
       "\n",
       "                        })                };                });            </script>        </div>"
      ]
     },
     "metadata": {},
     "output_type": "display_data"
    }
   ],
   "source": [
    "px.choropleth(data_frame=df1880,\n",
    "             color='avg_years_total_schooling', \n",
    "              locations=\"iso_alpha\",\n",
    "            color_continuous_scale=px.colors.diverging.Geyser_r,\n",
    "             hover_data= ['country', 'avg_years_total_schooling'])"
   ]
  },
  {
   "cell_type": "code",
   "execution_count": 71,
   "id": "673d4c66",
   "metadata": {},
   "outputs": [
    {
     "data": {
      "text/html": [
       "<div>\n",
       "<style scoped>\n",
       "    .dataframe tbody tr th:only-of-type {\n",
       "        vertical-align: middle;\n",
       "    }\n",
       "\n",
       "    .dataframe tbody tr th {\n",
       "        vertical-align: top;\n",
       "    }\n",
       "\n",
       "    .dataframe thead th {\n",
       "        text-align: right;\n",
       "    }\n",
       "</style>\n",
       "<table border=\"1\" class=\"dataframe\">\n",
       "  <thead>\n",
       "    <tr style=\"text-align: right;\">\n",
       "      <th></th>\n",
       "      <th>country</th>\n",
       "      <th>year</th>\n",
       "      <th>no_schooling</th>\n",
       "      <th>total_primary</th>\n",
       "      <th>completed_primary</th>\n",
       "      <th>total_secondary</th>\n",
       "      <th>completed_secondary</th>\n",
       "      <th>total_tertiary</th>\n",
       "      <th>completed_tertiary</th>\n",
       "      <th>avg_years_total_schooling</th>\n",
       "      <th>avg_years_primary_schooling</th>\n",
       "      <th>avg_years_secondary_schooling</th>\n",
       "      <th>avg_years_tertiary_schooling</th>\n",
       "      <th>population_1000s</th>\n",
       "      <th>region</th>\n",
       "      <th>iso_alpha</th>\n",
       "    </tr>\n",
       "  </thead>\n",
       "  <tbody>\n",
       "    <tr>\n",
       "      <th>0</th>\n",
       "      <td>Australia</td>\n",
       "      <td>1870</td>\n",
       "      <td>50.5</td>\n",
       "      <td>49.3</td>\n",
       "      <td>8.8</td>\n",
       "      <td>0.1</td>\n",
       "      <td>0.0</td>\n",
       "      <td>0.1</td>\n",
       "      <td>0.0</td>\n",
       "      <td>1.77</td>\n",
       "      <td>1.76</td>\n",
       "      <td>0.01</td>\n",
       "      <td>0.00</td>\n",
       "      <td>932.0</td>\n",
       "      <td>Advanced Economies</td>\n",
       "      <td>AUS</td>\n",
       "    </tr>\n",
       "    <tr>\n",
       "      <th>1</th>\n",
       "      <td>Australia</td>\n",
       "      <td>1875</td>\n",
       "      <td>46.0</td>\n",
       "      <td>53.8</td>\n",
       "      <td>9.6</td>\n",
       "      <td>0.1</td>\n",
       "      <td>0.0</td>\n",
       "      <td>0.1</td>\n",
       "      <td>0.0</td>\n",
       "      <td>1.93</td>\n",
       "      <td>1.92</td>\n",
       "      <td>0.01</td>\n",
       "      <td>0.00</td>\n",
       "      <td>1074.0</td>\n",
       "      <td>Advanced Economies</td>\n",
       "      <td>AUS</td>\n",
       "    </tr>\n",
       "    <tr>\n",
       "      <th>2</th>\n",
       "      <td>Australia</td>\n",
       "      <td>1880</td>\n",
       "      <td>41.5</td>\n",
       "      <td>58.0</td>\n",
       "      <td>9.7</td>\n",
       "      <td>0.3</td>\n",
       "      <td>0.1</td>\n",
       "      <td>0.2</td>\n",
       "      <td>0.1</td>\n",
       "      <td>2.08</td>\n",
       "      <td>2.06</td>\n",
       "      <td>0.02</td>\n",
       "      <td>0.00</td>\n",
       "      <td>1314.0</td>\n",
       "      <td>Advanced Economies</td>\n",
       "      <td>AUS</td>\n",
       "    </tr>\n",
       "    <tr>\n",
       "      <th>3</th>\n",
       "      <td>Australia</td>\n",
       "      <td>1885</td>\n",
       "      <td>36.1</td>\n",
       "      <td>61.7</td>\n",
       "      <td>11.3</td>\n",
       "      <td>2.0</td>\n",
       "      <td>0.4</td>\n",
       "      <td>0.2</td>\n",
       "      <td>0.1</td>\n",
       "      <td>2.41</td>\n",
       "      <td>2.32</td>\n",
       "      <td>0.08</td>\n",
       "      <td>0.01</td>\n",
       "      <td>1569.0</td>\n",
       "      <td>Advanced Economies</td>\n",
       "      <td>AUS</td>\n",
       "    </tr>\n",
       "    <tr>\n",
       "      <th>4</th>\n",
       "      <td>Australia</td>\n",
       "      <td>1890</td>\n",
       "      <td>29.7</td>\n",
       "      <td>66.6</td>\n",
       "      <td>13.3</td>\n",
       "      <td>3.5</td>\n",
       "      <td>0.7</td>\n",
       "      <td>0.3</td>\n",
       "      <td>0.1</td>\n",
       "      <td>2.76</td>\n",
       "      <td>2.62</td>\n",
       "      <td>0.13</td>\n",
       "      <td>0.01</td>\n",
       "      <td>1895.0</td>\n",
       "      <td>Advanced Economies</td>\n",
       "      <td>AUS</td>\n",
       "    </tr>\n",
       "    <tr>\n",
       "      <th>...</th>\n",
       "      <td>...</td>\n",
       "      <td>...</td>\n",
       "      <td>...</td>\n",
       "      <td>...</td>\n",
       "      <td>...</td>\n",
       "      <td>...</td>\n",
       "      <td>...</td>\n",
       "      <td>...</td>\n",
       "      <td>...</td>\n",
       "      <td>...</td>\n",
       "      <td>...</td>\n",
       "      <td>...</td>\n",
       "      <td>...</td>\n",
       "      <td>...</td>\n",
       "      <td>...</td>\n",
       "      <td>...</td>\n",
       "    </tr>\n",
       "    <tr>\n",
       "      <th>2928</th>\n",
       "      <td>Zimbabwe</td>\n",
       "      <td>1990</td>\n",
       "      <td>12.2</td>\n",
       "      <td>47.9</td>\n",
       "      <td>21.8</td>\n",
       "      <td>36.1</td>\n",
       "      <td>21.8</td>\n",
       "      <td>3.8</td>\n",
       "      <td>2.3</td>\n",
       "      <td>5.97</td>\n",
       "      <td>3.74</td>\n",
       "      <td>2.11</td>\n",
       "      <td>0.12</td>\n",
       "      <td>5399.0</td>\n",
       "      <td>Sub-Saharan Africa</td>\n",
       "      <td>ZWE</td>\n",
       "    </tr>\n",
       "    <tr>\n",
       "      <th>2929</th>\n",
       "      <td>Zimbabwe</td>\n",
       "      <td>1995</td>\n",
       "      <td>8.8</td>\n",
       "      <td>41.8</td>\n",
       "      <td>21.5</td>\n",
       "      <td>46.8</td>\n",
       "      <td>18.9</td>\n",
       "      <td>2.6</td>\n",
       "      <td>1.5</td>\n",
       "      <td>6.85</td>\n",
       "      <td>4.46</td>\n",
       "      <td>2.31</td>\n",
       "      <td>0.08</td>\n",
       "      <td>6172.0</td>\n",
       "      <td>Sub-Saharan Africa</td>\n",
       "      <td>ZWE</td>\n",
       "    </tr>\n",
       "    <tr>\n",
       "      <th>2930</th>\n",
       "      <td>Zimbabwe</td>\n",
       "      <td>2000</td>\n",
       "      <td>6.6</td>\n",
       "      <td>36.3</td>\n",
       "      <td>19.9</td>\n",
       "      <td>56.0</td>\n",
       "      <td>7.3</td>\n",
       "      <td>1.0</td>\n",
       "      <td>0.7</td>\n",
       "      <td>7.26</td>\n",
       "      <td>5.05</td>\n",
       "      <td>2.18</td>\n",
       "      <td>0.03</td>\n",
       "      <td>6813.0</td>\n",
       "      <td>Sub-Saharan Africa</td>\n",
       "      <td>ZWE</td>\n",
       "    </tr>\n",
       "    <tr>\n",
       "      <th>2931</th>\n",
       "      <td>Zimbabwe</td>\n",
       "      <td>2005</td>\n",
       "      <td>5.4</td>\n",
       "      <td>36.3</td>\n",
       "      <td>22.3</td>\n",
       "      <td>57.4</td>\n",
       "      <td>6.7</td>\n",
       "      <td>0.9</td>\n",
       "      <td>0.6</td>\n",
       "      <td>7.65</td>\n",
       "      <td>5.50</td>\n",
       "      <td>2.13</td>\n",
       "      <td>0.03</td>\n",
       "      <td>7336.0</td>\n",
       "      <td>Sub-Saharan Africa</td>\n",
       "      <td>ZWE</td>\n",
       "    </tr>\n",
       "    <tr>\n",
       "      <th>2932</th>\n",
       "      <td>Zimbabwe</td>\n",
       "      <td>2010</td>\n",
       "      <td>3.6</td>\n",
       "      <td>38.1</td>\n",
       "      <td>26.5</td>\n",
       "      <td>57.5</td>\n",
       "      <td>5.9</td>\n",
       "      <td>0.7</td>\n",
       "      <td>0.5</td>\n",
       "      <td>7.86</td>\n",
       "      <td>5.89</td>\n",
       "      <td>1.94</td>\n",
       "      <td>0.02</td>\n",
       "      <td>7814.0</td>\n",
       "      <td>Sub-Saharan Africa</td>\n",
       "      <td>ZWE</td>\n",
       "    </tr>\n",
       "  </tbody>\n",
       "</table>\n",
       "<p>2581 rows × 16 columns</p>\n",
       "</div>"
      ],
      "text/plain": [
       "        country  year  no_schooling  total_primary  completed_primary  \\\n",
       "0     Australia  1870          50.5           49.3                8.8   \n",
       "1     Australia  1875          46.0           53.8                9.6   \n",
       "2     Australia  1880          41.5           58.0                9.7   \n",
       "3     Australia  1885          36.1           61.7               11.3   \n",
       "4     Australia  1890          29.7           66.6               13.3   \n",
       "...         ...   ...           ...            ...                ...   \n",
       "2928   Zimbabwe  1990          12.2           47.9               21.8   \n",
       "2929   Zimbabwe  1995           8.8           41.8               21.5   \n",
       "2930   Zimbabwe  2000           6.6           36.3               19.9   \n",
       "2931   Zimbabwe  2005           5.4           36.3               22.3   \n",
       "2932   Zimbabwe  2010           3.6           38.1               26.5   \n",
       "\n",
       "      total_secondary  completed_secondary  total_tertiary  \\\n",
       "0                 0.1                  0.0             0.1   \n",
       "1                 0.1                  0.0             0.1   \n",
       "2                 0.3                  0.1             0.2   \n",
       "3                 2.0                  0.4             0.2   \n",
       "4                 3.5                  0.7             0.3   \n",
       "...               ...                  ...             ...   \n",
       "2928             36.1                 21.8             3.8   \n",
       "2929             46.8                 18.9             2.6   \n",
       "2930             56.0                  7.3             1.0   \n",
       "2931             57.4                  6.7             0.9   \n",
       "2932             57.5                  5.9             0.7   \n",
       "\n",
       "      completed_tertiary  avg_years_total_schooling  \\\n",
       "0                    0.0                       1.77   \n",
       "1                    0.0                       1.93   \n",
       "2                    0.1                       2.08   \n",
       "3                    0.1                       2.41   \n",
       "4                    0.1                       2.76   \n",
       "...                  ...                        ...   \n",
       "2928                 2.3                       5.97   \n",
       "2929                 1.5                       6.85   \n",
       "2930                 0.7                       7.26   \n",
       "2931                 0.6                       7.65   \n",
       "2932                 0.5                       7.86   \n",
       "\n",
       "      avg_years_primary_schooling  avg_years_secondary_schooling  \\\n",
       "0                            1.76                           0.01   \n",
       "1                            1.92                           0.01   \n",
       "2                            2.06                           0.02   \n",
       "3                            2.32                           0.08   \n",
       "4                            2.62                           0.13   \n",
       "...                           ...                            ...   \n",
       "2928                         3.74                           2.11   \n",
       "2929                         4.46                           2.31   \n",
       "2930                         5.05                           2.18   \n",
       "2931                         5.50                           2.13   \n",
       "2932                         5.89                           1.94   \n",
       "\n",
       "      avg_years_tertiary_schooling  population_1000s              region  \\\n",
       "0                             0.00             932.0  Advanced Economies   \n",
       "1                             0.00            1074.0  Advanced Economies   \n",
       "2                             0.00            1314.0  Advanced Economies   \n",
       "3                             0.01            1569.0  Advanced Economies   \n",
       "4                             0.01            1895.0  Advanced Economies   \n",
       "...                            ...               ...                 ...   \n",
       "2928                          0.12            5399.0  Sub-Saharan Africa   \n",
       "2929                          0.08            6172.0  Sub-Saharan Africa   \n",
       "2930                          0.03            6813.0  Sub-Saharan Africa   \n",
       "2931                          0.03            7336.0  Sub-Saharan Africa   \n",
       "2932                          0.02            7814.0  Sub-Saharan Africa   \n",
       "\n",
       "     iso_alpha  \n",
       "0          AUS  \n",
       "1          AUS  \n",
       "2          AUS  \n",
       "3          AUS  \n",
       "4          AUS  \n",
       "...        ...  \n",
       "2928       ZWE  \n",
       "2929       ZWE  \n",
       "2930       ZWE  \n",
       "2931       ZWE  \n",
       "2932       ZWE  \n",
       "\n",
       "[2581 rows x 16 columns]"
      ]
     },
     "execution_count": 71,
     "metadata": {},
     "output_type": "execute_result"
    }
   ],
   "source": [
    "df2"
   ]
  },
  {
   "cell_type": "code",
   "execution_count": 92,
   "id": "24881df4",
   "metadata": {},
   "outputs": [
    {
     "data": {
      "application/vnd.plotly.v1+json": {
       "config": {
        "plotlyServerURL": "https://plot.ly"
       },
       "data": [
        {
         "coloraxis": "coloraxis",
         "customdata": [
          [
           "Australia",
           1.77
          ],
          [
           "Austria",
           2.09
          ],
          [
           "Belgium",
           2.43
          ],
          [
           "Canada",
           2.74
          ],
          [
           "Denmark",
           2.46
          ],
          [
           "Finland",
           0.12
          ],
          [
           "France",
           0.71
          ],
          [
           "Germany",
           2.23
          ],
          [
           "Greece",
           0.81
          ],
          [
           "Ireland",
           0.74
          ],
          [
           "Italy",
           0.88
          ],
          [
           "Japan",
           0.73
          ],
          [
           "Luxembourg",
           0.04
          ],
          [
           "Netherlands",
           2.94
          ],
          [
           "New Zealand",
           3.6
          ],
          [
           "Norway",
           4.31
          ],
          [
           "Portugal",
           0.27
          ],
          [
           "Spain",
           1.58
          ],
          [
           "Sweden",
           3.61
          ],
          [
           "Switzerland",
           4.1
          ],
          [
           "Türkiye",
           0.01
          ],
          [
           "USA",
           4.13
          ],
          [
           "United Kingdom of Great Britain and Northern Ireland",
           0.92
          ],
          [
           "Cambodia",
           0.01
          ],
          [
           "China",
           0.01
          ],
          [
           "Fiji",
           0.04
          ],
          [
           "Hong Kong",
           0.15
          ],
          [
           "India",
           0.03
          ],
          [
           "Indonesia",
           0.01
          ],
          [
           "Malaysia",
           0.06
          ],
          [
           "Myanmar",
           0.14
          ],
          [
           "Philippines",
           0.07
          ],
          [
           "Korea, Republic of",
           0.01
          ],
          [
           "Sri Lanka",
           0.18
          ],
          [
           "Taiwan",
           0.02
          ],
          [
           "Thailand",
           0.11
          ],
          [
           "Albania",
           0.02
          ],
          [
           "Bulgaria",
           0.98
          ],
          [
           "Hungary",
           1.83
          ],
          [
           "Poland",
           1.38
          ],
          [
           "Russian Federation",
           0.15
          ],
          [
           "Argentina",
           0.44
          ],
          [
           "Barbados",
           1.05
          ],
          [
           "Bolivia, Plurinational State of",
           0.07
          ],
          [
           "Brazil",
           0.16
          ],
          [
           "Chile",
           0.44
          ],
          [
           "Colombia",
           0.33
          ],
          [
           "Costa Rica",
           0.48
          ],
          [
           "Cuba",
           0.14
          ],
          [
           "Dominican Republic",
           0.07
          ],
          [
           "Ecuador",
           0.25
          ],
          [
           "El Salvador",
           0.3
          ],
          [
           "Guatemala",
           0.3
          ],
          [
           "Guyana",
           0.27
          ],
          [
           "Honduras",
           0.31
          ],
          [
           "Jamaica",
           0.85
          ],
          [
           "Mexico",
           0.42
          ],
          [
           "Nicaragua",
           0.2
          ],
          [
           "Panama",
           0.13
          ],
          [
           "Paraguay",
           0.09
          ],
          [
           "Peru",
           0.06
          ],
          [
           "Trinidad and Tobago",
           0.53
          ],
          [
           "Uruguay",
           0.41
          ],
          [
           "Venezuela, Bolivarian Republic of",
           0.02
          ],
          [
           "Algeria",
           0.11
          ],
          [
           "Egypt",
           0.02
          ],
          [
           "Iran, Islamic Republic of",
           0.01
          ],
          [
           "Iraq",
           0.01
          ],
          [
           "Malta",
           0.65
          ],
          [
           "Morocco",
           0.01
          ],
          [
           "Syrian Arab Republic",
           0.04
          ],
          [
           "Tunisia",
           0.01
          ],
          [
           "Benin",
           0.01
          ],
          [
           "Cameroon",
           0.01
          ],
          [
           "Cote dIvoire",
           0.1
          ],
          [
           "Ghana",
           0.02
          ],
          [
           "Kenya",
           0.01
          ],
          [
           "Malawi",
           0.01
          ],
          [
           "Mali",
           0.01
          ],
          [
           "Mauritius",
           0.22
          ],
          [
           "Mozambique",
           0.01
          ],
          [
           "Niger",
           0.01
          ],
          [
           "Réunion",
           0.73
          ],
          [
           "Senegal",
           0.01
          ],
          [
           "Sierra Leone",
           0.03
          ],
          [
           "South Africa",
           0.77
          ],
          [
           "Sudan",
           0.01
          ],
          [
           "Uganda",
           0.01
          ],
          [
           "Zimbabwe",
           0.03
          ]
         ],
         "geo": "geo",
         "hovertemplate": "year=1870<br>iso_alpha=%{location}<br>country=%{customdata[0]}<br>avg_years_total_schooling=%{z}<extra></extra>",
         "locations": [
          "AUS",
          "AUT",
          "BEL",
          "CAN",
          "DNK",
          "FIN",
          "FRA",
          "DEU",
          "GRC",
          "IRL",
          "ITA",
          "JPN",
          "LUX",
          "NLD",
          "NZL",
          "NOR",
          "PRT",
          "ESP",
          "SWE",
          "CHE",
          "TUR",
          "USA",
          "GBR",
          "KHM",
          "CHN",
          "FJI",
          "HKG",
          "IND",
          "IDN",
          "MYS",
          "MMR",
          "PHL",
          "KOR",
          "LKA",
          "TWN",
          "THA",
          "ALB",
          "BGR",
          "HUN",
          "POL",
          "RUS",
          "ARG",
          "BRB",
          "BOL",
          "BRA",
          "CHL",
          "COL",
          "CRI",
          "CUB",
          "DOM",
          "ECU",
          "SLV",
          "GTM",
          "GUY",
          "HND",
          "JAM",
          "MEX",
          "NIC",
          "PAN",
          "PRY",
          "PER",
          "TTO",
          "URY",
          "VEN",
          "DZA",
          "EGY",
          "IRN",
          "IRQ",
          "MLT",
          "MAR",
          "SYR",
          "TUN",
          "BEN",
          "CMR",
          null,
          "GHA",
          "KEN",
          "MWI",
          "MLI",
          "MUS",
          "MOZ",
          "NER",
          "REU",
          "SEN",
          "SLE",
          "ZAF",
          "SDN",
          "UGA",
          "ZWE"
         ],
         "name": "",
         "type": "choropleth",
         "z": [
          1.77,
          2.09,
          2.43,
          2.74,
          2.46,
          0.12,
          0.71,
          2.23,
          0.81,
          0.74,
          0.88,
          0.73,
          0.04,
          2.94,
          3.6,
          4.31,
          0.27,
          1.58,
          3.61,
          4.1,
          0.01,
          4.13,
          0.92,
          0.01,
          0.01,
          0.04,
          0.15,
          0.03,
          0.01,
          0.06,
          0.14,
          0.07,
          0.01,
          0.18,
          0.02,
          0.11,
          0.02,
          0.98,
          1.83,
          1.38,
          0.15,
          0.44,
          1.05,
          0.07,
          0.16,
          0.44,
          0.33,
          0.48,
          0.14,
          0.07,
          0.25,
          0.3,
          0.3,
          0.27,
          0.31,
          0.85,
          0.42,
          0.2,
          0.13,
          0.09,
          0.06,
          0.53,
          0.41,
          0.02,
          0.11,
          0.02,
          0.01,
          0.01,
          0.65,
          0.01,
          0.04,
          0.01,
          0.01,
          0.01,
          0.1,
          0.02,
          0.01,
          0.01,
          0.01,
          0.22,
          0.01,
          0.01,
          0.73,
          0.01,
          0.03,
          0.77,
          0.01,
          0.01,
          0.03
         ]
        }
       ],
       "frames": [
        {
         "data": [
          {
           "coloraxis": "coloraxis",
           "customdata": [
            [
             "Australia",
             1.77
            ],
            [
             "Austria",
             2.09
            ],
            [
             "Belgium",
             2.43
            ],
            [
             "Canada",
             2.74
            ],
            [
             "Denmark",
             2.46
            ],
            [
             "Finland",
             0.12
            ],
            [
             "France",
             0.71
            ],
            [
             "Germany",
             2.23
            ],
            [
             "Greece",
             0.81
            ],
            [
             "Ireland",
             0.74
            ],
            [
             "Italy",
             0.88
            ],
            [
             "Japan",
             0.73
            ],
            [
             "Luxembourg",
             0.04
            ],
            [
             "Netherlands",
             2.94
            ],
            [
             "New Zealand",
             3.6
            ],
            [
             "Norway",
             4.31
            ],
            [
             "Portugal",
             0.27
            ],
            [
             "Spain",
             1.58
            ],
            [
             "Sweden",
             3.61
            ],
            [
             "Switzerland",
             4.1
            ],
            [
             "Türkiye",
             0.01
            ],
            [
             "USA",
             4.13
            ],
            [
             "United Kingdom of Great Britain and Northern Ireland",
             0.92
            ],
            [
             "Cambodia",
             0.01
            ],
            [
             "China",
             0.01
            ],
            [
             "Fiji",
             0.04
            ],
            [
             "Hong Kong",
             0.15
            ],
            [
             "India",
             0.03
            ],
            [
             "Indonesia",
             0.01
            ],
            [
             "Malaysia",
             0.06
            ],
            [
             "Myanmar",
             0.14
            ],
            [
             "Philippines",
             0.07
            ],
            [
             "Korea, Republic of",
             0.01
            ],
            [
             "Sri Lanka",
             0.18
            ],
            [
             "Taiwan",
             0.02
            ],
            [
             "Thailand",
             0.11
            ],
            [
             "Albania",
             0.02
            ],
            [
             "Bulgaria",
             0.98
            ],
            [
             "Hungary",
             1.83
            ],
            [
             "Poland",
             1.38
            ],
            [
             "Russian Federation",
             0.15
            ],
            [
             "Argentina",
             0.44
            ],
            [
             "Barbados",
             1.05
            ],
            [
             "Bolivia, Plurinational State of",
             0.07
            ],
            [
             "Brazil",
             0.16
            ],
            [
             "Chile",
             0.44
            ],
            [
             "Colombia",
             0.33
            ],
            [
             "Costa Rica",
             0.48
            ],
            [
             "Cuba",
             0.14
            ],
            [
             "Dominican Republic",
             0.07
            ],
            [
             "Ecuador",
             0.25
            ],
            [
             "El Salvador",
             0.3
            ],
            [
             "Guatemala",
             0.3
            ],
            [
             "Guyana",
             0.27
            ],
            [
             "Honduras",
             0.31
            ],
            [
             "Jamaica",
             0.85
            ],
            [
             "Mexico",
             0.42
            ],
            [
             "Nicaragua",
             0.2
            ],
            [
             "Panama",
             0.13
            ],
            [
             "Paraguay",
             0.09
            ],
            [
             "Peru",
             0.06
            ],
            [
             "Trinidad and Tobago",
             0.53
            ],
            [
             "Uruguay",
             0.41
            ],
            [
             "Venezuela, Bolivarian Republic of",
             0.02
            ],
            [
             "Algeria",
             0.11
            ],
            [
             "Egypt",
             0.02
            ],
            [
             "Iran, Islamic Republic of",
             0.01
            ],
            [
             "Iraq",
             0.01
            ],
            [
             "Malta",
             0.65
            ],
            [
             "Morocco",
             0.01
            ],
            [
             "Syrian Arab Republic",
             0.04
            ],
            [
             "Tunisia",
             0.01
            ],
            [
             "Benin",
             0.01
            ],
            [
             "Cameroon",
             0.01
            ],
            [
             "Cote dIvoire",
             0.1
            ],
            [
             "Ghana",
             0.02
            ],
            [
             "Kenya",
             0.01
            ],
            [
             "Malawi",
             0.01
            ],
            [
             "Mali",
             0.01
            ],
            [
             "Mauritius",
             0.22
            ],
            [
             "Mozambique",
             0.01
            ],
            [
             "Niger",
             0.01
            ],
            [
             "Réunion",
             0.73
            ],
            [
             "Senegal",
             0.01
            ],
            [
             "Sierra Leone",
             0.03
            ],
            [
             "South Africa",
             0.77
            ],
            [
             "Sudan",
             0.01
            ],
            [
             "Uganda",
             0.01
            ],
            [
             "Zimbabwe",
             0.03
            ]
           ],
           "geo": "geo",
           "hovertemplate": "year=1870<br>iso_alpha=%{location}<br>country=%{customdata[0]}<br>avg_years_total_schooling=%{z}<extra></extra>",
           "locations": [
            "AUS",
            "AUT",
            "BEL",
            "CAN",
            "DNK",
            "FIN",
            "FRA",
            "DEU",
            "GRC",
            "IRL",
            "ITA",
            "JPN",
            "LUX",
            "NLD",
            "NZL",
            "NOR",
            "PRT",
            "ESP",
            "SWE",
            "CHE",
            "TUR",
            "USA",
            "GBR",
            "KHM",
            "CHN",
            "FJI",
            "HKG",
            "IND",
            "IDN",
            "MYS",
            "MMR",
            "PHL",
            "KOR",
            "LKA",
            "TWN",
            "THA",
            "ALB",
            "BGR",
            "HUN",
            "POL",
            "RUS",
            "ARG",
            "BRB",
            "BOL",
            "BRA",
            "CHL",
            "COL",
            "CRI",
            "CUB",
            "DOM",
            "ECU",
            "SLV",
            "GTM",
            "GUY",
            "HND",
            "JAM",
            "MEX",
            "NIC",
            "PAN",
            "PRY",
            "PER",
            "TTO",
            "URY",
            "VEN",
            "DZA",
            "EGY",
            "IRN",
            "IRQ",
            "MLT",
            "MAR",
            "SYR",
            "TUN",
            "BEN",
            "CMR",
            null,
            "GHA",
            "KEN",
            "MWI",
            "MLI",
            "MUS",
            "MOZ",
            "NER",
            "REU",
            "SEN",
            "SLE",
            "ZAF",
            "SDN",
            "UGA",
            "ZWE"
           ],
           "name": "",
           "type": "choropleth",
           "z": [
            1.77,
            2.09,
            2.43,
            2.74,
            2.46,
            0.12,
            0.71,
            2.23,
            0.81,
            0.74,
            0.88,
            0.73,
            0.04,
            2.94,
            3.6,
            4.31,
            0.27,
            1.58,
            3.61,
            4.1,
            0.01,
            4.13,
            0.92,
            0.01,
            0.01,
            0.04,
            0.15,
            0.03,
            0.01,
            0.06,
            0.14,
            0.07,
            0.01,
            0.18,
            0.02,
            0.11,
            0.02,
            0.98,
            1.83,
            1.38,
            0.15,
            0.44,
            1.05,
            0.07,
            0.16,
            0.44,
            0.33,
            0.48,
            0.14,
            0.07,
            0.25,
            0.3,
            0.3,
            0.27,
            0.31,
            0.85,
            0.42,
            0.2,
            0.13,
            0.09,
            0.06,
            0.53,
            0.41,
            0.02,
            0.11,
            0.02,
            0.01,
            0.01,
            0.65,
            0.01,
            0.04,
            0.01,
            0.01,
            0.01,
            0.1,
            0.02,
            0.01,
            0.01,
            0.01,
            0.22,
            0.01,
            0.01,
            0.73,
            0.01,
            0.03,
            0.77,
            0.01,
            0.01,
            0.03
           ]
          }
         ],
         "name": "1870"
        },
        {
         "data": [
          {
           "coloraxis": "coloraxis",
           "customdata": [
            [
             "Australia",
             1.93
            ],
            [
             "Austria",
             2.22
            ],
            [
             "Belgium",
             2.38
            ],
            [
             "Canada",
             2.87
            ],
            [
             "Denmark",
             2.51
            ],
            [
             "Finland",
             0.15
            ],
            [
             "France",
             0.82
            ],
            [
             "Germany",
             2.44
            ],
            [
             "Greece",
             0.92
            ],
            [
             "Ireland",
             0.85
            ],
            [
             "Italy",
             0.95
            ],
            [
             "Japan",
             0.8
            ],
            [
             "Luxembourg",
             0.05
            ],
            [
             "Netherlands",
             3.01
            ],
            [
             "New Zealand",
             3.53
            ],
            [
             "Norway",
             4.53
            ],
            [
             "Portugal",
             0.34
            ],
            [
             "Spain",
             1.86
            ],
            [
             "Sweden",
             3.72
            ],
            [
             "Switzerland",
             4.28
            ],
            [
             "Türkiye",
             0.01
            ],
            [
             "USA",
             4.47
            ],
            [
             "United Kingdom of Great Britain and Northern Ireland",
             0.97
            ],
            [
             "Cambodia",
             0.01
            ],
            [
             "China",
             0.01
            ],
            [
             "Fiji",
             0.06
            ],
            [
             "Hong Kong",
             0.18
            ],
            [
             "India",
             0.04
            ],
            [
             "Indonesia",
             0.01
            ],
            [
             "Malaysia",
             0.07
            ],
            [
             "Myanmar",
             0.16
            ],
            [
             "Philippines",
             0.08
            ],
            [
             "Korea, Republic of",
             0.01
            ],
            [
             "Sri Lanka",
             0.19
            ],
            [
             "Taiwan",
             0.02
            ],
            [
             "Thailand",
             0.13
            ],
            [
             "Albania",
             0.03
            ],
            [
             "Bulgaria",
             1.03
            ],
            [
             "Hungary",
             2.02
            ],
            [
             "Poland",
             1.48
            ],
            [
             "Russian Federation",
             0.18
            ],
            [
             "Argentina",
             0.53
            ],
            [
             "Barbados",
             1.16
            ],
            [
             "Bolivia, Plurinational State of",
             0.09
            ],
            [
             "Brazil",
             0.19
            ],
            [
             "Chile",
             0.52
            ],
            [
             "Colombia",
             0.38
            ],
            [
             "Costa Rica",
             0.56
            ],
            [
             "Cuba",
             0.18
            ],
            [
             "Dominican Republic",
             0.1
            ],
            [
             "Ecuador",
             0.3
            ],
            [
             "El Salvador",
             0.35
            ],
            [
             "Guatemala",
             0.35
            ],
            [
             "Guyana",
             0.4
            ],
            [
             "Honduras",
             0.36
            ],
            [
             "Jamaica",
             0.93
            ],
            [
             "Mexico",
             0.5
            ],
            [
             "Nicaragua",
             0.24
            ],
            [
             "Panama",
             0.16
            ],
            [
             "Paraguay",
             0.11
            ],
            [
             "Peru",
             0.08
            ],
            [
             "Trinidad and Tobago",
             0.61
            ],
            [
             "Uruguay",
             0.48
            ],
            [
             "Venezuela, Bolivarian Republic of",
             0.02
            ],
            [
             "Algeria",
             0.14
            ],
            [
             "Egypt",
             0.03
            ],
            [
             "Iran, Islamic Republic of",
             0.01
            ],
            [
             "Iraq",
             0.01
            ],
            [
             "Malta",
             0.71
            ],
            [
             "Morocco",
             0.01
            ],
            [
             "Syrian Arab Republic",
             0.04
            ],
            [
             "Tunisia",
             0.01
            ],
            [
             "Benin",
             0.01
            ],
            [
             "Cameroon",
             0.01
            ],
            [
             "Cote dIvoire",
             0.12
            ],
            [
             "Ghana",
             0.02
            ],
            [
             "Kenya",
             0.01
            ],
            [
             "Malawi",
             0.01
            ],
            [
             "Mali",
             0.01
            ],
            [
             "Mauritius",
             0.27
            ],
            [
             "Mozambique",
             0.01
            ],
            [
             "Niger",
             0.01
            ],
            [
             "Réunion",
             0.78
            ],
            [
             "Senegal",
             0.01
            ],
            [
             "Sierra Leone",
             0.03
            ],
            [
             "South Africa",
             0.88
            ],
            [
             "Sudan",
             0.01
            ],
            [
             "Uganda",
             0.01
            ],
            [
             "Zimbabwe",
             0.03
            ]
           ],
           "geo": "geo",
           "hovertemplate": "year=1875<br>iso_alpha=%{location}<br>country=%{customdata[0]}<br>avg_years_total_schooling=%{z}<extra></extra>",
           "locations": [
            "AUS",
            "AUT",
            "BEL",
            "CAN",
            "DNK",
            "FIN",
            "FRA",
            "DEU",
            "GRC",
            "IRL",
            "ITA",
            "JPN",
            "LUX",
            "NLD",
            "NZL",
            "NOR",
            "PRT",
            "ESP",
            "SWE",
            "CHE",
            "TUR",
            "USA",
            "GBR",
            "KHM",
            "CHN",
            "FJI",
            "HKG",
            "IND",
            "IDN",
            "MYS",
            "MMR",
            "PHL",
            "KOR",
            "LKA",
            "TWN",
            "THA",
            "ALB",
            "BGR",
            "HUN",
            "POL",
            "RUS",
            "ARG",
            "BRB",
            "BOL",
            "BRA",
            "CHL",
            "COL",
            "CRI",
            "CUB",
            "DOM",
            "ECU",
            "SLV",
            "GTM",
            "GUY",
            "HND",
            "JAM",
            "MEX",
            "NIC",
            "PAN",
            "PRY",
            "PER",
            "TTO",
            "URY",
            "VEN",
            "DZA",
            "EGY",
            "IRN",
            "IRQ",
            "MLT",
            "MAR",
            "SYR",
            "TUN",
            "BEN",
            "CMR",
            null,
            "GHA",
            "KEN",
            "MWI",
            "MLI",
            "MUS",
            "MOZ",
            "NER",
            "REU",
            "SEN",
            "SLE",
            "ZAF",
            "SDN",
            "UGA",
            "ZWE"
           ],
           "name": "",
           "type": "choropleth",
           "z": [
            1.93,
            2.22,
            2.38,
            2.87,
            2.51,
            0.15,
            0.82,
            2.44,
            0.92,
            0.85,
            0.95,
            0.8,
            0.05,
            3.01,
            3.53,
            4.53,
            0.34,
            1.86,
            3.72,
            4.28,
            0.01,
            4.47,
            0.97,
            0.01,
            0.01,
            0.06,
            0.18,
            0.04,
            0.01,
            0.07,
            0.16,
            0.08,
            0.01,
            0.19,
            0.02,
            0.13,
            0.03,
            1.03,
            2.02,
            1.48,
            0.18,
            0.53,
            1.16,
            0.09,
            0.19,
            0.52,
            0.38,
            0.56,
            0.18,
            0.1,
            0.3,
            0.35,
            0.35,
            0.4,
            0.36,
            0.93,
            0.5,
            0.24,
            0.16,
            0.11,
            0.08,
            0.61,
            0.48,
            0.02,
            0.14,
            0.03,
            0.01,
            0.01,
            0.71,
            0.01,
            0.04,
            0.01,
            0.01,
            0.01,
            0.12,
            0.02,
            0.01,
            0.01,
            0.01,
            0.27,
            0.01,
            0.01,
            0.78,
            0.01,
            0.03,
            0.88,
            0.01,
            0.01,
            0.03
           ]
          }
         ],
         "name": "1875"
        },
        {
         "data": [
          {
           "coloraxis": "coloraxis",
           "customdata": [
            [
             "Australia",
             2.08
            ],
            [
             "Austria",
             2.37
            ],
            [
             "Belgium",
             2.55
            ],
            [
             "Canada",
             3
            ],
            [
             "Denmark",
             2.56
            ],
            [
             "Finland",
             0.17
            ],
            [
             "France",
             1.2
            ],
            [
             "Germany",
             2.67
            ],
            [
             "Greece",
             1.04
            ],
            [
             "Ireland",
             0.97
            ],
            [
             "Italy",
             1.08
            ],
            [
             "Japan",
             0.89
            ],
            [
             "Luxembourg",
             0.06
            ],
            [
             "Netherlands",
             3.11
            ],
            [
             "New Zealand",
             3.67
            ],
            [
             "Norway",
             4.74
            ],
            [
             "Portugal",
             0.42
            ],
            [
             "Spain",
             2.19
            ],
            [
             "Sweden",
             3.86
            ],
            [
             "Switzerland",
             4.48
            ],
            [
             "Türkiye",
             0.02
            ],
            [
             "USA",
             4.79
            ],
            [
             "United Kingdom of Great Britain and Northern Ireland",
             1.14
            ],
            [
             "Cambodia",
             0.01
            ],
            [
             "China",
             0.01
            ],
            [
             "Fiji",
             0.07
            ],
            [
             "Hong Kong",
             0.23
            ],
            [
             "India",
             0.05
            ],
            [
             "Indonesia",
             0.01
            ],
            [
             "Malaysia",
             0.09
            ],
            [
             "Myanmar",
             0.19
            ],
            [
             "Philippines",
             0.09
            ],
            [
             "Korea, Republic of",
             0.01
            ],
            [
             "Sri Lanka",
             0.21
            ],
            [
             "Taiwan",
             0.03
            ],
            [
             "Thailand",
             0.14
            ],
            [
             "Albania",
             0.03
            ],
            [
             "Bulgaria",
             1.09
            ],
            [
             "Hungary",
             2.27
            ],
            [
             "Poland",
             1.59
            ],
            [
             "Russian Federation",
             0.21
            ],
            [
             "Argentina",
             0.62
            ],
            [
             "Barbados",
             1.29
            ],
            [
             "Bolivia, Plurinational State of",
             0.11
            ],
            [
             "Brazil",
             0.23
            ],
            [
             "Chile",
             0.59
            ],
            [
             "Colombia",
             0.43
            ],
            [
             "Costa Rica",
             0.65
            ],
            [
             "Cuba",
             0.22
            ],
            [
             "Dominican Republic",
             0.14
            ],
            [
             "Ecuador",
             0.36
            ],
            [
             "El Salvador",
             0.41
            ],
            [
             "Guatemala",
             0.4
            ],
            [
             "Guyana",
             0.65
            ],
            [
             "Honduras",
             0.43
            ],
            [
             "Jamaica",
             1.02
            ],
            [
             "Mexico",
             0.58
            ],
            [
             "Nicaragua",
             0.29
            ],
            [
             "Panama",
             0.19
            ],
            [
             "Paraguay",
             0.13
            ],
            [
             "Peru",
             0.1
            ],
            [
             "Trinidad and Tobago",
             0.7
            ],
            [
             "Uruguay",
             0.56
            ],
            [
             "Venezuela, Bolivarian Republic of",
             0.02
            ],
            [
             "Algeria",
             0.17
            ],
            [
             "Egypt",
             0.04
            ],
            [
             "Iran, Islamic Republic of",
             0.01
            ],
            [
             "Iraq",
             0.01
            ],
            [
             "Malta",
             0.77
            ],
            [
             "Morocco",
             0.01
            ],
            [
             "Syrian Arab Republic",
             0.04
            ],
            [
             "Tunisia",
             0.01
            ],
            [
             "Benin",
             0.01
            ],
            [
             "Cameroon",
             0.02
            ],
            [
             "Cote dIvoire",
             0.13
            ],
            [
             "Ghana",
             0.03
            ],
            [
             "Kenya",
             0.01
            ],
            [
             "Malawi",
             0.01
            ],
            [
             "Mali",
             0.01
            ],
            [
             "Mauritius",
             0.32
            ],
            [
             "Mozambique",
             0.01
            ],
            [
             "Niger",
             0.01
            ],
            [
             "Réunion",
             0.84
            ],
            [
             "Senegal",
             0.01
            ],
            [
             "Sierra Leone",
             0.04
            ],
            [
             "South Africa",
             1.01
            ],
            [
             "Sudan",
             0.01
            ],
            [
             "Uganda",
             0.01
            ],
            [
             "Zimbabwe",
             0.04
            ]
           ],
           "geo": "geo",
           "hovertemplate": "year=1880<br>iso_alpha=%{location}<br>country=%{customdata[0]}<br>avg_years_total_schooling=%{z}<extra></extra>",
           "locations": [
            "AUS",
            "AUT",
            "BEL",
            "CAN",
            "DNK",
            "FIN",
            "FRA",
            "DEU",
            "GRC",
            "IRL",
            "ITA",
            "JPN",
            "LUX",
            "NLD",
            "NZL",
            "NOR",
            "PRT",
            "ESP",
            "SWE",
            "CHE",
            "TUR",
            "USA",
            "GBR",
            "KHM",
            "CHN",
            "FJI",
            "HKG",
            "IND",
            "IDN",
            "MYS",
            "MMR",
            "PHL",
            "KOR",
            "LKA",
            "TWN",
            "THA",
            "ALB",
            "BGR",
            "HUN",
            "POL",
            "RUS",
            "ARG",
            "BRB",
            "BOL",
            "BRA",
            "CHL",
            "COL",
            "CRI",
            "CUB",
            "DOM",
            "ECU",
            "SLV",
            "GTM",
            "GUY",
            "HND",
            "JAM",
            "MEX",
            "NIC",
            "PAN",
            "PRY",
            "PER",
            "TTO",
            "URY",
            "VEN",
            "DZA",
            "EGY",
            "IRN",
            "IRQ",
            "MLT",
            "MAR",
            "SYR",
            "TUN",
            "BEN",
            "CMR",
            null,
            "GHA",
            "KEN",
            "MWI",
            "MLI",
            "MUS",
            "MOZ",
            "NER",
            "REU",
            "SEN",
            "SLE",
            "ZAF",
            "SDN",
            "UGA",
            "ZWE"
           ],
           "name": "",
           "type": "choropleth",
           "z": [
            2.08,
            2.37,
            2.55,
            3,
            2.56,
            0.17,
            1.2,
            2.67,
            1.04,
            0.97,
            1.08,
            0.89,
            0.06,
            3.11,
            3.67,
            4.74,
            0.42,
            2.19,
            3.86,
            4.48,
            0.02,
            4.79,
            1.14,
            0.01,
            0.01,
            0.07,
            0.23,
            0.05,
            0.01,
            0.09,
            0.19,
            0.09,
            0.01,
            0.21,
            0.03,
            0.14,
            0.03,
            1.09,
            2.27,
            1.59,
            0.21,
            0.62,
            1.29,
            0.11,
            0.23,
            0.59,
            0.43,
            0.65,
            0.22,
            0.14,
            0.36,
            0.41,
            0.4,
            0.65,
            0.43,
            1.02,
            0.58,
            0.29,
            0.19,
            0.13,
            0.1,
            0.7,
            0.56,
            0.02,
            0.17,
            0.04,
            0.01,
            0.01,
            0.77,
            0.01,
            0.04,
            0.01,
            0.01,
            0.02,
            0.13,
            0.03,
            0.01,
            0.01,
            0.01,
            0.32,
            0.01,
            0.01,
            0.84,
            0.01,
            0.04,
            1.01,
            0.01,
            0.01,
            0.04
           ]
          }
         ],
         "name": "1880"
        },
        {
         "data": [
          {
           "coloraxis": "coloraxis",
           "customdata": [
            [
             "Australia",
             2.41
            ],
            [
             "Austria",
             2.58
            ],
            [
             "Belgium",
             2.65
            ],
            [
             "Canada",
             3.11
            ],
            [
             "Denmark",
             2.63
            ],
            [
             "Finland",
             0.21
            ],
            [
             "France",
             1.55
            ],
            [
             "Germany",
             2.89
            ],
            [
             "Greece",
             1.16
            ],
            [
             "Ireland",
             1.09
            ],
            [
             "Italy",
             1.22
            ],
            [
             "Japan",
             1.04
            ],
            [
             "Luxembourg",
             0.08
            ],
            [
             "Netherlands",
             3.2
            ],
            [
             "New Zealand",
             3.9
            ],
            [
             "Norway",
             4.95
            ],
            [
             "Portugal",
             0.51
            ],
            [
             "Spain",
             2.54
            ],
            [
             "Sweden",
             3.98
            ],
            [
             "Switzerland",
             4.69
            ],
            [
             "Türkiye",
             0.02
            ],
            [
             "USA",
             5.09
            ],
            [
             "United Kingdom of Great Britain and Northern Ireland",
             1.39
            ],
            [
             "Cambodia",
             0.01
            ],
            [
             "China",
             0.01
            ],
            [
             "Fiji",
             0.1
            ],
            [
             "Hong Kong",
             0.28
            ],
            [
             "India",
             0.07
            ],
            [
             "Indonesia",
             0.01
            ],
            [
             "Malaysia",
             0.12
            ],
            [
             "Myanmar",
             0.24
            ],
            [
             "Philippines",
             0.11
            ],
            [
             "Korea, Republic of",
             0.01
            ],
            [
             "Sri Lanka",
             0.26
            ],
            [
             "Taiwan",
             0.03
            ],
            [
             "Thailand",
             0.16
            ],
            [
             "Albania",
             0.04
            ],
            [
             "Bulgaria",
             1.15
            ],
            [
             "Hungary",
             2.55
            ],
            [
             "Poland",
             1.71
            ],
            [
             "Russian Federation",
             0.24
            ],
            [
             "Argentina",
             0.68
            ],
            [
             "Barbados",
             1.33
            ],
            [
             "Bolivia, Plurinational State of",
             0.14
            ],
            [
             "Brazil",
             0.27
            ],
            [
             "Chile",
             0.65
            ],
            [
             "Colombia",
             0.49
            ],
            [
             "Costa Rica",
             0.76
            ],
            [
             "Cuba",
             0.27
            ],
            [
             "Dominican Republic",
             0.19
            ],
            [
             "Ecuador",
             0.43
            ],
            [
             "El Salvador",
             0.49
            ],
            [
             "Guatemala",
             0.46
            ],
            [
             "Guyana",
             0.9
            ],
            [
             "Honduras",
             0.5
            ],
            [
             "Jamaica",
             1.23
            ],
            [
             "Mexico",
             0.66
            ],
            [
             "Nicaragua",
             0.35
            ],
            [
             "Panama",
             0.22
            ],
            [
             "Paraguay",
             0.16
            ],
            [
             "Peru",
             0.12
            ],
            [
             "Trinidad and Tobago",
             0.87
            ],
            [
             "Uruguay",
             0.67
            ],
            [
             "Venezuela, Bolivarian Republic of",
             0.03
            ],
            [
             "Algeria",
             0.2
            ],
            [
             "Egypt",
             0.05
            ],
            [
             "Iran, Islamic Republic of",
             0.01
            ],
            [
             "Iraq",
             0.01
            ],
            [
             "Malta",
             0.83
            ],
            [
             "Morocco",
             0.01
            ],
            [
             "Syrian Arab Republic",
             0.04
            ],
            [
             "Tunisia",
             0.01
            ],
            [
             "Benin",
             0.01
            ],
            [
             "Cameroon",
             0.02
            ],
            [
             "Cote dIvoire",
             0.15
            ],
            [
             "Ghana",
             0.03
            ],
            [
             "Kenya",
             0.01
            ],
            [
             "Malawi",
             0.02
            ],
            [
             "Mali",
             0.01
            ],
            [
             "Mauritius",
             0.4
            ],
            [
             "Mozambique",
             0.01
            ],
            [
             "Niger",
             0.01
            ],
            [
             "Réunion",
             0.9
            ],
            [
             "Senegal",
             0.01
            ],
            [
             "Sierra Leone",
             0.04
            ],
            [
             "South Africa",
             1.19
            ],
            [
             "Sudan",
             0.01
            ],
            [
             "Uganda",
             0.01
            ],
            [
             "Zimbabwe",
             0.05
            ]
           ],
           "geo": "geo",
           "hovertemplate": "year=1885<br>iso_alpha=%{location}<br>country=%{customdata[0]}<br>avg_years_total_schooling=%{z}<extra></extra>",
           "locations": [
            "AUS",
            "AUT",
            "BEL",
            "CAN",
            "DNK",
            "FIN",
            "FRA",
            "DEU",
            "GRC",
            "IRL",
            "ITA",
            "JPN",
            "LUX",
            "NLD",
            "NZL",
            "NOR",
            "PRT",
            "ESP",
            "SWE",
            "CHE",
            "TUR",
            "USA",
            "GBR",
            "KHM",
            "CHN",
            "FJI",
            "HKG",
            "IND",
            "IDN",
            "MYS",
            "MMR",
            "PHL",
            "KOR",
            "LKA",
            "TWN",
            "THA",
            "ALB",
            "BGR",
            "HUN",
            "POL",
            "RUS",
            "ARG",
            "BRB",
            "BOL",
            "BRA",
            "CHL",
            "COL",
            "CRI",
            "CUB",
            "DOM",
            "ECU",
            "SLV",
            "GTM",
            "GUY",
            "HND",
            "JAM",
            "MEX",
            "NIC",
            "PAN",
            "PRY",
            "PER",
            "TTO",
            "URY",
            "VEN",
            "DZA",
            "EGY",
            "IRN",
            "IRQ",
            "MLT",
            "MAR",
            "SYR",
            "TUN",
            "BEN",
            "CMR",
            null,
            "GHA",
            "KEN",
            "MWI",
            "MLI",
            "MUS",
            "MOZ",
            "NER",
            "REU",
            "SEN",
            "SLE",
            "ZAF",
            "SDN",
            "UGA",
            "ZWE"
           ],
           "name": "",
           "type": "choropleth",
           "z": [
            2.41,
            2.58,
            2.65,
            3.11,
            2.63,
            0.21,
            1.55,
            2.89,
            1.16,
            1.09,
            1.22,
            1.04,
            0.08,
            3.2,
            3.9,
            4.95,
            0.51,
            2.54,
            3.98,
            4.69,
            0.02,
            5.09,
            1.39,
            0.01,
            0.01,
            0.1,
            0.28,
            0.07,
            0.01,
            0.12,
            0.24,
            0.11,
            0.01,
            0.26,
            0.03,
            0.16,
            0.04,
            1.15,
            2.55,
            1.71,
            0.24,
            0.68,
            1.33,
            0.14,
            0.27,
            0.65,
            0.49,
            0.76,
            0.27,
            0.19,
            0.43,
            0.49,
            0.46,
            0.9,
            0.5,
            1.23,
            0.66,
            0.35,
            0.22,
            0.16,
            0.12,
            0.87,
            0.67,
            0.03,
            0.2,
            0.05,
            0.01,
            0.01,
            0.83,
            0.01,
            0.04,
            0.01,
            0.01,
            0.02,
            0.15,
            0.03,
            0.01,
            0.02,
            0.01,
            0.4,
            0.01,
            0.01,
            0.9,
            0.01,
            0.04,
            1.19,
            0.01,
            0.01,
            0.05
           ]
          }
         ],
         "name": "1885"
        },
        {
         "data": [
          {
           "coloraxis": "coloraxis",
           "customdata": [
            [
             "Australia",
             2.76
            ],
            [
             "Austria",
             2.83
            ],
            [
             "Belgium",
             2.63
            ],
            [
             "Canada",
             3.19
            ],
            [
             "Denmark",
             2.71
            ],
            [
             "Finland",
             0.28
            ],
            [
             "France",
             1.78
            ],
            [
             "Germany",
             3.1
            ],
            [
             "Greece",
             1.27
            ],
            [
             "Ireland",
             1.27
            ],
            [
             "Italy",
             1.37
            ],
            [
             "Japan",
             1.34
            ],
            [
             "Luxembourg",
             0.1
            ],
            [
             "Netherlands",
             3.28
            ],
            [
             "New Zealand",
             4.15
            ],
            [
             "Norway",
             5.16
            ],
            [
             "Portugal",
             0.6
            ],
            [
             "Spain",
             2.84
            ],
            [
             "Sweden",
             4.09
            ],
            [
             "Switzerland",
             4.91
            ],
            [
             "Türkiye",
             0.03
            ],
            [
             "USA",
             5.48
            ],
            [
             "United Kingdom of Great Britain and Northern Ireland",
             1.81
            ],
            [
             "Cambodia",
             0.01
            ],
            [
             "China",
             0.01
            ],
            [
             "Fiji",
             0.13
            ],
            [
             "Hong Kong",
             0.34
            ],
            [
             "India",
             0.1
            ],
            [
             "Indonesia",
             0.02
            ],
            [
             "Malaysia",
             0.15
            ],
            [
             "Myanmar",
             0.32
            ],
            [
             "Philippines",
             0.14
            ],
            [
             "Korea, Republic of",
             0.01
            ],
            [
             "Sri Lanka",
             0.33
            ],
            [
             "Taiwan",
             0.04
            ],
            [
             "Thailand",
             0.17
            ],
            [
             "Albania",
             0.05
            ],
            [
             "Bulgaria",
             1.23
            ],
            [
             "Hungary",
             2.83
            ],
            [
             "Poland",
             1.83
            ],
            [
             "Russian Federation",
             0.28
            ],
            [
             "Argentina",
             0.72
            ],
            [
             "Barbados",
             1.41
            ],
            [
             "Bolivia, Plurinational State of",
             0.17
            ],
            [
             "Brazil",
             0.31
            ],
            [
             "Chile",
             0.69
            ],
            [
             "Colombia",
             0.52
            ],
            [
             "Costa Rica",
             0.89
            ],
            [
             "Cuba",
             0.34
            ],
            [
             "Dominican Republic",
             0.23
            ],
            [
             "Ecuador",
             0.52
            ],
            [
             "El Salvador",
             0.57
            ],
            [
             "Guatemala",
             0.53
            ],
            [
             "Guyana",
             1.14
            ],
            [
             "Honduras",
             0.59
            ],
            [
             "Jamaica",
             1.51
            ],
            [
             "Mexico",
             0.73
            ],
            [
             "Nicaragua",
             0.42
            ],
            [
             "Panama",
             0.27
            ],
            [
             "Paraguay",
             0.2
            ],
            [
             "Peru",
             0.16
            ],
            [
             "Trinidad and Tobago",
             1.05
            ],
            [
             "Uruguay",
             0.79
            ],
            [
             "Venezuela, Bolivarian Republic of",
             0.04
            ],
            [
             "Algeria",
             0.23
            ],
            [
             "Egypt",
             0.06
            ],
            [
             "Iran, Islamic Republic of",
             0.01
            ],
            [
             "Iraq",
             0.01
            ],
            [
             "Malta",
             0.89
            ],
            [
             "Morocco",
             0.01
            ],
            [
             "Syrian Arab Republic",
             0.05
            ],
            [
             "Tunisia",
             0.01
            ],
            [
             "Benin",
             0.01
            ],
            [
             "Cameroon",
             0.02
            ],
            [
             "Cote dIvoire",
             0.17
            ],
            [
             "Ghana",
             0.04
            ],
            [
             "Kenya",
             0.02
            ],
            [
             "Malawi",
             0.02
            ],
            [
             "Mali",
             0.01
            ],
            [
             "Mauritius",
             0.5
            ],
            [
             "Mozambique",
             0.01
            ],
            [
             "Niger",
             0.01
            ],
            [
             "Réunion",
             0.95
            ],
            [
             "Senegal",
             0.01
            ],
            [
             "Sierra Leone",
             0.06
            ],
            [
             "South Africa",
             1.33
            ],
            [
             "Sudan",
             0.01
            ],
            [
             "Uganda",
             0.01
            ],
            [
             "Zimbabwe",
             0.06
            ]
           ],
           "geo": "geo",
           "hovertemplate": "year=1890<br>iso_alpha=%{location}<br>country=%{customdata[0]}<br>avg_years_total_schooling=%{z}<extra></extra>",
           "locations": [
            "AUS",
            "AUT",
            "BEL",
            "CAN",
            "DNK",
            "FIN",
            "FRA",
            "DEU",
            "GRC",
            "IRL",
            "ITA",
            "JPN",
            "LUX",
            "NLD",
            "NZL",
            "NOR",
            "PRT",
            "ESP",
            "SWE",
            "CHE",
            "TUR",
            "USA",
            "GBR",
            "KHM",
            "CHN",
            "FJI",
            "HKG",
            "IND",
            "IDN",
            "MYS",
            "MMR",
            "PHL",
            "KOR",
            "LKA",
            "TWN",
            "THA",
            "ALB",
            "BGR",
            "HUN",
            "POL",
            "RUS",
            "ARG",
            "BRB",
            "BOL",
            "BRA",
            "CHL",
            "COL",
            "CRI",
            "CUB",
            "DOM",
            "ECU",
            "SLV",
            "GTM",
            "GUY",
            "HND",
            "JAM",
            "MEX",
            "NIC",
            "PAN",
            "PRY",
            "PER",
            "TTO",
            "URY",
            "VEN",
            "DZA",
            "EGY",
            "IRN",
            "IRQ",
            "MLT",
            "MAR",
            "SYR",
            "TUN",
            "BEN",
            "CMR",
            null,
            "GHA",
            "KEN",
            "MWI",
            "MLI",
            "MUS",
            "MOZ",
            "NER",
            "REU",
            "SEN",
            "SLE",
            "ZAF",
            "SDN",
            "UGA",
            "ZWE"
           ],
           "name": "",
           "type": "choropleth",
           "z": [
            2.76,
            2.83,
            2.63,
            3.19,
            2.71,
            0.28,
            1.78,
            3.1,
            1.27,
            1.27,
            1.37,
            1.34,
            0.1,
            3.28,
            4.15,
            5.16,
            0.6,
            2.84,
            4.09,
            4.91,
            0.03,
            5.48,
            1.81,
            0.01,
            0.01,
            0.13,
            0.34,
            0.1,
            0.02,
            0.15,
            0.32,
            0.14,
            0.01,
            0.33,
            0.04,
            0.17,
            0.05,
            1.23,
            2.83,
            1.83,
            0.28,
            0.72,
            1.41,
            0.17,
            0.31,
            0.69,
            0.52,
            0.89,
            0.34,
            0.23,
            0.52,
            0.57,
            0.53,
            1.14,
            0.59,
            1.51,
            0.73,
            0.42,
            0.27,
            0.2,
            0.16,
            1.05,
            0.79,
            0.04,
            0.23,
            0.06,
            0.01,
            0.01,
            0.89,
            0.01,
            0.05,
            0.01,
            0.01,
            0.02,
            0.17,
            0.04,
            0.02,
            0.02,
            0.01,
            0.5,
            0.01,
            0.01,
            0.95,
            0.01,
            0.06,
            1.33,
            0.01,
            0.01,
            0.06
           ]
          }
         ],
         "name": "1890"
        },
        {
         "data": [
          {
           "coloraxis": "coloraxis",
           "customdata": [
            [
             "Australia",
             3
            ],
            [
             "Austria",
             3.11
            ],
            [
             "Belgium",
             2.66
            ],
            [
             "Canada",
             3.35
            ],
            [
             "Denmark",
             2.78
            ],
            [
             "Finland",
             0.36
            ],
            [
             "France",
             2.06
            ],
            [
             "Germany",
             3.31
            ],
            [
             "Greece",
             1.37
            ],
            [
             "Ireland",
             1.47
            ],
            [
             "Italy",
             1.51
            ],
            [
             "Japan",
             1.61
            ],
            [
             "Luxembourg",
             0.12
            ],
            [
             "Netherlands",
             3.37
            ],
            [
             "New Zealand",
             4.37
            ],
            [
             "Norway",
             5.44
            ],
            [
             "Portugal",
             0.71
            ],
            [
             "Spain",
             3.09
            ],
            [
             "Sweden",
             4.21
            ],
            [
             "Switzerland",
             5.13
            ],
            [
             "Türkiye",
             0.03
            ],
            [
             "USA",
             5.88
            ],
            [
             "United Kingdom of Great Britain and Northern Ireland",
             2.15
            ],
            [
             "Cambodia",
             0.01
            ],
            [
             "China",
             0.02
            ],
            [
             "Fiji",
             0.17
            ],
            [
             "Hong Kong",
             0.42
            ],
            [
             "India",
             0.13
            ],
            [
             "Indonesia",
             0.03
            ],
            [
             "Malaysia",
             0.18
            ],
            [
             "Myanmar",
             0.38
            ],
            [
             "Philippines",
             0.17
            ],
            [
             "Korea, Republic of",
             0.02
            ],
            [
             "Sri Lanka",
             0.42
            ],
            [
             "Taiwan",
             0.05
            ],
            [
             "Thailand",
             0.2
            ],
            [
             "Albania",
             0.07
            ],
            [
             "Bulgaria",
             1.39
            ],
            [
             "Hungary",
             3.17
            ],
            [
             "Poland",
             1.96
            ],
            [
             "Russian Federation",
             0.33
            ],
            [
             "Argentina",
             0.84
            ],
            [
             "Barbados",
             1.45
            ],
            [
             "Bolivia, Plurinational State of",
             0.21
            ],
            [
             "Brazil",
             0.34
            ],
            [
             "Chile",
             0.75
            ],
            [
             "Colombia",
             0.53
            ],
            [
             "Costa Rica",
             1.03
            ],
            [
             "Cuba",
             0.45
            ],
            [
             "Dominican Republic",
             0.26
            ],
            [
             "Ecuador",
             0.61
            ],
            [
             "El Salvador",
             0.66
            ],
            [
             "Guatemala",
             0.65
            ],
            [
             "Guyana",
             1.34
            ],
            [
             "Honduras",
             0.68
            ],
            [
             "Jamaica",
             1.79
            ],
            [
             "Mexico",
             0.8
            ],
            [
             "Nicaragua",
             0.49
            ],
            [
             "Panama",
             0.32
            ],
            [
             "Paraguay",
             0.26
            ],
            [
             "Peru",
             0.2
            ],
            [
             "Trinidad and Tobago",
             1.29
            ],
            [
             "Uruguay",
             0.87
            ],
            [
             "Venezuela, Bolivarian Republic of",
             0.05
            ],
            [
             "Algeria",
             0.27
            ],
            [
             "Egypt",
             0.08
            ],
            [
             "Iran, Islamic Republic of",
             0.02
            ],
            [
             "Iraq",
             0.01
            ],
            [
             "Malta",
             0.96
            ],
            [
             "Morocco",
             0.01
            ],
            [
             "Syrian Arab Republic",
             0.05
            ],
            [
             "Tunisia",
             0.01
            ],
            [
             "Benin",
             0.01
            ],
            [
             "Cameroon",
             0.04
            ],
            [
             "Cote dIvoire",
             0.19
            ],
            [
             "Ghana",
             0.05
            ],
            [
             "Kenya",
             0.02
            ],
            [
             "Malawi",
             0.03
            ],
            [
             "Mali",
             0.01
            ],
            [
             "Mauritius",
             0.62
            ],
            [
             "Mozambique",
             0.01
            ],
            [
             "Niger",
             0.01
            ],
            [
             "Réunion",
             1.03
            ],
            [
             "Senegal",
             0.01
            ],
            [
             "Sierra Leone",
             0.07
            ],
            [
             "South Africa",
             1.32
            ],
            [
             "Sudan",
             0.01
            ],
            [
             "Uganda",
             0.01
            ],
            [
             "Zimbabwe",
             0.08
            ]
           ],
           "geo": "geo",
           "hovertemplate": "year=1895<br>iso_alpha=%{location}<br>country=%{customdata[0]}<br>avg_years_total_schooling=%{z}<extra></extra>",
           "locations": [
            "AUS",
            "AUT",
            "BEL",
            "CAN",
            "DNK",
            "FIN",
            "FRA",
            "DEU",
            "GRC",
            "IRL",
            "ITA",
            "JPN",
            "LUX",
            "NLD",
            "NZL",
            "NOR",
            "PRT",
            "ESP",
            "SWE",
            "CHE",
            "TUR",
            "USA",
            "GBR",
            "KHM",
            "CHN",
            "FJI",
            "HKG",
            "IND",
            "IDN",
            "MYS",
            "MMR",
            "PHL",
            "KOR",
            "LKA",
            "TWN",
            "THA",
            "ALB",
            "BGR",
            "HUN",
            "POL",
            "RUS",
            "ARG",
            "BRB",
            "BOL",
            "BRA",
            "CHL",
            "COL",
            "CRI",
            "CUB",
            "DOM",
            "ECU",
            "SLV",
            "GTM",
            "GUY",
            "HND",
            "JAM",
            "MEX",
            "NIC",
            "PAN",
            "PRY",
            "PER",
            "TTO",
            "URY",
            "VEN",
            "DZA",
            "EGY",
            "IRN",
            "IRQ",
            "MLT",
            "MAR",
            "SYR",
            "TUN",
            "BEN",
            "CMR",
            null,
            "GHA",
            "KEN",
            "MWI",
            "MLI",
            "MUS",
            "MOZ",
            "NER",
            "REU",
            "SEN",
            "SLE",
            "ZAF",
            "SDN",
            "UGA",
            "ZWE"
           ],
           "name": "",
           "type": "choropleth",
           "z": [
            3,
            3.11,
            2.66,
            3.35,
            2.78,
            0.36,
            2.06,
            3.31,
            1.37,
            1.47,
            1.51,
            1.61,
            0.12,
            3.37,
            4.37,
            5.44,
            0.71,
            3.09,
            4.21,
            5.13,
            0.03,
            5.88,
            2.15,
            0.01,
            0.02,
            0.17,
            0.42,
            0.13,
            0.03,
            0.18,
            0.38,
            0.17,
            0.02,
            0.42,
            0.05,
            0.2,
            0.07,
            1.39,
            3.17,
            1.96,
            0.33,
            0.84,
            1.45,
            0.21,
            0.34,
            0.75,
            0.53,
            1.03,
            0.45,
            0.26,
            0.61,
            0.66,
            0.65,
            1.34,
            0.68,
            1.79,
            0.8,
            0.49,
            0.32,
            0.26,
            0.2,
            1.29,
            0.87,
            0.05,
            0.27,
            0.08,
            0.02,
            0.01,
            0.96,
            0.01,
            0.05,
            0.01,
            0.01,
            0.04,
            0.19,
            0.05,
            0.02,
            0.03,
            0.01,
            0.62,
            0.01,
            0.01,
            1.03,
            0.01,
            0.07,
            1.32,
            0.01,
            0.01,
            0.08
           ]
          }
         ],
         "name": "1895"
        },
        {
         "data": [
          {
           "coloraxis": "coloraxis",
           "customdata": [
            [
             "Australia",
             3.11
            ],
            [
             "Austria",
             3.41
            ],
            [
             "Belgium",
             2.66
            ],
            [
             "Canada",
             3.99
            ],
            [
             "Denmark",
             2.84
            ],
            [
             "Finland",
             1.13
            ],
            [
             "France",
             2.32
            ],
            [
             "Germany",
             3.48
            ],
            [
             "Greece",
             1.64
            ],
            [
             "Ireland",
             1.67
            ],
            [
             "Italy",
             1.73
            ],
            [
             "Japan",
             1.9
            ],
            [
             "Luxembourg",
             0.15
            ],
            [
             "Netherlands",
             3.46
            ],
            [
             "New Zealand",
             4.52
            ],
            [
             "Norway",
             5.72
            ],
            [
             "Portugal",
             0.8
            ],
            [
             "Spain",
             3.27
            ],
            [
             "Sweden",
             4.32
            ],
            [
             "Switzerland",
             5.31
            ],
            [
             "Türkiye",
             0.17
            ],
            [
             "USA",
             6.35
            ],
            [
             "United Kingdom of Great Britain and Northern Ireland",
             2.55
            ],
            [
             "Cambodia",
             0.01
            ],
            [
             "China",
             0.02
            ],
            [
             "Fiji",
             0.22
            ],
            [
             "Hong Kong",
             0.5
            ],
            [
             "India",
             0.16
            ],
            [
             "Indonesia",
             0.04
            ],
            [
             "Malaysia",
             0.23
            ],
            [
             "Myanmar",
             0.44
            ],
            [
             "Philippines",
             0.22
            ],
            [
             "Korea, Republic of",
             0.32
            ],
            [
             "Sri Lanka",
             0.53
            ],
            [
             "Taiwan",
             0.07
            ],
            [
             "Thailand",
             0.22
            ],
            [
             "Albania",
             0.08
            ],
            [
             "Bulgaria",
             1.59
            ],
            [
             "Hungary",
             3.5
            ],
            [
             "Poland",
             2.09
            ],
            [
             "Russian Federation",
             0.43
            ],
            [
             "Argentina",
             0.98
            ],
            [
             "Barbados",
             1.56
            ],
            [
             "Bolivia, Plurinational State of",
             0.25
            ],
            [
             "Brazil",
             0.58
            ],
            [
             "Chile",
             1.58
            ],
            [
             "Colombia",
             0.86
            ],
            [
             "Costa Rica",
             1.69
            ],
            [
             "Cuba",
             0.82
            ],
            [
             "Dominican Republic",
             0.29
            ],
            [
             "Ecuador",
             0.95
            ],
            [
             "El Salvador",
             0.87
            ],
            [
             "Guatemala",
             0.89
            ],
            [
             "Guyana",
             1.6
            ],
            [
             "Honduras",
             0.78
            ],
            [
             "Jamaica",
             2.05
            ],
            [
             "Mexico",
             0.86
            ],
            [
             "Nicaragua",
             0.89
            ],
            [
             "Panama",
             0.9
            ],
            [
             "Paraguay",
             0.79
            ],
            [
             "Peru",
             0.25
            ],
            [
             "Trinidad and Tobago",
             1.66
            ],
            [
             "Uruguay",
             0.96
            ],
            [
             "Venezuela, Bolivarian Republic of",
             0.45
            ],
            [
             "Algeria",
             0.39
            ],
            [
             "Egypt",
             0.1
            ],
            [
             "Iran, Islamic Republic of",
             0.03
            ],
            [
             "Iraq",
             0.02
            ],
            [
             "Malta",
             1.3
            ],
            [
             "Morocco",
             0.01
            ],
            [
             "Syrian Arab Republic",
             0.06
            ],
            [
             "Tunisia",
             0.01
            ],
            [
             "Benin",
             0.02
            ],
            [
             "Cameroon",
             0.05
            ],
            [
             "Cote dIvoire",
             0.22
            ],
            [
             "Ghana",
             0.06
            ],
            [
             "Kenya",
             0.03
            ],
            [
             "Malawi",
             0.03
            ],
            [
             "Mali",
             0.01
            ],
            [
             "Mauritius",
             1.07
            ],
            [
             "Mozambique",
             0.01
            ],
            [
             "Niger",
             0.01
            ],
            [
             "Réunion",
             1.27
            ],
            [
             "Senegal",
             0.02
            ],
            [
             "Sierra Leone",
             0.09
            ],
            [
             "South Africa",
             1.23
            ],
            [
             "Sudan",
             0.02
            ],
            [
             "Uganda",
             0.01
            ],
            [
             "Zimbabwe",
             0.09
            ]
           ],
           "geo": "geo",
           "hovertemplate": "year=1900<br>iso_alpha=%{location}<br>country=%{customdata[0]}<br>avg_years_total_schooling=%{z}<extra></extra>",
           "locations": [
            "AUS",
            "AUT",
            "BEL",
            "CAN",
            "DNK",
            "FIN",
            "FRA",
            "DEU",
            "GRC",
            "IRL",
            "ITA",
            "JPN",
            "LUX",
            "NLD",
            "NZL",
            "NOR",
            "PRT",
            "ESP",
            "SWE",
            "CHE",
            "TUR",
            "USA",
            "GBR",
            "KHM",
            "CHN",
            "FJI",
            "HKG",
            "IND",
            "IDN",
            "MYS",
            "MMR",
            "PHL",
            "KOR",
            "LKA",
            "TWN",
            "THA",
            "ALB",
            "BGR",
            "HUN",
            "POL",
            "RUS",
            "ARG",
            "BRB",
            "BOL",
            "BRA",
            "CHL",
            "COL",
            "CRI",
            "CUB",
            "DOM",
            "ECU",
            "SLV",
            "GTM",
            "GUY",
            "HND",
            "JAM",
            "MEX",
            "NIC",
            "PAN",
            "PRY",
            "PER",
            "TTO",
            "URY",
            "VEN",
            "DZA",
            "EGY",
            "IRN",
            "IRQ",
            "MLT",
            "MAR",
            "SYR",
            "TUN",
            "BEN",
            "CMR",
            null,
            "GHA",
            "KEN",
            "MWI",
            "MLI",
            "MUS",
            "MOZ",
            "NER",
            "REU",
            "SEN",
            "SLE",
            "ZAF",
            "SDN",
            "UGA",
            "ZWE"
           ],
           "name": "",
           "type": "choropleth",
           "z": [
            3.11,
            3.41,
            2.66,
            3.99,
            2.84,
            1.13,
            2.32,
            3.48,
            1.64,
            1.67,
            1.73,
            1.9,
            0.15,
            3.46,
            4.52,
            5.72,
            0.8,
            3.27,
            4.32,
            5.31,
            0.17,
            6.35,
            2.55,
            0.01,
            0.02,
            0.22,
            0.5,
            0.16,
            0.04,
            0.23,
            0.44,
            0.22,
            0.32,
            0.53,
            0.07,
            0.22,
            0.08,
            1.59,
            3.5,
            2.09,
            0.43,
            0.98,
            1.56,
            0.25,
            0.58,
            1.58,
            0.86,
            1.69,
            0.82,
            0.29,
            0.95,
            0.87,
            0.89,
            1.6,
            0.78,
            2.05,
            0.86,
            0.89,
            0.9,
            0.79,
            0.25,
            1.66,
            0.96,
            0.45,
            0.39,
            0.1,
            0.03,
            0.02,
            1.3,
            0.01,
            0.06,
            0.01,
            0.02,
            0.05,
            0.22,
            0.06,
            0.03,
            0.03,
            0.01,
            1.07,
            0.01,
            0.01,
            1.27,
            0.02,
            0.09,
            1.23,
            0.02,
            0.01,
            0.09
           ]
          }
         ],
         "name": "1900"
        },
        {
         "data": [
          {
           "coloraxis": "coloraxis",
           "customdata": [
            [
             "Australia",
             3.39
            ],
            [
             "Austria",
             3.7
            ],
            [
             "Belgium",
             2.77
            ],
            [
             "Canada",
             4.34
            ],
            [
             "Denmark",
             2.9
            ],
            [
             "Finland",
             1.51
            ],
            [
             "France",
             2.62
            ],
            [
             "Germany",
             3.62
            ],
            [
             "Greece",
             1.8
            ],
            [
             "Ireland",
             1.9
            ],
            [
             "Italy",
             1.89
            ],
            [
             "Japan",
             2.16
            ],
            [
             "Luxembourg",
             0.18
            ],
            [
             "Netherlands",
             3.63
            ],
            [
             "New Zealand",
             4.7
            ],
            [
             "Norway",
             6.08
            ],
            [
             "Portugal",
             0.87
            ],
            [
             "Spain",
             3.4
            ],
            [
             "Sweden",
             4.42
            ],
            [
             "Switzerland",
             5.67
            ],
            [
             "Türkiye",
             0.24
            ],
            [
             "USA",
             6.71
            ],
            [
             "United Kingdom of Great Britain and Northern Ireland",
             3.11
            ],
            [
             "Cambodia",
             0.01
            ],
            [
             "China",
             0.03
            ],
            [
             "Fiji",
             0.29
            ],
            [
             "Hong Kong",
             0.56
            ],
            [
             "India",
             0.24
            ],
            [
             "Indonesia",
             0.09
            ],
            [
             "Malaysia",
             0.35
            ],
            [
             "Myanmar",
             0.51
            ],
            [
             "Philippines",
             0.25
            ],
            [
             "Korea, Republic of",
             0.61
            ],
            [
             "Sri Lanka",
             0.64
            ],
            [
             "Taiwan",
             0.08
            ],
            [
             "Thailand",
             0.34
            ],
            [
             "Albania",
             0.1
            ],
            [
             "Bulgaria",
             1.72
            ],
            [
             "Hungary",
             4.02
            ],
            [
             "Poland",
             2.43
            ],
            [
             "Russian Federation",
             0.63
            ],
            [
             "Argentina",
             1.46
            ],
            [
             "Barbados",
             2.02
            ],
            [
             "Bolivia, Plurinational State of",
             0.3
            ],
            [
             "Brazil",
             0.71
            ],
            [
             "Chile",
             1.85
            ],
            [
             "Colombia",
             1.01
            ],
            [
             "Costa Rica",
             1.99
            ],
            [
             "Cuba",
             1.33
            ],
            [
             "Dominican Republic",
             0.7
            ],
            [
             "Ecuador",
             1.08
            ],
            [
             "El Salvador",
             0.96
            ],
            [
             "Guatemala",
             0.95
            ],
            [
             "Guyana",
             1.84
            ],
            [
             "Honduras",
             0.96
            ],
            [
             "Jamaica",
             2.34
            ],
            [
             "Mexico",
             1.09
            ],
            [
             "Nicaragua",
             1.04
            ],
            [
             "Panama",
             1.11
            ],
            [
             "Paraguay",
             0.98
            ],
            [
             "Peru",
             0.5
            ],
            [
             "Trinidad and Tobago",
             2
            ],
            [
             "Uruguay",
             1.04
            ],
            [
             "Venezuela, Bolivarian Republic of",
             0.59
            ],
            [
             "Algeria",
             0.51
            ],
            [
             "Egypt",
             0.13
            ],
            [
             "Iran, Islamic Republic of",
             0.04
            ],
            [
             "Iraq",
             0.02
            ],
            [
             "Malta",
             1.52
            ],
            [
             "Morocco",
             0.01
            ],
            [
             "Syrian Arab Republic",
             0.12
            ],
            [
             "Tunisia",
             0.02
            ],
            [
             "Benin",
             0.02
            ],
            [
             "Cameroon",
             0.06
            ],
            [
             "Cote dIvoire",
             0.24
            ],
            [
             "Ghana",
             0.11
            ],
            [
             "Kenya",
             0.14
            ],
            [
             "Malawi",
             0.05
            ],
            [
             "Mali",
             0.01
            ],
            [
             "Mauritius",
             1.28
            ],
            [
             "Mozambique",
             0.02
            ],
            [
             "Niger",
             0.01
            ],
            [
             "Réunion",
             1.52
            ],
            [
             "Senegal",
             0.02
            ],
            [
             "Sierra Leone",
             0.11
            ],
            [
             "South Africa",
             1.25
            ],
            [
             "Sudan",
             0.02
            ],
            [
             "Uganda",
             0.09
            ],
            [
             "Zimbabwe",
             0.11
            ]
           ],
           "geo": "geo",
           "hovertemplate": "year=1905<br>iso_alpha=%{location}<br>country=%{customdata[0]}<br>avg_years_total_schooling=%{z}<extra></extra>",
           "locations": [
            "AUS",
            "AUT",
            "BEL",
            "CAN",
            "DNK",
            "FIN",
            "FRA",
            "DEU",
            "GRC",
            "IRL",
            "ITA",
            "JPN",
            "LUX",
            "NLD",
            "NZL",
            "NOR",
            "PRT",
            "ESP",
            "SWE",
            "CHE",
            "TUR",
            "USA",
            "GBR",
            "KHM",
            "CHN",
            "FJI",
            "HKG",
            "IND",
            "IDN",
            "MYS",
            "MMR",
            "PHL",
            "KOR",
            "LKA",
            "TWN",
            "THA",
            "ALB",
            "BGR",
            "HUN",
            "POL",
            "RUS",
            "ARG",
            "BRB",
            "BOL",
            "BRA",
            "CHL",
            "COL",
            "CRI",
            "CUB",
            "DOM",
            "ECU",
            "SLV",
            "GTM",
            "GUY",
            "HND",
            "JAM",
            "MEX",
            "NIC",
            "PAN",
            "PRY",
            "PER",
            "TTO",
            "URY",
            "VEN",
            "DZA",
            "EGY",
            "IRN",
            "IRQ",
            "MLT",
            "MAR",
            "SYR",
            "TUN",
            "BEN",
            "CMR",
            null,
            "GHA",
            "KEN",
            "MWI",
            "MLI",
            "MUS",
            "MOZ",
            "NER",
            "REU",
            "SEN",
            "SLE",
            "ZAF",
            "SDN",
            "UGA",
            "ZWE"
           ],
           "name": "",
           "type": "choropleth",
           "z": [
            3.39,
            3.7,
            2.77,
            4.34,
            2.9,
            1.51,
            2.62,
            3.62,
            1.8,
            1.9,
            1.89,
            2.16,
            0.18,
            3.63,
            4.7,
            6.08,
            0.87,
            3.4,
            4.42,
            5.67,
            0.24,
            6.71,
            3.11,
            0.01,
            0.03,
            0.29,
            0.56,
            0.24,
            0.09,
            0.35,
            0.51,
            0.25,
            0.61,
            0.64,
            0.08,
            0.34,
            0.1,
            1.72,
            4.02,
            2.43,
            0.63,
            1.46,
            2.02,
            0.3,
            0.71,
            1.85,
            1.01,
            1.99,
            1.33,
            0.7,
            1.08,
            0.96,
            0.95,
            1.84,
            0.96,
            2.34,
            1.09,
            1.04,
            1.11,
            0.98,
            0.5,
            2,
            1.04,
            0.59,
            0.51,
            0.13,
            0.04,
            0.02,
            1.52,
            0.01,
            0.12,
            0.02,
            0.02,
            0.06,
            0.24,
            0.11,
            0.14,
            0.05,
            0.01,
            1.28,
            0.02,
            0.01,
            1.52,
            0.02,
            0.11,
            1.25,
            0.02,
            0.09,
            0.11
           ]
          }
         ],
         "name": "1905"
        },
        {
         "data": [
          {
           "coloraxis": "coloraxis",
           "customdata": [
            [
             "Australia",
             3.89
            ],
            [
             "Austria",
             4.02
            ],
            [
             "Belgium",
             3.09
            ],
            [
             "Canada",
             4.83
            ],
            [
             "Denmark",
             3.17
            ],
            [
             "Finland",
             1.61
            ],
            [
             "France",
             2.92
            ],
            [
             "Germany",
             3.74
            ],
            [
             "Greece",
             2.03
            ],
            [
             "Ireland",
             2.17
            ],
            [
             "Italy",
             1.98
            ],
            [
             "Japan",
             2.49
            ],
            [
             "Luxembourg",
             0.22
            ],
            [
             "Netherlands",
             3.8
            ],
            [
             "New Zealand",
             5.04
            ],
            [
             "Norway",
             6.36
            ],
            [
             "Portugal",
             0.94
            ],
            [
             "Spain",
             3.49
            ],
            [
             "Sweden",
             4.5
            ],
            [
             "Switzerland",
             6.05
            ],
            [
             "Türkiye",
             0.22
            ],
            [
             "USA",
             6.76
            ],
            [
             "United Kingdom of Great Britain and Northern Ireland",
             3.63
            ],
            [
             "Cambodia",
             0.01
            ],
            [
             "China",
             0.05
            ],
            [
             "Fiji",
             0.45
            ],
            [
             "Hong Kong",
             0.79
            ],
            [
             "India",
             0.32
            ],
            [
             "Indonesia",
             0.13
            ],
            [
             "Malaysia",
             0.47
            ],
            [
             "Myanmar",
             0.58
            ],
            [
             "Philippines",
             0.47
            ],
            [
             "Korea, Republic of",
             0.83
            ],
            [
             "Sri Lanka",
             0.92
            ],
            [
             "Taiwan",
             0.1
            ],
            [
             "Thailand",
             0.45
            ],
            [
             "Albania",
             0.15
            ],
            [
             "Bulgaria",
             2.08
            ],
            [
             "Hungary",
             4.02
            ],
            [
             "Poland",
             2.71
            ],
            [
             "Russian Federation",
             0.72
            ],
            [
             "Argentina",
             1.81
            ],
            [
             "Barbados",
             2
            ],
            [
             "Bolivia, Plurinational State of",
             0.38
            ],
            [
             "Brazil",
             0.82
            ],
            [
             "Chile",
             2.39
            ],
            [
             "Colombia",
             1.46
            ],
            [
             "Costa Rica",
             2.3
            ],
            [
             "Cuba",
             1.58
            ],
            [
             "Dominican Republic",
             1.06
            ],
            [
             "Ecuador",
             1.29
            ],
            [
             "El Salvador",
             1.19
            ],
            [
             "Guatemala",
             1.11
            ],
            [
             "Guyana",
             2.02
            ],
            [
             "Honduras",
             1.11
            ],
            [
             "Jamaica",
             2.54
            ],
            [
             "Mexico",
             1.33
            ],
            [
             "Nicaragua",
             1.12
            ],
            [
             "Panama",
             1.54
            ],
            [
             "Paraguay",
             1.41
            ],
            [
             "Peru",
             0.73
            ],
            [
             "Trinidad and Tobago",
             2.41
            ],
            [
             "Uruguay",
             1.45
            ],
            [
             "Venezuela, Bolivarian Republic of",
             0.64
            ],
            [
             "Algeria",
             0.6
            ],
            [
             "Egypt",
             0.17
            ],
            [
             "Iran, Islamic Republic of",
             0.05
            ],
            [
             "Iraq",
             0.02
            ],
            [
             "Malta",
             1.59
            ],
            [
             "Morocco",
             0.01
            ],
            [
             "Syrian Arab Republic",
             0.17
            ],
            [
             "Tunisia",
             0.08
            ],
            [
             "Benin",
             0.02
            ],
            [
             "Cameroon",
             0.07
            ],
            [
             "Cote dIvoire",
             0.28
            ],
            [
             "Ghana",
             0.16
            ],
            [
             "Kenya",
             0.25
            ],
            [
             "Malawi",
             0.16
            ],
            [
             "Mali",
             0.01
            ],
            [
             "Mauritius",
             1.48
            ],
            [
             "Mozambique",
             0.02
            ],
            [
             "Niger",
             0.01
            ],
            [
             "Réunion",
             1.74
            ],
            [
             "Senegal",
             0.03
            ],
            [
             "Sierra Leone",
             0.15
            ],
            [
             "South Africa",
             1.28
            ],
            [
             "Sudan",
             0.03
            ],
            [
             "Uganda",
             0.16
            ],
            [
             "Zimbabwe",
             0.14
            ]
           ],
           "geo": "geo",
           "hovertemplate": "year=1910<br>iso_alpha=%{location}<br>country=%{customdata[0]}<br>avg_years_total_schooling=%{z}<extra></extra>",
           "locations": [
            "AUS",
            "AUT",
            "BEL",
            "CAN",
            "DNK",
            "FIN",
            "FRA",
            "DEU",
            "GRC",
            "IRL",
            "ITA",
            "JPN",
            "LUX",
            "NLD",
            "NZL",
            "NOR",
            "PRT",
            "ESP",
            "SWE",
            "CHE",
            "TUR",
            "USA",
            "GBR",
            "KHM",
            "CHN",
            "FJI",
            "HKG",
            "IND",
            "IDN",
            "MYS",
            "MMR",
            "PHL",
            "KOR",
            "LKA",
            "TWN",
            "THA",
            "ALB",
            "BGR",
            "HUN",
            "POL",
            "RUS",
            "ARG",
            "BRB",
            "BOL",
            "BRA",
            "CHL",
            "COL",
            "CRI",
            "CUB",
            "DOM",
            "ECU",
            "SLV",
            "GTM",
            "GUY",
            "HND",
            "JAM",
            "MEX",
            "NIC",
            "PAN",
            "PRY",
            "PER",
            "TTO",
            "URY",
            "VEN",
            "DZA",
            "EGY",
            "IRN",
            "IRQ",
            "MLT",
            "MAR",
            "SYR",
            "TUN",
            "BEN",
            "CMR",
            null,
            "GHA",
            "KEN",
            "MWI",
            "MLI",
            "MUS",
            "MOZ",
            "NER",
            "REU",
            "SEN",
            "SLE",
            "ZAF",
            "SDN",
            "UGA",
            "ZWE"
           ],
           "name": "",
           "type": "choropleth",
           "z": [
            3.89,
            4.02,
            3.09,
            4.83,
            3.17,
            1.61,
            2.92,
            3.74,
            2.03,
            2.17,
            1.98,
            2.49,
            0.22,
            3.8,
            5.04,
            6.36,
            0.94,
            3.49,
            4.5,
            6.05,
            0.22,
            6.76,
            3.63,
            0.01,
            0.05,
            0.45,
            0.79,
            0.32,
            0.13,
            0.47,
            0.58,
            0.47,
            0.83,
            0.92,
            0.1,
            0.45,
            0.15,
            2.08,
            4.02,
            2.71,
            0.72,
            1.81,
            2,
            0.38,
            0.82,
            2.39,
            1.46,
            2.3,
            1.58,
            1.06,
            1.29,
            1.19,
            1.11,
            2.02,
            1.11,
            2.54,
            1.33,
            1.12,
            1.54,
            1.41,
            0.73,
            2.41,
            1.45,
            0.64,
            0.6,
            0.17,
            0.05,
            0.02,
            1.59,
            0.01,
            0.17,
            0.08,
            0.02,
            0.07,
            0.28,
            0.16,
            0.25,
            0.16,
            0.01,
            1.48,
            0.02,
            0.01,
            1.74,
            0.03,
            0.15,
            1.28,
            0.03,
            0.16,
            0.14
           ]
          }
         ],
         "name": "1910"
        },
        {
         "data": [
          {
           "coloraxis": "coloraxis",
           "customdata": [
            [
             "Australia",
             4.31
            ],
            [
             "Austria",
             4.33
            ],
            [
             "Belgium",
             3.26
            ],
            [
             "Canada",
             5.19
            ],
            [
             "Denmark",
             3.39
            ],
            [
             "Finland",
             1.97
            ],
            [
             "France",
             3.17
            ],
            [
             "Germany",
             4.42
            ],
            [
             "Greece",
             2.29
            ],
            [
             "Ireland",
             2.48
            ],
            [
             "Italy",
             2.24
            ],
            [
             "Japan",
             2.96
            ],
            [
             "Luxembourg",
             0.27
            ],
            [
             "Netherlands",
             3.99
            ],
            [
             "New Zealand",
             5.48
            ],
            [
             "Norway",
             6.62
            ],
            [
             "Portugal",
             1.01
            ],
            [
             "Spain",
             3.38
            ],
            [
             "Sweden",
             4.59
            ],
            [
             "Switzerland",
             6.37
            ],
            [
             "Türkiye",
             0.31
            ],
            [
             "USA",
             6.97
            ],
            [
             "United Kingdom of Great Britain and Northern Ireland",
             4.07
            ],
            [
             "Cambodia",
             0.01
            ],
            [
             "China",
             0.06
            ],
            [
             "Fiji",
             0.63
            ],
            [
             "Hong Kong",
             1.03
            ],
            [
             "India",
             0.41
            ],
            [
             "Indonesia",
             0.17
            ],
            [
             "Malaysia",
             0.6
            ],
            [
             "Myanmar",
             0.87
            ],
            [
             "Philippines",
             0.71
            ],
            [
             "Korea, Republic of",
             1.53
            ],
            [
             "Sri Lanka",
             1.21
            ],
            [
             "Taiwan",
             0.13
            ],
            [
             "Thailand",
             0.54
            ],
            [
             "Albania",
             0.25
            ],
            [
             "Bulgaria",
             3.04
            ],
            [
             "Hungary",
             4.3
            ],
            [
             "Poland",
             2.95
            ],
            [
             "Russian Federation",
             0.91
            ],
            [
             "Argentina",
             2.35
            ],
            [
             "Barbados",
             2.34
            ],
            [
             "Bolivia, Plurinational State of",
             0.48
            ],
            [
             "Brazil",
             0.95
            ],
            [
             "Chile",
             2.92
            ],
            [
             "Colombia",
             1.65
            ],
            [
             "Costa Rica",
             2.52
            ],
            [
             "Cuba",
             2.03
            ],
            [
             "Dominican Republic",
             1.3
            ],
            [
             "Ecuador",
             1.46
            ],
            [
             "El Salvador",
             1.24
            ],
            [
             "Guatemala",
             1.23
            ],
            [
             "Guyana",
             2.35
            ],
            [
             "Honduras",
             1.23
            ],
            [
             "Jamaica",
             2.68
            ],
            [
             "Mexico",
             1.47
            ],
            [
             "Nicaragua",
             1.2
            ],
            [
             "Panama",
             1.79
            ],
            [
             "Paraguay",
             1.61
            ],
            [
             "Peru",
             0.91
            ],
            [
             "Trinidad and Tobago",
             2.92
            ],
            [
             "Uruguay",
             1.85
            ],
            [
             "Venezuela, Bolivarian Republic of",
             0.76
            ],
            [
             "Algeria",
             0.58
            ],
            [
             "Egypt",
             0.23
            ],
            [
             "Iran, Islamic Republic of",
             0.2
            ],
            [
             "Iraq",
             0.02
            ],
            [
             "Malta",
             1.82
            ],
            [
             "Morocco",
             0.04
            ],
            [
             "Syrian Arab Republic",
             0.21
            ],
            [
             "Tunisia",
             0.13
            ],
            [
             "Benin",
             0.03
            ],
            [
             "Cameroon",
             0.08
            ],
            [
             "Cote dIvoire",
             0.31
            ],
            [
             "Ghana",
             0.2
            ],
            [
             "Kenya",
             0.33
            ],
            [
             "Malawi",
             0.26
            ],
            [
             "Mali",
             0.01
            ],
            [
             "Mauritius",
             1.63
            ],
            [
             "Mozambique",
             0.03
            ],
            [
             "Niger",
             0.01
            ],
            [
             "Réunion",
             1.82
            ],
            [
             "Senegal",
             0.03
            ],
            [
             "Sierra Leone",
             0.18
            ],
            [
             "South Africa",
             1.62
            ],
            [
             "Sudan",
             0.15
            ],
            [
             "Uganda",
             0.21
            ],
            [
             "Zimbabwe",
             0.18
            ]
           ],
           "geo": "geo",
           "hovertemplate": "year=1915<br>iso_alpha=%{location}<br>country=%{customdata[0]}<br>avg_years_total_schooling=%{z}<extra></extra>",
           "locations": [
            "AUS",
            "AUT",
            "BEL",
            "CAN",
            "DNK",
            "FIN",
            "FRA",
            "DEU",
            "GRC",
            "IRL",
            "ITA",
            "JPN",
            "LUX",
            "NLD",
            "NZL",
            "NOR",
            "PRT",
            "ESP",
            "SWE",
            "CHE",
            "TUR",
            "USA",
            "GBR",
            "KHM",
            "CHN",
            "FJI",
            "HKG",
            "IND",
            "IDN",
            "MYS",
            "MMR",
            "PHL",
            "KOR",
            "LKA",
            "TWN",
            "THA",
            "ALB",
            "BGR",
            "HUN",
            "POL",
            "RUS",
            "ARG",
            "BRB",
            "BOL",
            "BRA",
            "CHL",
            "COL",
            "CRI",
            "CUB",
            "DOM",
            "ECU",
            "SLV",
            "GTM",
            "GUY",
            "HND",
            "JAM",
            "MEX",
            "NIC",
            "PAN",
            "PRY",
            "PER",
            "TTO",
            "URY",
            "VEN",
            "DZA",
            "EGY",
            "IRN",
            "IRQ",
            "MLT",
            "MAR",
            "SYR",
            "TUN",
            "BEN",
            "CMR",
            null,
            "GHA",
            "KEN",
            "MWI",
            "MLI",
            "MUS",
            "MOZ",
            "NER",
            "REU",
            "SEN",
            "SLE",
            "ZAF",
            "SDN",
            "UGA",
            "ZWE"
           ],
           "name": "",
           "type": "choropleth",
           "z": [
            4.31,
            4.33,
            3.26,
            5.19,
            3.39,
            1.97,
            3.17,
            4.42,
            2.29,
            2.48,
            2.24,
            2.96,
            0.27,
            3.99,
            5.48,
            6.62,
            1.01,
            3.38,
            4.59,
            6.37,
            0.31,
            6.97,
            4.07,
            0.01,
            0.06,
            0.63,
            1.03,
            0.41,
            0.17,
            0.6,
            0.87,
            0.71,
            1.53,
            1.21,
            0.13,
            0.54,
            0.25,
            3.04,
            4.3,
            2.95,
            0.91,
            2.35,
            2.34,
            0.48,
            0.95,
            2.92,
            1.65,
            2.52,
            2.03,
            1.3,
            1.46,
            1.24,
            1.23,
            2.35,
            1.23,
            2.68,
            1.47,
            1.2,
            1.79,
            1.61,
            0.91,
            2.92,
            1.85,
            0.76,
            0.58,
            0.23,
            0.2,
            0.02,
            1.82,
            0.04,
            0.21,
            0.13,
            0.03,
            0.08,
            0.31,
            0.2,
            0.33,
            0.26,
            0.01,
            1.63,
            0.03,
            0.01,
            1.82,
            0.03,
            0.18,
            1.62,
            0.15,
            0.21,
            0.18
           ]
          }
         ],
         "name": "1915"
        },
        {
         "data": [
          {
           "coloraxis": "coloraxis",
           "customdata": [
            [
             "Australia",
             4.72
            ],
            [
             "Austria",
             4.71
            ],
            [
             "Belgium",
             3.48
            ],
            [
             "Canada",
             5.54
            ],
            [
             "Denmark",
             3.64
            ],
            [
             "Finland",
             2.34
            ],
            [
             "France",
             3.44
            ],
            [
             "Germany",
             5.07
            ],
            [
             "Greece",
             2.42
            ],
            [
             "Ireland",
             2.82
            ],
            [
             "Italy",
             2.55
            ],
            [
             "Japan",
             3.92
            ],
            [
             "Luxembourg",
             0.36
            ],
            [
             "Netherlands",
             4.16
            ],
            [
             "New Zealand",
             5.87
            ],
            [
             "Norway",
             6.55
            ],
            [
             "Portugal",
             1.17
            ],
            [
             "Spain",
             3.28
            ],
            [
             "Sweden",
             4.84
            ],
            [
             "Switzerland",
             7.11
            ],
            [
             "Türkiye",
             0.39
            ],
            [
             "USA",
             7.2
            ],
            [
             "United Kingdom of Great Britain and Northern Ireland",
             4.49
            ],
            [
             "Cambodia",
             0.02
            ],
            [
             "China",
             0.09
            ],
            [
             "Fiji",
             1.03
            ],
            [
             "Hong Kong",
             1.23
            ],
            [
             "India",
             0.52
            ],
            [
             "Indonesia",
             0.43
            ],
            [
             "Malaysia",
             0.79
            ],
            [
             "Myanmar",
             0.94
            ],
            [
             "Philippines",
             0.93
            ],
            [
             "Korea, Republic of",
             1.96
            ],
            [
             "Sri Lanka",
             1.46
            ],
            [
             "Taiwan",
             0.56
            ],
            [
             "Thailand",
             0.57
            ],
            [
             "Albania",
             0.37
            ],
            [
             "Bulgaria",
             3.36
            ],
            [
             "Hungary",
             4.5
            ],
            [
             "Poland",
             3.41
            ],
            [
             "Russian Federation",
             1.26
            ],
            [
             "Argentina",
             2.94
            ],
            [
             "Barbados",
             2.76
            ],
            [
             "Bolivia, Plurinational State of",
             0.7
            ],
            [
             "Brazil",
             1.09
            ],
            [
             "Chile",
             3.43
            ],
            [
             "Colombia",
             1.82
            ],
            [
             "Costa Rica",
             2.79
            ],
            [
             "Cuba",
             2.28
            ],
            [
             "Dominican Republic",
             1.53
            ],
            [
             "Ecuador",
             1.62
            ],
            [
             "El Salvador",
             1.31
            ],
            [
             "Guatemala",
             1.34
            ],
            [
             "Guyana",
             2.64
            ],
            [
             "Honduras",
             1.53
            ],
            [
             "Jamaica",
             2.82
            ],
            [
             "Mexico",
             1.47
            ],
            [
             "Nicaragua",
             1.31
            ],
            [
             "Panama",
             1.99
            ],
            [
             "Paraguay",
             1.86
            ],
            [
             "Peru",
             1.45
            ],
            [
             "Trinidad and Tobago",
             3.28
            ],
            [
             "Uruguay",
             2.16
            ],
            [
             "Venezuela, Bolivarian Republic of",
             0.86
            ],
            [
             "Algeria",
             0.65
            ],
            [
             "Egypt",
             0.32
            ],
            [
             "Iran, Islamic Republic of",
             0.23
            ],
            [
             "Iraq",
             0.02
            ],
            [
             "Malta",
             2.02
            ],
            [
             "Morocco",
             0.07
            ],
            [
             "Syrian Arab Republic",
             0.37
            ],
            [
             "Tunisia",
             0.17
            ],
            [
             "Benin",
             0.04
            ],
            [
             "Cameroon",
             0.12
            ],
            [
             "Cote dIvoire",
             0.35
            ],
            [
             "Ghana",
             0.28
            ],
            [
             "Kenya",
             0.66
            ],
            [
             "Malawi",
             0.34
            ],
            [
             "Mali",
             0.02
            ],
            [
             "Mauritius",
             1.78
            ],
            [
             "Mozambique",
             0.03
            ],
            [
             "Niger",
             0.07
            ],
            [
             "Réunion",
             1.99
            ],
            [
             "Senegal",
             0.3
            ],
            [
             "Sierra Leone",
             0.21
            ],
            [
             "South Africa",
             2.39
            ],
            [
             "Sudan",
             0.16
            ],
            [
             "Uganda",
             0.45
            ],
            [
             "Zimbabwe",
             0.24
            ]
           ],
           "geo": "geo",
           "hovertemplate": "year=1920<br>iso_alpha=%{location}<br>country=%{customdata[0]}<br>avg_years_total_schooling=%{z}<extra></extra>",
           "locations": [
            "AUS",
            "AUT",
            "BEL",
            "CAN",
            "DNK",
            "FIN",
            "FRA",
            "DEU",
            "GRC",
            "IRL",
            "ITA",
            "JPN",
            "LUX",
            "NLD",
            "NZL",
            "NOR",
            "PRT",
            "ESP",
            "SWE",
            "CHE",
            "TUR",
            "USA",
            "GBR",
            "KHM",
            "CHN",
            "FJI",
            "HKG",
            "IND",
            "IDN",
            "MYS",
            "MMR",
            "PHL",
            "KOR",
            "LKA",
            "TWN",
            "THA",
            "ALB",
            "BGR",
            "HUN",
            "POL",
            "RUS",
            "ARG",
            "BRB",
            "BOL",
            "BRA",
            "CHL",
            "COL",
            "CRI",
            "CUB",
            "DOM",
            "ECU",
            "SLV",
            "GTM",
            "GUY",
            "HND",
            "JAM",
            "MEX",
            "NIC",
            "PAN",
            "PRY",
            "PER",
            "TTO",
            "URY",
            "VEN",
            "DZA",
            "EGY",
            "IRN",
            "IRQ",
            "MLT",
            "MAR",
            "SYR",
            "TUN",
            "BEN",
            "CMR",
            null,
            "GHA",
            "KEN",
            "MWI",
            "MLI",
            "MUS",
            "MOZ",
            "NER",
            "REU",
            "SEN",
            "SLE",
            "ZAF",
            "SDN",
            "UGA",
            "ZWE"
           ],
           "name": "",
           "type": "choropleth",
           "z": [
            4.72,
            4.71,
            3.48,
            5.54,
            3.64,
            2.34,
            3.44,
            5.07,
            2.42,
            2.82,
            2.55,
            3.92,
            0.36,
            4.16,
            5.87,
            6.55,
            1.17,
            3.28,
            4.84,
            7.11,
            0.39,
            7.2,
            4.49,
            0.02,
            0.09,
            1.03,
            1.23,
            0.52,
            0.43,
            0.79,
            0.94,
            0.93,
            1.96,
            1.46,
            0.56,
            0.57,
            0.37,
            3.36,
            4.5,
            3.41,
            1.26,
            2.94,
            2.76,
            0.7,
            1.09,
            3.43,
            1.82,
            2.79,
            2.28,
            1.53,
            1.62,
            1.31,
            1.34,
            2.64,
            1.53,
            2.82,
            1.47,
            1.31,
            1.99,
            1.86,
            1.45,
            3.28,
            2.16,
            0.86,
            0.65,
            0.32,
            0.23,
            0.02,
            2.02,
            0.07,
            0.37,
            0.17,
            0.04,
            0.12,
            0.35,
            0.28,
            0.66,
            0.34,
            0.02,
            1.78,
            0.03,
            0.07,
            1.99,
            0.3,
            0.21,
            2.39,
            0.16,
            0.45,
            0.24
           ]
          }
         ],
         "name": "1920"
        },
        {
         "data": [
          {
           "coloraxis": "coloraxis",
           "customdata": [
            [
             "Australia",
             5.48
            ],
            [
             "Austria",
             5.09
            ],
            [
             "Belgium",
             3.76
            ],
            [
             "Canada",
             5.92
            ],
            [
             "Denmark",
             3.93
            ],
            [
             "Finland",
             2.74
            ],
            [
             "France",
             3.64
            ],
            [
             "Germany",
             5.55
            ],
            [
             "Greece",
             2.61
            ],
            [
             "Ireland",
             3.35
            ],
            [
             "Italy",
             2.85
            ],
            [
             "Japan",
             4.46
            ],
            [
             "Luxembourg",
             0.44
            ],
            [
             "Netherlands",
             4.34
            ],
            [
             "New Zealand",
             6.31
            ],
            [
             "Norway",
             6.75
            ],
            [
             "Portugal",
             1.26
            ],
            [
             "Spain",
             3.2
            ],
            [
             "Sweden",
             5.06
            ],
            [
             "Switzerland",
             7.45
            ],
            [
             "Türkiye",
             0.48
            ],
            [
             "USA",
             7.56
            ],
            [
             "United Kingdom of Great Britain and Northern Ireland",
             4.93
            ],
            [
             "Cambodia",
             0.02
            ],
            [
             "China",
             0.16
            ],
            [
             "Fiji",
             1.81
            ],
            [
             "Hong Kong",
             2.17
            ],
            [
             "India",
             0.61
            ],
            [
             "Indonesia",
             0.52
            ],
            [
             "Malaysia",
             1.09
            ],
            [
             "Myanmar",
             1
            ],
            [
             "Philippines",
             1.16
            ],
            [
             "Korea, Republic of",
             2.37
            ],
            [
             "Sri Lanka",
             2.14
            ],
            [
             "Taiwan",
             0.91
            ],
            [
             "Thailand",
             0.64
            ],
            [
             "Albania",
             0.52
            ],
            [
             "Bulgaria",
             3.51
            ],
            [
             "Hungary",
             4.73
            ],
            [
             "Poland",
             3.62
            ],
            [
             "Russian Federation",
             1.54
            ],
            [
             "Argentina",
             3.29
            ],
            [
             "Barbados",
             3.03
            ],
            [
             "Bolivia, Plurinational State of",
             0.87
            ],
            [
             "Brazil",
             1.2
            ],
            [
             "Chile",
             3.86
            ],
            [
             "Colombia",
             2.05
            ],
            [
             "Costa Rica",
             3.06
            ],
            [
             "Cuba",
             2.61
            ],
            [
             "Dominican Republic",
             1.85
            ],
            [
             "Ecuador",
             1.72
            ],
            [
             "El Salvador",
             1.38
            ],
            [
             "Guatemala",
             1.31
            ],
            [
             "Guyana",
             2.81
            ],
            [
             "Honduras",
             1.57
            ],
            [
             "Jamaica",
             2.93
            ],
            [
             "Mexico",
             1.6
            ],
            [
             "Nicaragua",
             1.45
            ],
            [
             "Panama",
             2.2
            ],
            [
             "Paraguay",
             2.21
            ],
            [
             "Peru",
             1.69
            ],
            [
             "Trinidad and Tobago",
             3.55
            ],
            [
             "Uruguay",
             2.84
            ],
            [
             "Venezuela, Bolivarian Republic of",
             0.95
            ],
            [
             "Algeria",
             0.71
            ],
            [
             "Egypt",
             0.42
            ],
            [
             "Iran, Islamic Republic of",
             0.25
            ],
            [
             "Iraq",
             0.03
            ],
            [
             "Malta",
             2.19
            ],
            [
             "Morocco",
             0.1
            ],
            [
             "Syrian Arab Republic",
             0.44
            ],
            [
             "Tunisia",
             0.2
            ],
            [
             "Benin",
             0.12
            ],
            [
             "Cameroon",
             0.16
            ],
            [
             "Cote dIvoire",
             0.4
            ],
            [
             "Ghana",
             0.33
            ],
            [
             "Kenya",
             0.73
            ],
            [
             "Malawi",
             0.44
            ],
            [
             "Mali",
             0.03
            ],
            [
             "Mauritius",
             1.93
            ],
            [
             "Mozambique",
             0.07
            ],
            [
             "Niger",
             0.12
            ],
            [
             "Réunion",
             2.17
            ],
            [
             "Senegal",
             0.54
            ],
            [
             "Sierra Leone",
             0.22
            ],
            [
             "South Africa",
             2.76
            ],
            [
             "Sudan",
             0.18
            ],
            [
             "Uganda",
             0.48
            ],
            [
             "Zimbabwe",
             0.37
            ]
           ],
           "geo": "geo",
           "hovertemplate": "year=1925<br>iso_alpha=%{location}<br>country=%{customdata[0]}<br>avg_years_total_schooling=%{z}<extra></extra>",
           "locations": [
            "AUS",
            "AUT",
            "BEL",
            "CAN",
            "DNK",
            "FIN",
            "FRA",
            "DEU",
            "GRC",
            "IRL",
            "ITA",
            "JPN",
            "LUX",
            "NLD",
            "NZL",
            "NOR",
            "PRT",
            "ESP",
            "SWE",
            "CHE",
            "TUR",
            "USA",
            "GBR",
            "KHM",
            "CHN",
            "FJI",
            "HKG",
            "IND",
            "IDN",
            "MYS",
            "MMR",
            "PHL",
            "KOR",
            "LKA",
            "TWN",
            "THA",
            "ALB",
            "BGR",
            "HUN",
            "POL",
            "RUS",
            "ARG",
            "BRB",
            "BOL",
            "BRA",
            "CHL",
            "COL",
            "CRI",
            "CUB",
            "DOM",
            "ECU",
            "SLV",
            "GTM",
            "GUY",
            "HND",
            "JAM",
            "MEX",
            "NIC",
            "PAN",
            "PRY",
            "PER",
            "TTO",
            "URY",
            "VEN",
            "DZA",
            "EGY",
            "IRN",
            "IRQ",
            "MLT",
            "MAR",
            "SYR",
            "TUN",
            "BEN",
            "CMR",
            null,
            "GHA",
            "KEN",
            "MWI",
            "MLI",
            "MUS",
            "MOZ",
            "NER",
            "REU",
            "SEN",
            "SLE",
            "ZAF",
            "SDN",
            "UGA",
            "ZWE"
           ],
           "name": "",
           "type": "choropleth",
           "z": [
            5.48,
            5.09,
            3.76,
            5.92,
            3.93,
            2.74,
            3.64,
            5.55,
            2.61,
            3.35,
            2.85,
            4.46,
            0.44,
            4.34,
            6.31,
            6.75,
            1.26,
            3.2,
            5.06,
            7.45,
            0.48,
            7.56,
            4.93,
            0.02,
            0.16,
            1.81,
            2.17,
            0.61,
            0.52,
            1.09,
            1,
            1.16,
            2.37,
            2.14,
            0.91,
            0.64,
            0.52,
            3.51,
            4.73,
            3.62,
            1.54,
            3.29,
            3.03,
            0.87,
            1.2,
            3.86,
            2.05,
            3.06,
            2.61,
            1.85,
            1.72,
            1.38,
            1.31,
            2.81,
            1.57,
            2.93,
            1.6,
            1.45,
            2.2,
            2.21,
            1.69,
            3.55,
            2.84,
            0.95,
            0.71,
            0.42,
            0.25,
            0.03,
            2.19,
            0.1,
            0.44,
            0.2,
            0.12,
            0.16,
            0.4,
            0.33,
            0.73,
            0.44,
            0.03,
            1.93,
            0.07,
            0.12,
            2.17,
            0.54,
            0.22,
            2.76,
            0.18,
            0.48,
            0.37
           ]
          }
         ],
         "name": "1925"
        },
        {
         "data": [
          {
           "coloraxis": "coloraxis",
           "customdata": [
            [
             "Australia",
             6.03
            ],
            [
             "Austria",
             5.56
            ],
            [
             "Belgium",
             4.27
            ],
            [
             "Canada",
             6.35
            ],
            [
             "Denmark",
             4.26
            ],
            [
             "Finland",
             3.08
            ],
            [
             "France",
             3.77
            ],
            [
             "Germany",
             5.57
            ],
            [
             "Greece",
             2.98
            ],
            [
             "Ireland",
             3.75
            ],
            [
             "Italy",
             3.08
            ],
            [
             "Japan",
             4.96
            ],
            [
             "Luxembourg",
             0.56
            ],
            [
             "Netherlands",
             4.5
            ],
            [
             "New Zealand",
             6.84
            ],
            [
             "Norway",
             6.91
            ],
            [
             "Portugal",
             1.34
            ],
            [
             "Spain",
             3.31
            ],
            [
             "Sweden",
             5.64
            ],
            [
             "Switzerland",
             7.72
            ],
            [
             "Türkiye",
             0.57
            ],
            [
             "USA",
             7.9
            ],
            [
             "United Kingdom of Great Britain and Northern Ireland",
             5.42
            ],
            [
             "Cambodia",
             0.03
            ],
            [
             "China",
             0.25
            ],
            [
             "Fiji",
             2.16
            ],
            [
             "Hong Kong",
             2.58
            ],
            [
             "India",
             0.72
            ],
            [
             "Indonesia",
             0.6
            ],
            [
             "Malaysia",
             1.37
            ],
            [
             "Myanmar",
             1.11
            ],
            [
             "Philippines",
             1.4
            ],
            [
             "Korea, Republic of",
             2.8
            ],
            [
             "Sri Lanka",
             2.46
            ],
            [
             "Taiwan",
             1.36
            ],
            [
             "Thailand",
             0.76
            ],
            [
             "Albania",
             0.68
            ],
            [
             "Bulgaria",
             3.51
            ],
            [
             "Hungary",
             5.01
            ],
            [
             "Poland",
             3.93
            ],
            [
             "Russian Federation",
             1.88
            ],
            [
             "Argentina",
             3.72
            ],
            [
             "Barbados",
             3.26
            ],
            [
             "Bolivia, Plurinational State of",
             1.03
            ],
            [
             "Brazil",
             1.37
            ],
            [
             "Chile",
             4.08
            ],
            [
             "Colombia",
             2.21
            ],
            [
             "Costa Rica",
             3.2
            ],
            [
             "Cuba",
             2.96
            ],
            [
             "Dominican Republic",
             2.21
            ],
            [
             "Ecuador",
             1.9
            ],
            [
             "El Salvador",
             1.44
            ],
            [
             "Guatemala",
             1.32
            ],
            [
             "Guyana",
             3.04
            ],
            [
             "Honduras",
             1.55
            ],
            [
             "Jamaica",
             3.04
            ],
            [
             "Mexico",
             1.7
            ],
            [
             "Nicaragua",
             1.51
            ],
            [
             "Panama",
             2.53
            ],
            [
             "Paraguay",
             2.39
            ],
            [
             "Peru",
             1.9
            ],
            [
             "Trinidad and Tobago",
             3.93
            ],
            [
             "Uruguay",
             3.11
            ],
            [
             "Venezuela, Bolivarian Republic of",
             1
            ],
            [
             "Algeria",
             0.74
            ],
            [
             "Egypt",
             0.46
            ],
            [
             "Iran, Islamic Republic of",
             0.27
            ],
            [
             "Iraq",
             0.04
            ],
            [
             "Malta",
             2.29
            ],
            [
             "Morocco",
             0.16
            ],
            [
             "Syrian Arab Republic",
             0.5
            ],
            [
             "Tunisia",
             0.25
            ],
            [
             "Benin",
             0.2
            ],
            [
             "Cameroon",
             0.21
            ],
            [
             "Cote dIvoire",
             0.45
            ],
            [
             "Ghana",
             0.37
            ],
            [
             "Kenya",
             0.8
            ],
            [
             "Malawi",
             0.54
            ],
            [
             "Mali",
             0.04
            ],
            [
             "Mauritius",
             2.09
            ],
            [
             "Mozambique",
             0.12
            ],
            [
             "Niger",
             0.16
            ],
            [
             "Réunion",
             2.36
            ],
            [
             "Senegal",
             0.72
            ],
            [
             "Sierra Leone",
             0.24
            ],
            [
             "South Africa",
             3.09
            ],
            [
             "Sudan",
             0.22
            ],
            [
             "Uganda",
             0.52
            ],
            [
             "Zimbabwe",
             0.57
            ]
           ],
           "geo": "geo",
           "hovertemplate": "year=1930<br>iso_alpha=%{location}<br>country=%{customdata[0]}<br>avg_years_total_schooling=%{z}<extra></extra>",
           "locations": [
            "AUS",
            "AUT",
            "BEL",
            "CAN",
            "DNK",
            "FIN",
            "FRA",
            "DEU",
            "GRC",
            "IRL",
            "ITA",
            "JPN",
            "LUX",
            "NLD",
            "NZL",
            "NOR",
            "PRT",
            "ESP",
            "SWE",
            "CHE",
            "TUR",
            "USA",
            "GBR",
            "KHM",
            "CHN",
            "FJI",
            "HKG",
            "IND",
            "IDN",
            "MYS",
            "MMR",
            "PHL",
            "KOR",
            "LKA",
            "TWN",
            "THA",
            "ALB",
            "BGR",
            "HUN",
            "POL",
            "RUS",
            "ARG",
            "BRB",
            "BOL",
            "BRA",
            "CHL",
            "COL",
            "CRI",
            "CUB",
            "DOM",
            "ECU",
            "SLV",
            "GTM",
            "GUY",
            "HND",
            "JAM",
            "MEX",
            "NIC",
            "PAN",
            "PRY",
            "PER",
            "TTO",
            "URY",
            "VEN",
            "DZA",
            "EGY",
            "IRN",
            "IRQ",
            "MLT",
            "MAR",
            "SYR",
            "TUN",
            "BEN",
            "CMR",
            null,
            "GHA",
            "KEN",
            "MWI",
            "MLI",
            "MUS",
            "MOZ",
            "NER",
            "REU",
            "SEN",
            "SLE",
            "ZAF",
            "SDN",
            "UGA",
            "ZWE"
           ],
           "name": "",
           "type": "choropleth",
           "z": [
            6.03,
            5.56,
            4.27,
            6.35,
            4.26,
            3.08,
            3.77,
            5.57,
            2.98,
            3.75,
            3.08,
            4.96,
            0.56,
            4.5,
            6.84,
            6.91,
            1.34,
            3.31,
            5.64,
            7.72,
            0.57,
            7.9,
            5.42,
            0.03,
            0.25,
            2.16,
            2.58,
            0.72,
            0.6,
            1.37,
            1.11,
            1.4,
            2.8,
            2.46,
            1.36,
            0.76,
            0.68,
            3.51,
            5.01,
            3.93,
            1.88,
            3.72,
            3.26,
            1.03,
            1.37,
            4.08,
            2.21,
            3.2,
            2.96,
            2.21,
            1.9,
            1.44,
            1.32,
            3.04,
            1.55,
            3.04,
            1.7,
            1.51,
            2.53,
            2.39,
            1.9,
            3.93,
            3.11,
            1,
            0.74,
            0.46,
            0.27,
            0.04,
            2.29,
            0.16,
            0.5,
            0.25,
            0.2,
            0.21,
            0.45,
            0.37,
            0.8,
            0.54,
            0.04,
            2.09,
            0.12,
            0.16,
            2.36,
            0.72,
            0.24,
            3.09,
            0.22,
            0.52,
            0.57
           ]
          }
         ],
         "name": "1930"
        },
        {
         "data": [
          {
           "coloraxis": "coloraxis",
           "customdata": [
            [
             "Australia",
             6.57
            ],
            [
             "Austria",
             5.94
            ],
            [
             "Belgium",
             4.65
            ],
            [
             "Canada",
             6.85
            ],
            [
             "Denmark",
             4.59
            ],
            [
             "Finland",
             3.4
            ],
            [
             "France",
             3.92
            ],
            [
             "Germany",
             5.94
            ],
            [
             "Greece",
             3.56
            ],
            [
             "Ireland",
             4.38
            ],
            [
             "Italy",
             3.36
            ],
            [
             "Japan",
             5.34
            ],
            [
             "Luxembourg",
             1.4
            ],
            [
             "Netherlands",
             4.73
            ],
            [
             "New Zealand",
             7.57
            ],
            [
             "Norway",
             7.04
            ],
            [
             "Portugal",
             1.46
            ],
            [
             "Spain",
             3.31
            ],
            [
             "Sweden",
             5.89
            ],
            [
             "Switzerland",
             7.96
            ],
            [
             "Türkiye",
             0.69
            ],
            [
             "USA",
             8.34
            ],
            [
             "United Kingdom of Great Britain and Northern Ireland",
             5.94
            ],
            [
             "Cambodia",
             0.04
            ],
            [
             "China",
             0.35
            ],
            [
             "Fiji",
             2.5
            ],
            [
             "Hong Kong",
             3.04
            ],
            [
             "India",
             0.81
            ],
            [
             "Indonesia",
             0.71
            ],
            [
             "Malaysia",
             1.59
            ],
            [
             "Myanmar",
             1.17
            ],
            [
             "Philippines",
             1.69
            ],
            [
             "Korea, Republic of",
             3.24
            ],
            [
             "Sri Lanka",
             2.77
            ],
            [
             "Taiwan",
             1.78
            ],
            [
             "Thailand",
             1
            ],
            [
             "Albania",
             0.86
            ],
            [
             "Bulgaria",
             3.54
            ],
            [
             "Hungary",
             5.39
            ],
            [
             "Poland",
             4.38
            ],
            [
             "Russian Federation",
             2.45
            ],
            [
             "Argentina",
             4.04
            ],
            [
             "Barbados",
             3.6
            ],
            [
             "Bolivia, Plurinational State of",
             1.72
            ],
            [
             "Brazil",
             1.54
            ],
            [
             "Chile",
             4.31
            ],
            [
             "Colombia",
             2.35
            ],
            [
             "Costa Rica",
             3.35
            ],
            [
             "Cuba",
             3.16
            ],
            [
             "Dominican Republic",
             2.3
            ],
            [
             "Ecuador",
             2.12
            ],
            [
             "El Salvador",
             1.44
            ],
            [
             "Guatemala",
             1.44
            ],
            [
             "Guyana",
             3.27
            ],
            [
             "Honduras",
             1.51
            ],
            [
             "Jamaica",
             3.25
            ],
            [
             "Mexico",
             1.98
            ],
            [
             "Nicaragua",
             1.53
            ],
            [
             "Panama",
             2.95
            ],
            [
             "Paraguay",
             2.59
            ],
            [
             "Peru",
             2.15
            ],
            [
             "Trinidad and Tobago",
             4.3
            ],
            [
             "Uruguay",
             3.38
            ],
            [
             "Venezuela, Bolivarian Republic of",
             1.17
            ],
            [
             "Algeria",
             0.78
            ],
            [
             "Egypt",
             0.31
            ],
            [
             "Iran, Islamic Republic of",
             0.3
            ],
            [
             "Iraq",
             0.05
            ],
            [
             "Malta",
             2.55
            ],
            [
             "Morocco",
             0.19
            ],
            [
             "Syrian Arab Republic",
             0.6
            ],
            [
             "Tunisia",
             0.43
            ],
            [
             "Benin",
             0.27
            ],
            [
             "Cameroon",
             0.3
            ],
            [
             "Cote dIvoire",
             0.46
            ],
            [
             "Ghana",
             0.46
            ],
            [
             "Kenya",
             0.88
            ],
            [
             "Malawi",
             0.64
            ],
            [
             "Mali",
             0.1
            ],
            [
             "Mauritius",
             2.26
            ],
            [
             "Mozambique",
             0.16
            ],
            [
             "Niger",
             0.25
            ],
            [
             "Réunion",
             2.43
            ],
            [
             "Senegal",
             1.17
            ],
            [
             "Sierra Leone",
             0.26
            ],
            [
             "South Africa",
             3.42
            ],
            [
             "Sudan",
             0.24
            ],
            [
             "Uganda",
             0.55
            ],
            [
             "Zimbabwe",
             0.93
            ]
           ],
           "geo": "geo",
           "hovertemplate": "year=1935<br>iso_alpha=%{location}<br>country=%{customdata[0]}<br>avg_years_total_schooling=%{z}<extra></extra>",
           "locations": [
            "AUS",
            "AUT",
            "BEL",
            "CAN",
            "DNK",
            "FIN",
            "FRA",
            "DEU",
            "GRC",
            "IRL",
            "ITA",
            "JPN",
            "LUX",
            "NLD",
            "NZL",
            "NOR",
            "PRT",
            "ESP",
            "SWE",
            "CHE",
            "TUR",
            "USA",
            "GBR",
            "KHM",
            "CHN",
            "FJI",
            "HKG",
            "IND",
            "IDN",
            "MYS",
            "MMR",
            "PHL",
            "KOR",
            "LKA",
            "TWN",
            "THA",
            "ALB",
            "BGR",
            "HUN",
            "POL",
            "RUS",
            "ARG",
            "BRB",
            "BOL",
            "BRA",
            "CHL",
            "COL",
            "CRI",
            "CUB",
            "DOM",
            "ECU",
            "SLV",
            "GTM",
            "GUY",
            "HND",
            "JAM",
            "MEX",
            "NIC",
            "PAN",
            "PRY",
            "PER",
            "TTO",
            "URY",
            "VEN",
            "DZA",
            "EGY",
            "IRN",
            "IRQ",
            "MLT",
            "MAR",
            "SYR",
            "TUN",
            "BEN",
            "CMR",
            null,
            "GHA",
            "KEN",
            "MWI",
            "MLI",
            "MUS",
            "MOZ",
            "NER",
            "REU",
            "SEN",
            "SLE",
            "ZAF",
            "SDN",
            "UGA",
            "ZWE"
           ],
           "name": "",
           "type": "choropleth",
           "z": [
            6.57,
            5.94,
            4.65,
            6.85,
            4.59,
            3.4,
            3.92,
            5.94,
            3.56,
            4.38,
            3.36,
            5.34,
            1.4,
            4.73,
            7.57,
            7.04,
            1.46,
            3.31,
            5.89,
            7.96,
            0.69,
            8.34,
            5.94,
            0.04,
            0.35,
            2.5,
            3.04,
            0.81,
            0.71,
            1.59,
            1.17,
            1.69,
            3.24,
            2.77,
            1.78,
            1,
            0.86,
            3.54,
            5.39,
            4.38,
            2.45,
            4.04,
            3.6,
            1.72,
            1.54,
            4.31,
            2.35,
            3.35,
            3.16,
            2.3,
            2.12,
            1.44,
            1.44,
            3.27,
            1.51,
            3.25,
            1.98,
            1.53,
            2.95,
            2.59,
            2.15,
            4.3,
            3.38,
            1.17,
            0.78,
            0.31,
            0.3,
            0.05,
            2.55,
            0.19,
            0.6,
            0.43,
            0.27,
            0.3,
            0.46,
            0.46,
            0.88,
            0.64,
            0.1,
            2.26,
            0.16,
            0.25,
            2.43,
            1.17,
            0.26,
            3.42,
            0.24,
            0.55,
            0.93
           ]
          }
         ],
         "name": "1935"
        },
        {
         "data": [
          {
           "coloraxis": "coloraxis",
           "customdata": [
            [
             "Australia",
             7.03
            ],
            [
             "Austria",
             5.95
            ],
            [
             "Belgium",
             5.17
            ],
            [
             "Canada",
             7.14
            ],
            [
             "Denmark",
             4.89
            ],
            [
             "Finland",
             3.5
            ],
            [
             "France",
             4.1
            ],
            [
             "Germany",
             6.24
            ],
            [
             "Greece",
             3.94
            ],
            [
             "Ireland",
             5.15
            ],
            [
             "Italy",
             3.72
            ],
            [
             "Japan",
             5.66
            ],
            [
             "Luxembourg",
             2.18
            ],
            [
             "Netherlands",
             4.95
            ],
            [
             "New Zealand",
             7.95
            ],
            [
             "Norway",
             7.19
            ],
            [
             "Portugal",
             1.65
            ],
            [
             "Spain",
             3.42
            ],
            [
             "Sweden",
             6.16
            ],
            [
             "Switzerland",
             8.21
            ],
            [
             "Türkiye",
             0.78
            ],
            [
             "USA",
             8.68
            ],
            [
             "United Kingdom of Great Britain and Northern Ireland",
             6.24
            ],
            [
             "Cambodia",
             0.07
            ],
            [
             "China",
             1.32
            ],
            [
             "Fiji",
             2.8
            ],
            [
             "Hong Kong",
             3.7
            ],
            [
             "India",
             0.88
            ],
            [
             "Indonesia",
             0.82
            ],
            [
             "Malaysia",
             1.8
            ],
            [
             "Myanmar",
             1.24
            ],
            [
             "Philippines",
             1.8
            ],
            [
             "Korea, Republic of",
             3.63
            ],
            [
             "Sri Lanka",
             3.05
            ],
            [
             "Taiwan",
             2.13
            ],
            [
             "Thailand",
             1.26
            ],
            [
             "Albania",
             1.1
            ],
            [
             "Bulgaria",
             3.78
            ],
            [
             "Hungary",
             5.96
            ],
            [
             "Poland",
             4.87
            ],
            [
             "Russian Federation",
             3.06
            ],
            [
             "Argentina",
             4.33
            ],
            [
             "Barbados",
             3.98
            ],
            [
             "Bolivia, Plurinational State of",
             1.93
            ],
            [
             "Brazil",
             1.69
            ],
            [
             "Chile",
             4.59
            ],
            [
             "Colombia",
             2.44
            ],
            [
             "Costa Rica",
             3.5
            ],
            [
             "Cuba",
             3.31
            ],
            [
             "Dominican Republic",
             2.3
            ],
            [
             "Ecuador",
             2.27
            ],
            [
             "El Salvador",
             1.44
            ],
            [
             "Guatemala",
             1.45
            ],
            [
             "Guyana",
             3.51
            ],
            [
             "Honduras",
             1.52
            ],
            [
             "Jamaica",
             3.43
            ],
            [
             "Mexico",
             2.25
            ],
            [
             "Nicaragua",
             1.55
            ],
            [
             "Panama",
             3.22
            ],
            [
             "Paraguay",
             2.76
            ],
            [
             "Peru",
             2.4
            ],
            [
             "Trinidad and Tobago",
             4.61
            ],
            [
             "Uruguay",
             3.72
            ],
            [
             "Venezuela, Bolivarian Republic of",
             1.34
            ],
            [
             "Algeria",
             0.8
            ],
            [
             "Egypt",
             0.36
            ],
            [
             "Iran, Islamic Republic of",
             0.4
            ],
            [
             "Iraq",
             0.1
            ],
            [
             "Malta",
             2.8
            ],
            [
             "Morocco",
             0.22
            ],
            [
             "Syrian Arab Republic",
             0.7
            ],
            [
             "Tunisia",
             0.51
            ],
            [
             "Benin",
             0.41
            ],
            [
             "Cameroon",
             0.38
            ],
            [
             "Cote dIvoire",
             0.48
            ],
            [
             "Ghana",
             0.52
            ],
            [
             "Kenya",
             0.95
            ],
            [
             "Malawi",
             0.74
            ],
            [
             "Mali",
             0.11
            ],
            [
             "Mauritius",
             2.32
            ],
            [
             "Mozambique",
             0.4
            ],
            [
             "Niger",
             0.28
            ],
            [
             "Réunion",
             2.48
            ],
            [
             "Senegal",
             1.32
            ],
            [
             "Sierra Leone",
             0.31
            ],
            [
             "South Africa",
             3.7
            ],
            [
             "Sudan",
             0.27
            ],
            [
             "Uganda",
             0.58
            ],
            [
             "Zimbabwe",
             1.2
            ]
           ],
           "geo": "geo",
           "hovertemplate": "year=1940<br>iso_alpha=%{location}<br>country=%{customdata[0]}<br>avg_years_total_schooling=%{z}<extra></extra>",
           "locations": [
            "AUS",
            "AUT",
            "BEL",
            "CAN",
            "DNK",
            "FIN",
            "FRA",
            "DEU",
            "GRC",
            "IRL",
            "ITA",
            "JPN",
            "LUX",
            "NLD",
            "NZL",
            "NOR",
            "PRT",
            "ESP",
            "SWE",
            "CHE",
            "TUR",
            "USA",
            "GBR",
            "KHM",
            "CHN",
            "FJI",
            "HKG",
            "IND",
            "IDN",
            "MYS",
            "MMR",
            "PHL",
            "KOR",
            "LKA",
            "TWN",
            "THA",
            "ALB",
            "BGR",
            "HUN",
            "POL",
            "RUS",
            "ARG",
            "BRB",
            "BOL",
            "BRA",
            "CHL",
            "COL",
            "CRI",
            "CUB",
            "DOM",
            "ECU",
            "SLV",
            "GTM",
            "GUY",
            "HND",
            "JAM",
            "MEX",
            "NIC",
            "PAN",
            "PRY",
            "PER",
            "TTO",
            "URY",
            "VEN",
            "DZA",
            "EGY",
            "IRN",
            "IRQ",
            "MLT",
            "MAR",
            "SYR",
            "TUN",
            "BEN",
            "CMR",
            null,
            "GHA",
            "KEN",
            "MWI",
            "MLI",
            "MUS",
            "MOZ",
            "NER",
            "REU",
            "SEN",
            "SLE",
            "ZAF",
            "SDN",
            "UGA",
            "ZWE"
           ],
           "name": "",
           "type": "choropleth",
           "z": [
            7.03,
            5.95,
            5.17,
            7.14,
            4.89,
            3.5,
            4.1,
            6.24,
            3.94,
            5.15,
            3.72,
            5.66,
            2.18,
            4.95,
            7.95,
            7.19,
            1.65,
            3.42,
            6.16,
            8.21,
            0.78,
            8.68,
            6.24,
            0.07,
            1.32,
            2.8,
            3.7,
            0.88,
            0.82,
            1.8,
            1.24,
            1.8,
            3.63,
            3.05,
            2.13,
            1.26,
            1.1,
            3.78,
            5.96,
            4.87,
            3.06,
            4.33,
            3.98,
            1.93,
            1.69,
            4.59,
            2.44,
            3.5,
            3.31,
            2.3,
            2.27,
            1.44,
            1.45,
            3.51,
            1.52,
            3.43,
            2.25,
            1.55,
            3.22,
            2.76,
            2.4,
            4.61,
            3.72,
            1.34,
            0.8,
            0.36,
            0.4,
            0.1,
            2.8,
            0.22,
            0.7,
            0.51,
            0.41,
            0.38,
            0.48,
            0.52,
            0.95,
            0.74,
            0.11,
            2.32,
            0.4,
            0.28,
            2.48,
            1.32,
            0.31,
            3.7,
            0.27,
            0.58,
            1.2
           ]
          }
         ],
         "name": "1940"
        },
        {
         "data": [
          {
           "coloraxis": "coloraxis",
           "customdata": [
            [
             "Australia",
             7.48
            ],
            [
             "Austria",
             5.84
            ],
            [
             "Belgium",
             5.93
            ],
            [
             "Canada",
             7.46
            ],
            [
             "Denmark",
             5.34
            ],
            [
             "Finland",
             3.64
            ],
            [
             "France",
             4.26
            ],
            [
             "Germany",
             6.56
            ],
            [
             "Greece",
             4.36
            ],
            [
             "Ireland",
             5.8
            ],
            [
             "Italy",
             4.15
            ],
            [
             "Japan",
             6.19
            ],
            [
             "Luxembourg",
             2.83
            ],
            [
             "Netherlands",
             5.14
            ],
            [
             "New Zealand",
             8.31
            ],
            [
             "Norway",
             7.34
            ],
            [
             "Portugal",
             1.84
            ],
            [
             "Spain",
             3.66
            ],
            [
             "Sweden",
             6.53
            ],
            [
             "Switzerland",
             8.52
            ],
            [
             "Türkiye",
             0.94
            ],
            [
             "USA",
             8.93
            ],
            [
             "United Kingdom of Great Britain and Northern Ireland",
             6.46
            ],
            [
             "Cambodia",
             0.29
            ],
            [
             "China",
             1.45
            ],
            [
             "Fiji",
             3.1
            ],
            [
             "Hong Kong",
             4.16
            ],
            [
             "India",
             0.96
            ],
            [
             "Indonesia",
             0.96
            ],
            [
             "Malaysia",
             1.98
            ],
            [
             "Myanmar",
             1.21
            ],
            [
             "Philippines",
             1.99
            ],
            [
             "Korea, Republic of",
             3.96
            ],
            [
             "Sri Lanka",
             3.3
            ],
            [
             "Taiwan",
             2.5
            ],
            [
             "Thailand",
             1.67
            ],
            [
             "Albania",
             1.82
            ],
            [
             "Bulgaria",
             3.89
            ],
            [
             "Hungary",
             6.57
            ],
            [
             "Poland",
             5.26
            ],
            [
             "Russian Federation",
             3.69
            ],
            [
             "Argentina",
             4.65
            ],
            [
             "Barbados",
             4.41
            ],
            [
             "Bolivia, Plurinational State of",
             2.12
            ],
            [
             "Brazil",
             1.83
            ],
            [
             "Chile",
             4.76
            ],
            [
             "Colombia",
             2.57
            ],
            [
             "Costa Rica",
             3.69
            ],
            [
             "Cuba",
             3.42
            ],
            [
             "Dominican Republic",
             2.39
            ],
            [
             "Ecuador",
             2.48
            ],
            [
             "El Salvador",
             1.56
            ],
            [
             "Guatemala",
             1.44
            ],
            [
             "Guyana",
             3.66
            ],
            [
             "Honduras",
             1.57
            ],
            [
             "Jamaica",
             3.57
            ],
            [
             "Mexico",
             2.24
            ],
            [
             "Nicaragua",
             1.58
            ],
            [
             "Panama",
             3.48
            ],
            [
             "Paraguay",
             2.99
            ],
            [
             "Peru",
             2.72
            ],
            [
             "Trinidad and Tobago",
             4.92
            ],
            [
             "Uruguay",
             4.06
            ],
            [
             "Venezuela, Bolivarian Republic of",
             1.61
            ],
            [
             "Algeria",
             0.82
            ],
            [
             "Egypt",
             0.43
            ],
            [
             "Iran, Islamic Republic of",
             0.49
            ],
            [
             "Iraq",
             0.16
            ],
            [
             "Malta",
             3.08
            ],
            [
             "Morocco",
             0.26
            ],
            [
             "Syrian Arab Republic",
             0.8
            ],
            [
             "Tunisia",
             0.59
            ],
            [
             "Benin",
             0.48
            ],
            [
             "Cameroon",
             0.47
            ],
            [
             "Cote dIvoire",
             0.52
            ],
            [
             "Ghana",
             0.57
            ],
            [
             "Kenya",
             1.08
            ],
            [
             "Malawi",
             0.85
            ],
            [
             "Mali",
             0.13
            ],
            [
             "Mauritius",
             2.39
            ],
            [
             "Mozambique",
             0.45
            ],
            [
             "Niger",
             0.31
            ],
            [
             "Réunion",
             2.63
            ],
            [
             "Senegal",
             1.48
            ],
            [
             "Sierra Leone",
             0.36
            ],
            [
             "South Africa",
             3.98
            ],
            [
             "Sudan",
             0.29
            ],
            [
             "Uganda",
             0.74
            ],
            [
             "Zimbabwe",
             1.3
            ]
           ],
           "geo": "geo",
           "hovertemplate": "year=1945<br>iso_alpha=%{location}<br>country=%{customdata[0]}<br>avg_years_total_schooling=%{z}<extra></extra>",
           "locations": [
            "AUS",
            "AUT",
            "BEL",
            "CAN",
            "DNK",
            "FIN",
            "FRA",
            "DEU",
            "GRC",
            "IRL",
            "ITA",
            "JPN",
            "LUX",
            "NLD",
            "NZL",
            "NOR",
            "PRT",
            "ESP",
            "SWE",
            "CHE",
            "TUR",
            "USA",
            "GBR",
            "KHM",
            "CHN",
            "FJI",
            "HKG",
            "IND",
            "IDN",
            "MYS",
            "MMR",
            "PHL",
            "KOR",
            "LKA",
            "TWN",
            "THA",
            "ALB",
            "BGR",
            "HUN",
            "POL",
            "RUS",
            "ARG",
            "BRB",
            "BOL",
            "BRA",
            "CHL",
            "COL",
            "CRI",
            "CUB",
            "DOM",
            "ECU",
            "SLV",
            "GTM",
            "GUY",
            "HND",
            "JAM",
            "MEX",
            "NIC",
            "PAN",
            "PRY",
            "PER",
            "TTO",
            "URY",
            "VEN",
            "DZA",
            "EGY",
            "IRN",
            "IRQ",
            "MLT",
            "MAR",
            "SYR",
            "TUN",
            "BEN",
            "CMR",
            null,
            "GHA",
            "KEN",
            "MWI",
            "MLI",
            "MUS",
            "MOZ",
            "NER",
            "REU",
            "SEN",
            "SLE",
            "ZAF",
            "SDN",
            "UGA",
            "ZWE"
           ],
           "name": "",
           "type": "choropleth",
           "z": [
            7.48,
            5.84,
            5.93,
            7.46,
            5.34,
            3.64,
            4.26,
            6.56,
            4.36,
            5.8,
            4.15,
            6.19,
            2.83,
            5.14,
            8.31,
            7.34,
            1.84,
            3.66,
            6.53,
            8.52,
            0.94,
            8.93,
            6.46,
            0.29,
            1.45,
            3.1,
            4.16,
            0.96,
            0.96,
            1.98,
            1.21,
            1.99,
            3.96,
            3.3,
            2.5,
            1.67,
            1.82,
            3.89,
            6.57,
            5.26,
            3.69,
            4.65,
            4.41,
            2.12,
            1.83,
            4.76,
            2.57,
            3.69,
            3.42,
            2.39,
            2.48,
            1.56,
            1.44,
            3.66,
            1.57,
            3.57,
            2.24,
            1.58,
            3.48,
            2.99,
            2.72,
            4.92,
            4.06,
            1.61,
            0.82,
            0.43,
            0.49,
            0.16,
            3.08,
            0.26,
            0.8,
            0.59,
            0.48,
            0.47,
            0.52,
            0.57,
            1.08,
            0.85,
            0.13,
            2.39,
            0.45,
            0.31,
            2.63,
            1.48,
            0.36,
            3.98,
            0.29,
            0.74,
            1.3
           ]
          }
         ],
         "name": "1945"
        },
        {
         "data": [
          {
           "coloraxis": "coloraxis",
           "customdata": [
            [
             "Australia",
             8.21
            ],
            [
             "Austria",
             5.89
            ],
            [
             "Belgium",
             6.85
            ],
            [
             "Canada",
             7.76
            ],
            [
             "Denmark",
             5.63
            ],
            [
             "Finland",
             3.91
            ],
            [
             "France",
             4.42
            ],
            [
             "Germany",
             7.21
            ],
            [
             "Greece",
             4.39
            ],
            [
             "Ireland",
             6.42
            ],
            [
             "Italy",
             4.4
            ],
            [
             "Japan",
             6.86
            ],
            [
             "Luxembourg",
             3.85
            ],
            [
             "Netherlands",
             6.14
            ],
            [
             "New Zealand",
             9.34
            ],
            [
             "Norway",
             7.43
            ],
            [
             "Portugal",
             2.01
            ],
            [
             "Spain",
             3.83
            ],
            [
             "Sweden",
             6.95
            ],
            [
             "Switzerland",
             8.97
            ],
            [
             "Türkiye",
             1.14
            ],
            [
             "USA",
             8.74
            ],
            [
             "United Kingdom of Great Britain and Northern Ireland",
             6.49
            ],
            [
             "Cambodia",
             0.44
            ],
            [
             "China",
             1.69
            ],
            [
             "Fiji",
             3.77
            ],
            [
             "Hong Kong",
             4.46
            ],
            [
             "India",
             1.02
            ],
            [
             "Indonesia",
             1.14
            ],
            [
             "Malaysia",
             2.21
            ],
            [
             "Myanmar",
             1.17
            ],
            [
             "Philippines",
             2.35
            ],
            [
             "Korea, Republic of",
             4.64
            ],
            [
             "Sri Lanka",
             3.55
            ],
            [
             "Taiwan",
             3.16
            ],
            [
             "Thailand",
             2.16
            ],
            [
             "Albania",
             2.75
            ],
            [
             "Bulgaria",
             3.97
            ],
            [
             "Hungary",
             7.2
            ],
            [
             "Poland",
             5.52
            ],
            [
             "Russian Federation",
             4.08
            ],
            [
             "Argentina",
             4.91
            ],
            [
             "Barbados",
             4.68
            ],
            [
             "Bolivia, Plurinational State of",
             2.44
            ],
            [
             "Brazil",
             2.11
            ],
            [
             "Chile",
             4.91
            ],
            [
             "Colombia",
             2.38
            ],
            [
             "Costa Rica",
             3.6
            ],
            [
             "Cuba",
             3.58
            ],
            [
             "Dominican Republic",
             2.53
            ],
            [
             "Ecuador",
             2.62
            ],
            [
             "El Salvador",
             1.55
            ],
            [
             "Guatemala",
             1.32
            ],
            [
             "Guyana",
             4.36
            ],
            [
             "Honduras",
             1.65
            ],
            [
             "Jamaica",
             3.64
            ],
            [
             "Mexico",
             2.2
            ],
            [
             "Nicaragua",
             1.54
            ],
            [
             "Panama",
             3.87
            ],
            [
             "Paraguay",
             2.81
            ],
            [
             "Peru",
             2.91
            ],
            [
             "Trinidad and Tobago",
             5.16
            ],
            [
             "Uruguay",
             4.47
            ],
            [
             "Venezuela, Bolivarian Republic of",
             1.65
            ],
            [
             "Algeria",
             0.83
            ],
            [
             "Egypt",
             0.54
            ],
            [
             "Iran, Islamic Republic of",
             0.6
            ],
            [
             "Iraq",
             0.25
            ],
            [
             "Malta",
             3.32
            ],
            [
             "Morocco",
             0.3
            ],
            [
             "Syrian Arab Republic",
             0.92
            ],
            [
             "Tunisia",
             0.68
            ],
            [
             "Benin",
             0.52
            ],
            [
             "Cameroon",
             0.72
            ],
            [
             "Cote dIvoire",
             0.86
            ],
            [
             "Ghana",
             0.7
            ],
            [
             "Kenya",
             1.2
            ],
            [
             "Malawi",
             0.98
            ],
            [
             "Mali",
             0.16
            ],
            [
             "Mauritius",
             2.51
            ],
            [
             "Mozambique",
             0.52
            ],
            [
             "Niger",
             0.33
            ],
            [
             "Réunion",
             2.89
            ],
            [
             "Senegal",
             1.87
            ],
            [
             "Sierra Leone",
             0.41
            ],
            [
             "South Africa",
             4.2
            ],
            [
             "Sudan",
             0.35
            ],
            [
             "Uganda",
             0.92
            ],
            [
             "Zimbabwe",
             1.66
            ]
           ],
           "geo": "geo",
           "hovertemplate": "year=1950<br>iso_alpha=%{location}<br>country=%{customdata[0]}<br>avg_years_total_schooling=%{z}<extra></extra>",
           "locations": [
            "AUS",
            "AUT",
            "BEL",
            "CAN",
            "DNK",
            "FIN",
            "FRA",
            "DEU",
            "GRC",
            "IRL",
            "ITA",
            "JPN",
            "LUX",
            "NLD",
            "NZL",
            "NOR",
            "PRT",
            "ESP",
            "SWE",
            "CHE",
            "TUR",
            "USA",
            "GBR",
            "KHM",
            "CHN",
            "FJI",
            "HKG",
            "IND",
            "IDN",
            "MYS",
            "MMR",
            "PHL",
            "KOR",
            "LKA",
            "TWN",
            "THA",
            "ALB",
            "BGR",
            "HUN",
            "POL",
            "RUS",
            "ARG",
            "BRB",
            "BOL",
            "BRA",
            "CHL",
            "COL",
            "CRI",
            "CUB",
            "DOM",
            "ECU",
            "SLV",
            "GTM",
            "GUY",
            "HND",
            "JAM",
            "MEX",
            "NIC",
            "PAN",
            "PRY",
            "PER",
            "TTO",
            "URY",
            "VEN",
            "DZA",
            "EGY",
            "IRN",
            "IRQ",
            "MLT",
            "MAR",
            "SYR",
            "TUN",
            "BEN",
            "CMR",
            null,
            "GHA",
            "KEN",
            "MWI",
            "MLI",
            "MUS",
            "MOZ",
            "NER",
            "REU",
            "SEN",
            "SLE",
            "ZAF",
            "SDN",
            "UGA",
            "ZWE"
           ],
           "name": "",
           "type": "choropleth",
           "z": [
            8.21,
            5.89,
            6.85,
            7.76,
            5.63,
            3.91,
            4.42,
            7.21,
            4.39,
            6.42,
            4.4,
            6.86,
            3.85,
            6.14,
            9.34,
            7.43,
            2.01,
            3.83,
            6.95,
            8.97,
            1.14,
            8.74,
            6.49,
            0.44,
            1.69,
            3.77,
            4.46,
            1.02,
            1.14,
            2.21,
            1.17,
            2.35,
            4.64,
            3.55,
            3.16,
            2.16,
            2.75,
            3.97,
            7.2,
            5.52,
            4.08,
            4.91,
            4.68,
            2.44,
            2.11,
            4.91,
            2.38,
            3.6,
            3.58,
            2.53,
            2.62,
            1.55,
            1.32,
            4.36,
            1.65,
            3.64,
            2.2,
            1.54,
            3.87,
            2.81,
            2.91,
            5.16,
            4.47,
            1.65,
            0.83,
            0.54,
            0.6,
            0.25,
            3.32,
            0.3,
            0.92,
            0.68,
            0.52,
            0.72,
            0.86,
            0.7,
            1.2,
            0.98,
            0.16,
            2.51,
            0.52,
            0.33,
            2.89,
            1.87,
            0.41,
            4.2,
            0.35,
            0.92,
            1.66
           ]
          }
         ],
         "name": "1950"
        },
        {
         "data": [
          {
           "coloraxis": "coloraxis",
           "customdata": [
            [
             "Australia",
             8.49
            ],
            [
             "Austria",
             5.64
            ],
            [
             "Belgium",
             7.17
            ],
            [
             "Canada",
             8.11
            ],
            [
             "Denmark",
             4.78
            ],
            [
             "Finland",
             4.06
            ],
            [
             "France",
             4.56
            ],
            [
             "Germany",
             7.47
            ],
            [
             "Greece",
             5.79
            ],
            [
             "Ireland",
             6.72
            ],
            [
             "Italy",
             4.71
            ],
            [
             "Japan",
             7.4
            ],
            [
             "Luxembourg",
             4.65
            ],
            [
             "Netherlands",
             6.2
            ],
            [
             "New Zealand",
             9.67
            ],
            [
             "Norway",
             7.45
            ],
            [
             "Portugal",
             2.2
            ],
            [
             "Spain",
             4.04
            ],
            [
             "Sweden",
             7.28
            ],
            [
             "Switzerland",
             9.09
            ],
            [
             "Türkiye",
             1.42
            ],
            [
             "USA",
             9.14
            ],
            [
             "United Kingdom of Great Britain and Northern Ireland",
             6.73
            ],
            [
             "Cambodia",
             0.67
            ],
            [
             "China",
             2.06
            ],
            [
             "Fiji",
             4.24
            ],
            [
             "Hong Kong",
             4.76
            ],
            [
             "India",
             1.08
            ],
            [
             "Indonesia",
             1.31
            ],
            [
             "Malaysia",
             2.5
            ],
            [
             "Myanmar",
             1.25
            ],
            [
             "Philippines",
             3.36
            ],
            [
             "Korea, Republic of",
             5.22
            ],
            [
             "Sri Lanka",
             3.84
            ],
            [
             "Taiwan",
             3.47
            ],
            [
             "Thailand",
             2.44
            ],
            [
             "Albania",
             2.93
            ],
            [
             "Bulgaria",
             4.82
            ],
            [
             "Hungary",
             7.36
            ],
            [
             "Poland",
             5.81
            ],
            [
             "Russian Federation",
             4.58
            ],
            [
             "Argentina",
             5.24
            ],
            [
             "Barbados",
             4.85
            ],
            [
             "Bolivia, Plurinational State of",
             2.8
            ],
            [
             "Brazil",
             2.3
            ],
            [
             "Chile",
             5.04
            ],
            [
             "Colombia",
             2.73
            ],
            [
             "Costa Rica",
             3.82
            ],
            [
             "Cuba",
             3.66
            ],
            [
             "Dominican Republic",
             2.58
            ],
            [
             "Ecuador",
             2.93
            ],
            [
             "El Salvador",
             1.7
            ],
            [
             "Guatemala",
             1.35
            ],
            [
             "Guyana",
             4.6
            ],
            [
             "Honduras",
             1.75
            ],
            [
             "Jamaica",
             3.74
            ],
            [
             "Mexico",
             2.36
            ],
            [
             "Nicaragua",
             1.83
            ],
            [
             "Panama",
             4.26
            ],
            [
             "Paraguay",
             3.08
            ],
            [
             "Peru",
             3.1
            ],
            [
             "Trinidad and Tobago",
             5.37
            ],
            [
             "Uruguay",
             4.77
            ],
            [
             "Venezuela, Bolivarian Republic of",
             2.01
            ],
            [
             "Algeria",
             0.82
            ],
            [
             "Egypt",
             0.7
            ],
            [
             "Iran, Islamic Republic of",
             0.72
            ],
            [
             "Iraq",
             0.35
            ],
            [
             "Malta",
             3.89
            ],
            [
             "Morocco",
             0.39
            ],
            [
             "Syrian Arab Republic",
             1.05
            ],
            [
             "Tunisia",
             0.82
            ],
            [
             "Benin",
             0.61
            ],
            [
             "Cameroon",
             0.92
            ],
            [
             "Cote dIvoire",
             0.91
            ],
            [
             "Ghana",
             0.83
            ],
            [
             "Kenya",
             1.35
            ],
            [
             "Malawi",
             1.06
            ],
            [
             "Mali",
             0.18
            ],
            [
             "Mauritius",
             2.93
            ],
            [
             "Mozambique",
             0.7
            ],
            [
             "Niger",
             0.35
            ],
            [
             "Réunion",
             2.77
            ],
            [
             "Senegal",
             1.95
            ],
            [
             "Sierra Leone",
             0.46
            ],
            [
             "South Africa",
             4.4
            ],
            [
             "Sudan",
             0.43
            ],
            [
             "Uganda",
             1.06
            ],
            [
             "Zimbabwe",
             1.99
            ]
           ],
           "geo": "geo",
           "hovertemplate": "year=1955<br>iso_alpha=%{location}<br>country=%{customdata[0]}<br>avg_years_total_schooling=%{z}<extra></extra>",
           "locations": [
            "AUS",
            "AUT",
            "BEL",
            "CAN",
            "DNK",
            "FIN",
            "FRA",
            "DEU",
            "GRC",
            "IRL",
            "ITA",
            "JPN",
            "LUX",
            "NLD",
            "NZL",
            "NOR",
            "PRT",
            "ESP",
            "SWE",
            "CHE",
            "TUR",
            "USA",
            "GBR",
            "KHM",
            "CHN",
            "FJI",
            "HKG",
            "IND",
            "IDN",
            "MYS",
            "MMR",
            "PHL",
            "KOR",
            "LKA",
            "TWN",
            "THA",
            "ALB",
            "BGR",
            "HUN",
            "POL",
            "RUS",
            "ARG",
            "BRB",
            "BOL",
            "BRA",
            "CHL",
            "COL",
            "CRI",
            "CUB",
            "DOM",
            "ECU",
            "SLV",
            "GTM",
            "GUY",
            "HND",
            "JAM",
            "MEX",
            "NIC",
            "PAN",
            "PRY",
            "PER",
            "TTO",
            "URY",
            "VEN",
            "DZA",
            "EGY",
            "IRN",
            "IRQ",
            "MLT",
            "MAR",
            "SYR",
            "TUN",
            "BEN",
            "CMR",
            null,
            "GHA",
            "KEN",
            "MWI",
            "MLI",
            "MUS",
            "MOZ",
            "NER",
            "REU",
            "SEN",
            "SLE",
            "ZAF",
            "SDN",
            "UGA",
            "ZWE"
           ],
           "name": "",
           "type": "choropleth",
           "z": [
            8.49,
            5.64,
            7.17,
            8.11,
            4.78,
            4.06,
            4.56,
            7.47,
            5.79,
            6.72,
            4.71,
            7.4,
            4.65,
            6.2,
            9.67,
            7.45,
            2.2,
            4.04,
            7.28,
            9.09,
            1.42,
            9.14,
            6.73,
            0.67,
            2.06,
            4.24,
            4.76,
            1.08,
            1.31,
            2.5,
            1.25,
            3.36,
            5.22,
            3.84,
            3.47,
            2.44,
            2.93,
            4.82,
            7.36,
            5.81,
            4.58,
            5.24,
            4.85,
            2.8,
            2.3,
            5.04,
            2.73,
            3.82,
            3.66,
            2.58,
            2.93,
            1.7,
            1.35,
            4.6,
            1.75,
            3.74,
            2.36,
            1.83,
            4.26,
            3.08,
            3.1,
            5.37,
            4.77,
            2.01,
            0.82,
            0.7,
            0.72,
            0.35,
            3.89,
            0.39,
            1.05,
            0.82,
            0.61,
            0.92,
            0.91,
            0.83,
            1.35,
            1.06,
            0.18,
            2.93,
            0.7,
            0.35,
            2.77,
            1.95,
            0.46,
            4.4,
            0.43,
            1.06,
            1.99
           ]
          }
         ],
         "name": "1955"
        },
        {
         "data": [
          {
           "coloraxis": "coloraxis",
           "customdata": [
            [
             "Australia",
             8.78
            ],
            [
             "Austria",
             5.67
            ],
            [
             "Belgium",
             7.4
            ],
            [
             "Canada",
             8.55
            ],
            [
             "Denmark",
             5.3
            ],
            [
             "Finland",
             4.25
            ],
            [
             "France",
             4.32
            ],
            [
             "Germany",
             7.54
            ],
            [
             "Greece",
             7.78
            ],
            [
             "Ireland",
             6.98
            ],
            [
             "Italy",
             5.07
            ],
            [
             "Japan",
             7.77
            ],
            [
             "Luxembourg",
             5.22
            ],
            [
             "Netherlands",
             6.25
            ],
            [
             "New Zealand",
             10.12
            ],
            [
             "Norway",
             7.53
            ],
            [
             "Portugal",
             2.46
            ],
            [
             "Spain",
             4.42
            ],
            [
             "Sweden",
             7.69
            ],
            [
             "Switzerland",
             9.16
            ],
            [
             "Türkiye",
             1.84
            ],
            [
             "USA",
             9.63
            ],
            [
             "United Kingdom of Great Britain and Northern Ireland",
             7.01
            ],
            [
             "Cambodia",
             1.23
            ],
            [
             "China",
             2.64
            ],
            [
             "Fiji",
             4.57
            ],
            [
             "Hong Kong",
             5.05
            ],
            [
             "India",
             1.16
            ],
            [
             "Indonesia",
             1.67
            ],
            [
             "Malaysia",
             2.99
            ],
            [
             "Myanmar",
             1.27
            ],
            [
             "Philippines",
             3.49
            ],
            [
             "Korea, Republic of",
             4.46
            ],
            [
             "Sri Lanka",
             4.12
            ],
            [
             "Taiwan",
             3.76
            ],
            [
             "Thailand",
             2.68
            ],
            [
             "Albania",
             3.23
            ],
            [
             "Bulgaria",
             5.24
            ],
            [
             "Hungary",
             7.53
            ],
            [
             "Poland",
             6.19
            ],
            [
             "Russian Federation",
             4.88
            ],
            [
             "Argentina",
             5.69
            ],
            [
             "Barbados",
             5.08
            ],
            [
             "Bolivia, Plurinational State of",
             3.15
            ],
            [
             "Brazil",
             2.53
            ],
            [
             "Chile",
             5.23
            ],
            [
             "Colombia",
             3.1
            ],
            [
             "Costa Rica",
             3.96
            ],
            [
             "Cuba",
             4.08
            ],
            [
             "Dominican Republic",
             2.78
            ],
            [
             "Ecuador",
             3.29
            ],
            [
             "El Salvador",
             1.98
            ],
            [
             "Guatemala",
             1.41
            ],
            [
             "Guyana",
             4.91
            ],
            [
             "Honduras",
             1.93
            ],
            [
             "Jamaica",
             3.93
            ],
            [
             "Mexico",
             2.55
            ],
            [
             "Nicaragua",
             2.19
            ],
            [
             "Panama",
             4.75
            ],
            [
             "Paraguay",
             3.47
            ],
            [
             "Peru",
             3.32
            ],
            [
             "Trinidad and Tobago",
             5.73
            ],
            [
             "Uruguay",
             5.06
            ],
            [
             "Venezuela, Bolivarian Republic of",
             2.44
            ],
            [
             "Algeria",
             0.9
            ],
            [
             "Egypt",
             0.85
            ],
            [
             "Iran, Islamic Republic of",
             0.99
            ],
            [
             "Iraq",
             0.53
            ],
            [
             "Malta",
             4.49
            ],
            [
             "Morocco",
             0.51
            ],
            [
             "Syrian Arab Republic",
             1.31
            ],
            [
             "Tunisia",
             0.96
            ],
            [
             "Benin",
             0.7
            ],
            [
             "Cameroon",
             1.12
            ],
            [
             "Cote dIvoire",
             0.99
            ],
            [
             "Ghana",
             1.1
            ],
            [
             "Kenya",
             1.56
            ],
            [
             "Malawi",
             1.12
            ],
            [
             "Mali",
             0.2
            ],
            [
             "Mauritius",
             3.6
            ],
            [
             "Mozambique",
             0.88
            ],
            [
             "Niger",
             0.38
            ],
            [
             "Réunion",
             2.75
            ],
            [
             "Senegal",
             2.07
            ],
            [
             "Sierra Leone",
             0.51
            ],
            [
             "South Africa",
             4.47
            ],
            [
             "Sudan",
             0.51
            ],
            [
             "Uganda",
             1.18
            ],
            [
             "Zimbabwe",
             2.38
            ]
           ],
           "geo": "geo",
           "hovertemplate": "year=1960<br>iso_alpha=%{location}<br>country=%{customdata[0]}<br>avg_years_total_schooling=%{z}<extra></extra>",
           "locations": [
            "AUS",
            "AUT",
            "BEL",
            "CAN",
            "DNK",
            "FIN",
            "FRA",
            "DEU",
            "GRC",
            "IRL",
            "ITA",
            "JPN",
            "LUX",
            "NLD",
            "NZL",
            "NOR",
            "PRT",
            "ESP",
            "SWE",
            "CHE",
            "TUR",
            "USA",
            "GBR",
            "KHM",
            "CHN",
            "FJI",
            "HKG",
            "IND",
            "IDN",
            "MYS",
            "MMR",
            "PHL",
            "KOR",
            "LKA",
            "TWN",
            "THA",
            "ALB",
            "BGR",
            "HUN",
            "POL",
            "RUS",
            "ARG",
            "BRB",
            "BOL",
            "BRA",
            "CHL",
            "COL",
            "CRI",
            "CUB",
            "DOM",
            "ECU",
            "SLV",
            "GTM",
            "GUY",
            "HND",
            "JAM",
            "MEX",
            "NIC",
            "PAN",
            "PRY",
            "PER",
            "TTO",
            "URY",
            "VEN",
            "DZA",
            "EGY",
            "IRN",
            "IRQ",
            "MLT",
            "MAR",
            "SYR",
            "TUN",
            "BEN",
            "CMR",
            null,
            "GHA",
            "KEN",
            "MWI",
            "MLI",
            "MUS",
            "MOZ",
            "NER",
            "REU",
            "SEN",
            "SLE",
            "ZAF",
            "SDN",
            "UGA",
            "ZWE"
           ],
           "name": "",
           "type": "choropleth",
           "z": [
            8.78,
            5.67,
            7.4,
            8.55,
            5.3,
            4.25,
            4.32,
            7.54,
            7.78,
            6.98,
            5.07,
            7.77,
            5.22,
            6.25,
            10.12,
            7.53,
            2.46,
            4.42,
            7.69,
            9.16,
            1.84,
            9.63,
            7.01,
            1.23,
            2.64,
            4.57,
            5.05,
            1.16,
            1.67,
            2.99,
            1.27,
            3.49,
            4.46,
            4.12,
            3.76,
            2.68,
            3.23,
            5.24,
            7.53,
            6.19,
            4.88,
            5.69,
            5.08,
            3.15,
            2.53,
            5.23,
            3.1,
            3.96,
            4.08,
            2.78,
            3.29,
            1.98,
            1.41,
            4.91,
            1.93,
            3.93,
            2.55,
            2.19,
            4.75,
            3.47,
            3.32,
            5.73,
            5.06,
            2.44,
            0.9,
            0.85,
            0.99,
            0.53,
            4.49,
            0.51,
            1.31,
            0.96,
            0.7,
            1.12,
            0.99,
            1.1,
            1.56,
            1.12,
            0.2,
            3.6,
            0.88,
            0.38,
            2.75,
            2.07,
            0.51,
            4.47,
            0.51,
            1.18,
            2.38
           ]
          }
         ],
         "name": "1960"
        },
        {
         "data": [
          {
           "coloraxis": "coloraxis",
           "customdata": [
            [
             "Australia",
             9.19
            ],
            [
             "Austria",
             6.54
            ],
            [
             "Belgium",
             7.56
            ],
            [
             "Canada",
             8.85
            ],
            [
             "Denmark",
             6.06
            ],
            [
             "Finland",
             4.97
            ],
            [
             "France",
             4.78
            ],
            [
             "Germany",
             7.5
            ],
            [
             "Greece",
             6.68
            ],
            [
             "Ireland",
             7.4
            ],
            [
             "Italy",
             5.43
            ],
            [
             "Japan",
             7.8
            ],
            [
             "Luxembourg",
             6.19
            ],
            [
             "Netherlands",
             7.49
            ],
            [
             "New Zealand",
             10.18
            ],
            [
             "Norway",
             7.96
            ],
            [
             "Portugal",
             2.64
            ],
            [
             "Spain",
             4.7
            ],
            [
             "Sweden",
             8.12
            ],
            [
             "Switzerland",
             9.5
            ],
            [
             "Türkiye",
             2.2
            ],
            [
             "USA",
             10.42
            ],
            [
             "United Kingdom of Great Britain and Northern Ireland",
             7.65
            ],
            [
             "Cambodia",
             1.53
            ],
            [
             "China",
             3.19
            ],
            [
             "Fiji",
             5.24
            ],
            [
             "Hong Kong",
             5.93
            ],
            [
             "India",
             1.33
            ],
            [
             "Indonesia",
             2.28
            ],
            [
             "Malaysia",
             3.54
            ],
            [
             "Myanmar",
             1.44
            ],
            [
             "Philippines",
             4.01
            ],
            [
             "Korea, Republic of",
             5.68
            ],
            [
             "Sri Lanka",
             4.49
            ],
            [
             "Taiwan",
             4.18
            ],
            [
             "Thailand",
             2.39
            ],
            [
             "Albania",
             3.63
            ],
            [
             "Bulgaria",
             4.71
            ],
            [
             "Hungary",
             7.75
            ],
            [
             "Poland",
             6.92
            ],
            [
             "Russian Federation",
             5.62
            ],
            [
             "Argentina",
             6.03
            ],
            [
             "Barbados",
             6.79
            ],
            [
             "Bolivia, Plurinational State of",
             3.7
            ],
            [
             "Brazil",
             2.82
            ],
            [
             "Chile",
             5.71
            ],
            [
             "Colombia",
             3.47
            ],
            [
             "Costa Rica",
             4.22
            ],
            [
             "Cuba",
             4.55
            ],
            [
             "Dominican Republic",
             3.15
            ],
            [
             "Ecuador",
             4
            ],
            [
             "El Salvador",
             2.41
            ],
            [
             "Guatemala",
             1.51
            ],
            [
             "Guyana",
             5.35
            ],
            [
             "Honduras",
             2.13
            ],
            [
             "Jamaica",
             4.48
            ],
            [
             "Mexico",
             3.02
            ],
            [
             "Nicaragua",
             2.61
            ],
            [
             "Panama",
             5.01
            ],
            [
             "Paraguay",
             3.79
            ],
            [
             "Peru",
             3.79
            ],
            [
             "Trinidad and Tobago",
             6.05
            ],
            [
             "Uruguay",
             5.43
            ],
            [
             "Venezuela, Bolivarian Republic of",
             2.75
            ],
            [
             "Algeria",
             1.15
            ],
            [
             "Egypt",
             1.11
            ],
            [
             "Iran, Islamic Republic of",
             1.5
            ],
            [
             "Iraq",
             0.9
            ],
            [
             "Malta",
             5.1
            ],
            [
             "Morocco",
             0.75
            ],
            [
             "Syrian Arab Republic",
             1.63
            ],
            [
             "Tunisia",
             1.37
            ],
            [
             "Benin",
             0.79
            ],
            [
             "Cameroon",
             1.51
            ],
            [
             "Cote dIvoire",
             1.09
            ],
            [
             "Ghana",
             2.03
            ],
            [
             "Kenya",
             1.77
            ],
            [
             "Malawi",
             1.3
            ],
            [
             "Mali",
             0.26
            ],
            [
             "Mauritius",
             4.3
            ],
            [
             "Mozambique",
             1.06
            ],
            [
             "Niger",
             0.4
            ],
            [
             "Réunion",
             2.93
            ],
            [
             "Senegal",
             2.11
            ],
            [
             "Sierra Leone",
             0.68
            ],
            [
             "South Africa",
             4.55
            ],
            [
             "Sudan",
             0.63
            ],
            [
             "Uganda",
             1.29
            ],
            [
             "Zimbabwe",
             2.68
            ]
           ],
           "geo": "geo",
           "hovertemplate": "year=1965<br>iso_alpha=%{location}<br>country=%{customdata[0]}<br>avg_years_total_schooling=%{z}<extra></extra>",
           "locations": [
            "AUS",
            "AUT",
            "BEL",
            "CAN",
            "DNK",
            "FIN",
            "FRA",
            "DEU",
            "GRC",
            "IRL",
            "ITA",
            "JPN",
            "LUX",
            "NLD",
            "NZL",
            "NOR",
            "PRT",
            "ESP",
            "SWE",
            "CHE",
            "TUR",
            "USA",
            "GBR",
            "KHM",
            "CHN",
            "FJI",
            "HKG",
            "IND",
            "IDN",
            "MYS",
            "MMR",
            "PHL",
            "KOR",
            "LKA",
            "TWN",
            "THA",
            "ALB",
            "BGR",
            "HUN",
            "POL",
            "RUS",
            "ARG",
            "BRB",
            "BOL",
            "BRA",
            "CHL",
            "COL",
            "CRI",
            "CUB",
            "DOM",
            "ECU",
            "SLV",
            "GTM",
            "GUY",
            "HND",
            "JAM",
            "MEX",
            "NIC",
            "PAN",
            "PRY",
            "PER",
            "TTO",
            "URY",
            "VEN",
            "DZA",
            "EGY",
            "IRN",
            "IRQ",
            "MLT",
            "MAR",
            "SYR",
            "TUN",
            "BEN",
            "CMR",
            null,
            "GHA",
            "KEN",
            "MWI",
            "MLI",
            "MUS",
            "MOZ",
            "NER",
            "REU",
            "SEN",
            "SLE",
            "ZAF",
            "SDN",
            "UGA",
            "ZWE"
           ],
           "name": "",
           "type": "choropleth",
           "z": [
            9.19,
            6.54,
            7.56,
            8.85,
            6.06,
            4.97,
            4.78,
            7.5,
            6.68,
            7.4,
            5.43,
            7.8,
            6.19,
            7.49,
            10.18,
            7.96,
            2.64,
            4.7,
            8.12,
            9.5,
            2.2,
            10.42,
            7.65,
            1.53,
            3.19,
            5.24,
            5.93,
            1.33,
            2.28,
            3.54,
            1.44,
            4.01,
            5.68,
            4.49,
            4.18,
            2.39,
            3.63,
            4.71,
            7.75,
            6.92,
            5.62,
            6.03,
            6.79,
            3.7,
            2.82,
            5.71,
            3.47,
            4.22,
            4.55,
            3.15,
            4,
            2.41,
            1.51,
            5.35,
            2.13,
            4.48,
            3.02,
            2.61,
            5.01,
            3.79,
            3.79,
            6.05,
            5.43,
            2.75,
            1.15,
            1.11,
            1.5,
            0.9,
            5.1,
            0.75,
            1.63,
            1.37,
            0.79,
            1.51,
            1.09,
            2.03,
            1.77,
            1.3,
            0.26,
            4.3,
            1.06,
            0.4,
            2.93,
            2.11,
            0.68,
            4.55,
            0.63,
            1.29,
            2.68
           ]
          }
         ],
         "name": "1965"
        },
        {
         "data": [
          {
           "coloraxis": "coloraxis",
           "customdata": [
            [
             "Australia",
             10.11
            ],
            [
             "Austria",
             7.26
            ],
            [
             "Belgium",
             7.98
            ],
            [
             "Canada",
             9.47
            ],
            [
             "Denmark",
             7.19
            ],
            [
             "Finland",
             5.99
            ],
            [
             "France",
             5.46
            ],
            [
             "Germany",
             7.1
            ],
            [
             "Greece",
             6.84
            ],
            [
             "Ireland",
             8.05
            ],
            [
             "Italy",
             5.87
            ],
            [
             "Japan",
             8.25
            ],
            [
             "Luxembourg",
             7.27
            ],
            [
             "Netherlands",
             8.48
            ],
            [
             "New Zealand",
             11.17
            ],
            [
             "Norway",
             8.47
            ],
            [
             "Portugal",
             3.17
            ],
            [
             "Spain",
             5.33
            ],
            [
             "Sweden",
             8.65
            ],
            [
             "Switzerland",
             9.9
            ],
            [
             "Türkiye",
             2.58
            ],
            [
             "USA",
             11.1
            ],
            [
             "United Kingdom of Great Britain and Northern Ireland",
             8.06
            ],
            [
             "Cambodia",
             1.91
            ],
            [
             "China",
             3.9
            ],
            [
             "Fiji",
             5.67
            ],
            [
             "Hong Kong",
             6.58
            ],
            [
             "India",
             1.65
            ],
            [
             "Indonesia",
             2.98
            ],
            [
             "Malaysia",
             4.41
            ],
            [
             "Myanmar",
             1.52
            ],
            [
             "Philippines",
             4.83
            ],
            [
             "Korea, Republic of",
             6.59
            ],
            [
             "Sri Lanka",
             6.63
            ],
            [
             "Taiwan",
             5.1
            ],
            [
             "Thailand",
             2.74
            ],
            [
             "Albania",
             4.63
            ],
            [
             "Bulgaria",
             6.54
            ],
            [
             "Hungary",
             8.27
            ],
            [
             "Poland",
             7.63
            ],
            [
             "Russian Federation",
             6.39
            ],
            [
             "Argentina",
             6.48
            ],
            [
             "Barbados",
             8.59
            ],
            [
             "Bolivia, Plurinational State of",
             4.14
            ],
            [
             "Brazil",
             3.28
            ],
            [
             "Chile",
             6.18
            ],
            [
             "Colombia",
             3.98
            ],
            [
             "Costa Rica",
             4.03
            ],
            [
             "Cuba",
             5.41
            ],
            [
             "Dominican Republic",
             3.74
            ],
            [
             "Ecuador",
             4.55
            ],
            [
             "El Salvador",
             2.9
            ],
            [
             "Guatemala",
             1.78
            ],
            [
             "Guyana",
             5.76
            ],
            [
             "Honduras",
             2.38
            ],
            [
             "Jamaica",
             4.96
            ],
            [
             "Mexico",
             3.48
            ],
            [
             "Nicaragua",
             3.07
            ],
            [
             "Panama",
             5.39
            ],
            [
             "Paraguay",
             4.32
            ],
            [
             "Peru",
             4.47
            ],
            [
             "Trinidad and Tobago",
             6.51
            ],
            [
             "Uruguay",
             5.94
            ],
            [
             "Venezuela, Bolivarian Republic of",
             3.49
            ],
            [
             "Algeria",
             1.69
            ],
            [
             "Egypt",
             1.41
            ],
            [
             "Iran, Islamic Republic of",
             2.17
            ],
            [
             "Iraq",
             1.53
            ],
            [
             "Malta",
             6.06
            ],
            [
             "Morocco",
             1.05
            ],
            [
             "Syrian Arab Republic",
             2.2
            ],
            [
             "Tunisia",
             1.9
            ],
            [
             "Benin",
             0.87
            ],
            [
             "Cameroon",
             1.92
            ],
            [
             "Cote dIvoire",
             1.33
            ],
            [
             "Ghana",
             3.35
            ],
            [
             "Kenya",
             2.28
            ],
            [
             "Malawi",
             1.63
            ],
            [
             "Mali",
             0.31
            ],
            [
             "Mauritius",
             4.98
            ],
            [
             "Mozambique",
             1.06
            ],
            [
             "Niger",
             0.45
            ],
            [
             "Réunion",
             3.64
            ],
            [
             "Senegal",
             2.3
            ],
            [
             "Sierra Leone",
             0.87
            ],
            [
             "South Africa",
             4.7
            ],
            [
             "Sudan",
             0.78
            ],
            [
             "Uganda",
             1.58
            ],
            [
             "Zimbabwe",
             3.22
            ]
           ],
           "geo": "geo",
           "hovertemplate": "year=1970<br>iso_alpha=%{location}<br>country=%{customdata[0]}<br>avg_years_total_schooling=%{z}<extra></extra>",
           "locations": [
            "AUS",
            "AUT",
            "BEL",
            "CAN",
            "DNK",
            "FIN",
            "FRA",
            "DEU",
            "GRC",
            "IRL",
            "ITA",
            "JPN",
            "LUX",
            "NLD",
            "NZL",
            "NOR",
            "PRT",
            "ESP",
            "SWE",
            "CHE",
            "TUR",
            "USA",
            "GBR",
            "KHM",
            "CHN",
            "FJI",
            "HKG",
            "IND",
            "IDN",
            "MYS",
            "MMR",
            "PHL",
            "KOR",
            "LKA",
            "TWN",
            "THA",
            "ALB",
            "BGR",
            "HUN",
            "POL",
            "RUS",
            "ARG",
            "BRB",
            "BOL",
            "BRA",
            "CHL",
            "COL",
            "CRI",
            "CUB",
            "DOM",
            "ECU",
            "SLV",
            "GTM",
            "GUY",
            "HND",
            "JAM",
            "MEX",
            "NIC",
            "PAN",
            "PRY",
            "PER",
            "TTO",
            "URY",
            "VEN",
            "DZA",
            "EGY",
            "IRN",
            "IRQ",
            "MLT",
            "MAR",
            "SYR",
            "TUN",
            "BEN",
            "CMR",
            null,
            "GHA",
            "KEN",
            "MWI",
            "MLI",
            "MUS",
            "MOZ",
            "NER",
            "REU",
            "SEN",
            "SLE",
            "ZAF",
            "SDN",
            "UGA",
            "ZWE"
           ],
           "name": "",
           "type": "choropleth",
           "z": [
            10.11,
            7.26,
            7.98,
            9.47,
            7.19,
            5.99,
            5.46,
            7.1,
            6.84,
            8.05,
            5.87,
            8.25,
            7.27,
            8.48,
            11.17,
            8.47,
            3.17,
            5.33,
            8.65,
            9.9,
            2.58,
            11.1,
            8.06,
            1.91,
            3.9,
            5.67,
            6.58,
            1.65,
            2.98,
            4.41,
            1.52,
            4.83,
            6.59,
            6.63,
            5.1,
            2.74,
            4.63,
            6.54,
            8.27,
            7.63,
            6.39,
            6.48,
            8.59,
            4.14,
            3.28,
            6.18,
            3.98,
            4.03,
            5.41,
            3.74,
            4.55,
            2.9,
            1.78,
            5.76,
            2.38,
            4.96,
            3.48,
            3.07,
            5.39,
            4.32,
            4.47,
            6.51,
            5.94,
            3.49,
            1.69,
            1.41,
            2.17,
            1.53,
            6.06,
            1.05,
            2.2,
            1.9,
            0.87,
            1.92,
            1.33,
            3.35,
            2.28,
            1.63,
            0.31,
            4.98,
            1.06,
            0.45,
            3.64,
            2.3,
            0.87,
            4.7,
            0.78,
            1.58,
            3.22
           ]
          }
         ],
         "name": "1970"
        },
        {
         "data": [
          {
           "coloraxis": "coloraxis",
           "customdata": [
            [
             "Australia",
             10.8
            ],
            [
             "Austria",
             7.44
            ],
            [
             "Belgium",
             8.39
            ],
            [
             "Canada",
             10.02
            ],
            [
             "Denmark",
             8.01
            ],
            [
             "Finland",
             7.11
            ],
            [
             "France",
             6.05
            ],
            [
             "Germany",
             7.17
            ],
            [
             "Greece",
             7.15
            ],
            [
             "Ireland",
             8.79
            ],
            [
             "Italy",
             6.45
            ],
            [
             "Japan",
             8.85
            ],
            [
             "Luxembourg",
             8.21
            ],
            [
             "Netherlands",
             9.28
            ],
            [
             "New Zealand",
             12.03
            ],
            [
             "Norway",
             8.77
            ],
            [
             "Portugal",
             4.27
            ],
            [
             "Spain",
             6.19
            ],
            [
             "Sweden",
             9.62
            ],
            [
             "Switzerland",
             10.55
            ],
            [
             "Türkiye",
             3.09
            ],
            [
             "USA",
             11.73
            ],
            [
             "United Kingdom of Great Britain and Northern Ireland",
             8.39
            ],
            [
             "Cambodia",
             2.31
            ],
            [
             "China",
             4.44
            ],
            [
             "Fiji",
             6.4
            ],
            [
             "Hong Kong",
             7.26
            ],
            [
             "India",
             2.09
            ],
            [
             "Indonesia",
             3.37
            ],
            [
             "Malaysia",
             5.06
            ],
            [
             "Myanmar",
             1.69
            ],
            [
             "Philippines",
             5.56
            ],
            [
             "Korea, Republic of",
             7.54
            ],
            [
             "Sri Lanka",
             6.97
            ],
            [
             "Taiwan",
             6.07
            ],
            [
             "Thailand",
             3.24
            ],
            [
             "Albania",
             5.77
            ],
            [
             "Bulgaria",
             7.41
            ],
            [
             "Hungary",
             8.85
            ],
            [
             "Poland",
             8.19
            ],
            [
             "Russian Federation",
             7.29
            ],
            [
             "Argentina",
             7.03
            ],
            [
             "Barbados",
             7.95
            ],
            [
             "Bolivia, Plurinational State of",
             4.8
            ],
            [
             "Brazil",
             2.87
            ],
            [
             "Chile",
             6.7
            ],
            [
             "Colombia",
             4.43
            ],
            [
             "Costa Rica",
             5.3
            ],
            [
             "Cuba",
             6.48
            ],
            [
             "Dominican Republic",
             4.3
            ],
            [
             "Ecuador",
             5.07
            ],
            [
             "El Salvador",
             3.37
            ],
            [
             "Guatemala",
             2.11
            ],
            [
             "Guyana",
             6.16
            ],
            [
             "Honduras",
             2.73
            ],
            [
             "Jamaica",
             5.54
            ],
            [
             "Mexico",
             4.19
            ],
            [
             "Nicaragua",
             3.38
            ],
            [
             "Panama",
             6.1
            ],
            [
             "Paraguay",
             4.85
            ],
            [
             "Peru",
             5.43
            ],
            [
             "Trinidad and Tobago",
             7.03
            ],
            [
             "Uruguay",
             6.45
            ],
            [
             "Venezuela, Bolivarian Republic of",
             4.51
            ],
            [
             "Algeria",
             2.26
            ],
            [
             "Egypt",
             1.82
            ],
            [
             "Iran, Islamic Republic of",
             2.87
            ],
            [
             "Iraq",
             2.11
            ],
            [
             "Malta",
             6.84
            ],
            [
             "Morocco",
             1.43
            ],
            [
             "Syrian Arab Republic",
             2.89
            ],
            [
             "Tunisia",
             2.63
            ],
            [
             "Benin",
             0.96
            ],
            [
             "Cameroon",
             2.58
            ],
            [
             "Cote dIvoire",
             1.76
            ],
            [
             "Ghana",
             4.23
            ],
            [
             "Kenya",
             2.82
            ],
            [
             "Malawi",
             1.96
            ],
            [
             "Mali",
             0.46
            ],
            [
             "Mauritius",
             5.18
            ],
            [
             "Mozambique",
             1
            ],
            [
             "Niger",
             0.53
            ],
            [
             "Réunion",
             4.5
            ],
            [
             "Senegal",
             2.49
            ],
            [
             "Sierra Leone",
             1.14
            ],
            [
             "South Africa",
             4.9
            ],
            [
             "Sudan",
             1.03
            ],
            [
             "Uganda",
             2
            ],
            [
             "Zimbabwe",
             3.54
            ]
           ],
           "geo": "geo",
           "hovertemplate": "year=1975<br>iso_alpha=%{location}<br>country=%{customdata[0]}<br>avg_years_total_schooling=%{z}<extra></extra>",
           "locations": [
            "AUS",
            "AUT",
            "BEL",
            "CAN",
            "DNK",
            "FIN",
            "FRA",
            "DEU",
            "GRC",
            "IRL",
            "ITA",
            "JPN",
            "LUX",
            "NLD",
            "NZL",
            "NOR",
            "PRT",
            "ESP",
            "SWE",
            "CHE",
            "TUR",
            "USA",
            "GBR",
            "KHM",
            "CHN",
            "FJI",
            "HKG",
            "IND",
            "IDN",
            "MYS",
            "MMR",
            "PHL",
            "KOR",
            "LKA",
            "TWN",
            "THA",
            "ALB",
            "BGR",
            "HUN",
            "POL",
            "RUS",
            "ARG",
            "BRB",
            "BOL",
            "BRA",
            "CHL",
            "COL",
            "CRI",
            "CUB",
            "DOM",
            "ECU",
            "SLV",
            "GTM",
            "GUY",
            "HND",
            "JAM",
            "MEX",
            "NIC",
            "PAN",
            "PRY",
            "PER",
            "TTO",
            "URY",
            "VEN",
            "DZA",
            "EGY",
            "IRN",
            "IRQ",
            "MLT",
            "MAR",
            "SYR",
            "TUN",
            "BEN",
            "CMR",
            null,
            "GHA",
            "KEN",
            "MWI",
            "MLI",
            "MUS",
            "MOZ",
            "NER",
            "REU",
            "SEN",
            "SLE",
            "ZAF",
            "SDN",
            "UGA",
            "ZWE"
           ],
           "name": "",
           "type": "choropleth",
           "z": [
            10.8,
            7.44,
            8.39,
            10.02,
            8.01,
            7.11,
            6.05,
            7.17,
            7.15,
            8.79,
            6.45,
            8.85,
            8.21,
            9.28,
            12.03,
            8.77,
            4.27,
            6.19,
            9.62,
            10.55,
            3.09,
            11.73,
            8.39,
            2.31,
            4.44,
            6.4,
            7.26,
            2.09,
            3.37,
            5.06,
            1.69,
            5.56,
            7.54,
            6.97,
            6.07,
            3.24,
            5.77,
            7.41,
            8.85,
            8.19,
            7.29,
            7.03,
            7.95,
            4.8,
            2.87,
            6.7,
            4.43,
            5.3,
            6.48,
            4.3,
            5.07,
            3.37,
            2.11,
            6.16,
            2.73,
            5.54,
            4.19,
            3.38,
            6.1,
            4.85,
            5.43,
            7.03,
            6.45,
            4.51,
            2.26,
            1.82,
            2.87,
            2.11,
            6.84,
            1.43,
            2.89,
            2.63,
            0.96,
            2.58,
            1.76,
            4.23,
            2.82,
            1.96,
            0.46,
            5.18,
            1,
            0.53,
            4.5,
            2.49,
            1.14,
            4.9,
            1.03,
            2,
            3.54
           ]
          }
         ],
         "name": "1975"
        },
        {
         "data": [
          {
           "coloraxis": "coloraxis",
           "customdata": [
            [
             "Australia",
             11.4
            ],
            [
             "Austria",
             7.6
            ],
            [
             "Belgium",
             8.93
            ],
            [
             "Canada",
             10.49
            ],
            [
             "Denmark",
             8.85
            ],
            [
             "Finland",
             8.04
            ],
            [
             "France",
             6.37
            ],
            [
             "Germany",
             7.36
            ],
            [
             "Greece",
             7.58
            ],
            [
             "Ireland",
             9.69
            ],
            [
             "Italy",
             7.09
            ],
            [
             "Japan",
             9.6
            ],
            [
             "Luxembourg",
             8.55
            ],
            [
             "Netherlands",
             9.87
            ],
            [
             "New Zealand",
             11.81
            ],
            [
             "Norway",
             9.32
            ],
            [
             "Portugal",
             5.45
            ],
            [
             "Spain",
             7.24
            ],
            [
             "Sweden",
             10.3
            ],
            [
             "Switzerland",
             11.32
            ],
            [
             "Türkiye",
             3.77
            ],
            [
             "USA",
             12.28
            ],
            [
             "United Kingdom of Great Britain and Northern Ireland",
             8.52
            ],
            [
             "Cambodia",
             2.66
            ],
            [
             "China",
             5.25
            ],
            [
             "Fiji",
             7.16
            ],
            [
             "Hong Kong",
             8.42
            ],
            [
             "India",
             2.46
            ],
            [
             "Indonesia",
             3.85
            ],
            [
             "Malaysia",
             6.06
            ],
            [
             "Myanmar",
             2.34
            ],
            [
             "Philippines",
             6.26
            ],
            [
             "Korea, Republic of",
             8.61
            ],
            [
             "Sri Lanka",
             7.22
            ],
            [
             "Taiwan",
             7.1
            ],
            [
             "Thailand",
             3.9
            ],
            [
             "Albania",
             6.95
            ],
            [
             "Bulgaria",
             8.15
            ],
            [
             "Hungary",
             9.39
            ],
            [
             "Poland",
             8.31
            ],
            [
             "Russian Federation",
             8.36
            ],
            [
             "Argentina",
             7.51
            ],
            [
             "Barbados",
             7.72
            ],
            [
             "Bolivia, Plurinational State of",
             5.76
            ],
            [
             "Brazil",
             3.05
            ],
            [
             "Chile",
             7.13
            ],
            [
             "Colombia",
             4.99
            ],
            [
             "Costa Rica",
             6.26
            ],
            [
             "Cuba",
             7.82
            ],
            [
             "Dominican Republic",
             4.98
            ],
            [
             "Ecuador",
             6.35
            ],
            [
             "El Salvador",
             3.74
            ],
            [
             "Guatemala",
             2.94
            ],
            [
             "Guyana",
             6.65
            ],
            [
             "Honduras",
             3.74
            ],
            [
             "Jamaica",
             6.27
            ],
            [
             "Mexico",
             5.01
            ],
            [
             "Nicaragua",
             3.84
            ],
            [
             "Panama",
             6.89
            ],
            [
             "Paraguay",
             5.37
            ],
            [
             "Peru",
             6.2
            ],
            [
             "Trinidad and Tobago",
             7.57
            ],
            [
             "Uruguay",
             6.94
            ],
            [
             "Venezuela, Bolivarian Republic of",
             5.47
            ],
            [
             "Algeria",
             3
            ],
            [
             "Egypt",
             2.8
            ],
            [
             "Iran, Islamic Republic of",
             3.84
            ],
            [
             "Iraq",
             2.92
            ],
            [
             "Malta",
             7.51
            ],
            [
             "Morocco",
             1.88
            ],
            [
             "Syrian Arab Republic",
             3.55
            ],
            [
             "Tunisia",
             3.47
            ],
            [
             "Benin",
             1.26
            ],
            [
             "Cameroon",
             3.25
            ],
            [
             "Cote dIvoire",
             2.13
            ],
            [
             "Ghana",
             4.93
            ],
            [
             "Kenya",
             3.61
            ],
            [
             "Malawi",
             2.5
            ],
            [
             "Mali",
             0.65
            ],
            [
             "Mauritius",
             5.52
            ],
            [
             "Mozambique",
             1.19
            ],
            [
             "Niger",
             0.67
            ],
            [
             "Réunion",
             5.26
            ],
            [
             "Senegal",
             2.52
            ],
            [
             "Sierra Leone",
             1.44
            ],
            [
             "South Africa",
             5.18
            ],
            [
             "Sudan",
             1.42
            ],
            [
             "Uganda",
             2.4
            ],
            [
             "Zimbabwe",
             4.03
            ]
           ],
           "geo": "geo",
           "hovertemplate": "year=1980<br>iso_alpha=%{location}<br>country=%{customdata[0]}<br>avg_years_total_schooling=%{z}<extra></extra>",
           "locations": [
            "AUS",
            "AUT",
            "BEL",
            "CAN",
            "DNK",
            "FIN",
            "FRA",
            "DEU",
            "GRC",
            "IRL",
            "ITA",
            "JPN",
            "LUX",
            "NLD",
            "NZL",
            "NOR",
            "PRT",
            "ESP",
            "SWE",
            "CHE",
            "TUR",
            "USA",
            "GBR",
            "KHM",
            "CHN",
            "FJI",
            "HKG",
            "IND",
            "IDN",
            "MYS",
            "MMR",
            "PHL",
            "KOR",
            "LKA",
            "TWN",
            "THA",
            "ALB",
            "BGR",
            "HUN",
            "POL",
            "RUS",
            "ARG",
            "BRB",
            "BOL",
            "BRA",
            "CHL",
            "COL",
            "CRI",
            "CUB",
            "DOM",
            "ECU",
            "SLV",
            "GTM",
            "GUY",
            "HND",
            "JAM",
            "MEX",
            "NIC",
            "PAN",
            "PRY",
            "PER",
            "TTO",
            "URY",
            "VEN",
            "DZA",
            "EGY",
            "IRN",
            "IRQ",
            "MLT",
            "MAR",
            "SYR",
            "TUN",
            "BEN",
            "CMR",
            null,
            "GHA",
            "KEN",
            "MWI",
            "MLI",
            "MUS",
            "MOZ",
            "NER",
            "REU",
            "SEN",
            "SLE",
            "ZAF",
            "SDN",
            "UGA",
            "ZWE"
           ],
           "name": "",
           "type": "choropleth",
           "z": [
            11.4,
            7.6,
            8.93,
            10.49,
            8.85,
            8.04,
            6.37,
            7.36,
            7.58,
            9.69,
            7.09,
            9.6,
            8.55,
            9.87,
            11.81,
            9.32,
            5.45,
            7.24,
            10.3,
            11.32,
            3.77,
            12.28,
            8.52,
            2.66,
            5.25,
            7.16,
            8.42,
            2.46,
            3.85,
            6.06,
            2.34,
            6.26,
            8.61,
            7.22,
            7.1,
            3.9,
            6.95,
            8.15,
            9.39,
            8.31,
            8.36,
            7.51,
            7.72,
            5.76,
            3.05,
            7.13,
            4.99,
            6.26,
            7.82,
            4.98,
            6.35,
            3.74,
            2.94,
            6.65,
            3.74,
            6.27,
            5.01,
            3.84,
            6.89,
            5.37,
            6.2,
            7.57,
            6.94,
            5.47,
            3,
            2.8,
            3.84,
            2.92,
            7.51,
            1.88,
            3.55,
            3.47,
            1.26,
            3.25,
            2.13,
            4.93,
            3.61,
            2.5,
            0.65,
            5.52,
            1.19,
            0.67,
            5.26,
            2.52,
            1.44,
            5.18,
            1.42,
            2.4,
            4.03
           ]
          }
         ],
         "name": "1980"
        },
        {
         "data": [
          {
           "coloraxis": "coloraxis",
           "customdata": [
            [
             "Australia",
             11.43
            ],
            [
             "Austria",
             7.84
            ],
            [
             "Belgium",
             9.41
            ],
            [
             "Canada",
             10.29
            ],
            [
             "Denmark",
             9.59
            ],
            [
             "Finland",
             8.01
            ],
            [
             "France",
             7.37
            ],
            [
             "Germany",
             7.73
            ],
            [
             "Greece",
             8.37
            ],
            [
             "Ireland",
             10.37
            ],
            [
             "Italy",
             7.63
            ],
            [
             "Japan",
             10.12
            ],
            [
             "Luxembourg",
             8.83
            ],
            [
             "Netherlands",
             10.22
            ],
            [
             "New Zealand",
             11.81
            ],
            [
             "Norway",
             10.16
            ],
            [
             "Portugal",
             6.08
            ],
            [
             "Spain",
             7.24
            ],
            [
             "Sweden",
             10.65
            ],
            [
             "Switzerland",
             10.67
            ],
            [
             "Türkiye",
             4.82
            ],
            [
             "USA",
             12.35
            ],
            [
             "United Kingdom of Great Britain and Northern Ireland",
             8.76
            ],
            [
             "Cambodia",
             2.89
            ],
            [
             "China",
             5.75
            ],
            [
             "Fiji",
             7.85
            ],
            [
             "Hong Kong",
             9.24
            ],
            [
             "India",
             3.03
            ],
            [
             "Indonesia",
             4.05
            ],
            [
             "Malaysia",
             7.03
            ],
            [
             "Myanmar",
             2.87
            ],
            [
             "Philippines",
             6.64
            ],
            [
             "Korea, Republic of",
             9.52
            ],
            [
             "Sri Lanka",
             7.89
            ],
            [
             "Taiwan",
             7.89
            ],
            [
             "Thailand",
             4.45
            ],
            [
             "Albania",
             7.93
            ],
            [
             "Bulgaria",
             8.76
            ],
            [
             "Hungary",
             9.31
            ],
            [
             "Poland",
             8.69
            ],
            [
             "Russian Federation",
             9.37
            ],
            [
             "Argentina",
             8.09
            ],
            [
             "Barbados",
             8.42
            ],
            [
             "Bolivia, Plurinational State of",
             6.7
            ],
            [
             "Brazil",
             4.12
            ],
            [
             "Chile",
             7.85
            ],
            [
             "Colombia",
             5.63
            ],
            [
             "Costa Rica",
             6.88
            ],
            [
             "Cuba",
             8.64
            ],
            [
             "Dominican Republic",
             5.58
            ],
            [
             "Ecuador",
             6.76
            ],
            [
             "El Salvador",
             4.57
            ],
            [
             "Guatemala",
             3.27
            ],
            [
             "Guyana",
             7.04
            ],
            [
             "Honduras",
             4.65
            ],
            [
             "Jamaica",
             6.86
            ],
            [
             "Mexico",
             5.9
            ],
            [
             "Nicaragua",
             4.21
            ],
            [
             "Panama",
             7.59
            ],
            [
             "Paraguay",
             5.96
            ],
            [
             "Peru",
             6.75
            ],
            [
             "Trinidad and Tobago",
             8.13
            ],
            [
             "Uruguay",
             7.4
            ],
            [
             "Venezuela, Bolivarian Republic of",
             5.33
            ],
            [
             "Algeria",
             4.28
            ],
            [
             "Egypt",
             3.92
            ],
            [
             "Iran, Islamic Republic of",
             4.66
            ],
            [
             "Iraq",
             3.98
            ],
            [
             "Malta",
             8.38
            ],
            [
             "Morocco",
             2.45
            ],
            [
             "Syrian Arab Republic",
             4.26
            ],
            [
             "Tunisia",
             3.93
            ],
            [
             "Benin",
             1.77
            ],
            [
             "Cameroon",
             3.94
            ],
            [
             "Cote dIvoire",
             2.46
            ],
            [
             "Ghana",
             5.63
            ],
            [
             "Kenya",
             4.33
            ],
            [
             "Malawi",
             2.96
            ],
            [
             "Mali",
             0.83
            ],
            [
             "Mauritius",
             6.09
            ],
            [
             "Mozambique",
             1.25
            ],
            [
             "Niger",
             0.85
            ],
            [
             "Réunion",
             5.9
            ],
            [
             "Senegal",
             2.45
            ],
            [
             "Sierra Leone",
             1.81
            ],
            [
             "South Africa",
             5.21
            ],
            [
             "Sudan",
             1.93
            ],
            [
             "Uganda",
             3.02
            ],
            [
             "Zimbabwe",
             4.84
            ]
           ],
           "geo": "geo",
           "hovertemplate": "year=1985<br>iso_alpha=%{location}<br>country=%{customdata[0]}<br>avg_years_total_schooling=%{z}<extra></extra>",
           "locations": [
            "AUS",
            "AUT",
            "BEL",
            "CAN",
            "DNK",
            "FIN",
            "FRA",
            "DEU",
            "GRC",
            "IRL",
            "ITA",
            "JPN",
            "LUX",
            "NLD",
            "NZL",
            "NOR",
            "PRT",
            "ESP",
            "SWE",
            "CHE",
            "TUR",
            "USA",
            "GBR",
            "KHM",
            "CHN",
            "FJI",
            "HKG",
            "IND",
            "IDN",
            "MYS",
            "MMR",
            "PHL",
            "KOR",
            "LKA",
            "TWN",
            "THA",
            "ALB",
            "BGR",
            "HUN",
            "POL",
            "RUS",
            "ARG",
            "BRB",
            "BOL",
            "BRA",
            "CHL",
            "COL",
            "CRI",
            "CUB",
            "DOM",
            "ECU",
            "SLV",
            "GTM",
            "GUY",
            "HND",
            "JAM",
            "MEX",
            "NIC",
            "PAN",
            "PRY",
            "PER",
            "TTO",
            "URY",
            "VEN",
            "DZA",
            "EGY",
            "IRN",
            "IRQ",
            "MLT",
            "MAR",
            "SYR",
            "TUN",
            "BEN",
            "CMR",
            null,
            "GHA",
            "KEN",
            "MWI",
            "MLI",
            "MUS",
            "MOZ",
            "NER",
            "REU",
            "SEN",
            "SLE",
            "ZAF",
            "SDN",
            "UGA",
            "ZWE"
           ],
           "name": "",
           "type": "choropleth",
           "z": [
            11.43,
            7.84,
            9.41,
            10.29,
            9.59,
            8.01,
            7.37,
            7.73,
            8.37,
            10.37,
            7.63,
            10.12,
            8.83,
            10.22,
            11.81,
            10.16,
            6.08,
            7.24,
            10.65,
            10.67,
            4.82,
            12.35,
            8.76,
            2.89,
            5.75,
            7.85,
            9.24,
            3.03,
            4.05,
            7.03,
            2.87,
            6.64,
            9.52,
            7.89,
            7.89,
            4.45,
            7.93,
            8.76,
            9.31,
            8.69,
            9.37,
            8.09,
            8.42,
            6.7,
            4.12,
            7.85,
            5.63,
            6.88,
            8.64,
            5.58,
            6.76,
            4.57,
            3.27,
            7.04,
            4.65,
            6.86,
            5.9,
            4.21,
            7.59,
            5.96,
            6.75,
            8.13,
            7.4,
            5.33,
            4.28,
            3.92,
            4.66,
            3.98,
            8.38,
            2.45,
            4.26,
            3.93,
            1.77,
            3.94,
            2.46,
            5.63,
            4.33,
            2.96,
            0.83,
            6.09,
            1.25,
            0.85,
            5.9,
            2.45,
            1.81,
            5.21,
            1.93,
            3.02,
            4.84
           ]
          }
         ],
         "name": "1985"
        },
        {
         "data": [
          {
           "coloraxis": "coloraxis",
           "customdata": [
            [
             "Australia",
             11.44
            ],
            [
             "Austria",
             8.26
            ],
            [
             "Belgium",
             10
            ],
            [
             "Canada",
             10.71
            ],
            [
             "Denmark",
             10.48
            ],
            [
             "Finland",
             8.56
            ],
            [
             "France",
             8.32
            ],
            [
             "Germany",
             8.96
            ],
            [
             "Greece",
             9.34
            ],
            [
             "Ireland",
             10.64
            ],
            [
             "Italy",
             8.32
            ],
            [
             "Japan",
             10.71
            ],
            [
             "Luxembourg",
             9.24
            ],
            [
             "Netherlands",
             10.59
            ],
            [
             "New Zealand",
             11.69
            ],
            [
             "Norway",
             10.79
            ],
            [
             "Portugal",
             6.73
            ],
            [
             "Spain",
             7.51
            ],
            [
             "Sweden",
             11.03
            ],
            [
             "Switzerland",
             10.54
            ],
            [
             "Türkiye",
             5.22
            ],
            [
             "USA",
             12.55
            ],
            [
             "United Kingdom of Great Britain and Northern Ireland",
             9.28
            ],
            [
             "Cambodia",
             3.2
            ],
            [
             "China",
             6.05
            ],
            [
             "Fiji",
             9.24
            ],
            [
             "Hong Kong",
             10.08
            ],
            [
             "India",
             3.56
            ],
            [
             "Indonesia",
             4.44
            ],
            [
             "Malaysia",
             8.01
            ],
            [
             "Myanmar",
             2.99
            ],
            [
             "Philippines",
             7.15
            ],
            [
             "Korea, Republic of",
             10.46
            ],
            [
             "Sri Lanka",
             8.9
            ],
            [
             "Taiwan",
             8.68
            ],
            [
             "Thailand",
             5.21
            ],
            [
             "Albania",
             8.61
            ],
            [
             "Bulgaria",
             8.68
            ],
            [
             "Hungary",
             9.48
            ],
            [
             "Poland",
             9.75
            ],
            [
             "Russian Federation",
             10.21
            ],
            [
             "Argentina",
             8.67
            ],
            [
             "Barbados",
             8.79
            ],
            [
             "Bolivia, Plurinational State of",
             7.63
            ],
            [
             "Brazil",
             4.94
            ],
            [
             "Chile",
             8.58
            ],
            [
             "Colombia",
             6.16
            ],
            [
             "Costa Rica",
             7.28
            ],
            [
             "Cuba",
             9.21
            ],
            [
             "Dominican Republic",
             6.13
            ],
            [
             "Ecuador",
             7.23
            ],
            [
             "El Salvador",
             5.08
            ],
            [
             "Guatemala",
             3.66
            ],
            [
             "Guyana",
             7.27
            ],
            [
             "Honduras",
             5.07
            ],
            [
             "Jamaica",
             7.48
            ],
            [
             "Mexico",
             6.68
            ],
            [
             "Nicaragua",
             4.64
            ],
            [
             "Panama",
             8.08
            ],
            [
             "Paraguay",
             6.43
            ],
            [
             "Peru",
             7.39
            ],
            [
             "Trinidad and Tobago",
             8.71
            ],
            [
             "Uruguay",
             7.71
            ],
            [
             "Venezuela, Bolivarian Republic of",
             5.26
            ],
            [
             "Algeria",
             5.05
            ],
            [
             "Egypt",
             4.6
            ],
            [
             "Iran, Islamic Republic of",
             5.49
            ],
            [
             "Iraq",
             4.9
            ],
            [
             "Malta",
             9.19
            ],
            [
             "Morocco",
             3.05
            ],
            [
             "Syrian Arab Republic",
             4.68
            ],
            [
             "Tunisia",
             4.68
            ],
            [
             "Benin",
             2.24
            ],
            [
             "Cameroon",
             4.65
            ],
            [
             "Cote dIvoire",
             2.79
            ],
            [
             "Ghana",
             6.05
            ],
            [
             "Kenya",
             5.05
            ],
            [
             "Malawi",
             3.14
            ],
            [
             "Mali",
             0.95
            ],
            [
             "Mauritius",
             6.85
            ],
            [
             "Mozambique",
             1.06
            ],
            [
             "Niger",
             1.08
            ],
            [
             "Réunion",
             6.46
            ],
            [
             "Senegal",
             2.37
            ],
            [
             "Sierra Leone",
             2.17
            ],
            [
             "South Africa",
             6.89
            ],
            [
             "Sudan",
             2.4
            ],
            [
             "Uganda",
             3.71
            ],
            [
             "Zimbabwe",
             5.97
            ]
           ],
           "geo": "geo",
           "hovertemplate": "year=1990<br>iso_alpha=%{location}<br>country=%{customdata[0]}<br>avg_years_total_schooling=%{z}<extra></extra>",
           "locations": [
            "AUS",
            "AUT",
            "BEL",
            "CAN",
            "DNK",
            "FIN",
            "FRA",
            "DEU",
            "GRC",
            "IRL",
            "ITA",
            "JPN",
            "LUX",
            "NLD",
            "NZL",
            "NOR",
            "PRT",
            "ESP",
            "SWE",
            "CHE",
            "TUR",
            "USA",
            "GBR",
            "KHM",
            "CHN",
            "FJI",
            "HKG",
            "IND",
            "IDN",
            "MYS",
            "MMR",
            "PHL",
            "KOR",
            "LKA",
            "TWN",
            "THA",
            "ALB",
            "BGR",
            "HUN",
            "POL",
            "RUS",
            "ARG",
            "BRB",
            "BOL",
            "BRA",
            "CHL",
            "COL",
            "CRI",
            "CUB",
            "DOM",
            "ECU",
            "SLV",
            "GTM",
            "GUY",
            "HND",
            "JAM",
            "MEX",
            "NIC",
            "PAN",
            "PRY",
            "PER",
            "TTO",
            "URY",
            "VEN",
            "DZA",
            "EGY",
            "IRN",
            "IRQ",
            "MLT",
            "MAR",
            "SYR",
            "TUN",
            "BEN",
            "CMR",
            null,
            "GHA",
            "KEN",
            "MWI",
            "MLI",
            "MUS",
            "MOZ",
            "NER",
            "REU",
            "SEN",
            "SLE",
            "ZAF",
            "SDN",
            "UGA",
            "ZWE"
           ],
           "name": "",
           "type": "choropleth",
           "z": [
            11.44,
            8.26,
            10,
            10.71,
            10.48,
            8.56,
            8.32,
            8.96,
            9.34,
            10.64,
            8.32,
            10.71,
            9.24,
            10.59,
            11.69,
            10.79,
            6.73,
            7.51,
            11.03,
            10.54,
            5.22,
            12.55,
            9.28,
            3.2,
            6.05,
            9.24,
            10.08,
            3.56,
            4.44,
            8.01,
            2.99,
            7.15,
            10.46,
            8.9,
            8.68,
            5.21,
            8.61,
            8.68,
            9.48,
            9.75,
            10.21,
            8.67,
            8.79,
            7.63,
            4.94,
            8.58,
            6.16,
            7.28,
            9.21,
            6.13,
            7.23,
            5.08,
            3.66,
            7.27,
            5.07,
            7.48,
            6.68,
            4.64,
            8.08,
            6.43,
            7.39,
            8.71,
            7.71,
            5.26,
            5.05,
            4.6,
            5.49,
            4.9,
            9.19,
            3.05,
            4.68,
            4.68,
            2.24,
            4.65,
            2.79,
            6.05,
            5.05,
            3.14,
            0.95,
            6.85,
            1.06,
            1.08,
            6.46,
            2.37,
            2.17,
            6.89,
            2.4,
            3.71,
            5.97
           ]
          }
         ],
         "name": "1990"
        },
        {
         "data": [
          {
           "coloraxis": "coloraxis",
           "customdata": [
            [
             "Australia",
             11.51
            ],
            [
             "Austria",
             8.93
            ],
            [
             "Belgium",
             10.64
            ],
            [
             "Canada",
             11.11
            ],
            [
             "Denmark",
             11.04
            ],
            [
             "Finland",
             9.31
            ],
            [
             "France",
             9.36
            ],
            [
             "Germany",
             9.93
            ],
            [
             "Greece",
             9.54
            ],
            [
             "Ireland",
             10.8
            ],
            [
             "Italy",
             9.04
            ],
            [
             "Japan",
             11.26
            ],
            [
             "Luxembourg",
             9.57
            ],
            [
             "Netherlands",
             10.88
            ],
            [
             "New Zealand",
             11.81
            ],
            [
             "Norway",
             11.31
            ],
            [
             "Portugal",
             7.49
            ],
            [
             "Spain",
             8.72
            ],
            [
             "Sweden",
             11.41
            ],
            [
             "Switzerland",
             10.41
            ],
            [
             "Türkiye",
             5.88
            ],
            [
             "USA",
             12.83
            ],
            [
             "United Kingdom of Great Britain and Northern Ireland",
             9.67
            ],
            [
             "Cambodia",
             3.41
            ],
            [
             "China",
             6.83
            ],
            [
             "Fiji",
             10.28
            ],
            [
             "Hong Kong",
             10.21
            ],
            [
             "India",
             4.3
            ],
            [
             "Indonesia",
             4.89
            ],
            [
             "Malaysia",
             8.66
            ],
            [
             "Myanmar",
             3.4
            ],
            [
             "Philippines",
             7.59
            ],
            [
             "Korea, Republic of",
             11.17
            ],
            [
             "Sri Lanka",
             9.83
            ],
            [
             "Taiwan",
             9.55
            ],
            [
             "Thailand",
             5.79
            ],
            [
             "Albania",
             8.54
            ],
            [
             "Bulgaria",
             9.31
            ],
            [
             "Hungary",
             10.75
            ],
            [
             "Poland",
             10.32
            ],
            [
             "Russian Federation",
             10.73
            ],
            [
             "Argentina",
             8.91
            ],
            [
             "Barbados",
             9.07
            ],
            [
             "Bolivia, Plurinational State of",
             8.09
            ],
            [
             "Brazil",
             5.79
            ],
            [
             "Chile",
             8.92
            ],
            [
             "Colombia",
             6.68
            ],
            [
             "Costa Rica",
             7.61
            ],
            [
             "Cuba",
             9.58
            ],
            [
             "Dominican Republic",
             6.58
            ],
            [
             "Ecuador",
             7.32
            ],
            [
             "El Salvador",
             5.8
            ],
            [
             "Guatemala",
             3.96
            ],
            [
             "Guyana",
             7.92
            ],
            [
             "Honduras",
             5.47
            ],
            [
             "Jamaica",
             8.55
            ],
            [
             "Mexico",
             7.37
            ],
            [
             "Nicaragua",
             5.19
            ],
            [
             "Panama",
             8.71
            ],
            [
             "Paraguay",
             6.4
            ],
            [
             "Peru",
             8.09
            ],
            [
             "Trinidad and Tobago",
             9.22
            ],
            [
             "Uruguay",
             8.08
            ],
            [
             "Venezuela, Bolivarian Republic of",
             6.11
            ],
            [
             "Algeria",
             5.76
            ],
            [
             "Egypt",
             5.36
            ],
            [
             "Iran, Islamic Republic of",
             6.69
            ],
            [
             "Iraq",
             5.44
            ],
            [
             "Malta",
             10.06
            ],
            [
             "Morocco",
             3.64
            ],
            [
             "Syrian Arab Republic",
             4.77
            ],
            [
             "Tunisia",
             5.48
            ],
            [
             "Benin",
             2.73
            ],
            [
             "Cameroon",
             5.3
            ],
            [
             "Cote dIvoire",
             3.46
            ],
            [
             "Ghana",
             6.27
            ],
            [
             "Kenya",
             5.5
            ],
            [
             "Malawi",
             3.3
            ],
            [
             "Mali",
             1.07
            ],
            [
             "Mauritius",
             7.07
            ],
            [
             "Mozambique",
             0.98
            ],
            [
             "Niger",
             1.28
            ],
            [
             "Réunion",
             6.97
            ],
            [
             "Senegal",
             2.26
            ],
            [
             "Sierra Leone",
             2.55
            ],
            [
             "South Africa",
             8.37
            ],
            [
             "Sudan",
             2.78
            ],
            [
             "Uganda",
             4.17
            ],
            [
             "Zimbabwe",
             6.85
            ]
           ],
           "geo": "geo",
           "hovertemplate": "year=1995<br>iso_alpha=%{location}<br>country=%{customdata[0]}<br>avg_years_total_schooling=%{z}<extra></extra>",
           "locations": [
            "AUS",
            "AUT",
            "BEL",
            "CAN",
            "DNK",
            "FIN",
            "FRA",
            "DEU",
            "GRC",
            "IRL",
            "ITA",
            "JPN",
            "LUX",
            "NLD",
            "NZL",
            "NOR",
            "PRT",
            "ESP",
            "SWE",
            "CHE",
            "TUR",
            "USA",
            "GBR",
            "KHM",
            "CHN",
            "FJI",
            "HKG",
            "IND",
            "IDN",
            "MYS",
            "MMR",
            "PHL",
            "KOR",
            "LKA",
            "TWN",
            "THA",
            "ALB",
            "BGR",
            "HUN",
            "POL",
            "RUS",
            "ARG",
            "BRB",
            "BOL",
            "BRA",
            "CHL",
            "COL",
            "CRI",
            "CUB",
            "DOM",
            "ECU",
            "SLV",
            "GTM",
            "GUY",
            "HND",
            "JAM",
            "MEX",
            "NIC",
            "PAN",
            "PRY",
            "PER",
            "TTO",
            "URY",
            "VEN",
            "DZA",
            "EGY",
            "IRN",
            "IRQ",
            "MLT",
            "MAR",
            "SYR",
            "TUN",
            "BEN",
            "CMR",
            null,
            "GHA",
            "KEN",
            "MWI",
            "MLI",
            "MUS",
            "MOZ",
            "NER",
            "REU",
            "SEN",
            "SLE",
            "ZAF",
            "SDN",
            "UGA",
            "ZWE"
           ],
           "name": "",
           "type": "choropleth",
           "z": [
            11.51,
            8.93,
            10.64,
            11.11,
            11.04,
            9.31,
            9.36,
            9.93,
            9.54,
            10.8,
            9.04,
            11.26,
            9.57,
            10.88,
            11.81,
            11.31,
            7.49,
            8.72,
            11.41,
            10.41,
            5.88,
            12.83,
            9.67,
            3.41,
            6.83,
            10.28,
            10.21,
            4.3,
            4.89,
            8.66,
            3.4,
            7.59,
            11.17,
            9.83,
            9.55,
            5.79,
            8.54,
            9.31,
            10.75,
            10.32,
            10.73,
            8.91,
            9.07,
            8.09,
            5.79,
            8.92,
            6.68,
            7.61,
            9.58,
            6.58,
            7.32,
            5.8,
            3.96,
            7.92,
            5.47,
            8.55,
            7.37,
            5.19,
            8.71,
            6.4,
            8.09,
            9.22,
            8.08,
            6.11,
            5.76,
            5.36,
            6.69,
            5.44,
            10.06,
            3.64,
            4.77,
            5.48,
            2.73,
            5.3,
            3.46,
            6.27,
            5.5,
            3.3,
            1.07,
            7.07,
            0.98,
            1.28,
            6.97,
            2.26,
            2.55,
            8.37,
            2.78,
            4.17,
            6.85
           ]
          }
         ],
         "name": "1995"
        },
        {
         "data": [
          {
           "coloraxis": "coloraxis",
           "customdata": [
            [
             "Australia",
             11.37
            ],
            [
             "Austria",
             9.43
            ],
            [
             "Belgium",
             10.95
            ],
            [
             "Canada",
             11.39
            ],
            [
             "Denmark",
             11.5
            ],
            [
             "Finland",
             9.9
            ],
            [
             "France",
             10.22
            ],
            [
             "Germany",
             10.59
            ],
            [
             "Greece",
             9.9
            ],
            [
             "Ireland",
             11.03
            ],
            [
             "Italy",
             9.73
            ],
            [
             "Japan",
             11.77
            ],
            [
             "Luxembourg",
             9.92
            ],
            [
             "Netherlands",
             11.14
            ],
            [
             "New Zealand",
             11.98
            ],
            [
             "Norway",
             11.56
            ],
            [
             "Portugal",
             8.41
            ],
            [
             "Spain",
             9.65
            ],
            [
             "Sweden",
             11.72
            ],
            [
             "Switzerland",
             10.14
            ],
            [
             "Türkiye",
             6.37
            ],
            [
             "USA",
             13.1
            ],
            [
             "United Kingdom of Great Britain and Northern Ireland",
             9.97
            ],
            [
             "Cambodia",
             3.64
            ],
            [
             "China",
             7.51
            ],
            [
             "Fiji",
             9.97
            ],
            [
             "Hong Kong",
             10.37
            ],
            [
             "India",
             5.3
            ],
            [
             "Indonesia",
             5.41
            ],
            [
             "Malaysia",
             9.49
            ],
            [
             "Myanmar",
             3.89
            ],
            [
             "Philippines",
             7.96
            ],
            [
             "Korea, Republic of",
             11.8
            ],
            [
             "Sri Lanka",
             10.77
            ],
            [
             "Taiwan",
             10.38
            ],
            [
             "Thailand",
             6.09
            ],
            [
             "Albania",
             9.93
            ],
            [
             "Bulgaria",
             9.65
            ],
            [
             "Hungary",
             11.57
            ],
            [
             "Poland",
             10.74
            ],
            [
             "Russian Federation",
             11.54
            ],
            [
             "Argentina",
             9.08
            ],
            [
             "Barbados",
             9.23
            ],
            [
             "Bolivia, Plurinational State of",
             8.73
            ],
            [
             "Brazil",
             6.76
            ],
            [
             "Chile",
             9.41
            ],
            [
             "Colombia",
             7.12
            ],
            [
             "Costa Rica",
             7.96
            ],
            [
             "Cuba",
             9.88
            ],
            [
             "Dominican Republic",
             7.03
            ],
            [
             "Ecuador",
             7.41
            ],
            [
             "El Salvador",
             7.04
            ],
            [
             "Guatemala",
             4.35
            ],
            [
             "Guyana",
             8.43
            ],
            [
             "Honduras",
             5.87
            ],
            [
             "Jamaica",
             9.59
            ],
            [
             "Mexico",
             7.96
            ],
            [
             "Nicaragua",
             5.7
            ],
            [
             "Panama",
             9.24
            ],
            [
             "Paraguay",
             6.55
            ],
            [
             "Peru",
             9.05
            ],
            [
             "Trinidad and Tobago",
             9.72
            ],
            [
             "Uruguay",
             8.36
            ],
            [
             "Venezuela, Bolivarian Republic of",
             7.01
            ],
            [
             "Algeria",
             6.06
            ],
            [
             "Egypt",
             6.3
            ],
            [
             "Iran, Islamic Republic of",
             7.66
            ],
            [
             "Iraq",
             6.23
            ],
            [
             "Malta",
             10.43
            ],
            [
             "Morocco",
             4.09
            ],
            [
             "Syrian Arab Republic",
             4.79
            ],
            [
             "Tunisia",
             6.32
            ],
            [
             "Benin",
             3.31
            ],
            [
             "Cameroon",
             5.76
            ],
            [
             "Cote dIvoire",
             4.06
            ],
            [
             "Ghana",
             6.67
            ],
            [
             "Kenya",
             5.91
            ],
            [
             "Malawi",
             3.73
            ],
            [
             "Mali",
             1.3
            ],
            [
             "Mauritius",
             7.07
            ],
            [
             "Mozambique",
             1.13
            ],
            [
             "Niger",
             1.43
            ],
            [
             "Réunion",
             7.42
            ],
            [
             "Senegal",
             1.98
            ],
            [
             "Sierra Leone",
             2.9
            ],
            [
             "South Africa",
             7.92
            ],
            [
             "Sudan",
             3.09
            ],
            [
             "Uganda",
             4.56
            ],
            [
             "Zimbabwe",
             7.26
            ]
           ],
           "geo": "geo",
           "hovertemplate": "year=2000<br>iso_alpha=%{location}<br>country=%{customdata[0]}<br>avg_years_total_schooling=%{z}<extra></extra>",
           "locations": [
            "AUS",
            "AUT",
            "BEL",
            "CAN",
            "DNK",
            "FIN",
            "FRA",
            "DEU",
            "GRC",
            "IRL",
            "ITA",
            "JPN",
            "LUX",
            "NLD",
            "NZL",
            "NOR",
            "PRT",
            "ESP",
            "SWE",
            "CHE",
            "TUR",
            "USA",
            "GBR",
            "KHM",
            "CHN",
            "FJI",
            "HKG",
            "IND",
            "IDN",
            "MYS",
            "MMR",
            "PHL",
            "KOR",
            "LKA",
            "TWN",
            "THA",
            "ALB",
            "BGR",
            "HUN",
            "POL",
            "RUS",
            "ARG",
            "BRB",
            "BOL",
            "BRA",
            "CHL",
            "COL",
            "CRI",
            "CUB",
            "DOM",
            "ECU",
            "SLV",
            "GTM",
            "GUY",
            "HND",
            "JAM",
            "MEX",
            "NIC",
            "PAN",
            "PRY",
            "PER",
            "TTO",
            "URY",
            "VEN",
            "DZA",
            "EGY",
            "IRN",
            "IRQ",
            "MLT",
            "MAR",
            "SYR",
            "TUN",
            "BEN",
            "CMR",
            null,
            "GHA",
            "KEN",
            "MWI",
            "MLI",
            "MUS",
            "MOZ",
            "NER",
            "REU",
            "SEN",
            "SLE",
            "ZAF",
            "SDN",
            "UGA",
            "ZWE"
           ],
           "name": "",
           "type": "choropleth",
           "z": [
            11.37,
            9.43,
            10.95,
            11.39,
            11.5,
            9.9,
            10.22,
            10.59,
            9.9,
            11.03,
            9.73,
            11.77,
            9.92,
            11.14,
            11.98,
            11.56,
            8.41,
            9.65,
            11.72,
            10.14,
            6.37,
            13.1,
            9.97,
            3.64,
            7.51,
            9.97,
            10.37,
            5.3,
            5.41,
            9.49,
            3.89,
            7.96,
            11.8,
            10.77,
            10.38,
            6.09,
            9.93,
            9.65,
            11.57,
            10.74,
            11.54,
            9.08,
            9.23,
            8.73,
            6.76,
            9.41,
            7.12,
            7.96,
            9.88,
            7.03,
            7.41,
            7.04,
            4.35,
            8.43,
            5.87,
            9.59,
            7.96,
            5.7,
            9.24,
            6.55,
            9.05,
            9.72,
            8.36,
            7.01,
            6.06,
            6.3,
            7.66,
            6.23,
            10.43,
            4.09,
            4.79,
            6.32,
            3.31,
            5.76,
            4.06,
            6.67,
            5.91,
            3.73,
            1.3,
            7.07,
            1.13,
            1.43,
            7.42,
            1.98,
            2.9,
            7.92,
            3.09,
            4.56,
            7.26
           ]
          }
         ],
         "name": "2000"
        },
        {
         "data": [
          {
           "coloraxis": "coloraxis",
           "customdata": [
            [
             "Australia",
             11.71
            ],
            [
             "Austria",
             9.89
            ],
            [
             "Belgium",
             11.11
            ],
            [
             "Canada",
             12.49
            ],
            [
             "Denmark",
             11.81
            ],
            [
             "Finland",
             10.42
            ],
            [
             "France",
             10.86
            ],
            [
             "Germany",
             11.98
            ],
            [
             "Greece",
             10.95
            ],
            [
             "Ireland",
             11.8
            ],
            [
             "Italy",
             10.2
            ],
            [
             "Japan",
             12.12
            ],
            [
             "Luxembourg",
             10.59
            ],
            [
             "Netherlands",
             11.15
            ],
            [
             "New Zealand",
             12
            ],
            [
             "Norway",
             11.91
            ],
            [
             "Portugal",
             8.12
            ],
            [
             "Spain",
             10.64
            ],
            [
             "Sweden",
             11.86
            ],
            [
             "Switzerland",
             10.82
            ],
            [
             "Türkiye",
             6.86
            ],
            [
             "USA",
             13.01
            ],
            [
             "United Kingdom of Great Britain and Northern Ireland",
             11.57
            ],
            [
             "Cambodia",
             4.26
            ],
            [
             "China",
             7.8
            ],
            [
             "Fiji",
             9.76
            ],
            [
             "Hong Kong",
             12.17
            ],
            [
             "India",
             5.94
            ],
            [
             "Indonesia",
             6.68
            ],
            [
             "Malaysia",
             10.16
            ],
            [
             "Myanmar",
             4.45
            ],
            [
             "Philippines",
             8.27
            ],
            [
             "Korea, Republic of",
             12.27
            ],
            [
             "Sri Lanka",
             10.83
            ],
            [
             "Taiwan",
             11.35
            ],
            [
             "Thailand",
             7.46
            ],
            [
             "Albania",
             10.24
            ],
            [
             "Bulgaria",
             10.61
            ],
            [
             "Hungary",
             11.89
            ],
            [
             "Poland",
             11.36
            ],
            [
             "Russian Federation",
             11.76
            ],
            [
             "Argentina",
             9.57
            ],
            [
             "Barbados",
             9.41
            ],
            [
             "Bolivia, Plurinational State of",
             8.77
            ],
            [
             "Brazil",
             7.67
            ],
            [
             "Chile",
             9.96
            ],
            [
             "Colombia",
             7.56
            ],
            [
             "Costa Rica",
             8.52
            ],
            [
             "Cuba",
             10.36
            ],
            [
             "Dominican Republic",
             7.54
            ],
            [
             "Ecuador",
             7.7
            ],
            [
             "El Salvador",
             8.08
            ],
            [
             "Guatemala",
             4.33
            ],
            [
             "Guyana",
             8.79
            ],
            [
             "Honduras",
             6.24
            ],
            [
             "Jamaica",
             10.09
            ],
            [
             "Mexico",
             8.9
            ],
            [
             "Nicaragua",
             6.28
            ],
            [
             "Panama",
             9.51
            ],
            [
             "Paraguay",
             8.03
            ],
            [
             "Peru",
             9.88
            ],
            [
             "Trinidad and Tobago",
             10.27
            ],
            [
             "Uruguay",
             8.5
            ],
            [
             "Venezuela, Bolivarian Republic of",
             7.8
            ],
            [
             "Algeria",
             6.43
            ],
            [
             "Egypt",
             6.93
            ],
            [
             "Iran, Islamic Republic of",
             8.49
            ],
            [
             "Iraq",
             6.6
            ],
            [
             "Malta",
             10.6
            ],
            [
             "Morocco",
             4.63
            ],
            [
             "Syrian Arab Republic",
             6.12
            ],
            [
             "Tunisia",
             7.21
            ],
            [
             "Benin",
             3.85
            ],
            [
             "Cameroon",
             6.06
            ],
            [
             "Cote dIvoire",
             4.52
            ],
            [
             "Ghana",
             7.35
            ],
            [
             "Kenya",
             6.48
            ],
            [
             "Malawi",
             4.67
            ],
            [
             "Mali",
             1.81
            ],
            [
             "Mauritius",
             8.16
            ],
            [
             "Mozambique",
             1.34
            ],
            [
             "Niger",
             1.62
            ],
            [
             "Réunion",
             7.85
            ],
            [
             "Senegal",
             1.67
            ],
            [
             "Sierra Leone",
             3.36
            ],
            [
             "South Africa",
             8.86
            ],
            [
             "Sudan",
             3.31
            ],
            [
             "Uganda",
             5.11
            ],
            [
             "Zimbabwe",
             7.65
            ]
           ],
           "geo": "geo",
           "hovertemplate": "year=2005<br>iso_alpha=%{location}<br>country=%{customdata[0]}<br>avg_years_total_schooling=%{z}<extra></extra>",
           "locations": [
            "AUS",
            "AUT",
            "BEL",
            "CAN",
            "DNK",
            "FIN",
            "FRA",
            "DEU",
            "GRC",
            "IRL",
            "ITA",
            "JPN",
            "LUX",
            "NLD",
            "NZL",
            "NOR",
            "PRT",
            "ESP",
            "SWE",
            "CHE",
            "TUR",
            "USA",
            "GBR",
            "KHM",
            "CHN",
            "FJI",
            "HKG",
            "IND",
            "IDN",
            "MYS",
            "MMR",
            "PHL",
            "KOR",
            "LKA",
            "TWN",
            "THA",
            "ALB",
            "BGR",
            "HUN",
            "POL",
            "RUS",
            "ARG",
            "BRB",
            "BOL",
            "BRA",
            "CHL",
            "COL",
            "CRI",
            "CUB",
            "DOM",
            "ECU",
            "SLV",
            "GTM",
            "GUY",
            "HND",
            "JAM",
            "MEX",
            "NIC",
            "PAN",
            "PRY",
            "PER",
            "TTO",
            "URY",
            "VEN",
            "DZA",
            "EGY",
            "IRN",
            "IRQ",
            "MLT",
            "MAR",
            "SYR",
            "TUN",
            "BEN",
            "CMR",
            null,
            "GHA",
            "KEN",
            "MWI",
            "MLI",
            "MUS",
            "MOZ",
            "NER",
            "REU",
            "SEN",
            "SLE",
            "ZAF",
            "SDN",
            "UGA",
            "ZWE"
           ],
           "name": "",
           "type": "choropleth",
           "z": [
            11.71,
            9.89,
            11.11,
            12.49,
            11.81,
            10.42,
            10.86,
            11.98,
            10.95,
            11.8,
            10.2,
            12.12,
            10.59,
            11.15,
            12,
            11.91,
            8.12,
            10.64,
            11.86,
            10.82,
            6.86,
            13.01,
            11.57,
            4.26,
            7.8,
            9.76,
            12.17,
            5.94,
            6.68,
            10.16,
            4.45,
            8.27,
            12.27,
            10.83,
            11.35,
            7.46,
            10.24,
            10.61,
            11.89,
            11.36,
            11.76,
            9.57,
            9.41,
            8.77,
            7.67,
            9.96,
            7.56,
            8.52,
            10.36,
            7.54,
            7.7,
            8.08,
            4.33,
            8.79,
            6.24,
            10.09,
            8.9,
            6.28,
            9.51,
            8.03,
            9.88,
            10.27,
            8.5,
            7.8,
            6.43,
            6.93,
            8.49,
            6.6,
            10.6,
            4.63,
            6.12,
            7.21,
            3.85,
            6.06,
            4.52,
            7.35,
            6.48,
            4.67,
            1.81,
            8.16,
            1.34,
            1.62,
            7.85,
            1.67,
            3.36,
            8.86,
            3.31,
            5.11,
            7.65
           ]
          }
         ],
         "name": "2005"
        },
        {
         "data": [
          {
           "coloraxis": "coloraxis",
           "customdata": [
            [
             "Australia",
             11.69
            ],
            [
             "Austria",
             10.13
            ],
            [
             "Belgium",
             11.29
            ],
            [
             "Canada",
             12.74
            ],
            [
             "Denmark",
             11.97
            ],
            [
             "Finland",
             10.71
            ],
            [
             "France",
             11.34
            ],
            [
             "Germany",
             12.58
            ],
            [
             "Greece",
             11.36
            ],
            [
             "Ireland",
             12.45
            ],
            [
             "Italy",
             10.71
            ],
            [
             "Japan",
             12.44
            ],
            [
             "Luxembourg",
             11.33
            ],
            [
             "Netherlands",
             11.71
            ],
            [
             "New Zealand",
             11.12
            ],
            [
             "Norway",
             11.65
            ],
            [
             "Portugal",
             8.71
            ],
            [
             "Spain",
             10.75
            ],
            [
             "Sweden",
             11.95
            ],
            [
             "Switzerland",
             12.92
            ],
            [
             "Türkiye",
             7.44
            ],
            [
             "USA",
             13.24
            ],
            [
             "United Kingdom of Great Britain and Northern Ireland",
             12.46
            ],
            [
             "Cambodia",
             4.94
            ],
            [
             "China",
             7.96
            ],
            [
             "Fiji",
             10.35
            ],
            [
             "Hong Kong",
             12.2
            ],
            [
             "India",
             6.59
            ],
            [
             "Indonesia",
             8.02
            ],
            [
             "Malaysia",
             10.89
            ],
            [
             "Myanmar",
             5.11
            ],
            [
             "Philippines",
             8.65
            ],
            [
             "Korea, Republic of",
             12.96
            ],
            [
             "Sri Lanka",
             10.67
            ],
            [
             "Taiwan",
             11.96
            ],
            [
             "Thailand",
             8.47
            ],
            [
             "Albania",
             10.44
            ],
            [
             "Bulgaria",
             11.07
            ],
            [
             "Hungary",
             11.98
            ],
            [
             "Poland",
             11.62
            ],
            [
             "Russian Federation",
             12.02
            ],
            [
             "Argentina",
             9.71
            ],
            [
             "Barbados",
             9.57
            ],
            [
             "Bolivia, Plurinational State of",
             8.57
            ],
            [
             "Brazil",
             8.17
            ],
            [
             "Chile",
             10.35
            ],
            [
             "Colombia",
             9.35
            ],
            [
             "Costa Rica",
             8.43
            ],
            [
             "Cuba",
             11.06
            ],
            [
             "Dominican Republic",
             8.12
            ],
            [
             "Ecuador",
             8.02
            ],
            [
             "El Salvador",
             8.06
            ],
            [
             "Guatemala",
             5.21
            ],
            [
             "Guyana",
             9
            ],
            [
             "Honduras",
             6.6
            ],
            [
             "Jamaica",
             10.33
            ],
            [
             "Mexico",
             9.18
            ],
            [
             "Nicaragua",
             6.82
            ],
            [
             "Panama",
             9.72
            ],
            [
             "Paraguay",
             7.99
            ],
            [
             "Peru",
             9.28
            ],
            [
             "Trinidad and Tobago",
             10.96
            ],
            [
             "Uruguay",
             8.61
            ],
            [
             "Venezuela, Bolivarian Republic of",
             8.78
            ],
            [
             "Algeria",
             7
            ],
            [
             "Egypt",
             7.44
            ],
            [
             "Iran, Islamic Republic of",
             9.15
            ],
            [
             "Iraq",
             7.43
            ],
            [
             "Malta",
             11.06
            ],
            [
             "Morocco",
             5.27
            ],
            [
             "Syrian Arab Republic",
             7.07
            ],
            [
             "Tunisia",
             8
            ],
            [
             "Benin",
             4.57
            ],
            [
             "Cameroon",
             6.41
            ],
            [
             "Cote dIvoire",
             4.93
            ],
            [
             "Ghana",
             7.66
            ],
            [
             "Kenya",
             6.47
            ],
            [
             "Malawi",
             5.01
            ],
            [
             "Mali",
             2.14
            ],
            [
             "Mauritius",
             9.44
            ],
            [
             "Mozambique",
             2.03
            ],
            [
             "Niger",
             1.95
            ],
            [
             "Réunion",
             8.29
            ],
            [
             "Senegal",
             3.11
            ],
            [
             "Sierra Leone",
             4.28
            ],
            [
             "South Africa",
             9.89
            ],
            [
             "Sudan",
             3.49
            ],
            [
             "Uganda",
             5.87
            ],
            [
             "Zimbabwe",
             7.86
            ]
           ],
           "geo": "geo",
           "hovertemplate": "year=2010<br>iso_alpha=%{location}<br>country=%{customdata[0]}<br>avg_years_total_schooling=%{z}<extra></extra>",
           "locations": [
            "AUS",
            "AUT",
            "BEL",
            "CAN",
            "DNK",
            "FIN",
            "FRA",
            "DEU",
            "GRC",
            "IRL",
            "ITA",
            "JPN",
            "LUX",
            "NLD",
            "NZL",
            "NOR",
            "PRT",
            "ESP",
            "SWE",
            "CHE",
            "TUR",
            "USA",
            "GBR",
            "KHM",
            "CHN",
            "FJI",
            "HKG",
            "IND",
            "IDN",
            "MYS",
            "MMR",
            "PHL",
            "KOR",
            "LKA",
            "TWN",
            "THA",
            "ALB",
            "BGR",
            "HUN",
            "POL",
            "RUS",
            "ARG",
            "BRB",
            "BOL",
            "BRA",
            "CHL",
            "COL",
            "CRI",
            "CUB",
            "DOM",
            "ECU",
            "SLV",
            "GTM",
            "GUY",
            "HND",
            "JAM",
            "MEX",
            "NIC",
            "PAN",
            "PRY",
            "PER",
            "TTO",
            "URY",
            "VEN",
            "DZA",
            "EGY",
            "IRN",
            "IRQ",
            "MLT",
            "MAR",
            "SYR",
            "TUN",
            "BEN",
            "CMR",
            null,
            "GHA",
            "KEN",
            "MWI",
            "MLI",
            "MUS",
            "MOZ",
            "NER",
            "REU",
            "SEN",
            "SLE",
            "ZAF",
            "SDN",
            "UGA",
            "ZWE"
           ],
           "name": "",
           "type": "choropleth",
           "z": [
            11.69,
            10.13,
            11.29,
            12.74,
            11.97,
            10.71,
            11.34,
            12.58,
            11.36,
            12.45,
            10.71,
            12.44,
            11.33,
            11.71,
            11.12,
            11.65,
            8.71,
            10.75,
            11.95,
            12.92,
            7.44,
            13.24,
            12.46,
            4.94,
            7.96,
            10.35,
            12.2,
            6.59,
            8.02,
            10.89,
            5.11,
            8.65,
            12.96,
            10.67,
            11.96,
            8.47,
            10.44,
            11.07,
            11.98,
            11.62,
            12.02,
            9.71,
            9.57,
            8.57,
            8.17,
            10.35,
            9.35,
            8.43,
            11.06,
            8.12,
            8.02,
            8.06,
            5.21,
            9,
            6.6,
            10.33,
            9.18,
            6.82,
            9.72,
            7.99,
            9.28,
            10.96,
            8.61,
            8.78,
            7,
            7.44,
            9.15,
            7.43,
            11.06,
            5.27,
            7.07,
            8,
            4.57,
            6.41,
            4.93,
            7.66,
            6.47,
            5.01,
            2.14,
            9.44,
            2.03,
            1.95,
            8.29,
            3.11,
            4.28,
            9.89,
            3.49,
            5.87,
            7.86
           ]
          }
         ],
         "name": "2010"
        }
       ],
       "layout": {
        "coloraxis": {
         "cmax": 13.24,
         "cmin": 0,
         "colorbar": {
          "title": {
           "text": "avg_years_total_schooling"
          }
         },
         "colorscale": [
          [
           0,
           "rgb(202, 86, 44)"
          ],
          [
           0.16666666666666666,
           "rgb(222, 138, 90)"
          ],
          [
           0.3333333333333333,
           "rgb(237, 187, 138)"
          ],
          [
           0.5,
           "rgb(246, 237, 189)"
          ],
          [
           0.6666666666666666,
           "rgb(180, 200, 168)"
          ],
          [
           0.8333333333333334,
           "rgb(112, 164, 148)"
          ],
          [
           1,
           "rgb(0, 128, 128)"
          ]
         ]
        },
        "geo": {
         "center": {},
         "domain": {
          "x": [
           0,
           1
          ],
          "y": [
           0,
           1
          ]
         }
        },
        "legend": {
         "tracegroupgap": 0
        },
        "margin": {
         "t": 60
        },
        "sliders": [
         {
          "active": 0,
          "currentvalue": {
           "prefix": "year="
          },
          "len": 0.9,
          "pad": {
           "b": 10,
           "t": 60
          },
          "steps": [
           {
            "args": [
             [
              "1870"
             ],
             {
              "frame": {
               "duration": 0,
               "redraw": true
              },
              "fromcurrent": true,
              "mode": "immediate",
              "transition": {
               "duration": 0,
               "easing": "linear"
              }
             }
            ],
            "label": "1870",
            "method": "animate"
           },
           {
            "args": [
             [
              "1875"
             ],
             {
              "frame": {
               "duration": 0,
               "redraw": true
              },
              "fromcurrent": true,
              "mode": "immediate",
              "transition": {
               "duration": 0,
               "easing": "linear"
              }
             }
            ],
            "label": "1875",
            "method": "animate"
           },
           {
            "args": [
             [
              "1880"
             ],
             {
              "frame": {
               "duration": 0,
               "redraw": true
              },
              "fromcurrent": true,
              "mode": "immediate",
              "transition": {
               "duration": 0,
               "easing": "linear"
              }
             }
            ],
            "label": "1880",
            "method": "animate"
           },
           {
            "args": [
             [
              "1885"
             ],
             {
              "frame": {
               "duration": 0,
               "redraw": true
              },
              "fromcurrent": true,
              "mode": "immediate",
              "transition": {
               "duration": 0,
               "easing": "linear"
              }
             }
            ],
            "label": "1885",
            "method": "animate"
           },
           {
            "args": [
             [
              "1890"
             ],
             {
              "frame": {
               "duration": 0,
               "redraw": true
              },
              "fromcurrent": true,
              "mode": "immediate",
              "transition": {
               "duration": 0,
               "easing": "linear"
              }
             }
            ],
            "label": "1890",
            "method": "animate"
           },
           {
            "args": [
             [
              "1895"
             ],
             {
              "frame": {
               "duration": 0,
               "redraw": true
              },
              "fromcurrent": true,
              "mode": "immediate",
              "transition": {
               "duration": 0,
               "easing": "linear"
              }
             }
            ],
            "label": "1895",
            "method": "animate"
           },
           {
            "args": [
             [
              "1900"
             ],
             {
              "frame": {
               "duration": 0,
               "redraw": true
              },
              "fromcurrent": true,
              "mode": "immediate",
              "transition": {
               "duration": 0,
               "easing": "linear"
              }
             }
            ],
            "label": "1900",
            "method": "animate"
           },
           {
            "args": [
             [
              "1905"
             ],
             {
              "frame": {
               "duration": 0,
               "redraw": true
              },
              "fromcurrent": true,
              "mode": "immediate",
              "transition": {
               "duration": 0,
               "easing": "linear"
              }
             }
            ],
            "label": "1905",
            "method": "animate"
           },
           {
            "args": [
             [
              "1910"
             ],
             {
              "frame": {
               "duration": 0,
               "redraw": true
              },
              "fromcurrent": true,
              "mode": "immediate",
              "transition": {
               "duration": 0,
               "easing": "linear"
              }
             }
            ],
            "label": "1910",
            "method": "animate"
           },
           {
            "args": [
             [
              "1915"
             ],
             {
              "frame": {
               "duration": 0,
               "redraw": true
              },
              "fromcurrent": true,
              "mode": "immediate",
              "transition": {
               "duration": 0,
               "easing": "linear"
              }
             }
            ],
            "label": "1915",
            "method": "animate"
           },
           {
            "args": [
             [
              "1920"
             ],
             {
              "frame": {
               "duration": 0,
               "redraw": true
              },
              "fromcurrent": true,
              "mode": "immediate",
              "transition": {
               "duration": 0,
               "easing": "linear"
              }
             }
            ],
            "label": "1920",
            "method": "animate"
           },
           {
            "args": [
             [
              "1925"
             ],
             {
              "frame": {
               "duration": 0,
               "redraw": true
              },
              "fromcurrent": true,
              "mode": "immediate",
              "transition": {
               "duration": 0,
               "easing": "linear"
              }
             }
            ],
            "label": "1925",
            "method": "animate"
           },
           {
            "args": [
             [
              "1930"
             ],
             {
              "frame": {
               "duration": 0,
               "redraw": true
              },
              "fromcurrent": true,
              "mode": "immediate",
              "transition": {
               "duration": 0,
               "easing": "linear"
              }
             }
            ],
            "label": "1930",
            "method": "animate"
           },
           {
            "args": [
             [
              "1935"
             ],
             {
              "frame": {
               "duration": 0,
               "redraw": true
              },
              "fromcurrent": true,
              "mode": "immediate",
              "transition": {
               "duration": 0,
               "easing": "linear"
              }
             }
            ],
            "label": "1935",
            "method": "animate"
           },
           {
            "args": [
             [
              "1940"
             ],
             {
              "frame": {
               "duration": 0,
               "redraw": true
              },
              "fromcurrent": true,
              "mode": "immediate",
              "transition": {
               "duration": 0,
               "easing": "linear"
              }
             }
            ],
            "label": "1940",
            "method": "animate"
           },
           {
            "args": [
             [
              "1945"
             ],
             {
              "frame": {
               "duration": 0,
               "redraw": true
              },
              "fromcurrent": true,
              "mode": "immediate",
              "transition": {
               "duration": 0,
               "easing": "linear"
              }
             }
            ],
            "label": "1945",
            "method": "animate"
           },
           {
            "args": [
             [
              "1950"
             ],
             {
              "frame": {
               "duration": 0,
               "redraw": true
              },
              "fromcurrent": true,
              "mode": "immediate",
              "transition": {
               "duration": 0,
               "easing": "linear"
              }
             }
            ],
            "label": "1950",
            "method": "animate"
           },
           {
            "args": [
             [
              "1955"
             ],
             {
              "frame": {
               "duration": 0,
               "redraw": true
              },
              "fromcurrent": true,
              "mode": "immediate",
              "transition": {
               "duration": 0,
               "easing": "linear"
              }
             }
            ],
            "label": "1955",
            "method": "animate"
           },
           {
            "args": [
             [
              "1960"
             ],
             {
              "frame": {
               "duration": 0,
               "redraw": true
              },
              "fromcurrent": true,
              "mode": "immediate",
              "transition": {
               "duration": 0,
               "easing": "linear"
              }
             }
            ],
            "label": "1960",
            "method": "animate"
           },
           {
            "args": [
             [
              "1965"
             ],
             {
              "frame": {
               "duration": 0,
               "redraw": true
              },
              "fromcurrent": true,
              "mode": "immediate",
              "transition": {
               "duration": 0,
               "easing": "linear"
              }
             }
            ],
            "label": "1965",
            "method": "animate"
           },
           {
            "args": [
             [
              "1970"
             ],
             {
              "frame": {
               "duration": 0,
               "redraw": true
              },
              "fromcurrent": true,
              "mode": "immediate",
              "transition": {
               "duration": 0,
               "easing": "linear"
              }
             }
            ],
            "label": "1970",
            "method": "animate"
           },
           {
            "args": [
             [
              "1975"
             ],
             {
              "frame": {
               "duration": 0,
               "redraw": true
              },
              "fromcurrent": true,
              "mode": "immediate",
              "transition": {
               "duration": 0,
               "easing": "linear"
              }
             }
            ],
            "label": "1975",
            "method": "animate"
           },
           {
            "args": [
             [
              "1980"
             ],
             {
              "frame": {
               "duration": 0,
               "redraw": true
              },
              "fromcurrent": true,
              "mode": "immediate",
              "transition": {
               "duration": 0,
               "easing": "linear"
              }
             }
            ],
            "label": "1980",
            "method": "animate"
           },
           {
            "args": [
             [
              "1985"
             ],
             {
              "frame": {
               "duration": 0,
               "redraw": true
              },
              "fromcurrent": true,
              "mode": "immediate",
              "transition": {
               "duration": 0,
               "easing": "linear"
              }
             }
            ],
            "label": "1985",
            "method": "animate"
           },
           {
            "args": [
             [
              "1990"
             ],
             {
              "frame": {
               "duration": 0,
               "redraw": true
              },
              "fromcurrent": true,
              "mode": "immediate",
              "transition": {
               "duration": 0,
               "easing": "linear"
              }
             }
            ],
            "label": "1990",
            "method": "animate"
           },
           {
            "args": [
             [
              "1995"
             ],
             {
              "frame": {
               "duration": 0,
               "redraw": true
              },
              "fromcurrent": true,
              "mode": "immediate",
              "transition": {
               "duration": 0,
               "easing": "linear"
              }
             }
            ],
            "label": "1995",
            "method": "animate"
           },
           {
            "args": [
             [
              "2000"
             ],
             {
              "frame": {
               "duration": 0,
               "redraw": true
              },
              "fromcurrent": true,
              "mode": "immediate",
              "transition": {
               "duration": 0,
               "easing": "linear"
              }
             }
            ],
            "label": "2000",
            "method": "animate"
           },
           {
            "args": [
             [
              "2005"
             ],
             {
              "frame": {
               "duration": 0,
               "redraw": true
              },
              "fromcurrent": true,
              "mode": "immediate",
              "transition": {
               "duration": 0,
               "easing": "linear"
              }
             }
            ],
            "label": "2005",
            "method": "animate"
           },
           {
            "args": [
             [
              "2010"
             ],
             {
              "frame": {
               "duration": 0,
               "redraw": true
              },
              "fromcurrent": true,
              "mode": "immediate",
              "transition": {
               "duration": 0,
               "easing": "linear"
              }
             }
            ],
            "label": "2010",
            "method": "animate"
           }
          ],
          "x": 0.1,
          "xanchor": "left",
          "y": 0,
          "yanchor": "top"
         }
        ],
        "template": {
         "data": {
          "bar": [
           {
            "error_x": {
             "color": "#2a3f5f"
            },
            "error_y": {
             "color": "#2a3f5f"
            },
            "marker": {
             "line": {
              "color": "#E5ECF6",
              "width": 0.5
             },
             "pattern": {
              "fillmode": "overlay",
              "size": 10,
              "solidity": 0.2
             }
            },
            "type": "bar"
           }
          ],
          "barpolar": [
           {
            "marker": {
             "line": {
              "color": "#E5ECF6",
              "width": 0.5
             },
             "pattern": {
              "fillmode": "overlay",
              "size": 10,
              "solidity": 0.2
             }
            },
            "type": "barpolar"
           }
          ],
          "carpet": [
           {
            "aaxis": {
             "endlinecolor": "#2a3f5f",
             "gridcolor": "white",
             "linecolor": "white",
             "minorgridcolor": "white",
             "startlinecolor": "#2a3f5f"
            },
            "baxis": {
             "endlinecolor": "#2a3f5f",
             "gridcolor": "white",
             "linecolor": "white",
             "minorgridcolor": "white",
             "startlinecolor": "#2a3f5f"
            },
            "type": "carpet"
           }
          ],
          "choropleth": [
           {
            "colorbar": {
             "outlinewidth": 0,
             "ticks": ""
            },
            "type": "choropleth"
           }
          ],
          "contour": [
           {
            "colorbar": {
             "outlinewidth": 0,
             "ticks": ""
            },
            "colorscale": [
             [
              0,
              "#0d0887"
             ],
             [
              0.1111111111111111,
              "#46039f"
             ],
             [
              0.2222222222222222,
              "#7201a8"
             ],
             [
              0.3333333333333333,
              "#9c179e"
             ],
             [
              0.4444444444444444,
              "#bd3786"
             ],
             [
              0.5555555555555556,
              "#d8576b"
             ],
             [
              0.6666666666666666,
              "#ed7953"
             ],
             [
              0.7777777777777778,
              "#fb9f3a"
             ],
             [
              0.8888888888888888,
              "#fdca26"
             ],
             [
              1,
              "#f0f921"
             ]
            ],
            "type": "contour"
           }
          ],
          "contourcarpet": [
           {
            "colorbar": {
             "outlinewidth": 0,
             "ticks": ""
            },
            "type": "contourcarpet"
           }
          ],
          "heatmap": [
           {
            "colorbar": {
             "outlinewidth": 0,
             "ticks": ""
            },
            "colorscale": [
             [
              0,
              "#0d0887"
             ],
             [
              0.1111111111111111,
              "#46039f"
             ],
             [
              0.2222222222222222,
              "#7201a8"
             ],
             [
              0.3333333333333333,
              "#9c179e"
             ],
             [
              0.4444444444444444,
              "#bd3786"
             ],
             [
              0.5555555555555556,
              "#d8576b"
             ],
             [
              0.6666666666666666,
              "#ed7953"
             ],
             [
              0.7777777777777778,
              "#fb9f3a"
             ],
             [
              0.8888888888888888,
              "#fdca26"
             ],
             [
              1,
              "#f0f921"
             ]
            ],
            "type": "heatmap"
           }
          ],
          "heatmapgl": [
           {
            "colorbar": {
             "outlinewidth": 0,
             "ticks": ""
            },
            "colorscale": [
             [
              0,
              "#0d0887"
             ],
             [
              0.1111111111111111,
              "#46039f"
             ],
             [
              0.2222222222222222,
              "#7201a8"
             ],
             [
              0.3333333333333333,
              "#9c179e"
             ],
             [
              0.4444444444444444,
              "#bd3786"
             ],
             [
              0.5555555555555556,
              "#d8576b"
             ],
             [
              0.6666666666666666,
              "#ed7953"
             ],
             [
              0.7777777777777778,
              "#fb9f3a"
             ],
             [
              0.8888888888888888,
              "#fdca26"
             ],
             [
              1,
              "#f0f921"
             ]
            ],
            "type": "heatmapgl"
           }
          ],
          "histogram": [
           {
            "marker": {
             "pattern": {
              "fillmode": "overlay",
              "size": 10,
              "solidity": 0.2
             }
            },
            "type": "histogram"
           }
          ],
          "histogram2d": [
           {
            "colorbar": {
             "outlinewidth": 0,
             "ticks": ""
            },
            "colorscale": [
             [
              0,
              "#0d0887"
             ],
             [
              0.1111111111111111,
              "#46039f"
             ],
             [
              0.2222222222222222,
              "#7201a8"
             ],
             [
              0.3333333333333333,
              "#9c179e"
             ],
             [
              0.4444444444444444,
              "#bd3786"
             ],
             [
              0.5555555555555556,
              "#d8576b"
             ],
             [
              0.6666666666666666,
              "#ed7953"
             ],
             [
              0.7777777777777778,
              "#fb9f3a"
             ],
             [
              0.8888888888888888,
              "#fdca26"
             ],
             [
              1,
              "#f0f921"
             ]
            ],
            "type": "histogram2d"
           }
          ],
          "histogram2dcontour": [
           {
            "colorbar": {
             "outlinewidth": 0,
             "ticks": ""
            },
            "colorscale": [
             [
              0,
              "#0d0887"
             ],
             [
              0.1111111111111111,
              "#46039f"
             ],
             [
              0.2222222222222222,
              "#7201a8"
             ],
             [
              0.3333333333333333,
              "#9c179e"
             ],
             [
              0.4444444444444444,
              "#bd3786"
             ],
             [
              0.5555555555555556,
              "#d8576b"
             ],
             [
              0.6666666666666666,
              "#ed7953"
             ],
             [
              0.7777777777777778,
              "#fb9f3a"
             ],
             [
              0.8888888888888888,
              "#fdca26"
             ],
             [
              1,
              "#f0f921"
             ]
            ],
            "type": "histogram2dcontour"
           }
          ],
          "mesh3d": [
           {
            "colorbar": {
             "outlinewidth": 0,
             "ticks": ""
            },
            "type": "mesh3d"
           }
          ],
          "parcoords": [
           {
            "line": {
             "colorbar": {
              "outlinewidth": 0,
              "ticks": ""
             }
            },
            "type": "parcoords"
           }
          ],
          "pie": [
           {
            "automargin": true,
            "type": "pie"
           }
          ],
          "scatter": [
           {
            "fillpattern": {
             "fillmode": "overlay",
             "size": 10,
             "solidity": 0.2
            },
            "type": "scatter"
           }
          ],
          "scatter3d": [
           {
            "line": {
             "colorbar": {
              "outlinewidth": 0,
              "ticks": ""
             }
            },
            "marker": {
             "colorbar": {
              "outlinewidth": 0,
              "ticks": ""
             }
            },
            "type": "scatter3d"
           }
          ],
          "scattercarpet": [
           {
            "marker": {
             "colorbar": {
              "outlinewidth": 0,
              "ticks": ""
             }
            },
            "type": "scattercarpet"
           }
          ],
          "scattergeo": [
           {
            "marker": {
             "colorbar": {
              "outlinewidth": 0,
              "ticks": ""
             }
            },
            "type": "scattergeo"
           }
          ],
          "scattergl": [
           {
            "marker": {
             "colorbar": {
              "outlinewidth": 0,
              "ticks": ""
             }
            },
            "type": "scattergl"
           }
          ],
          "scattermapbox": [
           {
            "marker": {
             "colorbar": {
              "outlinewidth": 0,
              "ticks": ""
             }
            },
            "type": "scattermapbox"
           }
          ],
          "scatterpolar": [
           {
            "marker": {
             "colorbar": {
              "outlinewidth": 0,
              "ticks": ""
             }
            },
            "type": "scatterpolar"
           }
          ],
          "scatterpolargl": [
           {
            "marker": {
             "colorbar": {
              "outlinewidth": 0,
              "ticks": ""
             }
            },
            "type": "scatterpolargl"
           }
          ],
          "scatterternary": [
           {
            "marker": {
             "colorbar": {
              "outlinewidth": 0,
              "ticks": ""
             }
            },
            "type": "scatterternary"
           }
          ],
          "surface": [
           {
            "colorbar": {
             "outlinewidth": 0,
             "ticks": ""
            },
            "colorscale": [
             [
              0,
              "#0d0887"
             ],
             [
              0.1111111111111111,
              "#46039f"
             ],
             [
              0.2222222222222222,
              "#7201a8"
             ],
             [
              0.3333333333333333,
              "#9c179e"
             ],
             [
              0.4444444444444444,
              "#bd3786"
             ],
             [
              0.5555555555555556,
              "#d8576b"
             ],
             [
              0.6666666666666666,
              "#ed7953"
             ],
             [
              0.7777777777777778,
              "#fb9f3a"
             ],
             [
              0.8888888888888888,
              "#fdca26"
             ],
             [
              1,
              "#f0f921"
             ]
            ],
            "type": "surface"
           }
          ],
          "table": [
           {
            "cells": {
             "fill": {
              "color": "#EBF0F8"
             },
             "line": {
              "color": "white"
             }
            },
            "header": {
             "fill": {
              "color": "#C8D4E3"
             },
             "line": {
              "color": "white"
             }
            },
            "type": "table"
           }
          ]
         },
         "layout": {
          "annotationdefaults": {
           "arrowcolor": "#2a3f5f",
           "arrowhead": 0,
           "arrowwidth": 1
          },
          "autotypenumbers": "strict",
          "coloraxis": {
           "colorbar": {
            "outlinewidth": 0,
            "ticks": ""
           }
          },
          "colorscale": {
           "diverging": [
            [
             0,
             "#8e0152"
            ],
            [
             0.1,
             "#c51b7d"
            ],
            [
             0.2,
             "#de77ae"
            ],
            [
             0.3,
             "#f1b6da"
            ],
            [
             0.4,
             "#fde0ef"
            ],
            [
             0.5,
             "#f7f7f7"
            ],
            [
             0.6,
             "#e6f5d0"
            ],
            [
             0.7,
             "#b8e186"
            ],
            [
             0.8,
             "#7fbc41"
            ],
            [
             0.9,
             "#4d9221"
            ],
            [
             1,
             "#276419"
            ]
           ],
           "sequential": [
            [
             0,
             "#0d0887"
            ],
            [
             0.1111111111111111,
             "#46039f"
            ],
            [
             0.2222222222222222,
             "#7201a8"
            ],
            [
             0.3333333333333333,
             "#9c179e"
            ],
            [
             0.4444444444444444,
             "#bd3786"
            ],
            [
             0.5555555555555556,
             "#d8576b"
            ],
            [
             0.6666666666666666,
             "#ed7953"
            ],
            [
             0.7777777777777778,
             "#fb9f3a"
            ],
            [
             0.8888888888888888,
             "#fdca26"
            ],
            [
             1,
             "#f0f921"
            ]
           ],
           "sequentialminus": [
            [
             0,
             "#0d0887"
            ],
            [
             0.1111111111111111,
             "#46039f"
            ],
            [
             0.2222222222222222,
             "#7201a8"
            ],
            [
             0.3333333333333333,
             "#9c179e"
            ],
            [
             0.4444444444444444,
             "#bd3786"
            ],
            [
             0.5555555555555556,
             "#d8576b"
            ],
            [
             0.6666666666666666,
             "#ed7953"
            ],
            [
             0.7777777777777778,
             "#fb9f3a"
            ],
            [
             0.8888888888888888,
             "#fdca26"
            ],
            [
             1,
             "#f0f921"
            ]
           ]
          },
          "colorway": [
           "#636efa",
           "#EF553B",
           "#00cc96",
           "#ab63fa",
           "#FFA15A",
           "#19d3f3",
           "#FF6692",
           "#B6E880",
           "#FF97FF",
           "#FECB52"
          ],
          "font": {
           "color": "#2a3f5f"
          },
          "geo": {
           "bgcolor": "white",
           "lakecolor": "white",
           "landcolor": "#E5ECF6",
           "showlakes": true,
           "showland": true,
           "subunitcolor": "white"
          },
          "hoverlabel": {
           "align": "left"
          },
          "hovermode": "closest",
          "mapbox": {
           "style": "light"
          },
          "paper_bgcolor": "white",
          "plot_bgcolor": "#E5ECF6",
          "polar": {
           "angularaxis": {
            "gridcolor": "white",
            "linecolor": "white",
            "ticks": ""
           },
           "bgcolor": "#E5ECF6",
           "radialaxis": {
            "gridcolor": "white",
            "linecolor": "white",
            "ticks": ""
           }
          },
          "scene": {
           "xaxis": {
            "backgroundcolor": "#E5ECF6",
            "gridcolor": "white",
            "gridwidth": 2,
            "linecolor": "white",
            "showbackground": true,
            "ticks": "",
            "zerolinecolor": "white"
           },
           "yaxis": {
            "backgroundcolor": "#E5ECF6",
            "gridcolor": "white",
            "gridwidth": 2,
            "linecolor": "white",
            "showbackground": true,
            "ticks": "",
            "zerolinecolor": "white"
           },
           "zaxis": {
            "backgroundcolor": "#E5ECF6",
            "gridcolor": "white",
            "gridwidth": 2,
            "linecolor": "white",
            "showbackground": true,
            "ticks": "",
            "zerolinecolor": "white"
           }
          },
          "shapedefaults": {
           "line": {
            "color": "#2a3f5f"
           }
          },
          "ternary": {
           "aaxis": {
            "gridcolor": "white",
            "linecolor": "white",
            "ticks": ""
           },
           "baxis": {
            "gridcolor": "white",
            "linecolor": "white",
            "ticks": ""
           },
           "bgcolor": "#E5ECF6",
           "caxis": {
            "gridcolor": "white",
            "linecolor": "white",
            "ticks": ""
           }
          },
          "title": {
           "x": 0.05
          },
          "xaxis": {
           "automargin": true,
           "gridcolor": "white",
           "linecolor": "white",
           "ticks": "",
           "title": {
            "standoff": 15
           },
           "zerolinecolor": "white",
           "zerolinewidth": 2
          },
          "yaxis": {
           "automargin": true,
           "gridcolor": "white",
           "linecolor": "white",
           "ticks": "",
           "title": {
            "standoff": 15
           },
           "zerolinecolor": "white",
           "zerolinewidth": 2
          }
         }
        },
        "updatemenus": [
         {
          "buttons": [
           {
            "args": [
             null,
             {
              "frame": {
               "duration": 300,
               "redraw": true
              },
              "fromcurrent": true,
              "mode": "immediate",
              "transition": {
               "duration": 1000,
               "easing": "linear"
              }
             }
            ],
            "label": "&#9654;",
            "method": "animate"
           },
           {
            "args": [
             [
              null
             ],
             {
              "frame": {
               "duration": 0,
               "redraw": true
              },
              "fromcurrent": true,
              "mode": "immediate",
              "transition": {
               "duration": 0,
               "easing": "linear"
              }
             }
            ],
            "label": "&#9724;",
            "method": "animate"
           }
          ],
          "direction": "left",
          "pad": {
           "r": 10,
           "t": 70
          },
          "showactive": false,
          "type": "buttons",
          "x": 0.1,
          "xanchor": "right",
          "y": 0,
          "yanchor": "top"
         }
        ]
       }
      },
      "text/html": [
       "<div>                            <div id=\"186ba8df-f6ab-4f38-a46c-3b78b7760c61\" class=\"plotly-graph-div\" style=\"height:525px; width:100%;\"></div>            <script type=\"text/javascript\">                require([\"plotly\"], function(Plotly) {                    window.PLOTLYENV=window.PLOTLYENV || {};                                    if (document.getElementById(\"186ba8df-f6ab-4f38-a46c-3b78b7760c61\")) {                    Plotly.newPlot(                        \"186ba8df-f6ab-4f38-a46c-3b78b7760c61\",                        [{\"coloraxis\":\"coloraxis\",\"customdata\":[[\"Australia\",1.77],[\"Austria\",2.09],[\"Belgium\",2.43],[\"Canada\",2.74],[\"Denmark\",2.46],[\"Finland\",0.12],[\"France\",0.71],[\"Germany\",2.23],[\"Greece\",0.81],[\"Ireland\",0.74],[\"Italy\",0.88],[\"Japan\",0.73],[\"Luxembourg\",0.04],[\"Netherlands\",2.94],[\"New Zealand\",3.6],[\"Norway\",4.31],[\"Portugal\",0.27],[\"Spain\",1.58],[\"Sweden\",3.61],[\"Switzerland\",4.1],[\"T\\u00fcrkiye\",0.01],[\"USA\",4.13],[\"United Kingdom of Great Britain and Northern Ireland\",0.92],[\"Cambodia\",0.01],[\"China\",0.01],[\"Fiji\",0.04],[\"Hong Kong\",0.15],[\"India\",0.03],[\"Indonesia\",0.01],[\"Malaysia\",0.06],[\"Myanmar\",0.14],[\"Philippines\",0.07],[\"Korea, Republic of\",0.01],[\"Sri Lanka\",0.18],[\"Taiwan\",0.02],[\"Thailand\",0.11],[\"Albania\",0.02],[\"Bulgaria\",0.98],[\"Hungary\",1.83],[\"Poland\",1.38],[\"Russian Federation\",0.15],[\"Argentina\",0.44],[\"Barbados\",1.05],[\"Bolivia, Plurinational State of\",0.07],[\"Brazil\",0.16],[\"Chile\",0.44],[\"Colombia\",0.33],[\"Costa Rica\",0.48],[\"Cuba\",0.14],[\"Dominican Republic\",0.07],[\"Ecuador\",0.25],[\"El Salvador\",0.3],[\"Guatemala\",0.3],[\"Guyana\",0.27],[\"Honduras\",0.31],[\"Jamaica\",0.85],[\"Mexico\",0.42],[\"Nicaragua\",0.2],[\"Panama\",0.13],[\"Paraguay\",0.09],[\"Peru\",0.06],[\"Trinidad and Tobago\",0.53],[\"Uruguay\",0.41],[\"Venezuela, Bolivarian Republic of\",0.02],[\"Algeria\",0.11],[\"Egypt\",0.02],[\"Iran, Islamic Republic of\",0.01],[\"Iraq\",0.01],[\"Malta\",0.65],[\"Morocco\",0.01],[\"Syrian Arab Republic\",0.04],[\"Tunisia\",0.01],[\"Benin\",0.01],[\"Cameroon\",0.01],[\"Cote dIvoire\",0.1],[\"Ghana\",0.02],[\"Kenya\",0.01],[\"Malawi\",0.01],[\"Mali\",0.01],[\"Mauritius\",0.22],[\"Mozambique\",0.01],[\"Niger\",0.01],[\"R\\u00e9union\",0.73],[\"Senegal\",0.01],[\"Sierra Leone\",0.03],[\"South Africa\",0.77],[\"Sudan\",0.01],[\"Uganda\",0.01],[\"Zimbabwe\",0.03]],\"geo\":\"geo\",\"hovertemplate\":\"year=1870<br>iso_alpha=%{location}<br>country=%{customdata[0]}<br>avg_years_total_schooling=%{z}<extra></extra>\",\"locations\":[\"AUS\",\"AUT\",\"BEL\",\"CAN\",\"DNK\",\"FIN\",\"FRA\",\"DEU\",\"GRC\",\"IRL\",\"ITA\",\"JPN\",\"LUX\",\"NLD\",\"NZL\",\"NOR\",\"PRT\",\"ESP\",\"SWE\",\"CHE\",\"TUR\",\"USA\",\"GBR\",\"KHM\",\"CHN\",\"FJI\",\"HKG\",\"IND\",\"IDN\",\"MYS\",\"MMR\",\"PHL\",\"KOR\",\"LKA\",\"TWN\",\"THA\",\"ALB\",\"BGR\",\"HUN\",\"POL\",\"RUS\",\"ARG\",\"BRB\",\"BOL\",\"BRA\",\"CHL\",\"COL\",\"CRI\",\"CUB\",\"DOM\",\"ECU\",\"SLV\",\"GTM\",\"GUY\",\"HND\",\"JAM\",\"MEX\",\"NIC\",\"PAN\",\"PRY\",\"PER\",\"TTO\",\"URY\",\"VEN\",\"DZA\",\"EGY\",\"IRN\",\"IRQ\",\"MLT\",\"MAR\",\"SYR\",\"TUN\",\"BEN\",\"CMR\",null,\"GHA\",\"KEN\",\"MWI\",\"MLI\",\"MUS\",\"MOZ\",\"NER\",\"REU\",\"SEN\",\"SLE\",\"ZAF\",\"SDN\",\"UGA\",\"ZWE\"],\"name\":\"\",\"z\":[1.77,2.09,2.43,2.74,2.46,0.12,0.71,2.23,0.81,0.74,0.88,0.73,0.04,2.94,3.6,4.31,0.27,1.58,3.61,4.1,0.01,4.13,0.92,0.01,0.01,0.04,0.15,0.03,0.01,0.06,0.14,0.07,0.01,0.18,0.02,0.11,0.02,0.98,1.83,1.38,0.15,0.44,1.05,0.07,0.16,0.44,0.33,0.48,0.14,0.07,0.25,0.3,0.3,0.27,0.31,0.85,0.42,0.2,0.13,0.09,0.06,0.53,0.41,0.02,0.11,0.02,0.01,0.01,0.65,0.01,0.04,0.01,0.01,0.01,0.1,0.02,0.01,0.01,0.01,0.22,0.01,0.01,0.73,0.01,0.03,0.77,0.01,0.01,0.03],\"type\":\"choropleth\"}],                        {\"template\":{\"data\":{\"histogram2dcontour\":[{\"type\":\"histogram2dcontour\",\"colorbar\":{\"outlinewidth\":0,\"ticks\":\"\"},\"colorscale\":[[0.0,\"#0d0887\"],[0.1111111111111111,\"#46039f\"],[0.2222222222222222,\"#7201a8\"],[0.3333333333333333,\"#9c179e\"],[0.4444444444444444,\"#bd3786\"],[0.5555555555555556,\"#d8576b\"],[0.6666666666666666,\"#ed7953\"],[0.7777777777777778,\"#fb9f3a\"],[0.8888888888888888,\"#fdca26\"],[1.0,\"#f0f921\"]]}],\"choropleth\":[{\"type\":\"choropleth\",\"colorbar\":{\"outlinewidth\":0,\"ticks\":\"\"}}],\"histogram2d\":[{\"type\":\"histogram2d\",\"colorbar\":{\"outlinewidth\":0,\"ticks\":\"\"},\"colorscale\":[[0.0,\"#0d0887\"],[0.1111111111111111,\"#46039f\"],[0.2222222222222222,\"#7201a8\"],[0.3333333333333333,\"#9c179e\"],[0.4444444444444444,\"#bd3786\"],[0.5555555555555556,\"#d8576b\"],[0.6666666666666666,\"#ed7953\"],[0.7777777777777778,\"#fb9f3a\"],[0.8888888888888888,\"#fdca26\"],[1.0,\"#f0f921\"]]}],\"heatmap\":[{\"type\":\"heatmap\",\"colorbar\":{\"outlinewidth\":0,\"ticks\":\"\"},\"colorscale\":[[0.0,\"#0d0887\"],[0.1111111111111111,\"#46039f\"],[0.2222222222222222,\"#7201a8\"],[0.3333333333333333,\"#9c179e\"],[0.4444444444444444,\"#bd3786\"],[0.5555555555555556,\"#d8576b\"],[0.6666666666666666,\"#ed7953\"],[0.7777777777777778,\"#fb9f3a\"],[0.8888888888888888,\"#fdca26\"],[1.0,\"#f0f921\"]]}],\"heatmapgl\":[{\"type\":\"heatmapgl\",\"colorbar\":{\"outlinewidth\":0,\"ticks\":\"\"},\"colorscale\":[[0.0,\"#0d0887\"],[0.1111111111111111,\"#46039f\"],[0.2222222222222222,\"#7201a8\"],[0.3333333333333333,\"#9c179e\"],[0.4444444444444444,\"#bd3786\"],[0.5555555555555556,\"#d8576b\"],[0.6666666666666666,\"#ed7953\"],[0.7777777777777778,\"#fb9f3a\"],[0.8888888888888888,\"#fdca26\"],[1.0,\"#f0f921\"]]}],\"contourcarpet\":[{\"type\":\"contourcarpet\",\"colorbar\":{\"outlinewidth\":0,\"ticks\":\"\"}}],\"contour\":[{\"type\":\"contour\",\"colorbar\":{\"outlinewidth\":0,\"ticks\":\"\"},\"colorscale\":[[0.0,\"#0d0887\"],[0.1111111111111111,\"#46039f\"],[0.2222222222222222,\"#7201a8\"],[0.3333333333333333,\"#9c179e\"],[0.4444444444444444,\"#bd3786\"],[0.5555555555555556,\"#d8576b\"],[0.6666666666666666,\"#ed7953\"],[0.7777777777777778,\"#fb9f3a\"],[0.8888888888888888,\"#fdca26\"],[1.0,\"#f0f921\"]]}],\"surface\":[{\"type\":\"surface\",\"colorbar\":{\"outlinewidth\":0,\"ticks\":\"\"},\"colorscale\":[[0.0,\"#0d0887\"],[0.1111111111111111,\"#46039f\"],[0.2222222222222222,\"#7201a8\"],[0.3333333333333333,\"#9c179e\"],[0.4444444444444444,\"#bd3786\"],[0.5555555555555556,\"#d8576b\"],[0.6666666666666666,\"#ed7953\"],[0.7777777777777778,\"#fb9f3a\"],[0.8888888888888888,\"#fdca26\"],[1.0,\"#f0f921\"]]}],\"mesh3d\":[{\"type\":\"mesh3d\",\"colorbar\":{\"outlinewidth\":0,\"ticks\":\"\"}}],\"scatter\":[{\"fillpattern\":{\"fillmode\":\"overlay\",\"size\":10,\"solidity\":0.2},\"type\":\"scatter\"}],\"parcoords\":[{\"type\":\"parcoords\",\"line\":{\"colorbar\":{\"outlinewidth\":0,\"ticks\":\"\"}}}],\"scatterpolargl\":[{\"type\":\"scatterpolargl\",\"marker\":{\"colorbar\":{\"outlinewidth\":0,\"ticks\":\"\"}}}],\"bar\":[{\"error_x\":{\"color\":\"#2a3f5f\"},\"error_y\":{\"color\":\"#2a3f5f\"},\"marker\":{\"line\":{\"color\":\"#E5ECF6\",\"width\":0.5},\"pattern\":{\"fillmode\":\"overlay\",\"size\":10,\"solidity\":0.2}},\"type\":\"bar\"}],\"scattergeo\":[{\"type\":\"scattergeo\",\"marker\":{\"colorbar\":{\"outlinewidth\":0,\"ticks\":\"\"}}}],\"scatterpolar\":[{\"type\":\"scatterpolar\",\"marker\":{\"colorbar\":{\"outlinewidth\":0,\"ticks\":\"\"}}}],\"histogram\":[{\"marker\":{\"pattern\":{\"fillmode\":\"overlay\",\"size\":10,\"solidity\":0.2}},\"type\":\"histogram\"}],\"scattergl\":[{\"type\":\"scattergl\",\"marker\":{\"colorbar\":{\"outlinewidth\":0,\"ticks\":\"\"}}}],\"scatter3d\":[{\"type\":\"scatter3d\",\"line\":{\"colorbar\":{\"outlinewidth\":0,\"ticks\":\"\"}},\"marker\":{\"colorbar\":{\"outlinewidth\":0,\"ticks\":\"\"}}}],\"scattermapbox\":[{\"type\":\"scattermapbox\",\"marker\":{\"colorbar\":{\"outlinewidth\":0,\"ticks\":\"\"}}}],\"scatterternary\":[{\"type\":\"scatterternary\",\"marker\":{\"colorbar\":{\"outlinewidth\":0,\"ticks\":\"\"}}}],\"scattercarpet\":[{\"type\":\"scattercarpet\",\"marker\":{\"colorbar\":{\"outlinewidth\":0,\"ticks\":\"\"}}}],\"carpet\":[{\"aaxis\":{\"endlinecolor\":\"#2a3f5f\",\"gridcolor\":\"white\",\"linecolor\":\"white\",\"minorgridcolor\":\"white\",\"startlinecolor\":\"#2a3f5f\"},\"baxis\":{\"endlinecolor\":\"#2a3f5f\",\"gridcolor\":\"white\",\"linecolor\":\"white\",\"minorgridcolor\":\"white\",\"startlinecolor\":\"#2a3f5f\"},\"type\":\"carpet\"}],\"table\":[{\"cells\":{\"fill\":{\"color\":\"#EBF0F8\"},\"line\":{\"color\":\"white\"}},\"header\":{\"fill\":{\"color\":\"#C8D4E3\"},\"line\":{\"color\":\"white\"}},\"type\":\"table\"}],\"barpolar\":[{\"marker\":{\"line\":{\"color\":\"#E5ECF6\",\"width\":0.5},\"pattern\":{\"fillmode\":\"overlay\",\"size\":10,\"solidity\":0.2}},\"type\":\"barpolar\"}],\"pie\":[{\"automargin\":true,\"type\":\"pie\"}]},\"layout\":{\"autotypenumbers\":\"strict\",\"colorway\":[\"#636efa\",\"#EF553B\",\"#00cc96\",\"#ab63fa\",\"#FFA15A\",\"#19d3f3\",\"#FF6692\",\"#B6E880\",\"#FF97FF\",\"#FECB52\"],\"font\":{\"color\":\"#2a3f5f\"},\"hovermode\":\"closest\",\"hoverlabel\":{\"align\":\"left\"},\"paper_bgcolor\":\"white\",\"plot_bgcolor\":\"#E5ECF6\",\"polar\":{\"bgcolor\":\"#E5ECF6\",\"angularaxis\":{\"gridcolor\":\"white\",\"linecolor\":\"white\",\"ticks\":\"\"},\"radialaxis\":{\"gridcolor\":\"white\",\"linecolor\":\"white\",\"ticks\":\"\"}},\"ternary\":{\"bgcolor\":\"#E5ECF6\",\"aaxis\":{\"gridcolor\":\"white\",\"linecolor\":\"white\",\"ticks\":\"\"},\"baxis\":{\"gridcolor\":\"white\",\"linecolor\":\"white\",\"ticks\":\"\"},\"caxis\":{\"gridcolor\":\"white\",\"linecolor\":\"white\",\"ticks\":\"\"}},\"coloraxis\":{\"colorbar\":{\"outlinewidth\":0,\"ticks\":\"\"}},\"colorscale\":{\"sequential\":[[0.0,\"#0d0887\"],[0.1111111111111111,\"#46039f\"],[0.2222222222222222,\"#7201a8\"],[0.3333333333333333,\"#9c179e\"],[0.4444444444444444,\"#bd3786\"],[0.5555555555555556,\"#d8576b\"],[0.6666666666666666,\"#ed7953\"],[0.7777777777777778,\"#fb9f3a\"],[0.8888888888888888,\"#fdca26\"],[1.0,\"#f0f921\"]],\"sequentialminus\":[[0.0,\"#0d0887\"],[0.1111111111111111,\"#46039f\"],[0.2222222222222222,\"#7201a8\"],[0.3333333333333333,\"#9c179e\"],[0.4444444444444444,\"#bd3786\"],[0.5555555555555556,\"#d8576b\"],[0.6666666666666666,\"#ed7953\"],[0.7777777777777778,\"#fb9f3a\"],[0.8888888888888888,\"#fdca26\"],[1.0,\"#f0f921\"]],\"diverging\":[[0,\"#8e0152\"],[0.1,\"#c51b7d\"],[0.2,\"#de77ae\"],[0.3,\"#f1b6da\"],[0.4,\"#fde0ef\"],[0.5,\"#f7f7f7\"],[0.6,\"#e6f5d0\"],[0.7,\"#b8e186\"],[0.8,\"#7fbc41\"],[0.9,\"#4d9221\"],[1,\"#276419\"]]},\"xaxis\":{\"gridcolor\":\"white\",\"linecolor\":\"white\",\"ticks\":\"\",\"title\":{\"standoff\":15},\"zerolinecolor\":\"white\",\"automargin\":true,\"zerolinewidth\":2},\"yaxis\":{\"gridcolor\":\"white\",\"linecolor\":\"white\",\"ticks\":\"\",\"title\":{\"standoff\":15},\"zerolinecolor\":\"white\",\"automargin\":true,\"zerolinewidth\":2},\"scene\":{\"xaxis\":{\"backgroundcolor\":\"#E5ECF6\",\"gridcolor\":\"white\",\"linecolor\":\"white\",\"showbackground\":true,\"ticks\":\"\",\"zerolinecolor\":\"white\",\"gridwidth\":2},\"yaxis\":{\"backgroundcolor\":\"#E5ECF6\",\"gridcolor\":\"white\",\"linecolor\":\"white\",\"showbackground\":true,\"ticks\":\"\",\"zerolinecolor\":\"white\",\"gridwidth\":2},\"zaxis\":{\"backgroundcolor\":\"#E5ECF6\",\"gridcolor\":\"white\",\"linecolor\":\"white\",\"showbackground\":true,\"ticks\":\"\",\"zerolinecolor\":\"white\",\"gridwidth\":2}},\"shapedefaults\":{\"line\":{\"color\":\"#2a3f5f\"}},\"annotationdefaults\":{\"arrowcolor\":\"#2a3f5f\",\"arrowhead\":0,\"arrowwidth\":1},\"geo\":{\"bgcolor\":\"white\",\"landcolor\":\"#E5ECF6\",\"subunitcolor\":\"white\",\"showland\":true,\"showlakes\":true,\"lakecolor\":\"white\"},\"title\":{\"x\":0.05},\"mapbox\":{\"style\":\"light\"}}},\"geo\":{\"domain\":{\"x\":[0.0,1.0],\"y\":[0.0,1.0]},\"center\":{}},\"coloraxis\":{\"colorbar\":{\"title\":{\"text\":\"avg_years_total_schooling\"}},\"colorscale\":[[0.0,\"rgb(202, 86, 44)\"],[0.16666666666666666,\"rgb(222, 138, 90)\"],[0.3333333333333333,\"rgb(237, 187, 138)\"],[0.5,\"rgb(246, 237, 189)\"],[0.6666666666666666,\"rgb(180, 200, 168)\"],[0.8333333333333334,\"rgb(112, 164, 148)\"],[1.0,\"rgb(0, 128, 128)\"]],\"cmin\":0,\"cmax\":13.24},\"legend\":{\"tracegroupgap\":0},\"margin\":{\"t\":60},\"updatemenus\":[{\"buttons\":[{\"args\":[null,{\"frame\":{\"duration\":300,\"redraw\":true},\"mode\":\"immediate\",\"fromcurrent\":true,\"transition\":{\"duration\":1000,\"easing\":\"linear\"}}],\"label\":\"&#9654;\",\"method\":\"animate\"},{\"args\":[[null],{\"frame\":{\"duration\":0,\"redraw\":true},\"mode\":\"immediate\",\"fromcurrent\":true,\"transition\":{\"duration\":0,\"easing\":\"linear\"}}],\"label\":\"&#9724;\",\"method\":\"animate\"}],\"direction\":\"left\",\"pad\":{\"r\":10,\"t\":70},\"showactive\":false,\"type\":\"buttons\",\"x\":0.1,\"xanchor\":\"right\",\"y\":0,\"yanchor\":\"top\"}],\"sliders\":[{\"active\":0,\"currentvalue\":{\"prefix\":\"year=\"},\"len\":0.9,\"pad\":{\"b\":10,\"t\":60},\"steps\":[{\"args\":[[\"1870\"],{\"frame\":{\"duration\":0,\"redraw\":true},\"mode\":\"immediate\",\"fromcurrent\":true,\"transition\":{\"duration\":0,\"easing\":\"linear\"}}],\"label\":\"1870\",\"method\":\"animate\"},{\"args\":[[\"1875\"],{\"frame\":{\"duration\":0,\"redraw\":true},\"mode\":\"immediate\",\"fromcurrent\":true,\"transition\":{\"duration\":0,\"easing\":\"linear\"}}],\"label\":\"1875\",\"method\":\"animate\"},{\"args\":[[\"1880\"],{\"frame\":{\"duration\":0,\"redraw\":true},\"mode\":\"immediate\",\"fromcurrent\":true,\"transition\":{\"duration\":0,\"easing\":\"linear\"}}],\"label\":\"1880\",\"method\":\"animate\"},{\"args\":[[\"1885\"],{\"frame\":{\"duration\":0,\"redraw\":true},\"mode\":\"immediate\",\"fromcurrent\":true,\"transition\":{\"duration\":0,\"easing\":\"linear\"}}],\"label\":\"1885\",\"method\":\"animate\"},{\"args\":[[\"1890\"],{\"frame\":{\"duration\":0,\"redraw\":true},\"mode\":\"immediate\",\"fromcurrent\":true,\"transition\":{\"duration\":0,\"easing\":\"linear\"}}],\"label\":\"1890\",\"method\":\"animate\"},{\"args\":[[\"1895\"],{\"frame\":{\"duration\":0,\"redraw\":true},\"mode\":\"immediate\",\"fromcurrent\":true,\"transition\":{\"duration\":0,\"easing\":\"linear\"}}],\"label\":\"1895\",\"method\":\"animate\"},{\"args\":[[\"1900\"],{\"frame\":{\"duration\":0,\"redraw\":true},\"mode\":\"immediate\",\"fromcurrent\":true,\"transition\":{\"duration\":0,\"easing\":\"linear\"}}],\"label\":\"1900\",\"method\":\"animate\"},{\"args\":[[\"1905\"],{\"frame\":{\"duration\":0,\"redraw\":true},\"mode\":\"immediate\",\"fromcurrent\":true,\"transition\":{\"duration\":0,\"easing\":\"linear\"}}],\"label\":\"1905\",\"method\":\"animate\"},{\"args\":[[\"1910\"],{\"frame\":{\"duration\":0,\"redraw\":true},\"mode\":\"immediate\",\"fromcurrent\":true,\"transition\":{\"duration\":0,\"easing\":\"linear\"}}],\"label\":\"1910\",\"method\":\"animate\"},{\"args\":[[\"1915\"],{\"frame\":{\"duration\":0,\"redraw\":true},\"mode\":\"immediate\",\"fromcurrent\":true,\"transition\":{\"duration\":0,\"easing\":\"linear\"}}],\"label\":\"1915\",\"method\":\"animate\"},{\"args\":[[\"1920\"],{\"frame\":{\"duration\":0,\"redraw\":true},\"mode\":\"immediate\",\"fromcurrent\":true,\"transition\":{\"duration\":0,\"easing\":\"linear\"}}],\"label\":\"1920\",\"method\":\"animate\"},{\"args\":[[\"1925\"],{\"frame\":{\"duration\":0,\"redraw\":true},\"mode\":\"immediate\",\"fromcurrent\":true,\"transition\":{\"duration\":0,\"easing\":\"linear\"}}],\"label\":\"1925\",\"method\":\"animate\"},{\"args\":[[\"1930\"],{\"frame\":{\"duration\":0,\"redraw\":true},\"mode\":\"immediate\",\"fromcurrent\":true,\"transition\":{\"duration\":0,\"easing\":\"linear\"}}],\"label\":\"1930\",\"method\":\"animate\"},{\"args\":[[\"1935\"],{\"frame\":{\"duration\":0,\"redraw\":true},\"mode\":\"immediate\",\"fromcurrent\":true,\"transition\":{\"duration\":0,\"easing\":\"linear\"}}],\"label\":\"1935\",\"method\":\"animate\"},{\"args\":[[\"1940\"],{\"frame\":{\"duration\":0,\"redraw\":true},\"mode\":\"immediate\",\"fromcurrent\":true,\"transition\":{\"duration\":0,\"easing\":\"linear\"}}],\"label\":\"1940\",\"method\":\"animate\"},{\"args\":[[\"1945\"],{\"frame\":{\"duration\":0,\"redraw\":true},\"mode\":\"immediate\",\"fromcurrent\":true,\"transition\":{\"duration\":0,\"easing\":\"linear\"}}],\"label\":\"1945\",\"method\":\"animate\"},{\"args\":[[\"1950\"],{\"frame\":{\"duration\":0,\"redraw\":true},\"mode\":\"immediate\",\"fromcurrent\":true,\"transition\":{\"duration\":0,\"easing\":\"linear\"}}],\"label\":\"1950\",\"method\":\"animate\"},{\"args\":[[\"1955\"],{\"frame\":{\"duration\":0,\"redraw\":true},\"mode\":\"immediate\",\"fromcurrent\":true,\"transition\":{\"duration\":0,\"easing\":\"linear\"}}],\"label\":\"1955\",\"method\":\"animate\"},{\"args\":[[\"1960\"],{\"frame\":{\"duration\":0,\"redraw\":true},\"mode\":\"immediate\",\"fromcurrent\":true,\"transition\":{\"duration\":0,\"easing\":\"linear\"}}],\"label\":\"1960\",\"method\":\"animate\"},{\"args\":[[\"1965\"],{\"frame\":{\"duration\":0,\"redraw\":true},\"mode\":\"immediate\",\"fromcurrent\":true,\"transition\":{\"duration\":0,\"easing\":\"linear\"}}],\"label\":\"1965\",\"method\":\"animate\"},{\"args\":[[\"1970\"],{\"frame\":{\"duration\":0,\"redraw\":true},\"mode\":\"immediate\",\"fromcurrent\":true,\"transition\":{\"duration\":0,\"easing\":\"linear\"}}],\"label\":\"1970\",\"method\":\"animate\"},{\"args\":[[\"1975\"],{\"frame\":{\"duration\":0,\"redraw\":true},\"mode\":\"immediate\",\"fromcurrent\":true,\"transition\":{\"duration\":0,\"easing\":\"linear\"}}],\"label\":\"1975\",\"method\":\"animate\"},{\"args\":[[\"1980\"],{\"frame\":{\"duration\":0,\"redraw\":true},\"mode\":\"immediate\",\"fromcurrent\":true,\"transition\":{\"duration\":0,\"easing\":\"linear\"}}],\"label\":\"1980\",\"method\":\"animate\"},{\"args\":[[\"1985\"],{\"frame\":{\"duration\":0,\"redraw\":true},\"mode\":\"immediate\",\"fromcurrent\":true,\"transition\":{\"duration\":0,\"easing\":\"linear\"}}],\"label\":\"1985\",\"method\":\"animate\"},{\"args\":[[\"1990\"],{\"frame\":{\"duration\":0,\"redraw\":true},\"mode\":\"immediate\",\"fromcurrent\":true,\"transition\":{\"duration\":0,\"easing\":\"linear\"}}],\"label\":\"1990\",\"method\":\"animate\"},{\"args\":[[\"1995\"],{\"frame\":{\"duration\":0,\"redraw\":true},\"mode\":\"immediate\",\"fromcurrent\":true,\"transition\":{\"duration\":0,\"easing\":\"linear\"}}],\"label\":\"1995\",\"method\":\"animate\"},{\"args\":[[\"2000\"],{\"frame\":{\"duration\":0,\"redraw\":true},\"mode\":\"immediate\",\"fromcurrent\":true,\"transition\":{\"duration\":0,\"easing\":\"linear\"}}],\"label\":\"2000\",\"method\":\"animate\"},{\"args\":[[\"2005\"],{\"frame\":{\"duration\":0,\"redraw\":true},\"mode\":\"immediate\",\"fromcurrent\":true,\"transition\":{\"duration\":0,\"easing\":\"linear\"}}],\"label\":\"2005\",\"method\":\"animate\"},{\"args\":[[\"2010\"],{\"frame\":{\"duration\":0,\"redraw\":true},\"mode\":\"immediate\",\"fromcurrent\":true,\"transition\":{\"duration\":0,\"easing\":\"linear\"}}],\"label\":\"2010\",\"method\":\"animate\"}],\"x\":0.1,\"xanchor\":\"left\",\"y\":0,\"yanchor\":\"top\"}]},                        {\"responsive\": true}                    ).then(function(){\n",
       "                            Plotly.addFrames('186ba8df-f6ab-4f38-a46c-3b78b7760c61', [{\"data\":[{\"coloraxis\":\"coloraxis\",\"customdata\":[[\"Australia\",1.77],[\"Austria\",2.09],[\"Belgium\",2.43],[\"Canada\",2.74],[\"Denmark\",2.46],[\"Finland\",0.12],[\"France\",0.71],[\"Germany\",2.23],[\"Greece\",0.81],[\"Ireland\",0.74],[\"Italy\",0.88],[\"Japan\",0.73],[\"Luxembourg\",0.04],[\"Netherlands\",2.94],[\"New Zealand\",3.6],[\"Norway\",4.31],[\"Portugal\",0.27],[\"Spain\",1.58],[\"Sweden\",3.61],[\"Switzerland\",4.1],[\"T\\u00fcrkiye\",0.01],[\"USA\",4.13],[\"United Kingdom of Great Britain and Northern Ireland\",0.92],[\"Cambodia\",0.01],[\"China\",0.01],[\"Fiji\",0.04],[\"Hong Kong\",0.15],[\"India\",0.03],[\"Indonesia\",0.01],[\"Malaysia\",0.06],[\"Myanmar\",0.14],[\"Philippines\",0.07],[\"Korea, Republic of\",0.01],[\"Sri Lanka\",0.18],[\"Taiwan\",0.02],[\"Thailand\",0.11],[\"Albania\",0.02],[\"Bulgaria\",0.98],[\"Hungary\",1.83],[\"Poland\",1.38],[\"Russian Federation\",0.15],[\"Argentina\",0.44],[\"Barbados\",1.05],[\"Bolivia, Plurinational State of\",0.07],[\"Brazil\",0.16],[\"Chile\",0.44],[\"Colombia\",0.33],[\"Costa Rica\",0.48],[\"Cuba\",0.14],[\"Dominican Republic\",0.07],[\"Ecuador\",0.25],[\"El Salvador\",0.3],[\"Guatemala\",0.3],[\"Guyana\",0.27],[\"Honduras\",0.31],[\"Jamaica\",0.85],[\"Mexico\",0.42],[\"Nicaragua\",0.2],[\"Panama\",0.13],[\"Paraguay\",0.09],[\"Peru\",0.06],[\"Trinidad and Tobago\",0.53],[\"Uruguay\",0.41],[\"Venezuela, Bolivarian Republic of\",0.02],[\"Algeria\",0.11],[\"Egypt\",0.02],[\"Iran, Islamic Republic of\",0.01],[\"Iraq\",0.01],[\"Malta\",0.65],[\"Morocco\",0.01],[\"Syrian Arab Republic\",0.04],[\"Tunisia\",0.01],[\"Benin\",0.01],[\"Cameroon\",0.01],[\"Cote dIvoire\",0.1],[\"Ghana\",0.02],[\"Kenya\",0.01],[\"Malawi\",0.01],[\"Mali\",0.01],[\"Mauritius\",0.22],[\"Mozambique\",0.01],[\"Niger\",0.01],[\"R\\u00e9union\",0.73],[\"Senegal\",0.01],[\"Sierra Leone\",0.03],[\"South Africa\",0.77],[\"Sudan\",0.01],[\"Uganda\",0.01],[\"Zimbabwe\",0.03]],\"geo\":\"geo\",\"hovertemplate\":\"year=1870<br>iso_alpha=%{location}<br>country=%{customdata[0]}<br>avg_years_total_schooling=%{z}<extra></extra>\",\"locations\":[\"AUS\",\"AUT\",\"BEL\",\"CAN\",\"DNK\",\"FIN\",\"FRA\",\"DEU\",\"GRC\",\"IRL\",\"ITA\",\"JPN\",\"LUX\",\"NLD\",\"NZL\",\"NOR\",\"PRT\",\"ESP\",\"SWE\",\"CHE\",\"TUR\",\"USA\",\"GBR\",\"KHM\",\"CHN\",\"FJI\",\"HKG\",\"IND\",\"IDN\",\"MYS\",\"MMR\",\"PHL\",\"KOR\",\"LKA\",\"TWN\",\"THA\",\"ALB\",\"BGR\",\"HUN\",\"POL\",\"RUS\",\"ARG\",\"BRB\",\"BOL\",\"BRA\",\"CHL\",\"COL\",\"CRI\",\"CUB\",\"DOM\",\"ECU\",\"SLV\",\"GTM\",\"GUY\",\"HND\",\"JAM\",\"MEX\",\"NIC\",\"PAN\",\"PRY\",\"PER\",\"TTO\",\"URY\",\"VEN\",\"DZA\",\"EGY\",\"IRN\",\"IRQ\",\"MLT\",\"MAR\",\"SYR\",\"TUN\",\"BEN\",\"CMR\",null,\"GHA\",\"KEN\",\"MWI\",\"MLI\",\"MUS\",\"MOZ\",\"NER\",\"REU\",\"SEN\",\"SLE\",\"ZAF\",\"SDN\",\"UGA\",\"ZWE\"],\"name\":\"\",\"z\":[1.77,2.09,2.43,2.74,2.46,0.12,0.71,2.23,0.81,0.74,0.88,0.73,0.04,2.94,3.6,4.31,0.27,1.58,3.61,4.1,0.01,4.13,0.92,0.01,0.01,0.04,0.15,0.03,0.01,0.06,0.14,0.07,0.01,0.18,0.02,0.11,0.02,0.98,1.83,1.38,0.15,0.44,1.05,0.07,0.16,0.44,0.33,0.48,0.14,0.07,0.25,0.3,0.3,0.27,0.31,0.85,0.42,0.2,0.13,0.09,0.06,0.53,0.41,0.02,0.11,0.02,0.01,0.01,0.65,0.01,0.04,0.01,0.01,0.01,0.1,0.02,0.01,0.01,0.01,0.22,0.01,0.01,0.73,0.01,0.03,0.77,0.01,0.01,0.03],\"type\":\"choropleth\"}],\"name\":\"1870\"},{\"data\":[{\"coloraxis\":\"coloraxis\",\"customdata\":[[\"Australia\",1.93],[\"Austria\",2.22],[\"Belgium\",2.38],[\"Canada\",2.87],[\"Denmark\",2.51],[\"Finland\",0.15],[\"France\",0.82],[\"Germany\",2.44],[\"Greece\",0.92],[\"Ireland\",0.85],[\"Italy\",0.95],[\"Japan\",0.8],[\"Luxembourg\",0.05],[\"Netherlands\",3.01],[\"New Zealand\",3.53],[\"Norway\",4.53],[\"Portugal\",0.34],[\"Spain\",1.86],[\"Sweden\",3.72],[\"Switzerland\",4.28],[\"T\\u00fcrkiye\",0.01],[\"USA\",4.47],[\"United Kingdom of Great Britain and Northern Ireland\",0.97],[\"Cambodia\",0.01],[\"China\",0.01],[\"Fiji\",0.06],[\"Hong Kong\",0.18],[\"India\",0.04],[\"Indonesia\",0.01],[\"Malaysia\",0.07],[\"Myanmar\",0.16],[\"Philippines\",0.08],[\"Korea, Republic of\",0.01],[\"Sri Lanka\",0.19],[\"Taiwan\",0.02],[\"Thailand\",0.13],[\"Albania\",0.03],[\"Bulgaria\",1.03],[\"Hungary\",2.02],[\"Poland\",1.48],[\"Russian Federation\",0.18],[\"Argentina\",0.53],[\"Barbados\",1.16],[\"Bolivia, Plurinational State of\",0.09],[\"Brazil\",0.19],[\"Chile\",0.52],[\"Colombia\",0.38],[\"Costa Rica\",0.56],[\"Cuba\",0.18],[\"Dominican Republic\",0.1],[\"Ecuador\",0.3],[\"El Salvador\",0.35],[\"Guatemala\",0.35],[\"Guyana\",0.4],[\"Honduras\",0.36],[\"Jamaica\",0.93],[\"Mexico\",0.5],[\"Nicaragua\",0.24],[\"Panama\",0.16],[\"Paraguay\",0.11],[\"Peru\",0.08],[\"Trinidad and Tobago\",0.61],[\"Uruguay\",0.48],[\"Venezuela, Bolivarian Republic of\",0.02],[\"Algeria\",0.14],[\"Egypt\",0.03],[\"Iran, Islamic Republic of\",0.01],[\"Iraq\",0.01],[\"Malta\",0.71],[\"Morocco\",0.01],[\"Syrian Arab Republic\",0.04],[\"Tunisia\",0.01],[\"Benin\",0.01],[\"Cameroon\",0.01],[\"Cote dIvoire\",0.12],[\"Ghana\",0.02],[\"Kenya\",0.01],[\"Malawi\",0.01],[\"Mali\",0.01],[\"Mauritius\",0.27],[\"Mozambique\",0.01],[\"Niger\",0.01],[\"R\\u00e9union\",0.78],[\"Senegal\",0.01],[\"Sierra Leone\",0.03],[\"South Africa\",0.88],[\"Sudan\",0.01],[\"Uganda\",0.01],[\"Zimbabwe\",0.03]],\"geo\":\"geo\",\"hovertemplate\":\"year=1875<br>iso_alpha=%{location}<br>country=%{customdata[0]}<br>avg_years_total_schooling=%{z}<extra></extra>\",\"locations\":[\"AUS\",\"AUT\",\"BEL\",\"CAN\",\"DNK\",\"FIN\",\"FRA\",\"DEU\",\"GRC\",\"IRL\",\"ITA\",\"JPN\",\"LUX\",\"NLD\",\"NZL\",\"NOR\",\"PRT\",\"ESP\",\"SWE\",\"CHE\",\"TUR\",\"USA\",\"GBR\",\"KHM\",\"CHN\",\"FJI\",\"HKG\",\"IND\",\"IDN\",\"MYS\",\"MMR\",\"PHL\",\"KOR\",\"LKA\",\"TWN\",\"THA\",\"ALB\",\"BGR\",\"HUN\",\"POL\",\"RUS\",\"ARG\",\"BRB\",\"BOL\",\"BRA\",\"CHL\",\"COL\",\"CRI\",\"CUB\",\"DOM\",\"ECU\",\"SLV\",\"GTM\",\"GUY\",\"HND\",\"JAM\",\"MEX\",\"NIC\",\"PAN\",\"PRY\",\"PER\",\"TTO\",\"URY\",\"VEN\",\"DZA\",\"EGY\",\"IRN\",\"IRQ\",\"MLT\",\"MAR\",\"SYR\",\"TUN\",\"BEN\",\"CMR\",null,\"GHA\",\"KEN\",\"MWI\",\"MLI\",\"MUS\",\"MOZ\",\"NER\",\"REU\",\"SEN\",\"SLE\",\"ZAF\",\"SDN\",\"UGA\",\"ZWE\"],\"name\":\"\",\"z\":[1.93,2.22,2.38,2.87,2.51,0.15,0.82,2.44,0.92,0.85,0.95,0.8,0.05,3.01,3.53,4.53,0.34,1.86,3.72,4.28,0.01,4.47,0.97,0.01,0.01,0.06,0.18,0.04,0.01,0.07,0.16,0.08,0.01,0.19,0.02,0.13,0.03,1.03,2.02,1.48,0.18,0.53,1.16,0.09,0.19,0.52,0.38,0.56,0.18,0.1,0.3,0.35,0.35,0.4,0.36,0.93,0.5,0.24,0.16,0.11,0.08,0.61,0.48,0.02,0.14,0.03,0.01,0.01,0.71,0.01,0.04,0.01,0.01,0.01,0.12,0.02,0.01,0.01,0.01,0.27,0.01,0.01,0.78,0.01,0.03,0.88,0.01,0.01,0.03],\"type\":\"choropleth\"}],\"name\":\"1875\"},{\"data\":[{\"coloraxis\":\"coloraxis\",\"customdata\":[[\"Australia\",2.08],[\"Austria\",2.37],[\"Belgium\",2.55],[\"Canada\",3.0],[\"Denmark\",2.56],[\"Finland\",0.17],[\"France\",1.2],[\"Germany\",2.67],[\"Greece\",1.04],[\"Ireland\",0.97],[\"Italy\",1.08],[\"Japan\",0.89],[\"Luxembourg\",0.06],[\"Netherlands\",3.11],[\"New Zealand\",3.67],[\"Norway\",4.74],[\"Portugal\",0.42],[\"Spain\",2.19],[\"Sweden\",3.86],[\"Switzerland\",4.48],[\"T\\u00fcrkiye\",0.02],[\"USA\",4.79],[\"United Kingdom of Great Britain and Northern Ireland\",1.14],[\"Cambodia\",0.01],[\"China\",0.01],[\"Fiji\",0.07],[\"Hong Kong\",0.23],[\"India\",0.05],[\"Indonesia\",0.01],[\"Malaysia\",0.09],[\"Myanmar\",0.19],[\"Philippines\",0.09],[\"Korea, Republic of\",0.01],[\"Sri Lanka\",0.21],[\"Taiwan\",0.03],[\"Thailand\",0.14],[\"Albania\",0.03],[\"Bulgaria\",1.09],[\"Hungary\",2.27],[\"Poland\",1.59],[\"Russian Federation\",0.21],[\"Argentina\",0.62],[\"Barbados\",1.29],[\"Bolivia, Plurinational State of\",0.11],[\"Brazil\",0.23],[\"Chile\",0.59],[\"Colombia\",0.43],[\"Costa Rica\",0.65],[\"Cuba\",0.22],[\"Dominican Republic\",0.14],[\"Ecuador\",0.36],[\"El Salvador\",0.41],[\"Guatemala\",0.4],[\"Guyana\",0.65],[\"Honduras\",0.43],[\"Jamaica\",1.02],[\"Mexico\",0.58],[\"Nicaragua\",0.29],[\"Panama\",0.19],[\"Paraguay\",0.13],[\"Peru\",0.1],[\"Trinidad and Tobago\",0.7],[\"Uruguay\",0.56],[\"Venezuela, Bolivarian Republic of\",0.02],[\"Algeria\",0.17],[\"Egypt\",0.04],[\"Iran, Islamic Republic of\",0.01],[\"Iraq\",0.01],[\"Malta\",0.77],[\"Morocco\",0.01],[\"Syrian Arab Republic\",0.04],[\"Tunisia\",0.01],[\"Benin\",0.01],[\"Cameroon\",0.02],[\"Cote dIvoire\",0.13],[\"Ghana\",0.03],[\"Kenya\",0.01],[\"Malawi\",0.01],[\"Mali\",0.01],[\"Mauritius\",0.32],[\"Mozambique\",0.01],[\"Niger\",0.01],[\"R\\u00e9union\",0.84],[\"Senegal\",0.01],[\"Sierra Leone\",0.04],[\"South Africa\",1.01],[\"Sudan\",0.01],[\"Uganda\",0.01],[\"Zimbabwe\",0.04]],\"geo\":\"geo\",\"hovertemplate\":\"year=1880<br>iso_alpha=%{location}<br>country=%{customdata[0]}<br>avg_years_total_schooling=%{z}<extra></extra>\",\"locations\":[\"AUS\",\"AUT\",\"BEL\",\"CAN\",\"DNK\",\"FIN\",\"FRA\",\"DEU\",\"GRC\",\"IRL\",\"ITA\",\"JPN\",\"LUX\",\"NLD\",\"NZL\",\"NOR\",\"PRT\",\"ESP\",\"SWE\",\"CHE\",\"TUR\",\"USA\",\"GBR\",\"KHM\",\"CHN\",\"FJI\",\"HKG\",\"IND\",\"IDN\",\"MYS\",\"MMR\",\"PHL\",\"KOR\",\"LKA\",\"TWN\",\"THA\",\"ALB\",\"BGR\",\"HUN\",\"POL\",\"RUS\",\"ARG\",\"BRB\",\"BOL\",\"BRA\",\"CHL\",\"COL\",\"CRI\",\"CUB\",\"DOM\",\"ECU\",\"SLV\",\"GTM\",\"GUY\",\"HND\",\"JAM\",\"MEX\",\"NIC\",\"PAN\",\"PRY\",\"PER\",\"TTO\",\"URY\",\"VEN\",\"DZA\",\"EGY\",\"IRN\",\"IRQ\",\"MLT\",\"MAR\",\"SYR\",\"TUN\",\"BEN\",\"CMR\",null,\"GHA\",\"KEN\",\"MWI\",\"MLI\",\"MUS\",\"MOZ\",\"NER\",\"REU\",\"SEN\",\"SLE\",\"ZAF\",\"SDN\",\"UGA\",\"ZWE\"],\"name\":\"\",\"z\":[2.08,2.37,2.55,3.0,2.56,0.17,1.2,2.67,1.04,0.97,1.08,0.89,0.06,3.11,3.67,4.74,0.42,2.19,3.86,4.48,0.02,4.79,1.14,0.01,0.01,0.07,0.23,0.05,0.01,0.09,0.19,0.09,0.01,0.21,0.03,0.14,0.03,1.09,2.27,1.59,0.21,0.62,1.29,0.11,0.23,0.59,0.43,0.65,0.22,0.14,0.36,0.41,0.4,0.65,0.43,1.02,0.58,0.29,0.19,0.13,0.1,0.7,0.56,0.02,0.17,0.04,0.01,0.01,0.77,0.01,0.04,0.01,0.01,0.02,0.13,0.03,0.01,0.01,0.01,0.32,0.01,0.01,0.84,0.01,0.04,1.01,0.01,0.01,0.04],\"type\":\"choropleth\"}],\"name\":\"1880\"},{\"data\":[{\"coloraxis\":\"coloraxis\",\"customdata\":[[\"Australia\",2.41],[\"Austria\",2.58],[\"Belgium\",2.65],[\"Canada\",3.11],[\"Denmark\",2.63],[\"Finland\",0.21],[\"France\",1.55],[\"Germany\",2.89],[\"Greece\",1.16],[\"Ireland\",1.09],[\"Italy\",1.22],[\"Japan\",1.04],[\"Luxembourg\",0.08],[\"Netherlands\",3.2],[\"New Zealand\",3.9],[\"Norway\",4.95],[\"Portugal\",0.51],[\"Spain\",2.54],[\"Sweden\",3.98],[\"Switzerland\",4.69],[\"T\\u00fcrkiye\",0.02],[\"USA\",5.09],[\"United Kingdom of Great Britain and Northern Ireland\",1.39],[\"Cambodia\",0.01],[\"China\",0.01],[\"Fiji\",0.1],[\"Hong Kong\",0.28],[\"India\",0.07],[\"Indonesia\",0.01],[\"Malaysia\",0.12],[\"Myanmar\",0.24],[\"Philippines\",0.11],[\"Korea, Republic of\",0.01],[\"Sri Lanka\",0.26],[\"Taiwan\",0.03],[\"Thailand\",0.16],[\"Albania\",0.04],[\"Bulgaria\",1.15],[\"Hungary\",2.55],[\"Poland\",1.71],[\"Russian Federation\",0.24],[\"Argentina\",0.68],[\"Barbados\",1.33],[\"Bolivia, Plurinational State of\",0.14],[\"Brazil\",0.27],[\"Chile\",0.65],[\"Colombia\",0.49],[\"Costa Rica\",0.76],[\"Cuba\",0.27],[\"Dominican Republic\",0.19],[\"Ecuador\",0.43],[\"El Salvador\",0.49],[\"Guatemala\",0.46],[\"Guyana\",0.9],[\"Honduras\",0.5],[\"Jamaica\",1.23],[\"Mexico\",0.66],[\"Nicaragua\",0.35],[\"Panama\",0.22],[\"Paraguay\",0.16],[\"Peru\",0.12],[\"Trinidad and Tobago\",0.87],[\"Uruguay\",0.67],[\"Venezuela, Bolivarian Republic of\",0.03],[\"Algeria\",0.2],[\"Egypt\",0.05],[\"Iran, Islamic Republic of\",0.01],[\"Iraq\",0.01],[\"Malta\",0.83],[\"Morocco\",0.01],[\"Syrian Arab Republic\",0.04],[\"Tunisia\",0.01],[\"Benin\",0.01],[\"Cameroon\",0.02],[\"Cote dIvoire\",0.15],[\"Ghana\",0.03],[\"Kenya\",0.01],[\"Malawi\",0.02],[\"Mali\",0.01],[\"Mauritius\",0.4],[\"Mozambique\",0.01],[\"Niger\",0.01],[\"R\\u00e9union\",0.9],[\"Senegal\",0.01],[\"Sierra Leone\",0.04],[\"South Africa\",1.19],[\"Sudan\",0.01],[\"Uganda\",0.01],[\"Zimbabwe\",0.05]],\"geo\":\"geo\",\"hovertemplate\":\"year=1885<br>iso_alpha=%{location}<br>country=%{customdata[0]}<br>avg_years_total_schooling=%{z}<extra></extra>\",\"locations\":[\"AUS\",\"AUT\",\"BEL\",\"CAN\",\"DNK\",\"FIN\",\"FRA\",\"DEU\",\"GRC\",\"IRL\",\"ITA\",\"JPN\",\"LUX\",\"NLD\",\"NZL\",\"NOR\",\"PRT\",\"ESP\",\"SWE\",\"CHE\",\"TUR\",\"USA\",\"GBR\",\"KHM\",\"CHN\",\"FJI\",\"HKG\",\"IND\",\"IDN\",\"MYS\",\"MMR\",\"PHL\",\"KOR\",\"LKA\",\"TWN\",\"THA\",\"ALB\",\"BGR\",\"HUN\",\"POL\",\"RUS\",\"ARG\",\"BRB\",\"BOL\",\"BRA\",\"CHL\",\"COL\",\"CRI\",\"CUB\",\"DOM\",\"ECU\",\"SLV\",\"GTM\",\"GUY\",\"HND\",\"JAM\",\"MEX\",\"NIC\",\"PAN\",\"PRY\",\"PER\",\"TTO\",\"URY\",\"VEN\",\"DZA\",\"EGY\",\"IRN\",\"IRQ\",\"MLT\",\"MAR\",\"SYR\",\"TUN\",\"BEN\",\"CMR\",null,\"GHA\",\"KEN\",\"MWI\",\"MLI\",\"MUS\",\"MOZ\",\"NER\",\"REU\",\"SEN\",\"SLE\",\"ZAF\",\"SDN\",\"UGA\",\"ZWE\"],\"name\":\"\",\"z\":[2.41,2.58,2.65,3.11,2.63,0.21,1.55,2.89,1.16,1.09,1.22,1.04,0.08,3.2,3.9,4.95,0.51,2.54,3.98,4.69,0.02,5.09,1.39,0.01,0.01,0.1,0.28,0.07,0.01,0.12,0.24,0.11,0.01,0.26,0.03,0.16,0.04,1.15,2.55,1.71,0.24,0.68,1.33,0.14,0.27,0.65,0.49,0.76,0.27,0.19,0.43,0.49,0.46,0.9,0.5,1.23,0.66,0.35,0.22,0.16,0.12,0.87,0.67,0.03,0.2,0.05,0.01,0.01,0.83,0.01,0.04,0.01,0.01,0.02,0.15,0.03,0.01,0.02,0.01,0.4,0.01,0.01,0.9,0.01,0.04,1.19,0.01,0.01,0.05],\"type\":\"choropleth\"}],\"name\":\"1885\"},{\"data\":[{\"coloraxis\":\"coloraxis\",\"customdata\":[[\"Australia\",2.76],[\"Austria\",2.83],[\"Belgium\",2.63],[\"Canada\",3.19],[\"Denmark\",2.71],[\"Finland\",0.28],[\"France\",1.78],[\"Germany\",3.1],[\"Greece\",1.27],[\"Ireland\",1.27],[\"Italy\",1.37],[\"Japan\",1.34],[\"Luxembourg\",0.1],[\"Netherlands\",3.28],[\"New Zealand\",4.15],[\"Norway\",5.16],[\"Portugal\",0.6],[\"Spain\",2.84],[\"Sweden\",4.09],[\"Switzerland\",4.91],[\"T\\u00fcrkiye\",0.03],[\"USA\",5.48],[\"United Kingdom of Great Britain and Northern Ireland\",1.81],[\"Cambodia\",0.01],[\"China\",0.01],[\"Fiji\",0.13],[\"Hong Kong\",0.34],[\"India\",0.1],[\"Indonesia\",0.02],[\"Malaysia\",0.15],[\"Myanmar\",0.32],[\"Philippines\",0.14],[\"Korea, Republic of\",0.01],[\"Sri Lanka\",0.33],[\"Taiwan\",0.04],[\"Thailand\",0.17],[\"Albania\",0.05],[\"Bulgaria\",1.23],[\"Hungary\",2.83],[\"Poland\",1.83],[\"Russian Federation\",0.28],[\"Argentina\",0.72],[\"Barbados\",1.41],[\"Bolivia, Plurinational State of\",0.17],[\"Brazil\",0.31],[\"Chile\",0.69],[\"Colombia\",0.52],[\"Costa Rica\",0.89],[\"Cuba\",0.34],[\"Dominican Republic\",0.23],[\"Ecuador\",0.52],[\"El Salvador\",0.57],[\"Guatemala\",0.53],[\"Guyana\",1.14],[\"Honduras\",0.59],[\"Jamaica\",1.51],[\"Mexico\",0.73],[\"Nicaragua\",0.42],[\"Panama\",0.27],[\"Paraguay\",0.2],[\"Peru\",0.16],[\"Trinidad and Tobago\",1.05],[\"Uruguay\",0.79],[\"Venezuela, Bolivarian Republic of\",0.04],[\"Algeria\",0.23],[\"Egypt\",0.06],[\"Iran, Islamic Republic of\",0.01],[\"Iraq\",0.01],[\"Malta\",0.89],[\"Morocco\",0.01],[\"Syrian Arab Republic\",0.05],[\"Tunisia\",0.01],[\"Benin\",0.01],[\"Cameroon\",0.02],[\"Cote dIvoire\",0.17],[\"Ghana\",0.04],[\"Kenya\",0.02],[\"Malawi\",0.02],[\"Mali\",0.01],[\"Mauritius\",0.5],[\"Mozambique\",0.01],[\"Niger\",0.01],[\"R\\u00e9union\",0.95],[\"Senegal\",0.01],[\"Sierra Leone\",0.06],[\"South Africa\",1.33],[\"Sudan\",0.01],[\"Uganda\",0.01],[\"Zimbabwe\",0.06]],\"geo\":\"geo\",\"hovertemplate\":\"year=1890<br>iso_alpha=%{location}<br>country=%{customdata[0]}<br>avg_years_total_schooling=%{z}<extra></extra>\",\"locations\":[\"AUS\",\"AUT\",\"BEL\",\"CAN\",\"DNK\",\"FIN\",\"FRA\",\"DEU\",\"GRC\",\"IRL\",\"ITA\",\"JPN\",\"LUX\",\"NLD\",\"NZL\",\"NOR\",\"PRT\",\"ESP\",\"SWE\",\"CHE\",\"TUR\",\"USA\",\"GBR\",\"KHM\",\"CHN\",\"FJI\",\"HKG\",\"IND\",\"IDN\",\"MYS\",\"MMR\",\"PHL\",\"KOR\",\"LKA\",\"TWN\",\"THA\",\"ALB\",\"BGR\",\"HUN\",\"POL\",\"RUS\",\"ARG\",\"BRB\",\"BOL\",\"BRA\",\"CHL\",\"COL\",\"CRI\",\"CUB\",\"DOM\",\"ECU\",\"SLV\",\"GTM\",\"GUY\",\"HND\",\"JAM\",\"MEX\",\"NIC\",\"PAN\",\"PRY\",\"PER\",\"TTO\",\"URY\",\"VEN\",\"DZA\",\"EGY\",\"IRN\",\"IRQ\",\"MLT\",\"MAR\",\"SYR\",\"TUN\",\"BEN\",\"CMR\",null,\"GHA\",\"KEN\",\"MWI\",\"MLI\",\"MUS\",\"MOZ\",\"NER\",\"REU\",\"SEN\",\"SLE\",\"ZAF\",\"SDN\",\"UGA\",\"ZWE\"],\"name\":\"\",\"z\":[2.76,2.83,2.63,3.19,2.71,0.28,1.78,3.1,1.27,1.27,1.37,1.34,0.1,3.28,4.15,5.16,0.6,2.84,4.09,4.91,0.03,5.48,1.81,0.01,0.01,0.13,0.34,0.1,0.02,0.15,0.32,0.14,0.01,0.33,0.04,0.17,0.05,1.23,2.83,1.83,0.28,0.72,1.41,0.17,0.31,0.69,0.52,0.89,0.34,0.23,0.52,0.57,0.53,1.14,0.59,1.51,0.73,0.42,0.27,0.2,0.16,1.05,0.79,0.04,0.23,0.06,0.01,0.01,0.89,0.01,0.05,0.01,0.01,0.02,0.17,0.04,0.02,0.02,0.01,0.5,0.01,0.01,0.95,0.01,0.06,1.33,0.01,0.01,0.06],\"type\":\"choropleth\"}],\"name\":\"1890\"},{\"data\":[{\"coloraxis\":\"coloraxis\",\"customdata\":[[\"Australia\",3.0],[\"Austria\",3.11],[\"Belgium\",2.66],[\"Canada\",3.35],[\"Denmark\",2.78],[\"Finland\",0.36],[\"France\",2.06],[\"Germany\",3.31],[\"Greece\",1.37],[\"Ireland\",1.47],[\"Italy\",1.51],[\"Japan\",1.61],[\"Luxembourg\",0.12],[\"Netherlands\",3.37],[\"New Zealand\",4.37],[\"Norway\",5.44],[\"Portugal\",0.71],[\"Spain\",3.09],[\"Sweden\",4.21],[\"Switzerland\",5.13],[\"T\\u00fcrkiye\",0.03],[\"USA\",5.88],[\"United Kingdom of Great Britain and Northern Ireland\",2.15],[\"Cambodia\",0.01],[\"China\",0.02],[\"Fiji\",0.17],[\"Hong Kong\",0.42],[\"India\",0.13],[\"Indonesia\",0.03],[\"Malaysia\",0.18],[\"Myanmar\",0.38],[\"Philippines\",0.17],[\"Korea, Republic of\",0.02],[\"Sri Lanka\",0.42],[\"Taiwan\",0.05],[\"Thailand\",0.2],[\"Albania\",0.07],[\"Bulgaria\",1.39],[\"Hungary\",3.17],[\"Poland\",1.96],[\"Russian Federation\",0.33],[\"Argentina\",0.84],[\"Barbados\",1.45],[\"Bolivia, Plurinational State of\",0.21],[\"Brazil\",0.34],[\"Chile\",0.75],[\"Colombia\",0.53],[\"Costa Rica\",1.03],[\"Cuba\",0.45],[\"Dominican Republic\",0.26],[\"Ecuador\",0.61],[\"El Salvador\",0.66],[\"Guatemala\",0.65],[\"Guyana\",1.34],[\"Honduras\",0.68],[\"Jamaica\",1.79],[\"Mexico\",0.8],[\"Nicaragua\",0.49],[\"Panama\",0.32],[\"Paraguay\",0.26],[\"Peru\",0.2],[\"Trinidad and Tobago\",1.29],[\"Uruguay\",0.87],[\"Venezuela, Bolivarian Republic of\",0.05],[\"Algeria\",0.27],[\"Egypt\",0.08],[\"Iran, Islamic Republic of\",0.02],[\"Iraq\",0.01],[\"Malta\",0.96],[\"Morocco\",0.01],[\"Syrian Arab Republic\",0.05],[\"Tunisia\",0.01],[\"Benin\",0.01],[\"Cameroon\",0.04],[\"Cote dIvoire\",0.19],[\"Ghana\",0.05],[\"Kenya\",0.02],[\"Malawi\",0.03],[\"Mali\",0.01],[\"Mauritius\",0.62],[\"Mozambique\",0.01],[\"Niger\",0.01],[\"R\\u00e9union\",1.03],[\"Senegal\",0.01],[\"Sierra Leone\",0.07],[\"South Africa\",1.32],[\"Sudan\",0.01],[\"Uganda\",0.01],[\"Zimbabwe\",0.08]],\"geo\":\"geo\",\"hovertemplate\":\"year=1895<br>iso_alpha=%{location}<br>country=%{customdata[0]}<br>avg_years_total_schooling=%{z}<extra></extra>\",\"locations\":[\"AUS\",\"AUT\",\"BEL\",\"CAN\",\"DNK\",\"FIN\",\"FRA\",\"DEU\",\"GRC\",\"IRL\",\"ITA\",\"JPN\",\"LUX\",\"NLD\",\"NZL\",\"NOR\",\"PRT\",\"ESP\",\"SWE\",\"CHE\",\"TUR\",\"USA\",\"GBR\",\"KHM\",\"CHN\",\"FJI\",\"HKG\",\"IND\",\"IDN\",\"MYS\",\"MMR\",\"PHL\",\"KOR\",\"LKA\",\"TWN\",\"THA\",\"ALB\",\"BGR\",\"HUN\",\"POL\",\"RUS\",\"ARG\",\"BRB\",\"BOL\",\"BRA\",\"CHL\",\"COL\",\"CRI\",\"CUB\",\"DOM\",\"ECU\",\"SLV\",\"GTM\",\"GUY\",\"HND\",\"JAM\",\"MEX\",\"NIC\",\"PAN\",\"PRY\",\"PER\",\"TTO\",\"URY\",\"VEN\",\"DZA\",\"EGY\",\"IRN\",\"IRQ\",\"MLT\",\"MAR\",\"SYR\",\"TUN\",\"BEN\",\"CMR\",null,\"GHA\",\"KEN\",\"MWI\",\"MLI\",\"MUS\",\"MOZ\",\"NER\",\"REU\",\"SEN\",\"SLE\",\"ZAF\",\"SDN\",\"UGA\",\"ZWE\"],\"name\":\"\",\"z\":[3.0,3.11,2.66,3.35,2.78,0.36,2.06,3.31,1.37,1.47,1.51,1.61,0.12,3.37,4.37,5.44,0.71,3.09,4.21,5.13,0.03,5.88,2.15,0.01,0.02,0.17,0.42,0.13,0.03,0.18,0.38,0.17,0.02,0.42,0.05,0.2,0.07,1.39,3.17,1.96,0.33,0.84,1.45,0.21,0.34,0.75,0.53,1.03,0.45,0.26,0.61,0.66,0.65,1.34,0.68,1.79,0.8,0.49,0.32,0.26,0.2,1.29,0.87,0.05,0.27,0.08,0.02,0.01,0.96,0.01,0.05,0.01,0.01,0.04,0.19,0.05,0.02,0.03,0.01,0.62,0.01,0.01,1.03,0.01,0.07,1.32,0.01,0.01,0.08],\"type\":\"choropleth\"}],\"name\":\"1895\"},{\"data\":[{\"coloraxis\":\"coloraxis\",\"customdata\":[[\"Australia\",3.11],[\"Austria\",3.41],[\"Belgium\",2.66],[\"Canada\",3.99],[\"Denmark\",2.84],[\"Finland\",1.13],[\"France\",2.32],[\"Germany\",3.48],[\"Greece\",1.64],[\"Ireland\",1.67],[\"Italy\",1.73],[\"Japan\",1.9],[\"Luxembourg\",0.15],[\"Netherlands\",3.46],[\"New Zealand\",4.52],[\"Norway\",5.72],[\"Portugal\",0.8],[\"Spain\",3.27],[\"Sweden\",4.32],[\"Switzerland\",5.31],[\"T\\u00fcrkiye\",0.17],[\"USA\",6.35],[\"United Kingdom of Great Britain and Northern Ireland\",2.55],[\"Cambodia\",0.01],[\"China\",0.02],[\"Fiji\",0.22],[\"Hong Kong\",0.5],[\"India\",0.16],[\"Indonesia\",0.04],[\"Malaysia\",0.23],[\"Myanmar\",0.44],[\"Philippines\",0.22],[\"Korea, Republic of\",0.32],[\"Sri Lanka\",0.53],[\"Taiwan\",0.07],[\"Thailand\",0.22],[\"Albania\",0.08],[\"Bulgaria\",1.59],[\"Hungary\",3.5],[\"Poland\",2.09],[\"Russian Federation\",0.43],[\"Argentina\",0.98],[\"Barbados\",1.56],[\"Bolivia, Plurinational State of\",0.25],[\"Brazil\",0.58],[\"Chile\",1.58],[\"Colombia\",0.86],[\"Costa Rica\",1.69],[\"Cuba\",0.82],[\"Dominican Republic\",0.29],[\"Ecuador\",0.95],[\"El Salvador\",0.87],[\"Guatemala\",0.89],[\"Guyana\",1.6],[\"Honduras\",0.78],[\"Jamaica\",2.05],[\"Mexico\",0.86],[\"Nicaragua\",0.89],[\"Panama\",0.9],[\"Paraguay\",0.79],[\"Peru\",0.25],[\"Trinidad and Tobago\",1.66],[\"Uruguay\",0.96],[\"Venezuela, Bolivarian Republic of\",0.45],[\"Algeria\",0.39],[\"Egypt\",0.1],[\"Iran, Islamic Republic of\",0.03],[\"Iraq\",0.02],[\"Malta\",1.3],[\"Morocco\",0.01],[\"Syrian Arab Republic\",0.06],[\"Tunisia\",0.01],[\"Benin\",0.02],[\"Cameroon\",0.05],[\"Cote dIvoire\",0.22],[\"Ghana\",0.06],[\"Kenya\",0.03],[\"Malawi\",0.03],[\"Mali\",0.01],[\"Mauritius\",1.07],[\"Mozambique\",0.01],[\"Niger\",0.01],[\"R\\u00e9union\",1.27],[\"Senegal\",0.02],[\"Sierra Leone\",0.09],[\"South Africa\",1.23],[\"Sudan\",0.02],[\"Uganda\",0.01],[\"Zimbabwe\",0.09]],\"geo\":\"geo\",\"hovertemplate\":\"year=1900<br>iso_alpha=%{location}<br>country=%{customdata[0]}<br>avg_years_total_schooling=%{z}<extra></extra>\",\"locations\":[\"AUS\",\"AUT\",\"BEL\",\"CAN\",\"DNK\",\"FIN\",\"FRA\",\"DEU\",\"GRC\",\"IRL\",\"ITA\",\"JPN\",\"LUX\",\"NLD\",\"NZL\",\"NOR\",\"PRT\",\"ESP\",\"SWE\",\"CHE\",\"TUR\",\"USA\",\"GBR\",\"KHM\",\"CHN\",\"FJI\",\"HKG\",\"IND\",\"IDN\",\"MYS\",\"MMR\",\"PHL\",\"KOR\",\"LKA\",\"TWN\",\"THA\",\"ALB\",\"BGR\",\"HUN\",\"POL\",\"RUS\",\"ARG\",\"BRB\",\"BOL\",\"BRA\",\"CHL\",\"COL\",\"CRI\",\"CUB\",\"DOM\",\"ECU\",\"SLV\",\"GTM\",\"GUY\",\"HND\",\"JAM\",\"MEX\",\"NIC\",\"PAN\",\"PRY\",\"PER\",\"TTO\",\"URY\",\"VEN\",\"DZA\",\"EGY\",\"IRN\",\"IRQ\",\"MLT\",\"MAR\",\"SYR\",\"TUN\",\"BEN\",\"CMR\",null,\"GHA\",\"KEN\",\"MWI\",\"MLI\",\"MUS\",\"MOZ\",\"NER\",\"REU\",\"SEN\",\"SLE\",\"ZAF\",\"SDN\",\"UGA\",\"ZWE\"],\"name\":\"\",\"z\":[3.11,3.41,2.66,3.99,2.84,1.13,2.32,3.48,1.64,1.67,1.73,1.9,0.15,3.46,4.52,5.72,0.8,3.27,4.32,5.31,0.17,6.35,2.55,0.01,0.02,0.22,0.5,0.16,0.04,0.23,0.44,0.22,0.32,0.53,0.07,0.22,0.08,1.59,3.5,2.09,0.43,0.98,1.56,0.25,0.58,1.58,0.86,1.69,0.82,0.29,0.95,0.87,0.89,1.6,0.78,2.05,0.86,0.89,0.9,0.79,0.25,1.66,0.96,0.45,0.39,0.1,0.03,0.02,1.3,0.01,0.06,0.01,0.02,0.05,0.22,0.06,0.03,0.03,0.01,1.07,0.01,0.01,1.27,0.02,0.09,1.23,0.02,0.01,0.09],\"type\":\"choropleth\"}],\"name\":\"1900\"},{\"data\":[{\"coloraxis\":\"coloraxis\",\"customdata\":[[\"Australia\",3.39],[\"Austria\",3.7],[\"Belgium\",2.77],[\"Canada\",4.34],[\"Denmark\",2.9],[\"Finland\",1.51],[\"France\",2.62],[\"Germany\",3.62],[\"Greece\",1.8],[\"Ireland\",1.9],[\"Italy\",1.89],[\"Japan\",2.16],[\"Luxembourg\",0.18],[\"Netherlands\",3.63],[\"New Zealand\",4.7],[\"Norway\",6.08],[\"Portugal\",0.87],[\"Spain\",3.4],[\"Sweden\",4.42],[\"Switzerland\",5.67],[\"T\\u00fcrkiye\",0.24],[\"USA\",6.71],[\"United Kingdom of Great Britain and Northern Ireland\",3.11],[\"Cambodia\",0.01],[\"China\",0.03],[\"Fiji\",0.29],[\"Hong Kong\",0.56],[\"India\",0.24],[\"Indonesia\",0.09],[\"Malaysia\",0.35],[\"Myanmar\",0.51],[\"Philippines\",0.25],[\"Korea, Republic of\",0.61],[\"Sri Lanka\",0.64],[\"Taiwan\",0.08],[\"Thailand\",0.34],[\"Albania\",0.1],[\"Bulgaria\",1.72],[\"Hungary\",4.02],[\"Poland\",2.43],[\"Russian Federation\",0.63],[\"Argentina\",1.46],[\"Barbados\",2.02],[\"Bolivia, Plurinational State of\",0.3],[\"Brazil\",0.71],[\"Chile\",1.85],[\"Colombia\",1.01],[\"Costa Rica\",1.99],[\"Cuba\",1.33],[\"Dominican Republic\",0.7],[\"Ecuador\",1.08],[\"El Salvador\",0.96],[\"Guatemala\",0.95],[\"Guyana\",1.84],[\"Honduras\",0.96],[\"Jamaica\",2.34],[\"Mexico\",1.09],[\"Nicaragua\",1.04],[\"Panama\",1.11],[\"Paraguay\",0.98],[\"Peru\",0.5],[\"Trinidad and Tobago\",2.0],[\"Uruguay\",1.04],[\"Venezuela, Bolivarian Republic of\",0.59],[\"Algeria\",0.51],[\"Egypt\",0.13],[\"Iran, Islamic Republic of\",0.04],[\"Iraq\",0.02],[\"Malta\",1.52],[\"Morocco\",0.01],[\"Syrian Arab Republic\",0.12],[\"Tunisia\",0.02],[\"Benin\",0.02],[\"Cameroon\",0.06],[\"Cote dIvoire\",0.24],[\"Ghana\",0.11],[\"Kenya\",0.14],[\"Malawi\",0.05],[\"Mali\",0.01],[\"Mauritius\",1.28],[\"Mozambique\",0.02],[\"Niger\",0.01],[\"R\\u00e9union\",1.52],[\"Senegal\",0.02],[\"Sierra Leone\",0.11],[\"South Africa\",1.25],[\"Sudan\",0.02],[\"Uganda\",0.09],[\"Zimbabwe\",0.11]],\"geo\":\"geo\",\"hovertemplate\":\"year=1905<br>iso_alpha=%{location}<br>country=%{customdata[0]}<br>avg_years_total_schooling=%{z}<extra></extra>\",\"locations\":[\"AUS\",\"AUT\",\"BEL\",\"CAN\",\"DNK\",\"FIN\",\"FRA\",\"DEU\",\"GRC\",\"IRL\",\"ITA\",\"JPN\",\"LUX\",\"NLD\",\"NZL\",\"NOR\",\"PRT\",\"ESP\",\"SWE\",\"CHE\",\"TUR\",\"USA\",\"GBR\",\"KHM\",\"CHN\",\"FJI\",\"HKG\",\"IND\",\"IDN\",\"MYS\",\"MMR\",\"PHL\",\"KOR\",\"LKA\",\"TWN\",\"THA\",\"ALB\",\"BGR\",\"HUN\",\"POL\",\"RUS\",\"ARG\",\"BRB\",\"BOL\",\"BRA\",\"CHL\",\"COL\",\"CRI\",\"CUB\",\"DOM\",\"ECU\",\"SLV\",\"GTM\",\"GUY\",\"HND\",\"JAM\",\"MEX\",\"NIC\",\"PAN\",\"PRY\",\"PER\",\"TTO\",\"URY\",\"VEN\",\"DZA\",\"EGY\",\"IRN\",\"IRQ\",\"MLT\",\"MAR\",\"SYR\",\"TUN\",\"BEN\",\"CMR\",null,\"GHA\",\"KEN\",\"MWI\",\"MLI\",\"MUS\",\"MOZ\",\"NER\",\"REU\",\"SEN\",\"SLE\",\"ZAF\",\"SDN\",\"UGA\",\"ZWE\"],\"name\":\"\",\"z\":[3.39,3.7,2.77,4.34,2.9,1.51,2.62,3.62,1.8,1.9,1.89,2.16,0.18,3.63,4.7,6.08,0.87,3.4,4.42,5.67,0.24,6.71,3.11,0.01,0.03,0.29,0.56,0.24,0.09,0.35,0.51,0.25,0.61,0.64,0.08,0.34,0.1,1.72,4.02,2.43,0.63,1.46,2.02,0.3,0.71,1.85,1.01,1.99,1.33,0.7,1.08,0.96,0.95,1.84,0.96,2.34,1.09,1.04,1.11,0.98,0.5,2.0,1.04,0.59,0.51,0.13,0.04,0.02,1.52,0.01,0.12,0.02,0.02,0.06,0.24,0.11,0.14,0.05,0.01,1.28,0.02,0.01,1.52,0.02,0.11,1.25,0.02,0.09,0.11],\"type\":\"choropleth\"}],\"name\":\"1905\"},{\"data\":[{\"coloraxis\":\"coloraxis\",\"customdata\":[[\"Australia\",3.89],[\"Austria\",4.02],[\"Belgium\",3.09],[\"Canada\",4.83],[\"Denmark\",3.17],[\"Finland\",1.61],[\"France\",2.92],[\"Germany\",3.74],[\"Greece\",2.03],[\"Ireland\",2.17],[\"Italy\",1.98],[\"Japan\",2.49],[\"Luxembourg\",0.22],[\"Netherlands\",3.8],[\"New Zealand\",5.04],[\"Norway\",6.36],[\"Portugal\",0.94],[\"Spain\",3.49],[\"Sweden\",4.5],[\"Switzerland\",6.05],[\"T\\u00fcrkiye\",0.22],[\"USA\",6.76],[\"United Kingdom of Great Britain and Northern Ireland\",3.63],[\"Cambodia\",0.01],[\"China\",0.05],[\"Fiji\",0.45],[\"Hong Kong\",0.79],[\"India\",0.32],[\"Indonesia\",0.13],[\"Malaysia\",0.47],[\"Myanmar\",0.58],[\"Philippines\",0.47],[\"Korea, Republic of\",0.83],[\"Sri Lanka\",0.92],[\"Taiwan\",0.1],[\"Thailand\",0.45],[\"Albania\",0.15],[\"Bulgaria\",2.08],[\"Hungary\",4.02],[\"Poland\",2.71],[\"Russian Federation\",0.72],[\"Argentina\",1.81],[\"Barbados\",2.0],[\"Bolivia, Plurinational State of\",0.38],[\"Brazil\",0.82],[\"Chile\",2.39],[\"Colombia\",1.46],[\"Costa Rica\",2.3],[\"Cuba\",1.58],[\"Dominican Republic\",1.06],[\"Ecuador\",1.29],[\"El Salvador\",1.19],[\"Guatemala\",1.11],[\"Guyana\",2.02],[\"Honduras\",1.11],[\"Jamaica\",2.54],[\"Mexico\",1.33],[\"Nicaragua\",1.12],[\"Panama\",1.54],[\"Paraguay\",1.41],[\"Peru\",0.73],[\"Trinidad and Tobago\",2.41],[\"Uruguay\",1.45],[\"Venezuela, Bolivarian Republic of\",0.64],[\"Algeria\",0.6],[\"Egypt\",0.17],[\"Iran, Islamic Republic of\",0.05],[\"Iraq\",0.02],[\"Malta\",1.59],[\"Morocco\",0.01],[\"Syrian Arab Republic\",0.17],[\"Tunisia\",0.08],[\"Benin\",0.02],[\"Cameroon\",0.07],[\"Cote dIvoire\",0.28],[\"Ghana\",0.16],[\"Kenya\",0.25],[\"Malawi\",0.16],[\"Mali\",0.01],[\"Mauritius\",1.48],[\"Mozambique\",0.02],[\"Niger\",0.01],[\"R\\u00e9union\",1.74],[\"Senegal\",0.03],[\"Sierra Leone\",0.15],[\"South Africa\",1.28],[\"Sudan\",0.03],[\"Uganda\",0.16],[\"Zimbabwe\",0.14]],\"geo\":\"geo\",\"hovertemplate\":\"year=1910<br>iso_alpha=%{location}<br>country=%{customdata[0]}<br>avg_years_total_schooling=%{z}<extra></extra>\",\"locations\":[\"AUS\",\"AUT\",\"BEL\",\"CAN\",\"DNK\",\"FIN\",\"FRA\",\"DEU\",\"GRC\",\"IRL\",\"ITA\",\"JPN\",\"LUX\",\"NLD\",\"NZL\",\"NOR\",\"PRT\",\"ESP\",\"SWE\",\"CHE\",\"TUR\",\"USA\",\"GBR\",\"KHM\",\"CHN\",\"FJI\",\"HKG\",\"IND\",\"IDN\",\"MYS\",\"MMR\",\"PHL\",\"KOR\",\"LKA\",\"TWN\",\"THA\",\"ALB\",\"BGR\",\"HUN\",\"POL\",\"RUS\",\"ARG\",\"BRB\",\"BOL\",\"BRA\",\"CHL\",\"COL\",\"CRI\",\"CUB\",\"DOM\",\"ECU\",\"SLV\",\"GTM\",\"GUY\",\"HND\",\"JAM\",\"MEX\",\"NIC\",\"PAN\",\"PRY\",\"PER\",\"TTO\",\"URY\",\"VEN\",\"DZA\",\"EGY\",\"IRN\",\"IRQ\",\"MLT\",\"MAR\",\"SYR\",\"TUN\",\"BEN\",\"CMR\",null,\"GHA\",\"KEN\",\"MWI\",\"MLI\",\"MUS\",\"MOZ\",\"NER\",\"REU\",\"SEN\",\"SLE\",\"ZAF\",\"SDN\",\"UGA\",\"ZWE\"],\"name\":\"\",\"z\":[3.89,4.02,3.09,4.83,3.17,1.61,2.92,3.74,2.03,2.17,1.98,2.49,0.22,3.8,5.04,6.36,0.94,3.49,4.5,6.05,0.22,6.76,3.63,0.01,0.05,0.45,0.79,0.32,0.13,0.47,0.58,0.47,0.83,0.92,0.1,0.45,0.15,2.08,4.02,2.71,0.72,1.81,2.0,0.38,0.82,2.39,1.46,2.3,1.58,1.06,1.29,1.19,1.11,2.02,1.11,2.54,1.33,1.12,1.54,1.41,0.73,2.41,1.45,0.64,0.6,0.17,0.05,0.02,1.59,0.01,0.17,0.08,0.02,0.07,0.28,0.16,0.25,0.16,0.01,1.48,0.02,0.01,1.74,0.03,0.15,1.28,0.03,0.16,0.14],\"type\":\"choropleth\"}],\"name\":\"1910\"},{\"data\":[{\"coloraxis\":\"coloraxis\",\"customdata\":[[\"Australia\",4.31],[\"Austria\",4.33],[\"Belgium\",3.26],[\"Canada\",5.19],[\"Denmark\",3.39],[\"Finland\",1.97],[\"France\",3.17],[\"Germany\",4.42],[\"Greece\",2.29],[\"Ireland\",2.48],[\"Italy\",2.24],[\"Japan\",2.96],[\"Luxembourg\",0.27],[\"Netherlands\",3.99],[\"New Zealand\",5.48],[\"Norway\",6.62],[\"Portugal\",1.01],[\"Spain\",3.38],[\"Sweden\",4.59],[\"Switzerland\",6.37],[\"T\\u00fcrkiye\",0.31],[\"USA\",6.97],[\"United Kingdom of Great Britain and Northern Ireland\",4.07],[\"Cambodia\",0.01],[\"China\",0.06],[\"Fiji\",0.63],[\"Hong Kong\",1.03],[\"India\",0.41],[\"Indonesia\",0.17],[\"Malaysia\",0.6],[\"Myanmar\",0.87],[\"Philippines\",0.71],[\"Korea, Republic of\",1.53],[\"Sri Lanka\",1.21],[\"Taiwan\",0.13],[\"Thailand\",0.54],[\"Albania\",0.25],[\"Bulgaria\",3.04],[\"Hungary\",4.3],[\"Poland\",2.95],[\"Russian Federation\",0.91],[\"Argentina\",2.35],[\"Barbados\",2.34],[\"Bolivia, Plurinational State of\",0.48],[\"Brazil\",0.95],[\"Chile\",2.92],[\"Colombia\",1.65],[\"Costa Rica\",2.52],[\"Cuba\",2.03],[\"Dominican Republic\",1.3],[\"Ecuador\",1.46],[\"El Salvador\",1.24],[\"Guatemala\",1.23],[\"Guyana\",2.35],[\"Honduras\",1.23],[\"Jamaica\",2.68],[\"Mexico\",1.47],[\"Nicaragua\",1.2],[\"Panama\",1.79],[\"Paraguay\",1.61],[\"Peru\",0.91],[\"Trinidad and Tobago\",2.92],[\"Uruguay\",1.85],[\"Venezuela, Bolivarian Republic of\",0.76],[\"Algeria\",0.58],[\"Egypt\",0.23],[\"Iran, Islamic Republic of\",0.2],[\"Iraq\",0.02],[\"Malta\",1.82],[\"Morocco\",0.04],[\"Syrian Arab Republic\",0.21],[\"Tunisia\",0.13],[\"Benin\",0.03],[\"Cameroon\",0.08],[\"Cote dIvoire\",0.31],[\"Ghana\",0.2],[\"Kenya\",0.33],[\"Malawi\",0.26],[\"Mali\",0.01],[\"Mauritius\",1.63],[\"Mozambique\",0.03],[\"Niger\",0.01],[\"R\\u00e9union\",1.82],[\"Senegal\",0.03],[\"Sierra Leone\",0.18],[\"South Africa\",1.62],[\"Sudan\",0.15],[\"Uganda\",0.21],[\"Zimbabwe\",0.18]],\"geo\":\"geo\",\"hovertemplate\":\"year=1915<br>iso_alpha=%{location}<br>country=%{customdata[0]}<br>avg_years_total_schooling=%{z}<extra></extra>\",\"locations\":[\"AUS\",\"AUT\",\"BEL\",\"CAN\",\"DNK\",\"FIN\",\"FRA\",\"DEU\",\"GRC\",\"IRL\",\"ITA\",\"JPN\",\"LUX\",\"NLD\",\"NZL\",\"NOR\",\"PRT\",\"ESP\",\"SWE\",\"CHE\",\"TUR\",\"USA\",\"GBR\",\"KHM\",\"CHN\",\"FJI\",\"HKG\",\"IND\",\"IDN\",\"MYS\",\"MMR\",\"PHL\",\"KOR\",\"LKA\",\"TWN\",\"THA\",\"ALB\",\"BGR\",\"HUN\",\"POL\",\"RUS\",\"ARG\",\"BRB\",\"BOL\",\"BRA\",\"CHL\",\"COL\",\"CRI\",\"CUB\",\"DOM\",\"ECU\",\"SLV\",\"GTM\",\"GUY\",\"HND\",\"JAM\",\"MEX\",\"NIC\",\"PAN\",\"PRY\",\"PER\",\"TTO\",\"URY\",\"VEN\",\"DZA\",\"EGY\",\"IRN\",\"IRQ\",\"MLT\",\"MAR\",\"SYR\",\"TUN\",\"BEN\",\"CMR\",null,\"GHA\",\"KEN\",\"MWI\",\"MLI\",\"MUS\",\"MOZ\",\"NER\",\"REU\",\"SEN\",\"SLE\",\"ZAF\",\"SDN\",\"UGA\",\"ZWE\"],\"name\":\"\",\"z\":[4.31,4.33,3.26,5.19,3.39,1.97,3.17,4.42,2.29,2.48,2.24,2.96,0.27,3.99,5.48,6.62,1.01,3.38,4.59,6.37,0.31,6.97,4.07,0.01,0.06,0.63,1.03,0.41,0.17,0.6,0.87,0.71,1.53,1.21,0.13,0.54,0.25,3.04,4.3,2.95,0.91,2.35,2.34,0.48,0.95,2.92,1.65,2.52,2.03,1.3,1.46,1.24,1.23,2.35,1.23,2.68,1.47,1.2,1.79,1.61,0.91,2.92,1.85,0.76,0.58,0.23,0.2,0.02,1.82,0.04,0.21,0.13,0.03,0.08,0.31,0.2,0.33,0.26,0.01,1.63,0.03,0.01,1.82,0.03,0.18,1.62,0.15,0.21,0.18],\"type\":\"choropleth\"}],\"name\":\"1915\"},{\"data\":[{\"coloraxis\":\"coloraxis\",\"customdata\":[[\"Australia\",4.72],[\"Austria\",4.71],[\"Belgium\",3.48],[\"Canada\",5.54],[\"Denmark\",3.64],[\"Finland\",2.34],[\"France\",3.44],[\"Germany\",5.07],[\"Greece\",2.42],[\"Ireland\",2.82],[\"Italy\",2.55],[\"Japan\",3.92],[\"Luxembourg\",0.36],[\"Netherlands\",4.16],[\"New Zealand\",5.87],[\"Norway\",6.55],[\"Portugal\",1.17],[\"Spain\",3.28],[\"Sweden\",4.84],[\"Switzerland\",7.11],[\"T\\u00fcrkiye\",0.39],[\"USA\",7.2],[\"United Kingdom of Great Britain and Northern Ireland\",4.49],[\"Cambodia\",0.02],[\"China\",0.09],[\"Fiji\",1.03],[\"Hong Kong\",1.23],[\"India\",0.52],[\"Indonesia\",0.43],[\"Malaysia\",0.79],[\"Myanmar\",0.94],[\"Philippines\",0.93],[\"Korea, Republic of\",1.96],[\"Sri Lanka\",1.46],[\"Taiwan\",0.56],[\"Thailand\",0.57],[\"Albania\",0.37],[\"Bulgaria\",3.36],[\"Hungary\",4.5],[\"Poland\",3.41],[\"Russian Federation\",1.26],[\"Argentina\",2.94],[\"Barbados\",2.76],[\"Bolivia, Plurinational State of\",0.7],[\"Brazil\",1.09],[\"Chile\",3.43],[\"Colombia\",1.82],[\"Costa Rica\",2.79],[\"Cuba\",2.28],[\"Dominican Republic\",1.53],[\"Ecuador\",1.62],[\"El Salvador\",1.31],[\"Guatemala\",1.34],[\"Guyana\",2.64],[\"Honduras\",1.53],[\"Jamaica\",2.82],[\"Mexico\",1.47],[\"Nicaragua\",1.31],[\"Panama\",1.99],[\"Paraguay\",1.86],[\"Peru\",1.45],[\"Trinidad and Tobago\",3.28],[\"Uruguay\",2.16],[\"Venezuela, Bolivarian Republic of\",0.86],[\"Algeria\",0.65],[\"Egypt\",0.32],[\"Iran, Islamic Republic of\",0.23],[\"Iraq\",0.02],[\"Malta\",2.02],[\"Morocco\",0.07],[\"Syrian Arab Republic\",0.37],[\"Tunisia\",0.17],[\"Benin\",0.04],[\"Cameroon\",0.12],[\"Cote dIvoire\",0.35],[\"Ghana\",0.28],[\"Kenya\",0.66],[\"Malawi\",0.34],[\"Mali\",0.02],[\"Mauritius\",1.78],[\"Mozambique\",0.03],[\"Niger\",0.07],[\"R\\u00e9union\",1.99],[\"Senegal\",0.3],[\"Sierra Leone\",0.21],[\"South Africa\",2.39],[\"Sudan\",0.16],[\"Uganda\",0.45],[\"Zimbabwe\",0.24]],\"geo\":\"geo\",\"hovertemplate\":\"year=1920<br>iso_alpha=%{location}<br>country=%{customdata[0]}<br>avg_years_total_schooling=%{z}<extra></extra>\",\"locations\":[\"AUS\",\"AUT\",\"BEL\",\"CAN\",\"DNK\",\"FIN\",\"FRA\",\"DEU\",\"GRC\",\"IRL\",\"ITA\",\"JPN\",\"LUX\",\"NLD\",\"NZL\",\"NOR\",\"PRT\",\"ESP\",\"SWE\",\"CHE\",\"TUR\",\"USA\",\"GBR\",\"KHM\",\"CHN\",\"FJI\",\"HKG\",\"IND\",\"IDN\",\"MYS\",\"MMR\",\"PHL\",\"KOR\",\"LKA\",\"TWN\",\"THA\",\"ALB\",\"BGR\",\"HUN\",\"POL\",\"RUS\",\"ARG\",\"BRB\",\"BOL\",\"BRA\",\"CHL\",\"COL\",\"CRI\",\"CUB\",\"DOM\",\"ECU\",\"SLV\",\"GTM\",\"GUY\",\"HND\",\"JAM\",\"MEX\",\"NIC\",\"PAN\",\"PRY\",\"PER\",\"TTO\",\"URY\",\"VEN\",\"DZA\",\"EGY\",\"IRN\",\"IRQ\",\"MLT\",\"MAR\",\"SYR\",\"TUN\",\"BEN\",\"CMR\",null,\"GHA\",\"KEN\",\"MWI\",\"MLI\",\"MUS\",\"MOZ\",\"NER\",\"REU\",\"SEN\",\"SLE\",\"ZAF\",\"SDN\",\"UGA\",\"ZWE\"],\"name\":\"\",\"z\":[4.72,4.71,3.48,5.54,3.64,2.34,3.44,5.07,2.42,2.82,2.55,3.92,0.36,4.16,5.87,6.55,1.17,3.28,4.84,7.11,0.39,7.2,4.49,0.02,0.09,1.03,1.23,0.52,0.43,0.79,0.94,0.93,1.96,1.46,0.56,0.57,0.37,3.36,4.5,3.41,1.26,2.94,2.76,0.7,1.09,3.43,1.82,2.79,2.28,1.53,1.62,1.31,1.34,2.64,1.53,2.82,1.47,1.31,1.99,1.86,1.45,3.28,2.16,0.86,0.65,0.32,0.23,0.02,2.02,0.07,0.37,0.17,0.04,0.12,0.35,0.28,0.66,0.34,0.02,1.78,0.03,0.07,1.99,0.3,0.21,2.39,0.16,0.45,0.24],\"type\":\"choropleth\"}],\"name\":\"1920\"},{\"data\":[{\"coloraxis\":\"coloraxis\",\"customdata\":[[\"Australia\",5.48],[\"Austria\",5.09],[\"Belgium\",3.76],[\"Canada\",5.92],[\"Denmark\",3.93],[\"Finland\",2.74],[\"France\",3.64],[\"Germany\",5.55],[\"Greece\",2.61],[\"Ireland\",3.35],[\"Italy\",2.85],[\"Japan\",4.46],[\"Luxembourg\",0.44],[\"Netherlands\",4.34],[\"New Zealand\",6.31],[\"Norway\",6.75],[\"Portugal\",1.26],[\"Spain\",3.2],[\"Sweden\",5.06],[\"Switzerland\",7.45],[\"T\\u00fcrkiye\",0.48],[\"USA\",7.56],[\"United Kingdom of Great Britain and Northern Ireland\",4.93],[\"Cambodia\",0.02],[\"China\",0.16],[\"Fiji\",1.81],[\"Hong Kong\",2.17],[\"India\",0.61],[\"Indonesia\",0.52],[\"Malaysia\",1.09],[\"Myanmar\",1.0],[\"Philippines\",1.16],[\"Korea, Republic of\",2.37],[\"Sri Lanka\",2.14],[\"Taiwan\",0.91],[\"Thailand\",0.64],[\"Albania\",0.52],[\"Bulgaria\",3.51],[\"Hungary\",4.73],[\"Poland\",3.62],[\"Russian Federation\",1.54],[\"Argentina\",3.29],[\"Barbados\",3.03],[\"Bolivia, Plurinational State of\",0.87],[\"Brazil\",1.2],[\"Chile\",3.86],[\"Colombia\",2.05],[\"Costa Rica\",3.06],[\"Cuba\",2.61],[\"Dominican Republic\",1.85],[\"Ecuador\",1.72],[\"El Salvador\",1.38],[\"Guatemala\",1.31],[\"Guyana\",2.81],[\"Honduras\",1.57],[\"Jamaica\",2.93],[\"Mexico\",1.6],[\"Nicaragua\",1.45],[\"Panama\",2.2],[\"Paraguay\",2.21],[\"Peru\",1.69],[\"Trinidad and Tobago\",3.55],[\"Uruguay\",2.84],[\"Venezuela, Bolivarian Republic of\",0.95],[\"Algeria\",0.71],[\"Egypt\",0.42],[\"Iran, Islamic Republic of\",0.25],[\"Iraq\",0.03],[\"Malta\",2.19],[\"Morocco\",0.1],[\"Syrian Arab Republic\",0.44],[\"Tunisia\",0.2],[\"Benin\",0.12],[\"Cameroon\",0.16],[\"Cote dIvoire\",0.4],[\"Ghana\",0.33],[\"Kenya\",0.73],[\"Malawi\",0.44],[\"Mali\",0.03],[\"Mauritius\",1.93],[\"Mozambique\",0.07],[\"Niger\",0.12],[\"R\\u00e9union\",2.17],[\"Senegal\",0.54],[\"Sierra Leone\",0.22],[\"South Africa\",2.76],[\"Sudan\",0.18],[\"Uganda\",0.48],[\"Zimbabwe\",0.37]],\"geo\":\"geo\",\"hovertemplate\":\"year=1925<br>iso_alpha=%{location}<br>country=%{customdata[0]}<br>avg_years_total_schooling=%{z}<extra></extra>\",\"locations\":[\"AUS\",\"AUT\",\"BEL\",\"CAN\",\"DNK\",\"FIN\",\"FRA\",\"DEU\",\"GRC\",\"IRL\",\"ITA\",\"JPN\",\"LUX\",\"NLD\",\"NZL\",\"NOR\",\"PRT\",\"ESP\",\"SWE\",\"CHE\",\"TUR\",\"USA\",\"GBR\",\"KHM\",\"CHN\",\"FJI\",\"HKG\",\"IND\",\"IDN\",\"MYS\",\"MMR\",\"PHL\",\"KOR\",\"LKA\",\"TWN\",\"THA\",\"ALB\",\"BGR\",\"HUN\",\"POL\",\"RUS\",\"ARG\",\"BRB\",\"BOL\",\"BRA\",\"CHL\",\"COL\",\"CRI\",\"CUB\",\"DOM\",\"ECU\",\"SLV\",\"GTM\",\"GUY\",\"HND\",\"JAM\",\"MEX\",\"NIC\",\"PAN\",\"PRY\",\"PER\",\"TTO\",\"URY\",\"VEN\",\"DZA\",\"EGY\",\"IRN\",\"IRQ\",\"MLT\",\"MAR\",\"SYR\",\"TUN\",\"BEN\",\"CMR\",null,\"GHA\",\"KEN\",\"MWI\",\"MLI\",\"MUS\",\"MOZ\",\"NER\",\"REU\",\"SEN\",\"SLE\",\"ZAF\",\"SDN\",\"UGA\",\"ZWE\"],\"name\":\"\",\"z\":[5.48,5.09,3.76,5.92,3.93,2.74,3.64,5.55,2.61,3.35,2.85,4.46,0.44,4.34,6.31,6.75,1.26,3.2,5.06,7.45,0.48,7.56,4.93,0.02,0.16,1.81,2.17,0.61,0.52,1.09,1.0,1.16,2.37,2.14,0.91,0.64,0.52,3.51,4.73,3.62,1.54,3.29,3.03,0.87,1.2,3.86,2.05,3.06,2.61,1.85,1.72,1.38,1.31,2.81,1.57,2.93,1.6,1.45,2.2,2.21,1.69,3.55,2.84,0.95,0.71,0.42,0.25,0.03,2.19,0.1,0.44,0.2,0.12,0.16,0.4,0.33,0.73,0.44,0.03,1.93,0.07,0.12,2.17,0.54,0.22,2.76,0.18,0.48,0.37],\"type\":\"choropleth\"}],\"name\":\"1925\"},{\"data\":[{\"coloraxis\":\"coloraxis\",\"customdata\":[[\"Australia\",6.03],[\"Austria\",5.56],[\"Belgium\",4.27],[\"Canada\",6.35],[\"Denmark\",4.26],[\"Finland\",3.08],[\"France\",3.77],[\"Germany\",5.57],[\"Greece\",2.98],[\"Ireland\",3.75],[\"Italy\",3.08],[\"Japan\",4.96],[\"Luxembourg\",0.56],[\"Netherlands\",4.5],[\"New Zealand\",6.84],[\"Norway\",6.91],[\"Portugal\",1.34],[\"Spain\",3.31],[\"Sweden\",5.64],[\"Switzerland\",7.72],[\"T\\u00fcrkiye\",0.57],[\"USA\",7.9],[\"United Kingdom of Great Britain and Northern Ireland\",5.42],[\"Cambodia\",0.03],[\"China\",0.25],[\"Fiji\",2.16],[\"Hong Kong\",2.58],[\"India\",0.72],[\"Indonesia\",0.6],[\"Malaysia\",1.37],[\"Myanmar\",1.11],[\"Philippines\",1.4],[\"Korea, Republic of\",2.8],[\"Sri Lanka\",2.46],[\"Taiwan\",1.36],[\"Thailand\",0.76],[\"Albania\",0.68],[\"Bulgaria\",3.51],[\"Hungary\",5.01],[\"Poland\",3.93],[\"Russian Federation\",1.88],[\"Argentina\",3.72],[\"Barbados\",3.26],[\"Bolivia, Plurinational State of\",1.03],[\"Brazil\",1.37],[\"Chile\",4.08],[\"Colombia\",2.21],[\"Costa Rica\",3.2],[\"Cuba\",2.96],[\"Dominican Republic\",2.21],[\"Ecuador\",1.9],[\"El Salvador\",1.44],[\"Guatemala\",1.32],[\"Guyana\",3.04],[\"Honduras\",1.55],[\"Jamaica\",3.04],[\"Mexico\",1.7],[\"Nicaragua\",1.51],[\"Panama\",2.53],[\"Paraguay\",2.39],[\"Peru\",1.9],[\"Trinidad and Tobago\",3.93],[\"Uruguay\",3.11],[\"Venezuela, Bolivarian Republic of\",1.0],[\"Algeria\",0.74],[\"Egypt\",0.46],[\"Iran, Islamic Republic of\",0.27],[\"Iraq\",0.04],[\"Malta\",2.29],[\"Morocco\",0.16],[\"Syrian Arab Republic\",0.5],[\"Tunisia\",0.25],[\"Benin\",0.2],[\"Cameroon\",0.21],[\"Cote dIvoire\",0.45],[\"Ghana\",0.37],[\"Kenya\",0.8],[\"Malawi\",0.54],[\"Mali\",0.04],[\"Mauritius\",2.09],[\"Mozambique\",0.12],[\"Niger\",0.16],[\"R\\u00e9union\",2.36],[\"Senegal\",0.72],[\"Sierra Leone\",0.24],[\"South Africa\",3.09],[\"Sudan\",0.22],[\"Uganda\",0.52],[\"Zimbabwe\",0.57]],\"geo\":\"geo\",\"hovertemplate\":\"year=1930<br>iso_alpha=%{location}<br>country=%{customdata[0]}<br>avg_years_total_schooling=%{z}<extra></extra>\",\"locations\":[\"AUS\",\"AUT\",\"BEL\",\"CAN\",\"DNK\",\"FIN\",\"FRA\",\"DEU\",\"GRC\",\"IRL\",\"ITA\",\"JPN\",\"LUX\",\"NLD\",\"NZL\",\"NOR\",\"PRT\",\"ESP\",\"SWE\",\"CHE\",\"TUR\",\"USA\",\"GBR\",\"KHM\",\"CHN\",\"FJI\",\"HKG\",\"IND\",\"IDN\",\"MYS\",\"MMR\",\"PHL\",\"KOR\",\"LKA\",\"TWN\",\"THA\",\"ALB\",\"BGR\",\"HUN\",\"POL\",\"RUS\",\"ARG\",\"BRB\",\"BOL\",\"BRA\",\"CHL\",\"COL\",\"CRI\",\"CUB\",\"DOM\",\"ECU\",\"SLV\",\"GTM\",\"GUY\",\"HND\",\"JAM\",\"MEX\",\"NIC\",\"PAN\",\"PRY\",\"PER\",\"TTO\",\"URY\",\"VEN\",\"DZA\",\"EGY\",\"IRN\",\"IRQ\",\"MLT\",\"MAR\",\"SYR\",\"TUN\",\"BEN\",\"CMR\",null,\"GHA\",\"KEN\",\"MWI\",\"MLI\",\"MUS\",\"MOZ\",\"NER\",\"REU\",\"SEN\",\"SLE\",\"ZAF\",\"SDN\",\"UGA\",\"ZWE\"],\"name\":\"\",\"z\":[6.03,5.56,4.27,6.35,4.26,3.08,3.77,5.57,2.98,3.75,3.08,4.96,0.56,4.5,6.84,6.91,1.34,3.31,5.64,7.72,0.57,7.9,5.42,0.03,0.25,2.16,2.58,0.72,0.6,1.37,1.11,1.4,2.8,2.46,1.36,0.76,0.68,3.51,5.01,3.93,1.88,3.72,3.26,1.03,1.37,4.08,2.21,3.2,2.96,2.21,1.9,1.44,1.32,3.04,1.55,3.04,1.7,1.51,2.53,2.39,1.9,3.93,3.11,1.0,0.74,0.46,0.27,0.04,2.29,0.16,0.5,0.25,0.2,0.21,0.45,0.37,0.8,0.54,0.04,2.09,0.12,0.16,2.36,0.72,0.24,3.09,0.22,0.52,0.57],\"type\":\"choropleth\"}],\"name\":\"1930\"},{\"data\":[{\"coloraxis\":\"coloraxis\",\"customdata\":[[\"Australia\",6.57],[\"Austria\",5.94],[\"Belgium\",4.65],[\"Canada\",6.85],[\"Denmark\",4.59],[\"Finland\",3.4],[\"France\",3.92],[\"Germany\",5.94],[\"Greece\",3.56],[\"Ireland\",4.38],[\"Italy\",3.36],[\"Japan\",5.34],[\"Luxembourg\",1.4],[\"Netherlands\",4.73],[\"New Zealand\",7.57],[\"Norway\",7.04],[\"Portugal\",1.46],[\"Spain\",3.31],[\"Sweden\",5.89],[\"Switzerland\",7.96],[\"T\\u00fcrkiye\",0.69],[\"USA\",8.34],[\"United Kingdom of Great Britain and Northern Ireland\",5.94],[\"Cambodia\",0.04],[\"China\",0.35],[\"Fiji\",2.5],[\"Hong Kong\",3.04],[\"India\",0.81],[\"Indonesia\",0.71],[\"Malaysia\",1.59],[\"Myanmar\",1.17],[\"Philippines\",1.69],[\"Korea, Republic of\",3.24],[\"Sri Lanka\",2.77],[\"Taiwan\",1.78],[\"Thailand\",1.0],[\"Albania\",0.86],[\"Bulgaria\",3.54],[\"Hungary\",5.39],[\"Poland\",4.38],[\"Russian Federation\",2.45],[\"Argentina\",4.04],[\"Barbados\",3.6],[\"Bolivia, Plurinational State of\",1.72],[\"Brazil\",1.54],[\"Chile\",4.31],[\"Colombia\",2.35],[\"Costa Rica\",3.35],[\"Cuba\",3.16],[\"Dominican Republic\",2.3],[\"Ecuador\",2.12],[\"El Salvador\",1.44],[\"Guatemala\",1.44],[\"Guyana\",3.27],[\"Honduras\",1.51],[\"Jamaica\",3.25],[\"Mexico\",1.98],[\"Nicaragua\",1.53],[\"Panama\",2.95],[\"Paraguay\",2.59],[\"Peru\",2.15],[\"Trinidad and Tobago\",4.3],[\"Uruguay\",3.38],[\"Venezuela, Bolivarian Republic of\",1.17],[\"Algeria\",0.78],[\"Egypt\",0.31],[\"Iran, Islamic Republic of\",0.3],[\"Iraq\",0.05],[\"Malta\",2.55],[\"Morocco\",0.19],[\"Syrian Arab Republic\",0.6],[\"Tunisia\",0.43],[\"Benin\",0.27],[\"Cameroon\",0.3],[\"Cote dIvoire\",0.46],[\"Ghana\",0.46],[\"Kenya\",0.88],[\"Malawi\",0.64],[\"Mali\",0.1],[\"Mauritius\",2.26],[\"Mozambique\",0.16],[\"Niger\",0.25],[\"R\\u00e9union\",2.43],[\"Senegal\",1.17],[\"Sierra Leone\",0.26],[\"South Africa\",3.42],[\"Sudan\",0.24],[\"Uganda\",0.55],[\"Zimbabwe\",0.93]],\"geo\":\"geo\",\"hovertemplate\":\"year=1935<br>iso_alpha=%{location}<br>country=%{customdata[0]}<br>avg_years_total_schooling=%{z}<extra></extra>\",\"locations\":[\"AUS\",\"AUT\",\"BEL\",\"CAN\",\"DNK\",\"FIN\",\"FRA\",\"DEU\",\"GRC\",\"IRL\",\"ITA\",\"JPN\",\"LUX\",\"NLD\",\"NZL\",\"NOR\",\"PRT\",\"ESP\",\"SWE\",\"CHE\",\"TUR\",\"USA\",\"GBR\",\"KHM\",\"CHN\",\"FJI\",\"HKG\",\"IND\",\"IDN\",\"MYS\",\"MMR\",\"PHL\",\"KOR\",\"LKA\",\"TWN\",\"THA\",\"ALB\",\"BGR\",\"HUN\",\"POL\",\"RUS\",\"ARG\",\"BRB\",\"BOL\",\"BRA\",\"CHL\",\"COL\",\"CRI\",\"CUB\",\"DOM\",\"ECU\",\"SLV\",\"GTM\",\"GUY\",\"HND\",\"JAM\",\"MEX\",\"NIC\",\"PAN\",\"PRY\",\"PER\",\"TTO\",\"URY\",\"VEN\",\"DZA\",\"EGY\",\"IRN\",\"IRQ\",\"MLT\",\"MAR\",\"SYR\",\"TUN\",\"BEN\",\"CMR\",null,\"GHA\",\"KEN\",\"MWI\",\"MLI\",\"MUS\",\"MOZ\",\"NER\",\"REU\",\"SEN\",\"SLE\",\"ZAF\",\"SDN\",\"UGA\",\"ZWE\"],\"name\":\"\",\"z\":[6.57,5.94,4.65,6.85,4.59,3.4,3.92,5.94,3.56,4.38,3.36,5.34,1.4,4.73,7.57,7.04,1.46,3.31,5.89,7.96,0.69,8.34,5.94,0.04,0.35,2.5,3.04,0.81,0.71,1.59,1.17,1.69,3.24,2.77,1.78,1.0,0.86,3.54,5.39,4.38,2.45,4.04,3.6,1.72,1.54,4.31,2.35,3.35,3.16,2.3,2.12,1.44,1.44,3.27,1.51,3.25,1.98,1.53,2.95,2.59,2.15,4.3,3.38,1.17,0.78,0.31,0.3,0.05,2.55,0.19,0.6,0.43,0.27,0.3,0.46,0.46,0.88,0.64,0.1,2.26,0.16,0.25,2.43,1.17,0.26,3.42,0.24,0.55,0.93],\"type\":\"choropleth\"}],\"name\":\"1935\"},{\"data\":[{\"coloraxis\":\"coloraxis\",\"customdata\":[[\"Australia\",7.03],[\"Austria\",5.95],[\"Belgium\",5.17],[\"Canada\",7.14],[\"Denmark\",4.89],[\"Finland\",3.5],[\"France\",4.1],[\"Germany\",6.24],[\"Greece\",3.94],[\"Ireland\",5.15],[\"Italy\",3.72],[\"Japan\",5.66],[\"Luxembourg\",2.18],[\"Netherlands\",4.95],[\"New Zealand\",7.95],[\"Norway\",7.19],[\"Portugal\",1.65],[\"Spain\",3.42],[\"Sweden\",6.16],[\"Switzerland\",8.21],[\"T\\u00fcrkiye\",0.78],[\"USA\",8.68],[\"United Kingdom of Great Britain and Northern Ireland\",6.24],[\"Cambodia\",0.07],[\"China\",1.32],[\"Fiji\",2.8],[\"Hong Kong\",3.7],[\"India\",0.88],[\"Indonesia\",0.82],[\"Malaysia\",1.8],[\"Myanmar\",1.24],[\"Philippines\",1.8],[\"Korea, Republic of\",3.63],[\"Sri Lanka\",3.05],[\"Taiwan\",2.13],[\"Thailand\",1.26],[\"Albania\",1.1],[\"Bulgaria\",3.78],[\"Hungary\",5.96],[\"Poland\",4.87],[\"Russian Federation\",3.06],[\"Argentina\",4.33],[\"Barbados\",3.98],[\"Bolivia, Plurinational State of\",1.93],[\"Brazil\",1.69],[\"Chile\",4.59],[\"Colombia\",2.44],[\"Costa Rica\",3.5],[\"Cuba\",3.31],[\"Dominican Republic\",2.3],[\"Ecuador\",2.27],[\"El Salvador\",1.44],[\"Guatemala\",1.45],[\"Guyana\",3.51],[\"Honduras\",1.52],[\"Jamaica\",3.43],[\"Mexico\",2.25],[\"Nicaragua\",1.55],[\"Panama\",3.22],[\"Paraguay\",2.76],[\"Peru\",2.4],[\"Trinidad and Tobago\",4.61],[\"Uruguay\",3.72],[\"Venezuela, Bolivarian Republic of\",1.34],[\"Algeria\",0.8],[\"Egypt\",0.36],[\"Iran, Islamic Republic of\",0.4],[\"Iraq\",0.1],[\"Malta\",2.8],[\"Morocco\",0.22],[\"Syrian Arab Republic\",0.7],[\"Tunisia\",0.51],[\"Benin\",0.41],[\"Cameroon\",0.38],[\"Cote dIvoire\",0.48],[\"Ghana\",0.52],[\"Kenya\",0.95],[\"Malawi\",0.74],[\"Mali\",0.11],[\"Mauritius\",2.32],[\"Mozambique\",0.4],[\"Niger\",0.28],[\"R\\u00e9union\",2.48],[\"Senegal\",1.32],[\"Sierra Leone\",0.31],[\"South Africa\",3.7],[\"Sudan\",0.27],[\"Uganda\",0.58],[\"Zimbabwe\",1.2]],\"geo\":\"geo\",\"hovertemplate\":\"year=1940<br>iso_alpha=%{location}<br>country=%{customdata[0]}<br>avg_years_total_schooling=%{z}<extra></extra>\",\"locations\":[\"AUS\",\"AUT\",\"BEL\",\"CAN\",\"DNK\",\"FIN\",\"FRA\",\"DEU\",\"GRC\",\"IRL\",\"ITA\",\"JPN\",\"LUX\",\"NLD\",\"NZL\",\"NOR\",\"PRT\",\"ESP\",\"SWE\",\"CHE\",\"TUR\",\"USA\",\"GBR\",\"KHM\",\"CHN\",\"FJI\",\"HKG\",\"IND\",\"IDN\",\"MYS\",\"MMR\",\"PHL\",\"KOR\",\"LKA\",\"TWN\",\"THA\",\"ALB\",\"BGR\",\"HUN\",\"POL\",\"RUS\",\"ARG\",\"BRB\",\"BOL\",\"BRA\",\"CHL\",\"COL\",\"CRI\",\"CUB\",\"DOM\",\"ECU\",\"SLV\",\"GTM\",\"GUY\",\"HND\",\"JAM\",\"MEX\",\"NIC\",\"PAN\",\"PRY\",\"PER\",\"TTO\",\"URY\",\"VEN\",\"DZA\",\"EGY\",\"IRN\",\"IRQ\",\"MLT\",\"MAR\",\"SYR\",\"TUN\",\"BEN\",\"CMR\",null,\"GHA\",\"KEN\",\"MWI\",\"MLI\",\"MUS\",\"MOZ\",\"NER\",\"REU\",\"SEN\",\"SLE\",\"ZAF\",\"SDN\",\"UGA\",\"ZWE\"],\"name\":\"\",\"z\":[7.03,5.95,5.17,7.14,4.89,3.5,4.1,6.24,3.94,5.15,3.72,5.66,2.18,4.95,7.95,7.19,1.65,3.42,6.16,8.21,0.78,8.68,6.24,0.07,1.32,2.8,3.7,0.88,0.82,1.8,1.24,1.8,3.63,3.05,2.13,1.26,1.1,3.78,5.96,4.87,3.06,4.33,3.98,1.93,1.69,4.59,2.44,3.5,3.31,2.3,2.27,1.44,1.45,3.51,1.52,3.43,2.25,1.55,3.22,2.76,2.4,4.61,3.72,1.34,0.8,0.36,0.4,0.1,2.8,0.22,0.7,0.51,0.41,0.38,0.48,0.52,0.95,0.74,0.11,2.32,0.4,0.28,2.48,1.32,0.31,3.7,0.27,0.58,1.2],\"type\":\"choropleth\"}],\"name\":\"1940\"},{\"data\":[{\"coloraxis\":\"coloraxis\",\"customdata\":[[\"Australia\",7.48],[\"Austria\",5.84],[\"Belgium\",5.93],[\"Canada\",7.46],[\"Denmark\",5.34],[\"Finland\",3.64],[\"France\",4.26],[\"Germany\",6.56],[\"Greece\",4.36],[\"Ireland\",5.8],[\"Italy\",4.15],[\"Japan\",6.19],[\"Luxembourg\",2.83],[\"Netherlands\",5.14],[\"New Zealand\",8.31],[\"Norway\",7.34],[\"Portugal\",1.84],[\"Spain\",3.66],[\"Sweden\",6.53],[\"Switzerland\",8.52],[\"T\\u00fcrkiye\",0.94],[\"USA\",8.93],[\"United Kingdom of Great Britain and Northern Ireland\",6.46],[\"Cambodia\",0.29],[\"China\",1.45],[\"Fiji\",3.1],[\"Hong Kong\",4.16],[\"India\",0.96],[\"Indonesia\",0.96],[\"Malaysia\",1.98],[\"Myanmar\",1.21],[\"Philippines\",1.99],[\"Korea, Republic of\",3.96],[\"Sri Lanka\",3.3],[\"Taiwan\",2.5],[\"Thailand\",1.67],[\"Albania\",1.82],[\"Bulgaria\",3.89],[\"Hungary\",6.57],[\"Poland\",5.26],[\"Russian Federation\",3.69],[\"Argentina\",4.65],[\"Barbados\",4.41],[\"Bolivia, Plurinational State of\",2.12],[\"Brazil\",1.83],[\"Chile\",4.76],[\"Colombia\",2.57],[\"Costa Rica\",3.69],[\"Cuba\",3.42],[\"Dominican Republic\",2.39],[\"Ecuador\",2.48],[\"El Salvador\",1.56],[\"Guatemala\",1.44],[\"Guyana\",3.66],[\"Honduras\",1.57],[\"Jamaica\",3.57],[\"Mexico\",2.24],[\"Nicaragua\",1.58],[\"Panama\",3.48],[\"Paraguay\",2.99],[\"Peru\",2.72],[\"Trinidad and Tobago\",4.92],[\"Uruguay\",4.06],[\"Venezuela, Bolivarian Republic of\",1.61],[\"Algeria\",0.82],[\"Egypt\",0.43],[\"Iran, Islamic Republic of\",0.49],[\"Iraq\",0.16],[\"Malta\",3.08],[\"Morocco\",0.26],[\"Syrian Arab Republic\",0.8],[\"Tunisia\",0.59],[\"Benin\",0.48],[\"Cameroon\",0.47],[\"Cote dIvoire\",0.52],[\"Ghana\",0.57],[\"Kenya\",1.08],[\"Malawi\",0.85],[\"Mali\",0.13],[\"Mauritius\",2.39],[\"Mozambique\",0.45],[\"Niger\",0.31],[\"R\\u00e9union\",2.63],[\"Senegal\",1.48],[\"Sierra Leone\",0.36],[\"South Africa\",3.98],[\"Sudan\",0.29],[\"Uganda\",0.74],[\"Zimbabwe\",1.3]],\"geo\":\"geo\",\"hovertemplate\":\"year=1945<br>iso_alpha=%{location}<br>country=%{customdata[0]}<br>avg_years_total_schooling=%{z}<extra></extra>\",\"locations\":[\"AUS\",\"AUT\",\"BEL\",\"CAN\",\"DNK\",\"FIN\",\"FRA\",\"DEU\",\"GRC\",\"IRL\",\"ITA\",\"JPN\",\"LUX\",\"NLD\",\"NZL\",\"NOR\",\"PRT\",\"ESP\",\"SWE\",\"CHE\",\"TUR\",\"USA\",\"GBR\",\"KHM\",\"CHN\",\"FJI\",\"HKG\",\"IND\",\"IDN\",\"MYS\",\"MMR\",\"PHL\",\"KOR\",\"LKA\",\"TWN\",\"THA\",\"ALB\",\"BGR\",\"HUN\",\"POL\",\"RUS\",\"ARG\",\"BRB\",\"BOL\",\"BRA\",\"CHL\",\"COL\",\"CRI\",\"CUB\",\"DOM\",\"ECU\",\"SLV\",\"GTM\",\"GUY\",\"HND\",\"JAM\",\"MEX\",\"NIC\",\"PAN\",\"PRY\",\"PER\",\"TTO\",\"URY\",\"VEN\",\"DZA\",\"EGY\",\"IRN\",\"IRQ\",\"MLT\",\"MAR\",\"SYR\",\"TUN\",\"BEN\",\"CMR\",null,\"GHA\",\"KEN\",\"MWI\",\"MLI\",\"MUS\",\"MOZ\",\"NER\",\"REU\",\"SEN\",\"SLE\",\"ZAF\",\"SDN\",\"UGA\",\"ZWE\"],\"name\":\"\",\"z\":[7.48,5.84,5.93,7.46,5.34,3.64,4.26,6.56,4.36,5.8,4.15,6.19,2.83,5.14,8.31,7.34,1.84,3.66,6.53,8.52,0.94,8.93,6.46,0.29,1.45,3.1,4.16,0.96,0.96,1.98,1.21,1.99,3.96,3.3,2.5,1.67,1.82,3.89,6.57,5.26,3.69,4.65,4.41,2.12,1.83,4.76,2.57,3.69,3.42,2.39,2.48,1.56,1.44,3.66,1.57,3.57,2.24,1.58,3.48,2.99,2.72,4.92,4.06,1.61,0.82,0.43,0.49,0.16,3.08,0.26,0.8,0.59,0.48,0.47,0.52,0.57,1.08,0.85,0.13,2.39,0.45,0.31,2.63,1.48,0.36,3.98,0.29,0.74,1.3],\"type\":\"choropleth\"}],\"name\":\"1945\"},{\"data\":[{\"coloraxis\":\"coloraxis\",\"customdata\":[[\"Australia\",8.21],[\"Austria\",5.89],[\"Belgium\",6.85],[\"Canada\",7.76],[\"Denmark\",5.63],[\"Finland\",3.91],[\"France\",4.42],[\"Germany\",7.21],[\"Greece\",4.39],[\"Ireland\",6.42],[\"Italy\",4.4],[\"Japan\",6.86],[\"Luxembourg\",3.85],[\"Netherlands\",6.14],[\"New Zealand\",9.34],[\"Norway\",7.43],[\"Portugal\",2.01],[\"Spain\",3.83],[\"Sweden\",6.95],[\"Switzerland\",8.97],[\"T\\u00fcrkiye\",1.14],[\"USA\",8.74],[\"United Kingdom of Great Britain and Northern Ireland\",6.49],[\"Cambodia\",0.44],[\"China\",1.69],[\"Fiji\",3.77],[\"Hong Kong\",4.46],[\"India\",1.02],[\"Indonesia\",1.14],[\"Malaysia\",2.21],[\"Myanmar\",1.17],[\"Philippines\",2.35],[\"Korea, Republic of\",4.64],[\"Sri Lanka\",3.55],[\"Taiwan\",3.16],[\"Thailand\",2.16],[\"Albania\",2.75],[\"Bulgaria\",3.97],[\"Hungary\",7.2],[\"Poland\",5.52],[\"Russian Federation\",4.08],[\"Argentina\",4.91],[\"Barbados\",4.68],[\"Bolivia, Plurinational State of\",2.44],[\"Brazil\",2.11],[\"Chile\",4.91],[\"Colombia\",2.38],[\"Costa Rica\",3.6],[\"Cuba\",3.58],[\"Dominican Republic\",2.53],[\"Ecuador\",2.62],[\"El Salvador\",1.55],[\"Guatemala\",1.32],[\"Guyana\",4.36],[\"Honduras\",1.65],[\"Jamaica\",3.64],[\"Mexico\",2.2],[\"Nicaragua\",1.54],[\"Panama\",3.87],[\"Paraguay\",2.81],[\"Peru\",2.91],[\"Trinidad and Tobago\",5.16],[\"Uruguay\",4.47],[\"Venezuela, Bolivarian Republic of\",1.65],[\"Algeria\",0.83],[\"Egypt\",0.54],[\"Iran, Islamic Republic of\",0.6],[\"Iraq\",0.25],[\"Malta\",3.32],[\"Morocco\",0.3],[\"Syrian Arab Republic\",0.92],[\"Tunisia\",0.68],[\"Benin\",0.52],[\"Cameroon\",0.72],[\"Cote dIvoire\",0.86],[\"Ghana\",0.7],[\"Kenya\",1.2],[\"Malawi\",0.98],[\"Mali\",0.16],[\"Mauritius\",2.51],[\"Mozambique\",0.52],[\"Niger\",0.33],[\"R\\u00e9union\",2.89],[\"Senegal\",1.87],[\"Sierra Leone\",0.41],[\"South Africa\",4.2],[\"Sudan\",0.35],[\"Uganda\",0.92],[\"Zimbabwe\",1.66]],\"geo\":\"geo\",\"hovertemplate\":\"year=1950<br>iso_alpha=%{location}<br>country=%{customdata[0]}<br>avg_years_total_schooling=%{z}<extra></extra>\",\"locations\":[\"AUS\",\"AUT\",\"BEL\",\"CAN\",\"DNK\",\"FIN\",\"FRA\",\"DEU\",\"GRC\",\"IRL\",\"ITA\",\"JPN\",\"LUX\",\"NLD\",\"NZL\",\"NOR\",\"PRT\",\"ESP\",\"SWE\",\"CHE\",\"TUR\",\"USA\",\"GBR\",\"KHM\",\"CHN\",\"FJI\",\"HKG\",\"IND\",\"IDN\",\"MYS\",\"MMR\",\"PHL\",\"KOR\",\"LKA\",\"TWN\",\"THA\",\"ALB\",\"BGR\",\"HUN\",\"POL\",\"RUS\",\"ARG\",\"BRB\",\"BOL\",\"BRA\",\"CHL\",\"COL\",\"CRI\",\"CUB\",\"DOM\",\"ECU\",\"SLV\",\"GTM\",\"GUY\",\"HND\",\"JAM\",\"MEX\",\"NIC\",\"PAN\",\"PRY\",\"PER\",\"TTO\",\"URY\",\"VEN\",\"DZA\",\"EGY\",\"IRN\",\"IRQ\",\"MLT\",\"MAR\",\"SYR\",\"TUN\",\"BEN\",\"CMR\",null,\"GHA\",\"KEN\",\"MWI\",\"MLI\",\"MUS\",\"MOZ\",\"NER\",\"REU\",\"SEN\",\"SLE\",\"ZAF\",\"SDN\",\"UGA\",\"ZWE\"],\"name\":\"\",\"z\":[8.21,5.89,6.85,7.76,5.63,3.91,4.42,7.21,4.39,6.42,4.4,6.86,3.85,6.14,9.34,7.43,2.01,3.83,6.95,8.97,1.14,8.74,6.49,0.44,1.69,3.77,4.46,1.02,1.14,2.21,1.17,2.35,4.64,3.55,3.16,2.16,2.75,3.97,7.2,5.52,4.08,4.91,4.68,2.44,2.11,4.91,2.38,3.6,3.58,2.53,2.62,1.55,1.32,4.36,1.65,3.64,2.2,1.54,3.87,2.81,2.91,5.16,4.47,1.65,0.83,0.54,0.6,0.25,3.32,0.3,0.92,0.68,0.52,0.72,0.86,0.7,1.2,0.98,0.16,2.51,0.52,0.33,2.89,1.87,0.41,4.2,0.35,0.92,1.66],\"type\":\"choropleth\"}],\"name\":\"1950\"},{\"data\":[{\"coloraxis\":\"coloraxis\",\"customdata\":[[\"Australia\",8.49],[\"Austria\",5.64],[\"Belgium\",7.17],[\"Canada\",8.11],[\"Denmark\",4.78],[\"Finland\",4.06],[\"France\",4.56],[\"Germany\",7.47],[\"Greece\",5.79],[\"Ireland\",6.72],[\"Italy\",4.71],[\"Japan\",7.4],[\"Luxembourg\",4.65],[\"Netherlands\",6.2],[\"New Zealand\",9.67],[\"Norway\",7.45],[\"Portugal\",2.2],[\"Spain\",4.04],[\"Sweden\",7.28],[\"Switzerland\",9.09],[\"T\\u00fcrkiye\",1.42],[\"USA\",9.14],[\"United Kingdom of Great Britain and Northern Ireland\",6.73],[\"Cambodia\",0.67],[\"China\",2.06],[\"Fiji\",4.24],[\"Hong Kong\",4.76],[\"India\",1.08],[\"Indonesia\",1.31],[\"Malaysia\",2.5],[\"Myanmar\",1.25],[\"Philippines\",3.36],[\"Korea, Republic of\",5.22],[\"Sri Lanka\",3.84],[\"Taiwan\",3.47],[\"Thailand\",2.44],[\"Albania\",2.93],[\"Bulgaria\",4.82],[\"Hungary\",7.36],[\"Poland\",5.81],[\"Russian Federation\",4.58],[\"Argentina\",5.24],[\"Barbados\",4.85],[\"Bolivia, Plurinational State of\",2.8],[\"Brazil\",2.3],[\"Chile\",5.04],[\"Colombia\",2.73],[\"Costa Rica\",3.82],[\"Cuba\",3.66],[\"Dominican Republic\",2.58],[\"Ecuador\",2.93],[\"El Salvador\",1.7],[\"Guatemala\",1.35],[\"Guyana\",4.6],[\"Honduras\",1.75],[\"Jamaica\",3.74],[\"Mexico\",2.36],[\"Nicaragua\",1.83],[\"Panama\",4.26],[\"Paraguay\",3.08],[\"Peru\",3.1],[\"Trinidad and Tobago\",5.37],[\"Uruguay\",4.77],[\"Venezuela, Bolivarian Republic of\",2.01],[\"Algeria\",0.82],[\"Egypt\",0.7],[\"Iran, Islamic Republic of\",0.72],[\"Iraq\",0.35],[\"Malta\",3.89],[\"Morocco\",0.39],[\"Syrian Arab Republic\",1.05],[\"Tunisia\",0.82],[\"Benin\",0.61],[\"Cameroon\",0.92],[\"Cote dIvoire\",0.91],[\"Ghana\",0.83],[\"Kenya\",1.35],[\"Malawi\",1.06],[\"Mali\",0.18],[\"Mauritius\",2.93],[\"Mozambique\",0.7],[\"Niger\",0.35],[\"R\\u00e9union\",2.77],[\"Senegal\",1.95],[\"Sierra Leone\",0.46],[\"South Africa\",4.4],[\"Sudan\",0.43],[\"Uganda\",1.06],[\"Zimbabwe\",1.99]],\"geo\":\"geo\",\"hovertemplate\":\"year=1955<br>iso_alpha=%{location}<br>country=%{customdata[0]}<br>avg_years_total_schooling=%{z}<extra></extra>\",\"locations\":[\"AUS\",\"AUT\",\"BEL\",\"CAN\",\"DNK\",\"FIN\",\"FRA\",\"DEU\",\"GRC\",\"IRL\",\"ITA\",\"JPN\",\"LUX\",\"NLD\",\"NZL\",\"NOR\",\"PRT\",\"ESP\",\"SWE\",\"CHE\",\"TUR\",\"USA\",\"GBR\",\"KHM\",\"CHN\",\"FJI\",\"HKG\",\"IND\",\"IDN\",\"MYS\",\"MMR\",\"PHL\",\"KOR\",\"LKA\",\"TWN\",\"THA\",\"ALB\",\"BGR\",\"HUN\",\"POL\",\"RUS\",\"ARG\",\"BRB\",\"BOL\",\"BRA\",\"CHL\",\"COL\",\"CRI\",\"CUB\",\"DOM\",\"ECU\",\"SLV\",\"GTM\",\"GUY\",\"HND\",\"JAM\",\"MEX\",\"NIC\",\"PAN\",\"PRY\",\"PER\",\"TTO\",\"URY\",\"VEN\",\"DZA\",\"EGY\",\"IRN\",\"IRQ\",\"MLT\",\"MAR\",\"SYR\",\"TUN\",\"BEN\",\"CMR\",null,\"GHA\",\"KEN\",\"MWI\",\"MLI\",\"MUS\",\"MOZ\",\"NER\",\"REU\",\"SEN\",\"SLE\",\"ZAF\",\"SDN\",\"UGA\",\"ZWE\"],\"name\":\"\",\"z\":[8.49,5.64,7.17,8.11,4.78,4.06,4.56,7.47,5.79,6.72,4.71,7.4,4.65,6.2,9.67,7.45,2.2,4.04,7.28,9.09,1.42,9.14,6.73,0.67,2.06,4.24,4.76,1.08,1.31,2.5,1.25,3.36,5.22,3.84,3.47,2.44,2.93,4.82,7.36,5.81,4.58,5.24,4.85,2.8,2.3,5.04,2.73,3.82,3.66,2.58,2.93,1.7,1.35,4.6,1.75,3.74,2.36,1.83,4.26,3.08,3.1,5.37,4.77,2.01,0.82,0.7,0.72,0.35,3.89,0.39,1.05,0.82,0.61,0.92,0.91,0.83,1.35,1.06,0.18,2.93,0.7,0.35,2.77,1.95,0.46,4.4,0.43,1.06,1.99],\"type\":\"choropleth\"}],\"name\":\"1955\"},{\"data\":[{\"coloraxis\":\"coloraxis\",\"customdata\":[[\"Australia\",8.78],[\"Austria\",5.67],[\"Belgium\",7.4],[\"Canada\",8.55],[\"Denmark\",5.3],[\"Finland\",4.25],[\"France\",4.32],[\"Germany\",7.54],[\"Greece\",7.78],[\"Ireland\",6.98],[\"Italy\",5.07],[\"Japan\",7.77],[\"Luxembourg\",5.22],[\"Netherlands\",6.25],[\"New Zealand\",10.12],[\"Norway\",7.53],[\"Portugal\",2.46],[\"Spain\",4.42],[\"Sweden\",7.69],[\"Switzerland\",9.16],[\"T\\u00fcrkiye\",1.84],[\"USA\",9.63],[\"United Kingdom of Great Britain and Northern Ireland\",7.01],[\"Cambodia\",1.23],[\"China\",2.64],[\"Fiji\",4.57],[\"Hong Kong\",5.05],[\"India\",1.16],[\"Indonesia\",1.67],[\"Malaysia\",2.99],[\"Myanmar\",1.27],[\"Philippines\",3.49],[\"Korea, Republic of\",4.46],[\"Sri Lanka\",4.12],[\"Taiwan\",3.76],[\"Thailand\",2.68],[\"Albania\",3.23],[\"Bulgaria\",5.24],[\"Hungary\",7.53],[\"Poland\",6.19],[\"Russian Federation\",4.88],[\"Argentina\",5.69],[\"Barbados\",5.08],[\"Bolivia, Plurinational State of\",3.15],[\"Brazil\",2.53],[\"Chile\",5.23],[\"Colombia\",3.1],[\"Costa Rica\",3.96],[\"Cuba\",4.08],[\"Dominican Republic\",2.78],[\"Ecuador\",3.29],[\"El Salvador\",1.98],[\"Guatemala\",1.41],[\"Guyana\",4.91],[\"Honduras\",1.93],[\"Jamaica\",3.93],[\"Mexico\",2.55],[\"Nicaragua\",2.19],[\"Panama\",4.75],[\"Paraguay\",3.47],[\"Peru\",3.32],[\"Trinidad and Tobago\",5.73],[\"Uruguay\",5.06],[\"Venezuela, Bolivarian Republic of\",2.44],[\"Algeria\",0.9],[\"Egypt\",0.85],[\"Iran, Islamic Republic of\",0.99],[\"Iraq\",0.53],[\"Malta\",4.49],[\"Morocco\",0.51],[\"Syrian Arab Republic\",1.31],[\"Tunisia\",0.96],[\"Benin\",0.7],[\"Cameroon\",1.12],[\"Cote dIvoire\",0.99],[\"Ghana\",1.1],[\"Kenya\",1.56],[\"Malawi\",1.12],[\"Mali\",0.2],[\"Mauritius\",3.6],[\"Mozambique\",0.88],[\"Niger\",0.38],[\"R\\u00e9union\",2.75],[\"Senegal\",2.07],[\"Sierra Leone\",0.51],[\"South Africa\",4.47],[\"Sudan\",0.51],[\"Uganda\",1.18],[\"Zimbabwe\",2.38]],\"geo\":\"geo\",\"hovertemplate\":\"year=1960<br>iso_alpha=%{location}<br>country=%{customdata[0]}<br>avg_years_total_schooling=%{z}<extra></extra>\",\"locations\":[\"AUS\",\"AUT\",\"BEL\",\"CAN\",\"DNK\",\"FIN\",\"FRA\",\"DEU\",\"GRC\",\"IRL\",\"ITA\",\"JPN\",\"LUX\",\"NLD\",\"NZL\",\"NOR\",\"PRT\",\"ESP\",\"SWE\",\"CHE\",\"TUR\",\"USA\",\"GBR\",\"KHM\",\"CHN\",\"FJI\",\"HKG\",\"IND\",\"IDN\",\"MYS\",\"MMR\",\"PHL\",\"KOR\",\"LKA\",\"TWN\",\"THA\",\"ALB\",\"BGR\",\"HUN\",\"POL\",\"RUS\",\"ARG\",\"BRB\",\"BOL\",\"BRA\",\"CHL\",\"COL\",\"CRI\",\"CUB\",\"DOM\",\"ECU\",\"SLV\",\"GTM\",\"GUY\",\"HND\",\"JAM\",\"MEX\",\"NIC\",\"PAN\",\"PRY\",\"PER\",\"TTO\",\"URY\",\"VEN\",\"DZA\",\"EGY\",\"IRN\",\"IRQ\",\"MLT\",\"MAR\",\"SYR\",\"TUN\",\"BEN\",\"CMR\",null,\"GHA\",\"KEN\",\"MWI\",\"MLI\",\"MUS\",\"MOZ\",\"NER\",\"REU\",\"SEN\",\"SLE\",\"ZAF\",\"SDN\",\"UGA\",\"ZWE\"],\"name\":\"\",\"z\":[8.78,5.67,7.4,8.55,5.3,4.25,4.32,7.54,7.78,6.98,5.07,7.77,5.22,6.25,10.12,7.53,2.46,4.42,7.69,9.16,1.84,9.63,7.01,1.23,2.64,4.57,5.05,1.16,1.67,2.99,1.27,3.49,4.46,4.12,3.76,2.68,3.23,5.24,7.53,6.19,4.88,5.69,5.08,3.15,2.53,5.23,3.1,3.96,4.08,2.78,3.29,1.98,1.41,4.91,1.93,3.93,2.55,2.19,4.75,3.47,3.32,5.73,5.06,2.44,0.9,0.85,0.99,0.53,4.49,0.51,1.31,0.96,0.7,1.12,0.99,1.1,1.56,1.12,0.2,3.6,0.88,0.38,2.75,2.07,0.51,4.47,0.51,1.18,2.38],\"type\":\"choropleth\"}],\"name\":\"1960\"},{\"data\":[{\"coloraxis\":\"coloraxis\",\"customdata\":[[\"Australia\",9.19],[\"Austria\",6.54],[\"Belgium\",7.56],[\"Canada\",8.85],[\"Denmark\",6.06],[\"Finland\",4.97],[\"France\",4.78],[\"Germany\",7.5],[\"Greece\",6.68],[\"Ireland\",7.4],[\"Italy\",5.43],[\"Japan\",7.8],[\"Luxembourg\",6.19],[\"Netherlands\",7.49],[\"New Zealand\",10.18],[\"Norway\",7.96],[\"Portugal\",2.64],[\"Spain\",4.7],[\"Sweden\",8.12],[\"Switzerland\",9.5],[\"T\\u00fcrkiye\",2.2],[\"USA\",10.42],[\"United Kingdom of Great Britain and Northern Ireland\",7.65],[\"Cambodia\",1.53],[\"China\",3.19],[\"Fiji\",5.24],[\"Hong Kong\",5.93],[\"India\",1.33],[\"Indonesia\",2.28],[\"Malaysia\",3.54],[\"Myanmar\",1.44],[\"Philippines\",4.01],[\"Korea, Republic of\",5.68],[\"Sri Lanka\",4.49],[\"Taiwan\",4.18],[\"Thailand\",2.39],[\"Albania\",3.63],[\"Bulgaria\",4.71],[\"Hungary\",7.75],[\"Poland\",6.92],[\"Russian Federation\",5.62],[\"Argentina\",6.03],[\"Barbados\",6.79],[\"Bolivia, Plurinational State of\",3.7],[\"Brazil\",2.82],[\"Chile\",5.71],[\"Colombia\",3.47],[\"Costa Rica\",4.22],[\"Cuba\",4.55],[\"Dominican Republic\",3.15],[\"Ecuador\",4.0],[\"El Salvador\",2.41],[\"Guatemala\",1.51],[\"Guyana\",5.35],[\"Honduras\",2.13],[\"Jamaica\",4.48],[\"Mexico\",3.02],[\"Nicaragua\",2.61],[\"Panama\",5.01],[\"Paraguay\",3.79],[\"Peru\",3.79],[\"Trinidad and Tobago\",6.05],[\"Uruguay\",5.43],[\"Venezuela, Bolivarian Republic of\",2.75],[\"Algeria\",1.15],[\"Egypt\",1.11],[\"Iran, Islamic Republic of\",1.5],[\"Iraq\",0.9],[\"Malta\",5.1],[\"Morocco\",0.75],[\"Syrian Arab Republic\",1.63],[\"Tunisia\",1.37],[\"Benin\",0.79],[\"Cameroon\",1.51],[\"Cote dIvoire\",1.09],[\"Ghana\",2.03],[\"Kenya\",1.77],[\"Malawi\",1.3],[\"Mali\",0.26],[\"Mauritius\",4.3],[\"Mozambique\",1.06],[\"Niger\",0.4],[\"R\\u00e9union\",2.93],[\"Senegal\",2.11],[\"Sierra Leone\",0.68],[\"South Africa\",4.55],[\"Sudan\",0.63],[\"Uganda\",1.29],[\"Zimbabwe\",2.68]],\"geo\":\"geo\",\"hovertemplate\":\"year=1965<br>iso_alpha=%{location}<br>country=%{customdata[0]}<br>avg_years_total_schooling=%{z}<extra></extra>\",\"locations\":[\"AUS\",\"AUT\",\"BEL\",\"CAN\",\"DNK\",\"FIN\",\"FRA\",\"DEU\",\"GRC\",\"IRL\",\"ITA\",\"JPN\",\"LUX\",\"NLD\",\"NZL\",\"NOR\",\"PRT\",\"ESP\",\"SWE\",\"CHE\",\"TUR\",\"USA\",\"GBR\",\"KHM\",\"CHN\",\"FJI\",\"HKG\",\"IND\",\"IDN\",\"MYS\",\"MMR\",\"PHL\",\"KOR\",\"LKA\",\"TWN\",\"THA\",\"ALB\",\"BGR\",\"HUN\",\"POL\",\"RUS\",\"ARG\",\"BRB\",\"BOL\",\"BRA\",\"CHL\",\"COL\",\"CRI\",\"CUB\",\"DOM\",\"ECU\",\"SLV\",\"GTM\",\"GUY\",\"HND\",\"JAM\",\"MEX\",\"NIC\",\"PAN\",\"PRY\",\"PER\",\"TTO\",\"URY\",\"VEN\",\"DZA\",\"EGY\",\"IRN\",\"IRQ\",\"MLT\",\"MAR\",\"SYR\",\"TUN\",\"BEN\",\"CMR\",null,\"GHA\",\"KEN\",\"MWI\",\"MLI\",\"MUS\",\"MOZ\",\"NER\",\"REU\",\"SEN\",\"SLE\",\"ZAF\",\"SDN\",\"UGA\",\"ZWE\"],\"name\":\"\",\"z\":[9.19,6.54,7.56,8.85,6.06,4.97,4.78,7.5,6.68,7.4,5.43,7.8,6.19,7.49,10.18,7.96,2.64,4.7,8.12,9.5,2.2,10.42,7.65,1.53,3.19,5.24,5.93,1.33,2.28,3.54,1.44,4.01,5.68,4.49,4.18,2.39,3.63,4.71,7.75,6.92,5.62,6.03,6.79,3.7,2.82,5.71,3.47,4.22,4.55,3.15,4.0,2.41,1.51,5.35,2.13,4.48,3.02,2.61,5.01,3.79,3.79,6.05,5.43,2.75,1.15,1.11,1.5,0.9,5.1,0.75,1.63,1.37,0.79,1.51,1.09,2.03,1.77,1.3,0.26,4.3,1.06,0.4,2.93,2.11,0.68,4.55,0.63,1.29,2.68],\"type\":\"choropleth\"}],\"name\":\"1965\"},{\"data\":[{\"coloraxis\":\"coloraxis\",\"customdata\":[[\"Australia\",10.11],[\"Austria\",7.26],[\"Belgium\",7.98],[\"Canada\",9.47],[\"Denmark\",7.19],[\"Finland\",5.99],[\"France\",5.46],[\"Germany\",7.1],[\"Greece\",6.84],[\"Ireland\",8.05],[\"Italy\",5.87],[\"Japan\",8.25],[\"Luxembourg\",7.27],[\"Netherlands\",8.48],[\"New Zealand\",11.17],[\"Norway\",8.47],[\"Portugal\",3.17],[\"Spain\",5.33],[\"Sweden\",8.65],[\"Switzerland\",9.9],[\"T\\u00fcrkiye\",2.58],[\"USA\",11.1],[\"United Kingdom of Great Britain and Northern Ireland\",8.06],[\"Cambodia\",1.91],[\"China\",3.9],[\"Fiji\",5.67],[\"Hong Kong\",6.58],[\"India\",1.65],[\"Indonesia\",2.98],[\"Malaysia\",4.41],[\"Myanmar\",1.52],[\"Philippines\",4.83],[\"Korea, Republic of\",6.59],[\"Sri Lanka\",6.63],[\"Taiwan\",5.1],[\"Thailand\",2.74],[\"Albania\",4.63],[\"Bulgaria\",6.54],[\"Hungary\",8.27],[\"Poland\",7.63],[\"Russian Federation\",6.39],[\"Argentina\",6.48],[\"Barbados\",8.59],[\"Bolivia, Plurinational State of\",4.14],[\"Brazil\",3.28],[\"Chile\",6.18],[\"Colombia\",3.98],[\"Costa Rica\",4.03],[\"Cuba\",5.41],[\"Dominican Republic\",3.74],[\"Ecuador\",4.55],[\"El Salvador\",2.9],[\"Guatemala\",1.78],[\"Guyana\",5.76],[\"Honduras\",2.38],[\"Jamaica\",4.96],[\"Mexico\",3.48],[\"Nicaragua\",3.07],[\"Panama\",5.39],[\"Paraguay\",4.32],[\"Peru\",4.47],[\"Trinidad and Tobago\",6.51],[\"Uruguay\",5.94],[\"Venezuela, Bolivarian Republic of\",3.49],[\"Algeria\",1.69],[\"Egypt\",1.41],[\"Iran, Islamic Republic of\",2.17],[\"Iraq\",1.53],[\"Malta\",6.06],[\"Morocco\",1.05],[\"Syrian Arab Republic\",2.2],[\"Tunisia\",1.9],[\"Benin\",0.87],[\"Cameroon\",1.92],[\"Cote dIvoire\",1.33],[\"Ghana\",3.35],[\"Kenya\",2.28],[\"Malawi\",1.63],[\"Mali\",0.31],[\"Mauritius\",4.98],[\"Mozambique\",1.06],[\"Niger\",0.45],[\"R\\u00e9union\",3.64],[\"Senegal\",2.3],[\"Sierra Leone\",0.87],[\"South Africa\",4.7],[\"Sudan\",0.78],[\"Uganda\",1.58],[\"Zimbabwe\",3.22]],\"geo\":\"geo\",\"hovertemplate\":\"year=1970<br>iso_alpha=%{location}<br>country=%{customdata[0]}<br>avg_years_total_schooling=%{z}<extra></extra>\",\"locations\":[\"AUS\",\"AUT\",\"BEL\",\"CAN\",\"DNK\",\"FIN\",\"FRA\",\"DEU\",\"GRC\",\"IRL\",\"ITA\",\"JPN\",\"LUX\",\"NLD\",\"NZL\",\"NOR\",\"PRT\",\"ESP\",\"SWE\",\"CHE\",\"TUR\",\"USA\",\"GBR\",\"KHM\",\"CHN\",\"FJI\",\"HKG\",\"IND\",\"IDN\",\"MYS\",\"MMR\",\"PHL\",\"KOR\",\"LKA\",\"TWN\",\"THA\",\"ALB\",\"BGR\",\"HUN\",\"POL\",\"RUS\",\"ARG\",\"BRB\",\"BOL\",\"BRA\",\"CHL\",\"COL\",\"CRI\",\"CUB\",\"DOM\",\"ECU\",\"SLV\",\"GTM\",\"GUY\",\"HND\",\"JAM\",\"MEX\",\"NIC\",\"PAN\",\"PRY\",\"PER\",\"TTO\",\"URY\",\"VEN\",\"DZA\",\"EGY\",\"IRN\",\"IRQ\",\"MLT\",\"MAR\",\"SYR\",\"TUN\",\"BEN\",\"CMR\",null,\"GHA\",\"KEN\",\"MWI\",\"MLI\",\"MUS\",\"MOZ\",\"NER\",\"REU\",\"SEN\",\"SLE\",\"ZAF\",\"SDN\",\"UGA\",\"ZWE\"],\"name\":\"\",\"z\":[10.11,7.26,7.98,9.47,7.19,5.99,5.46,7.1,6.84,8.05,5.87,8.25,7.27,8.48,11.17,8.47,3.17,5.33,8.65,9.9,2.58,11.1,8.06,1.91,3.9,5.67,6.58,1.65,2.98,4.41,1.52,4.83,6.59,6.63,5.1,2.74,4.63,6.54,8.27,7.63,6.39,6.48,8.59,4.14,3.28,6.18,3.98,4.03,5.41,3.74,4.55,2.9,1.78,5.76,2.38,4.96,3.48,3.07,5.39,4.32,4.47,6.51,5.94,3.49,1.69,1.41,2.17,1.53,6.06,1.05,2.2,1.9,0.87,1.92,1.33,3.35,2.28,1.63,0.31,4.98,1.06,0.45,3.64,2.3,0.87,4.7,0.78,1.58,3.22],\"type\":\"choropleth\"}],\"name\":\"1970\"},{\"data\":[{\"coloraxis\":\"coloraxis\",\"customdata\":[[\"Australia\",10.8],[\"Austria\",7.44],[\"Belgium\",8.39],[\"Canada\",10.02],[\"Denmark\",8.01],[\"Finland\",7.11],[\"France\",6.05],[\"Germany\",7.17],[\"Greece\",7.15],[\"Ireland\",8.79],[\"Italy\",6.45],[\"Japan\",8.85],[\"Luxembourg\",8.21],[\"Netherlands\",9.28],[\"New Zealand\",12.03],[\"Norway\",8.77],[\"Portugal\",4.27],[\"Spain\",6.19],[\"Sweden\",9.62],[\"Switzerland\",10.55],[\"T\\u00fcrkiye\",3.09],[\"USA\",11.73],[\"United Kingdom of Great Britain and Northern Ireland\",8.39],[\"Cambodia\",2.31],[\"China\",4.44],[\"Fiji\",6.4],[\"Hong Kong\",7.26],[\"India\",2.09],[\"Indonesia\",3.37],[\"Malaysia\",5.06],[\"Myanmar\",1.69],[\"Philippines\",5.56],[\"Korea, Republic of\",7.54],[\"Sri Lanka\",6.97],[\"Taiwan\",6.07],[\"Thailand\",3.24],[\"Albania\",5.77],[\"Bulgaria\",7.41],[\"Hungary\",8.85],[\"Poland\",8.19],[\"Russian Federation\",7.29],[\"Argentina\",7.03],[\"Barbados\",7.95],[\"Bolivia, Plurinational State of\",4.8],[\"Brazil\",2.87],[\"Chile\",6.7],[\"Colombia\",4.43],[\"Costa Rica\",5.3],[\"Cuba\",6.48],[\"Dominican Republic\",4.3],[\"Ecuador\",5.07],[\"El Salvador\",3.37],[\"Guatemala\",2.11],[\"Guyana\",6.16],[\"Honduras\",2.73],[\"Jamaica\",5.54],[\"Mexico\",4.19],[\"Nicaragua\",3.38],[\"Panama\",6.1],[\"Paraguay\",4.85],[\"Peru\",5.43],[\"Trinidad and Tobago\",7.03],[\"Uruguay\",6.45],[\"Venezuela, Bolivarian Republic of\",4.51],[\"Algeria\",2.26],[\"Egypt\",1.82],[\"Iran, Islamic Republic of\",2.87],[\"Iraq\",2.11],[\"Malta\",6.84],[\"Morocco\",1.43],[\"Syrian Arab Republic\",2.89],[\"Tunisia\",2.63],[\"Benin\",0.96],[\"Cameroon\",2.58],[\"Cote dIvoire\",1.76],[\"Ghana\",4.23],[\"Kenya\",2.82],[\"Malawi\",1.96],[\"Mali\",0.46],[\"Mauritius\",5.18],[\"Mozambique\",1.0],[\"Niger\",0.53],[\"R\\u00e9union\",4.5],[\"Senegal\",2.49],[\"Sierra Leone\",1.14],[\"South Africa\",4.9],[\"Sudan\",1.03],[\"Uganda\",2.0],[\"Zimbabwe\",3.54]],\"geo\":\"geo\",\"hovertemplate\":\"year=1975<br>iso_alpha=%{location}<br>country=%{customdata[0]}<br>avg_years_total_schooling=%{z}<extra></extra>\",\"locations\":[\"AUS\",\"AUT\",\"BEL\",\"CAN\",\"DNK\",\"FIN\",\"FRA\",\"DEU\",\"GRC\",\"IRL\",\"ITA\",\"JPN\",\"LUX\",\"NLD\",\"NZL\",\"NOR\",\"PRT\",\"ESP\",\"SWE\",\"CHE\",\"TUR\",\"USA\",\"GBR\",\"KHM\",\"CHN\",\"FJI\",\"HKG\",\"IND\",\"IDN\",\"MYS\",\"MMR\",\"PHL\",\"KOR\",\"LKA\",\"TWN\",\"THA\",\"ALB\",\"BGR\",\"HUN\",\"POL\",\"RUS\",\"ARG\",\"BRB\",\"BOL\",\"BRA\",\"CHL\",\"COL\",\"CRI\",\"CUB\",\"DOM\",\"ECU\",\"SLV\",\"GTM\",\"GUY\",\"HND\",\"JAM\",\"MEX\",\"NIC\",\"PAN\",\"PRY\",\"PER\",\"TTO\",\"URY\",\"VEN\",\"DZA\",\"EGY\",\"IRN\",\"IRQ\",\"MLT\",\"MAR\",\"SYR\",\"TUN\",\"BEN\",\"CMR\",null,\"GHA\",\"KEN\",\"MWI\",\"MLI\",\"MUS\",\"MOZ\",\"NER\",\"REU\",\"SEN\",\"SLE\",\"ZAF\",\"SDN\",\"UGA\",\"ZWE\"],\"name\":\"\",\"z\":[10.8,7.44,8.39,10.02,8.01,7.11,6.05,7.17,7.15,8.79,6.45,8.85,8.21,9.28,12.03,8.77,4.27,6.19,9.62,10.55,3.09,11.73,8.39,2.31,4.44,6.4,7.26,2.09,3.37,5.06,1.69,5.56,7.54,6.97,6.07,3.24,5.77,7.41,8.85,8.19,7.29,7.03,7.95,4.8,2.87,6.7,4.43,5.3,6.48,4.3,5.07,3.37,2.11,6.16,2.73,5.54,4.19,3.38,6.1,4.85,5.43,7.03,6.45,4.51,2.26,1.82,2.87,2.11,6.84,1.43,2.89,2.63,0.96,2.58,1.76,4.23,2.82,1.96,0.46,5.18,1.0,0.53,4.5,2.49,1.14,4.9,1.03,2.0,3.54],\"type\":\"choropleth\"}],\"name\":\"1975\"},{\"data\":[{\"coloraxis\":\"coloraxis\",\"customdata\":[[\"Australia\",11.4],[\"Austria\",7.6],[\"Belgium\",8.93],[\"Canada\",10.49],[\"Denmark\",8.85],[\"Finland\",8.04],[\"France\",6.37],[\"Germany\",7.36],[\"Greece\",7.58],[\"Ireland\",9.69],[\"Italy\",7.09],[\"Japan\",9.6],[\"Luxembourg\",8.55],[\"Netherlands\",9.87],[\"New Zealand\",11.81],[\"Norway\",9.32],[\"Portugal\",5.45],[\"Spain\",7.24],[\"Sweden\",10.3],[\"Switzerland\",11.32],[\"T\\u00fcrkiye\",3.77],[\"USA\",12.28],[\"United Kingdom of Great Britain and Northern Ireland\",8.52],[\"Cambodia\",2.66],[\"China\",5.25],[\"Fiji\",7.16],[\"Hong Kong\",8.42],[\"India\",2.46],[\"Indonesia\",3.85],[\"Malaysia\",6.06],[\"Myanmar\",2.34],[\"Philippines\",6.26],[\"Korea, Republic of\",8.61],[\"Sri Lanka\",7.22],[\"Taiwan\",7.1],[\"Thailand\",3.9],[\"Albania\",6.95],[\"Bulgaria\",8.15],[\"Hungary\",9.39],[\"Poland\",8.31],[\"Russian Federation\",8.36],[\"Argentina\",7.51],[\"Barbados\",7.72],[\"Bolivia, Plurinational State of\",5.76],[\"Brazil\",3.05],[\"Chile\",7.13],[\"Colombia\",4.99],[\"Costa Rica\",6.26],[\"Cuba\",7.82],[\"Dominican Republic\",4.98],[\"Ecuador\",6.35],[\"El Salvador\",3.74],[\"Guatemala\",2.94],[\"Guyana\",6.65],[\"Honduras\",3.74],[\"Jamaica\",6.27],[\"Mexico\",5.01],[\"Nicaragua\",3.84],[\"Panama\",6.89],[\"Paraguay\",5.37],[\"Peru\",6.2],[\"Trinidad and Tobago\",7.57],[\"Uruguay\",6.94],[\"Venezuela, Bolivarian Republic of\",5.47],[\"Algeria\",3.0],[\"Egypt\",2.8],[\"Iran, Islamic Republic of\",3.84],[\"Iraq\",2.92],[\"Malta\",7.51],[\"Morocco\",1.88],[\"Syrian Arab Republic\",3.55],[\"Tunisia\",3.47],[\"Benin\",1.26],[\"Cameroon\",3.25],[\"Cote dIvoire\",2.13],[\"Ghana\",4.93],[\"Kenya\",3.61],[\"Malawi\",2.5],[\"Mali\",0.65],[\"Mauritius\",5.52],[\"Mozambique\",1.19],[\"Niger\",0.67],[\"R\\u00e9union\",5.26],[\"Senegal\",2.52],[\"Sierra Leone\",1.44],[\"South Africa\",5.18],[\"Sudan\",1.42],[\"Uganda\",2.4],[\"Zimbabwe\",4.03]],\"geo\":\"geo\",\"hovertemplate\":\"year=1980<br>iso_alpha=%{location}<br>country=%{customdata[0]}<br>avg_years_total_schooling=%{z}<extra></extra>\",\"locations\":[\"AUS\",\"AUT\",\"BEL\",\"CAN\",\"DNK\",\"FIN\",\"FRA\",\"DEU\",\"GRC\",\"IRL\",\"ITA\",\"JPN\",\"LUX\",\"NLD\",\"NZL\",\"NOR\",\"PRT\",\"ESP\",\"SWE\",\"CHE\",\"TUR\",\"USA\",\"GBR\",\"KHM\",\"CHN\",\"FJI\",\"HKG\",\"IND\",\"IDN\",\"MYS\",\"MMR\",\"PHL\",\"KOR\",\"LKA\",\"TWN\",\"THA\",\"ALB\",\"BGR\",\"HUN\",\"POL\",\"RUS\",\"ARG\",\"BRB\",\"BOL\",\"BRA\",\"CHL\",\"COL\",\"CRI\",\"CUB\",\"DOM\",\"ECU\",\"SLV\",\"GTM\",\"GUY\",\"HND\",\"JAM\",\"MEX\",\"NIC\",\"PAN\",\"PRY\",\"PER\",\"TTO\",\"URY\",\"VEN\",\"DZA\",\"EGY\",\"IRN\",\"IRQ\",\"MLT\",\"MAR\",\"SYR\",\"TUN\",\"BEN\",\"CMR\",null,\"GHA\",\"KEN\",\"MWI\",\"MLI\",\"MUS\",\"MOZ\",\"NER\",\"REU\",\"SEN\",\"SLE\",\"ZAF\",\"SDN\",\"UGA\",\"ZWE\"],\"name\":\"\",\"z\":[11.4,7.6,8.93,10.49,8.85,8.04,6.37,7.36,7.58,9.69,7.09,9.6,8.55,9.87,11.81,9.32,5.45,7.24,10.3,11.32,3.77,12.28,8.52,2.66,5.25,7.16,8.42,2.46,3.85,6.06,2.34,6.26,8.61,7.22,7.1,3.9,6.95,8.15,9.39,8.31,8.36,7.51,7.72,5.76,3.05,7.13,4.99,6.26,7.82,4.98,6.35,3.74,2.94,6.65,3.74,6.27,5.01,3.84,6.89,5.37,6.2,7.57,6.94,5.47,3.0,2.8,3.84,2.92,7.51,1.88,3.55,3.47,1.26,3.25,2.13,4.93,3.61,2.5,0.65,5.52,1.19,0.67,5.26,2.52,1.44,5.18,1.42,2.4,4.03],\"type\":\"choropleth\"}],\"name\":\"1980\"},{\"data\":[{\"coloraxis\":\"coloraxis\",\"customdata\":[[\"Australia\",11.43],[\"Austria\",7.84],[\"Belgium\",9.41],[\"Canada\",10.29],[\"Denmark\",9.59],[\"Finland\",8.01],[\"France\",7.37],[\"Germany\",7.73],[\"Greece\",8.37],[\"Ireland\",10.37],[\"Italy\",7.63],[\"Japan\",10.12],[\"Luxembourg\",8.83],[\"Netherlands\",10.22],[\"New Zealand\",11.81],[\"Norway\",10.16],[\"Portugal\",6.08],[\"Spain\",7.24],[\"Sweden\",10.65],[\"Switzerland\",10.67],[\"T\\u00fcrkiye\",4.82],[\"USA\",12.35],[\"United Kingdom of Great Britain and Northern Ireland\",8.76],[\"Cambodia\",2.89],[\"China\",5.75],[\"Fiji\",7.85],[\"Hong Kong\",9.24],[\"India\",3.03],[\"Indonesia\",4.05],[\"Malaysia\",7.03],[\"Myanmar\",2.87],[\"Philippines\",6.64],[\"Korea, Republic of\",9.52],[\"Sri Lanka\",7.89],[\"Taiwan\",7.89],[\"Thailand\",4.45],[\"Albania\",7.93],[\"Bulgaria\",8.76],[\"Hungary\",9.31],[\"Poland\",8.69],[\"Russian Federation\",9.37],[\"Argentina\",8.09],[\"Barbados\",8.42],[\"Bolivia, Plurinational State of\",6.7],[\"Brazil\",4.12],[\"Chile\",7.85],[\"Colombia\",5.63],[\"Costa Rica\",6.88],[\"Cuba\",8.64],[\"Dominican Republic\",5.58],[\"Ecuador\",6.76],[\"El Salvador\",4.57],[\"Guatemala\",3.27],[\"Guyana\",7.04],[\"Honduras\",4.65],[\"Jamaica\",6.86],[\"Mexico\",5.9],[\"Nicaragua\",4.21],[\"Panama\",7.59],[\"Paraguay\",5.96],[\"Peru\",6.75],[\"Trinidad and Tobago\",8.13],[\"Uruguay\",7.4],[\"Venezuela, Bolivarian Republic of\",5.33],[\"Algeria\",4.28],[\"Egypt\",3.92],[\"Iran, Islamic Republic of\",4.66],[\"Iraq\",3.98],[\"Malta\",8.38],[\"Morocco\",2.45],[\"Syrian Arab Republic\",4.26],[\"Tunisia\",3.93],[\"Benin\",1.77],[\"Cameroon\",3.94],[\"Cote dIvoire\",2.46],[\"Ghana\",5.63],[\"Kenya\",4.33],[\"Malawi\",2.96],[\"Mali\",0.83],[\"Mauritius\",6.09],[\"Mozambique\",1.25],[\"Niger\",0.85],[\"R\\u00e9union\",5.9],[\"Senegal\",2.45],[\"Sierra Leone\",1.81],[\"South Africa\",5.21],[\"Sudan\",1.93],[\"Uganda\",3.02],[\"Zimbabwe\",4.84]],\"geo\":\"geo\",\"hovertemplate\":\"year=1985<br>iso_alpha=%{location}<br>country=%{customdata[0]}<br>avg_years_total_schooling=%{z}<extra></extra>\",\"locations\":[\"AUS\",\"AUT\",\"BEL\",\"CAN\",\"DNK\",\"FIN\",\"FRA\",\"DEU\",\"GRC\",\"IRL\",\"ITA\",\"JPN\",\"LUX\",\"NLD\",\"NZL\",\"NOR\",\"PRT\",\"ESP\",\"SWE\",\"CHE\",\"TUR\",\"USA\",\"GBR\",\"KHM\",\"CHN\",\"FJI\",\"HKG\",\"IND\",\"IDN\",\"MYS\",\"MMR\",\"PHL\",\"KOR\",\"LKA\",\"TWN\",\"THA\",\"ALB\",\"BGR\",\"HUN\",\"POL\",\"RUS\",\"ARG\",\"BRB\",\"BOL\",\"BRA\",\"CHL\",\"COL\",\"CRI\",\"CUB\",\"DOM\",\"ECU\",\"SLV\",\"GTM\",\"GUY\",\"HND\",\"JAM\",\"MEX\",\"NIC\",\"PAN\",\"PRY\",\"PER\",\"TTO\",\"URY\",\"VEN\",\"DZA\",\"EGY\",\"IRN\",\"IRQ\",\"MLT\",\"MAR\",\"SYR\",\"TUN\",\"BEN\",\"CMR\",null,\"GHA\",\"KEN\",\"MWI\",\"MLI\",\"MUS\",\"MOZ\",\"NER\",\"REU\",\"SEN\",\"SLE\",\"ZAF\",\"SDN\",\"UGA\",\"ZWE\"],\"name\":\"\",\"z\":[11.43,7.84,9.41,10.29,9.59,8.01,7.37,7.73,8.37,10.37,7.63,10.12,8.83,10.22,11.81,10.16,6.08,7.24,10.65,10.67,4.82,12.35,8.76,2.89,5.75,7.85,9.24,3.03,4.05,7.03,2.87,6.64,9.52,7.89,7.89,4.45,7.93,8.76,9.31,8.69,9.37,8.09,8.42,6.7,4.12,7.85,5.63,6.88,8.64,5.58,6.76,4.57,3.27,7.04,4.65,6.86,5.9,4.21,7.59,5.96,6.75,8.13,7.4,5.33,4.28,3.92,4.66,3.98,8.38,2.45,4.26,3.93,1.77,3.94,2.46,5.63,4.33,2.96,0.83,6.09,1.25,0.85,5.9,2.45,1.81,5.21,1.93,3.02,4.84],\"type\":\"choropleth\"}],\"name\":\"1985\"},{\"data\":[{\"coloraxis\":\"coloraxis\",\"customdata\":[[\"Australia\",11.44],[\"Austria\",8.26],[\"Belgium\",10.0],[\"Canada\",10.71],[\"Denmark\",10.48],[\"Finland\",8.56],[\"France\",8.32],[\"Germany\",8.96],[\"Greece\",9.34],[\"Ireland\",10.64],[\"Italy\",8.32],[\"Japan\",10.71],[\"Luxembourg\",9.24],[\"Netherlands\",10.59],[\"New Zealand\",11.69],[\"Norway\",10.79],[\"Portugal\",6.73],[\"Spain\",7.51],[\"Sweden\",11.03],[\"Switzerland\",10.54],[\"T\\u00fcrkiye\",5.22],[\"USA\",12.55],[\"United Kingdom of Great Britain and Northern Ireland\",9.28],[\"Cambodia\",3.2],[\"China\",6.05],[\"Fiji\",9.24],[\"Hong Kong\",10.08],[\"India\",3.56],[\"Indonesia\",4.44],[\"Malaysia\",8.01],[\"Myanmar\",2.99],[\"Philippines\",7.15],[\"Korea, Republic of\",10.46],[\"Sri Lanka\",8.9],[\"Taiwan\",8.68],[\"Thailand\",5.21],[\"Albania\",8.61],[\"Bulgaria\",8.68],[\"Hungary\",9.48],[\"Poland\",9.75],[\"Russian Federation\",10.21],[\"Argentina\",8.67],[\"Barbados\",8.79],[\"Bolivia, Plurinational State of\",7.63],[\"Brazil\",4.94],[\"Chile\",8.58],[\"Colombia\",6.16],[\"Costa Rica\",7.28],[\"Cuba\",9.21],[\"Dominican Republic\",6.13],[\"Ecuador\",7.23],[\"El Salvador\",5.08],[\"Guatemala\",3.66],[\"Guyana\",7.27],[\"Honduras\",5.07],[\"Jamaica\",7.48],[\"Mexico\",6.68],[\"Nicaragua\",4.64],[\"Panama\",8.08],[\"Paraguay\",6.43],[\"Peru\",7.39],[\"Trinidad and Tobago\",8.71],[\"Uruguay\",7.71],[\"Venezuela, Bolivarian Republic of\",5.26],[\"Algeria\",5.05],[\"Egypt\",4.6],[\"Iran, Islamic Republic of\",5.49],[\"Iraq\",4.9],[\"Malta\",9.19],[\"Morocco\",3.05],[\"Syrian Arab Republic\",4.68],[\"Tunisia\",4.68],[\"Benin\",2.24],[\"Cameroon\",4.65],[\"Cote dIvoire\",2.79],[\"Ghana\",6.05],[\"Kenya\",5.05],[\"Malawi\",3.14],[\"Mali\",0.95],[\"Mauritius\",6.85],[\"Mozambique\",1.06],[\"Niger\",1.08],[\"R\\u00e9union\",6.46],[\"Senegal\",2.37],[\"Sierra Leone\",2.17],[\"South Africa\",6.89],[\"Sudan\",2.4],[\"Uganda\",3.71],[\"Zimbabwe\",5.97]],\"geo\":\"geo\",\"hovertemplate\":\"year=1990<br>iso_alpha=%{location}<br>country=%{customdata[0]}<br>avg_years_total_schooling=%{z}<extra></extra>\",\"locations\":[\"AUS\",\"AUT\",\"BEL\",\"CAN\",\"DNK\",\"FIN\",\"FRA\",\"DEU\",\"GRC\",\"IRL\",\"ITA\",\"JPN\",\"LUX\",\"NLD\",\"NZL\",\"NOR\",\"PRT\",\"ESP\",\"SWE\",\"CHE\",\"TUR\",\"USA\",\"GBR\",\"KHM\",\"CHN\",\"FJI\",\"HKG\",\"IND\",\"IDN\",\"MYS\",\"MMR\",\"PHL\",\"KOR\",\"LKA\",\"TWN\",\"THA\",\"ALB\",\"BGR\",\"HUN\",\"POL\",\"RUS\",\"ARG\",\"BRB\",\"BOL\",\"BRA\",\"CHL\",\"COL\",\"CRI\",\"CUB\",\"DOM\",\"ECU\",\"SLV\",\"GTM\",\"GUY\",\"HND\",\"JAM\",\"MEX\",\"NIC\",\"PAN\",\"PRY\",\"PER\",\"TTO\",\"URY\",\"VEN\",\"DZA\",\"EGY\",\"IRN\",\"IRQ\",\"MLT\",\"MAR\",\"SYR\",\"TUN\",\"BEN\",\"CMR\",null,\"GHA\",\"KEN\",\"MWI\",\"MLI\",\"MUS\",\"MOZ\",\"NER\",\"REU\",\"SEN\",\"SLE\",\"ZAF\",\"SDN\",\"UGA\",\"ZWE\"],\"name\":\"\",\"z\":[11.44,8.26,10.0,10.71,10.48,8.56,8.32,8.96,9.34,10.64,8.32,10.71,9.24,10.59,11.69,10.79,6.73,7.51,11.03,10.54,5.22,12.55,9.28,3.2,6.05,9.24,10.08,3.56,4.44,8.01,2.99,7.15,10.46,8.9,8.68,5.21,8.61,8.68,9.48,9.75,10.21,8.67,8.79,7.63,4.94,8.58,6.16,7.28,9.21,6.13,7.23,5.08,3.66,7.27,5.07,7.48,6.68,4.64,8.08,6.43,7.39,8.71,7.71,5.26,5.05,4.6,5.49,4.9,9.19,3.05,4.68,4.68,2.24,4.65,2.79,6.05,5.05,3.14,0.95,6.85,1.06,1.08,6.46,2.37,2.17,6.89,2.4,3.71,5.97],\"type\":\"choropleth\"}],\"name\":\"1990\"},{\"data\":[{\"coloraxis\":\"coloraxis\",\"customdata\":[[\"Australia\",11.51],[\"Austria\",8.93],[\"Belgium\",10.64],[\"Canada\",11.11],[\"Denmark\",11.04],[\"Finland\",9.31],[\"France\",9.36],[\"Germany\",9.93],[\"Greece\",9.54],[\"Ireland\",10.8],[\"Italy\",9.04],[\"Japan\",11.26],[\"Luxembourg\",9.57],[\"Netherlands\",10.88],[\"New Zealand\",11.81],[\"Norway\",11.31],[\"Portugal\",7.49],[\"Spain\",8.72],[\"Sweden\",11.41],[\"Switzerland\",10.41],[\"T\\u00fcrkiye\",5.88],[\"USA\",12.83],[\"United Kingdom of Great Britain and Northern Ireland\",9.67],[\"Cambodia\",3.41],[\"China\",6.83],[\"Fiji\",10.28],[\"Hong Kong\",10.21],[\"India\",4.3],[\"Indonesia\",4.89],[\"Malaysia\",8.66],[\"Myanmar\",3.4],[\"Philippines\",7.59],[\"Korea, Republic of\",11.17],[\"Sri Lanka\",9.83],[\"Taiwan\",9.55],[\"Thailand\",5.79],[\"Albania\",8.54],[\"Bulgaria\",9.31],[\"Hungary\",10.75],[\"Poland\",10.32],[\"Russian Federation\",10.73],[\"Argentina\",8.91],[\"Barbados\",9.07],[\"Bolivia, Plurinational State of\",8.09],[\"Brazil\",5.79],[\"Chile\",8.92],[\"Colombia\",6.68],[\"Costa Rica\",7.61],[\"Cuba\",9.58],[\"Dominican Republic\",6.58],[\"Ecuador\",7.32],[\"El Salvador\",5.8],[\"Guatemala\",3.96],[\"Guyana\",7.92],[\"Honduras\",5.47],[\"Jamaica\",8.55],[\"Mexico\",7.37],[\"Nicaragua\",5.19],[\"Panama\",8.71],[\"Paraguay\",6.4],[\"Peru\",8.09],[\"Trinidad and Tobago\",9.22],[\"Uruguay\",8.08],[\"Venezuela, Bolivarian Republic of\",6.11],[\"Algeria\",5.76],[\"Egypt\",5.36],[\"Iran, Islamic Republic of\",6.69],[\"Iraq\",5.44],[\"Malta\",10.06],[\"Morocco\",3.64],[\"Syrian Arab Republic\",4.77],[\"Tunisia\",5.48],[\"Benin\",2.73],[\"Cameroon\",5.3],[\"Cote dIvoire\",3.46],[\"Ghana\",6.27],[\"Kenya\",5.5],[\"Malawi\",3.3],[\"Mali\",1.07],[\"Mauritius\",7.07],[\"Mozambique\",0.98],[\"Niger\",1.28],[\"R\\u00e9union\",6.97],[\"Senegal\",2.26],[\"Sierra Leone\",2.55],[\"South Africa\",8.37],[\"Sudan\",2.78],[\"Uganda\",4.17],[\"Zimbabwe\",6.85]],\"geo\":\"geo\",\"hovertemplate\":\"year=1995<br>iso_alpha=%{location}<br>country=%{customdata[0]}<br>avg_years_total_schooling=%{z}<extra></extra>\",\"locations\":[\"AUS\",\"AUT\",\"BEL\",\"CAN\",\"DNK\",\"FIN\",\"FRA\",\"DEU\",\"GRC\",\"IRL\",\"ITA\",\"JPN\",\"LUX\",\"NLD\",\"NZL\",\"NOR\",\"PRT\",\"ESP\",\"SWE\",\"CHE\",\"TUR\",\"USA\",\"GBR\",\"KHM\",\"CHN\",\"FJI\",\"HKG\",\"IND\",\"IDN\",\"MYS\",\"MMR\",\"PHL\",\"KOR\",\"LKA\",\"TWN\",\"THA\",\"ALB\",\"BGR\",\"HUN\",\"POL\",\"RUS\",\"ARG\",\"BRB\",\"BOL\",\"BRA\",\"CHL\",\"COL\",\"CRI\",\"CUB\",\"DOM\",\"ECU\",\"SLV\",\"GTM\",\"GUY\",\"HND\",\"JAM\",\"MEX\",\"NIC\",\"PAN\",\"PRY\",\"PER\",\"TTO\",\"URY\",\"VEN\",\"DZA\",\"EGY\",\"IRN\",\"IRQ\",\"MLT\",\"MAR\",\"SYR\",\"TUN\",\"BEN\",\"CMR\",null,\"GHA\",\"KEN\",\"MWI\",\"MLI\",\"MUS\",\"MOZ\",\"NER\",\"REU\",\"SEN\",\"SLE\",\"ZAF\",\"SDN\",\"UGA\",\"ZWE\"],\"name\":\"\",\"z\":[11.51,8.93,10.64,11.11,11.04,9.31,9.36,9.93,9.54,10.8,9.04,11.26,9.57,10.88,11.81,11.31,7.49,8.72,11.41,10.41,5.88,12.83,9.67,3.41,6.83,10.28,10.21,4.3,4.89,8.66,3.4,7.59,11.17,9.83,9.55,5.79,8.54,9.31,10.75,10.32,10.73,8.91,9.07,8.09,5.79,8.92,6.68,7.61,9.58,6.58,7.32,5.8,3.96,7.92,5.47,8.55,7.37,5.19,8.71,6.4,8.09,9.22,8.08,6.11,5.76,5.36,6.69,5.44,10.06,3.64,4.77,5.48,2.73,5.3,3.46,6.27,5.5,3.3,1.07,7.07,0.98,1.28,6.97,2.26,2.55,8.37,2.78,4.17,6.85],\"type\":\"choropleth\"}],\"name\":\"1995\"},{\"data\":[{\"coloraxis\":\"coloraxis\",\"customdata\":[[\"Australia\",11.37],[\"Austria\",9.43],[\"Belgium\",10.95],[\"Canada\",11.39],[\"Denmark\",11.5],[\"Finland\",9.9],[\"France\",10.22],[\"Germany\",10.59],[\"Greece\",9.9],[\"Ireland\",11.03],[\"Italy\",9.73],[\"Japan\",11.77],[\"Luxembourg\",9.92],[\"Netherlands\",11.14],[\"New Zealand\",11.98],[\"Norway\",11.56],[\"Portugal\",8.41],[\"Spain\",9.65],[\"Sweden\",11.72],[\"Switzerland\",10.14],[\"T\\u00fcrkiye\",6.37],[\"USA\",13.1],[\"United Kingdom of Great Britain and Northern Ireland\",9.97],[\"Cambodia\",3.64],[\"China\",7.51],[\"Fiji\",9.97],[\"Hong Kong\",10.37],[\"India\",5.3],[\"Indonesia\",5.41],[\"Malaysia\",9.49],[\"Myanmar\",3.89],[\"Philippines\",7.96],[\"Korea, Republic of\",11.8],[\"Sri Lanka\",10.77],[\"Taiwan\",10.38],[\"Thailand\",6.09],[\"Albania\",9.93],[\"Bulgaria\",9.65],[\"Hungary\",11.57],[\"Poland\",10.74],[\"Russian Federation\",11.54],[\"Argentina\",9.08],[\"Barbados\",9.23],[\"Bolivia, Plurinational State of\",8.73],[\"Brazil\",6.76],[\"Chile\",9.41],[\"Colombia\",7.12],[\"Costa Rica\",7.96],[\"Cuba\",9.88],[\"Dominican Republic\",7.03],[\"Ecuador\",7.41],[\"El Salvador\",7.04],[\"Guatemala\",4.35],[\"Guyana\",8.43],[\"Honduras\",5.87],[\"Jamaica\",9.59],[\"Mexico\",7.96],[\"Nicaragua\",5.7],[\"Panama\",9.24],[\"Paraguay\",6.55],[\"Peru\",9.05],[\"Trinidad and Tobago\",9.72],[\"Uruguay\",8.36],[\"Venezuela, Bolivarian Republic of\",7.01],[\"Algeria\",6.06],[\"Egypt\",6.3],[\"Iran, Islamic Republic of\",7.66],[\"Iraq\",6.23],[\"Malta\",10.43],[\"Morocco\",4.09],[\"Syrian Arab Republic\",4.79],[\"Tunisia\",6.32],[\"Benin\",3.31],[\"Cameroon\",5.76],[\"Cote dIvoire\",4.06],[\"Ghana\",6.67],[\"Kenya\",5.91],[\"Malawi\",3.73],[\"Mali\",1.3],[\"Mauritius\",7.07],[\"Mozambique\",1.13],[\"Niger\",1.43],[\"R\\u00e9union\",7.42],[\"Senegal\",1.98],[\"Sierra Leone\",2.9],[\"South Africa\",7.92],[\"Sudan\",3.09],[\"Uganda\",4.56],[\"Zimbabwe\",7.26]],\"geo\":\"geo\",\"hovertemplate\":\"year=2000<br>iso_alpha=%{location}<br>country=%{customdata[0]}<br>avg_years_total_schooling=%{z}<extra></extra>\",\"locations\":[\"AUS\",\"AUT\",\"BEL\",\"CAN\",\"DNK\",\"FIN\",\"FRA\",\"DEU\",\"GRC\",\"IRL\",\"ITA\",\"JPN\",\"LUX\",\"NLD\",\"NZL\",\"NOR\",\"PRT\",\"ESP\",\"SWE\",\"CHE\",\"TUR\",\"USA\",\"GBR\",\"KHM\",\"CHN\",\"FJI\",\"HKG\",\"IND\",\"IDN\",\"MYS\",\"MMR\",\"PHL\",\"KOR\",\"LKA\",\"TWN\",\"THA\",\"ALB\",\"BGR\",\"HUN\",\"POL\",\"RUS\",\"ARG\",\"BRB\",\"BOL\",\"BRA\",\"CHL\",\"COL\",\"CRI\",\"CUB\",\"DOM\",\"ECU\",\"SLV\",\"GTM\",\"GUY\",\"HND\",\"JAM\",\"MEX\",\"NIC\",\"PAN\",\"PRY\",\"PER\",\"TTO\",\"URY\",\"VEN\",\"DZA\",\"EGY\",\"IRN\",\"IRQ\",\"MLT\",\"MAR\",\"SYR\",\"TUN\",\"BEN\",\"CMR\",null,\"GHA\",\"KEN\",\"MWI\",\"MLI\",\"MUS\",\"MOZ\",\"NER\",\"REU\",\"SEN\",\"SLE\",\"ZAF\",\"SDN\",\"UGA\",\"ZWE\"],\"name\":\"\",\"z\":[11.37,9.43,10.95,11.39,11.5,9.9,10.22,10.59,9.9,11.03,9.73,11.77,9.92,11.14,11.98,11.56,8.41,9.65,11.72,10.14,6.37,13.1,9.97,3.64,7.51,9.97,10.37,5.3,5.41,9.49,3.89,7.96,11.8,10.77,10.38,6.09,9.93,9.65,11.57,10.74,11.54,9.08,9.23,8.73,6.76,9.41,7.12,7.96,9.88,7.03,7.41,7.04,4.35,8.43,5.87,9.59,7.96,5.7,9.24,6.55,9.05,9.72,8.36,7.01,6.06,6.3,7.66,6.23,10.43,4.09,4.79,6.32,3.31,5.76,4.06,6.67,5.91,3.73,1.3,7.07,1.13,1.43,7.42,1.98,2.9,7.92,3.09,4.56,7.26],\"type\":\"choropleth\"}],\"name\":\"2000\"},{\"data\":[{\"coloraxis\":\"coloraxis\",\"customdata\":[[\"Australia\",11.71],[\"Austria\",9.89],[\"Belgium\",11.11],[\"Canada\",12.49],[\"Denmark\",11.81],[\"Finland\",10.42],[\"France\",10.86],[\"Germany\",11.98],[\"Greece\",10.95],[\"Ireland\",11.8],[\"Italy\",10.2],[\"Japan\",12.12],[\"Luxembourg\",10.59],[\"Netherlands\",11.15],[\"New Zealand\",12.0],[\"Norway\",11.91],[\"Portugal\",8.12],[\"Spain\",10.64],[\"Sweden\",11.86],[\"Switzerland\",10.82],[\"T\\u00fcrkiye\",6.86],[\"USA\",13.01],[\"United Kingdom of Great Britain and Northern Ireland\",11.57],[\"Cambodia\",4.26],[\"China\",7.8],[\"Fiji\",9.76],[\"Hong Kong\",12.17],[\"India\",5.94],[\"Indonesia\",6.68],[\"Malaysia\",10.16],[\"Myanmar\",4.45],[\"Philippines\",8.27],[\"Korea, Republic of\",12.27],[\"Sri Lanka\",10.83],[\"Taiwan\",11.35],[\"Thailand\",7.46],[\"Albania\",10.24],[\"Bulgaria\",10.61],[\"Hungary\",11.89],[\"Poland\",11.36],[\"Russian Federation\",11.76],[\"Argentina\",9.57],[\"Barbados\",9.41],[\"Bolivia, Plurinational State of\",8.77],[\"Brazil\",7.67],[\"Chile\",9.96],[\"Colombia\",7.56],[\"Costa Rica\",8.52],[\"Cuba\",10.36],[\"Dominican Republic\",7.54],[\"Ecuador\",7.7],[\"El Salvador\",8.08],[\"Guatemala\",4.33],[\"Guyana\",8.79],[\"Honduras\",6.24],[\"Jamaica\",10.09],[\"Mexico\",8.9],[\"Nicaragua\",6.28],[\"Panama\",9.51],[\"Paraguay\",8.03],[\"Peru\",9.88],[\"Trinidad and Tobago\",10.27],[\"Uruguay\",8.5],[\"Venezuela, Bolivarian Republic of\",7.8],[\"Algeria\",6.43],[\"Egypt\",6.93],[\"Iran, Islamic Republic of\",8.49],[\"Iraq\",6.6],[\"Malta\",10.6],[\"Morocco\",4.63],[\"Syrian Arab Republic\",6.12],[\"Tunisia\",7.21],[\"Benin\",3.85],[\"Cameroon\",6.06],[\"Cote dIvoire\",4.52],[\"Ghana\",7.35],[\"Kenya\",6.48],[\"Malawi\",4.67],[\"Mali\",1.81],[\"Mauritius\",8.16],[\"Mozambique\",1.34],[\"Niger\",1.62],[\"R\\u00e9union\",7.85],[\"Senegal\",1.67],[\"Sierra Leone\",3.36],[\"South Africa\",8.86],[\"Sudan\",3.31],[\"Uganda\",5.11],[\"Zimbabwe\",7.65]],\"geo\":\"geo\",\"hovertemplate\":\"year=2005<br>iso_alpha=%{location}<br>country=%{customdata[0]}<br>avg_years_total_schooling=%{z}<extra></extra>\",\"locations\":[\"AUS\",\"AUT\",\"BEL\",\"CAN\",\"DNK\",\"FIN\",\"FRA\",\"DEU\",\"GRC\",\"IRL\",\"ITA\",\"JPN\",\"LUX\",\"NLD\",\"NZL\",\"NOR\",\"PRT\",\"ESP\",\"SWE\",\"CHE\",\"TUR\",\"USA\",\"GBR\",\"KHM\",\"CHN\",\"FJI\",\"HKG\",\"IND\",\"IDN\",\"MYS\",\"MMR\",\"PHL\",\"KOR\",\"LKA\",\"TWN\",\"THA\",\"ALB\",\"BGR\",\"HUN\",\"POL\",\"RUS\",\"ARG\",\"BRB\",\"BOL\",\"BRA\",\"CHL\",\"COL\",\"CRI\",\"CUB\",\"DOM\",\"ECU\",\"SLV\",\"GTM\",\"GUY\",\"HND\",\"JAM\",\"MEX\",\"NIC\",\"PAN\",\"PRY\",\"PER\",\"TTO\",\"URY\",\"VEN\",\"DZA\",\"EGY\",\"IRN\",\"IRQ\",\"MLT\",\"MAR\",\"SYR\",\"TUN\",\"BEN\",\"CMR\",null,\"GHA\",\"KEN\",\"MWI\",\"MLI\",\"MUS\",\"MOZ\",\"NER\",\"REU\",\"SEN\",\"SLE\",\"ZAF\",\"SDN\",\"UGA\",\"ZWE\"],\"name\":\"\",\"z\":[11.71,9.89,11.11,12.49,11.81,10.42,10.86,11.98,10.95,11.8,10.2,12.12,10.59,11.15,12.0,11.91,8.12,10.64,11.86,10.82,6.86,13.01,11.57,4.26,7.8,9.76,12.17,5.94,6.68,10.16,4.45,8.27,12.27,10.83,11.35,7.46,10.24,10.61,11.89,11.36,11.76,9.57,9.41,8.77,7.67,9.96,7.56,8.52,10.36,7.54,7.7,8.08,4.33,8.79,6.24,10.09,8.9,6.28,9.51,8.03,9.88,10.27,8.5,7.8,6.43,6.93,8.49,6.6,10.6,4.63,6.12,7.21,3.85,6.06,4.52,7.35,6.48,4.67,1.81,8.16,1.34,1.62,7.85,1.67,3.36,8.86,3.31,5.11,7.65],\"type\":\"choropleth\"}],\"name\":\"2005\"},{\"data\":[{\"coloraxis\":\"coloraxis\",\"customdata\":[[\"Australia\",11.69],[\"Austria\",10.13],[\"Belgium\",11.29],[\"Canada\",12.74],[\"Denmark\",11.97],[\"Finland\",10.71],[\"France\",11.34],[\"Germany\",12.58],[\"Greece\",11.36],[\"Ireland\",12.45],[\"Italy\",10.71],[\"Japan\",12.44],[\"Luxembourg\",11.33],[\"Netherlands\",11.71],[\"New Zealand\",11.12],[\"Norway\",11.65],[\"Portugal\",8.71],[\"Spain\",10.75],[\"Sweden\",11.95],[\"Switzerland\",12.92],[\"T\\u00fcrkiye\",7.44],[\"USA\",13.24],[\"United Kingdom of Great Britain and Northern Ireland\",12.46],[\"Cambodia\",4.94],[\"China\",7.96],[\"Fiji\",10.35],[\"Hong Kong\",12.2],[\"India\",6.59],[\"Indonesia\",8.02],[\"Malaysia\",10.89],[\"Myanmar\",5.11],[\"Philippines\",8.65],[\"Korea, Republic of\",12.96],[\"Sri Lanka\",10.67],[\"Taiwan\",11.96],[\"Thailand\",8.47],[\"Albania\",10.44],[\"Bulgaria\",11.07],[\"Hungary\",11.98],[\"Poland\",11.62],[\"Russian Federation\",12.02],[\"Argentina\",9.71],[\"Barbados\",9.57],[\"Bolivia, Plurinational State of\",8.57],[\"Brazil\",8.17],[\"Chile\",10.35],[\"Colombia\",9.35],[\"Costa Rica\",8.43],[\"Cuba\",11.06],[\"Dominican Republic\",8.12],[\"Ecuador\",8.02],[\"El Salvador\",8.06],[\"Guatemala\",5.21],[\"Guyana\",9.0],[\"Honduras\",6.6],[\"Jamaica\",10.33],[\"Mexico\",9.18],[\"Nicaragua\",6.82],[\"Panama\",9.72],[\"Paraguay\",7.99],[\"Peru\",9.28],[\"Trinidad and Tobago\",10.96],[\"Uruguay\",8.61],[\"Venezuela, Bolivarian Republic of\",8.78],[\"Algeria\",7.0],[\"Egypt\",7.44],[\"Iran, Islamic Republic of\",9.15],[\"Iraq\",7.43],[\"Malta\",11.06],[\"Morocco\",5.27],[\"Syrian Arab Republic\",7.07],[\"Tunisia\",8.0],[\"Benin\",4.57],[\"Cameroon\",6.41],[\"Cote dIvoire\",4.93],[\"Ghana\",7.66],[\"Kenya\",6.47],[\"Malawi\",5.01],[\"Mali\",2.14],[\"Mauritius\",9.44],[\"Mozambique\",2.03],[\"Niger\",1.95],[\"R\\u00e9union\",8.29],[\"Senegal\",3.11],[\"Sierra Leone\",4.28],[\"South Africa\",9.89],[\"Sudan\",3.49],[\"Uganda\",5.87],[\"Zimbabwe\",7.86]],\"geo\":\"geo\",\"hovertemplate\":\"year=2010<br>iso_alpha=%{location}<br>country=%{customdata[0]}<br>avg_years_total_schooling=%{z}<extra></extra>\",\"locations\":[\"AUS\",\"AUT\",\"BEL\",\"CAN\",\"DNK\",\"FIN\",\"FRA\",\"DEU\",\"GRC\",\"IRL\",\"ITA\",\"JPN\",\"LUX\",\"NLD\",\"NZL\",\"NOR\",\"PRT\",\"ESP\",\"SWE\",\"CHE\",\"TUR\",\"USA\",\"GBR\",\"KHM\",\"CHN\",\"FJI\",\"HKG\",\"IND\",\"IDN\",\"MYS\",\"MMR\",\"PHL\",\"KOR\",\"LKA\",\"TWN\",\"THA\",\"ALB\",\"BGR\",\"HUN\",\"POL\",\"RUS\",\"ARG\",\"BRB\",\"BOL\",\"BRA\",\"CHL\",\"COL\",\"CRI\",\"CUB\",\"DOM\",\"ECU\",\"SLV\",\"GTM\",\"GUY\",\"HND\",\"JAM\",\"MEX\",\"NIC\",\"PAN\",\"PRY\",\"PER\",\"TTO\",\"URY\",\"VEN\",\"DZA\",\"EGY\",\"IRN\",\"IRQ\",\"MLT\",\"MAR\",\"SYR\",\"TUN\",\"BEN\",\"CMR\",null,\"GHA\",\"KEN\",\"MWI\",\"MLI\",\"MUS\",\"MOZ\",\"NER\",\"REU\",\"SEN\",\"SLE\",\"ZAF\",\"SDN\",\"UGA\",\"ZWE\"],\"name\":\"\",\"z\":[11.69,10.13,11.29,12.74,11.97,10.71,11.34,12.58,11.36,12.45,10.71,12.44,11.33,11.71,11.12,11.65,8.71,10.75,11.95,12.92,7.44,13.24,12.46,4.94,7.96,10.35,12.2,6.59,8.02,10.89,5.11,8.65,12.96,10.67,11.96,8.47,10.44,11.07,11.98,11.62,12.02,9.71,9.57,8.57,8.17,10.35,9.35,8.43,11.06,8.12,8.02,8.06,5.21,9.0,6.6,10.33,9.18,6.82,9.72,7.99,9.28,10.96,8.61,8.78,7.0,7.44,9.15,7.43,11.06,5.27,7.07,8.0,4.57,6.41,4.93,7.66,6.47,5.01,2.14,9.44,2.03,1.95,8.29,3.11,4.28,9.89,3.49,5.87,7.86],\"type\":\"choropleth\"}],\"name\":\"2010\"}]);\n",
       "                        }).then(function(){\n",
       "                            \n",
       "var gd = document.getElementById('186ba8df-f6ab-4f38-a46c-3b78b7760c61');\n",
       "var x = new MutationObserver(function (mutations, observer) {{\n",
       "        var display = window.getComputedStyle(gd).display;\n",
       "        if (!display || display === 'none') {{\n",
       "            console.log([gd, 'removed!']);\n",
       "            Plotly.purge(gd);\n",
       "            observer.disconnect();\n",
       "        }}\n",
       "}});\n",
       "\n",
       "// Listen for the removal of the full notebook cells\n",
       "var notebookContainer = gd.closest('#notebook-container');\n",
       "if (notebookContainer) {{\n",
       "    x.observe(notebookContainer, {childList: true});\n",
       "}}\n",
       "\n",
       "// Listen for the clearing of the current output cell\n",
       "var outputEl = gd.closest('.output');\n",
       "if (outputEl) {{\n",
       "    x.observe(outputEl, {childList: true});\n",
       "}}\n",
       "\n",
       "                        })                };                });            </script>        </div>"
      ]
     },
     "metadata": {},
     "output_type": "display_data"
    }
   ],
   "source": [
    "fig = px.choropleth(data_frame=df2,\n",
    "             color='avg_years_total_schooling', \n",
    "            locations=\"iso_alpha\",\n",
    "            color_continuous_scale=px.colors.diverging.Geyser_r,\n",
    "             hover_data= ['country', 'avg_years_total_schooling'],\n",
    "             animation_frame='year',\n",
    "             range_color=[0, MAX_AVG_TOTAL_SCHOOLING]) #range color is important to lock the color scale between\n",
    "\n",
    "fig.layout.updatemenus[0].buttons[0].args[1]['frame']['duration'] = 300\n",
    "fig.layout.updatemenus[0].buttons[0].args[1]['transition']['duration'] = 1000 # speeds up the frame rate of animation\n",
    "fig"
   ]
  },
  {
   "cell_type": "code",
   "execution_count": 68,
   "id": "8e7b9930",
   "metadata": {},
   "outputs": [],
   "source": [
    "df2.to_csv('with_iso_alpha_education.csv')"
   ]
  },
  {
   "cell_type": "code",
   "execution_count": null,
   "id": "5e2ae231",
   "metadata": {},
   "outputs": [],
   "source": []
  },
  {
   "cell_type": "code",
   "execution_count": null,
   "id": "63e76f2a",
   "metadata": {},
   "outputs": [],
   "source": []
  }
 ],
 "metadata": {
  "kernelspec": {
   "display_name": "Python 3 (ipykernel)",
   "language": "python",
   "name": "python3"
  },
  "language_info": {
   "codemirror_mode": {
    "name": "ipython",
    "version": 3
   },
   "file_extension": ".py",
   "mimetype": "text/x-python",
   "name": "python",
   "nbconvert_exporter": "python",
   "pygments_lexer": "ipython3",
   "version": "3.11.3"
  }
 },
 "nbformat": 4,
 "nbformat_minor": 5
}
