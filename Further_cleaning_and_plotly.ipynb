{
 "cells": [
  {
   "cell_type": "code",
   "execution_count": 1,
   "id": "0c48a7fb",
   "metadata": {},
   "outputs": [
    {
     "name": "stdout",
     "output_type": "stream",
     "text": [
      "     State  ANSI Affected by  Year state_code  Pct of Colonies Impacted\n",
      "0  Alabama     1     Disease  2015         AL                      0.05\n",
      "1  Alabama     1     Disease  2016         AL                      1.20\n",
      "2  Alabama     1     Disease  2017         AL                      2.25\n",
      "3  Alabama     1     Disease  2018         AL                      1.30\n",
      "4  Alabama     1     Disease  2019         AL                      1.80\n"
     ]
    }
   ],
   "source": [
    "import pandas as pd\n",
    "import plotly.express as px  # (version 4.7.0 or higher)\n",
    "import plotly.graph_objects as go\n",
    "from dash import Dash, dcc, html, Input, Output  # pip install dash (version 2.0.0 or higher)\n",
    "\n",
    "# -- Import and clean data (importing csv into pandas)\n",
    "# df = pd.read_csv(\"intro_bees.csv\")\n",
    "df = pd.read_csv(\"https://raw.githubusercontent.com/Coding-with-Adam/Dash-by-Plotly/master/Other/Dash_Introduction/intro_bees.csv\")\n",
    "\n",
    "df = df.groupby(['State', 'ANSI', 'Affected by', 'Year', 'state_code'])[['Pct of Colonies Impacted']].mean()\n",
    "df.reset_index(inplace=True)\n",
    "print(df[:5])\n",
    "\n"
   ]
  },
  {
   "cell_type": "code",
   "execution_count": 2,
   "id": "4db6054a",
   "metadata": {},
   "outputs": [
    {
     "data": {
      "text/html": [
       "<div>\n",
       "<style scoped>\n",
       "    .dataframe tbody tr th:only-of-type {\n",
       "        vertical-align: middle;\n",
       "    }\n",
       "\n",
       "    .dataframe tbody tr th {\n",
       "        vertical-align: top;\n",
       "    }\n",
       "\n",
       "    .dataframe thead th {\n",
       "        text-align: right;\n",
       "    }\n",
       "</style>\n",
       "<table border=\"1\" class=\"dataframe\">\n",
       "  <thead>\n",
       "    <tr style=\"text-align: right;\">\n",
       "      <th></th>\n",
       "      <th>country</th>\n",
       "      <th>year</th>\n",
       "      <th>no_schooling</th>\n",
       "      <th>total_primary</th>\n",
       "      <th>completed_primary</th>\n",
       "      <th>total_secondary</th>\n",
       "      <th>completed_secondary</th>\n",
       "      <th>total_tertiary</th>\n",
       "      <th>completed_tertiary</th>\n",
       "      <th>avg_years_total_schooling</th>\n",
       "      <th>avg_years_primary_schooling</th>\n",
       "      <th>avg_years_secondary_schooling</th>\n",
       "      <th>avg_years_tertiary_schooling</th>\n",
       "      <th>population_1000s</th>\n",
       "      <th>region</th>\n",
       "    </tr>\n",
       "  </thead>\n",
       "  <tbody>\n",
       "    <tr>\n",
       "      <th>0</th>\n",
       "      <td>Australia</td>\n",
       "      <td>1870</td>\n",
       "      <td>50.5</td>\n",
       "      <td>49.3</td>\n",
       "      <td>8.8</td>\n",
       "      <td>0.1</td>\n",
       "      <td>0.0</td>\n",
       "      <td>0.1</td>\n",
       "      <td>0.0</td>\n",
       "      <td>1.77</td>\n",
       "      <td>1.76</td>\n",
       "      <td>0.01</td>\n",
       "      <td>0.00</td>\n",
       "      <td>932.0</td>\n",
       "      <td>Advanced Economies</td>\n",
       "    </tr>\n",
       "    <tr>\n",
       "      <th>1</th>\n",
       "      <td>Australia</td>\n",
       "      <td>1875</td>\n",
       "      <td>46.0</td>\n",
       "      <td>53.8</td>\n",
       "      <td>9.6</td>\n",
       "      <td>0.1</td>\n",
       "      <td>0.0</td>\n",
       "      <td>0.1</td>\n",
       "      <td>0.0</td>\n",
       "      <td>1.93</td>\n",
       "      <td>1.92</td>\n",
       "      <td>0.01</td>\n",
       "      <td>0.00</td>\n",
       "      <td>1074.0</td>\n",
       "      <td>Advanced Economies</td>\n",
       "    </tr>\n",
       "    <tr>\n",
       "      <th>2</th>\n",
       "      <td>Australia</td>\n",
       "      <td>1880</td>\n",
       "      <td>41.5</td>\n",
       "      <td>58.0</td>\n",
       "      <td>9.7</td>\n",
       "      <td>0.3</td>\n",
       "      <td>0.1</td>\n",
       "      <td>0.2</td>\n",
       "      <td>0.1</td>\n",
       "      <td>2.08</td>\n",
       "      <td>2.06</td>\n",
       "      <td>0.02</td>\n",
       "      <td>0.00</td>\n",
       "      <td>1314.0</td>\n",
       "      <td>Advanced Economies</td>\n",
       "    </tr>\n",
       "    <tr>\n",
       "      <th>3</th>\n",
       "      <td>Australia</td>\n",
       "      <td>1885</td>\n",
       "      <td>36.1</td>\n",
       "      <td>61.7</td>\n",
       "      <td>11.3</td>\n",
       "      <td>2.0</td>\n",
       "      <td>0.4</td>\n",
       "      <td>0.2</td>\n",
       "      <td>0.1</td>\n",
       "      <td>2.41</td>\n",
       "      <td>2.32</td>\n",
       "      <td>0.08</td>\n",
       "      <td>0.01</td>\n",
       "      <td>1569.0</td>\n",
       "      <td>Advanced Economies</td>\n",
       "    </tr>\n",
       "    <tr>\n",
       "      <th>4</th>\n",
       "      <td>Australia</td>\n",
       "      <td>1890</td>\n",
       "      <td>29.7</td>\n",
       "      <td>66.6</td>\n",
       "      <td>13.3</td>\n",
       "      <td>3.5</td>\n",
       "      <td>0.7</td>\n",
       "      <td>0.3</td>\n",
       "      <td>0.1</td>\n",
       "      <td>2.76</td>\n",
       "      <td>2.62</td>\n",
       "      <td>0.13</td>\n",
       "      <td>0.01</td>\n",
       "      <td>1895.0</td>\n",
       "      <td>Advanced Economies</td>\n",
       "    </tr>\n",
       "    <tr>\n",
       "      <th>...</th>\n",
       "      <td>...</td>\n",
       "      <td>...</td>\n",
       "      <td>...</td>\n",
       "      <td>...</td>\n",
       "      <td>...</td>\n",
       "      <td>...</td>\n",
       "      <td>...</td>\n",
       "      <td>...</td>\n",
       "      <td>...</td>\n",
       "      <td>...</td>\n",
       "      <td>...</td>\n",
       "      <td>...</td>\n",
       "      <td>...</td>\n",
       "      <td>...</td>\n",
       "      <td>...</td>\n",
       "    </tr>\n",
       "    <tr>\n",
       "      <th>2928</th>\n",
       "      <td>Zimbabwe</td>\n",
       "      <td>1990</td>\n",
       "      <td>12.2</td>\n",
       "      <td>47.9</td>\n",
       "      <td>21.8</td>\n",
       "      <td>36.1</td>\n",
       "      <td>21.8</td>\n",
       "      <td>3.8</td>\n",
       "      <td>2.3</td>\n",
       "      <td>5.97</td>\n",
       "      <td>3.74</td>\n",
       "      <td>2.11</td>\n",
       "      <td>0.12</td>\n",
       "      <td>5399.0</td>\n",
       "      <td>Sub-Saharan Africa</td>\n",
       "    </tr>\n",
       "    <tr>\n",
       "      <th>2929</th>\n",
       "      <td>Zimbabwe</td>\n",
       "      <td>1995</td>\n",
       "      <td>8.8</td>\n",
       "      <td>41.8</td>\n",
       "      <td>21.5</td>\n",
       "      <td>46.8</td>\n",
       "      <td>18.9</td>\n",
       "      <td>2.6</td>\n",
       "      <td>1.5</td>\n",
       "      <td>6.85</td>\n",
       "      <td>4.46</td>\n",
       "      <td>2.31</td>\n",
       "      <td>0.08</td>\n",
       "      <td>6172.0</td>\n",
       "      <td>Sub-Saharan Africa</td>\n",
       "    </tr>\n",
       "    <tr>\n",
       "      <th>2930</th>\n",
       "      <td>Zimbabwe</td>\n",
       "      <td>2000</td>\n",
       "      <td>6.6</td>\n",
       "      <td>36.3</td>\n",
       "      <td>19.9</td>\n",
       "      <td>56.0</td>\n",
       "      <td>7.3</td>\n",
       "      <td>1.0</td>\n",
       "      <td>0.7</td>\n",
       "      <td>7.26</td>\n",
       "      <td>5.05</td>\n",
       "      <td>2.18</td>\n",
       "      <td>0.03</td>\n",
       "      <td>6813.0</td>\n",
       "      <td>Sub-Saharan Africa</td>\n",
       "    </tr>\n",
       "    <tr>\n",
       "      <th>2931</th>\n",
       "      <td>Zimbabwe</td>\n",
       "      <td>2005</td>\n",
       "      <td>5.4</td>\n",
       "      <td>36.3</td>\n",
       "      <td>22.3</td>\n",
       "      <td>57.4</td>\n",
       "      <td>6.7</td>\n",
       "      <td>0.9</td>\n",
       "      <td>0.6</td>\n",
       "      <td>7.65</td>\n",
       "      <td>5.50</td>\n",
       "      <td>2.13</td>\n",
       "      <td>0.03</td>\n",
       "      <td>7336.0</td>\n",
       "      <td>Sub-Saharan Africa</td>\n",
       "    </tr>\n",
       "    <tr>\n",
       "      <th>2932</th>\n",
       "      <td>Zimbabwe</td>\n",
       "      <td>2010</td>\n",
       "      <td>3.6</td>\n",
       "      <td>38.1</td>\n",
       "      <td>26.5</td>\n",
       "      <td>57.5</td>\n",
       "      <td>5.9</td>\n",
       "      <td>0.7</td>\n",
       "      <td>0.5</td>\n",
       "      <td>7.86</td>\n",
       "      <td>5.89</td>\n",
       "      <td>1.94</td>\n",
       "      <td>0.02</td>\n",
       "      <td>7814.0</td>\n",
       "      <td>Sub-Saharan Africa</td>\n",
       "    </tr>\n",
       "  </tbody>\n",
       "</table>\n",
       "<p>2581 rows × 15 columns</p>\n",
       "</div>"
      ],
      "text/plain": [
       "        country  year  no_schooling  total_primary  completed_primary  \\\n",
       "0     Australia  1870          50.5           49.3                8.8   \n",
       "1     Australia  1875          46.0           53.8                9.6   \n",
       "2     Australia  1880          41.5           58.0                9.7   \n",
       "3     Australia  1885          36.1           61.7               11.3   \n",
       "4     Australia  1890          29.7           66.6               13.3   \n",
       "...         ...   ...           ...            ...                ...   \n",
       "2928   Zimbabwe  1990          12.2           47.9               21.8   \n",
       "2929   Zimbabwe  1995           8.8           41.8               21.5   \n",
       "2930   Zimbabwe  2000           6.6           36.3               19.9   \n",
       "2931   Zimbabwe  2005           5.4           36.3               22.3   \n",
       "2932   Zimbabwe  2010           3.6           38.1               26.5   \n",
       "\n",
       "      total_secondary  completed_secondary  total_tertiary  \\\n",
       "0                 0.1                  0.0             0.1   \n",
       "1                 0.1                  0.0             0.1   \n",
       "2                 0.3                  0.1             0.2   \n",
       "3                 2.0                  0.4             0.2   \n",
       "4                 3.5                  0.7             0.3   \n",
       "...               ...                  ...             ...   \n",
       "2928             36.1                 21.8             3.8   \n",
       "2929             46.8                 18.9             2.6   \n",
       "2930             56.0                  7.3             1.0   \n",
       "2931             57.4                  6.7             0.9   \n",
       "2932             57.5                  5.9             0.7   \n",
       "\n",
       "      completed_tertiary  avg_years_total_schooling  \\\n",
       "0                    0.0                       1.77   \n",
       "1                    0.0                       1.93   \n",
       "2                    0.1                       2.08   \n",
       "3                    0.1                       2.41   \n",
       "4                    0.1                       2.76   \n",
       "...                  ...                        ...   \n",
       "2928                 2.3                       5.97   \n",
       "2929                 1.5                       6.85   \n",
       "2930                 0.7                       7.26   \n",
       "2931                 0.6                       7.65   \n",
       "2932                 0.5                       7.86   \n",
       "\n",
       "      avg_years_primary_schooling  avg_years_secondary_schooling  \\\n",
       "0                            1.76                           0.01   \n",
       "1                            1.92                           0.01   \n",
       "2                            2.06                           0.02   \n",
       "3                            2.32                           0.08   \n",
       "4                            2.62                           0.13   \n",
       "...                           ...                            ...   \n",
       "2928                         3.74                           2.11   \n",
       "2929                         4.46                           2.31   \n",
       "2930                         5.05                           2.18   \n",
       "2931                         5.50                           2.13   \n",
       "2932                         5.89                           1.94   \n",
       "\n",
       "      avg_years_tertiary_schooling  population_1000s              region  \n",
       "0                             0.00             932.0  Advanced Economies  \n",
       "1                             0.00            1074.0  Advanced Economies  \n",
       "2                             0.00            1314.0  Advanced Economies  \n",
       "3                             0.01            1569.0  Advanced Economies  \n",
       "4                             0.01            1895.0  Advanced Economies  \n",
       "...                            ...               ...                 ...  \n",
       "2928                          0.12            5399.0  Sub-Saharan Africa  \n",
       "2929                          0.08            6172.0  Sub-Saharan Africa  \n",
       "2930                          0.03            6813.0  Sub-Saharan Africa  \n",
       "2931                          0.03            7336.0  Sub-Saharan Africa  \n",
       "2932                          0.02            7814.0  Sub-Saharan Africa  \n",
       "\n",
       "[2581 rows x 15 columns]"
      ]
     },
     "execution_count": 2,
     "metadata": {},
     "output_type": "execute_result"
    }
   ],
   "source": [
    "df2 = pd.read_csv('global_education_cleaned.csv',  index_col=0)\n",
    "df2"
   ]
  },
  {
   "cell_type": "markdown",
   "id": "31ea07bd",
   "metadata": {},
   "source": [
    "Need to change the group by based on the thing selected from the map."
   ]
  },
  {
   "cell_type": "code",
   "execution_count": 53,
   "id": "fd55cf2d",
   "metadata": {},
   "outputs": [],
   "source": [
    "df2['country'].replace({'Turkey': 'Türkiye', 'United Kingdom': 'United Kingdom of Great Britain and Northern Ireland', 'Hong Kong, China': 'Hong Kong', 'Republic of Korea': 'Korea, Republic of', 'Bolivia':'Bolivia, Plurinational State of', 'Dominican Rep.': 'Dominican Republic', 'Venezuela': 'Venezuela, Bolivarian Republic of', 'Iran': 'Iran, Islamic Republic of', 'Syria': 'Syrian Arab Republic', 'Reunion': 'Réunion'}, inplace=True)"
   ]
  },
  {
   "cell_type": "code",
   "execution_count": 29,
   "id": "f689c19f",
   "metadata": {},
   "outputs": [
    {
     "name": "stdout",
     "output_type": "stream",
     "text": [
      "Country(name='Afghanistan', alpha2='AF', alpha3='AFG', numeric='004', apolitical_name='Afghanistan')\n",
      "Country(name='Åland Islands', alpha2='AX', alpha3='ALA', numeric='248', apolitical_name='Åland Islands')\n",
      "Country(name='Albania', alpha2='AL', alpha3='ALB', numeric='008', apolitical_name='Albania')\n",
      "Country(name='Algeria', alpha2='DZ', alpha3='DZA', numeric='012', apolitical_name='Algeria')\n",
      "Country(name='American Samoa', alpha2='AS', alpha3='ASM', numeric='016', apolitical_name='American Samoa')\n",
      "Country(name='Andorra', alpha2='AD', alpha3='AND', numeric='020', apolitical_name='Andorra')\n",
      "Country(name='Angola', alpha2='AO', alpha3='AGO', numeric='024', apolitical_name='Angola')\n",
      "Country(name='Anguilla', alpha2='AI', alpha3='AIA', numeric='660', apolitical_name='Anguilla')\n",
      "Country(name='Antarctica', alpha2='AQ', alpha3='ATA', numeric='010', apolitical_name='Antarctica')\n",
      "Country(name='Antigua and Barbuda', alpha2='AG', alpha3='ATG', numeric='028', apolitical_name='Antigua and Barbuda')\n",
      "Country(name='Argentina', alpha2='AR', alpha3='ARG', numeric='032', apolitical_name='Argentina')\n",
      "Country(name='Armenia', alpha2='AM', alpha3='ARM', numeric='051', apolitical_name='Armenia')\n",
      "Country(name='Aruba', alpha2='AW', alpha3='ABW', numeric='533', apolitical_name='Aruba')\n",
      "Country(name='Australia', alpha2='AU', alpha3='AUS', numeric='036', apolitical_name='Australia')\n",
      "Country(name='Austria', alpha2='AT', alpha3='AUT', numeric='040', apolitical_name='Austria')\n",
      "Country(name='Azerbaijan', alpha2='AZ', alpha3='AZE', numeric='031', apolitical_name='Azerbaijan')\n",
      "Country(name='Bahamas', alpha2='BS', alpha3='BHS', numeric='044', apolitical_name='Bahamas')\n",
      "Country(name='Bahrain', alpha2='BH', alpha3='BHR', numeric='048', apolitical_name='Bahrain')\n",
      "Country(name='Bangladesh', alpha2='BD', alpha3='BGD', numeric='050', apolitical_name='Bangladesh')\n",
      "Country(name='Barbados', alpha2='BB', alpha3='BRB', numeric='052', apolitical_name='Barbados')\n",
      "Country(name='Belarus', alpha2='BY', alpha3='BLR', numeric='112', apolitical_name='Belarus')\n",
      "Country(name='Belgium', alpha2='BE', alpha3='BEL', numeric='056', apolitical_name='Belgium')\n",
      "Country(name='Belize', alpha2='BZ', alpha3='BLZ', numeric='084', apolitical_name='Belize')\n",
      "Country(name='Benin', alpha2='BJ', alpha3='BEN', numeric='204', apolitical_name='Benin')\n",
      "Country(name='Bermuda', alpha2='BM', alpha3='BMU', numeric='060', apolitical_name='Bermuda')\n",
      "Country(name='Bhutan', alpha2='BT', alpha3='BTN', numeric='064', apolitical_name='Bhutan')\n",
      "Country(name='Bolivia, Plurinational State of', alpha2='BO', alpha3='BOL', numeric='068', apolitical_name='Bolivia, Plurinational State of')\n",
      "Country(name='Bonaire, Sint Eustatius and Saba', alpha2='BQ', alpha3='BES', numeric='535', apolitical_name='Bonaire, Sint Eustatius and Saba')\n",
      "Country(name='Bosnia and Herzegovina', alpha2='BA', alpha3='BIH', numeric='070', apolitical_name='Bosnia and Herzegovina')\n",
      "Country(name='Botswana', alpha2='BW', alpha3='BWA', numeric='072', apolitical_name='Botswana')\n",
      "Country(name='Bouvet Island', alpha2='BV', alpha3='BVT', numeric='074', apolitical_name='Bouvet Island')\n",
      "Country(name='Brazil', alpha2='BR', alpha3='BRA', numeric='076', apolitical_name='Brazil')\n",
      "Country(name='British Indian Ocean Territory', alpha2='IO', alpha3='IOT', numeric='086', apolitical_name='British Indian Ocean Territory')\n",
      "Country(name='Brunei Darussalam', alpha2='BN', alpha3='BRN', numeric='096', apolitical_name='Brunei Darussalam')\n",
      "Country(name='Bulgaria', alpha2='BG', alpha3='BGR', numeric='100', apolitical_name='Bulgaria')\n",
      "Country(name='Burkina Faso', alpha2='BF', alpha3='BFA', numeric='854', apolitical_name='Burkina Faso')\n",
      "Country(name='Burundi', alpha2='BI', alpha3='BDI', numeric='108', apolitical_name='Burundi')\n",
      "Country(name='Cambodia', alpha2='KH', alpha3='KHM', numeric='116', apolitical_name='Cambodia')\n",
      "Country(name='Cameroon', alpha2='CM', alpha3='CMR', numeric='120', apolitical_name='Cameroon')\n",
      "Country(name='Canada', alpha2='CA', alpha3='CAN', numeric='124', apolitical_name='Canada')\n",
      "Country(name='Cabo Verde', alpha2='CV', alpha3='CPV', numeric='132', apolitical_name='Cabo Verde')\n",
      "Country(name='Cayman Islands', alpha2='KY', alpha3='CYM', numeric='136', apolitical_name='Cayman Islands')\n",
      "Country(name='Central African Republic', alpha2='CF', alpha3='CAF', numeric='140', apolitical_name='Central African Republic')\n",
      "Country(name='Chad', alpha2='TD', alpha3='TCD', numeric='148', apolitical_name='Chad')\n",
      "Country(name='Chile', alpha2='CL', alpha3='CHL', numeric='152', apolitical_name='Chile')\n",
      "Country(name='China', alpha2='CN', alpha3='CHN', numeric='156', apolitical_name='China')\n",
      "Country(name='Christmas Island', alpha2='CX', alpha3='CXR', numeric='162', apolitical_name='Christmas Island')\n",
      "Country(name='Cocos (Keeling) Islands', alpha2='CC', alpha3='CCK', numeric='166', apolitical_name='Cocos (Keeling) Islands')\n",
      "Country(name='Colombia', alpha2='CO', alpha3='COL', numeric='170', apolitical_name='Colombia')\n",
      "Country(name='Comoros', alpha2='KM', alpha3='COM', numeric='174', apolitical_name='Comoros')\n",
      "Country(name='Congo', alpha2='CG', alpha3='COG', numeric='178', apolitical_name='Congo')\n",
      "Country(name='Congo, Democratic Republic of the', alpha2='CD', alpha3='COD', numeric='180', apolitical_name='Congo, Democratic Republic of the')\n",
      "Country(name='Cook Islands', alpha2='CK', alpha3='COK', numeric='184', apolitical_name='Cook Islands')\n",
      "Country(name='Costa Rica', alpha2='CR', alpha3='CRI', numeric='188', apolitical_name='Costa Rica')\n",
      "Country(name=\"Côte d'Ivoire\", alpha2='CI', alpha3='CIV', numeric='384', apolitical_name=\"Côte d'Ivoire\")\n",
      "Country(name='Croatia', alpha2='HR', alpha3='HRV', numeric='191', apolitical_name='Croatia')\n",
      "Country(name='Cuba', alpha2='CU', alpha3='CUB', numeric='192', apolitical_name='Cuba')\n",
      "Country(name='Curaçao', alpha2='CW', alpha3='CUW', numeric='531', apolitical_name='Curaçao')\n",
      "Country(name='Cyprus', alpha2='CY', alpha3='CYP', numeric='196', apolitical_name='Cyprus')\n",
      "Country(name='Czechia', alpha2='CZ', alpha3='CZE', numeric='203', apolitical_name='Czechia')\n",
      "Country(name='Denmark', alpha2='DK', alpha3='DNK', numeric='208', apolitical_name='Denmark')\n",
      "Country(name='Djibouti', alpha2='DJ', alpha3='DJI', numeric='262', apolitical_name='Djibouti')\n",
      "Country(name='Dominica', alpha2='DM', alpha3='DMA', numeric='212', apolitical_name='Dominica')\n",
      "Country(name='Dominican Republic', alpha2='DO', alpha3='DOM', numeric='214', apolitical_name='Dominican Republic')\n",
      "Country(name='Ecuador', alpha2='EC', alpha3='ECU', numeric='218', apolitical_name='Ecuador')\n",
      "Country(name='Egypt', alpha2='EG', alpha3='EGY', numeric='818', apolitical_name='Egypt')\n",
      "Country(name='El Salvador', alpha2='SV', alpha3='SLV', numeric='222', apolitical_name='El Salvador')\n",
      "Country(name='Equatorial Guinea', alpha2='GQ', alpha3='GNQ', numeric='226', apolitical_name='Equatorial Guinea')\n",
      "Country(name='Eritrea', alpha2='ER', alpha3='ERI', numeric='232', apolitical_name='Eritrea')\n",
      "Country(name='Estonia', alpha2='EE', alpha3='EST', numeric='233', apolitical_name='Estonia')\n",
      "Country(name='Ethiopia', alpha2='ET', alpha3='ETH', numeric='231', apolitical_name='Ethiopia')\n",
      "Country(name='Falkland Islands (Malvinas)', alpha2='FK', alpha3='FLK', numeric='238', apolitical_name='Falkland Islands (Malvinas)')\n",
      "Country(name='Faroe Islands', alpha2='FO', alpha3='FRO', numeric='234', apolitical_name='Faroe Islands')\n",
      "Country(name='Fiji', alpha2='FJ', alpha3='FJI', numeric='242', apolitical_name='Fiji')\n",
      "Country(name='Finland', alpha2='FI', alpha3='FIN', numeric='246', apolitical_name='Finland')\n",
      "Country(name='France', alpha2='FR', alpha3='FRA', numeric='250', apolitical_name='France')\n",
      "Country(name='French Guiana', alpha2='GF', alpha3='GUF', numeric='254', apolitical_name='French Guiana')\n",
      "Country(name='French Polynesia', alpha2='PF', alpha3='PYF', numeric='258', apolitical_name='French Polynesia')\n",
      "Country(name='French Southern Territories', alpha2='TF', alpha3='ATF', numeric='260', apolitical_name='French Southern Territories')\n",
      "Country(name='Gabon', alpha2='GA', alpha3='GAB', numeric='266', apolitical_name='Gabon')\n",
      "Country(name='Gambia', alpha2='GM', alpha3='GMB', numeric='270', apolitical_name='Gambia')\n",
      "Country(name='Georgia', alpha2='GE', alpha3='GEO', numeric='268', apolitical_name='Georgia')\n",
      "Country(name='Germany', alpha2='DE', alpha3='DEU', numeric='276', apolitical_name='Germany')\n",
      "Country(name='Ghana', alpha2='GH', alpha3='GHA', numeric='288', apolitical_name='Ghana')\n",
      "Country(name='Gibraltar', alpha2='GI', alpha3='GIB', numeric='292', apolitical_name='Gibraltar')\n",
      "Country(name='Greece', alpha2='GR', alpha3='GRC', numeric='300', apolitical_name='Greece')\n",
      "Country(name='Greenland', alpha2='GL', alpha3='GRL', numeric='304', apolitical_name='Greenland')\n",
      "Country(name='Grenada', alpha2='GD', alpha3='GRD', numeric='308', apolitical_name='Grenada')\n",
      "Country(name='Guadeloupe', alpha2='GP', alpha3='GLP', numeric='312', apolitical_name='Guadeloupe')\n",
      "Country(name='Guam', alpha2='GU', alpha3='GUM', numeric='316', apolitical_name='Guam')\n",
      "Country(name='Guatemala', alpha2='GT', alpha3='GTM', numeric='320', apolitical_name='Guatemala')\n",
      "Country(name='Guernsey', alpha2='GG', alpha3='GGY', numeric='831', apolitical_name='Guernsey')\n",
      "Country(name='Guinea', alpha2='GN', alpha3='GIN', numeric='324', apolitical_name='Guinea')\n",
      "Country(name='Guinea-Bissau', alpha2='GW', alpha3='GNB', numeric='624', apolitical_name='Guinea-Bissau')\n",
      "Country(name='Guyana', alpha2='GY', alpha3='GUY', numeric='328', apolitical_name='Guyana')\n",
      "Country(name='Haiti', alpha2='HT', alpha3='HTI', numeric='332', apolitical_name='Haiti')\n",
      "Country(name='Heard Island and McDonald Islands', alpha2='HM', alpha3='HMD', numeric='334', apolitical_name='Heard Island and McDonald Islands')\n",
      "Country(name='Holy See', alpha2='VA', alpha3='VAT', numeric='336', apolitical_name='Holy See')\n",
      "Country(name='Honduras', alpha2='HN', alpha3='HND', numeric='340', apolitical_name='Honduras')\n",
      "Country(name='Hong Kong', alpha2='HK', alpha3='HKG', numeric='344', apolitical_name='Hong Kong')\n",
      "Country(name='Hungary', alpha2='HU', alpha3='HUN', numeric='348', apolitical_name='Hungary')\n",
      "Country(name='Iceland', alpha2='IS', alpha3='ISL', numeric='352', apolitical_name='Iceland')\n",
      "Country(name='India', alpha2='IN', alpha3='IND', numeric='356', apolitical_name='India')\n",
      "Country(name='Indonesia', alpha2='ID', alpha3='IDN', numeric='360', apolitical_name='Indonesia')\n",
      "Country(name='Iran, Islamic Republic of', alpha2='IR', alpha3='IRN', numeric='364', apolitical_name='Iran, Islamic Republic of')\n",
      "Country(name='Iraq', alpha2='IQ', alpha3='IRQ', numeric='368', apolitical_name='Iraq')\n",
      "Country(name='Ireland', alpha2='IE', alpha3='IRL', numeric='372', apolitical_name='Ireland')\n",
      "Country(name='Isle of Man', alpha2='IM', alpha3='IMN', numeric='833', apolitical_name='Isle of Man')\n",
      "Country(name='Israel', alpha2='IL', alpha3='ISR', numeric='376', apolitical_name='Israel')\n",
      "Country(name='Italy', alpha2='IT', alpha3='ITA', numeric='380', apolitical_name='Italy')\n",
      "Country(name='Jamaica', alpha2='JM', alpha3='JAM', numeric='388', apolitical_name='Jamaica')\n",
      "Country(name='Japan', alpha2='JP', alpha3='JPN', numeric='392', apolitical_name='Japan')\n",
      "Country(name='Jersey', alpha2='JE', alpha3='JEY', numeric='832', apolitical_name='Jersey')\n",
      "Country(name='Jordan', alpha2='JO', alpha3='JOR', numeric='400', apolitical_name='Jordan')\n",
      "Country(name='Kazakhstan', alpha2='KZ', alpha3='KAZ', numeric='398', apolitical_name='Kazakhstan')\n",
      "Country(name='Kenya', alpha2='KE', alpha3='KEN', numeric='404', apolitical_name='Kenya')\n",
      "Country(name='Kiribati', alpha2='KI', alpha3='KIR', numeric='296', apolitical_name='Kiribati')\n",
      "Country(name=\"Korea, Democratic People's Republic of\", alpha2='KP', alpha3='PRK', numeric='408', apolitical_name=\"Korea, Democratic People's Republic of\")\n",
      "Country(name='Korea, Republic of', alpha2='KR', alpha3='KOR', numeric='410', apolitical_name='Korea, Republic of')\n",
      "Country(name='Kosovo', alpha2='XK', alpha3='XKX', numeric='983', apolitical_name='Kosovo')\n",
      "Country(name='Kuwait', alpha2='KW', alpha3='KWT', numeric='414', apolitical_name='Kuwait')\n",
      "Country(name='Kyrgyzstan', alpha2='KG', alpha3='KGZ', numeric='417', apolitical_name='Kyrgyzstan')\n",
      "Country(name=\"Lao People's Democratic Republic\", alpha2='LA', alpha3='LAO', numeric='418', apolitical_name=\"Lao People's Democratic Republic\")\n",
      "Country(name='Latvia', alpha2='LV', alpha3='LVA', numeric='428', apolitical_name='Latvia')\n",
      "Country(name='Lebanon', alpha2='LB', alpha3='LBN', numeric='422', apolitical_name='Lebanon')\n",
      "Country(name='Lesotho', alpha2='LS', alpha3='LSO', numeric='426', apolitical_name='Lesotho')\n",
      "Country(name='Liberia', alpha2='LR', alpha3='LBR', numeric='430', apolitical_name='Liberia')\n",
      "Country(name='Libya', alpha2='LY', alpha3='LBY', numeric='434', apolitical_name='Libya')\n",
      "Country(name='Liechtenstein', alpha2='LI', alpha3='LIE', numeric='438', apolitical_name='Liechtenstein')\n",
      "Country(name='Lithuania', alpha2='LT', alpha3='LTU', numeric='440', apolitical_name='Lithuania')\n",
      "Country(name='Luxembourg', alpha2='LU', alpha3='LUX', numeric='442', apolitical_name='Luxembourg')\n",
      "Country(name='Macao', alpha2='MO', alpha3='MAC', numeric='446', apolitical_name='Macao')\n",
      "Country(name='North Macedonia', alpha2='MK', alpha3='MKD', numeric='807', apolitical_name='North Macedonia')\n",
      "Country(name='Madagascar', alpha2='MG', alpha3='MDG', numeric='450', apolitical_name='Madagascar')\n",
      "Country(name='Malawi', alpha2='MW', alpha3='MWI', numeric='454', apolitical_name='Malawi')\n",
      "Country(name='Malaysia', alpha2='MY', alpha3='MYS', numeric='458', apolitical_name='Malaysia')\n",
      "Country(name='Maldives', alpha2='MV', alpha3='MDV', numeric='462', apolitical_name='Maldives')\n",
      "Country(name='Mali', alpha2='ML', alpha3='MLI', numeric='466', apolitical_name='Mali')\n",
      "Country(name='Malta', alpha2='MT', alpha3='MLT', numeric='470', apolitical_name='Malta')\n",
      "Country(name='Marshall Islands', alpha2='MH', alpha3='MHL', numeric='584', apolitical_name='Marshall Islands')\n",
      "Country(name='Martinique', alpha2='MQ', alpha3='MTQ', numeric='474', apolitical_name='Martinique')\n",
      "Country(name='Mauritania', alpha2='MR', alpha3='MRT', numeric='478', apolitical_name='Mauritania')\n",
      "Country(name='Mauritius', alpha2='MU', alpha3='MUS', numeric='480', apolitical_name='Mauritius')\n",
      "Country(name='Mayotte', alpha2='YT', alpha3='MYT', numeric='175', apolitical_name='Mayotte')\n",
      "Country(name='Mexico', alpha2='MX', alpha3='MEX', numeric='484', apolitical_name='Mexico')\n",
      "Country(name='Micronesia, Federated States of', alpha2='FM', alpha3='FSM', numeric='583', apolitical_name='Micronesia, Federated States of')\n",
      "Country(name='Moldova, Republic of', alpha2='MD', alpha3='MDA', numeric='498', apolitical_name='Moldova, Republic of')\n",
      "Country(name='Monaco', alpha2='MC', alpha3='MCO', numeric='492', apolitical_name='Monaco')\n",
      "Country(name='Mongolia', alpha2='MN', alpha3='MNG', numeric='496', apolitical_name='Mongolia')\n",
      "Country(name='Montenegro', alpha2='ME', alpha3='MNE', numeric='499', apolitical_name='Montenegro')\n",
      "Country(name='Montserrat', alpha2='MS', alpha3='MSR', numeric='500', apolitical_name='Montserrat')\n",
      "Country(name='Morocco', alpha2='MA', alpha3='MAR', numeric='504', apolitical_name='Morocco')\n",
      "Country(name='Mozambique', alpha2='MZ', alpha3='MOZ', numeric='508', apolitical_name='Mozambique')\n",
      "Country(name='Myanmar', alpha2='MM', alpha3='MMR', numeric='104', apolitical_name='Myanmar')\n",
      "Country(name='Namibia', alpha2='NA', alpha3='NAM', numeric='516', apolitical_name='Namibia')\n",
      "Country(name='Nauru', alpha2='NR', alpha3='NRU', numeric='520', apolitical_name='Nauru')\n",
      "Country(name='Nepal', alpha2='NP', alpha3='NPL', numeric='524', apolitical_name='Nepal')\n",
      "Country(name='Netherlands', alpha2='NL', alpha3='NLD', numeric='528', apolitical_name='Netherlands')\n",
      "Country(name='New Caledonia', alpha2='NC', alpha3='NCL', numeric='540', apolitical_name='New Caledonia')\n",
      "Country(name='New Zealand', alpha2='NZ', alpha3='NZL', numeric='554', apolitical_name='New Zealand')\n",
      "Country(name='Nicaragua', alpha2='NI', alpha3='NIC', numeric='558', apolitical_name='Nicaragua')\n",
      "Country(name='Niger', alpha2='NE', alpha3='NER', numeric='562', apolitical_name='Niger')\n",
      "Country(name='Nigeria', alpha2='NG', alpha3='NGA', numeric='566', apolitical_name='Nigeria')\n",
      "Country(name='Niue', alpha2='NU', alpha3='NIU', numeric='570', apolitical_name='Niue')\n",
      "Country(name='Norfolk Island', alpha2='NF', alpha3='NFK', numeric='574', apolitical_name='Norfolk Island')\n",
      "Country(name='Northern Mariana Islands', alpha2='MP', alpha3='MNP', numeric='580', apolitical_name='Northern Mariana Islands')\n",
      "Country(name='Norway', alpha2='NO', alpha3='NOR', numeric='578', apolitical_name='Norway')\n",
      "Country(name='Oman', alpha2='OM', alpha3='OMN', numeric='512', apolitical_name='Oman')\n",
      "Country(name='Pakistan', alpha2='PK', alpha3='PAK', numeric='586', apolitical_name='Pakistan')\n",
      "Country(name='Palau', alpha2='PW', alpha3='PLW', numeric='585', apolitical_name='Palau')\n",
      "Country(name='Palestine, State of', alpha2='PS', alpha3='PSE', numeric='275', apolitical_name='Palestine')\n",
      "Country(name='Panama', alpha2='PA', alpha3='PAN', numeric='591', apolitical_name='Panama')\n",
      "Country(name='Papua New Guinea', alpha2='PG', alpha3='PNG', numeric='598', apolitical_name='Papua New Guinea')\n",
      "Country(name='Paraguay', alpha2='PY', alpha3='PRY', numeric='600', apolitical_name='Paraguay')\n",
      "Country(name='Peru', alpha2='PE', alpha3='PER', numeric='604', apolitical_name='Peru')\n",
      "Country(name='Philippines', alpha2='PH', alpha3='PHL', numeric='608', apolitical_name='Philippines')\n",
      "Country(name='Pitcairn', alpha2='PN', alpha3='PCN', numeric='612', apolitical_name='Pitcairn')\n",
      "Country(name='Poland', alpha2='PL', alpha3='POL', numeric='616', apolitical_name='Poland')\n",
      "Country(name='Portugal', alpha2='PT', alpha3='PRT', numeric='620', apolitical_name='Portugal')\n",
      "Country(name='Puerto Rico', alpha2='PR', alpha3='PRI', numeric='630', apolitical_name='Puerto Rico')\n",
      "Country(name='Qatar', alpha2='QA', alpha3='QAT', numeric='634', apolitical_name='Qatar')\n",
      "Country(name='Réunion', alpha2='RE', alpha3='REU', numeric='638', apolitical_name='Réunion')\n",
      "Country(name='Romania', alpha2='RO', alpha3='ROU', numeric='642', apolitical_name='Romania')\n",
      "Country(name='Russian Federation', alpha2='RU', alpha3='RUS', numeric='643', apolitical_name='Russian Federation')\n",
      "Country(name='Rwanda', alpha2='RW', alpha3='RWA', numeric='646', apolitical_name='Rwanda')\n",
      "Country(name='Saint Barthélemy', alpha2='BL', alpha3='BLM', numeric='652', apolitical_name='Saint Barthélemy')\n",
      "Country(name='Saint Helena, Ascension and Tristan da Cunha', alpha2='SH', alpha3='SHN', numeric='654', apolitical_name='Saint Helena, Ascension and Tristan da Cunha')\n",
      "Country(name='Saint Kitts and Nevis', alpha2='KN', alpha3='KNA', numeric='659', apolitical_name='Saint Kitts and Nevis')\n",
      "Country(name='Saint Lucia', alpha2='LC', alpha3='LCA', numeric='662', apolitical_name='Saint Lucia')\n",
      "Country(name='Saint Martin (French part)', alpha2='MF', alpha3='MAF', numeric='663', apolitical_name='Saint Martin (French part)')\n",
      "Country(name='Saint Pierre and Miquelon', alpha2='PM', alpha3='SPM', numeric='666', apolitical_name='Saint Pierre and Miquelon')\n",
      "Country(name='Saint Vincent and the Grenadines', alpha2='VC', alpha3='VCT', numeric='670', apolitical_name='Saint Vincent and the Grenadines')\n",
      "Country(name='Samoa', alpha2='WS', alpha3='WSM', numeric='882', apolitical_name='Samoa')\n",
      "Country(name='San Marino', alpha2='SM', alpha3='SMR', numeric='674', apolitical_name='San Marino')\n",
      "Country(name='Sao Tome and Principe', alpha2='ST', alpha3='STP', numeric='678', apolitical_name='Sao Tome and Principe')\n",
      "Country(name='Saudi Arabia', alpha2='SA', alpha3='SAU', numeric='682', apolitical_name='Saudi Arabia')\n",
      "Country(name='Senegal', alpha2='SN', alpha3='SEN', numeric='686', apolitical_name='Senegal')\n",
      "Country(name='Serbia', alpha2='RS', alpha3='SRB', numeric='688', apolitical_name='Serbia')\n",
      "Country(name='Seychelles', alpha2='SC', alpha3='SYC', numeric='690', apolitical_name='Seychelles')\n",
      "Country(name='Sierra Leone', alpha2='SL', alpha3='SLE', numeric='694', apolitical_name='Sierra Leone')\n",
      "Country(name='Singapore', alpha2='SG', alpha3='SGP', numeric='702', apolitical_name='Singapore')\n",
      "Country(name='Sint Maarten (Dutch part)', alpha2='SX', alpha3='SXM', numeric='534', apolitical_name='Sint Maarten (Dutch part)')\n",
      "Country(name='Slovakia', alpha2='SK', alpha3='SVK', numeric='703', apolitical_name='Slovakia')\n",
      "Country(name='Slovenia', alpha2='SI', alpha3='SVN', numeric='705', apolitical_name='Slovenia')\n",
      "Country(name='Solomon Islands', alpha2='SB', alpha3='SLB', numeric='090', apolitical_name='Solomon Islands')\n",
      "Country(name='Somalia', alpha2='SO', alpha3='SOM', numeric='706', apolitical_name='Somalia')\n",
      "Country(name='South Africa', alpha2='ZA', alpha3='ZAF', numeric='710', apolitical_name='South Africa')\n",
      "Country(name='South Georgia and the South Sandwich Islands', alpha2='GS', alpha3='SGS', numeric='239', apolitical_name='South Georgia and the South Sandwich Islands')\n",
      "Country(name='South Sudan', alpha2='SS', alpha3='SSD', numeric='728', apolitical_name='South Sudan')\n",
      "Country(name='Spain', alpha2='ES', alpha3='ESP', numeric='724', apolitical_name='Spain')\n",
      "Country(name='Sri Lanka', alpha2='LK', alpha3='LKA', numeric='144', apolitical_name='Sri Lanka')\n",
      "Country(name='Sudan', alpha2='SD', alpha3='SDN', numeric='729', apolitical_name='Sudan')\n",
      "Country(name='Suriname', alpha2='SR', alpha3='SUR', numeric='740', apolitical_name='Suriname')\n",
      "Country(name='Svalbard and Jan Mayen', alpha2='SJ', alpha3='SJM', numeric='744', apolitical_name='Svalbard and Jan Mayen')\n",
      "Country(name='Eswatini', alpha2='SZ', alpha3='SWZ', numeric='748', apolitical_name='Eswatini')\n",
      "Country(name='Sweden', alpha2='SE', alpha3='SWE', numeric='752', apolitical_name='Sweden')\n",
      "Country(name='Switzerland', alpha2='CH', alpha3='CHE', numeric='756', apolitical_name='Switzerland')\n",
      "Country(name='Syrian Arab Republic', alpha2='SY', alpha3='SYR', numeric='760', apolitical_name='Syrian Arab Republic')\n",
      "Country(name='Taiwan, Province of China', alpha2='TW', alpha3='TWN', numeric='158', apolitical_name='Taiwan')\n",
      "Country(name='Tajikistan', alpha2='TJ', alpha3='TJK', numeric='762', apolitical_name='Tajikistan')\n",
      "Country(name='Tanzania, United Republic of', alpha2='TZ', alpha3='TZA', numeric='834', apolitical_name='Tanzania, United Republic of')\n",
      "Country(name='Thailand', alpha2='TH', alpha3='THA', numeric='764', apolitical_name='Thailand')\n",
      "Country(name='Timor-Leste', alpha2='TL', alpha3='TLS', numeric='626', apolitical_name='Timor-Leste')\n",
      "Country(name='Togo', alpha2='TG', alpha3='TGO', numeric='768', apolitical_name='Togo')\n",
      "Country(name='Tokelau', alpha2='TK', alpha3='TKL', numeric='772', apolitical_name='Tokelau')\n",
      "Country(name='Tonga', alpha2='TO', alpha3='TON', numeric='776', apolitical_name='Tonga')\n",
      "Country(name='Trinidad and Tobago', alpha2='TT', alpha3='TTO', numeric='780', apolitical_name='Trinidad and Tobago')\n",
      "Country(name='Tunisia', alpha2='TN', alpha3='TUN', numeric='788', apolitical_name='Tunisia')\n",
      "Country(name='Türkiye', alpha2='TR', alpha3='TUR', numeric='792', apolitical_name='Türkiye')\n",
      "Country(name='Turkmenistan', alpha2='TM', alpha3='TKM', numeric='795', apolitical_name='Turkmenistan')\n",
      "Country(name='Turks and Caicos Islands', alpha2='TC', alpha3='TCA', numeric='796', apolitical_name='Turks and Caicos Islands')\n",
      "Country(name='Tuvalu', alpha2='TV', alpha3='TUV', numeric='798', apolitical_name='Tuvalu')\n",
      "Country(name='Uganda', alpha2='UG', alpha3='UGA', numeric='800', apolitical_name='Uganda')\n",
      "Country(name='Ukraine', alpha2='UA', alpha3='UKR', numeric='804', apolitical_name='Ukraine')\n",
      "Country(name='United Arab Emirates', alpha2='AE', alpha3='ARE', numeric='784', apolitical_name='United Arab Emirates')\n",
      "Country(name='United Kingdom of Great Britain and Northern Ireland', alpha2='GB', alpha3='GBR', numeric='826', apolitical_name='United Kingdom of Great Britain and Northern Ireland')\n",
      "Country(name='United States of America', alpha2='US', alpha3='USA', numeric='840', apolitical_name='United States of America')\n",
      "Country(name='United States Minor Outlying Islands', alpha2='UM', alpha3='UMI', numeric='581', apolitical_name='United States Minor Outlying Islands')\n",
      "Country(name='Uruguay', alpha2='UY', alpha3='URY', numeric='858', apolitical_name='Uruguay')\n",
      "Country(name='Uzbekistan', alpha2='UZ', alpha3='UZB', numeric='860', apolitical_name='Uzbekistan')\n",
      "Country(name='Vanuatu', alpha2='VU', alpha3='VUT', numeric='548', apolitical_name='Vanuatu')\n",
      "Country(name='Venezuela, Bolivarian Republic of', alpha2='VE', alpha3='VEN', numeric='862', apolitical_name='Venezuela, Bolivarian Republic of')\n",
      "Country(name='Viet Nam', alpha2='VN', alpha3='VNM', numeric='704', apolitical_name='Viet Nam')\n",
      "Country(name='Virgin Islands, British', alpha2='VG', alpha3='VGB', numeric='092', apolitical_name='Virgin Islands, British')\n",
      "Country(name='Virgin Islands, U.S.', alpha2='VI', alpha3='VIR', numeric='850', apolitical_name='Virgin Islands, U.S.')\n",
      "Country(name='Wallis and Futuna', alpha2='WF', alpha3='WLF', numeric='876', apolitical_name='Wallis and Futuna')\n",
      "Country(name='Western Sahara', alpha2='EH', alpha3='ESH', numeric='732', apolitical_name='Western Sahara')\n",
      "Country(name='Yemen', alpha2='YE', alpha3='YEM', numeric='887', apolitical_name='Yemen')\n",
      "Country(name='Zambia', alpha2='ZM', alpha3='ZMB', numeric='894', apolitical_name='Zambia')\n",
      "Country(name='Zimbabwe', alpha2='ZW', alpha3='ZWE', numeric='716', apolitical_name='Zimbabwe')\n"
     ]
    }
   ],
   "source": [
    "from iso3166 import countries\n",
    "for c in countries:\n",
    "    print(c)"
   ]
  },
  {
   "cell_type": "code",
   "execution_count": 57,
   "id": "defe02b9",
   "metadata": {},
   "outputs": [],
   "source": [
    "from iso3166 import countries\n",
    "from numpy import NaN\n",
    "\n",
    "country_names =[]\n",
    "for country_name in df2['country']:\n",
    "    try:\n",
    "        c_name = countries.get(country_name)\n",
    "        country_names.append(c_name[2])\n",
    "    except:\n",
    "        country_names.append(NaN)\n"
   ]
  },
  {
   "cell_type": "code",
   "execution_count": 58,
   "id": "39b04674",
   "metadata": {},
   "outputs": [
    {
     "data": {
      "text/plain": [
       "2581"
      ]
     },
     "execution_count": 58,
     "metadata": {},
     "output_type": "execute_result"
    }
   ],
   "source": [
    "len(country_names)"
   ]
  },
  {
   "cell_type": "code",
   "execution_count": 59,
   "id": "d482fc3a",
   "metadata": {},
   "outputs": [],
   "source": [
    "df2['iso_alpha'] = country_names"
   ]
  },
  {
   "cell_type": "code",
   "execution_count": 60,
   "id": "fefb3e2a",
   "metadata": {},
   "outputs": [
    {
     "data": {
      "text/html": [
       "<div>\n",
       "<style scoped>\n",
       "    .dataframe tbody tr th:only-of-type {\n",
       "        vertical-align: middle;\n",
       "    }\n",
       "\n",
       "    .dataframe tbody tr th {\n",
       "        vertical-align: top;\n",
       "    }\n",
       "\n",
       "    .dataframe thead th {\n",
       "        text-align: right;\n",
       "    }\n",
       "</style>\n",
       "<table border=\"1\" class=\"dataframe\">\n",
       "  <thead>\n",
       "    <tr style=\"text-align: right;\">\n",
       "      <th></th>\n",
       "      <th>country</th>\n",
       "      <th>year</th>\n",
       "      <th>no_schooling</th>\n",
       "      <th>total_primary</th>\n",
       "      <th>completed_primary</th>\n",
       "      <th>total_secondary</th>\n",
       "      <th>completed_secondary</th>\n",
       "      <th>total_tertiary</th>\n",
       "      <th>completed_tertiary</th>\n",
       "      <th>avg_years_total_schooling</th>\n",
       "      <th>avg_years_primary_schooling</th>\n",
       "      <th>avg_years_secondary_schooling</th>\n",
       "      <th>avg_years_tertiary_schooling</th>\n",
       "      <th>population_1000s</th>\n",
       "      <th>region</th>\n",
       "      <th>iso_alpha</th>\n",
       "    </tr>\n",
       "  </thead>\n",
       "  <tbody>\n",
       "    <tr>\n",
       "      <th>2442</th>\n",
       "      <td>Cote dIvoire</td>\n",
       "      <td>1870</td>\n",
       "      <td>97.4</td>\n",
       "      <td>2.6</td>\n",
       "      <td>0.7</td>\n",
       "      <td>0.0</td>\n",
       "      <td>0.0</td>\n",
       "      <td>0.0</td>\n",
       "      <td>0.0</td>\n",
       "      <td>0.10</td>\n",
       "      <td>0.10</td>\n",
       "      <td>0.00</td>\n",
       "      <td>0.00</td>\n",
       "      <td>120.0</td>\n",
       "      <td>Sub-Saharan Africa</td>\n",
       "      <td>NaN</td>\n",
       "    </tr>\n",
       "    <tr>\n",
       "      <th>2443</th>\n",
       "      <td>Cote dIvoire</td>\n",
       "      <td>1875</td>\n",
       "      <td>97.1</td>\n",
       "      <td>2.9</td>\n",
       "      <td>0.8</td>\n",
       "      <td>0.0</td>\n",
       "      <td>0.0</td>\n",
       "      <td>0.0</td>\n",
       "      <td>0.0</td>\n",
       "      <td>0.12</td>\n",
       "      <td>0.11</td>\n",
       "      <td>0.00</td>\n",
       "      <td>0.00</td>\n",
       "      <td>143.0</td>\n",
       "      <td>Sub-Saharan Africa</td>\n",
       "      <td>NaN</td>\n",
       "    </tr>\n",
       "    <tr>\n",
       "      <th>2444</th>\n",
       "      <td>Cote dIvoire</td>\n",
       "      <td>1880</td>\n",
       "      <td>96.7</td>\n",
       "      <td>3.3</td>\n",
       "      <td>0.9</td>\n",
       "      <td>0.0</td>\n",
       "      <td>0.0</td>\n",
       "      <td>0.0</td>\n",
       "      <td>0.0</td>\n",
       "      <td>0.13</td>\n",
       "      <td>0.13</td>\n",
       "      <td>0.00</td>\n",
       "      <td>0.00</td>\n",
       "      <td>167.0</td>\n",
       "      <td>Sub-Saharan Africa</td>\n",
       "      <td>NaN</td>\n",
       "    </tr>\n",
       "    <tr>\n",
       "      <th>2445</th>\n",
       "      <td>Cote dIvoire</td>\n",
       "      <td>1885</td>\n",
       "      <td>96.3</td>\n",
       "      <td>3.7</td>\n",
       "      <td>1.0</td>\n",
       "      <td>0.0</td>\n",
       "      <td>0.0</td>\n",
       "      <td>0.0</td>\n",
       "      <td>0.0</td>\n",
       "      <td>0.15</td>\n",
       "      <td>0.15</td>\n",
       "      <td>0.00</td>\n",
       "      <td>0.00</td>\n",
       "      <td>199.0</td>\n",
       "      <td>Sub-Saharan Africa</td>\n",
       "      <td>NaN</td>\n",
       "    </tr>\n",
       "    <tr>\n",
       "      <th>2446</th>\n",
       "      <td>Cote dIvoire</td>\n",
       "      <td>1890</td>\n",
       "      <td>95.8</td>\n",
       "      <td>4.2</td>\n",
       "      <td>1.2</td>\n",
       "      <td>0.0</td>\n",
       "      <td>0.0</td>\n",
       "      <td>0.0</td>\n",
       "      <td>0.0</td>\n",
       "      <td>0.17</td>\n",
       "      <td>0.16</td>\n",
       "      <td>0.00</td>\n",
       "      <td>0.00</td>\n",
       "      <td>231.0</td>\n",
       "      <td>Sub-Saharan Africa</td>\n",
       "      <td>NaN</td>\n",
       "    </tr>\n",
       "    <tr>\n",
       "      <th>2447</th>\n",
       "      <td>Cote dIvoire</td>\n",
       "      <td>1895</td>\n",
       "      <td>95.3</td>\n",
       "      <td>4.7</td>\n",
       "      <td>1.4</td>\n",
       "      <td>0.0</td>\n",
       "      <td>0.0</td>\n",
       "      <td>0.0</td>\n",
       "      <td>0.0</td>\n",
       "      <td>0.19</td>\n",
       "      <td>0.19</td>\n",
       "      <td>0.00</td>\n",
       "      <td>0.00</td>\n",
       "      <td>275.0</td>\n",
       "      <td>Sub-Saharan Africa</td>\n",
       "      <td>NaN</td>\n",
       "    </tr>\n",
       "    <tr>\n",
       "      <th>2448</th>\n",
       "      <td>Cote dIvoire</td>\n",
       "      <td>1900</td>\n",
       "      <td>94.6</td>\n",
       "      <td>5.4</td>\n",
       "      <td>1.6</td>\n",
       "      <td>0.0</td>\n",
       "      <td>0.0</td>\n",
       "      <td>0.0</td>\n",
       "      <td>0.0</td>\n",
       "      <td>0.22</td>\n",
       "      <td>0.21</td>\n",
       "      <td>0.00</td>\n",
       "      <td>0.00</td>\n",
       "      <td>320.0</td>\n",
       "      <td>Sub-Saharan Africa</td>\n",
       "      <td>NaN</td>\n",
       "    </tr>\n",
       "    <tr>\n",
       "      <th>2449</th>\n",
       "      <td>Cote dIvoire</td>\n",
       "      <td>1905</td>\n",
       "      <td>94.0</td>\n",
       "      <td>6.0</td>\n",
       "      <td>1.8</td>\n",
       "      <td>0.0</td>\n",
       "      <td>0.0</td>\n",
       "      <td>0.0</td>\n",
       "      <td>0.0</td>\n",
       "      <td>0.24</td>\n",
       "      <td>0.24</td>\n",
       "      <td>0.00</td>\n",
       "      <td>0.00</td>\n",
       "      <td>382.0</td>\n",
       "      <td>Sub-Saharan Africa</td>\n",
       "      <td>NaN</td>\n",
       "    </tr>\n",
       "    <tr>\n",
       "      <th>2450</th>\n",
       "      <td>Cote dIvoire</td>\n",
       "      <td>1910</td>\n",
       "      <td>93.2</td>\n",
       "      <td>6.8</td>\n",
       "      <td>2.1</td>\n",
       "      <td>0.1</td>\n",
       "      <td>0.0</td>\n",
       "      <td>0.0</td>\n",
       "      <td>0.0</td>\n",
       "      <td>0.28</td>\n",
       "      <td>0.27</td>\n",
       "      <td>0.00</td>\n",
       "      <td>0.00</td>\n",
       "      <td>443.0</td>\n",
       "      <td>Sub-Saharan Africa</td>\n",
       "      <td>NaN</td>\n",
       "    </tr>\n",
       "    <tr>\n",
       "      <th>2451</th>\n",
       "      <td>Cote dIvoire</td>\n",
       "      <td>1915</td>\n",
       "      <td>92.4</td>\n",
       "      <td>7.6</td>\n",
       "      <td>2.4</td>\n",
       "      <td>0.1</td>\n",
       "      <td>0.0</td>\n",
       "      <td>0.0</td>\n",
       "      <td>0.0</td>\n",
       "      <td>0.31</td>\n",
       "      <td>0.31</td>\n",
       "      <td>0.01</td>\n",
       "      <td>0.00</td>\n",
       "      <td>516.0</td>\n",
       "      <td>Sub-Saharan Africa</td>\n",
       "      <td>NaN</td>\n",
       "    </tr>\n",
       "    <tr>\n",
       "      <th>2452</th>\n",
       "      <td>Cote dIvoire</td>\n",
       "      <td>1920</td>\n",
       "      <td>91.4</td>\n",
       "      <td>8.6</td>\n",
       "      <td>2.7</td>\n",
       "      <td>0.1</td>\n",
       "      <td>0.0</td>\n",
       "      <td>0.0</td>\n",
       "      <td>0.0</td>\n",
       "      <td>0.35</td>\n",
       "      <td>0.35</td>\n",
       "      <td>0.01</td>\n",
       "      <td>0.00</td>\n",
       "      <td>587.0</td>\n",
       "      <td>Sub-Saharan Africa</td>\n",
       "      <td>NaN</td>\n",
       "    </tr>\n",
       "    <tr>\n",
       "      <th>2453</th>\n",
       "      <td>Cote dIvoire</td>\n",
       "      <td>1925</td>\n",
       "      <td>90.4</td>\n",
       "      <td>9.6</td>\n",
       "      <td>3.1</td>\n",
       "      <td>0.1</td>\n",
       "      <td>0.0</td>\n",
       "      <td>0.0</td>\n",
       "      <td>0.0</td>\n",
       "      <td>0.40</td>\n",
       "      <td>0.39</td>\n",
       "      <td>0.01</td>\n",
       "      <td>0.00</td>\n",
       "      <td>683.0</td>\n",
       "      <td>Sub-Saharan Africa</td>\n",
       "      <td>NaN</td>\n",
       "    </tr>\n",
       "    <tr>\n",
       "      <th>2454</th>\n",
       "      <td>Cote dIvoire</td>\n",
       "      <td>1930</td>\n",
       "      <td>89.2</td>\n",
       "      <td>10.8</td>\n",
       "      <td>3.6</td>\n",
       "      <td>0.1</td>\n",
       "      <td>0.0</td>\n",
       "      <td>0.1</td>\n",
       "      <td>0.0</td>\n",
       "      <td>0.45</td>\n",
       "      <td>0.44</td>\n",
       "      <td>0.01</td>\n",
       "      <td>0.00</td>\n",
       "      <td>779.0</td>\n",
       "      <td>Sub-Saharan Africa</td>\n",
       "      <td>NaN</td>\n",
       "    </tr>\n",
       "    <tr>\n",
       "      <th>2455</th>\n",
       "      <td>Cote dIvoire</td>\n",
       "      <td>1935</td>\n",
       "      <td>89.6</td>\n",
       "      <td>10.1</td>\n",
       "      <td>3.4</td>\n",
       "      <td>0.3</td>\n",
       "      <td>0.1</td>\n",
       "      <td>0.1</td>\n",
       "      <td>0.1</td>\n",
       "      <td>0.46</td>\n",
       "      <td>0.43</td>\n",
       "      <td>0.02</td>\n",
       "      <td>0.00</td>\n",
       "      <td>906.0</td>\n",
       "      <td>Sub-Saharan Africa</td>\n",
       "      <td>NaN</td>\n",
       "    </tr>\n",
       "    <tr>\n",
       "      <th>2456</th>\n",
       "      <td>Cote dIvoire</td>\n",
       "      <td>1940</td>\n",
       "      <td>89.7</td>\n",
       "      <td>9.6</td>\n",
       "      <td>3.4</td>\n",
       "      <td>0.5</td>\n",
       "      <td>0.2</td>\n",
       "      <td>0.2</td>\n",
       "      <td>0.1</td>\n",
       "      <td>0.48</td>\n",
       "      <td>0.43</td>\n",
       "      <td>0.04</td>\n",
       "      <td>0.01</td>\n",
       "      <td>1032.0</td>\n",
       "      <td>Sub-Saharan Africa</td>\n",
       "      <td>NaN</td>\n",
       "    </tr>\n",
       "    <tr>\n",
       "      <th>2457</th>\n",
       "      <td>Cote dIvoire</td>\n",
       "      <td>1945</td>\n",
       "      <td>89.5</td>\n",
       "      <td>9.5</td>\n",
       "      <td>3.4</td>\n",
       "      <td>0.8</td>\n",
       "      <td>0.3</td>\n",
       "      <td>0.3</td>\n",
       "      <td>0.2</td>\n",
       "      <td>0.52</td>\n",
       "      <td>0.45</td>\n",
       "      <td>0.06</td>\n",
       "      <td>0.01</td>\n",
       "      <td>1201.0</td>\n",
       "      <td>Sub-Saharan Africa</td>\n",
       "      <td>NaN</td>\n",
       "    </tr>\n",
       "    <tr>\n",
       "      <th>2458</th>\n",
       "      <td>Cote dIvoire</td>\n",
       "      <td>1950</td>\n",
       "      <td>85.6</td>\n",
       "      <td>10.8</td>\n",
       "      <td>4.1</td>\n",
       "      <td>3.2</td>\n",
       "      <td>0.5</td>\n",
       "      <td>0.4</td>\n",
       "      <td>0.3</td>\n",
       "      <td>0.86</td>\n",
       "      <td>0.67</td>\n",
       "      <td>0.17</td>\n",
       "      <td>0.01</td>\n",
       "      <td>1367.0</td>\n",
       "      <td>Sub-Saharan Africa</td>\n",
       "      <td>NaN</td>\n",
       "    </tr>\n",
       "    <tr>\n",
       "      <th>2459</th>\n",
       "      <td>Cote dIvoire</td>\n",
       "      <td>1955</td>\n",
       "      <td>85.1</td>\n",
       "      <td>10.9</td>\n",
       "      <td>4.3</td>\n",
       "      <td>3.4</td>\n",
       "      <td>0.6</td>\n",
       "      <td>0.6</td>\n",
       "      <td>0.3</td>\n",
       "      <td>0.91</td>\n",
       "      <td>0.70</td>\n",
       "      <td>0.19</td>\n",
       "      <td>0.02</td>\n",
       "      <td>1618.0</td>\n",
       "      <td>Sub-Saharan Africa</td>\n",
       "      <td>NaN</td>\n",
       "    </tr>\n",
       "    <tr>\n",
       "      <th>2460</th>\n",
       "      <td>Cote dIvoire</td>\n",
       "      <td>1960</td>\n",
       "      <td>84.5</td>\n",
       "      <td>10.9</td>\n",
       "      <td>4.5</td>\n",
       "      <td>3.9</td>\n",
       "      <td>0.7</td>\n",
       "      <td>0.7</td>\n",
       "      <td>0.4</td>\n",
       "      <td>0.99</td>\n",
       "      <td>0.74</td>\n",
       "      <td>0.23</td>\n",
       "      <td>0.02</td>\n",
       "      <td>1914.0</td>\n",
       "      <td>Sub-Saharan Africa</td>\n",
       "      <td>NaN</td>\n",
       "    </tr>\n",
       "    <tr>\n",
       "      <th>2461</th>\n",
       "      <td>Cote dIvoire</td>\n",
       "      <td>1965</td>\n",
       "      <td>83.6</td>\n",
       "      <td>11.1</td>\n",
       "      <td>4.9</td>\n",
       "      <td>4.4</td>\n",
       "      <td>0.9</td>\n",
       "      <td>0.9</td>\n",
       "      <td>0.5</td>\n",
       "      <td>1.09</td>\n",
       "      <td>0.80</td>\n",
       "      <td>0.27</td>\n",
       "      <td>0.03</td>\n",
       "      <td>2256.0</td>\n",
       "      <td>Sub-Saharan Africa</td>\n",
       "      <td>NaN</td>\n",
       "    </tr>\n",
       "    <tr>\n",
       "      <th>2462</th>\n",
       "      <td>Cote dIvoire</td>\n",
       "      <td>1970</td>\n",
       "      <td>81.3</td>\n",
       "      <td>11.5</td>\n",
       "      <td>5.4</td>\n",
       "      <td>6.1</td>\n",
       "      <td>1.2</td>\n",
       "      <td>1.1</td>\n",
       "      <td>0.6</td>\n",
       "      <td>1.33</td>\n",
       "      <td>0.94</td>\n",
       "      <td>0.36</td>\n",
       "      <td>0.03</td>\n",
       "      <td>2809.0</td>\n",
       "      <td>Sub-Saharan Africa</td>\n",
       "      <td>NaN</td>\n",
       "    </tr>\n",
       "    <tr>\n",
       "      <th>2463</th>\n",
       "      <td>Cote dIvoire</td>\n",
       "      <td>1975</td>\n",
       "      <td>78.1</td>\n",
       "      <td>10.4</td>\n",
       "      <td>5.1</td>\n",
       "      <td>10.1</td>\n",
       "      <td>1.9</td>\n",
       "      <td>1.4</td>\n",
       "      <td>0.8</td>\n",
       "      <td>1.76</td>\n",
       "      <td>1.16</td>\n",
       "      <td>0.56</td>\n",
       "      <td>0.04</td>\n",
       "      <td>3464.0</td>\n",
       "      <td>Sub-Saharan Africa</td>\n",
       "      <td>NaN</td>\n",
       "    </tr>\n",
       "    <tr>\n",
       "      <th>2464</th>\n",
       "      <td>Cote dIvoire</td>\n",
       "      <td>1980</td>\n",
       "      <td>73.9</td>\n",
       "      <td>11.9</td>\n",
       "      <td>6.2</td>\n",
       "      <td>12.5</td>\n",
       "      <td>2.4</td>\n",
       "      <td>1.7</td>\n",
       "      <td>0.9</td>\n",
       "      <td>2.13</td>\n",
       "      <td>1.39</td>\n",
       "      <td>0.69</td>\n",
       "      <td>0.05</td>\n",
       "      <td>4360.0</td>\n",
       "      <td>Sub-Saharan Africa</td>\n",
       "      <td>NaN</td>\n",
       "    </tr>\n",
       "    <tr>\n",
       "      <th>2465</th>\n",
       "      <td>Cote dIvoire</td>\n",
       "      <td>1985</td>\n",
       "      <td>70.1</td>\n",
       "      <td>13.7</td>\n",
       "      <td>7.6</td>\n",
       "      <td>14.3</td>\n",
       "      <td>2.9</td>\n",
       "      <td>1.9</td>\n",
       "      <td>1.1</td>\n",
       "      <td>2.46</td>\n",
       "      <td>1.61</td>\n",
       "      <td>0.79</td>\n",
       "      <td>0.06</td>\n",
       "      <td>5402.0</td>\n",
       "      <td>Sub-Saharan Africa</td>\n",
       "      <td>NaN</td>\n",
       "    </tr>\n",
       "    <tr>\n",
       "      <th>2466</th>\n",
       "      <td>Cote dIvoire</td>\n",
       "      <td>1990</td>\n",
       "      <td>66.0</td>\n",
       "      <td>15.6</td>\n",
       "      <td>9.1</td>\n",
       "      <td>16.6</td>\n",
       "      <td>3.6</td>\n",
       "      <td>1.8</td>\n",
       "      <td>1.1</td>\n",
       "      <td>2.79</td>\n",
       "      <td>1.84</td>\n",
       "      <td>0.89</td>\n",
       "      <td>0.06</td>\n",
       "      <td>6461.0</td>\n",
       "      <td>Sub-Saharan Africa</td>\n",
       "      <td>NaN</td>\n",
       "    </tr>\n",
       "    <tr>\n",
       "      <th>2467</th>\n",
       "      <td>Cote dIvoire</td>\n",
       "      <td>1995</td>\n",
       "      <td>56.0</td>\n",
       "      <td>24.2</td>\n",
       "      <td>14.9</td>\n",
       "      <td>16.6</td>\n",
       "      <td>4.1</td>\n",
       "      <td>3.1</td>\n",
       "      <td>1.7</td>\n",
       "      <td>3.46</td>\n",
       "      <td>2.36</td>\n",
       "      <td>1.00</td>\n",
       "      <td>0.10</td>\n",
       "      <td>7626.0</td>\n",
       "      <td>Sub-Saharan Africa</td>\n",
       "      <td>NaN</td>\n",
       "    </tr>\n",
       "    <tr>\n",
       "      <th>2468</th>\n",
       "      <td>Cote dIvoire</td>\n",
       "      <td>2000</td>\n",
       "      <td>47.1</td>\n",
       "      <td>32.1</td>\n",
       "      <td>20.6</td>\n",
       "      <td>16.8</td>\n",
       "      <td>5.1</td>\n",
       "      <td>4.0</td>\n",
       "      <td>2.4</td>\n",
       "      <td>4.06</td>\n",
       "      <td>2.83</td>\n",
       "      <td>1.11</td>\n",
       "      <td>0.13</td>\n",
       "      <td>8990.0</td>\n",
       "      <td>Sub-Saharan Africa</td>\n",
       "      <td>NaN</td>\n",
       "    </tr>\n",
       "    <tr>\n",
       "      <th>2469</th>\n",
       "      <td>Cote dIvoire</td>\n",
       "      <td>2005</td>\n",
       "      <td>41.8</td>\n",
       "      <td>35.5</td>\n",
       "      <td>23.8</td>\n",
       "      <td>18.6</td>\n",
       "      <td>6.9</td>\n",
       "      <td>4.2</td>\n",
       "      <td>2.5</td>\n",
       "      <td>4.52</td>\n",
       "      <td>3.14</td>\n",
       "      <td>1.24</td>\n",
       "      <td>0.13</td>\n",
       "      <td>9962.0</td>\n",
       "      <td>Sub-Saharan Africa</td>\n",
       "      <td>NaN</td>\n",
       "    </tr>\n",
       "    <tr>\n",
       "      <th>2470</th>\n",
       "      <td>Cote dIvoire</td>\n",
       "      <td>2010</td>\n",
       "      <td>36.9</td>\n",
       "      <td>38.9</td>\n",
       "      <td>26.9</td>\n",
       "      <td>20.0</td>\n",
       "      <td>9.2</td>\n",
       "      <td>4.2</td>\n",
       "      <td>2.5</td>\n",
       "      <td>4.93</td>\n",
       "      <td>3.43</td>\n",
       "      <td>1.37</td>\n",
       "      <td>0.13</td>\n",
       "      <td>11164.0</td>\n",
       "      <td>Sub-Saharan Africa</td>\n",
       "      <td>NaN</td>\n",
       "    </tr>\n",
       "  </tbody>\n",
       "</table>\n",
       "</div>"
      ],
      "text/plain": [
       "           country  year  no_schooling  total_primary  completed_primary  \\\n",
       "2442  Cote dIvoire  1870          97.4            2.6                0.7   \n",
       "2443  Cote dIvoire  1875          97.1            2.9                0.8   \n",
       "2444  Cote dIvoire  1880          96.7            3.3                0.9   \n",
       "2445  Cote dIvoire  1885          96.3            3.7                1.0   \n",
       "2446  Cote dIvoire  1890          95.8            4.2                1.2   \n",
       "2447  Cote dIvoire  1895          95.3            4.7                1.4   \n",
       "2448  Cote dIvoire  1900          94.6            5.4                1.6   \n",
       "2449  Cote dIvoire  1905          94.0            6.0                1.8   \n",
       "2450  Cote dIvoire  1910          93.2            6.8                2.1   \n",
       "2451  Cote dIvoire  1915          92.4            7.6                2.4   \n",
       "2452  Cote dIvoire  1920          91.4            8.6                2.7   \n",
       "2453  Cote dIvoire  1925          90.4            9.6                3.1   \n",
       "2454  Cote dIvoire  1930          89.2           10.8                3.6   \n",
       "2455  Cote dIvoire  1935          89.6           10.1                3.4   \n",
       "2456  Cote dIvoire  1940          89.7            9.6                3.4   \n",
       "2457  Cote dIvoire  1945          89.5            9.5                3.4   \n",
       "2458  Cote dIvoire  1950          85.6           10.8                4.1   \n",
       "2459  Cote dIvoire  1955          85.1           10.9                4.3   \n",
       "2460  Cote dIvoire  1960          84.5           10.9                4.5   \n",
       "2461  Cote dIvoire  1965          83.6           11.1                4.9   \n",
       "2462  Cote dIvoire  1970          81.3           11.5                5.4   \n",
       "2463  Cote dIvoire  1975          78.1           10.4                5.1   \n",
       "2464  Cote dIvoire  1980          73.9           11.9                6.2   \n",
       "2465  Cote dIvoire  1985          70.1           13.7                7.6   \n",
       "2466  Cote dIvoire  1990          66.0           15.6                9.1   \n",
       "2467  Cote dIvoire  1995          56.0           24.2               14.9   \n",
       "2468  Cote dIvoire  2000          47.1           32.1               20.6   \n",
       "2469  Cote dIvoire  2005          41.8           35.5               23.8   \n",
       "2470  Cote dIvoire  2010          36.9           38.9               26.9   \n",
       "\n",
       "      total_secondary  completed_secondary  total_tertiary  \\\n",
       "2442              0.0                  0.0             0.0   \n",
       "2443              0.0                  0.0             0.0   \n",
       "2444              0.0                  0.0             0.0   \n",
       "2445              0.0                  0.0             0.0   \n",
       "2446              0.0                  0.0             0.0   \n",
       "2447              0.0                  0.0             0.0   \n",
       "2448              0.0                  0.0             0.0   \n",
       "2449              0.0                  0.0             0.0   \n",
       "2450              0.1                  0.0             0.0   \n",
       "2451              0.1                  0.0             0.0   \n",
       "2452              0.1                  0.0             0.0   \n",
       "2453              0.1                  0.0             0.0   \n",
       "2454              0.1                  0.0             0.1   \n",
       "2455              0.3                  0.1             0.1   \n",
       "2456              0.5                  0.2             0.2   \n",
       "2457              0.8                  0.3             0.3   \n",
       "2458              3.2                  0.5             0.4   \n",
       "2459              3.4                  0.6             0.6   \n",
       "2460              3.9                  0.7             0.7   \n",
       "2461              4.4                  0.9             0.9   \n",
       "2462              6.1                  1.2             1.1   \n",
       "2463             10.1                  1.9             1.4   \n",
       "2464             12.5                  2.4             1.7   \n",
       "2465             14.3                  2.9             1.9   \n",
       "2466             16.6                  3.6             1.8   \n",
       "2467             16.6                  4.1             3.1   \n",
       "2468             16.8                  5.1             4.0   \n",
       "2469             18.6                  6.9             4.2   \n",
       "2470             20.0                  9.2             4.2   \n",
       "\n",
       "      completed_tertiary  avg_years_total_schooling  \\\n",
       "2442                 0.0                       0.10   \n",
       "2443                 0.0                       0.12   \n",
       "2444                 0.0                       0.13   \n",
       "2445                 0.0                       0.15   \n",
       "2446                 0.0                       0.17   \n",
       "2447                 0.0                       0.19   \n",
       "2448                 0.0                       0.22   \n",
       "2449                 0.0                       0.24   \n",
       "2450                 0.0                       0.28   \n",
       "2451                 0.0                       0.31   \n",
       "2452                 0.0                       0.35   \n",
       "2453                 0.0                       0.40   \n",
       "2454                 0.0                       0.45   \n",
       "2455                 0.1                       0.46   \n",
       "2456                 0.1                       0.48   \n",
       "2457                 0.2                       0.52   \n",
       "2458                 0.3                       0.86   \n",
       "2459                 0.3                       0.91   \n",
       "2460                 0.4                       0.99   \n",
       "2461                 0.5                       1.09   \n",
       "2462                 0.6                       1.33   \n",
       "2463                 0.8                       1.76   \n",
       "2464                 0.9                       2.13   \n",
       "2465                 1.1                       2.46   \n",
       "2466                 1.1                       2.79   \n",
       "2467                 1.7                       3.46   \n",
       "2468                 2.4                       4.06   \n",
       "2469                 2.5                       4.52   \n",
       "2470                 2.5                       4.93   \n",
       "\n",
       "      avg_years_primary_schooling  avg_years_secondary_schooling  \\\n",
       "2442                         0.10                           0.00   \n",
       "2443                         0.11                           0.00   \n",
       "2444                         0.13                           0.00   \n",
       "2445                         0.15                           0.00   \n",
       "2446                         0.16                           0.00   \n",
       "2447                         0.19                           0.00   \n",
       "2448                         0.21                           0.00   \n",
       "2449                         0.24                           0.00   \n",
       "2450                         0.27                           0.00   \n",
       "2451                         0.31                           0.01   \n",
       "2452                         0.35                           0.01   \n",
       "2453                         0.39                           0.01   \n",
       "2454                         0.44                           0.01   \n",
       "2455                         0.43                           0.02   \n",
       "2456                         0.43                           0.04   \n",
       "2457                         0.45                           0.06   \n",
       "2458                         0.67                           0.17   \n",
       "2459                         0.70                           0.19   \n",
       "2460                         0.74                           0.23   \n",
       "2461                         0.80                           0.27   \n",
       "2462                         0.94                           0.36   \n",
       "2463                         1.16                           0.56   \n",
       "2464                         1.39                           0.69   \n",
       "2465                         1.61                           0.79   \n",
       "2466                         1.84                           0.89   \n",
       "2467                         2.36                           1.00   \n",
       "2468                         2.83                           1.11   \n",
       "2469                         3.14                           1.24   \n",
       "2470                         3.43                           1.37   \n",
       "\n",
       "      avg_years_tertiary_schooling  population_1000s              region  \\\n",
       "2442                          0.00             120.0  Sub-Saharan Africa   \n",
       "2443                          0.00             143.0  Sub-Saharan Africa   \n",
       "2444                          0.00             167.0  Sub-Saharan Africa   \n",
       "2445                          0.00             199.0  Sub-Saharan Africa   \n",
       "2446                          0.00             231.0  Sub-Saharan Africa   \n",
       "2447                          0.00             275.0  Sub-Saharan Africa   \n",
       "2448                          0.00             320.0  Sub-Saharan Africa   \n",
       "2449                          0.00             382.0  Sub-Saharan Africa   \n",
       "2450                          0.00             443.0  Sub-Saharan Africa   \n",
       "2451                          0.00             516.0  Sub-Saharan Africa   \n",
       "2452                          0.00             587.0  Sub-Saharan Africa   \n",
       "2453                          0.00             683.0  Sub-Saharan Africa   \n",
       "2454                          0.00             779.0  Sub-Saharan Africa   \n",
       "2455                          0.00             906.0  Sub-Saharan Africa   \n",
       "2456                          0.01            1032.0  Sub-Saharan Africa   \n",
       "2457                          0.01            1201.0  Sub-Saharan Africa   \n",
       "2458                          0.01            1367.0  Sub-Saharan Africa   \n",
       "2459                          0.02            1618.0  Sub-Saharan Africa   \n",
       "2460                          0.02            1914.0  Sub-Saharan Africa   \n",
       "2461                          0.03            2256.0  Sub-Saharan Africa   \n",
       "2462                          0.03            2809.0  Sub-Saharan Africa   \n",
       "2463                          0.04            3464.0  Sub-Saharan Africa   \n",
       "2464                          0.05            4360.0  Sub-Saharan Africa   \n",
       "2465                          0.06            5402.0  Sub-Saharan Africa   \n",
       "2466                          0.06            6461.0  Sub-Saharan Africa   \n",
       "2467                          0.10            7626.0  Sub-Saharan Africa   \n",
       "2468                          0.13            8990.0  Sub-Saharan Africa   \n",
       "2469                          0.13            9962.0  Sub-Saharan Africa   \n",
       "2470                          0.13           11164.0  Sub-Saharan Africa   \n",
       "\n",
       "     iso_alpha  \n",
       "2442       NaN  \n",
       "2443       NaN  \n",
       "2444       NaN  \n",
       "2445       NaN  \n",
       "2446       NaN  \n",
       "2447       NaN  \n",
       "2448       NaN  \n",
       "2449       NaN  \n",
       "2450       NaN  \n",
       "2451       NaN  \n",
       "2452       NaN  \n",
       "2453       NaN  \n",
       "2454       NaN  \n",
       "2455       NaN  \n",
       "2456       NaN  \n",
       "2457       NaN  \n",
       "2458       NaN  \n",
       "2459       NaN  \n",
       "2460       NaN  \n",
       "2461       NaN  \n",
       "2462       NaN  \n",
       "2463       NaN  \n",
       "2464       NaN  \n",
       "2465       NaN  \n",
       "2466       NaN  \n",
       "2467       NaN  \n",
       "2468       NaN  \n",
       "2469       NaN  \n",
       "2470       NaN  "
      ]
     },
     "execution_count": 60,
     "metadata": {},
     "output_type": "execute_result"
    }
   ],
   "source": [
    "df2[df2.isna().any(axis=1) == True]"
   ]
  },
  {
   "cell_type": "code",
   "execution_count": 65,
   "id": "45833566",
   "metadata": {},
   "outputs": [
    {
     "data": {
      "text/html": [
       "<div>\n",
       "<style scoped>\n",
       "    .dataframe tbody tr th:only-of-type {\n",
       "        vertical-align: middle;\n",
       "    }\n",
       "\n",
       "    .dataframe tbody tr th {\n",
       "        vertical-align: top;\n",
       "    }\n",
       "\n",
       "    .dataframe thead th {\n",
       "        text-align: right;\n",
       "    }\n",
       "</style>\n",
       "<table border=\"1\" class=\"dataframe\">\n",
       "  <thead>\n",
       "    <tr style=\"text-align: right;\">\n",
       "      <th></th>\n",
       "      <th>country</th>\n",
       "      <th>year</th>\n",
       "      <th>no_schooling</th>\n",
       "      <th>total_primary</th>\n",
       "      <th>completed_primary</th>\n",
       "      <th>total_secondary</th>\n",
       "      <th>completed_secondary</th>\n",
       "      <th>total_tertiary</th>\n",
       "      <th>completed_tertiary</th>\n",
       "      <th>avg_years_total_schooling</th>\n",
       "      <th>avg_years_primary_schooling</th>\n",
       "      <th>avg_years_secondary_schooling</th>\n",
       "      <th>avg_years_tertiary_schooling</th>\n",
       "      <th>population_1000s</th>\n",
       "      <th>region</th>\n",
       "      <th>iso_alpha</th>\n",
       "    </tr>\n",
       "  </thead>\n",
       "  <tbody>\n",
       "    <tr>\n",
       "      <th>2</th>\n",
       "      <td>Australia</td>\n",
       "      <td>1880</td>\n",
       "      <td>41.5</td>\n",
       "      <td>58.0</td>\n",
       "      <td>9.7</td>\n",
       "      <td>0.3</td>\n",
       "      <td>0.1</td>\n",
       "      <td>0.2</td>\n",
       "      <td>0.1</td>\n",
       "      <td>2.08</td>\n",
       "      <td>2.06</td>\n",
       "      <td>0.02</td>\n",
       "      <td>0.00</td>\n",
       "      <td>1314.0</td>\n",
       "      <td>Advanced Economies</td>\n",
       "      <td>AUS</td>\n",
       "    </tr>\n",
       "    <tr>\n",
       "      <th>35</th>\n",
       "      <td>Austria</td>\n",
       "      <td>1880</td>\n",
       "      <td>58.4</td>\n",
       "      <td>40.6</td>\n",
       "      <td>14.8</td>\n",
       "      <td>0.6</td>\n",
       "      <td>0.1</td>\n",
       "      <td>0.4</td>\n",
       "      <td>0.1</td>\n",
       "      <td>2.37</td>\n",
       "      <td>2.30</td>\n",
       "      <td>0.06</td>\n",
       "      <td>0.01</td>\n",
       "      <td>13645.0</td>\n",
       "      <td>Advanced Economies</td>\n",
       "      <td>AUT</td>\n",
       "    </tr>\n",
       "    <tr>\n",
       "      <th>68</th>\n",
       "      <td>Belgium</td>\n",
       "      <td>1880</td>\n",
       "      <td>45.1</td>\n",
       "      <td>49.7</td>\n",
       "      <td>18.0</td>\n",
       "      <td>4.7</td>\n",
       "      <td>0.9</td>\n",
       "      <td>0.5</td>\n",
       "      <td>0.2</td>\n",
       "      <td>2.55</td>\n",
       "      <td>2.34</td>\n",
       "      <td>0.20</td>\n",
       "      <td>0.01</td>\n",
       "      <td>3316.0</td>\n",
       "      <td>Advanced Economies</td>\n",
       "      <td>BEL</td>\n",
       "    </tr>\n",
       "    <tr>\n",
       "      <th>101</th>\n",
       "      <td>Canada</td>\n",
       "      <td>1880</td>\n",
       "      <td>24.7</td>\n",
       "      <td>72.0</td>\n",
       "      <td>17.4</td>\n",
       "      <td>3.4</td>\n",
       "      <td>0.4</td>\n",
       "      <td>0.0</td>\n",
       "      <td>0.0</td>\n",
       "      <td>3.00</td>\n",
       "      <td>2.88</td>\n",
       "      <td>0.12</td>\n",
       "      <td>0.00</td>\n",
       "      <td>2471.0</td>\n",
       "      <td>Advanced Economies</td>\n",
       "      <td>CAN</td>\n",
       "    </tr>\n",
       "    <tr>\n",
       "      <th>134</th>\n",
       "      <td>Denmark</td>\n",
       "      <td>1880</td>\n",
       "      <td>11.9</td>\n",
       "      <td>85.4</td>\n",
       "      <td>30.9</td>\n",
       "      <td>2.6</td>\n",
       "      <td>0.5</td>\n",
       "      <td>0.0</td>\n",
       "      <td>0.0</td>\n",
       "      <td>2.56</td>\n",
       "      <td>2.44</td>\n",
       "      <td>0.13</td>\n",
       "      <td>0.00</td>\n",
       "      <td>1182.0</td>\n",
       "      <td>Advanced Economies</td>\n",
       "      <td>DNK</td>\n",
       "    </tr>\n",
       "    <tr>\n",
       "      <th>...</th>\n",
       "      <td>...</td>\n",
       "      <td>...</td>\n",
       "      <td>...</td>\n",
       "      <td>...</td>\n",
       "      <td>...</td>\n",
       "      <td>...</td>\n",
       "      <td>...</td>\n",
       "      <td>...</td>\n",
       "      <td>...</td>\n",
       "      <td>...</td>\n",
       "      <td>...</td>\n",
       "      <td>...</td>\n",
       "      <td>...</td>\n",
       "      <td>...</td>\n",
       "      <td>...</td>\n",
       "      <td>...</td>\n",
       "    </tr>\n",
       "    <tr>\n",
       "      <th>2774</th>\n",
       "      <td>Sierra Leone</td>\n",
       "      <td>1880</td>\n",
       "      <td>99.4</td>\n",
       "      <td>0.5</td>\n",
       "      <td>0.3</td>\n",
       "      <td>0.0</td>\n",
       "      <td>0.0</td>\n",
       "      <td>0.0</td>\n",
       "      <td>0.0</td>\n",
       "      <td>0.04</td>\n",
       "      <td>0.03</td>\n",
       "      <td>0.00</td>\n",
       "      <td>0.00</td>\n",
       "      <td>59.0</td>\n",
       "      <td>Sub-Saharan Africa</td>\n",
       "      <td>SLE</td>\n",
       "    </tr>\n",
       "    <tr>\n",
       "      <th>2807</th>\n",
       "      <td>South Africa</td>\n",
       "      <td>1880</td>\n",
       "      <td>81.5</td>\n",
       "      <td>18.5</td>\n",
       "      <td>10.3</td>\n",
       "      <td>0.0</td>\n",
       "      <td>0.0</td>\n",
       "      <td>0.0</td>\n",
       "      <td>0.0</td>\n",
       "      <td>1.01</td>\n",
       "      <td>1.01</td>\n",
       "      <td>0.00</td>\n",
       "      <td>0.00</td>\n",
       "      <td>1977.0</td>\n",
       "      <td>Sub-Saharan Africa</td>\n",
       "      <td>ZAF</td>\n",
       "    </tr>\n",
       "    <tr>\n",
       "      <th>2840</th>\n",
       "      <td>Sudan</td>\n",
       "      <td>1880</td>\n",
       "      <td>99.8</td>\n",
       "      <td>0.2</td>\n",
       "      <td>0.0</td>\n",
       "      <td>0.0</td>\n",
       "      <td>0.0</td>\n",
       "      <td>0.0</td>\n",
       "      <td>0.0</td>\n",
       "      <td>0.01</td>\n",
       "      <td>0.01</td>\n",
       "      <td>0.00</td>\n",
       "      <td>0.00</td>\n",
       "      <td>3602.0</td>\n",
       "      <td>Sub-Saharan Africa</td>\n",
       "      <td>SDN</td>\n",
       "    </tr>\n",
       "    <tr>\n",
       "      <th>2873</th>\n",
       "      <td>Uganda</td>\n",
       "      <td>1880</td>\n",
       "      <td>100.0</td>\n",
       "      <td>0.0</td>\n",
       "      <td>0.0</td>\n",
       "      <td>0.0</td>\n",
       "      <td>0.0</td>\n",
       "      <td>0.0</td>\n",
       "      <td>0.0</td>\n",
       "      <td>0.01</td>\n",
       "      <td>0.00</td>\n",
       "      <td>0.00</td>\n",
       "      <td>0.00</td>\n",
       "      <td>1325.0</td>\n",
       "      <td>Sub-Saharan Africa</td>\n",
       "      <td>UGA</td>\n",
       "    </tr>\n",
       "    <tr>\n",
       "      <th>2906</th>\n",
       "      <td>Zimbabwe</td>\n",
       "      <td>1880</td>\n",
       "      <td>98.9</td>\n",
       "      <td>1.1</td>\n",
       "      <td>0.3</td>\n",
       "      <td>0.0</td>\n",
       "      <td>0.0</td>\n",
       "      <td>0.0</td>\n",
       "      <td>0.0</td>\n",
       "      <td>0.04</td>\n",
       "      <td>0.04</td>\n",
       "      <td>0.00</td>\n",
       "      <td>0.00</td>\n",
       "      <td>739.0</td>\n",
       "      <td>Sub-Saharan Africa</td>\n",
       "      <td>ZWE</td>\n",
       "    </tr>\n",
       "  </tbody>\n",
       "</table>\n",
       "<p>89 rows × 16 columns</p>\n",
       "</div>"
      ],
      "text/plain": [
       "           country  year  no_schooling  total_primary  completed_primary  \\\n",
       "2        Australia  1880          41.5           58.0                9.7   \n",
       "35         Austria  1880          58.4           40.6               14.8   \n",
       "68         Belgium  1880          45.1           49.7               18.0   \n",
       "101         Canada  1880          24.7           72.0               17.4   \n",
       "134        Denmark  1880          11.9           85.4               30.9   \n",
       "...            ...   ...           ...            ...                ...   \n",
       "2774  Sierra Leone  1880          99.4            0.5                0.3   \n",
       "2807  South Africa  1880          81.5           18.5               10.3   \n",
       "2840         Sudan  1880          99.8            0.2                0.0   \n",
       "2873        Uganda  1880         100.0            0.0                0.0   \n",
       "2906      Zimbabwe  1880          98.9            1.1                0.3   \n",
       "\n",
       "      total_secondary  completed_secondary  total_tertiary  \\\n",
       "2                 0.3                  0.1             0.2   \n",
       "35                0.6                  0.1             0.4   \n",
       "68                4.7                  0.9             0.5   \n",
       "101               3.4                  0.4             0.0   \n",
       "134               2.6                  0.5             0.0   \n",
       "...               ...                  ...             ...   \n",
       "2774              0.0                  0.0             0.0   \n",
       "2807              0.0                  0.0             0.0   \n",
       "2840              0.0                  0.0             0.0   \n",
       "2873              0.0                  0.0             0.0   \n",
       "2906              0.0                  0.0             0.0   \n",
       "\n",
       "      completed_tertiary  avg_years_total_schooling  \\\n",
       "2                    0.1                       2.08   \n",
       "35                   0.1                       2.37   \n",
       "68                   0.2                       2.55   \n",
       "101                  0.0                       3.00   \n",
       "134                  0.0                       2.56   \n",
       "...                  ...                        ...   \n",
       "2774                 0.0                       0.04   \n",
       "2807                 0.0                       1.01   \n",
       "2840                 0.0                       0.01   \n",
       "2873                 0.0                       0.01   \n",
       "2906                 0.0                       0.04   \n",
       "\n",
       "      avg_years_primary_schooling  avg_years_secondary_schooling  \\\n",
       "2                            2.06                           0.02   \n",
       "35                           2.30                           0.06   \n",
       "68                           2.34                           0.20   \n",
       "101                          2.88                           0.12   \n",
       "134                          2.44                           0.13   \n",
       "...                           ...                            ...   \n",
       "2774                         0.03                           0.00   \n",
       "2807                         1.01                           0.00   \n",
       "2840                         0.01                           0.00   \n",
       "2873                         0.00                           0.00   \n",
       "2906                         0.04                           0.00   \n",
       "\n",
       "      avg_years_tertiary_schooling  population_1000s              region  \\\n",
       "2                             0.00            1314.0  Advanced Economies   \n",
       "35                            0.01           13645.0  Advanced Economies   \n",
       "68                            0.01            3316.0  Advanced Economies   \n",
       "101                           0.00            2471.0  Advanced Economies   \n",
       "134                           0.00            1182.0  Advanced Economies   \n",
       "...                            ...               ...                 ...   \n",
       "2774                          0.00              59.0  Sub-Saharan Africa   \n",
       "2807                          0.00            1977.0  Sub-Saharan Africa   \n",
       "2840                          0.00            3602.0  Sub-Saharan Africa   \n",
       "2873                          0.00            1325.0  Sub-Saharan Africa   \n",
       "2906                          0.00             739.0  Sub-Saharan Africa   \n",
       "\n",
       "     iso_alpha  \n",
       "2          AUS  \n",
       "35         AUT  \n",
       "68         BEL  \n",
       "101        CAN  \n",
       "134        DNK  \n",
       "...        ...  \n",
       "2774       SLE  \n",
       "2807       ZAF  \n",
       "2840       SDN  \n",
       "2873       UGA  \n",
       "2906       ZWE  \n",
       "\n",
       "[89 rows x 16 columns]"
      ]
     },
     "execution_count": 65,
     "metadata": {},
     "output_type": "execute_result"
    }
   ],
   "source": [
    "df1880 = df2[df2['year'] == 1880]\n",
    "df1880"
   ]
  },
  {
   "cell_type": "code",
   "execution_count": 67,
   "id": "21ccaae2",
   "metadata": {
    "scrolled": true
   },
   "outputs": [
    {
     "data": {
      "text/plain": [
       "array([1870, 1875, 1880, 1885, 1890, 1895, 1900, 1905, 1910, 1915, 1920,\n",
       "       1925, 1930, 1935, 1940, 1945, 1950, 1955, 1960, 1965, 1970, 1975,\n",
       "       1980, 1985, 1990, 1995, 2000, 2005, 2010], dtype=int64)"
      ]
     },
     "execution_count": 67,
     "metadata": {},
     "output_type": "execute_result"
    }
   ],
   "source": [
    "df2['year'].unique()"
   ]
  },
  {
   "cell_type": "code",
   "execution_count": 66,
   "id": "0ba6039a",
   "metadata": {},
   "outputs": [
    {
     "data": {
      "application/vnd.plotly.v1+json": {
       "config": {
        "plotlyServerURL": "https://plot.ly"
       },
       "data": [
        {
         "coloraxis": "coloraxis",
         "customdata": [
          [
           "Australia",
           2.08
          ],
          [
           "Austria",
           2.37
          ],
          [
           "Belgium",
           2.55
          ],
          [
           "Canada",
           3
          ],
          [
           "Denmark",
           2.56
          ],
          [
           "Finland",
           0.17
          ],
          [
           "France",
           1.2
          ],
          [
           "Germany",
           2.67
          ],
          [
           "Greece",
           1.04
          ],
          [
           "Ireland",
           0.97
          ],
          [
           "Italy",
           1.08
          ],
          [
           "Japan",
           0.89
          ],
          [
           "Luxembourg",
           0.06
          ],
          [
           "Netherlands",
           3.11
          ],
          [
           "New Zealand",
           3.67
          ],
          [
           "Norway",
           4.74
          ],
          [
           "Portugal",
           0.42
          ],
          [
           "Spain",
           2.19
          ],
          [
           "Sweden",
           3.86
          ],
          [
           "Switzerland",
           4.48
          ],
          [
           "Türkiye",
           0.02
          ],
          [
           "USA",
           4.79
          ],
          [
           "United Kingdom of Great Britain and Northern Ireland",
           1.14
          ],
          [
           "Cambodia",
           0.01
          ],
          [
           "China",
           0.01
          ],
          [
           "Fiji",
           0.07
          ],
          [
           "Hong Kong",
           0.23
          ],
          [
           "India",
           0.05
          ],
          [
           "Indonesia",
           0.01
          ],
          [
           "Malaysia",
           0.09
          ],
          [
           "Myanmar",
           0.19
          ],
          [
           "Philippines",
           0.09
          ],
          [
           "Korea, Republic of",
           0.01
          ],
          [
           "Sri Lanka",
           0.21
          ],
          [
           "Taiwan",
           0.03
          ],
          [
           "Thailand",
           0.14
          ],
          [
           "Albania",
           0.03
          ],
          [
           "Bulgaria",
           1.09
          ],
          [
           "Hungary",
           2.27
          ],
          [
           "Poland",
           1.59
          ],
          [
           "Russian Federation",
           0.21
          ],
          [
           "Argentina",
           0.62
          ],
          [
           "Barbados",
           1.29
          ],
          [
           "Bolivia, Plurinational State of",
           0.11
          ],
          [
           "Brazil",
           0.23
          ],
          [
           "Chile",
           0.59
          ],
          [
           "Colombia",
           0.43
          ],
          [
           "Costa Rica",
           0.65
          ],
          [
           "Cuba",
           0.22
          ],
          [
           "Dominican Republic",
           0.14
          ],
          [
           "Ecuador",
           0.36
          ],
          [
           "El Salvador",
           0.41
          ],
          [
           "Guatemala",
           0.4
          ],
          [
           "Guyana",
           0.65
          ],
          [
           "Honduras",
           0.43
          ],
          [
           "Jamaica",
           1.02
          ],
          [
           "Mexico",
           0.58
          ],
          [
           "Nicaragua",
           0.29
          ],
          [
           "Panama",
           0.19
          ],
          [
           "Paraguay",
           0.13
          ],
          [
           "Peru",
           0.1
          ],
          [
           "Trinidad and Tobago",
           0.7
          ],
          [
           "Uruguay",
           0.56
          ],
          [
           "Venezuela, Bolivarian Republic of",
           0.02
          ],
          [
           "Algeria",
           0.17
          ],
          [
           "Egypt",
           0.04
          ],
          [
           "Iran, Islamic Republic of",
           0.01
          ],
          [
           "Iraq",
           0.01
          ],
          [
           "Malta",
           0.77
          ],
          [
           "Morocco",
           0.01
          ],
          [
           "Syrian Arab Republic",
           0.04
          ],
          [
           "Tunisia",
           0.01
          ],
          [
           "Benin",
           0.01
          ],
          [
           "Cameroon",
           0.02
          ],
          [
           "Cote dIvoire",
           0.13
          ],
          [
           "Ghana",
           0.03
          ],
          [
           "Kenya",
           0.01
          ],
          [
           "Malawi",
           0.01
          ],
          [
           "Mali",
           0.01
          ],
          [
           "Mauritius",
           0.32
          ],
          [
           "Mozambique",
           0.01
          ],
          [
           "Niger",
           0.01
          ],
          [
           "Réunion",
           0.84
          ],
          [
           "Senegal",
           0.01
          ],
          [
           "Sierra Leone",
           0.04
          ],
          [
           "South Africa",
           1.01
          ],
          [
           "Sudan",
           0.01
          ],
          [
           "Uganda",
           0.01
          ],
          [
           "Zimbabwe",
           0.04
          ]
         ],
         "geo": "geo",
         "hovertemplate": "iso_alpha=%{location}<br>country=%{customdata[0]}<br>avg_years_total_schooling=%{z}<extra></extra>",
         "locations": [
          "AUS",
          "AUT",
          "BEL",
          "CAN",
          "DNK",
          "FIN",
          "FRA",
          "DEU",
          "GRC",
          "IRL",
          "ITA",
          "JPN",
          "LUX",
          "NLD",
          "NZL",
          "NOR",
          "PRT",
          "ESP",
          "SWE",
          "CHE",
          "TUR",
          "USA",
          "GBR",
          "KHM",
          "CHN",
          "FJI",
          "HKG",
          "IND",
          "IDN",
          "MYS",
          "MMR",
          "PHL",
          "KOR",
          "LKA",
          "TWN",
          "THA",
          "ALB",
          "BGR",
          "HUN",
          "POL",
          "RUS",
          "ARG",
          "BRB",
          "BOL",
          "BRA",
          "CHL",
          "COL",
          "CRI",
          "CUB",
          "DOM",
          "ECU",
          "SLV",
          "GTM",
          "GUY",
          "HND",
          "JAM",
          "MEX",
          "NIC",
          "PAN",
          "PRY",
          "PER",
          "TTO",
          "URY",
          "VEN",
          "DZA",
          "EGY",
          "IRN",
          "IRQ",
          "MLT",
          "MAR",
          "SYR",
          "TUN",
          "BEN",
          "CMR",
          null,
          "GHA",
          "KEN",
          "MWI",
          "MLI",
          "MUS",
          "MOZ",
          "NER",
          "REU",
          "SEN",
          "SLE",
          "ZAF",
          "SDN",
          "UGA",
          "ZWE"
         ],
         "name": "",
         "type": "choropleth",
         "z": [
          2.08,
          2.37,
          2.55,
          3,
          2.56,
          0.17,
          1.2,
          2.67,
          1.04,
          0.97,
          1.08,
          0.89,
          0.06,
          3.11,
          3.67,
          4.74,
          0.42,
          2.19,
          3.86,
          4.48,
          0.02,
          4.79,
          1.14,
          0.01,
          0.01,
          0.07,
          0.23,
          0.05,
          0.01,
          0.09,
          0.19,
          0.09,
          0.01,
          0.21,
          0.03,
          0.14,
          0.03,
          1.09,
          2.27,
          1.59,
          0.21,
          0.62,
          1.29,
          0.11,
          0.23,
          0.59,
          0.43,
          0.65,
          0.22,
          0.14,
          0.36,
          0.41,
          0.4,
          0.65,
          0.43,
          1.02,
          0.58,
          0.29,
          0.19,
          0.13,
          0.1,
          0.7,
          0.56,
          0.02,
          0.17,
          0.04,
          0.01,
          0.01,
          0.77,
          0.01,
          0.04,
          0.01,
          0.01,
          0.02,
          0.13,
          0.03,
          0.01,
          0.01,
          0.01,
          0.32,
          0.01,
          0.01,
          0.84,
          0.01,
          0.04,
          1.01,
          0.01,
          0.01,
          0.04
         ]
        }
       ],
       "layout": {
        "coloraxis": {
         "colorbar": {
          "title": {
           "text": "avg_years_total_schooling"
          }
         },
         "colorscale": [
          [
           0,
           "rgb(202, 86, 44)"
          ],
          [
           0.16666666666666666,
           "rgb(222, 138, 90)"
          ],
          [
           0.3333333333333333,
           "rgb(237, 187, 138)"
          ],
          [
           0.5,
           "rgb(246, 237, 189)"
          ],
          [
           0.6666666666666666,
           "rgb(180, 200, 168)"
          ],
          [
           0.8333333333333334,
           "rgb(112, 164, 148)"
          ],
          [
           1,
           "rgb(0, 128, 128)"
          ]
         ]
        },
        "geo": {
         "center": {},
         "domain": {
          "x": [
           0,
           1
          ],
          "y": [
           0,
           1
          ]
         }
        },
        "legend": {
         "tracegroupgap": 0
        },
        "margin": {
         "t": 60
        },
        "template": {
         "data": {
          "bar": [
           {
            "error_x": {
             "color": "#2a3f5f"
            },
            "error_y": {
             "color": "#2a3f5f"
            },
            "marker": {
             "line": {
              "color": "#E5ECF6",
              "width": 0.5
             },
             "pattern": {
              "fillmode": "overlay",
              "size": 10,
              "solidity": 0.2
             }
            },
            "type": "bar"
           }
          ],
          "barpolar": [
           {
            "marker": {
             "line": {
              "color": "#E5ECF6",
              "width": 0.5
             },
             "pattern": {
              "fillmode": "overlay",
              "size": 10,
              "solidity": 0.2
             }
            },
            "type": "barpolar"
           }
          ],
          "carpet": [
           {
            "aaxis": {
             "endlinecolor": "#2a3f5f",
             "gridcolor": "white",
             "linecolor": "white",
             "minorgridcolor": "white",
             "startlinecolor": "#2a3f5f"
            },
            "baxis": {
             "endlinecolor": "#2a3f5f",
             "gridcolor": "white",
             "linecolor": "white",
             "minorgridcolor": "white",
             "startlinecolor": "#2a3f5f"
            },
            "type": "carpet"
           }
          ],
          "choropleth": [
           {
            "colorbar": {
             "outlinewidth": 0,
             "ticks": ""
            },
            "type": "choropleth"
           }
          ],
          "contour": [
           {
            "colorbar": {
             "outlinewidth": 0,
             "ticks": ""
            },
            "colorscale": [
             [
              0,
              "#0d0887"
             ],
             [
              0.1111111111111111,
              "#46039f"
             ],
             [
              0.2222222222222222,
              "#7201a8"
             ],
             [
              0.3333333333333333,
              "#9c179e"
             ],
             [
              0.4444444444444444,
              "#bd3786"
             ],
             [
              0.5555555555555556,
              "#d8576b"
             ],
             [
              0.6666666666666666,
              "#ed7953"
             ],
             [
              0.7777777777777778,
              "#fb9f3a"
             ],
             [
              0.8888888888888888,
              "#fdca26"
             ],
             [
              1,
              "#f0f921"
             ]
            ],
            "type": "contour"
           }
          ],
          "contourcarpet": [
           {
            "colorbar": {
             "outlinewidth": 0,
             "ticks": ""
            },
            "type": "contourcarpet"
           }
          ],
          "heatmap": [
           {
            "colorbar": {
             "outlinewidth": 0,
             "ticks": ""
            },
            "colorscale": [
             [
              0,
              "#0d0887"
             ],
             [
              0.1111111111111111,
              "#46039f"
             ],
             [
              0.2222222222222222,
              "#7201a8"
             ],
             [
              0.3333333333333333,
              "#9c179e"
             ],
             [
              0.4444444444444444,
              "#bd3786"
             ],
             [
              0.5555555555555556,
              "#d8576b"
             ],
             [
              0.6666666666666666,
              "#ed7953"
             ],
             [
              0.7777777777777778,
              "#fb9f3a"
             ],
             [
              0.8888888888888888,
              "#fdca26"
             ],
             [
              1,
              "#f0f921"
             ]
            ],
            "type": "heatmap"
           }
          ],
          "heatmapgl": [
           {
            "colorbar": {
             "outlinewidth": 0,
             "ticks": ""
            },
            "colorscale": [
             [
              0,
              "#0d0887"
             ],
             [
              0.1111111111111111,
              "#46039f"
             ],
             [
              0.2222222222222222,
              "#7201a8"
             ],
             [
              0.3333333333333333,
              "#9c179e"
             ],
             [
              0.4444444444444444,
              "#bd3786"
             ],
             [
              0.5555555555555556,
              "#d8576b"
             ],
             [
              0.6666666666666666,
              "#ed7953"
             ],
             [
              0.7777777777777778,
              "#fb9f3a"
             ],
             [
              0.8888888888888888,
              "#fdca26"
             ],
             [
              1,
              "#f0f921"
             ]
            ],
            "type": "heatmapgl"
           }
          ],
          "histogram": [
           {
            "marker": {
             "pattern": {
              "fillmode": "overlay",
              "size": 10,
              "solidity": 0.2
             }
            },
            "type": "histogram"
           }
          ],
          "histogram2d": [
           {
            "colorbar": {
             "outlinewidth": 0,
             "ticks": ""
            },
            "colorscale": [
             [
              0,
              "#0d0887"
             ],
             [
              0.1111111111111111,
              "#46039f"
             ],
             [
              0.2222222222222222,
              "#7201a8"
             ],
             [
              0.3333333333333333,
              "#9c179e"
             ],
             [
              0.4444444444444444,
              "#bd3786"
             ],
             [
              0.5555555555555556,
              "#d8576b"
             ],
             [
              0.6666666666666666,
              "#ed7953"
             ],
             [
              0.7777777777777778,
              "#fb9f3a"
             ],
             [
              0.8888888888888888,
              "#fdca26"
             ],
             [
              1,
              "#f0f921"
             ]
            ],
            "type": "histogram2d"
           }
          ],
          "histogram2dcontour": [
           {
            "colorbar": {
             "outlinewidth": 0,
             "ticks": ""
            },
            "colorscale": [
             [
              0,
              "#0d0887"
             ],
             [
              0.1111111111111111,
              "#46039f"
             ],
             [
              0.2222222222222222,
              "#7201a8"
             ],
             [
              0.3333333333333333,
              "#9c179e"
             ],
             [
              0.4444444444444444,
              "#bd3786"
             ],
             [
              0.5555555555555556,
              "#d8576b"
             ],
             [
              0.6666666666666666,
              "#ed7953"
             ],
             [
              0.7777777777777778,
              "#fb9f3a"
             ],
             [
              0.8888888888888888,
              "#fdca26"
             ],
             [
              1,
              "#f0f921"
             ]
            ],
            "type": "histogram2dcontour"
           }
          ],
          "mesh3d": [
           {
            "colorbar": {
             "outlinewidth": 0,
             "ticks": ""
            },
            "type": "mesh3d"
           }
          ],
          "parcoords": [
           {
            "line": {
             "colorbar": {
              "outlinewidth": 0,
              "ticks": ""
             }
            },
            "type": "parcoords"
           }
          ],
          "pie": [
           {
            "automargin": true,
            "type": "pie"
           }
          ],
          "scatter": [
           {
            "fillpattern": {
             "fillmode": "overlay",
             "size": 10,
             "solidity": 0.2
            },
            "type": "scatter"
           }
          ],
          "scatter3d": [
           {
            "line": {
             "colorbar": {
              "outlinewidth": 0,
              "ticks": ""
             }
            },
            "marker": {
             "colorbar": {
              "outlinewidth": 0,
              "ticks": ""
             }
            },
            "type": "scatter3d"
           }
          ],
          "scattercarpet": [
           {
            "marker": {
             "colorbar": {
              "outlinewidth": 0,
              "ticks": ""
             }
            },
            "type": "scattercarpet"
           }
          ],
          "scattergeo": [
           {
            "marker": {
             "colorbar": {
              "outlinewidth": 0,
              "ticks": ""
             }
            },
            "type": "scattergeo"
           }
          ],
          "scattergl": [
           {
            "marker": {
             "colorbar": {
              "outlinewidth": 0,
              "ticks": ""
             }
            },
            "type": "scattergl"
           }
          ],
          "scattermapbox": [
           {
            "marker": {
             "colorbar": {
              "outlinewidth": 0,
              "ticks": ""
             }
            },
            "type": "scattermapbox"
           }
          ],
          "scatterpolar": [
           {
            "marker": {
             "colorbar": {
              "outlinewidth": 0,
              "ticks": ""
             }
            },
            "type": "scatterpolar"
           }
          ],
          "scatterpolargl": [
           {
            "marker": {
             "colorbar": {
              "outlinewidth": 0,
              "ticks": ""
             }
            },
            "type": "scatterpolargl"
           }
          ],
          "scatterternary": [
           {
            "marker": {
             "colorbar": {
              "outlinewidth": 0,
              "ticks": ""
             }
            },
            "type": "scatterternary"
           }
          ],
          "surface": [
           {
            "colorbar": {
             "outlinewidth": 0,
             "ticks": ""
            },
            "colorscale": [
             [
              0,
              "#0d0887"
             ],
             [
              0.1111111111111111,
              "#46039f"
             ],
             [
              0.2222222222222222,
              "#7201a8"
             ],
             [
              0.3333333333333333,
              "#9c179e"
             ],
             [
              0.4444444444444444,
              "#bd3786"
             ],
             [
              0.5555555555555556,
              "#d8576b"
             ],
             [
              0.6666666666666666,
              "#ed7953"
             ],
             [
              0.7777777777777778,
              "#fb9f3a"
             ],
             [
              0.8888888888888888,
              "#fdca26"
             ],
             [
              1,
              "#f0f921"
             ]
            ],
            "type": "surface"
           }
          ],
          "table": [
           {
            "cells": {
             "fill": {
              "color": "#EBF0F8"
             },
             "line": {
              "color": "white"
             }
            },
            "header": {
             "fill": {
              "color": "#C8D4E3"
             },
             "line": {
              "color": "white"
             }
            },
            "type": "table"
           }
          ]
         },
         "layout": {
          "annotationdefaults": {
           "arrowcolor": "#2a3f5f",
           "arrowhead": 0,
           "arrowwidth": 1
          },
          "autotypenumbers": "strict",
          "coloraxis": {
           "colorbar": {
            "outlinewidth": 0,
            "ticks": ""
           }
          },
          "colorscale": {
           "diverging": [
            [
             0,
             "#8e0152"
            ],
            [
             0.1,
             "#c51b7d"
            ],
            [
             0.2,
             "#de77ae"
            ],
            [
             0.3,
             "#f1b6da"
            ],
            [
             0.4,
             "#fde0ef"
            ],
            [
             0.5,
             "#f7f7f7"
            ],
            [
             0.6,
             "#e6f5d0"
            ],
            [
             0.7,
             "#b8e186"
            ],
            [
             0.8,
             "#7fbc41"
            ],
            [
             0.9,
             "#4d9221"
            ],
            [
             1,
             "#276419"
            ]
           ],
           "sequential": [
            [
             0,
             "#0d0887"
            ],
            [
             0.1111111111111111,
             "#46039f"
            ],
            [
             0.2222222222222222,
             "#7201a8"
            ],
            [
             0.3333333333333333,
             "#9c179e"
            ],
            [
             0.4444444444444444,
             "#bd3786"
            ],
            [
             0.5555555555555556,
             "#d8576b"
            ],
            [
             0.6666666666666666,
             "#ed7953"
            ],
            [
             0.7777777777777778,
             "#fb9f3a"
            ],
            [
             0.8888888888888888,
             "#fdca26"
            ],
            [
             1,
             "#f0f921"
            ]
           ],
           "sequentialminus": [
            [
             0,
             "#0d0887"
            ],
            [
             0.1111111111111111,
             "#46039f"
            ],
            [
             0.2222222222222222,
             "#7201a8"
            ],
            [
             0.3333333333333333,
             "#9c179e"
            ],
            [
             0.4444444444444444,
             "#bd3786"
            ],
            [
             0.5555555555555556,
             "#d8576b"
            ],
            [
             0.6666666666666666,
             "#ed7953"
            ],
            [
             0.7777777777777778,
             "#fb9f3a"
            ],
            [
             0.8888888888888888,
             "#fdca26"
            ],
            [
             1,
             "#f0f921"
            ]
           ]
          },
          "colorway": [
           "#636efa",
           "#EF553B",
           "#00cc96",
           "#ab63fa",
           "#FFA15A",
           "#19d3f3",
           "#FF6692",
           "#B6E880",
           "#FF97FF",
           "#FECB52"
          ],
          "font": {
           "color": "#2a3f5f"
          },
          "geo": {
           "bgcolor": "white",
           "lakecolor": "white",
           "landcolor": "#E5ECF6",
           "showlakes": true,
           "showland": true,
           "subunitcolor": "white"
          },
          "hoverlabel": {
           "align": "left"
          },
          "hovermode": "closest",
          "mapbox": {
           "style": "light"
          },
          "paper_bgcolor": "white",
          "plot_bgcolor": "#E5ECF6",
          "polar": {
           "angularaxis": {
            "gridcolor": "white",
            "linecolor": "white",
            "ticks": ""
           },
           "bgcolor": "#E5ECF6",
           "radialaxis": {
            "gridcolor": "white",
            "linecolor": "white",
            "ticks": ""
           }
          },
          "scene": {
           "xaxis": {
            "backgroundcolor": "#E5ECF6",
            "gridcolor": "white",
            "gridwidth": 2,
            "linecolor": "white",
            "showbackground": true,
            "ticks": "",
            "zerolinecolor": "white"
           },
           "yaxis": {
            "backgroundcolor": "#E5ECF6",
            "gridcolor": "white",
            "gridwidth": 2,
            "linecolor": "white",
            "showbackground": true,
            "ticks": "",
            "zerolinecolor": "white"
           },
           "zaxis": {
            "backgroundcolor": "#E5ECF6",
            "gridcolor": "white",
            "gridwidth": 2,
            "linecolor": "white",
            "showbackground": true,
            "ticks": "",
            "zerolinecolor": "white"
           }
          },
          "shapedefaults": {
           "line": {
            "color": "#2a3f5f"
           }
          },
          "ternary": {
           "aaxis": {
            "gridcolor": "white",
            "linecolor": "white",
            "ticks": ""
           },
           "baxis": {
            "gridcolor": "white",
            "linecolor": "white",
            "ticks": ""
           },
           "bgcolor": "#E5ECF6",
           "caxis": {
            "gridcolor": "white",
            "linecolor": "white",
            "ticks": ""
           }
          },
          "title": {
           "x": 0.05
          },
          "xaxis": {
           "automargin": true,
           "gridcolor": "white",
           "linecolor": "white",
           "ticks": "",
           "title": {
            "standoff": 15
           },
           "zerolinecolor": "white",
           "zerolinewidth": 2
          },
          "yaxis": {
           "automargin": true,
           "gridcolor": "white",
           "linecolor": "white",
           "ticks": "",
           "title": {
            "standoff": 15
           },
           "zerolinecolor": "white",
           "zerolinewidth": 2
          }
         }
        }
       }
      },
      "text/html": [
       "<div>                            <div id=\"d44bbcf4-3f41-46f2-ab35-13f31fab2af3\" class=\"plotly-graph-div\" style=\"height:525px; width:100%;\"></div>            <script type=\"text/javascript\">                require([\"plotly\"], function(Plotly) {                    window.PLOTLYENV=window.PLOTLYENV || {};                                    if (document.getElementById(\"d44bbcf4-3f41-46f2-ab35-13f31fab2af3\")) {                    Plotly.newPlot(                        \"d44bbcf4-3f41-46f2-ab35-13f31fab2af3\",                        [{\"coloraxis\":\"coloraxis\",\"customdata\":[[\"Australia\",2.08],[\"Austria\",2.37],[\"Belgium\",2.55],[\"Canada\",3.0],[\"Denmark\",2.56],[\"Finland\",0.17],[\"France\",1.2],[\"Germany\",2.67],[\"Greece\",1.04],[\"Ireland\",0.97],[\"Italy\",1.08],[\"Japan\",0.89],[\"Luxembourg\",0.06],[\"Netherlands\",3.11],[\"New Zealand\",3.67],[\"Norway\",4.74],[\"Portugal\",0.42],[\"Spain\",2.19],[\"Sweden\",3.86],[\"Switzerland\",4.48],[\"T\\u00fcrkiye\",0.02],[\"USA\",4.79],[\"United Kingdom of Great Britain and Northern Ireland\",1.14],[\"Cambodia\",0.01],[\"China\",0.01],[\"Fiji\",0.07],[\"Hong Kong\",0.23],[\"India\",0.05],[\"Indonesia\",0.01],[\"Malaysia\",0.09],[\"Myanmar\",0.19],[\"Philippines\",0.09],[\"Korea, Republic of\",0.01],[\"Sri Lanka\",0.21],[\"Taiwan\",0.03],[\"Thailand\",0.14],[\"Albania\",0.03],[\"Bulgaria\",1.09],[\"Hungary\",2.27],[\"Poland\",1.59],[\"Russian Federation\",0.21],[\"Argentina\",0.62],[\"Barbados\",1.29],[\"Bolivia, Plurinational State of\",0.11],[\"Brazil\",0.23],[\"Chile\",0.59],[\"Colombia\",0.43],[\"Costa Rica\",0.65],[\"Cuba\",0.22],[\"Dominican Republic\",0.14],[\"Ecuador\",0.36],[\"El Salvador\",0.41],[\"Guatemala\",0.4],[\"Guyana\",0.65],[\"Honduras\",0.43],[\"Jamaica\",1.02],[\"Mexico\",0.58],[\"Nicaragua\",0.29],[\"Panama\",0.19],[\"Paraguay\",0.13],[\"Peru\",0.1],[\"Trinidad and Tobago\",0.7],[\"Uruguay\",0.56],[\"Venezuela, Bolivarian Republic of\",0.02],[\"Algeria\",0.17],[\"Egypt\",0.04],[\"Iran, Islamic Republic of\",0.01],[\"Iraq\",0.01],[\"Malta\",0.77],[\"Morocco\",0.01],[\"Syrian Arab Republic\",0.04],[\"Tunisia\",0.01],[\"Benin\",0.01],[\"Cameroon\",0.02],[\"Cote dIvoire\",0.13],[\"Ghana\",0.03],[\"Kenya\",0.01],[\"Malawi\",0.01],[\"Mali\",0.01],[\"Mauritius\",0.32],[\"Mozambique\",0.01],[\"Niger\",0.01],[\"R\\u00e9union\",0.84],[\"Senegal\",0.01],[\"Sierra Leone\",0.04],[\"South Africa\",1.01],[\"Sudan\",0.01],[\"Uganda\",0.01],[\"Zimbabwe\",0.04]],\"geo\":\"geo\",\"hovertemplate\":\"iso_alpha=%{location}<br>country=%{customdata[0]}<br>avg_years_total_schooling=%{z}<extra></extra>\",\"locations\":[\"AUS\",\"AUT\",\"BEL\",\"CAN\",\"DNK\",\"FIN\",\"FRA\",\"DEU\",\"GRC\",\"IRL\",\"ITA\",\"JPN\",\"LUX\",\"NLD\",\"NZL\",\"NOR\",\"PRT\",\"ESP\",\"SWE\",\"CHE\",\"TUR\",\"USA\",\"GBR\",\"KHM\",\"CHN\",\"FJI\",\"HKG\",\"IND\",\"IDN\",\"MYS\",\"MMR\",\"PHL\",\"KOR\",\"LKA\",\"TWN\",\"THA\",\"ALB\",\"BGR\",\"HUN\",\"POL\",\"RUS\",\"ARG\",\"BRB\",\"BOL\",\"BRA\",\"CHL\",\"COL\",\"CRI\",\"CUB\",\"DOM\",\"ECU\",\"SLV\",\"GTM\",\"GUY\",\"HND\",\"JAM\",\"MEX\",\"NIC\",\"PAN\",\"PRY\",\"PER\",\"TTO\",\"URY\",\"VEN\",\"DZA\",\"EGY\",\"IRN\",\"IRQ\",\"MLT\",\"MAR\",\"SYR\",\"TUN\",\"BEN\",\"CMR\",null,\"GHA\",\"KEN\",\"MWI\",\"MLI\",\"MUS\",\"MOZ\",\"NER\",\"REU\",\"SEN\",\"SLE\",\"ZAF\",\"SDN\",\"UGA\",\"ZWE\"],\"name\":\"\",\"z\":[2.08,2.37,2.55,3.0,2.56,0.17,1.2,2.67,1.04,0.97,1.08,0.89,0.06,3.11,3.67,4.74,0.42,2.19,3.86,4.48,0.02,4.79,1.14,0.01,0.01,0.07,0.23,0.05,0.01,0.09,0.19,0.09,0.01,0.21,0.03,0.14,0.03,1.09,2.27,1.59,0.21,0.62,1.29,0.11,0.23,0.59,0.43,0.65,0.22,0.14,0.36,0.41,0.4,0.65,0.43,1.02,0.58,0.29,0.19,0.13,0.1,0.7,0.56,0.02,0.17,0.04,0.01,0.01,0.77,0.01,0.04,0.01,0.01,0.02,0.13,0.03,0.01,0.01,0.01,0.32,0.01,0.01,0.84,0.01,0.04,1.01,0.01,0.01,0.04],\"type\":\"choropleth\"}],                        {\"template\":{\"data\":{\"histogram2dcontour\":[{\"type\":\"histogram2dcontour\",\"colorbar\":{\"outlinewidth\":0,\"ticks\":\"\"},\"colorscale\":[[0.0,\"#0d0887\"],[0.1111111111111111,\"#46039f\"],[0.2222222222222222,\"#7201a8\"],[0.3333333333333333,\"#9c179e\"],[0.4444444444444444,\"#bd3786\"],[0.5555555555555556,\"#d8576b\"],[0.6666666666666666,\"#ed7953\"],[0.7777777777777778,\"#fb9f3a\"],[0.8888888888888888,\"#fdca26\"],[1.0,\"#f0f921\"]]}],\"choropleth\":[{\"type\":\"choropleth\",\"colorbar\":{\"outlinewidth\":0,\"ticks\":\"\"}}],\"histogram2d\":[{\"type\":\"histogram2d\",\"colorbar\":{\"outlinewidth\":0,\"ticks\":\"\"},\"colorscale\":[[0.0,\"#0d0887\"],[0.1111111111111111,\"#46039f\"],[0.2222222222222222,\"#7201a8\"],[0.3333333333333333,\"#9c179e\"],[0.4444444444444444,\"#bd3786\"],[0.5555555555555556,\"#d8576b\"],[0.6666666666666666,\"#ed7953\"],[0.7777777777777778,\"#fb9f3a\"],[0.8888888888888888,\"#fdca26\"],[1.0,\"#f0f921\"]]}],\"heatmap\":[{\"type\":\"heatmap\",\"colorbar\":{\"outlinewidth\":0,\"ticks\":\"\"},\"colorscale\":[[0.0,\"#0d0887\"],[0.1111111111111111,\"#46039f\"],[0.2222222222222222,\"#7201a8\"],[0.3333333333333333,\"#9c179e\"],[0.4444444444444444,\"#bd3786\"],[0.5555555555555556,\"#d8576b\"],[0.6666666666666666,\"#ed7953\"],[0.7777777777777778,\"#fb9f3a\"],[0.8888888888888888,\"#fdca26\"],[1.0,\"#f0f921\"]]}],\"heatmapgl\":[{\"type\":\"heatmapgl\",\"colorbar\":{\"outlinewidth\":0,\"ticks\":\"\"},\"colorscale\":[[0.0,\"#0d0887\"],[0.1111111111111111,\"#46039f\"],[0.2222222222222222,\"#7201a8\"],[0.3333333333333333,\"#9c179e\"],[0.4444444444444444,\"#bd3786\"],[0.5555555555555556,\"#d8576b\"],[0.6666666666666666,\"#ed7953\"],[0.7777777777777778,\"#fb9f3a\"],[0.8888888888888888,\"#fdca26\"],[1.0,\"#f0f921\"]]}],\"contourcarpet\":[{\"type\":\"contourcarpet\",\"colorbar\":{\"outlinewidth\":0,\"ticks\":\"\"}}],\"contour\":[{\"type\":\"contour\",\"colorbar\":{\"outlinewidth\":0,\"ticks\":\"\"},\"colorscale\":[[0.0,\"#0d0887\"],[0.1111111111111111,\"#46039f\"],[0.2222222222222222,\"#7201a8\"],[0.3333333333333333,\"#9c179e\"],[0.4444444444444444,\"#bd3786\"],[0.5555555555555556,\"#d8576b\"],[0.6666666666666666,\"#ed7953\"],[0.7777777777777778,\"#fb9f3a\"],[0.8888888888888888,\"#fdca26\"],[1.0,\"#f0f921\"]]}],\"surface\":[{\"type\":\"surface\",\"colorbar\":{\"outlinewidth\":0,\"ticks\":\"\"},\"colorscale\":[[0.0,\"#0d0887\"],[0.1111111111111111,\"#46039f\"],[0.2222222222222222,\"#7201a8\"],[0.3333333333333333,\"#9c179e\"],[0.4444444444444444,\"#bd3786\"],[0.5555555555555556,\"#d8576b\"],[0.6666666666666666,\"#ed7953\"],[0.7777777777777778,\"#fb9f3a\"],[0.8888888888888888,\"#fdca26\"],[1.0,\"#f0f921\"]]}],\"mesh3d\":[{\"type\":\"mesh3d\",\"colorbar\":{\"outlinewidth\":0,\"ticks\":\"\"}}],\"scatter\":[{\"fillpattern\":{\"fillmode\":\"overlay\",\"size\":10,\"solidity\":0.2},\"type\":\"scatter\"}],\"parcoords\":[{\"type\":\"parcoords\",\"line\":{\"colorbar\":{\"outlinewidth\":0,\"ticks\":\"\"}}}],\"scatterpolargl\":[{\"type\":\"scatterpolargl\",\"marker\":{\"colorbar\":{\"outlinewidth\":0,\"ticks\":\"\"}}}],\"bar\":[{\"error_x\":{\"color\":\"#2a3f5f\"},\"error_y\":{\"color\":\"#2a3f5f\"},\"marker\":{\"line\":{\"color\":\"#E5ECF6\",\"width\":0.5},\"pattern\":{\"fillmode\":\"overlay\",\"size\":10,\"solidity\":0.2}},\"type\":\"bar\"}],\"scattergeo\":[{\"type\":\"scattergeo\",\"marker\":{\"colorbar\":{\"outlinewidth\":0,\"ticks\":\"\"}}}],\"scatterpolar\":[{\"type\":\"scatterpolar\",\"marker\":{\"colorbar\":{\"outlinewidth\":0,\"ticks\":\"\"}}}],\"histogram\":[{\"marker\":{\"pattern\":{\"fillmode\":\"overlay\",\"size\":10,\"solidity\":0.2}},\"type\":\"histogram\"}],\"scattergl\":[{\"type\":\"scattergl\",\"marker\":{\"colorbar\":{\"outlinewidth\":0,\"ticks\":\"\"}}}],\"scatter3d\":[{\"type\":\"scatter3d\",\"line\":{\"colorbar\":{\"outlinewidth\":0,\"ticks\":\"\"}},\"marker\":{\"colorbar\":{\"outlinewidth\":0,\"ticks\":\"\"}}}],\"scattermapbox\":[{\"type\":\"scattermapbox\",\"marker\":{\"colorbar\":{\"outlinewidth\":0,\"ticks\":\"\"}}}],\"scatterternary\":[{\"type\":\"scatterternary\",\"marker\":{\"colorbar\":{\"outlinewidth\":0,\"ticks\":\"\"}}}],\"scattercarpet\":[{\"type\":\"scattercarpet\",\"marker\":{\"colorbar\":{\"outlinewidth\":0,\"ticks\":\"\"}}}],\"carpet\":[{\"aaxis\":{\"endlinecolor\":\"#2a3f5f\",\"gridcolor\":\"white\",\"linecolor\":\"white\",\"minorgridcolor\":\"white\",\"startlinecolor\":\"#2a3f5f\"},\"baxis\":{\"endlinecolor\":\"#2a3f5f\",\"gridcolor\":\"white\",\"linecolor\":\"white\",\"minorgridcolor\":\"white\",\"startlinecolor\":\"#2a3f5f\"},\"type\":\"carpet\"}],\"table\":[{\"cells\":{\"fill\":{\"color\":\"#EBF0F8\"},\"line\":{\"color\":\"white\"}},\"header\":{\"fill\":{\"color\":\"#C8D4E3\"},\"line\":{\"color\":\"white\"}},\"type\":\"table\"}],\"barpolar\":[{\"marker\":{\"line\":{\"color\":\"#E5ECF6\",\"width\":0.5},\"pattern\":{\"fillmode\":\"overlay\",\"size\":10,\"solidity\":0.2}},\"type\":\"barpolar\"}],\"pie\":[{\"automargin\":true,\"type\":\"pie\"}]},\"layout\":{\"autotypenumbers\":\"strict\",\"colorway\":[\"#636efa\",\"#EF553B\",\"#00cc96\",\"#ab63fa\",\"#FFA15A\",\"#19d3f3\",\"#FF6692\",\"#B6E880\",\"#FF97FF\",\"#FECB52\"],\"font\":{\"color\":\"#2a3f5f\"},\"hovermode\":\"closest\",\"hoverlabel\":{\"align\":\"left\"},\"paper_bgcolor\":\"white\",\"plot_bgcolor\":\"#E5ECF6\",\"polar\":{\"bgcolor\":\"#E5ECF6\",\"angularaxis\":{\"gridcolor\":\"white\",\"linecolor\":\"white\",\"ticks\":\"\"},\"radialaxis\":{\"gridcolor\":\"white\",\"linecolor\":\"white\",\"ticks\":\"\"}},\"ternary\":{\"bgcolor\":\"#E5ECF6\",\"aaxis\":{\"gridcolor\":\"white\",\"linecolor\":\"white\",\"ticks\":\"\"},\"baxis\":{\"gridcolor\":\"white\",\"linecolor\":\"white\",\"ticks\":\"\"},\"caxis\":{\"gridcolor\":\"white\",\"linecolor\":\"white\",\"ticks\":\"\"}},\"coloraxis\":{\"colorbar\":{\"outlinewidth\":0,\"ticks\":\"\"}},\"colorscale\":{\"sequential\":[[0.0,\"#0d0887\"],[0.1111111111111111,\"#46039f\"],[0.2222222222222222,\"#7201a8\"],[0.3333333333333333,\"#9c179e\"],[0.4444444444444444,\"#bd3786\"],[0.5555555555555556,\"#d8576b\"],[0.6666666666666666,\"#ed7953\"],[0.7777777777777778,\"#fb9f3a\"],[0.8888888888888888,\"#fdca26\"],[1.0,\"#f0f921\"]],\"sequentialminus\":[[0.0,\"#0d0887\"],[0.1111111111111111,\"#46039f\"],[0.2222222222222222,\"#7201a8\"],[0.3333333333333333,\"#9c179e\"],[0.4444444444444444,\"#bd3786\"],[0.5555555555555556,\"#d8576b\"],[0.6666666666666666,\"#ed7953\"],[0.7777777777777778,\"#fb9f3a\"],[0.8888888888888888,\"#fdca26\"],[1.0,\"#f0f921\"]],\"diverging\":[[0,\"#8e0152\"],[0.1,\"#c51b7d\"],[0.2,\"#de77ae\"],[0.3,\"#f1b6da\"],[0.4,\"#fde0ef\"],[0.5,\"#f7f7f7\"],[0.6,\"#e6f5d0\"],[0.7,\"#b8e186\"],[0.8,\"#7fbc41\"],[0.9,\"#4d9221\"],[1,\"#276419\"]]},\"xaxis\":{\"gridcolor\":\"white\",\"linecolor\":\"white\",\"ticks\":\"\",\"title\":{\"standoff\":15},\"zerolinecolor\":\"white\",\"automargin\":true,\"zerolinewidth\":2},\"yaxis\":{\"gridcolor\":\"white\",\"linecolor\":\"white\",\"ticks\":\"\",\"title\":{\"standoff\":15},\"zerolinecolor\":\"white\",\"automargin\":true,\"zerolinewidth\":2},\"scene\":{\"xaxis\":{\"backgroundcolor\":\"#E5ECF6\",\"gridcolor\":\"white\",\"linecolor\":\"white\",\"showbackground\":true,\"ticks\":\"\",\"zerolinecolor\":\"white\",\"gridwidth\":2},\"yaxis\":{\"backgroundcolor\":\"#E5ECF6\",\"gridcolor\":\"white\",\"linecolor\":\"white\",\"showbackground\":true,\"ticks\":\"\",\"zerolinecolor\":\"white\",\"gridwidth\":2},\"zaxis\":{\"backgroundcolor\":\"#E5ECF6\",\"gridcolor\":\"white\",\"linecolor\":\"white\",\"showbackground\":true,\"ticks\":\"\",\"zerolinecolor\":\"white\",\"gridwidth\":2}},\"shapedefaults\":{\"line\":{\"color\":\"#2a3f5f\"}},\"annotationdefaults\":{\"arrowcolor\":\"#2a3f5f\",\"arrowhead\":0,\"arrowwidth\":1},\"geo\":{\"bgcolor\":\"white\",\"landcolor\":\"#E5ECF6\",\"subunitcolor\":\"white\",\"showland\":true,\"showlakes\":true,\"lakecolor\":\"white\"},\"title\":{\"x\":0.05},\"mapbox\":{\"style\":\"light\"}}},\"geo\":{\"domain\":{\"x\":[0.0,1.0],\"y\":[0.0,1.0]},\"center\":{}},\"coloraxis\":{\"colorbar\":{\"title\":{\"text\":\"avg_years_total_schooling\"}},\"colorscale\":[[0.0,\"rgb(202, 86, 44)\"],[0.16666666666666666,\"rgb(222, 138, 90)\"],[0.3333333333333333,\"rgb(237, 187, 138)\"],[0.5,\"rgb(246, 237, 189)\"],[0.6666666666666666,\"rgb(180, 200, 168)\"],[0.8333333333333334,\"rgb(112, 164, 148)\"],[1.0,\"rgb(0, 128, 128)\"]]},\"legend\":{\"tracegroupgap\":0},\"margin\":{\"t\":60}},                        {\"responsive\": true}                    ).then(function(){\n",
       "                            \n",
       "var gd = document.getElementById('d44bbcf4-3f41-46f2-ab35-13f31fab2af3');\n",
       "var x = new MutationObserver(function (mutations, observer) {{\n",
       "        var display = window.getComputedStyle(gd).display;\n",
       "        if (!display || display === 'none') {{\n",
       "            console.log([gd, 'removed!']);\n",
       "            Plotly.purge(gd);\n",
       "            observer.disconnect();\n",
       "        }}\n",
       "}});\n",
       "\n",
       "// Listen for the removal of the full notebook cells\n",
       "var notebookContainer = gd.closest('#notebook-container');\n",
       "if (notebookContainer) {{\n",
       "    x.observe(notebookContainer, {childList: true});\n",
       "}}\n",
       "\n",
       "// Listen for the clearing of the current output cell\n",
       "var outputEl = gd.closest('.output');\n",
       "if (outputEl) {{\n",
       "    x.observe(outputEl, {childList: true});\n",
       "}}\n",
       "\n",
       "                        })                };                });            </script>        </div>"
      ]
     },
     "metadata": {},
     "output_type": "display_data"
    }
   ],
   "source": [
    "px.choropleth(data_frame=df1880,\n",
    "             color='avg_years_total_schooling', \n",
    "              locations=\"iso_alpha\",\n",
    "            color_continuous_scale=px.colors.diverging.Geyser_r,\n",
    "             hover_data= ['country', 'avg_years_total_schooling'])"
   ]
  },
  {
   "cell_type": "code",
   "execution_count": null,
   "id": "22383257",
   "metadata": {},
   "outputs": [],
   "source": [
    "df2.to_csv('with_iso_alpha_education.csv')"
   ]
  }
 ],
 "metadata": {
  "kernelspec": {
   "display_name": "Python 3 (ipykernel)",
   "language": "python",
   "name": "python3"
  },
  "language_info": {
   "codemirror_mode": {
    "name": "ipython",
    "version": 3
   },
   "file_extension": ".py",
   "mimetype": "text/x-python",
   "name": "python",
   "nbconvert_exporter": "python",
   "pygments_lexer": "ipython3",
   "version": "3.11.3"
  }
 },
 "nbformat": 4,
 "nbformat_minor": 5
}
